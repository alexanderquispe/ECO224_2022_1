{
 "cells": [
  {
   "cell_type": "code",
   "execution_count": 1,
   "metadata": {},
   "outputs": [
    {
     "ename": "SyntaxError",
     "evalue": "invalid syntax (<ipython-input-1-da0d6a6de3c3>, line 1)",
     "output_type": "error",
     "traceback": [
      "\u001b[1;36m  File \u001b[1;32m\"<ipython-input-1-da0d6a6de3c3>\"\u001b[1;36m, line \u001b[1;32m1\u001b[0m\n\u001b[1;33m    using Plots\u001b[0m\n\u001b[1;37m          ^\u001b[0m\n\u001b[1;31mSyntaxError\u001b[0m\u001b[1;31m:\u001b[0m invalid syntax\n"
     ]
    }
   ],
   "source": [
    "using Plots\n",
    "using Statistics\n",
    " #Auxiliary functions for generating our data\n",
    "function generate_real_data(n)\n",
    "    x1 = rand(1,n) .- 0.5\n",
    "    x2 = (x1 .* x1)*3 .+ randn(1,n)*0.1\n",
    "    return vcat(x1,x2)\n",
    "end\n",
    "function generate_fake_data(n)\n",
    "    θ  = 2*π*rand(1,n)\n",
    "    r  = rand(1,n)/3\n",
    "    x1 = @. r*cos(θ)\n",
    "    x2 = @. r*sin(θ)+0.5\n",
    "    return vcat(x1,x2)\n",
    "end\n",
    "# Creating our data\n",
    "train_size = 5000\n",
    "real = generate_real_data(train_size)\n",
    "fake = generate_fake_data(train_size)\n",
    "# Visualizing\n",
    "scatter(real[1,1:500],real[2,1:500])\n",
    "scatter!(fake[1,1:500],fake[2,1:500])"
   ]
  },
  {
   "cell_type": "code",
   "execution_count": null,
   "metadata": {},
   "outputs": [],
   "source": [
    "function NeuralNetwork()\n",
    "    return Chain(\n",
    "            Dense(2, 25,relu),\n",
    "            Dense(25,1,x->σ.(x))\n",
    "            )\n",
    "end"
   ]
  },
  {
   "cell_type": "code",
   "execution_count": null,
   "metadata": {},
   "outputs": [],
   "source": [
    "# Organizing the data in batches\n",
    "X    = hcat(real,fake)\n",
    "Y    = vcat(ones(train_size),zeros(train_size))\n",
    "data = Flux.Data.DataLoader((X, Y'), batchsize=100,shuffle=true);\n",
    "# Defining our model, optimization algorithm and loss function\n",
    "m    = NeuralNetwork()\n",
    "opt = Descent(0.05)\n",
    "loss(x, y) = sum(Flux.Losses.binarycrossentropy(m(x), y))"
   ]
  }
 ],
 "metadata": {
  "kernelspec": {
   "display_name": "Python 3",
   "language": "python",
   "name": "python3"
  },
  "language_info": {
   "codemirror_mode": {
    "name": "ipython",
    "version": 3
   },
   "file_extension": ".py",
   "mimetype": "text/x-python",
   "name": "python",
   "nbconvert_exporter": "python",
   "pygments_lexer": "ipython3",
   "version": "3.8.3"
  }
 },
 "nbformat": 4,
 "nbformat_minor": 4
}
