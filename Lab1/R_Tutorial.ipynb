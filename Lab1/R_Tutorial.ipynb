{
 "cells": [
  {
   "cell_type": "markdown",
   "metadata": {},
   "source": [
    "# R Basic Tutorial"
   ]
  },
  {
   "cell_type": "markdown",
   "metadata": {},
   "source": [
    "## 1.0 Assignment\n",
    "Use `<-`, not `=`, for assignment.\n",
    "The symbol `=` is preferable for arguments in functions. Additionally, it can not be used in some syntax context. More information [here](https://stackoverflow.com/questions/1741820/what-are-the-differences-between-and-assignment-operators-in-r)."
   ]
  },
  {
   "cell_type": "code",
   "execution_count": 41,
   "metadata": {},
   "outputs": [],
   "source": [
    "a = 1\n",
    "b <- 1"
   ]
  },
  {
   "cell_type": "code",
   "execution_count": 42,
   "metadata": {},
   "outputs": [
    {
     "data": {
      "text/html": [
       "1"
      ],
      "text/latex": [
       "1"
      ],
      "text/markdown": [
       "1"
      ],
      "text/plain": [
       "[1] 1"
      ]
     },
     "metadata": {},
     "output_type": "display_data"
    }
   ],
   "source": [
    "a"
   ]
  },
  {
   "cell_type": "code",
   "execution_count": 43,
   "metadata": {},
   "outputs": [
    {
     "data": {
      "text/html": [
       "1"
      ],
      "text/latex": [
       "1"
      ],
      "text/markdown": [
       "1"
      ],
      "text/plain": [
       "[1] 1"
      ]
     },
     "metadata": {},
     "output_type": "display_data"
    }
   ],
   "source": [
    "b"
   ]
  },
  {
   "cell_type": "code",
   "execution_count": 39,
   "metadata": {},
   "outputs": [
    {
     "ename": "ERROR",
     "evalue": "Error in c <- b = 5: no se pudo encontrar la función \"<-<-\"\n",
     "output_type": "error",
     "traceback": [
      "Error in c <- b = 5: no se pudo encontrar la función \"<-<-\"\nTraceback:\n"
     ]
    }
   ],
   "source": [
    "c <- b = 11"
   ]
  },
  {
   "cell_type": "code",
   "execution_count": 40,
   "metadata": {},
   "outputs": [
    {
     "name": "stdout",
     "output_type": "stream",
     "text": [
      "[1] 11\n"
     ]
    }
   ],
   "source": [
    "c <- b <- 11\n",
    "print(c)"
   ]
  },
  {
   "cell_type": "markdown",
   "metadata": {},
   "source": [
    "## 2.0 Objects"
   ]
  },
  {
   "cell_type": "markdown",
   "metadata": {},
   "source": [
    "### Clases\n",
    "\n",
    "R is a functional programming language. It means that the programs are constructed by applying and composing functions. However, It can use Object Oriented Programming to construct tools for data analysis. Class is the blueprint that helps to create an object and contains its member variable along with the attributes. We have two main classes: S3 and S4. [info](https://www.datacamp.com/community/tutorials/r-objects-and-classes)\n",
    "\n",
    "### Objects\n",
    "Objects are the instance of a class. It means that it has some methods that can act upon its attributes. In R, everything is an object. We will cover four main objects: vector, matrix, list and dataframes. All of them comes from a class."
   ]
  },
  {
   "cell_type": "markdown",
   "metadata": {},
   "source": [
    "#### Data Types\n",
    "There are four data types: `character`, `numeric`, `integer` and `boolean`."
   ]
  },
  {
   "cell_type": "code",
   "execution_count": 48,
   "metadata": {},
   "outputs": [
    {
     "name": "stdout",
     "output_type": "stream",
     "text": [
      "[1] \"character\"\n",
      "[1] \"character\"\n"
     ]
    }
   ],
   "source": [
    "a <- 'Hola'\n",
    "print(class( a ))   # type of object\n",
    "print(typeof( a )) # how object is stored in memory"
   ]
  },
  {
   "cell_type": "code",
   "execution_count": 49,
   "metadata": {},
   "outputs": [
    {
     "name": "stdout",
     "output_type": "stream",
     "text": [
      "[1] \"numeric\"\n"
     ]
    },
    {
     "data": {
      "text/html": [
       "20.5"
      ],
      "text/latex": [
       "20.5"
      ],
      "text/markdown": [
       "20.5"
      ],
      "text/plain": [
       "[1] 20.5"
      ]
     },
     "metadata": {},
     "output_type": "display_data"
    }
   ],
   "source": [
    "b <- 20.5\n",
    "print(class( b ))\n",
    "b"
   ]
  },
  {
   "cell_type": "code",
   "execution_count": 50,
   "metadata": {},
   "outputs": [
    {
     "data": {
      "text/html": [
       "20"
      ],
      "text/latex": [
       "20"
      ],
      "text/markdown": [
       "20"
      ],
      "text/plain": [
       "[1] 20"
      ]
     },
     "metadata": {},
     "output_type": "display_data"
    },
    {
     "name": "stdout",
     "output_type": "stream",
     "text": [
      "[1] \"integer\"\n"
     ]
    }
   ],
   "source": [
    "c <- as.integer(20.5)\n",
    "c\n",
    "print(class( c ))\n"
   ]
  },
  {
   "cell_type": "code",
   "execution_count": 53,
   "metadata": {},
   "outputs": [
    {
     "data": {
      "text/html": [
       "'double'"
      ],
      "text/latex": [
       "'double'"
      ],
      "text/markdown": [
       "'double'"
      ],
      "text/plain": [
       "[1] \"double\""
      ]
     },
     "metadata": {},
     "output_type": "display_data"
    },
    {
     "data": {
      "text/html": [
       "'numeric'"
      ],
      "text/latex": [
       "'numeric'"
      ],
      "text/markdown": [
       "'numeric'"
      ],
      "text/plain": [
       "[1] \"numeric\""
      ]
     },
     "metadata": {},
     "output_type": "display_data"
    }
   ],
   "source": [
    "# typeof helps us to understand how this object is store in memory.\n",
    "typeof(b)\n",
    "# Class helps us to understand the type of a object\n",
    "class(b)"
   ]
  },
  {
   "cell_type": "code",
   "execution_count": 54,
   "metadata": {},
   "outputs": [
    {
     "name": "stdout",
     "output_type": "stream",
     "text": [
      "Machine Learning    Causal inference"
     ]
    }
   ],
   "source": [
    "c1 <- \"Machine Learning\"\n",
    "c2 <- \"Causal inference\"\n",
    "cat(c1,\"  \",c2)"
   ]
  },
  {
   "cell_type": "code",
   "execution_count": 57,
   "metadata": {},
   "outputs": [
    {
     "data": {
      "text/html": [
       "'Machine Learning y Causal inference course'"
      ],
      "text/latex": [
       "'Machine Learning y Causal inference course'"
      ],
      "text/markdown": [
       "'Machine Learning y Causal inference course'"
      ],
      "text/plain": [
       "Machine Learning y Causal inference course"
      ]
     },
     "metadata": {},
     "output_type": "display_data"
    }
   ],
   "source": [
    "#install.packages(\"devtools\")\n",
    "library(glue)\n",
    "glue('{c1} y {c2} course')"
   ]
  },
  {
   "cell_type": "code",
   "execution_count": 65,
   "metadata": {},
   "outputs": [
    {
     "name": "stdout",
     "output_type": "stream",
     "text": [
      "[1] \"logical\"\n",
      "TRUE \n",
      " FALSE \n",
      " TRUE"
     ]
    },
    {
     "data": {
      "text/html": [
       "'integer'"
      ],
      "text/latex": [
       "'integer'"
      ],
      "text/markdown": [
       "'integer'"
      ],
      "text/plain": [
       "[1] \"integer\""
      ]
     },
     "metadata": {},
     "output_type": "display_data"
    },
    {
     "data": {
      "text/html": [
       "'integer'"
      ],
      "text/latex": [
       "'integer'"
      ],
      "text/markdown": [
       "'integer'"
      ],
      "text/plain": [
       "[1] \"integer\""
      ]
     },
     "metadata": {},
     "output_type": "display_data"
    }
   ],
   "source": [
    "# Boolean variables\n",
    "\n",
    "log_true <- TRUE\n",
    "print(class( log_true ))\n",
    "\n",
    "z1 <- (1==1)\n",
    "\n",
    "z2 <- (10 > 20)\n",
    "\n",
    "z3 <- (1==1)\n",
    "\n",
    "cat(z1,'\\n',z2,'\\n',z3)\n",
    "\n",
    "class(as.integer(z3))\n",
    "\n",
    "typeof(as.integer(z3))"
   ]
  },
  {
   "cell_type": "markdown",
   "metadata": {},
   "source": [
    "# 3.0 List\n",
    "\n",
    "A list in R can contain many different data types inside it. A list is a collection of data which is ordered and changeable."
   ]
  },
  {
   "cell_type": "markdown",
   "metadata": {},
   "source": [
    "#### Lists\n",
    "This data structure does not require that all members be of the same data type."
   ]
  },
  {
   "cell_type": "code",
   "execution_count": null,
   "metadata": {},
   "outputs": [],
   "source": [
    "#install.packages(\"rlist\")\n",
    "library(rlist)"
   ]
  },
  {
   "cell_type": "code",
   "execution_count": 126,
   "metadata": {},
   "outputs": [
    {
     "data": {
      "text/html": [
       "<ol>\n",
       "\t<li>'good'</li>\n",
       "\t<li>'bad'</li>\n",
       "\t<li>'ugly'</li>\n",
       "\t<li>'good'</li>\n",
       "\t<li>'bad'</li>\n",
       "\t<li>1</li>\n",
       "</ol>\n"
      ],
      "text/latex": [
       "\\begin{enumerate}\n",
       "\\item 'good'\n",
       "\\item 'bad'\n",
       "\\item 'ugly'\n",
       "\\item 'good'\n",
       "\\item 'bad'\n",
       "\\item 1\n",
       "\\end{enumerate}\n"
      ],
      "text/markdown": [
       "1. 'good'\n",
       "2. 'bad'\n",
       "3. 'ugly'\n",
       "4. 'good'\n",
       "5. 'bad'\n",
       "6. 1\n",
       "\n",
       "\n"
      ],
      "text/plain": [
       "[[1]]\n",
       "[1] \"good\"\n",
       "\n",
       "[[2]]\n",
       "[1] \"bad\"\n",
       "\n",
       "[[3]]\n",
       "[1] \"ugly\"\n",
       "\n",
       "[[4]]\n",
       "[1] \"good\"\n",
       "\n",
       "[[5]]\n",
       "[1] \"bad\"\n",
       "\n",
       "[[6]]\n",
       "[1] 1\n"
      ]
     },
     "metadata": {},
     "output_type": "display_data"
    }
   ],
   "source": [
    "list_1 <- list( \"good\", \"bad\", \"ugly\",\"good\", \"bad\", 1)\n",
    "list_1"
   ]
  },
  {
   "cell_type": "code",
   "execution_count": 127,
   "metadata": {},
   "outputs": [
    {
     "data": {
      "text/html": [
       "<ol>\n",
       "\t<li>'good'</li>\n",
       "\t<li>'bad'</li>\n",
       "\t<li>'ugly'</li>\n",
       "\t<li>'good'</li>\n",
       "\t<li>'bad'</li>\n",
       "\t<li>1</li>\n",
       "\t<li>'bad'</li>\n",
       "</ol>\n"
      ],
      "text/latex": [
       "\\begin{enumerate}\n",
       "\\item 'good'\n",
       "\\item 'bad'\n",
       "\\item 'ugly'\n",
       "\\item 'good'\n",
       "\\item 'bad'\n",
       "\\item 1\n",
       "\\item 'bad'\n",
       "\\end{enumerate}\n"
      ],
      "text/markdown": [
       "1. 'good'\n",
       "2. 'bad'\n",
       "3. 'ugly'\n",
       "4. 'good'\n",
       "5. 'bad'\n",
       "6. 1\n",
       "7. 'bad'\n",
       "\n",
       "\n"
      ],
      "text/plain": [
       "[[1]]\n",
       "[1] \"good\"\n",
       "\n",
       "[[2]]\n",
       "[1] \"bad\"\n",
       "\n",
       "[[3]]\n",
       "[1] \"ugly\"\n",
       "\n",
       "[[4]]\n",
       "[1] \"good\"\n",
       "\n",
       "[[5]]\n",
       "[1] \"bad\"\n",
       "\n",
       "[[6]]\n",
       "[1] 1\n",
       "\n",
       "[[7]]\n",
       "[1] \"bad\"\n"
      ]
     },
     "metadata": {},
     "output_type": "display_data"
    }
   ],
   "source": [
    "list_1 <- append(list_1, \"bad\")\n",
    "list_1"
   ]
  },
  {
   "cell_type": "code",
   "execution_count": 109,
   "metadata": {},
   "outputs": [
    {
     "data": {
      "text/html": [
       "<style>\n",
       ".list-inline {list-style: none; margin:0; padding: 0}\n",
       ".list-inline>li {display: inline-block}\n",
       ".list-inline>li:not(:last-child)::after {content: \"\\00b7\"; padding: 0 .5ex}\n",
       "</style>\n",
       "<ol class=list-inline><li>good</li><li>bad</li><li>ugly</li><li>good</li><li>bad</li><li>ugly</li><li>5</li></ol>\n",
       "\n",
       "<details>\n",
       "\t<summary style=display:list-item;cursor:pointer>\n",
       "\t\t<strong>Levels</strong>:\n",
       "\t</summary>\n",
       "\t<style>\n",
       "\t.list-inline {list-style: none; margin:0; padding: 0}\n",
       "\t.list-inline>li {display: inline-block}\n",
       "\t.list-inline>li:not(:last-child)::after {content: \"\\00b7\"; padding: 0 .5ex}\n",
       "\t</style>\n",
       "\t<ol class=list-inline><li>'5'</li><li>'bad'</li><li>'good'</li><li>'ugly'</li></ol>\n",
       "</details>"
      ],
      "text/latex": [
       "\\begin{enumerate*}\n",
       "\\item good\n",
       "\\item bad\n",
       "\\item ugly\n",
       "\\item good\n",
       "\\item bad\n",
       "\\item ugly\n",
       "\\item 5\n",
       "\\end{enumerate*}\n",
       "\n",
       "\\emph{Levels}: \\begin{enumerate*}\n",
       "\\item '5'\n",
       "\\item 'bad'\n",
       "\\item 'good'\n",
       "\\item 'ugly'\n",
       "\\end{enumerate*}\n"
      ],
      "text/markdown": [
       "1. good\n",
       "2. bad\n",
       "3. ugly\n",
       "4. good\n",
       "5. bad\n",
       "6. ugly\n",
       "7. 5\n",
       "\n",
       "\n",
       "\n",
       "**Levels**: 1. '5'\n",
       "2. 'bad'\n",
       "3. 'good'\n",
       "4. 'ugly'\n",
       "\n",
       "\n"
      ],
      "text/plain": [
       "[1] good bad  ugly good bad  ugly 5   \n",
       "Levels: 5 bad good ugly"
      ]
     },
     "metadata": {},
     "output_type": "display_data"
    }
   ],
   "source": [
    "# factor grouped categorical variables\n",
    "\n",
    "fac_2 <- factor( c( \"good\", \"bad\", \"ugly\",\"good\", \"bad\", \"ugly\", 5 ) )\n",
    "fac_2"
   ]
  },
  {
   "cell_type": "code",
   "execution_count": 115,
   "metadata": {},
   "outputs": [
    {
     "name": "stdout",
     "output_type": "stream",
     "text": [
      "[1] good bad  ugly good bad  ugly\n",
      "Levels: bad good ugly\n"
     ]
    },
    {
     "data": {
      "text/html": [
       "'integer'"
      ],
      "text/latex": [
       "'integer'"
      ],
      "text/markdown": [
       "'integer'"
      ],
      "text/plain": [
       "[1] \"integer\""
      ]
     },
     "metadata": {},
     "output_type": "display_data"
    },
    {
     "data": {
      "text/html": [
       "'factor'"
      ],
      "text/latex": [
       "'factor'"
      ],
      "text/markdown": [
       "'factor'"
      ],
      "text/plain": [
       "[1] \"factor\""
      ]
     },
     "metadata": {},
     "output_type": "display_data"
    }
   ],
   "source": [
    "fac <- factor( c( \"good\", \"bad\", \"ugly\",\"good\", \"bad\", \"ugly\" ) )\n",
    "print( fac )\n",
    "# Type of class\n",
    "typeof( fac )\n",
    "class( fac )"
   ]
  },
  {
   "cell_type": "code",
   "execution_count": 116,
   "metadata": {},
   "outputs": [
    {
     "data": {
      "text/html": [
       "<style>\n",
       ".list-inline {list-style: none; margin:0; padding: 0}\n",
       ".list-inline>li {display: inline-block}\n",
       ".list-inline>li:not(:last-child)::after {content: \"\\00b7\"; padding: 0 .5ex}\n",
       "</style>\n",
       "<ol class=list-inline><li>'bad'</li><li>'good'</li><li>'ugly'</li></ol>\n"
      ],
      "text/latex": [
       "\\begin{enumerate*}\n",
       "\\item 'bad'\n",
       "\\item 'good'\n",
       "\\item 'ugly'\n",
       "\\end{enumerate*}\n"
      ],
      "text/markdown": [
       "1. 'bad'\n",
       "2. 'good'\n",
       "3. 'ugly'\n",
       "\n",
       "\n"
      ],
      "text/plain": [
       "[1] \"bad\"  \"good\" \"ugly\""
      ]
     },
     "metadata": {},
     "output_type": "display_data"
    },
    {
     "data": {
      "text/html": [
       "3"
      ],
      "text/latex": [
       "3"
      ],
      "text/markdown": [
       "3"
      ],
      "text/plain": [
       "[1] 3"
      ]
     },
     "metadata": {},
     "output_type": "display_data"
    }
   ],
   "source": [
    "# Levels o categories \n",
    "levels( fac )\n",
    "# Number of Levels\n",
    "nlevels( fac )"
   ]
  },
  {
   "cell_type": "code",
   "execution_count": 76,
   "metadata": {},
   "outputs": [
    {
     "data": {
      "text/html": [
       "<style>\n",
       ".list-inline {list-style: none; margin:0; padding: 0}\n",
       ".list-inline>li {display: inline-block}\n",
       ".list-inline>li:not(:last-child)::after {content: \"\\00b7\"; padding: 0 .5ex}\n",
       "</style>\n",
       "<ol class=list-inline><li>'a'</li><li>'b'</li><li>'c'</li><li>'c1'</li><li>'c2'</li><li>'fac'</li><li>'fac_2'</li><li>'list_1'</li><li>'log_true'</li><li>'x'</li><li>'z1'</li><li>'z2'</li><li>'z3'</li></ol>\n"
      ],
      "text/latex": [
       "\\begin{enumerate*}\n",
       "\\item 'a'\n",
       "\\item 'b'\n",
       "\\item 'c'\n",
       "\\item 'c1'\n",
       "\\item 'c2'\n",
       "\\item 'fac'\n",
       "\\item 'fac\\_2'\n",
       "\\item 'list\\_1'\n",
       "\\item 'log\\_true'\n",
       "\\item 'x'\n",
       "\\item 'z1'\n",
       "\\item 'z2'\n",
       "\\item 'z3'\n",
       "\\end{enumerate*}\n"
      ],
      "text/markdown": [
       "1. 'a'\n",
       "2. 'b'\n",
       "3. 'c'\n",
       "4. 'c1'\n",
       "5. 'c2'\n",
       "6. 'fac'\n",
       "7. 'fac_2'\n",
       "8. 'list_1'\n",
       "9. 'log_true'\n",
       "10. 'x'\n",
       "11. 'z1'\n",
       "12. 'z2'\n",
       "13. 'z3'\n",
       "\n",
       "\n"
      ],
      "text/plain": [
       " [1] \"a\"        \"b\"        \"c\"        \"c1\"       \"c2\"       \"fac\"     \n",
       " [7] \"fac_2\"    \"list_1\"   \"log_true\" \"x\"        \"z1\"       \"z2\"      \n",
       "[13] \"z3\"      "
      ]
     },
     "metadata": {},
     "output_type": "display_data"
    }
   ],
   "source": [
    "# Check the variables that you defined\n",
    "ls()"
   ]
  },
  {
   "cell_type": "markdown",
   "metadata": {},
   "source": [
    "Basic data structures in R include the vector, list, matrix, data frame, and factors. Some of these structures require that all members be of the same data type (e.g. vectors, matrices) while others permit multiple data types (e.g. lists, data frames)."
   ]
  },
  {
   "cell_type": "code",
   "execution_count": 97,
   "metadata": {},
   "outputs": [
    {
     "data": {
      "text/html": [
       "<dl>\n",
       "\t<dt>$num_UEFA</dt>\n",
       "\t\t<dd><style>\n",
       ".list-inline {list-style: none; margin:0; padding: 0}\n",
       ".list-inline>li {display: inline-block}\n",
       ".list-inline>li:not(:last-child)::after {content: \"\\00b7\"; padding: 0 .5ex}\n",
       "</style>\n",
       "<ol class=list-inline><li>13</li><li>7</li><li>6</li></ol>\n",
       "</dd>\n",
       "\t<dt>$clubs</dt>\n",
       "\t\t<dd><style>\n",
       ".list-inline {list-style: none; margin:0; padding: 0}\n",
       ".list-inline>li {display: inline-block}\n",
       ".list-inline>li:not(:last-child)::after {content: \"\\00b7\"; padding: 0 .5ex}\n",
       "</style>\n",
       "<ol class=list-inline><li>'Real Madrid'</li><li>'AC Milan'</li><li>'Liverpool FC'</li></ol>\n",
       "</dd>\n",
       "\t<dt>$last_year</dt>\n",
       "\t\t<dd><style>\n",
       ".list-inline {list-style: none; margin:0; padding: 0}\n",
       ".list-inline>li {display: inline-block}\n",
       ".list-inline>li:not(:last-child)::after {content: \"\\00b7\"; padding: 0 .5ex}\n",
       "</style>\n",
       "<ol class=list-inline><li>2018</li><li>2007</li><li>2019</li></ol>\n",
       "</dd>\n",
       "</dl>\n"
      ],
      "text/latex": [
       "\\begin{description}\n",
       "\\item[\\$num\\_UEFA] \\begin{enumerate*}\n",
       "\\item 13\n",
       "\\item 7\n",
       "\\item 6\n",
       "\\end{enumerate*}\n",
       "\n",
       "\\item[\\$clubs] \\begin{enumerate*}\n",
       "\\item 'Real Madrid'\n",
       "\\item 'AC Milan'\n",
       "\\item 'Liverpool FC'\n",
       "\\end{enumerate*}\n",
       "\n",
       "\\item[\\$last\\_year] \\begin{enumerate*}\n",
       "\\item 2018\n",
       "\\item 2007\n",
       "\\item 2019\n",
       "\\end{enumerate*}\n",
       "\n",
       "\\end{description}\n"
      ],
      "text/markdown": [
       "$num_UEFA\n",
       ":   1. 13\n",
       "2. 7\n",
       "3. 6\n",
       "\n",
       "\n",
       "\n",
       "$clubs\n",
       ":   1. 'Real Madrid'\n",
       "2. 'AC Milan'\n",
       "3. 'Liverpool FC'\n",
       "\n",
       "\n",
       "\n",
       "$last_year\n",
       ":   1. 2018\n",
       "2. 2007\n",
       "3. 2019\n",
       "\n",
       "\n",
       "\n",
       "\n",
       "\n"
      ],
      "text/plain": [
       "$num_UEFA\n",
       "[1] 13  7  6\n",
       "\n",
       "$clubs\n",
       "[1] \"Real Madrid\"  \"AC Milan\"     \"Liverpool FC\"\n",
       "\n",
       "$last_year\n",
       "[1] 2018 2007 2019\n"
      ]
     },
     "metadata": {},
     "output_type": "display_data"
    }
   ],
   "source": [
    "mylist <- list( num_UEFA = c( 13 , 7 , 6 ) , clubs = c( \"Real Madrid\" , \"AC Milan\" , \"Liverpool FC\" ) , \n",
    "               last_year = c( 2018 , 2007 , 2019 ) )\n",
    "\n",
    "mylist"
   ]
  },
  {
   "cell_type": "code",
   "execution_count": 99,
   "metadata": {},
   "outputs": [
    {
     "data": {
      "text/html": [
       "<style>\n",
       ".list-inline {list-style: none; margin:0; padding: 0}\n",
       ".list-inline>li {display: inline-block}\n",
       ".list-inline>li:not(:last-child)::after {content: \"\\00b7\"; padding: 0 .5ex}\n",
       "</style>\n",
       "<ol class=list-inline><li>2018</li><li>2007</li><li>2019</li></ol>\n"
      ],
      "text/latex": [
       "\\begin{enumerate*}\n",
       "\\item 2018\n",
       "\\item 2007\n",
       "\\item 2019\n",
       "\\end{enumerate*}\n"
      ],
      "text/markdown": [
       "1. 2018\n",
       "2. 2007\n",
       "3. 2019\n",
       "\n",
       "\n"
      ],
      "text/plain": [
       "[1] 2018 2007 2019"
      ]
     },
     "metadata": {},
     "output_type": "display_data"
    }
   ],
   "source": [
    "mylist$last_year"
   ]
  },
  {
   "cell_type": "code",
   "execution_count": 34,
   "metadata": {},
   "outputs": [
    {
     "data": {
      "text/html": [
       "<style>\n",
       ".list-inline {list-style: none; margin:0; padding: 0}\n",
       ".list-inline>li {display: inline-block}\n",
       ".list-inline>li:not(:last-child)::after {content: \"\\00b7\"; padding: 0 .5ex}\n",
       "</style>\n",
       "<ol class=list-inline><li>2018</li><li>2007</li><li>2019</li></ol>\n"
      ],
      "text/latex": [
       "\\begin{enumerate*}\n",
       "\\item 2018\n",
       "\\item 2007\n",
       "\\item 2019\n",
       "\\end{enumerate*}\n"
      ],
      "text/markdown": [
       "1. 2018\n",
       "2. 2007\n",
       "3. 2019\n",
       "\n",
       "\n"
      ],
      "text/plain": [
       "[1] 2018 2007 2019"
      ]
     },
     "metadata": {},
     "output_type": "display_data"
    }
   ],
   "source": [
    "# Indexing vectors\n",
    "mylist[[3]]"
   ]
  },
  {
   "cell_type": "code",
   "execution_count": 35,
   "metadata": {},
   "outputs": [
    {
     "data": {
      "text/html": [
       "<style>\n",
       ".list-inline {list-style: none; margin:0; padding: 0}\n",
       ".list-inline>li {display: inline-block}\n",
       ".list-inline>li:not(:last-child)::after {content: \"\\00b7\"; padding: 0 .5ex}\n",
       "</style>\n",
       "<ol class=list-inline><li>2007</li><li>2019</li></ol>\n"
      ],
      "text/latex": [
       "\\begin{enumerate*}\n",
       "\\item 2007\n",
       "\\item 2019\n",
       "\\end{enumerate*}\n"
      ],
      "text/markdown": [
       "1. 2007\n",
       "2. 2019\n",
       "\n",
       "\n"
      ],
      "text/plain": [
       "[1] 2007 2019"
      ]
     },
     "metadata": {},
     "output_type": "display_data"
    }
   ],
   "source": [
    "# Indexing group of vectors\n",
    "mylist[[3]][2:3]"
   ]
  },
  {
   "cell_type": "code",
   "execution_count": 36,
   "metadata": {},
   "outputs": [
    {
     "data": {
      "text/html": [
       "<strong>$last_year</strong> = <style>\n",
       ".list-inline {list-style: none; margin:0; padding: 0}\n",
       ".list-inline>li {display: inline-block}\n",
       ".list-inline>li:not(:last-child)::after {content: \"\\00b7\"; padding: 0 .5ex}\n",
       "</style>\n",
       "<ol class=list-inline><li>2018</li><li>2007</li><li>2019</li></ol>\n"
      ],
      "text/latex": [
       "\\textbf{\\$last\\_year} = \\begin{enumerate*}\n",
       "\\item 2018\n",
       "\\item 2007\n",
       "\\item 2019\n",
       "\\end{enumerate*}\n"
      ],
      "text/markdown": [
       "**$last_year** = 1. 2018\n",
       "2. 2007\n",
       "3. 2019\n",
       "\n",
       "\n"
      ],
      "text/plain": [
       "$last_year\n",
       "[1] 2018 2007 2019\n"
      ]
     },
     "metadata": {},
     "output_type": "display_data"
    }
   ],
   "source": [
    "# Indexing group of vectors\n",
    "mylist[3][1]"
   ]
  },
  {
   "cell_type": "code",
   "execution_count": 102,
   "metadata": {},
   "outputs": [
    {
     "data": {
      "text/html": [
       "<dl>\n",
       "\t<dt>$num_UEFA</dt>\n",
       "\t\t<dd><style>\n",
       ".list-inline {list-style: none; margin:0; padding: 0}\n",
       ".list-inline>li {display: inline-block}\n",
       ".list-inline>li:not(:last-child)::after {content: \"\\00b7\"; padding: 0 .5ex}\n",
       "</style>\n",
       "<ol class=list-inline><li>13</li><li>7</li><li>6</li></ol>\n",
       "</dd>\n",
       "\t<dt>$clubs</dt>\n",
       "\t\t<dd><style>\n",
       ".list-inline {list-style: none; margin:0; padding: 0}\n",
       ".list-inline>li {display: inline-block}\n",
       ".list-inline>li:not(:last-child)::after {content: \"\\00b7\"; padding: 0 .5ex}\n",
       "</style>\n",
       "<ol class=list-inline><li>'Real Madrid'</li><li>'AC Milan'</li><li>'Liverpool FC'</li></ol>\n",
       "</dd>\n",
       "</dl>\n"
      ],
      "text/latex": [
       "\\begin{description}\n",
       "\\item[\\$num\\_UEFA] \\begin{enumerate*}\n",
       "\\item 13\n",
       "\\item 7\n",
       "\\item 6\n",
       "\\end{enumerate*}\n",
       "\n",
       "\\item[\\$clubs] \\begin{enumerate*}\n",
       "\\item 'Real Madrid'\n",
       "\\item 'AC Milan'\n",
       "\\item 'Liverpool FC'\n",
       "\\end{enumerate*}\n",
       "\n",
       "\\end{description}\n"
      ],
      "text/markdown": [
       "$num_UEFA\n",
       ":   1. 13\n",
       "2. 7\n",
       "3. 6\n",
       "\n",
       "\n",
       "\n",
       "$clubs\n",
       ":   1. 'Real Madrid'\n",
       "2. 'AC Milan'\n",
       "3. 'Liverpool FC'\n",
       "\n",
       "\n",
       "\n",
       "\n",
       "\n"
      ],
      "text/plain": [
       "$num_UEFA\n",
       "[1] 13  7  6\n",
       "\n",
       "$clubs\n",
       "[1] \"Real Madrid\"  \"AC Milan\"     \"Liverpool FC\"\n"
      ]
     },
     "metadata": {},
     "output_type": "display_data"
    }
   ],
   "source": [
    "list.remove(mylist,\"last_year\")"
   ]
  },
  {
   "cell_type": "code",
   "execution_count": 105,
   "metadata": {},
   "outputs": [
    {
     "data": {
      "text/html": [
       "<dl>\n",
       "\t<dt>$num_UEFA</dt>\n",
       "\t\t<dd><style>\n",
       ".list-inline {list-style: none; margin:0; padding: 0}\n",
       ".list-inline>li {display: inline-block}\n",
       ".list-inline>li:not(:last-child)::after {content: \"\\00b7\"; padding: 0 .5ex}\n",
       "</style>\n",
       "<ol class=list-inline><li>13</li><li>7</li><li>6</li></ol>\n",
       "</dd>\n",
       "\t<dt>$clubs</dt>\n",
       "\t\t<dd><style>\n",
       ".list-inline {list-style: none; margin:0; padding: 0}\n",
       ".list-inline>li {display: inline-block}\n",
       ".list-inline>li:not(:last-child)::after {content: \"\\00b7\"; padding: 0 .5ex}\n",
       "</style>\n",
       "<ol class=list-inline><li>'Real Madrid'</li><li>'AC Milan'</li><li>'Liverpool FC'</li></ol>\n",
       "</dd>\n",
       "\t<dt>$last_year</dt>\n",
       "\t\t<dd><style>\n",
       ".list-inline {list-style: none; margin:0; padding: 0}\n",
       ".list-inline>li {display: inline-block}\n",
       ".list-inline>li:not(:last-child)::after {content: \"\\00b7\"; padding: 0 .5ex}\n",
       "</style>\n",
       "<ol class=list-inline><li>2018</li><li>2007</li><li>2019</li></ol>\n",
       "</dd>\n",
       "\t<dt>[[4]]</dt>\n",
       "\t\t<dd>4000</dd>\n",
       "</dl>\n"
      ],
      "text/latex": [
       "\\begin{description}\n",
       "\\item[\\$num\\_UEFA] \\begin{enumerate*}\n",
       "\\item 13\n",
       "\\item 7\n",
       "\\item 6\n",
       "\\end{enumerate*}\n",
       "\n",
       "\\item[\\$clubs] \\begin{enumerate*}\n",
       "\\item 'Real Madrid'\n",
       "\\item 'AC Milan'\n",
       "\\item 'Liverpool FC'\n",
       "\\end{enumerate*}\n",
       "\n",
       "\\item[\\$last\\_year] \\begin{enumerate*}\n",
       "\\item 2018\n",
       "\\item 2007\n",
       "\\item 2019\n",
       "\\end{enumerate*}\n",
       "\n",
       "\\item[{[[4]]}] 4000\n",
       "\\end{description}\n"
      ],
      "text/markdown": [
       "$num_UEFA\n",
       ":   1. 13\n",
       "2. 7\n",
       "3. 6\n",
       "\n",
       "\n",
       "\n",
       "$clubs\n",
       ":   1. 'Real Madrid'\n",
       "2. 'AC Milan'\n",
       "3. 'Liverpool FC'\n",
       "\n",
       "\n",
       "\n",
       "$last_year\n",
       ":   1. 2018\n",
       "2. 2007\n",
       "3. 2019\n",
       "\n",
       "\n",
       "\n",
       "[[4]]\n",
       ":   4000\n",
       "\n",
       "\n"
      ],
      "text/plain": [
       "$num_UEFA\n",
       "[1] 13  7  6\n",
       "\n",
       "$clubs\n",
       "[1] \"Real Madrid\"  \"AC Milan\"     \"Liverpool FC\"\n",
       "\n",
       "$last_year\n",
       "[1] 2018 2007 2019\n",
       "\n",
       "[[4]]\n",
       "[1] 4000\n"
      ]
     },
     "metadata": {},
     "output_type": "display_data"
    }
   ],
   "source": [
    "Postal_code <- append(mylist, 4000)\n",
    "Postal_code"
   ]
  },
  {
   "cell_type": "markdown",
   "metadata": {},
   "source": [
    "#### Vectors\n",
    "This data structure requires that all members be of the same data type."
   ]
  },
  {
   "cell_type": "code",
   "execution_count": 77,
   "metadata": {},
   "outputs": [
    {
     "name": "stdout",
     "output_type": "stream",
     "text": [
      "[1] \"character\"\n",
      "[1] TRUE\n",
      "[1] 5\n"
     ]
    }
   ],
   "source": [
    "vec_str <-  c( \"good\", \"bad\", \"ugly\",\"good\", \"bad\")\n",
    "print( class( vec_str ) )\n",
    "print( is.vector( vec_str ) )\n",
    "print( length( vec_str ) )"
   ]
  },
  {
   "cell_type": "code",
   "execution_count": 78,
   "metadata": {},
   "outputs": [
    {
     "data": {
      "text/html": [
       "<style>\n",
       ".list-inline {list-style: none; margin:0; padding: 0}\n",
       ".list-inline>li {display: inline-block}\n",
       ".list-inline>li:not(:last-child)::after {content: \"\\00b7\"; padding: 0 .5ex}\n",
       "</style>\n",
       "<ol class=list-inline><li>2</li><li>3</li><li>4</li><li>5</li><li>6</li><li>4</li></ol>\n"
      ],
      "text/latex": [
       "\\begin{enumerate*}\n",
       "\\item 2\n",
       "\\item 3\n",
       "\\item 4\n",
       "\\item 5\n",
       "\\item 6\n",
       "\\item 4\n",
       "\\end{enumerate*}\n"
      ],
      "text/markdown": [
       "1. 2\n",
       "2. 3\n",
       "3. 4\n",
       "4. 5\n",
       "5. 6\n",
       "6. 4\n",
       "\n",
       "\n"
      ],
      "text/plain": [
       "[1] 2 3 4 5 6 4"
      ]
     },
     "metadata": {},
     "output_type": "display_data"
    }
   ],
   "source": [
    "vec <- c( 2 , 3 , 4 , 5 , 6 , 4 )\n",
    "vec "
   ]
  },
  {
   "cell_type": "code",
   "execution_count": 79,
   "metadata": {},
   "outputs": [
    {
     "name": "stdout",
     "output_type": "stream",
     "text": [
      "[1] \"numeric\"\n",
      "[1] TRUE\n",
      "[1] 6\n"
     ]
    }
   ],
   "source": [
    "print( class( vec ) )\n",
    "print( is.vector( vec ) )\n",
    "print( length( vec ) )"
   ]
  },
  {
   "cell_type": "code",
   "execution_count": 81,
   "metadata": {},
   "outputs": [
    {
     "data": {
      "text/html": [
       "<style>\n",
       ".list-inline {list-style: none; margin:0; padding: 0}\n",
       ".list-inline>li {display: inline-block}\n",
       ".list-inline>li:not(:last-child)::after {content: \"\\00b7\"; padding: 0 .5ex}\n",
       "</style>\n",
       "<ol class=list-inline><li>1</li><li>3</li><li>5</li><li>7</li><li>9</li><li>11</li><li>13</li><li>15</li><li>17</li><li>19</li></ol>\n"
      ],
      "text/latex": [
       "\\begin{enumerate*}\n",
       "\\item 1\n",
       "\\item 3\n",
       "\\item 5\n",
       "\\item 7\n",
       "\\item 9\n",
       "\\item 11\n",
       "\\item 13\n",
       "\\item 15\n",
       "\\item 17\n",
       "\\item 19\n",
       "\\end{enumerate*}\n"
      ],
      "text/markdown": [
       "1. 1\n",
       "2. 3\n",
       "3. 5\n",
       "4. 7\n",
       "5. 9\n",
       "6. 11\n",
       "7. 13\n",
       "8. 15\n",
       "9. 17\n",
       "10. 19\n",
       "\n",
       "\n"
      ],
      "text/plain": [
       " [1]  1  3  5  7  9 11 13 15 17 19"
      ]
     },
     "metadata": {},
     "output_type": "display_data"
    }
   ],
   "source": [
    "sec_1_20 <- seq(1,20,2)\n",
    "sec_1_20"
   ]
  },
  {
   "cell_type": "code",
   "execution_count": 82,
   "metadata": {},
   "outputs": [
    {
     "data": {
      "text/html": [
       "<style>\n",
       ".list-inline {list-style: none; margin:0; padding: 0}\n",
       ".list-inline>li {display: inline-block}\n",
       ".list-inline>li:not(:last-child)::after {content: \"\\00b7\"; padding: 0 .5ex}\n",
       "</style>\n",
       "<ol class=list-inline><li>1</li><li>2</li><li>3</li><li>4</li><li>5</li><li>6</li><li>7</li><li>8</li><li>9</li><li>10</li></ol>\n"
      ],
      "text/latex": [
       "\\begin{enumerate*}\n",
       "\\item 1\n",
       "\\item 2\n",
       "\\item 3\n",
       "\\item 4\n",
       "\\item 5\n",
       "\\item 6\n",
       "\\item 7\n",
       "\\item 8\n",
       "\\item 9\n",
       "\\item 10\n",
       "\\end{enumerate*}\n"
      ],
      "text/markdown": [
       "1. 1\n",
       "2. 2\n",
       "3. 3\n",
       "4. 4\n",
       "5. 5\n",
       "6. 6\n",
       "7. 7\n",
       "8. 8\n",
       "9. 9\n",
       "10. 10\n",
       "\n",
       "\n"
      ],
      "text/plain": [
       " [1]  1  2  3  4  5  6  7  8  9 10"
      ]
     },
     "metadata": {},
     "output_type": "display_data"
    }
   ],
   "source": [
    "sec_1_9 <- seq(1,10)\n",
    "sec_1_9"
   ]
  },
  {
   "cell_type": "markdown",
   "metadata": {},
   "source": [
    "#### Indexing"
   ]
  },
  {
   "cell_type": "code",
   "execution_count": 87,
   "metadata": {},
   "outputs": [
    {
     "data": {
      "text/html": [
       "'numeric'"
      ],
      "text/latex": [
       "'numeric'"
      ],
      "text/markdown": [
       "'numeric'"
      ],
      "text/plain": [
       "[1] \"numeric\""
      ]
     },
     "metadata": {},
     "output_type": "display_data"
    }
   ],
   "source": [
    "index_vec  <- vec[ c( 3, 1, 6, 2 ) ]\n",
    "class(index_vec)"
   ]
  },
  {
   "cell_type": "code",
   "execution_count": 84,
   "metadata": {},
   "outputs": [
    {
     "name": "stdout",
     "output_type": "stream",
     "text": [
      "[1] 4 2 4 3\n",
      "[1] 4 2 3\n"
     ]
    }
   ],
   "source": [
    "print(index_vec)\n",
    "print(index_vec[ -3 ])"
   ]
  },
  {
   "cell_type": "code",
   "execution_count": 88,
   "metadata": {},
   "outputs": [
    {
     "name": "stdout",
     "output_type": "stream",
     "text": [
      "[1] 2\n"
     ]
    }
   ],
   "source": [
    "print( index_vec[ index_vec < 3 ] )"
   ]
  },
  {
   "cell_type": "code",
   "execution_count": 89,
   "metadata": {},
   "outputs": [
    {
     "name": "stdout",
     "output_type": "stream",
     "text": [
      "[1] 2 4 3\n"
     ]
    }
   ],
   "source": [
    "print( index_vec[ 2:4 ] )"
   ]
  },
  {
   "cell_type": "markdown",
   "metadata": {},
   "source": [
    "#### Matrix\n",
    "This data structure requires that all members be of the same data type."
   ]
  },
  {
   "cell_type": "code",
   "execution_count": 128,
   "metadata": {},
   "outputs": [
    {
     "name": "stdout",
     "output_type": "stream",
     "text": [
      "     colA colB colC\n",
      "rowA    3    6    6\n",
      "rowB    5    7    3\n",
      "rowC    2    1    7\n"
     ]
    }
   ],
   "source": [
    "A = matrix( c(3, 5, 2, 6, 7, 1, 6, 3, 7 ) , nrow = 3, ncol = 3 , byrow = FALSE, \n",
    "            dimnames = list( c( \"rowA\" , \"rowB\" , \"rowC\" ), c( \"colA\" , \"colB\" , \"colC\" ) ) )\n",
    "print( A )"
   ]
  },
  {
   "cell_type": "code",
   "execution_count": 129,
   "metadata": {
    "scrolled": true
   },
   "outputs": [
    {
     "name": "stdout",
     "output_type": "stream",
     "text": [
      "     colA colB colC\n",
      "rowA    3    5    2\n",
      "rowB    6    7    1\n",
      "rowC    6    3    7\n"
     ]
    }
   ],
   "source": [
    "A = matrix( c(3, 5, 2, 6, 7, 1, 6, 3, 7 ) , nrow = 3, ncol = 3 , byrow = TRUE, \n",
    "            dimnames = list( c( \"rowA\" , \"rowB\" , \"rowC\" ), c( \"colA\" , \"colB\" , \"colC\" ) ) )\n",
    "print( A )"
   ]
  },
  {
   "cell_type": "code",
   "execution_count": 137,
   "metadata": {},
   "outputs": [
    {
     "data": {
      "text/html": [
       "<style>\n",
       ".list-inline {list-style: none; margin:0; padding: 0}\n",
       ".list-inline>li {display: inline-block}\n",
       ".list-inline>li:not(:last-child)::after {content: \"\\00b7\"; padding: 0 .5ex}\n",
       "</style>\n",
       "<ol class=list-inline><li>'matrix'</li><li>'array'</li></ol>\n"
      ],
      "text/latex": [
       "\\begin{enumerate*}\n",
       "\\item 'matrix'\n",
       "\\item 'array'\n",
       "\\end{enumerate*}\n"
      ],
      "text/markdown": [
       "1. 'matrix'\n",
       "2. 'array'\n",
       "\n",
       "\n"
      ],
      "text/plain": [
       "[1] \"matrix\" \"array\" "
      ]
     },
     "metadata": {},
     "output_type": "display_data"
    },
    {
     "data": {
      "text/html": [
       "'double'"
      ],
      "text/latex": [
       "'double'"
      ],
      "text/markdown": [
       "'double'"
      ],
      "text/plain": [
       "[1] \"double\""
      ]
     },
     "metadata": {},
     "output_type": "display_data"
    }
   ],
   "source": [
    "class(A)\n",
    "typeof(A)"
   ]
  },
  {
   "cell_type": "code",
   "execution_count": 131,
   "metadata": {},
   "outputs": [
    {
     "data": {
      "text/html": [
       "<style>\n",
       ".list-inline {list-style: none; margin:0; padding: 0}\n",
       ".list-inline>li {display: inline-block}\n",
       ".list-inline>li:not(:last-child)::after {content: \"\\00b7\"; padding: 0 .5ex}\n",
       "</style>\n",
       "<ol class=list-inline><li>3</li><li>3</li></ol>\n"
      ],
      "text/latex": [
       "\\begin{enumerate*}\n",
       "\\item 3\n",
       "\\item 3\n",
       "\\end{enumerate*}\n"
      ],
      "text/markdown": [
       "1. 3\n",
       "2. 3\n",
       "\n",
       "\n"
      ],
      "text/plain": [
       "[1] 3 3"
      ]
     },
     "metadata": {},
     "output_type": "display_data"
    }
   ],
   "source": [
    "dim(A)"
   ]
  },
  {
   "cell_type": "code",
   "execution_count": 130,
   "metadata": {},
   "outputs": [
    {
     "name": "stdout",
     "output_type": "stream",
     "text": [
      "rows:  3 \n",
      " Columns:  3"
     ]
    }
   ],
   "source": [
    "cat(\"rows: \", dim(A)[1], '\\n', \"Columns: \", dim(A)[2])"
   ]
  },
  {
   "cell_type": "code",
   "execution_count": 93,
   "metadata": {},
   "outputs": [
    {
     "data": {
      "text/html": [
       "<table class=\"dataframe\">\n",
       "<caption>A matrix: 3 × 3 of type dbl</caption>\n",
       "<thead>\n",
       "\t<tr><th></th><th scope=col>rowA</th><th scope=col>rowB</th><th scope=col>rowC</th></tr>\n",
       "</thead>\n",
       "<tbody>\n",
       "\t<tr><th scope=row>rowA</th><td> 1.000000e+00</td><td>0</td><td>5.551115e-17</td></tr>\n",
       "\t<tr><th scope=row>rowB</th><td>-3.885781e-16</td><td>1</td><td>2.775558e-17</td></tr>\n",
       "\t<tr><th scope=row>rowC</th><td>-4.440892e-16</td><td>0</td><td>1.000000e+00</td></tr>\n",
       "</tbody>\n",
       "</table>\n"
      ],
      "text/latex": [
       "A matrix: 3 × 3 of type dbl\n",
       "\\begin{tabular}{r|lll}\n",
       "  & rowA & rowB & rowC\\\\\n",
       "\\hline\n",
       "\trowA &  1.000000e+00 & 0 & 5.551115e-17\\\\\n",
       "\trowB & -3.885781e-16 & 1 & 2.775558e-17\\\\\n",
       "\trowC & -4.440892e-16 & 0 & 1.000000e+00\\\\\n",
       "\\end{tabular}\n"
      ],
      "text/markdown": [
       "\n",
       "A matrix: 3 × 3 of type dbl\n",
       "\n",
       "| <!--/--> | rowA | rowB | rowC |\n",
       "|---|---|---|---|\n",
       "| rowA |  1.000000e+00 | 0 | 5.551115e-17 |\n",
       "| rowB | -3.885781e-16 | 1 | 2.775558e-17 |\n",
       "| rowC | -4.440892e-16 | 0 | 1.000000e+00 |\n",
       "\n"
      ],
      "text/plain": [
       "     rowA          rowB rowC        \n",
       "rowA  1.000000e+00 0    5.551115e-17\n",
       "rowB -3.885781e-16 1    2.775558e-17\n",
       "rowC -4.440892e-16 0    1.000000e+00"
      ]
     },
     "metadata": {},
     "output_type": "display_data"
    }
   ],
   "source": [
    "B = A %*% solve( A )\n",
    "B"
   ]
  },
  {
   "cell_type": "code",
   "execution_count": 94,
   "metadata": {},
   "outputs": [
    {
     "data": {
      "text/html": [
       "<table class=\"dataframe\">\n",
       "<caption>A matrix: 3 × 3 of type dbl</caption>\n",
       "<thead>\n",
       "\t<tr><th></th><th scope=col>rowA</th><th scope=col>rowB</th><th scope=col>rowC</th></tr>\n",
       "</thead>\n",
       "<tbody>\n",
       "\t<tr><th scope=row>rowA</th><td>1</td><td>0</td><td>0</td></tr>\n",
       "\t<tr><th scope=row>rowB</th><td>0</td><td>1</td><td>0</td></tr>\n",
       "\t<tr><th scope=row>rowC</th><td>0</td><td>0</td><td>1</td></tr>\n",
       "</tbody>\n",
       "</table>\n"
      ],
      "text/latex": [
       "A matrix: 3 × 3 of type dbl\n",
       "\\begin{tabular}{r|lll}\n",
       "  & rowA & rowB & rowC\\\\\n",
       "\\hline\n",
       "\trowA & 1 & 0 & 0\\\\\n",
       "\trowB & 0 & 1 & 0\\\\\n",
       "\trowC & 0 & 0 & 1\\\\\n",
       "\\end{tabular}\n"
      ],
      "text/markdown": [
       "\n",
       "A matrix: 3 × 3 of type dbl\n",
       "\n",
       "| <!--/--> | rowA | rowB | rowC |\n",
       "|---|---|---|---|\n",
       "| rowA | 1 | 0 | 0 |\n",
       "| rowB | 0 | 1 | 0 |\n",
       "| rowC | 0 | 0 | 1 |\n",
       "\n"
      ],
      "text/plain": [
       "     rowA rowB rowC\n",
       "rowA 1    0    0   \n",
       "rowB 0    1    0   \n",
       "rowC 0    0    1   "
      ]
     },
     "metadata": {},
     "output_type": "display_data"
    }
   ],
   "source": [
    "# Solve for getting inverse matrix\n",
    "# %*% Matrix Multiplication\n",
    "# round output of the matrix\n",
    "B = round( A %*% solve( A ) , 2 )\n",
    "B"
   ]
  },
  {
   "cell_type": "code",
   "execution_count": 95,
   "metadata": {},
   "outputs": [
    {
     "name": "stdout",
     "output_type": "stream",
     "text": [
      "rowA rowB rowC \n",
      "   1    1    1 \n"
     ]
    }
   ],
   "source": [
    "print( diag( B ) )  \n"
   ]
  },
  {
   "cell_type": "code",
   "execution_count": 96,
   "metadata": {},
   "outputs": [
    {
     "name": "stdout",
     "output_type": "stream",
     "text": [
      "     rowA rowB rowC\n",
      "colA    3    6    6\n",
      "colB    5    7    3\n",
      "colC    2    1    7\n"
     ]
    }
   ],
   "source": [
    "print( t( A ) )"
   ]
  },
  {
   "cell_type": "code",
   "execution_count": 133,
   "metadata": {},
   "outputs": [
    {
     "name": "stdout",
     "output_type": "stream",
     "text": [
      "     [,1] [,2] [,3] [,4] [,5] [,6] [,7] [,8] [,9] [,10]\n",
      "[1,]    0    1    2    3    4    5    6    7    8     9\n",
      "[2,]   10   11   12   13   14   15   16   17   18    19\n",
      "[3,]   30   31   32   33   34   35   36   37   38    39\n",
      "[4,]  -20  -19  -18  -17  -16  -15  -14  -13  -12   -11\n",
      "[5,]    2    4    6    8   10   12   14   16   18    20\n"
     ]
    }
   ],
   "source": [
    "A <- matrix(c(seq(0, 9), seq( 10, 19), seq( 30, 39), seq( -20, -11), seq( 2, 20,2)), nrow = 5, byrow =TRUE)\n",
    "print(A)"
   ]
  },
  {
   "cell_type": "code",
   "execution_count": 134,
   "metadata": {},
   "outputs": [
    {
     "data": {
      "text/html": [
       "<table class=\"dataframe\">\n",
       "<caption>A matrix: 3 × 10 of type dbl</caption>\n",
       "<tbody>\n",
       "\t<tr><td> 10</td><td> 11</td><td> 12</td><td> 13</td><td> 14</td><td> 15</td><td> 16</td><td> 17</td><td> 18</td><td> 19</td></tr>\n",
       "\t<tr><td> 30</td><td> 31</td><td> 32</td><td> 33</td><td> 34</td><td> 35</td><td> 36</td><td> 37</td><td> 38</td><td> 39</td></tr>\n",
       "\t<tr><td>-20</td><td>-19</td><td>-18</td><td>-17</td><td>-16</td><td>-15</td><td>-14</td><td>-13</td><td>-12</td><td>-11</td></tr>\n",
       "</tbody>\n",
       "</table>\n"
      ],
      "text/latex": [
       "A matrix: 3 × 10 of type dbl\n",
       "\\begin{tabular}{llllllllll}\n",
       "\t  10 &  11 &  12 &  13 &  14 &  15 &  16 &  17 &  18 &  19\\\\\n",
       "\t  30 &  31 &  32 &  33 &  34 &  35 &  36 &  37 &  38 &  39\\\\\n",
       "\t -20 & -19 & -18 & -17 & -16 & -15 & -14 & -13 & -12 & -11\\\\\n",
       "\\end{tabular}\n"
      ],
      "text/markdown": [
       "\n",
       "A matrix: 3 × 10 of type dbl\n",
       "\n",
       "|  10 |  11 |  12 |  13 |  14 |  15 |  16 |  17 |  18 |  19 |\n",
       "|  30 |  31 |  32 |  33 |  34 |  35 |  36 |  37 |  38 |  39 |\n",
       "| -20 | -19 | -18 | -17 | -16 | -15 | -14 | -13 | -12 | -11 |\n",
       "\n"
      ],
      "text/plain": [
       "     [,1] [,2] [,3] [,4] [,5] [,6] [,7] [,8] [,9] [,10]\n",
       "[1,]  10   11   12   13   14   15   16   17   18   19  \n",
       "[2,]  30   31   32   33   34   35   36   37   38   39  \n",
       "[3,] -20  -19  -18  -17  -16  -15  -14  -13  -12  -11  "
      ]
     },
     "metadata": {},
     "output_type": "display_data"
    }
   ],
   "source": [
    "A[2:4,] # rows selecrtion"
   ]
  },
  {
   "cell_type": "code",
   "execution_count": 135,
   "metadata": {
    "scrolled": true
   },
   "outputs": [
    {
     "data": {
      "text/html": [
       "<table class=\"dataframe\">\n",
       "<caption>A matrix: 5 × 6 of type dbl</caption>\n",
       "<tbody>\n",
       "\t<tr><td>  0</td><td>  1</td><td>  2</td><td>  3</td><td>  4</td><td>  5</td></tr>\n",
       "\t<tr><td> 10</td><td> 11</td><td> 12</td><td> 13</td><td> 14</td><td> 15</td></tr>\n",
       "\t<tr><td> 30</td><td> 31</td><td> 32</td><td> 33</td><td> 34</td><td> 35</td></tr>\n",
       "\t<tr><td>-20</td><td>-19</td><td>-18</td><td>-17</td><td>-16</td><td>-15</td></tr>\n",
       "\t<tr><td>  2</td><td>  4</td><td>  6</td><td>  8</td><td> 10</td><td> 12</td></tr>\n",
       "</tbody>\n",
       "</table>\n"
      ],
      "text/latex": [
       "A matrix: 5 × 6 of type dbl\n",
       "\\begin{tabular}{llllll}\n",
       "\t   0 &   1 &   2 &   3 &   4 &   5\\\\\n",
       "\t  10 &  11 &  12 &  13 &  14 &  15\\\\\n",
       "\t  30 &  31 &  32 &  33 &  34 &  35\\\\\n",
       "\t -20 & -19 & -18 & -17 & -16 & -15\\\\\n",
       "\t   2 &   4 &   6 &   8 &  10 &  12\\\\\n",
       "\\end{tabular}\n"
      ],
      "text/markdown": [
       "\n",
       "A matrix: 5 × 6 of type dbl\n",
       "\n",
       "|   0 |   1 |   2 |   3 |   4 |   5 |\n",
       "|  10 |  11 |  12 |  13 |  14 |  15 |\n",
       "|  30 |  31 |  32 |  33 |  34 |  35 |\n",
       "| -20 | -19 | -18 | -17 | -16 | -15 |\n",
       "|   2 |   4 |   6 |   8 |  10 |  12 |\n",
       "\n"
      ],
      "text/plain": [
       "     [,1] [,2] [,3] [,4] [,5] [,6]\n",
       "[1,]   0    1    2    3    4    5 \n",
       "[2,]  10   11   12   13   14   15 \n",
       "[3,]  30   31   32   33   34   35 \n",
       "[4,] -20  -19  -18  -17  -16  -15 \n",
       "[5,]   2    4    6    8   10   12 "
      ]
     },
     "metadata": {},
     "output_type": "display_data"
    }
   ],
   "source": [
    "A[,1:6]  # columns selecrtion"
   ]
  },
  {
   "cell_type": "code",
   "execution_count": 138,
   "metadata": {},
   "outputs": [
    {
     "name": "stdout",
     "output_type": "stream",
     "text": [
      "     [,1] [,2]\n",
      "[1,]    0    0\n",
      "[2,]    0    0\n",
      "[3,]    0    0\n",
      "[4,]    0    0\n",
      "[5,]    0    0\n",
      "[6,]    0    0\n",
      "[7,]    0    0\n",
      "[8,]    0    0\n"
     ]
    }
   ],
   "source": [
    "M1 <- matrix(0,8,2)\n",
    "\n",
    "print(M1)"
   ]
  },
  {
   "cell_type": "code",
   "execution_count": 139,
   "metadata": {},
   "outputs": [
    {
     "name": "stdout",
     "output_type": "stream",
     "text": [
      "     [,1] [,2] [,3] [,4]\n",
      "[1,]    1    1    1    1\n",
      "[2,]    1    1    1    1\n",
      "[3,]    1    1    1    1\n",
      "[4,]    1    1    1    1\n",
      "[5,]    1    1    1    1\n",
      "[6,]    1    1    1    1\n",
      "[7,]    1    1    1    1\n",
      "[8,]    1    1    1    1\n"
     ]
    }
   ],
   "source": [
    "M2 <- matrix(1,8, 4) \n",
    "print(M2)"
   ]
  },
  {
   "cell_type": "code",
   "execution_count": 140,
   "metadata": {},
   "outputs": [
    {
     "data": {
      "text/html": [
       "<table class=\"dataframe\">\n",
       "<caption>A matrix: 8 × 6 of type dbl</caption>\n",
       "<tbody>\n",
       "\t<tr><td>0</td><td>0</td><td>1</td><td>1</td><td>1</td><td>1</td></tr>\n",
       "\t<tr><td>0</td><td>0</td><td>1</td><td>1</td><td>1</td><td>1</td></tr>\n",
       "\t<tr><td>0</td><td>0</td><td>1</td><td>1</td><td>1</td><td>1</td></tr>\n",
       "\t<tr><td>0</td><td>0</td><td>1</td><td>1</td><td>1</td><td>1</td></tr>\n",
       "\t<tr><td>0</td><td>0</td><td>1</td><td>1</td><td>1</td><td>1</td></tr>\n",
       "\t<tr><td>0</td><td>0</td><td>1</td><td>1</td><td>1</td><td>1</td></tr>\n",
       "\t<tr><td>0</td><td>0</td><td>1</td><td>1</td><td>1</td><td>1</td></tr>\n",
       "\t<tr><td>0</td><td>0</td><td>1</td><td>1</td><td>1</td><td>1</td></tr>\n",
       "</tbody>\n",
       "</table>\n"
      ],
      "text/latex": [
       "A matrix: 8 × 6 of type dbl\n",
       "\\begin{tabular}{llllll}\n",
       "\t 0 & 0 & 1 & 1 & 1 & 1\\\\\n",
       "\t 0 & 0 & 1 & 1 & 1 & 1\\\\\n",
       "\t 0 & 0 & 1 & 1 & 1 & 1\\\\\n",
       "\t 0 & 0 & 1 & 1 & 1 & 1\\\\\n",
       "\t 0 & 0 & 1 & 1 & 1 & 1\\\\\n",
       "\t 0 & 0 & 1 & 1 & 1 & 1\\\\\n",
       "\t 0 & 0 & 1 & 1 & 1 & 1\\\\\n",
       "\t 0 & 0 & 1 & 1 & 1 & 1\\\\\n",
       "\\end{tabular}\n"
      ],
      "text/markdown": [
       "\n",
       "A matrix: 8 × 6 of type dbl\n",
       "\n",
       "| 0 | 0 | 1 | 1 | 1 | 1 |\n",
       "| 0 | 0 | 1 | 1 | 1 | 1 |\n",
       "| 0 | 0 | 1 | 1 | 1 | 1 |\n",
       "| 0 | 0 | 1 | 1 | 1 | 1 |\n",
       "| 0 | 0 | 1 | 1 | 1 | 1 |\n",
       "| 0 | 0 | 1 | 1 | 1 | 1 |\n",
       "| 0 | 0 | 1 | 1 | 1 | 1 |\n",
       "| 0 | 0 | 1 | 1 | 1 | 1 |\n",
       "\n"
      ],
      "text/plain": [
       "     [,1] [,2] [,3] [,4] [,5] [,6]\n",
       "[1,] 0    0    1    1    1    1   \n",
       "[2,] 0    0    1    1    1    1   \n",
       "[3,] 0    0    1    1    1    1   \n",
       "[4,] 0    0    1    1    1    1   \n",
       "[5,] 0    0    1    1    1    1   \n",
       "[6,] 0    0    1    1    1    1   \n",
       "[7,] 0    0    1    1    1    1   \n",
       "[8,] 0    0    1    1    1    1   "
      ]
     },
     "metadata": {},
     "output_type": "display_data"
    }
   ],
   "source": [
    "M3 <- cbind(M1,M2)\n",
    "M3"
   ]
  },
  {
   "cell_type": "code",
   "execution_count": 141,
   "metadata": {},
   "outputs": [
    {
     "name": "stdout",
     "output_type": "stream",
     "text": [
      "     [,1] [,2] [,3] [,4] [,5] [,6]\n",
      "[1,]    2    2    3    4    5    1\n",
      "[2,]    1    5    5    9    8    2\n"
     ]
    }
   ],
   "source": [
    "M4 = matrix(c(2,2,3,4,5,1,1,5,5,9,8,2), nrow =2, byrow = TRUE)\n",
    "print(M4)"
   ]
  },
  {
   "cell_type": "code",
   "execution_count": 142,
   "metadata": {},
   "outputs": [
    {
     "name": "stdout",
     "output_type": "stream",
     "text": [
      "      [,1] [,2] [,3] [,4] [,5] [,6]\n",
      " [1,]    0    0    1    1    1    1\n",
      " [2,]    0    0    1    1    1    1\n",
      " [3,]    0    0    1    1    1    1\n",
      " [4,]    0    0    1    1    1    1\n",
      " [5,]    0    0    1    1    1    1\n",
      " [6,]    0    0    1    1    1    1\n",
      " [7,]    0    0    1    1    1    1\n",
      " [8,]    0    0    1    1    1    1\n",
      " [9,]    2    2    3    4    5    1\n",
      "[10,]    1    5    5    9    8    2\n"
     ]
    }
   ],
   "source": [
    "M5 <- rbind(M3,M4)\n",
    "print(M5)"
   ]
  },
  {
   "cell_type": "markdown",
   "metadata": {},
   "source": [
    "#### DataFrame\n",
    "This data structure does not require that all members be of the same data type."
   ]
  },
  {
   "cell_type": "code",
   "execution_count": 143,
   "metadata": {},
   "outputs": [
    {
     "data": {
      "text/html": [
       "<table class=\"dataframe\">\n",
       "<caption>A data.frame: 8 × 4</caption>\n",
       "<thead>\n",
       "\t<tr><th scope=col>Student_Name</th><th scope=col>Age</th><th scope=col>Gender</th><th scope=col>GPA</th></tr>\n",
       "\t<tr><th scope=col>&lt;chr&gt;</th><th scope=col>&lt;dbl&gt;</th><th scope=col>&lt;chr&gt;</th><th scope=col>&lt;dbl&gt;</th></tr>\n",
       "</thead>\n",
       "<tbody>\n",
       "\t<tr><td>Amy   </td><td>27</td><td>F</td><td>3.26</td></tr>\n",
       "\t<tr><td>Bob   </td><td>55</td><td>M</td><td>3.75</td></tr>\n",
       "\t<tr><td>Chuck </td><td>34</td><td>M</td><td>2.98</td></tr>\n",
       "\t<tr><td>Daisy </td><td>42</td><td>F</td><td>3.40</td></tr>\n",
       "\t<tr><td>Ellie </td><td>20</td><td>F</td><td>2.75</td></tr>\n",
       "\t<tr><td>Frank </td><td>27</td><td>M</td><td>3.32</td></tr>\n",
       "\t<tr><td>George</td><td>34</td><td>M</td><td>3.68</td></tr>\n",
       "\t<tr><td>Helen </td><td>42</td><td>F</td><td>3.97</td></tr>\n",
       "</tbody>\n",
       "</table>\n"
      ],
      "text/latex": [
       "A data.frame: 8 × 4\n",
       "\\begin{tabular}{llll}\n",
       " Student\\_Name & Age & Gender & GPA\\\\\n",
       " <chr> & <dbl> & <chr> & <dbl>\\\\\n",
       "\\hline\n",
       "\t Amy    & 27 & F & 3.26\\\\\n",
       "\t Bob    & 55 & M & 3.75\\\\\n",
       "\t Chuck  & 34 & M & 2.98\\\\\n",
       "\t Daisy  & 42 & F & 3.40\\\\\n",
       "\t Ellie  & 20 & F & 2.75\\\\\n",
       "\t Frank  & 27 & M & 3.32\\\\\n",
       "\t George & 34 & M & 3.68\\\\\n",
       "\t Helen  & 42 & F & 3.97\\\\\n",
       "\\end{tabular}\n"
      ],
      "text/markdown": [
       "\n",
       "A data.frame: 8 × 4\n",
       "\n",
       "| Student_Name &lt;chr&gt; | Age &lt;dbl&gt; | Gender &lt;chr&gt; | GPA &lt;dbl&gt; |\n",
       "|---|---|---|---|\n",
       "| Amy    | 27 | F | 3.26 |\n",
       "| Bob    | 55 | M | 3.75 |\n",
       "| Chuck  | 34 | M | 2.98 |\n",
       "| Daisy  | 42 | F | 3.40 |\n",
       "| Ellie  | 20 | F | 2.75 |\n",
       "| Frank  | 27 | M | 3.32 |\n",
       "| George | 34 | M | 3.68 |\n",
       "| Helen  | 42 | F | 3.97 |\n",
       "\n"
      ],
      "text/plain": [
       "  Student_Name Age Gender GPA \n",
       "1 Amy          27  F      3.26\n",
       "2 Bob          55  M      3.75\n",
       "3 Chuck        34  M      2.98\n",
       "4 Daisy        42  F      3.40\n",
       "5 Ellie        20  F      2.75\n",
       "6 Frank        27  M      3.32\n",
       "7 George       34  M      3.68\n",
       "8 Helen        42  F      3.97"
      ]
     },
     "metadata": {},
     "output_type": "display_data"
    }
   ],
   "source": [
    "Student_Name <- c(\"Amy\", \"Bob\", \"Chuck\", \"Daisy\", \"Ellie\", \"Frank\", \n",
    "                  \"George\", \"Helen\")\n",
    "\n",
    "Age <- c(27, 55, 34, 42, 20, 27, 34, 42)\n",
    "\n",
    "Gender <- c(\"F\", \"M\", \"M\", \"F\", \"F\", \"M\", \"M\", \"F\")\n",
    "\n",
    "GPA <- c(3.26, 3.75, 2.98, 3.40, 2.75, 3.32, 3.68, 3.97)\n",
    "\n",
    "nsc <- data.frame(Student_Name, Age, Gender, GPA)   # Naming the data frame\n",
    "nsc # Generates the data frame"
   ]
  },
  {
   "cell_type": "code",
   "execution_count": 144,
   "metadata": {},
   "outputs": [
    {
     "data": {
      "text/html": [
       "<style>\n",
       ".list-inline {list-style: none; margin:0; padding: 0}\n",
       ".list-inline>li {display: inline-block}\n",
       ".list-inline>li:not(:last-child)::after {content: \"\\00b7\"; padding: 0 .5ex}\n",
       "</style>\n",
       "<ol class=list-inline><li>'Student_Name'</li><li>'Age'</li><li>'Gender'</li><li>'GPA'</li></ol>\n"
      ],
      "text/latex": [
       "\\begin{enumerate*}\n",
       "\\item 'Student\\_Name'\n",
       "\\item 'Age'\n",
       "\\item 'Gender'\n",
       "\\item 'GPA'\n",
       "\\end{enumerate*}\n"
      ],
      "text/markdown": [
       "1. 'Student_Name'\n",
       "2. 'Age'\n",
       "3. 'Gender'\n",
       "4. 'GPA'\n",
       "\n",
       "\n"
      ],
      "text/plain": [
       "[1] \"Student_Name\" \"Age\"          \"Gender\"       \"GPA\"         "
      ]
     },
     "metadata": {},
     "output_type": "display_data"
    }
   ],
   "source": [
    "# Lists variables\n",
    "names(nsc)   "
   ]
  },
  {
   "cell_type": "code",
   "execution_count": 145,
   "metadata": {},
   "outputs": [],
   "source": [
    "select_col <- c(1,3)\n",
    "select_row <- c(1,5)"
   ]
  },
  {
   "cell_type": "code",
   "execution_count": 146,
   "metadata": {},
   "outputs": [
    {
     "data": {
      "text/html": [
       "<table class=\"dataframe\">\n",
       "<caption>A data.frame: 2 × 2</caption>\n",
       "<thead>\n",
       "\t<tr><th></th><th scope=col>Student_Name</th><th scope=col>Gender</th></tr>\n",
       "\t<tr><th></th><th scope=col>&lt;chr&gt;</th><th scope=col>&lt;chr&gt;</th></tr>\n",
       "</thead>\n",
       "<tbody>\n",
       "\t<tr><th scope=row>1</th><td>Amy  </td><td>F</td></tr>\n",
       "\t<tr><th scope=row>5</th><td>Ellie</td><td>F</td></tr>\n",
       "</tbody>\n",
       "</table>\n"
      ],
      "text/latex": [
       "A data.frame: 2 × 2\n",
       "\\begin{tabular}{r|ll}\n",
       "  & Student\\_Name & Gender\\\\\n",
       "  & <chr> & <chr>\\\\\n",
       "\\hline\n",
       "\t1 & Amy   & F\\\\\n",
       "\t5 & Ellie & F\\\\\n",
       "\\end{tabular}\n"
      ],
      "text/markdown": [
       "\n",
       "A data.frame: 2 × 2\n",
       "\n",
       "| <!--/--> | Student_Name &lt;chr&gt; | Gender &lt;chr&gt; |\n",
       "|---|---|---|\n",
       "| 1 | Amy   | F |\n",
       "| 5 | Ellie | F |\n",
       "\n"
      ],
      "text/plain": [
       "  Student_Name Gender\n",
       "1 Amy          F     \n",
       "5 Ellie        F     "
      ]
     },
     "metadata": {},
     "output_type": "display_data"
    }
   ],
   "source": [
    "nsc[select_row, select_col]"
   ]
  },
  {
   "cell_type": "code",
   "execution_count": 147,
   "metadata": {},
   "outputs": [
    {
     "data": {
      "text/html": [
       "<table class=\"dataframe\">\n",
       "<caption>A data.frame: 3 × 3</caption>\n",
       "<thead>\n",
       "\t<tr><th></th><th scope=col>Age</th><th scope=col>Gender</th><th scope=col>GPA</th></tr>\n",
       "\t<tr><th></th><th scope=col>&lt;dbl&gt;</th><th scope=col>&lt;chr&gt;</th><th scope=col>&lt;dbl&gt;</th></tr>\n",
       "</thead>\n",
       "<tbody>\n",
       "\t<tr><th scope=row>3</th><td>34</td><td>M</td><td>2.98</td></tr>\n",
       "\t<tr><th scope=row>4</th><td>42</td><td>F</td><td>3.40</td></tr>\n",
       "\t<tr><th scope=row>5</th><td>20</td><td>F</td><td>2.75</td></tr>\n",
       "</tbody>\n",
       "</table>\n"
      ],
      "text/latex": [
       "A data.frame: 3 × 3\n",
       "\\begin{tabular}{r|lll}\n",
       "  & Age & Gender & GPA\\\\\n",
       "  & <dbl> & <chr> & <dbl>\\\\\n",
       "\\hline\n",
       "\t3 & 34 & M & 2.98\\\\\n",
       "\t4 & 42 & F & 3.40\\\\\n",
       "\t5 & 20 & F & 2.75\\\\\n",
       "\\end{tabular}\n"
      ],
      "text/markdown": [
       "\n",
       "A data.frame: 3 × 3\n",
       "\n",
       "| <!--/--> | Age &lt;dbl&gt; | Gender &lt;chr&gt; | GPA &lt;dbl&gt; |\n",
       "|---|---|---|---|\n",
       "| 3 | 34 | M | 2.98 |\n",
       "| 4 | 42 | F | 3.40 |\n",
       "| 5 | 20 | F | 2.75 |\n",
       "\n"
      ],
      "text/plain": [
       "  Age Gender GPA \n",
       "3 34  M      2.98\n",
       "4 42  F      3.40\n",
       "5 20  F      2.75"
      ]
     },
     "metadata": {},
     "output_type": "display_data"
    }
   ],
   "source": [
    "# indexing dataframes\n",
    "nsc[3:5 , 2:4]   "
   ]
  },
  {
   "cell_type": "code",
   "execution_count": 148,
   "metadata": {},
   "outputs": [
    {
     "data": {
      "text/html": [
       "<table class=\"dataframe\">\n",
       "<caption>A data.frame: 4 × 2</caption>\n",
       "<thead>\n",
       "\t<tr><th></th><th scope=col>Gender</th><th scope=col>Age</th></tr>\n",
       "\t<tr><th></th><th scope=col>&lt;chr&gt;</th><th scope=col>&lt;dbl&gt;</th></tr>\n",
       "</thead>\n",
       "<tbody>\n",
       "\t<tr><th scope=row>1</th><td>F</td><td>27</td></tr>\n",
       "\t<tr><th scope=row>2</th><td>M</td><td>55</td></tr>\n",
       "\t<tr><th scope=row>4</th><td>F</td><td>42</td></tr>\n",
       "\t<tr><th scope=row>6</th><td>M</td><td>27</td></tr>\n",
       "</tbody>\n",
       "</table>\n"
      ],
      "text/latex": [
       "A data.frame: 4 × 2\n",
       "\\begin{tabular}{r|ll}\n",
       "  & Gender & Age\\\\\n",
       "  & <chr> & <dbl>\\\\\n",
       "\\hline\n",
       "\t1 & F & 27\\\\\n",
       "\t2 & M & 55\\\\\n",
       "\t4 & F & 42\\\\\n",
       "\t6 & M & 27\\\\\n",
       "\\end{tabular}\n"
      ],
      "text/markdown": [
       "\n",
       "A data.frame: 4 × 2\n",
       "\n",
       "| <!--/--> | Gender &lt;chr&gt; | Age &lt;dbl&gt; |\n",
       "|---|---|---|\n",
       "| 1 | F | 27 |\n",
       "| 2 | M | 55 |\n",
       "| 4 | F | 42 |\n",
       "| 6 | M | 27 |\n",
       "\n"
      ],
      "text/plain": [
       "  Gender Age\n",
       "1 F      27 \n",
       "2 M      55 \n",
       "4 F      42 \n",
       "6 M      27 "
      ]
     },
     "metadata": {},
     "output_type": "display_data"
    }
   ],
   "source": [
    "# indexing dataframes\n",
    "nsc[ c( 1 , 2 , 4, 6 ) , c( 3 , 2 ) ]"
   ]
  },
  {
   "cell_type": "code",
   "execution_count": 149,
   "metadata": {},
   "outputs": [
    {
     "data": {
      "text/html": [
       "<style>\n",
       ".list-inline {list-style: none; margin:0; padding: 0}\n",
       ".list-inline>li {display: inline-block}\n",
       ".list-inline>li:not(:last-child)::after {content: \"\\00b7\"; padding: 0 .5ex}\n",
       "</style>\n",
       "<ol class=list-inline><li>'Amy'</li><li>'Bob'</li><li>'Chuck'</li><li>'Daisy'</li><li>'Ellie'</li><li>'Frank'</li><li>'George'</li><li>'Helen'</li></ol>\n"
      ],
      "text/latex": [
       "\\begin{enumerate*}\n",
       "\\item 'Amy'\n",
       "\\item 'Bob'\n",
       "\\item 'Chuck'\n",
       "\\item 'Daisy'\n",
       "\\item 'Ellie'\n",
       "\\item 'Frank'\n",
       "\\item 'George'\n",
       "\\item 'Helen'\n",
       "\\end{enumerate*}\n"
      ],
      "text/markdown": [
       "1. 'Amy'\n",
       "2. 'Bob'\n",
       "3. 'Chuck'\n",
       "4. 'Daisy'\n",
       "5. 'Ellie'\n",
       "6. 'Frank'\n",
       "7. 'George'\n",
       "8. 'Helen'\n",
       "\n",
       "\n"
      ],
      "text/plain": [
       "[1] \"Amy\"    \"Bob\"    \"Chuck\"  \"Daisy\"  \"Ellie\"  \"Frank\"  \"George\" \"Helen\" "
      ]
     },
     "metadata": {},
     "output_type": "display_data"
    }
   ],
   "source": [
    "nsc$Student_Name"
   ]
  },
  {
   "cell_type": "markdown",
   "metadata": {},
   "source": [
    "## Load  files : CSV, Excel\n",
    "## Working with DataFrames"
   ]
  },
  {
   "cell_type": "code",
   "execution_count": 2,
   "metadata": {},
   "outputs": [],
   "source": [
    "#install.packages(\"readxl\")\n",
    "library(readxl)"
   ]
  },
  {
   "cell_type": "code",
   "execution_count": 9,
   "metadata": {},
   "outputs": [
    {
     "name": "stderr",
     "output_type": "stream",
     "text": [
      "New names:\n",
      "* `` -> ...1\n",
      "\n"
     ]
    },
    {
     "data": {
      "text/html": [
       "<table class=\"dataframe\">\n",
       "<caption>A tibble: 6 × 21</caption>\n",
       "<thead>\n",
       "\t<tr><th scope=col>...1</th><th scope=col>wage</th><th scope=col>lwage</th><th scope=col>sex</th><th scope=col>shs</th><th scope=col>hsg</th><th scope=col>scl</th><th scope=col>clg</th><th scope=col>ad</th><th scope=col>mw</th><th scope=col>...</th><th scope=col>we</th><th scope=col>ne</th><th scope=col>exp1</th><th scope=col>exp2</th><th scope=col>exp3</th><th scope=col>exp4</th><th scope=col>occ</th><th scope=col>occ2</th><th scope=col>ind</th><th scope=col>ind2</th></tr>\n",
       "\t<tr><th scope=col>&lt;dbl&gt;</th><th scope=col>&lt;dbl&gt;</th><th scope=col>&lt;dbl&gt;</th><th scope=col>&lt;dbl&gt;</th><th scope=col>&lt;dbl&gt;</th><th scope=col>&lt;dbl&gt;</th><th scope=col>&lt;dbl&gt;</th><th scope=col>&lt;dbl&gt;</th><th scope=col>&lt;dbl&gt;</th><th scope=col>&lt;dbl&gt;</th><th scope=col>...</th><th scope=col>&lt;dbl&gt;</th><th scope=col>&lt;dbl&gt;</th><th scope=col>&lt;dbl&gt;</th><th scope=col>&lt;dbl&gt;</th><th scope=col>&lt;dbl&gt;</th><th scope=col>&lt;dbl&gt;</th><th scope=col>&lt;dbl&gt;</th><th scope=col>&lt;dbl&gt;</th><th scope=col>&lt;dbl&gt;</th><th scope=col>&lt;dbl&gt;</th></tr>\n",
       "</thead>\n",
       "<tbody>\n",
       "\t<tr><td>10</td><td> 9.615385</td><td>2.263364</td><td>1</td><td>0</td><td>0</td><td>0</td><td>1</td><td>0</td><td>0</td><td>...</td><td>0</td><td>1</td><td> 7</td><td>0.49</td><td> 0.343</td><td> 0.2401</td><td>3600</td><td>11</td><td>8370</td><td>18</td></tr>\n",
       "\t<tr><td>12</td><td>48.076923</td><td>3.872802</td><td>0</td><td>0</td><td>0</td><td>0</td><td>1</td><td>0</td><td>0</td><td>...</td><td>0</td><td>1</td><td>31</td><td>9.61</td><td>29.791</td><td>92.3521</td><td>3050</td><td>10</td><td>5070</td><td> 9</td></tr>\n",
       "\t<tr><td>15</td><td>11.057692</td><td>2.403126</td><td>0</td><td>0</td><td>1</td><td>0</td><td>0</td><td>0</td><td>0</td><td>...</td><td>0</td><td>1</td><td>18</td><td>3.24</td><td> 5.832</td><td>10.4976</td><td>6260</td><td>19</td><td> 770</td><td> 4</td></tr>\n",
       "\t<tr><td>18</td><td>13.942308</td><td>2.634928</td><td>1</td><td>0</td><td>0</td><td>0</td><td>0</td><td>1</td><td>0</td><td>...</td><td>0</td><td>1</td><td>25</td><td>6.25</td><td>15.625</td><td>39.0625</td><td> 420</td><td> 1</td><td>6990</td><td>12</td></tr>\n",
       "\t<tr><td>19</td><td>28.846154</td><td>3.361977</td><td>1</td><td>0</td><td>0</td><td>0</td><td>1</td><td>0</td><td>0</td><td>...</td><td>0</td><td>1</td><td>22</td><td>4.84</td><td>10.648</td><td>23.4256</td><td>2015</td><td> 6</td><td>9470</td><td>22</td></tr>\n",
       "\t<tr><td>30</td><td>11.730769</td><td>2.462215</td><td>1</td><td>0</td><td>0</td><td>0</td><td>1</td><td>0</td><td>0</td><td>...</td><td>0</td><td>1</td><td> 1</td><td>0.01</td><td> 0.001</td><td> 0.0001</td><td>1650</td><td> 5</td><td>7460</td><td>14</td></tr>\n",
       "</tbody>\n",
       "</table>\n"
      ],
      "text/latex": [
       "A tibble: 6 × 21\n",
       "\\begin{tabular}{lllllllllllllllllllll}\n",
       " ...1 & wage & lwage & sex & shs & hsg & scl & clg & ad & mw & ... & we & ne & exp1 & exp2 & exp3 & exp4 & occ & occ2 & ind & ind2\\\\\n",
       " <dbl> & <dbl> & <dbl> & <dbl> & <dbl> & <dbl> & <dbl> & <dbl> & <dbl> & <dbl> & ... & <dbl> & <dbl> & <dbl> & <dbl> & <dbl> & <dbl> & <dbl> & <dbl> & <dbl> & <dbl>\\\\\n",
       "\\hline\n",
       "\t 10 &  9.615385 & 2.263364 & 1 & 0 & 0 & 0 & 1 & 0 & 0 & ... & 0 & 1 &  7 & 0.49 &  0.343 &  0.2401 & 3600 & 11 & 8370 & 18\\\\\n",
       "\t 12 & 48.076923 & 3.872802 & 0 & 0 & 0 & 0 & 1 & 0 & 0 & ... & 0 & 1 & 31 & 9.61 & 29.791 & 92.3521 & 3050 & 10 & 5070 &  9\\\\\n",
       "\t 15 & 11.057692 & 2.403126 & 0 & 0 & 1 & 0 & 0 & 0 & 0 & ... & 0 & 1 & 18 & 3.24 &  5.832 & 10.4976 & 6260 & 19 &  770 &  4\\\\\n",
       "\t 18 & 13.942308 & 2.634928 & 1 & 0 & 0 & 0 & 0 & 1 & 0 & ... & 0 & 1 & 25 & 6.25 & 15.625 & 39.0625 &  420 &  1 & 6990 & 12\\\\\n",
       "\t 19 & 28.846154 & 3.361977 & 1 & 0 & 0 & 0 & 1 & 0 & 0 & ... & 0 & 1 & 22 & 4.84 & 10.648 & 23.4256 & 2015 &  6 & 9470 & 22\\\\\n",
       "\t 30 & 11.730769 & 2.462215 & 1 & 0 & 0 & 0 & 1 & 0 & 0 & ... & 0 & 1 &  1 & 0.01 &  0.001 &  0.0001 & 1650 &  5 & 7460 & 14\\\\\n",
       "\\end{tabular}\n"
      ],
      "text/markdown": [
       "\n",
       "A tibble: 6 × 21\n",
       "\n",
       "| ...1 &lt;dbl&gt; | wage &lt;dbl&gt; | lwage &lt;dbl&gt; | sex &lt;dbl&gt; | shs &lt;dbl&gt; | hsg &lt;dbl&gt; | scl &lt;dbl&gt; | clg &lt;dbl&gt; | ad &lt;dbl&gt; | mw &lt;dbl&gt; | ... ... | we &lt;dbl&gt; | ne &lt;dbl&gt; | exp1 &lt;dbl&gt; | exp2 &lt;dbl&gt; | exp3 &lt;dbl&gt; | exp4 &lt;dbl&gt; | occ &lt;dbl&gt; | occ2 &lt;dbl&gt; | ind &lt;dbl&gt; | ind2 &lt;dbl&gt; |\n",
       "|---|---|---|---|---|---|---|---|---|---|---|---|---|---|---|---|---|---|---|---|---|\n",
       "| 10 |  9.615385 | 2.263364 | 1 | 0 | 0 | 0 | 1 | 0 | 0 | ... | 0 | 1 |  7 | 0.49 |  0.343 |  0.2401 | 3600 | 11 | 8370 | 18 |\n",
       "| 12 | 48.076923 | 3.872802 | 0 | 0 | 0 | 0 | 1 | 0 | 0 | ... | 0 | 1 | 31 | 9.61 | 29.791 | 92.3521 | 3050 | 10 | 5070 |  9 |\n",
       "| 15 | 11.057692 | 2.403126 | 0 | 0 | 1 | 0 | 0 | 0 | 0 | ... | 0 | 1 | 18 | 3.24 |  5.832 | 10.4976 | 6260 | 19 |  770 |  4 |\n",
       "| 18 | 13.942308 | 2.634928 | 1 | 0 | 0 | 0 | 0 | 1 | 0 | ... | 0 | 1 | 25 | 6.25 | 15.625 | 39.0625 |  420 |  1 | 6990 | 12 |\n",
       "| 19 | 28.846154 | 3.361977 | 1 | 0 | 0 | 0 | 1 | 0 | 0 | ... | 0 | 1 | 22 | 4.84 | 10.648 | 23.4256 | 2015 |  6 | 9470 | 22 |\n",
       "| 30 | 11.730769 | 2.462215 | 1 | 0 | 0 | 0 | 1 | 0 | 0 | ... | 0 | 1 |  1 | 0.01 |  0.001 |  0.0001 | 1650 |  5 | 7460 | 14 |\n",
       "\n"
      ],
      "text/plain": [
       "  ...1 wage      lwage    sex shs hsg scl clg ad mw ... we ne exp1 exp2 exp3  \n",
       "1 10    9.615385 2.263364 1   0   0   0   1   0  0  ... 0  1   7   0.49  0.343\n",
       "2 12   48.076923 3.872802 0   0   0   0   1   0  0  ... 0  1  31   9.61 29.791\n",
       "3 15   11.057692 2.403126 0   0   1   0   0   0  0  ... 0  1  18   3.24  5.832\n",
       "4 18   13.942308 2.634928 1   0   0   0   0   1  0  ... 0  1  25   6.25 15.625\n",
       "5 19   28.846154 3.361977 1   0   0   0   1   0  0  ... 0  1  22   4.84 10.648\n",
       "6 30   11.730769 2.462215 1   0   0   0   1   0  0  ... 0  1   1   0.01  0.001\n",
       "  exp4    occ  occ2 ind  ind2\n",
       "1  0.2401 3600 11   8370 18  \n",
       "2 92.3521 3050 10   5070  9  \n",
       "3 10.4976 6260 19    770  4  \n",
       "4 39.0625  420  1   6990 12  \n",
       "5 23.4256 2015  6   9470 22  \n",
       "6  0.0001 1650  5   7460 14  "
      ]
     },
     "metadata": {},
     "output_type": "display_data"
    }
   ],
   "source": [
    "base <- read_excel(\"../data/base1.xlsx\", sheet = \"data\")\n",
    "head(base)"
   ]
  },
  {
   "cell_type": "code",
   "execution_count": 6,
   "metadata": {},
   "outputs": [
    {
     "data": {
      "text/html": [
       "<style>\n",
       ".list-inline {list-style: none; margin:0; padding: 0}\n",
       ".list-inline>li {display: inline-block}\n",
       ".list-inline>li:not(:last-child)::after {content: \"\\00b7\"; padding: 0 .5ex}\n",
       "</style>\n",
       "<ol class=list-inline><li>5150</li><li>21</li></ol>\n"
      ],
      "text/latex": [
       "\\begin{enumerate*}\n",
       "\\item 5150\n",
       "\\item 21\n",
       "\\end{enumerate*}\n"
      ],
      "text/markdown": [
       "1. 5150\n",
       "2. 21\n",
       "\n",
       "\n"
      ],
      "text/plain": [
       "[1] 5150   21"
      ]
     },
     "metadata": {},
     "output_type": "display_data"
    }
   ],
   "source": [
    "dim(base)"
   ]
  },
  {
   "cell_type": "code",
   "execution_count": 28,
   "metadata": {
    "scrolled": true
   },
   "outputs": [
    {
     "data": {
      "text/html": [
       "<table class=\"dataframe\">\n",
       "<caption>A data.frame: 6 × 21</caption>\n",
       "<thead>\n",
       "\t<tr><th></th><th scope=col>X</th><th scope=col>wage</th><th scope=col>lwage</th><th scope=col>sex</th><th scope=col>shs</th><th scope=col>hsg</th><th scope=col>scl</th><th scope=col>clg</th><th scope=col>ad</th><th scope=col>mw</th><th scope=col>...</th><th scope=col>we</th><th scope=col>ne</th><th scope=col>exp1</th><th scope=col>exp2</th><th scope=col>exp3</th><th scope=col>exp4</th><th scope=col>occ</th><th scope=col>occ2</th><th scope=col>ind</th><th scope=col>ind2</th></tr>\n",
       "\t<tr><th></th><th scope=col>&lt;int&gt;</th><th scope=col>&lt;dbl&gt;</th><th scope=col>&lt;dbl&gt;</th><th scope=col>&lt;int&gt;</th><th scope=col>&lt;int&gt;</th><th scope=col>&lt;int&gt;</th><th scope=col>&lt;int&gt;</th><th scope=col>&lt;int&gt;</th><th scope=col>&lt;int&gt;</th><th scope=col>&lt;int&gt;</th><th scope=col>...</th><th scope=col>&lt;int&gt;</th><th scope=col>&lt;int&gt;</th><th scope=col>&lt;dbl&gt;</th><th scope=col>&lt;dbl&gt;</th><th scope=col>&lt;dbl&gt;</th><th scope=col>&lt;dbl&gt;</th><th scope=col>&lt;dbl&gt;</th><th scope=col>&lt;int&gt;</th><th scope=col>&lt;dbl&gt;</th><th scope=col>&lt;int&gt;</th></tr>\n",
       "</thead>\n",
       "<tbody>\n",
       "\t<tr><th scope=row>1</th><td>10</td><td> 9.615385</td><td>2.263364</td><td>1</td><td>0</td><td>0</td><td>0</td><td>1</td><td>0</td><td>0</td><td>...</td><td>0</td><td>1</td><td> 7</td><td>0.49</td><td> 0.343</td><td> 0.2401</td><td>3600</td><td>11</td><td>8370</td><td>18</td></tr>\n",
       "\t<tr><th scope=row>2</th><td>12</td><td>48.076923</td><td>3.872802</td><td>0</td><td>0</td><td>0</td><td>0</td><td>1</td><td>0</td><td>0</td><td>...</td><td>0</td><td>1</td><td>31</td><td>9.61</td><td>29.791</td><td>92.3521</td><td>3050</td><td>10</td><td>5070</td><td> 9</td></tr>\n",
       "\t<tr><th scope=row>3</th><td>15</td><td>11.057692</td><td>2.403126</td><td>0</td><td>0</td><td>1</td><td>0</td><td>0</td><td>0</td><td>0</td><td>...</td><td>0</td><td>1</td><td>18</td><td>3.24</td><td> 5.832</td><td>10.4976</td><td>6260</td><td>19</td><td> 770</td><td> 4</td></tr>\n",
       "\t<tr><th scope=row>4</th><td>18</td><td>13.942308</td><td>2.634928</td><td>1</td><td>0</td><td>0</td><td>0</td><td>0</td><td>1</td><td>0</td><td>...</td><td>0</td><td>1</td><td>25</td><td>6.25</td><td>15.625</td><td>39.0625</td><td> 420</td><td> 1</td><td>6990</td><td>12</td></tr>\n",
       "\t<tr><th scope=row>5</th><td>19</td><td>28.846154</td><td>3.361977</td><td>1</td><td>0</td><td>0</td><td>0</td><td>1</td><td>0</td><td>0</td><td>...</td><td>0</td><td>1</td><td>22</td><td>4.84</td><td>10.648</td><td>23.4256</td><td>2015</td><td> 6</td><td>9470</td><td>22</td></tr>\n",
       "\t<tr><th scope=row>6</th><td>30</td><td>11.730769</td><td>2.462215</td><td>1</td><td>0</td><td>0</td><td>0</td><td>1</td><td>0</td><td>0</td><td>...</td><td>0</td><td>1</td><td> 1</td><td>0.01</td><td> 0.001</td><td> 0.0001</td><td>1650</td><td> 5</td><td>7460</td><td>14</td></tr>\n",
       "</tbody>\n",
       "</table>\n"
      ],
      "text/latex": [
       "A data.frame: 6 × 21\n",
       "\\begin{tabular}{r|lllllllllllllllllllll}\n",
       "  & X & wage & lwage & sex & shs & hsg & scl & clg & ad & mw & ... & we & ne & exp1 & exp2 & exp3 & exp4 & occ & occ2 & ind & ind2\\\\\n",
       "  & <int> & <dbl> & <dbl> & <int> & <int> & <int> & <int> & <int> & <int> & <int> & ... & <int> & <int> & <dbl> & <dbl> & <dbl> & <dbl> & <dbl> & <int> & <dbl> & <int>\\\\\n",
       "\\hline\n",
       "\t1 & 10 &  9.615385 & 2.263364 & 1 & 0 & 0 & 0 & 1 & 0 & 0 & ... & 0 & 1 &  7 & 0.49 &  0.343 &  0.2401 & 3600 & 11 & 8370 & 18\\\\\n",
       "\t2 & 12 & 48.076923 & 3.872802 & 0 & 0 & 0 & 0 & 1 & 0 & 0 & ... & 0 & 1 & 31 & 9.61 & 29.791 & 92.3521 & 3050 & 10 & 5070 &  9\\\\\n",
       "\t3 & 15 & 11.057692 & 2.403126 & 0 & 0 & 1 & 0 & 0 & 0 & 0 & ... & 0 & 1 & 18 & 3.24 &  5.832 & 10.4976 & 6260 & 19 &  770 &  4\\\\\n",
       "\t4 & 18 & 13.942308 & 2.634928 & 1 & 0 & 0 & 0 & 0 & 1 & 0 & ... & 0 & 1 & 25 & 6.25 & 15.625 & 39.0625 &  420 &  1 & 6990 & 12\\\\\n",
       "\t5 & 19 & 28.846154 & 3.361977 & 1 & 0 & 0 & 0 & 1 & 0 & 0 & ... & 0 & 1 & 22 & 4.84 & 10.648 & 23.4256 & 2015 &  6 & 9470 & 22\\\\\n",
       "\t6 & 30 & 11.730769 & 2.462215 & 1 & 0 & 0 & 0 & 1 & 0 & 0 & ... & 0 & 1 &  1 & 0.01 &  0.001 &  0.0001 & 1650 &  5 & 7460 & 14\\\\\n",
       "\\end{tabular}\n"
      ],
      "text/markdown": [
       "\n",
       "A data.frame: 6 × 21\n",
       "\n",
       "| <!--/--> | X &lt;int&gt; | wage &lt;dbl&gt; | lwage &lt;dbl&gt; | sex &lt;int&gt; | shs &lt;int&gt; | hsg &lt;int&gt; | scl &lt;int&gt; | clg &lt;int&gt; | ad &lt;int&gt; | mw &lt;int&gt; | ... ... | we &lt;int&gt; | ne &lt;int&gt; | exp1 &lt;dbl&gt; | exp2 &lt;dbl&gt; | exp3 &lt;dbl&gt; | exp4 &lt;dbl&gt; | occ &lt;dbl&gt; | occ2 &lt;int&gt; | ind &lt;dbl&gt; | ind2 &lt;int&gt; |\n",
       "|---|---|---|---|---|---|---|---|---|---|---|---|---|---|---|---|---|---|---|---|---|---|\n",
       "| 1 | 10 |  9.615385 | 2.263364 | 1 | 0 | 0 | 0 | 1 | 0 | 0 | ... | 0 | 1 |  7 | 0.49 |  0.343 |  0.2401 | 3600 | 11 | 8370 | 18 |\n",
       "| 2 | 12 | 48.076923 | 3.872802 | 0 | 0 | 0 | 0 | 1 | 0 | 0 | ... | 0 | 1 | 31 | 9.61 | 29.791 | 92.3521 | 3050 | 10 | 5070 |  9 |\n",
       "| 3 | 15 | 11.057692 | 2.403126 | 0 | 0 | 1 | 0 | 0 | 0 | 0 | ... | 0 | 1 | 18 | 3.24 |  5.832 | 10.4976 | 6260 | 19 |  770 |  4 |\n",
       "| 4 | 18 | 13.942308 | 2.634928 | 1 | 0 | 0 | 0 | 0 | 1 | 0 | ... | 0 | 1 | 25 | 6.25 | 15.625 | 39.0625 |  420 |  1 | 6990 | 12 |\n",
       "| 5 | 19 | 28.846154 | 3.361977 | 1 | 0 | 0 | 0 | 1 | 0 | 0 | ... | 0 | 1 | 22 | 4.84 | 10.648 | 23.4256 | 2015 |  6 | 9470 | 22 |\n",
       "| 6 | 30 | 11.730769 | 2.462215 | 1 | 0 | 0 | 0 | 1 | 0 | 0 | ... | 0 | 1 |  1 | 0.01 |  0.001 |  0.0001 | 1650 |  5 | 7460 | 14 |\n",
       "\n"
      ],
      "text/plain": [
       "  X  wage      lwage    sex shs hsg scl clg ad mw ... we ne exp1 exp2 exp3  \n",
       "1 10  9.615385 2.263364 1   0   0   0   1   0  0  ... 0  1   7   0.49  0.343\n",
       "2 12 48.076923 3.872802 0   0   0   0   1   0  0  ... 0  1  31   9.61 29.791\n",
       "3 15 11.057692 2.403126 0   0   1   0   0   0  0  ... 0  1  18   3.24  5.832\n",
       "4 18 13.942308 2.634928 1   0   0   0   0   1  0  ... 0  1  25   6.25 15.625\n",
       "5 19 28.846154 3.361977 1   0   0   0   1   0  0  ... 0  1  22   4.84 10.648\n",
       "6 30 11.730769 2.462215 1   0   0   0   1   0  0  ... 0  1   1   0.01  0.001\n",
       "  exp4    occ  occ2 ind  ind2\n",
       "1  0.2401 3600 11   8370 18  \n",
       "2 92.3521 3050 10   5070  9  \n",
       "3 10.4976 6260 19    770  4  \n",
       "4 39.0625  420  1   6990 12  \n",
       "5 23.4256 2015  6   9470 22  \n",
       "6  0.0001 1650  5   7460 14  "
      ]
     },
     "metadata": {},
     "output_type": "display_data"
    }
   ],
   "source": [
    "base1 <- read.csv(\"../data/base0.csv\")\n",
    "head(base1)"
   ]
  },
  {
   "cell_type": "code",
   "execution_count": 29,
   "metadata": {},
   "outputs": [
    {
     "data": {
      "text/html": [
       "<style>\n",
       ".dl-inline {width: auto; margin:0; padding: 0}\n",
       ".dl-inline>dt, .dl-inline>dd {float: none; width: auto; display: inline-block}\n",
       ".dl-inline>dt::after {content: \":\\0020\"; padding-right: .5ex}\n",
       ".dl-inline>dt:not(:first-of-type) {padding-left: .5ex}\n",
       "</style><dl class=dl-inline><dt>...1</dt><dd>'double'</dd><dt>wage</dt><dd>'double'</dd><dt>lwage</dt><dd>'double'</dd><dt>sex</dt><dd>'double'</dd><dt>shs</dt><dd>'double'</dd><dt>hsg</dt><dd>'double'</dd><dt>scl</dt><dd>'double'</dd><dt>clg</dt><dd>'double'</dd><dt>ad</dt><dd>'double'</dd><dt>mw</dt><dd>'double'</dd><dt>so</dt><dd>'double'</dd><dt>we</dt><dd>'double'</dd><dt>ne</dt><dd>'double'</dd><dt>exp1</dt><dd>'double'</dd><dt>exp2</dt><dd>'double'</dd><dt>exp3</dt><dd>'double'</dd><dt>exp4</dt><dd>'double'</dd><dt>occ</dt><dd>'double'</dd><dt>occ2</dt><dd>'double'</dd><dt>ind</dt><dd>'double'</dd><dt>ind2</dt><dd>'double'</dd></dl>\n"
      ],
      "text/latex": [
       "\\begin{description*}\n",
       "\\item[...1] 'double'\n",
       "\\item[wage] 'double'\n",
       "\\item[lwage] 'double'\n",
       "\\item[sex] 'double'\n",
       "\\item[shs] 'double'\n",
       "\\item[hsg] 'double'\n",
       "\\item[scl] 'double'\n",
       "\\item[clg] 'double'\n",
       "\\item[ad] 'double'\n",
       "\\item[mw] 'double'\n",
       "\\item[so] 'double'\n",
       "\\item[we] 'double'\n",
       "\\item[ne] 'double'\n",
       "\\item[exp1] 'double'\n",
       "\\item[exp2] 'double'\n",
       "\\item[exp3] 'double'\n",
       "\\item[exp4] 'double'\n",
       "\\item[occ] 'double'\n",
       "\\item[occ2] 'double'\n",
       "\\item[ind] 'double'\n",
       "\\item[ind2] 'double'\n",
       "\\end{description*}\n"
      ],
      "text/markdown": [
       "...1\n",
       ":   'double'wage\n",
       ":   'double'lwage\n",
       ":   'double'sex\n",
       ":   'double'shs\n",
       ":   'double'hsg\n",
       ":   'double'scl\n",
       ":   'double'clg\n",
       ":   'double'ad\n",
       ":   'double'mw\n",
       ":   'double'so\n",
       ":   'double'we\n",
       ":   'double'ne\n",
       ":   'double'exp1\n",
       ":   'double'exp2\n",
       ":   'double'exp3\n",
       ":   'double'exp4\n",
       ":   'double'occ\n",
       ":   'double'occ2\n",
       ":   'double'ind\n",
       ":   'double'ind2\n",
       ":   'double'\n",
       "\n"
      ],
      "text/plain": [
       "    ...1     wage    lwage      sex      shs      hsg      scl      clg \n",
       "\"double\" \"double\" \"double\" \"double\" \"double\" \"double\" \"double\" \"double\" \n",
       "      ad       mw       so       we       ne     exp1     exp2     exp3 \n",
       "\"double\" \"double\" \"double\" \"double\" \"double\" \"double\" \"double\" \"double\" \n",
       "    exp4      occ     occ2      ind     ind2 \n",
       "\"double\" \"double\" \"double\" \"double\" \"double\" "
      ]
     },
     "metadata": {},
     "output_type": "display_data"
    }
   ],
   "source": [
    "sapply(base, typeof)"
   ]
  },
  {
   "cell_type": "code",
   "execution_count": 30,
   "metadata": {},
   "outputs": [
    {
     "name": "stdout",
     "output_type": "stream",
     "text": [
      "tibble [5,150 x 21] (S3: tbl_df/tbl/data.frame)\n",
      " $ ...1 : num [1:5150] 10 12 15 18 19 30 43 44 47 71 ...\n",
      " $ wage : num [1:5150] 9.62 48.08 11.06 13.94 28.85 ...\n",
      " $ lwage: num [1:5150] 2.26 3.87 2.4 2.63 3.36 ...\n",
      " $ sex  : num [1:5150] 1 0 0 1 1 1 1 0 1 1 ...\n",
      " $ shs  : num [1:5150] 0 0 0 0 0 0 0 0 0 0 ...\n",
      " $ hsg  : num [1:5150] 0 0 1 0 0 0 1 1 1 0 ...\n",
      " $ scl  : num [1:5150] 0 0 0 0 0 0 0 0 0 0 ...\n",
      " $ clg  : num [1:5150] 1 1 0 0 1 1 0 0 0 1 ...\n",
      " $ ad   : num [1:5150] 0 0 0 1 0 0 0 0 0 0 ...\n",
      " $ mw   : num [1:5150] 0 0 0 0 0 0 0 0 0 0 ...\n",
      " $ so   : num [1:5150] 0 0 0 0 0 0 0 0 0 0 ...\n",
      " $ we   : num [1:5150] 0 0 0 0 0 0 0 0 0 0 ...\n",
      " $ ne   : num [1:5150] 1 1 1 1 1 1 1 1 1 1 ...\n",
      " $ exp1 : num [1:5150] 7 31 18 25 22 1 42 37 31 4 ...\n",
      " $ exp2 : num [1:5150] 0.49 9.61 3.24 6.25 4.84 ...\n",
      " $ exp3 : num [1:5150] 0.343 29.791 5.832 15.625 10.648 ...\n",
      " $ exp4 : num [1:5150] 0.24 92.35 10.5 39.06 23.43 ...\n",
      " $ occ  : num [1:5150] 3600 3050 6260 420 2015 ...\n",
      " $ occ2 : num [1:5150] 11 10 19 1 6 5 17 17 13 10 ...\n",
      " $ ind  : num [1:5150] 8370 5070 770 6990 9470 7460 7280 5680 8590 8190 ...\n",
      " $ ind2 : num [1:5150] 18 9 4 12 22 14 14 9 19 18 ...\n"
     ]
    }
   ],
   "source": [
    "str(base)"
   ]
  },
  {
   "cell_type": "code",
   "execution_count": 31,
   "metadata": {},
   "outputs": [],
   "source": [
    "#install.packages(\"dplyr\")\n",
    "library(dplyr)"
   ]
  },
  {
   "cell_type": "code",
   "execution_count": 32,
   "metadata": {
    "scrolled": false
   },
   "outputs": [
    {
     "data": {
      "text/html": [
       "<table class=\"dataframe\">\n",
       "<caption>A data.frame: 6 × 21</caption>\n",
       "<thead>\n",
       "\t<tr><th></th><th scope=col>id</th><th scope=col>salario</th><th scope=col>lwage</th><th scope=col>sex</th><th scope=col>shs</th><th scope=col>hsg</th><th scope=col>scl</th><th scope=col>clg</th><th scope=col>ad</th><th scope=col>mw</th><th scope=col>...</th><th scope=col>we</th><th scope=col>ne</th><th scope=col>exp1</th><th scope=col>exp2</th><th scope=col>exp3</th><th scope=col>exp4</th><th scope=col>occ</th><th scope=col>occ2</th><th scope=col>ind</th><th scope=col>ind2</th></tr>\n",
       "\t<tr><th></th><th scope=col>&lt;int&gt;</th><th scope=col>&lt;dbl&gt;</th><th scope=col>&lt;dbl&gt;</th><th scope=col>&lt;int&gt;</th><th scope=col>&lt;int&gt;</th><th scope=col>&lt;int&gt;</th><th scope=col>&lt;int&gt;</th><th scope=col>&lt;int&gt;</th><th scope=col>&lt;int&gt;</th><th scope=col>&lt;int&gt;</th><th scope=col>...</th><th scope=col>&lt;int&gt;</th><th scope=col>&lt;int&gt;</th><th scope=col>&lt;dbl&gt;</th><th scope=col>&lt;dbl&gt;</th><th scope=col>&lt;dbl&gt;</th><th scope=col>&lt;dbl&gt;</th><th scope=col>&lt;dbl&gt;</th><th scope=col>&lt;int&gt;</th><th scope=col>&lt;dbl&gt;</th><th scope=col>&lt;int&gt;</th></tr>\n",
       "</thead>\n",
       "<tbody>\n",
       "\t<tr><th scope=row>1</th><td>10</td><td> 9.615385</td><td>2.263364</td><td>1</td><td>0</td><td>0</td><td>0</td><td>1</td><td>0</td><td>0</td><td>...</td><td>0</td><td>1</td><td> 7</td><td>0.49</td><td> 0.343</td><td> 0.2401</td><td>3600</td><td>11</td><td>8370</td><td>18</td></tr>\n",
       "\t<tr><th scope=row>2</th><td>12</td><td>48.076923</td><td>3.872802</td><td>0</td><td>0</td><td>0</td><td>0</td><td>1</td><td>0</td><td>0</td><td>...</td><td>0</td><td>1</td><td>31</td><td>9.61</td><td>29.791</td><td>92.3521</td><td>3050</td><td>10</td><td>5070</td><td> 9</td></tr>\n",
       "\t<tr><th scope=row>3</th><td>15</td><td>11.057692</td><td>2.403126</td><td>0</td><td>0</td><td>1</td><td>0</td><td>0</td><td>0</td><td>0</td><td>...</td><td>0</td><td>1</td><td>18</td><td>3.24</td><td> 5.832</td><td>10.4976</td><td>6260</td><td>19</td><td> 770</td><td> 4</td></tr>\n",
       "\t<tr><th scope=row>4</th><td>18</td><td>13.942308</td><td>2.634928</td><td>1</td><td>0</td><td>0</td><td>0</td><td>0</td><td>1</td><td>0</td><td>...</td><td>0</td><td>1</td><td>25</td><td>6.25</td><td>15.625</td><td>39.0625</td><td> 420</td><td> 1</td><td>6990</td><td>12</td></tr>\n",
       "\t<tr><th scope=row>5</th><td>19</td><td>28.846154</td><td>3.361977</td><td>1</td><td>0</td><td>0</td><td>0</td><td>1</td><td>0</td><td>0</td><td>...</td><td>0</td><td>1</td><td>22</td><td>4.84</td><td>10.648</td><td>23.4256</td><td>2015</td><td> 6</td><td>9470</td><td>22</td></tr>\n",
       "\t<tr><th scope=row>6</th><td>30</td><td>11.730769</td><td>2.462215</td><td>1</td><td>0</td><td>0</td><td>0</td><td>1</td><td>0</td><td>0</td><td>...</td><td>0</td><td>1</td><td> 1</td><td>0.01</td><td> 0.001</td><td> 0.0001</td><td>1650</td><td> 5</td><td>7460</td><td>14</td></tr>\n",
       "</tbody>\n",
       "</table>\n"
      ],
      "text/latex": [
       "A data.frame: 6 × 21\n",
       "\\begin{tabular}{r|lllllllllllllllllllll}\n",
       "  & id & salario & lwage & sex & shs & hsg & scl & clg & ad & mw & ... & we & ne & exp1 & exp2 & exp3 & exp4 & occ & occ2 & ind & ind2\\\\\n",
       "  & <int> & <dbl> & <dbl> & <int> & <int> & <int> & <int> & <int> & <int> & <int> & ... & <int> & <int> & <dbl> & <dbl> & <dbl> & <dbl> & <dbl> & <int> & <dbl> & <int>\\\\\n",
       "\\hline\n",
       "\t1 & 10 &  9.615385 & 2.263364 & 1 & 0 & 0 & 0 & 1 & 0 & 0 & ... & 0 & 1 &  7 & 0.49 &  0.343 &  0.2401 & 3600 & 11 & 8370 & 18\\\\\n",
       "\t2 & 12 & 48.076923 & 3.872802 & 0 & 0 & 0 & 0 & 1 & 0 & 0 & ... & 0 & 1 & 31 & 9.61 & 29.791 & 92.3521 & 3050 & 10 & 5070 &  9\\\\\n",
       "\t3 & 15 & 11.057692 & 2.403126 & 0 & 0 & 1 & 0 & 0 & 0 & 0 & ... & 0 & 1 & 18 & 3.24 &  5.832 & 10.4976 & 6260 & 19 &  770 &  4\\\\\n",
       "\t4 & 18 & 13.942308 & 2.634928 & 1 & 0 & 0 & 0 & 0 & 1 & 0 & ... & 0 & 1 & 25 & 6.25 & 15.625 & 39.0625 &  420 &  1 & 6990 & 12\\\\\n",
       "\t5 & 19 & 28.846154 & 3.361977 & 1 & 0 & 0 & 0 & 1 & 0 & 0 & ... & 0 & 1 & 22 & 4.84 & 10.648 & 23.4256 & 2015 &  6 & 9470 & 22\\\\\n",
       "\t6 & 30 & 11.730769 & 2.462215 & 1 & 0 & 0 & 0 & 1 & 0 & 0 & ... & 0 & 1 &  1 & 0.01 &  0.001 &  0.0001 & 1650 &  5 & 7460 & 14\\\\\n",
       "\\end{tabular}\n"
      ],
      "text/markdown": [
       "\n",
       "A data.frame: 6 × 21\n",
       "\n",
       "| <!--/--> | id &lt;int&gt; | salario &lt;dbl&gt; | lwage &lt;dbl&gt; | sex &lt;int&gt; | shs &lt;int&gt; | hsg &lt;int&gt; | scl &lt;int&gt; | clg &lt;int&gt; | ad &lt;int&gt; | mw &lt;int&gt; | ... ... | we &lt;int&gt; | ne &lt;int&gt; | exp1 &lt;dbl&gt; | exp2 &lt;dbl&gt; | exp3 &lt;dbl&gt; | exp4 &lt;dbl&gt; | occ &lt;dbl&gt; | occ2 &lt;int&gt; | ind &lt;dbl&gt; | ind2 &lt;int&gt; |\n",
       "|---|---|---|---|---|---|---|---|---|---|---|---|---|---|---|---|---|---|---|---|---|---|\n",
       "| 1 | 10 |  9.615385 | 2.263364 | 1 | 0 | 0 | 0 | 1 | 0 | 0 | ... | 0 | 1 |  7 | 0.49 |  0.343 |  0.2401 | 3600 | 11 | 8370 | 18 |\n",
       "| 2 | 12 | 48.076923 | 3.872802 | 0 | 0 | 0 | 0 | 1 | 0 | 0 | ... | 0 | 1 | 31 | 9.61 | 29.791 | 92.3521 | 3050 | 10 | 5070 |  9 |\n",
       "| 3 | 15 | 11.057692 | 2.403126 | 0 | 0 | 1 | 0 | 0 | 0 | 0 | ... | 0 | 1 | 18 | 3.24 |  5.832 | 10.4976 | 6260 | 19 |  770 |  4 |\n",
       "| 4 | 18 | 13.942308 | 2.634928 | 1 | 0 | 0 | 0 | 0 | 1 | 0 | ... | 0 | 1 | 25 | 6.25 | 15.625 | 39.0625 |  420 |  1 | 6990 | 12 |\n",
       "| 5 | 19 | 28.846154 | 3.361977 | 1 | 0 | 0 | 0 | 1 | 0 | 0 | ... | 0 | 1 | 22 | 4.84 | 10.648 | 23.4256 | 2015 |  6 | 9470 | 22 |\n",
       "| 6 | 30 | 11.730769 | 2.462215 | 1 | 0 | 0 | 0 | 1 | 0 | 0 | ... | 0 | 1 |  1 | 0.01 |  0.001 |  0.0001 | 1650 |  5 | 7460 | 14 |\n",
       "\n"
      ],
      "text/plain": [
       "  id salario   lwage    sex shs hsg scl clg ad mw ... we ne exp1 exp2 exp3  \n",
       "1 10  9.615385 2.263364 1   0   0   0   1   0  0  ... 0  1   7   0.49  0.343\n",
       "2 12 48.076923 3.872802 0   0   0   0   1   0  0  ... 0  1  31   9.61 29.791\n",
       "3 15 11.057692 2.403126 0   0   1   0   0   0  0  ... 0  1  18   3.24  5.832\n",
       "4 18 13.942308 2.634928 1   0   0   0   0   1  0  ... 0  1  25   6.25 15.625\n",
       "5 19 28.846154 3.361977 1   0   0   0   1   0  0  ... 0  1  22   4.84 10.648\n",
       "6 30 11.730769 2.462215 1   0   0   0   1   0  0  ... 0  1   1   0.01  0.001\n",
       "  exp4    occ  occ2 ind  ind2\n",
       "1  0.2401 3600 11   8370 18  \n",
       "2 92.3521 3050 10   5070  9  \n",
       "3 10.4976 6260 19    770  4  \n",
       "4 39.0625  420  1   6990 12  \n",
       "5 23.4256 2015  6   9470 22  \n",
       "6  0.0001 1650  5   7460 14  "
      ]
     },
     "metadata": {},
     "output_type": "display_data"
    }
   ],
   "source": [
    "base1 <- base1 %>% rename(salario = wage, id = X)\n",
    "\n",
    "head(base1)"
   ]
  },
  {
   "cell_type": "code",
   "execution_count": 33,
   "metadata": {},
   "outputs": [],
   "source": [
    "base1 <- base1 %>% select(-c(id,ind2))"
   ]
  },
  {
   "cell_type": "code",
   "execution_count": 34,
   "metadata": {
    "scrolled": false
   },
   "outputs": [
    {
     "data": {
      "text/html": [
       "<table class=\"dataframe\">\n",
       "<caption>A data.frame: 6 × 19</caption>\n",
       "<thead>\n",
       "\t<tr><th></th><th scope=col>salario</th><th scope=col>lwage</th><th scope=col>sex</th><th scope=col>shs</th><th scope=col>hsg</th><th scope=col>scl</th><th scope=col>clg</th><th scope=col>ad</th><th scope=col>mw</th><th scope=col>so</th><th scope=col>we</th><th scope=col>ne</th><th scope=col>exp1</th><th scope=col>exp2</th><th scope=col>exp3</th><th scope=col>exp4</th><th scope=col>occ</th><th scope=col>occ2</th><th scope=col>ind</th></tr>\n",
       "\t<tr><th></th><th scope=col>&lt;dbl&gt;</th><th scope=col>&lt;dbl&gt;</th><th scope=col>&lt;int&gt;</th><th scope=col>&lt;int&gt;</th><th scope=col>&lt;int&gt;</th><th scope=col>&lt;int&gt;</th><th scope=col>&lt;int&gt;</th><th scope=col>&lt;int&gt;</th><th scope=col>&lt;int&gt;</th><th scope=col>&lt;int&gt;</th><th scope=col>&lt;int&gt;</th><th scope=col>&lt;int&gt;</th><th scope=col>&lt;dbl&gt;</th><th scope=col>&lt;dbl&gt;</th><th scope=col>&lt;dbl&gt;</th><th scope=col>&lt;dbl&gt;</th><th scope=col>&lt;dbl&gt;</th><th scope=col>&lt;int&gt;</th><th scope=col>&lt;dbl&gt;</th></tr>\n",
       "</thead>\n",
       "<tbody>\n",
       "\t<tr><th scope=row>1</th><td> 9.615385</td><td>2.263364</td><td>1</td><td>0</td><td>0</td><td>0</td><td>1</td><td>0</td><td>0</td><td>0</td><td>0</td><td>1</td><td> 7</td><td>0.49</td><td> 0.343</td><td> 0.2401</td><td>3600</td><td>11</td><td>8370</td></tr>\n",
       "\t<tr><th scope=row>2</th><td>48.076923</td><td>3.872802</td><td>0</td><td>0</td><td>0</td><td>0</td><td>1</td><td>0</td><td>0</td><td>0</td><td>0</td><td>1</td><td>31</td><td>9.61</td><td>29.791</td><td>92.3521</td><td>3050</td><td>10</td><td>5070</td></tr>\n",
       "\t<tr><th scope=row>3</th><td>11.057692</td><td>2.403126</td><td>0</td><td>0</td><td>1</td><td>0</td><td>0</td><td>0</td><td>0</td><td>0</td><td>0</td><td>1</td><td>18</td><td>3.24</td><td> 5.832</td><td>10.4976</td><td>6260</td><td>19</td><td> 770</td></tr>\n",
       "\t<tr><th scope=row>4</th><td>13.942308</td><td>2.634928</td><td>1</td><td>0</td><td>0</td><td>0</td><td>0</td><td>1</td><td>0</td><td>0</td><td>0</td><td>1</td><td>25</td><td>6.25</td><td>15.625</td><td>39.0625</td><td> 420</td><td> 1</td><td>6990</td></tr>\n",
       "\t<tr><th scope=row>5</th><td>28.846154</td><td>3.361977</td><td>1</td><td>0</td><td>0</td><td>0</td><td>1</td><td>0</td><td>0</td><td>0</td><td>0</td><td>1</td><td>22</td><td>4.84</td><td>10.648</td><td>23.4256</td><td>2015</td><td> 6</td><td>9470</td></tr>\n",
       "\t<tr><th scope=row>6</th><td>11.730769</td><td>2.462215</td><td>1</td><td>0</td><td>0</td><td>0</td><td>1</td><td>0</td><td>0</td><td>0</td><td>0</td><td>1</td><td> 1</td><td>0.01</td><td> 0.001</td><td> 0.0001</td><td>1650</td><td> 5</td><td>7460</td></tr>\n",
       "</tbody>\n",
       "</table>\n"
      ],
      "text/latex": [
       "A data.frame: 6 × 19\n",
       "\\begin{tabular}{r|lllllllllllllllllll}\n",
       "  & salario & lwage & sex & shs & hsg & scl & clg & ad & mw & so & we & ne & exp1 & exp2 & exp3 & exp4 & occ & occ2 & ind\\\\\n",
       "  & <dbl> & <dbl> & <int> & <int> & <int> & <int> & <int> & <int> & <int> & <int> & <int> & <int> & <dbl> & <dbl> & <dbl> & <dbl> & <dbl> & <int> & <dbl>\\\\\n",
       "\\hline\n",
       "\t1 &  9.615385 & 2.263364 & 1 & 0 & 0 & 0 & 1 & 0 & 0 & 0 & 0 & 1 &  7 & 0.49 &  0.343 &  0.2401 & 3600 & 11 & 8370\\\\\n",
       "\t2 & 48.076923 & 3.872802 & 0 & 0 & 0 & 0 & 1 & 0 & 0 & 0 & 0 & 1 & 31 & 9.61 & 29.791 & 92.3521 & 3050 & 10 & 5070\\\\\n",
       "\t3 & 11.057692 & 2.403126 & 0 & 0 & 1 & 0 & 0 & 0 & 0 & 0 & 0 & 1 & 18 & 3.24 &  5.832 & 10.4976 & 6260 & 19 &  770\\\\\n",
       "\t4 & 13.942308 & 2.634928 & 1 & 0 & 0 & 0 & 0 & 1 & 0 & 0 & 0 & 1 & 25 & 6.25 & 15.625 & 39.0625 &  420 &  1 & 6990\\\\\n",
       "\t5 & 28.846154 & 3.361977 & 1 & 0 & 0 & 0 & 1 & 0 & 0 & 0 & 0 & 1 & 22 & 4.84 & 10.648 & 23.4256 & 2015 &  6 & 9470\\\\\n",
       "\t6 & 11.730769 & 2.462215 & 1 & 0 & 0 & 0 & 1 & 0 & 0 & 0 & 0 & 1 &  1 & 0.01 &  0.001 &  0.0001 & 1650 &  5 & 7460\\\\\n",
       "\\end{tabular}\n"
      ],
      "text/markdown": [
       "\n",
       "A data.frame: 6 × 19\n",
       "\n",
       "| <!--/--> | salario &lt;dbl&gt; | lwage &lt;dbl&gt; | sex &lt;int&gt; | shs &lt;int&gt; | hsg &lt;int&gt; | scl &lt;int&gt; | clg &lt;int&gt; | ad &lt;int&gt; | mw &lt;int&gt; | so &lt;int&gt; | we &lt;int&gt; | ne &lt;int&gt; | exp1 &lt;dbl&gt; | exp2 &lt;dbl&gt; | exp3 &lt;dbl&gt; | exp4 &lt;dbl&gt; | occ &lt;dbl&gt; | occ2 &lt;int&gt; | ind &lt;dbl&gt; |\n",
       "|---|---|---|---|---|---|---|---|---|---|---|---|---|---|---|---|---|---|---|---|\n",
       "| 1 |  9.615385 | 2.263364 | 1 | 0 | 0 | 0 | 1 | 0 | 0 | 0 | 0 | 1 |  7 | 0.49 |  0.343 |  0.2401 | 3600 | 11 | 8370 |\n",
       "| 2 | 48.076923 | 3.872802 | 0 | 0 | 0 | 0 | 1 | 0 | 0 | 0 | 0 | 1 | 31 | 9.61 | 29.791 | 92.3521 | 3050 | 10 | 5070 |\n",
       "| 3 | 11.057692 | 2.403126 | 0 | 0 | 1 | 0 | 0 | 0 | 0 | 0 | 0 | 1 | 18 | 3.24 |  5.832 | 10.4976 | 6260 | 19 |  770 |\n",
       "| 4 | 13.942308 | 2.634928 | 1 | 0 | 0 | 0 | 0 | 1 | 0 | 0 | 0 | 1 | 25 | 6.25 | 15.625 | 39.0625 |  420 |  1 | 6990 |\n",
       "| 5 | 28.846154 | 3.361977 | 1 | 0 | 0 | 0 | 1 | 0 | 0 | 0 | 0 | 1 | 22 | 4.84 | 10.648 | 23.4256 | 2015 |  6 | 9470 |\n",
       "| 6 | 11.730769 | 2.462215 | 1 | 0 | 0 | 0 | 1 | 0 | 0 | 0 | 0 | 1 |  1 | 0.01 |  0.001 |  0.0001 | 1650 |  5 | 7460 |\n",
       "\n"
      ],
      "text/plain": [
       "  salario   lwage    sex shs hsg scl clg ad mw so we ne exp1 exp2 exp3  \n",
       "1  9.615385 2.263364 1   0   0   0   1   0  0  0  0  1   7   0.49  0.343\n",
       "2 48.076923 3.872802 0   0   0   0   1   0  0  0  0  1  31   9.61 29.791\n",
       "3 11.057692 2.403126 0   0   1   0   0   0  0  0  0  1  18   3.24  5.832\n",
       "4 13.942308 2.634928 1   0   0   0   0   1  0  0  0  1  25   6.25 15.625\n",
       "5 28.846154 3.361977 1   0   0   0   1   0  0  0  0  1  22   4.84 10.648\n",
       "6 11.730769 2.462215 1   0   0   0   1   0  0  0  0  1   1   0.01  0.001\n",
       "  exp4    occ  occ2 ind \n",
       "1  0.2401 3600 11   8370\n",
       "2 92.3521 3050 10   5070\n",
       "3 10.4976 6260 19    770\n",
       "4 39.0625  420  1   6990\n",
       "5 23.4256 2015  6   9470\n",
       "6  0.0001 1650  5   7460"
      ]
     },
     "metadata": {},
     "output_type": "display_data"
    }
   ],
   "source": [
    "head(base1)"
   ]
  },
  {
   "cell_type": "code",
   "execution_count": 48,
   "metadata": {
    "scrolled": true
   },
   "outputs": [
    {
     "data": {
      "text/html": [
       "<table class=\"dataframe\">\n",
       "<caption>A data.frame: 6 × 19</caption>\n",
       "<thead>\n",
       "\t<tr><th></th><th scope=col>salario</th><th scope=col>lwage</th><th scope=col>sex</th><th scope=col>shs</th><th scope=col>hsg</th><th scope=col>scl</th><th scope=col>clg</th><th scope=col>ad</th><th scope=col>mw</th><th scope=col>so</th><th scope=col>we</th><th scope=col>ne</th><th scope=col>exp1</th><th scope=col>exp2</th><th scope=col>exp3</th><th scope=col>exp4</th><th scope=col>occ</th><th scope=col>occ2</th><th scope=col>ind</th></tr>\n",
       "\t<tr><th></th><th scope=col>&lt;dbl&gt;</th><th scope=col>&lt;dbl&gt;</th><th scope=col>&lt;int&gt;</th><th scope=col>&lt;int&gt;</th><th scope=col>&lt;int&gt;</th><th scope=col>&lt;int&gt;</th><th scope=col>&lt;int&gt;</th><th scope=col>&lt;int&gt;</th><th scope=col>&lt;int&gt;</th><th scope=col>&lt;int&gt;</th><th scope=col>&lt;int&gt;</th><th scope=col>&lt;int&gt;</th><th scope=col>&lt;dbl&gt;</th><th scope=col>&lt;dbl&gt;</th><th scope=col>&lt;dbl&gt;</th><th scope=col>&lt;dbl&gt;</th><th scope=col>&lt;dbl&gt;</th><th scope=col>&lt;int&gt;</th><th scope=col>&lt;dbl&gt;</th></tr>\n",
       "</thead>\n",
       "<tbody>\n",
       "\t<tr><th scope=row>1</th><td>48.07692</td><td>3.872802</td><td>0</td><td>0</td><td>0</td><td>0</td><td>1</td><td>0</td><td>0</td><td>0</td><td>0</td><td>1</td><td>31</td><td> 9.61</td><td>29.791</td><td> 92.3521</td><td>3050</td><td>10</td><td>5070</td></tr>\n",
       "\t<tr><th scope=row>2</th><td>13.94231</td><td>2.634928</td><td>1</td><td>0</td><td>0</td><td>0</td><td>0</td><td>1</td><td>0</td><td>0</td><td>0</td><td>1</td><td>25</td><td> 6.25</td><td>15.625</td><td> 39.0625</td><td> 420</td><td> 1</td><td>6990</td></tr>\n",
       "\t<tr><th scope=row>3</th><td>28.84615</td><td>3.361977</td><td>1</td><td>0</td><td>0</td><td>0</td><td>1</td><td>0</td><td>0</td><td>0</td><td>0</td><td>1</td><td>22</td><td> 4.84</td><td>10.648</td><td> 23.4256</td><td>2015</td><td> 6</td><td>9470</td></tr>\n",
       "\t<tr><th scope=row>4</th><td>11.73077</td><td>2.462215</td><td>1</td><td>0</td><td>0</td><td>0</td><td>1</td><td>0</td><td>0</td><td>0</td><td>0</td><td>1</td><td> 1</td><td> 0.01</td><td> 0.001</td><td>  0.0001</td><td>1650</td><td> 5</td><td>7460</td></tr>\n",
       "\t<tr><th scope=row>5</th><td>19.23077</td><td>2.956512</td><td>1</td><td>0</td><td>1</td><td>0</td><td>0</td><td>0</td><td>0</td><td>0</td><td>0</td><td>1</td><td>42</td><td>17.64</td><td>74.088</td><td>311.1696</td><td>5120</td><td>17</td><td>7280</td></tr>\n",
       "\t<tr><th scope=row>6</th><td>19.23077</td><td>2.956512</td><td>0</td><td>0</td><td>1</td><td>0</td><td>0</td><td>0</td><td>0</td><td>0</td><td>0</td><td>1</td><td>37</td><td>13.69</td><td>50.653</td><td>187.4161</td><td>5240</td><td>17</td><td>5680</td></tr>\n",
       "</tbody>\n",
       "</table>\n"
      ],
      "text/latex": [
       "A data.frame: 6 × 19\n",
       "\\begin{tabular}{r|lllllllllllllllllll}\n",
       "  & salario & lwage & sex & shs & hsg & scl & clg & ad & mw & so & we & ne & exp1 & exp2 & exp3 & exp4 & occ & occ2 & ind\\\\\n",
       "  & <dbl> & <dbl> & <int> & <int> & <int> & <int> & <int> & <int> & <int> & <int> & <int> & <int> & <dbl> & <dbl> & <dbl> & <dbl> & <dbl> & <int> & <dbl>\\\\\n",
       "\\hline\n",
       "\t1 & 48.07692 & 3.872802 & 0 & 0 & 0 & 0 & 1 & 0 & 0 & 0 & 0 & 1 & 31 &  9.61 & 29.791 &  92.3521 & 3050 & 10 & 5070\\\\\n",
       "\t2 & 13.94231 & 2.634928 & 1 & 0 & 0 & 0 & 0 & 1 & 0 & 0 & 0 & 1 & 25 &  6.25 & 15.625 &  39.0625 &  420 &  1 & 6990\\\\\n",
       "\t3 & 28.84615 & 3.361977 & 1 & 0 & 0 & 0 & 1 & 0 & 0 & 0 & 0 & 1 & 22 &  4.84 & 10.648 &  23.4256 & 2015 &  6 & 9470\\\\\n",
       "\t4 & 11.73077 & 2.462215 & 1 & 0 & 0 & 0 & 1 & 0 & 0 & 0 & 0 & 1 &  1 &  0.01 &  0.001 &   0.0001 & 1650 &  5 & 7460\\\\\n",
       "\t5 & 19.23077 & 2.956512 & 1 & 0 & 1 & 0 & 0 & 0 & 0 & 0 & 0 & 1 & 42 & 17.64 & 74.088 & 311.1696 & 5120 & 17 & 7280\\\\\n",
       "\t6 & 19.23077 & 2.956512 & 0 & 0 & 1 & 0 & 0 & 0 & 0 & 0 & 0 & 1 & 37 & 13.69 & 50.653 & 187.4161 & 5240 & 17 & 5680\\\\\n",
       "\\end{tabular}\n"
      ],
      "text/markdown": [
       "\n",
       "A data.frame: 6 × 19\n",
       "\n",
       "| <!--/--> | salario &lt;dbl&gt; | lwage &lt;dbl&gt; | sex &lt;int&gt; | shs &lt;int&gt; | hsg &lt;int&gt; | scl &lt;int&gt; | clg &lt;int&gt; | ad &lt;int&gt; | mw &lt;int&gt; | so &lt;int&gt; | we &lt;int&gt; | ne &lt;int&gt; | exp1 &lt;dbl&gt; | exp2 &lt;dbl&gt; | exp3 &lt;dbl&gt; | exp4 &lt;dbl&gt; | occ &lt;dbl&gt; | occ2 &lt;int&gt; | ind &lt;dbl&gt; |\n",
       "|---|---|---|---|---|---|---|---|---|---|---|---|---|---|---|---|---|---|---|---|\n",
       "| 1 | 48.07692 | 3.872802 | 0 | 0 | 0 | 0 | 1 | 0 | 0 | 0 | 0 | 1 | 31 |  9.61 | 29.791 |  92.3521 | 3050 | 10 | 5070 |\n",
       "| 2 | 13.94231 | 2.634928 | 1 | 0 | 0 | 0 | 0 | 1 | 0 | 0 | 0 | 1 | 25 |  6.25 | 15.625 |  39.0625 |  420 |  1 | 6990 |\n",
       "| 3 | 28.84615 | 3.361977 | 1 | 0 | 0 | 0 | 1 | 0 | 0 | 0 | 0 | 1 | 22 |  4.84 | 10.648 |  23.4256 | 2015 |  6 | 9470 |\n",
       "| 4 | 11.73077 | 2.462215 | 1 | 0 | 0 | 0 | 1 | 0 | 0 | 0 | 0 | 1 |  1 |  0.01 |  0.001 |   0.0001 | 1650 |  5 | 7460 |\n",
       "| 5 | 19.23077 | 2.956512 | 1 | 0 | 1 | 0 | 0 | 0 | 0 | 0 | 0 | 1 | 42 | 17.64 | 74.088 | 311.1696 | 5120 | 17 | 7280 |\n",
       "| 6 | 19.23077 | 2.956512 | 0 | 0 | 1 | 0 | 0 | 0 | 0 | 0 | 0 | 1 | 37 | 13.69 | 50.653 | 187.4161 | 5240 | 17 | 5680 |\n",
       "\n"
      ],
      "text/plain": [
       "  salario  lwage    sex shs hsg scl clg ad mw so we ne exp1 exp2  exp3  \n",
       "1 48.07692 3.872802 0   0   0   0   1   0  0  0  0  1  31    9.61 29.791\n",
       "2 13.94231 2.634928 1   0   0   0   0   1  0  0  0  1  25    6.25 15.625\n",
       "3 28.84615 3.361977 1   0   0   0   1   0  0  0  0  1  22    4.84 10.648\n",
       "4 11.73077 2.462215 1   0   0   0   1   0  0  0  0  1   1    0.01  0.001\n",
       "5 19.23077 2.956512 1   0   1   0   0   0  0  0  0  1  42   17.64 74.088\n",
       "6 19.23077 2.956512 0   0   1   0   0   0  0  0  0  1  37   13.69 50.653\n",
       "  exp4     occ  occ2 ind \n",
       "1  92.3521 3050 10   5070\n",
       "2  39.0625  420  1   6990\n",
       "3  23.4256 2015  6   9470\n",
       "4   0.0001 1650  5   7460\n",
       "5 311.1696 5120 17   7280\n",
       "6 187.4161 5240 17   5680"
      ]
     },
     "metadata": {},
     "output_type": "display_data"
    }
   ],
   "source": [
    "head(base1 %>%   slice(-c(1,3)) )"
   ]
  },
  {
   "cell_type": "markdown",
   "metadata": {},
   "source": [
    "## Slicing  dataframe "
   ]
  },
  {
   "cell_type": "code",
   "execution_count": 38,
   "metadata": {
    "scrolled": true
   },
   "outputs": [
    {
     "data": {
      "text/html": [
       "<table class=\"dataframe\">\n",
       "<caption>A data.frame: 10 × 19</caption>\n",
       "<thead>\n",
       "\t<tr><th></th><th scope=col>salario</th><th scope=col>lwage</th><th scope=col>sex</th><th scope=col>shs</th><th scope=col>hsg</th><th scope=col>scl</th><th scope=col>clg</th><th scope=col>ad</th><th scope=col>mw</th><th scope=col>so</th><th scope=col>we</th><th scope=col>ne</th><th scope=col>exp1</th><th scope=col>exp2</th><th scope=col>exp3</th><th scope=col>exp4</th><th scope=col>occ</th><th scope=col>occ2</th><th scope=col>ind</th></tr>\n",
       "\t<tr><th></th><th scope=col>&lt;dbl&gt;</th><th scope=col>&lt;dbl&gt;</th><th scope=col>&lt;int&gt;</th><th scope=col>&lt;int&gt;</th><th scope=col>&lt;int&gt;</th><th scope=col>&lt;int&gt;</th><th scope=col>&lt;int&gt;</th><th scope=col>&lt;int&gt;</th><th scope=col>&lt;int&gt;</th><th scope=col>&lt;int&gt;</th><th scope=col>&lt;int&gt;</th><th scope=col>&lt;int&gt;</th><th scope=col>&lt;dbl&gt;</th><th scope=col>&lt;dbl&gt;</th><th scope=col>&lt;dbl&gt;</th><th scope=col>&lt;dbl&gt;</th><th scope=col>&lt;dbl&gt;</th><th scope=col>&lt;int&gt;</th><th scope=col>&lt;dbl&gt;</th></tr>\n",
       "</thead>\n",
       "<tbody>\n",
       "\t<tr><th scope=row>1</th><td> 9.615385</td><td>2.263364</td><td>1</td><td>0</td><td>0</td><td>0</td><td>1</td><td>0</td><td>0</td><td>0</td><td>0</td><td>1</td><td> 7</td><td> 0.49</td><td> 0.343</td><td>  0.2401</td><td>3600</td><td>11</td><td>8370</td></tr>\n",
       "\t<tr><th scope=row>2</th><td>48.076923</td><td>3.872802</td><td>0</td><td>0</td><td>0</td><td>0</td><td>1</td><td>0</td><td>0</td><td>0</td><td>0</td><td>1</td><td>31</td><td> 9.61</td><td>29.791</td><td> 92.3521</td><td>3050</td><td>10</td><td>5070</td></tr>\n",
       "\t<tr><th scope=row>3</th><td>11.057692</td><td>2.403126</td><td>0</td><td>0</td><td>1</td><td>0</td><td>0</td><td>0</td><td>0</td><td>0</td><td>0</td><td>1</td><td>18</td><td> 3.24</td><td> 5.832</td><td> 10.4976</td><td>6260</td><td>19</td><td> 770</td></tr>\n",
       "\t<tr><th scope=row>4</th><td>13.942308</td><td>2.634928</td><td>1</td><td>0</td><td>0</td><td>0</td><td>0</td><td>1</td><td>0</td><td>0</td><td>0</td><td>1</td><td>25</td><td> 6.25</td><td>15.625</td><td> 39.0625</td><td> 420</td><td> 1</td><td>6990</td></tr>\n",
       "\t<tr><th scope=row>5</th><td>28.846154</td><td>3.361977</td><td>1</td><td>0</td><td>0</td><td>0</td><td>1</td><td>0</td><td>0</td><td>0</td><td>0</td><td>1</td><td>22</td><td> 4.84</td><td>10.648</td><td> 23.4256</td><td>2015</td><td> 6</td><td>9470</td></tr>\n",
       "\t<tr><th scope=row>6</th><td>11.730769</td><td>2.462215</td><td>1</td><td>0</td><td>0</td><td>0</td><td>1</td><td>0</td><td>0</td><td>0</td><td>0</td><td>1</td><td> 1</td><td> 0.01</td><td> 0.001</td><td>  0.0001</td><td>1650</td><td> 5</td><td>7460</td></tr>\n",
       "\t<tr><th scope=row>7</th><td>19.230769</td><td>2.956512</td><td>1</td><td>0</td><td>1</td><td>0</td><td>0</td><td>0</td><td>0</td><td>0</td><td>0</td><td>1</td><td>42</td><td>17.64</td><td>74.088</td><td>311.1696</td><td>5120</td><td>17</td><td>7280</td></tr>\n",
       "\t<tr><th scope=row>8</th><td>19.230769</td><td>2.956512</td><td>0</td><td>0</td><td>1</td><td>0</td><td>0</td><td>0</td><td>0</td><td>0</td><td>0</td><td>1</td><td>37</td><td>13.69</td><td>50.653</td><td>187.4161</td><td>5240</td><td>17</td><td>5680</td></tr>\n",
       "\t<tr><th scope=row>9</th><td>12.000000</td><td>2.484907</td><td>1</td><td>0</td><td>1</td><td>0</td><td>0</td><td>0</td><td>0</td><td>0</td><td>0</td><td>1</td><td>31</td><td> 9.61</td><td>29.791</td><td> 92.3521</td><td>4040</td><td>13</td><td>8590</td></tr>\n",
       "\t<tr><th scope=row>10</th><td>19.230769</td><td>2.956512</td><td>1</td><td>0</td><td>0</td><td>0</td><td>1</td><td>0</td><td>0</td><td>0</td><td>0</td><td>1</td><td> 4</td><td> 0.16</td><td> 0.064</td><td>  0.0256</td><td>3255</td><td>10</td><td>8190</td></tr>\n",
       "</tbody>\n",
       "</table>\n"
      ],
      "text/latex": [
       "A data.frame: 10 × 19\n",
       "\\begin{tabular}{r|lllllllllllllllllll}\n",
       "  & salario & lwage & sex & shs & hsg & scl & clg & ad & mw & so & we & ne & exp1 & exp2 & exp3 & exp4 & occ & occ2 & ind\\\\\n",
       "  & <dbl> & <dbl> & <int> & <int> & <int> & <int> & <int> & <int> & <int> & <int> & <int> & <int> & <dbl> & <dbl> & <dbl> & <dbl> & <dbl> & <int> & <dbl>\\\\\n",
       "\\hline\n",
       "\t1 &  9.615385 & 2.263364 & 1 & 0 & 0 & 0 & 1 & 0 & 0 & 0 & 0 & 1 &  7 &  0.49 &  0.343 &   0.2401 & 3600 & 11 & 8370\\\\\n",
       "\t2 & 48.076923 & 3.872802 & 0 & 0 & 0 & 0 & 1 & 0 & 0 & 0 & 0 & 1 & 31 &  9.61 & 29.791 &  92.3521 & 3050 & 10 & 5070\\\\\n",
       "\t3 & 11.057692 & 2.403126 & 0 & 0 & 1 & 0 & 0 & 0 & 0 & 0 & 0 & 1 & 18 &  3.24 &  5.832 &  10.4976 & 6260 & 19 &  770\\\\\n",
       "\t4 & 13.942308 & 2.634928 & 1 & 0 & 0 & 0 & 0 & 1 & 0 & 0 & 0 & 1 & 25 &  6.25 & 15.625 &  39.0625 &  420 &  1 & 6990\\\\\n",
       "\t5 & 28.846154 & 3.361977 & 1 & 0 & 0 & 0 & 1 & 0 & 0 & 0 & 0 & 1 & 22 &  4.84 & 10.648 &  23.4256 & 2015 &  6 & 9470\\\\\n",
       "\t6 & 11.730769 & 2.462215 & 1 & 0 & 0 & 0 & 1 & 0 & 0 & 0 & 0 & 1 &  1 &  0.01 &  0.001 &   0.0001 & 1650 &  5 & 7460\\\\\n",
       "\t7 & 19.230769 & 2.956512 & 1 & 0 & 1 & 0 & 0 & 0 & 0 & 0 & 0 & 1 & 42 & 17.64 & 74.088 & 311.1696 & 5120 & 17 & 7280\\\\\n",
       "\t8 & 19.230769 & 2.956512 & 0 & 0 & 1 & 0 & 0 & 0 & 0 & 0 & 0 & 1 & 37 & 13.69 & 50.653 & 187.4161 & 5240 & 17 & 5680\\\\\n",
       "\t9 & 12.000000 & 2.484907 & 1 & 0 & 1 & 0 & 0 & 0 & 0 & 0 & 0 & 1 & 31 &  9.61 & 29.791 &  92.3521 & 4040 & 13 & 8590\\\\\n",
       "\t10 & 19.230769 & 2.956512 & 1 & 0 & 0 & 0 & 1 & 0 & 0 & 0 & 0 & 1 &  4 &  0.16 &  0.064 &   0.0256 & 3255 & 10 & 8190\\\\\n",
       "\\end{tabular}\n"
      ],
      "text/markdown": [
       "\n",
       "A data.frame: 10 × 19\n",
       "\n",
       "| <!--/--> | salario &lt;dbl&gt; | lwage &lt;dbl&gt; | sex &lt;int&gt; | shs &lt;int&gt; | hsg &lt;int&gt; | scl &lt;int&gt; | clg &lt;int&gt; | ad &lt;int&gt; | mw &lt;int&gt; | so &lt;int&gt; | we &lt;int&gt; | ne &lt;int&gt; | exp1 &lt;dbl&gt; | exp2 &lt;dbl&gt; | exp3 &lt;dbl&gt; | exp4 &lt;dbl&gt; | occ &lt;dbl&gt; | occ2 &lt;int&gt; | ind &lt;dbl&gt; |\n",
       "|---|---|---|---|---|---|---|---|---|---|---|---|---|---|---|---|---|---|---|---|\n",
       "| 1 |  9.615385 | 2.263364 | 1 | 0 | 0 | 0 | 1 | 0 | 0 | 0 | 0 | 1 |  7 |  0.49 |  0.343 |   0.2401 | 3600 | 11 | 8370 |\n",
       "| 2 | 48.076923 | 3.872802 | 0 | 0 | 0 | 0 | 1 | 0 | 0 | 0 | 0 | 1 | 31 |  9.61 | 29.791 |  92.3521 | 3050 | 10 | 5070 |\n",
       "| 3 | 11.057692 | 2.403126 | 0 | 0 | 1 | 0 | 0 | 0 | 0 | 0 | 0 | 1 | 18 |  3.24 |  5.832 |  10.4976 | 6260 | 19 |  770 |\n",
       "| 4 | 13.942308 | 2.634928 | 1 | 0 | 0 | 0 | 0 | 1 | 0 | 0 | 0 | 1 | 25 |  6.25 | 15.625 |  39.0625 |  420 |  1 | 6990 |\n",
       "| 5 | 28.846154 | 3.361977 | 1 | 0 | 0 | 0 | 1 | 0 | 0 | 0 | 0 | 1 | 22 |  4.84 | 10.648 |  23.4256 | 2015 |  6 | 9470 |\n",
       "| 6 | 11.730769 | 2.462215 | 1 | 0 | 0 | 0 | 1 | 0 | 0 | 0 | 0 | 1 |  1 |  0.01 |  0.001 |   0.0001 | 1650 |  5 | 7460 |\n",
       "| 7 | 19.230769 | 2.956512 | 1 | 0 | 1 | 0 | 0 | 0 | 0 | 0 | 0 | 1 | 42 | 17.64 | 74.088 | 311.1696 | 5120 | 17 | 7280 |\n",
       "| 8 | 19.230769 | 2.956512 | 0 | 0 | 1 | 0 | 0 | 0 | 0 | 0 | 0 | 1 | 37 | 13.69 | 50.653 | 187.4161 | 5240 | 17 | 5680 |\n",
       "| 9 | 12.000000 | 2.484907 | 1 | 0 | 1 | 0 | 0 | 0 | 0 | 0 | 0 | 1 | 31 |  9.61 | 29.791 |  92.3521 | 4040 | 13 | 8590 |\n",
       "| 10 | 19.230769 | 2.956512 | 1 | 0 | 0 | 0 | 1 | 0 | 0 | 0 | 0 | 1 |  4 |  0.16 |  0.064 |   0.0256 | 3255 | 10 | 8190 |\n",
       "\n"
      ],
      "text/plain": [
       "   salario   lwage    sex shs hsg scl clg ad mw so we ne exp1 exp2  exp3  \n",
       "1   9.615385 2.263364 1   0   0   0   1   0  0  0  0  1   7    0.49  0.343\n",
       "2  48.076923 3.872802 0   0   0   0   1   0  0  0  0  1  31    9.61 29.791\n",
       "3  11.057692 2.403126 0   0   1   0   0   0  0  0  0  1  18    3.24  5.832\n",
       "4  13.942308 2.634928 1   0   0   0   0   1  0  0  0  1  25    6.25 15.625\n",
       "5  28.846154 3.361977 1   0   0   0   1   0  0  0  0  1  22    4.84 10.648\n",
       "6  11.730769 2.462215 1   0   0   0   1   0  0  0  0  1   1    0.01  0.001\n",
       "7  19.230769 2.956512 1   0   1   0   0   0  0  0  0  1  42   17.64 74.088\n",
       "8  19.230769 2.956512 0   0   1   0   0   0  0  0  0  1  37   13.69 50.653\n",
       "9  12.000000 2.484907 1   0   1   0   0   0  0  0  0  1  31    9.61 29.791\n",
       "10 19.230769 2.956512 1   0   0   0   1   0  0  0  0  1   4    0.16  0.064\n",
       "   exp4     occ  occ2 ind \n",
       "1    0.2401 3600 11   8370\n",
       "2   92.3521 3050 10   5070\n",
       "3   10.4976 6260 19    770\n",
       "4   39.0625  420  1   6990\n",
       "5   23.4256 2015  6   9470\n",
       "6    0.0001 1650  5   7460\n",
       "7  311.1696 5120 17   7280\n",
       "8  187.4161 5240 17   5680\n",
       "9   92.3521 4040 13   8590\n",
       "10   0.0256 3255 10   8190"
      ]
     },
     "metadata": {},
     "output_type": "display_data"
    }
   ],
   "source": [
    "base1[1:10,]"
   ]
  },
  {
   "cell_type": "code",
   "execution_count": 39,
   "metadata": {
    "scrolled": true
   },
   "outputs": [
    {
     "data": {
      "text/html": [
       "<table class=\"dataframe\">\n",
       "<caption>A data.frame: 5150 × 5</caption>\n",
       "<thead>\n",
       "\t<tr><th scope=col>salario</th><th scope=col>lwage</th><th scope=col>sex</th><th scope=col>shs</th><th scope=col>hsg</th></tr>\n",
       "\t<tr><th scope=col>&lt;dbl&gt;</th><th scope=col>&lt;dbl&gt;</th><th scope=col>&lt;int&gt;</th><th scope=col>&lt;int&gt;</th><th scope=col>&lt;int&gt;</th></tr>\n",
       "</thead>\n",
       "<tbody>\n",
       "\t<tr><td> 9.615385</td><td>2.263364</td><td>1</td><td>0</td><td>0</td></tr>\n",
       "\t<tr><td>48.076923</td><td>3.872802</td><td>0</td><td>0</td><td>0</td></tr>\n",
       "\t<tr><td>11.057692</td><td>2.403126</td><td>0</td><td>0</td><td>1</td></tr>\n",
       "\t<tr><td>13.942308</td><td>2.634928</td><td>1</td><td>0</td><td>0</td></tr>\n",
       "\t<tr><td>28.846154</td><td>3.361977</td><td>1</td><td>0</td><td>0</td></tr>\n",
       "\t<tr><td>11.730769</td><td>2.462215</td><td>1</td><td>0</td><td>0</td></tr>\n",
       "\t<tr><td>19.230769</td><td>2.956512</td><td>1</td><td>0</td><td>1</td></tr>\n",
       "\t<tr><td>19.230769</td><td>2.956512</td><td>0</td><td>0</td><td>1</td></tr>\n",
       "\t<tr><td>12.000000</td><td>2.484907</td><td>1</td><td>0</td><td>1</td></tr>\n",
       "\t<tr><td>19.230769</td><td>2.956512</td><td>1</td><td>0</td><td>0</td></tr>\n",
       "\t<tr><td>17.307692</td><td>2.851151</td><td>1</td><td>0</td><td>1</td></tr>\n",
       "\t<tr><td>12.019231</td><td>2.486508</td><td>0</td><td>0</td><td>1</td></tr>\n",
       "\t<tr><td>12.019231</td><td>2.486508</td><td>1</td><td>0</td><td>0</td></tr>\n",
       "\t<tr><td>13.461538</td><td>2.599837</td><td>1</td><td>0</td><td>0</td></tr>\n",
       "\t<tr><td>16.346154</td><td>2.793993</td><td>1</td><td>0</td><td>0</td></tr>\n",
       "\t<tr><td>27.884615</td><td>3.328075</td><td>0</td><td>0</td><td>1</td></tr>\n",
       "\t<tr><td>21.600000</td><td>3.072693</td><td>0</td><td>0</td><td>1</td></tr>\n",
       "\t<tr><td> 8.653846</td><td>2.158004</td><td>0</td><td>0</td><td>0</td></tr>\n",
       "\t<tr><td>19.230769</td><td>2.956512</td><td>0</td><td>0</td><td>1</td></tr>\n",
       "\t<tr><td>13.186813</td><td>2.579217</td><td>0</td><td>0</td><td>1</td></tr>\n",
       "\t<tr><td>10.683761</td><td>2.368725</td><td>1</td><td>0</td><td>0</td></tr>\n",
       "\t<tr><td>11.538462</td><td>2.445686</td><td>1</td><td>0</td><td>0</td></tr>\n",
       "\t<tr><td>17.788462</td><td>2.878550</td><td>1</td><td>0</td><td>0</td></tr>\n",
       "\t<tr><td>19.230769</td><td>2.956512</td><td>0</td><td>0</td><td>0</td></tr>\n",
       "\t<tr><td>16.304348</td><td>2.791432</td><td>1</td><td>0</td><td>0</td></tr>\n",
       "\t<tr><td>19.230769</td><td>2.956512</td><td>0</td><td>0</td><td>1</td></tr>\n",
       "\t<tr><td>14.423077</td><td>2.668829</td><td>1</td><td>0</td><td>1</td></tr>\n",
       "\t<tr><td>12.000000</td><td>2.484907</td><td>0</td><td>0</td><td>0</td></tr>\n",
       "\t<tr><td>16.826923</td><td>2.822980</td><td>0</td><td>0</td><td>0</td></tr>\n",
       "\t<tr><td>19.670330</td><td>2.979111</td><td>0</td><td>0</td><td>0</td></tr>\n",
       "\t<tr><td>...</td><td>...</td><td>...</td><td>...</td><td>...</td></tr>\n",
       "\t<tr><td>13.986014</td><td>2.638058</td><td>1</td><td>0</td><td>0</td></tr>\n",
       "\t<tr><td>15.865385</td><td>2.764140</td><td>0</td><td>0</td><td>0</td></tr>\n",
       "\t<tr><td>38.461538</td><td>3.649659</td><td>1</td><td>0</td><td>0</td></tr>\n",
       "\t<tr><td>28.846154</td><td>3.361977</td><td>0</td><td>0</td><td>0</td></tr>\n",
       "\t<tr><td>24.475524</td><td>3.197674</td><td>1</td><td>0</td><td>0</td></tr>\n",
       "\t<tr><td>27.884615</td><td>3.328075</td><td>0</td><td>0</td><td>0</td></tr>\n",
       "\t<tr><td> 8.653846</td><td>2.158004</td><td>1</td><td>0</td><td>1</td></tr>\n",
       "\t<tr><td>12.019231</td><td>2.486508</td><td>0</td><td>0</td><td>1</td></tr>\n",
       "\t<tr><td>38.461538</td><td>3.649659</td><td>0</td><td>0</td><td>0</td></tr>\n",
       "\t<tr><td>12.500000</td><td>2.525729</td><td>1</td><td>0</td><td>1</td></tr>\n",
       "\t<tr><td>35.256410</td><td>3.562647</td><td>0</td><td>0</td><td>0</td></tr>\n",
       "\t<tr><td>48.076923</td><td>3.872802</td><td>1</td><td>0</td><td>0</td></tr>\n",
       "\t<tr><td> 9.615385</td><td>2.263364</td><td>0</td><td>0</td><td>1</td></tr>\n",
       "\t<tr><td>12.019231</td><td>2.486508</td><td>0</td><td>0</td><td>1</td></tr>\n",
       "\t<tr><td>12.019231</td><td>2.486508</td><td>0</td><td>0</td><td>0</td></tr>\n",
       "\t<tr><td>12.980769</td><td>2.563469</td><td>0</td><td>0</td><td>1</td></tr>\n",
       "\t<tr><td>26.442308</td><td>3.274965</td><td>1</td><td>0</td><td>0</td></tr>\n",
       "\t<tr><td>13.461538</td><td>2.599837</td><td>1</td><td>0</td><td>1</td></tr>\n",
       "\t<tr><td>19.711538</td><td>2.981204</td><td>1</td><td>0</td><td>0</td></tr>\n",
       "\t<tr><td>21.153846</td><td>3.051822</td><td>0</td><td>0</td><td>0</td></tr>\n",
       "\t<tr><td>45.546559</td><td>3.818735</td><td>1</td><td>0</td><td>0</td></tr>\n",
       "\t<tr><td>22.596154</td><td>3.117780</td><td>0</td><td>0</td><td>1</td></tr>\n",
       "\t<tr><td>16.826923</td><td>2.822980</td><td>0</td><td>0</td><td>1</td></tr>\n",
       "\t<tr><td>24.038462</td><td>3.179655</td><td>1</td><td>0</td><td>0</td></tr>\n",
       "\t<tr><td>13.846154</td><td>2.628007</td><td>0</td><td>0</td><td>0</td></tr>\n",
       "\t<tr><td>14.769231</td><td>2.692546</td><td>0</td><td>0</td><td>0</td></tr>\n",
       "\t<tr><td>23.076923</td><td>3.138833</td><td>1</td><td>0</td><td>0</td></tr>\n",
       "\t<tr><td>38.461538</td><td>3.649659</td><td>0</td><td>0</td><td>0</td></tr>\n",
       "\t<tr><td>32.967033</td><td>3.495508</td><td>0</td><td>0</td><td>1</td></tr>\n",
       "\t<tr><td>17.307692</td><td>2.851151</td><td>0</td><td>0</td><td>0</td></tr>\n",
       "</tbody>\n",
       "</table>\n"
      ],
      "text/latex": [
       "A data.frame: 5150 × 5\n",
       "\\begin{tabular}{lllll}\n",
       " salario & lwage & sex & shs & hsg\\\\\n",
       " <dbl> & <dbl> & <int> & <int> & <int>\\\\\n",
       "\\hline\n",
       "\t  9.615385 & 2.263364 & 1 & 0 & 0\\\\\n",
       "\t 48.076923 & 3.872802 & 0 & 0 & 0\\\\\n",
       "\t 11.057692 & 2.403126 & 0 & 0 & 1\\\\\n",
       "\t 13.942308 & 2.634928 & 1 & 0 & 0\\\\\n",
       "\t 28.846154 & 3.361977 & 1 & 0 & 0\\\\\n",
       "\t 11.730769 & 2.462215 & 1 & 0 & 0\\\\\n",
       "\t 19.230769 & 2.956512 & 1 & 0 & 1\\\\\n",
       "\t 19.230769 & 2.956512 & 0 & 0 & 1\\\\\n",
       "\t 12.000000 & 2.484907 & 1 & 0 & 1\\\\\n",
       "\t 19.230769 & 2.956512 & 1 & 0 & 0\\\\\n",
       "\t 17.307692 & 2.851151 & 1 & 0 & 1\\\\\n",
       "\t 12.019231 & 2.486508 & 0 & 0 & 1\\\\\n",
       "\t 12.019231 & 2.486508 & 1 & 0 & 0\\\\\n",
       "\t 13.461538 & 2.599837 & 1 & 0 & 0\\\\\n",
       "\t 16.346154 & 2.793993 & 1 & 0 & 0\\\\\n",
       "\t 27.884615 & 3.328075 & 0 & 0 & 1\\\\\n",
       "\t 21.600000 & 3.072693 & 0 & 0 & 1\\\\\n",
       "\t  8.653846 & 2.158004 & 0 & 0 & 0\\\\\n",
       "\t 19.230769 & 2.956512 & 0 & 0 & 1\\\\\n",
       "\t 13.186813 & 2.579217 & 0 & 0 & 1\\\\\n",
       "\t 10.683761 & 2.368725 & 1 & 0 & 0\\\\\n",
       "\t 11.538462 & 2.445686 & 1 & 0 & 0\\\\\n",
       "\t 17.788462 & 2.878550 & 1 & 0 & 0\\\\\n",
       "\t 19.230769 & 2.956512 & 0 & 0 & 0\\\\\n",
       "\t 16.304348 & 2.791432 & 1 & 0 & 0\\\\\n",
       "\t 19.230769 & 2.956512 & 0 & 0 & 1\\\\\n",
       "\t 14.423077 & 2.668829 & 1 & 0 & 1\\\\\n",
       "\t 12.000000 & 2.484907 & 0 & 0 & 0\\\\\n",
       "\t 16.826923 & 2.822980 & 0 & 0 & 0\\\\\n",
       "\t 19.670330 & 2.979111 & 0 & 0 & 0\\\\\n",
       "\t ... & ... & ... & ... & ...\\\\\n",
       "\t 13.986014 & 2.638058 & 1 & 0 & 0\\\\\n",
       "\t 15.865385 & 2.764140 & 0 & 0 & 0\\\\\n",
       "\t 38.461538 & 3.649659 & 1 & 0 & 0\\\\\n",
       "\t 28.846154 & 3.361977 & 0 & 0 & 0\\\\\n",
       "\t 24.475524 & 3.197674 & 1 & 0 & 0\\\\\n",
       "\t 27.884615 & 3.328075 & 0 & 0 & 0\\\\\n",
       "\t  8.653846 & 2.158004 & 1 & 0 & 1\\\\\n",
       "\t 12.019231 & 2.486508 & 0 & 0 & 1\\\\\n",
       "\t 38.461538 & 3.649659 & 0 & 0 & 0\\\\\n",
       "\t 12.500000 & 2.525729 & 1 & 0 & 1\\\\\n",
       "\t 35.256410 & 3.562647 & 0 & 0 & 0\\\\\n",
       "\t 48.076923 & 3.872802 & 1 & 0 & 0\\\\\n",
       "\t  9.615385 & 2.263364 & 0 & 0 & 1\\\\\n",
       "\t 12.019231 & 2.486508 & 0 & 0 & 1\\\\\n",
       "\t 12.019231 & 2.486508 & 0 & 0 & 0\\\\\n",
       "\t 12.980769 & 2.563469 & 0 & 0 & 1\\\\\n",
       "\t 26.442308 & 3.274965 & 1 & 0 & 0\\\\\n",
       "\t 13.461538 & 2.599837 & 1 & 0 & 1\\\\\n",
       "\t 19.711538 & 2.981204 & 1 & 0 & 0\\\\\n",
       "\t 21.153846 & 3.051822 & 0 & 0 & 0\\\\\n",
       "\t 45.546559 & 3.818735 & 1 & 0 & 0\\\\\n",
       "\t 22.596154 & 3.117780 & 0 & 0 & 1\\\\\n",
       "\t 16.826923 & 2.822980 & 0 & 0 & 1\\\\\n",
       "\t 24.038462 & 3.179655 & 1 & 0 & 0\\\\\n",
       "\t 13.846154 & 2.628007 & 0 & 0 & 0\\\\\n",
       "\t 14.769231 & 2.692546 & 0 & 0 & 0\\\\\n",
       "\t 23.076923 & 3.138833 & 1 & 0 & 0\\\\\n",
       "\t 38.461538 & 3.649659 & 0 & 0 & 0\\\\\n",
       "\t 32.967033 & 3.495508 & 0 & 0 & 1\\\\\n",
       "\t 17.307692 & 2.851151 & 0 & 0 & 0\\\\\n",
       "\\end{tabular}\n"
      ],
      "text/markdown": [
       "\n",
       "A data.frame: 5150 × 5\n",
       "\n",
       "| salario &lt;dbl&gt; | lwage &lt;dbl&gt; | sex &lt;int&gt; | shs &lt;int&gt; | hsg &lt;int&gt; |\n",
       "|---|---|---|---|---|\n",
       "|  9.615385 | 2.263364 | 1 | 0 | 0 |\n",
       "| 48.076923 | 3.872802 | 0 | 0 | 0 |\n",
       "| 11.057692 | 2.403126 | 0 | 0 | 1 |\n",
       "| 13.942308 | 2.634928 | 1 | 0 | 0 |\n",
       "| 28.846154 | 3.361977 | 1 | 0 | 0 |\n",
       "| 11.730769 | 2.462215 | 1 | 0 | 0 |\n",
       "| 19.230769 | 2.956512 | 1 | 0 | 1 |\n",
       "| 19.230769 | 2.956512 | 0 | 0 | 1 |\n",
       "| 12.000000 | 2.484907 | 1 | 0 | 1 |\n",
       "| 19.230769 | 2.956512 | 1 | 0 | 0 |\n",
       "| 17.307692 | 2.851151 | 1 | 0 | 1 |\n",
       "| 12.019231 | 2.486508 | 0 | 0 | 1 |\n",
       "| 12.019231 | 2.486508 | 1 | 0 | 0 |\n",
       "| 13.461538 | 2.599837 | 1 | 0 | 0 |\n",
       "| 16.346154 | 2.793993 | 1 | 0 | 0 |\n",
       "| 27.884615 | 3.328075 | 0 | 0 | 1 |\n",
       "| 21.600000 | 3.072693 | 0 | 0 | 1 |\n",
       "|  8.653846 | 2.158004 | 0 | 0 | 0 |\n",
       "| 19.230769 | 2.956512 | 0 | 0 | 1 |\n",
       "| 13.186813 | 2.579217 | 0 | 0 | 1 |\n",
       "| 10.683761 | 2.368725 | 1 | 0 | 0 |\n",
       "| 11.538462 | 2.445686 | 1 | 0 | 0 |\n",
       "| 17.788462 | 2.878550 | 1 | 0 | 0 |\n",
       "| 19.230769 | 2.956512 | 0 | 0 | 0 |\n",
       "| 16.304348 | 2.791432 | 1 | 0 | 0 |\n",
       "| 19.230769 | 2.956512 | 0 | 0 | 1 |\n",
       "| 14.423077 | 2.668829 | 1 | 0 | 1 |\n",
       "| 12.000000 | 2.484907 | 0 | 0 | 0 |\n",
       "| 16.826923 | 2.822980 | 0 | 0 | 0 |\n",
       "| 19.670330 | 2.979111 | 0 | 0 | 0 |\n",
       "| ... | ... | ... | ... | ... |\n",
       "| 13.986014 | 2.638058 | 1 | 0 | 0 |\n",
       "| 15.865385 | 2.764140 | 0 | 0 | 0 |\n",
       "| 38.461538 | 3.649659 | 1 | 0 | 0 |\n",
       "| 28.846154 | 3.361977 | 0 | 0 | 0 |\n",
       "| 24.475524 | 3.197674 | 1 | 0 | 0 |\n",
       "| 27.884615 | 3.328075 | 0 | 0 | 0 |\n",
       "|  8.653846 | 2.158004 | 1 | 0 | 1 |\n",
       "| 12.019231 | 2.486508 | 0 | 0 | 1 |\n",
       "| 38.461538 | 3.649659 | 0 | 0 | 0 |\n",
       "| 12.500000 | 2.525729 | 1 | 0 | 1 |\n",
       "| 35.256410 | 3.562647 | 0 | 0 | 0 |\n",
       "| 48.076923 | 3.872802 | 1 | 0 | 0 |\n",
       "|  9.615385 | 2.263364 | 0 | 0 | 1 |\n",
       "| 12.019231 | 2.486508 | 0 | 0 | 1 |\n",
       "| 12.019231 | 2.486508 | 0 | 0 | 0 |\n",
       "| 12.980769 | 2.563469 | 0 | 0 | 1 |\n",
       "| 26.442308 | 3.274965 | 1 | 0 | 0 |\n",
       "| 13.461538 | 2.599837 | 1 | 0 | 1 |\n",
       "| 19.711538 | 2.981204 | 1 | 0 | 0 |\n",
       "| 21.153846 | 3.051822 | 0 | 0 | 0 |\n",
       "| 45.546559 | 3.818735 | 1 | 0 | 0 |\n",
       "| 22.596154 | 3.117780 | 0 | 0 | 1 |\n",
       "| 16.826923 | 2.822980 | 0 | 0 | 1 |\n",
       "| 24.038462 | 3.179655 | 1 | 0 | 0 |\n",
       "| 13.846154 | 2.628007 | 0 | 0 | 0 |\n",
       "| 14.769231 | 2.692546 | 0 | 0 | 0 |\n",
       "| 23.076923 | 3.138833 | 1 | 0 | 0 |\n",
       "| 38.461538 | 3.649659 | 0 | 0 | 0 |\n",
       "| 32.967033 | 3.495508 | 0 | 0 | 1 |\n",
       "| 17.307692 | 2.851151 | 0 | 0 | 0 |\n",
       "\n"
      ],
      "text/plain": [
       "     salario   lwage    sex shs hsg\n",
       "1     9.615385 2.263364 1   0   0  \n",
       "2    48.076923 3.872802 0   0   0  \n",
       "3    11.057692 2.403126 0   0   1  \n",
       "4    13.942308 2.634928 1   0   0  \n",
       "5    28.846154 3.361977 1   0   0  \n",
       "6    11.730769 2.462215 1   0   0  \n",
       "7    19.230769 2.956512 1   0   1  \n",
       "8    19.230769 2.956512 0   0   1  \n",
       "9    12.000000 2.484907 1   0   1  \n",
       "10   19.230769 2.956512 1   0   0  \n",
       "11   17.307692 2.851151 1   0   1  \n",
       "12   12.019231 2.486508 0   0   1  \n",
       "13   12.019231 2.486508 1   0   0  \n",
       "14   13.461538 2.599837 1   0   0  \n",
       "15   16.346154 2.793993 1   0   0  \n",
       "16   27.884615 3.328075 0   0   1  \n",
       "17   21.600000 3.072693 0   0   1  \n",
       "18    8.653846 2.158004 0   0   0  \n",
       "19   19.230769 2.956512 0   0   1  \n",
       "20   13.186813 2.579217 0   0   1  \n",
       "21   10.683761 2.368725 1   0   0  \n",
       "22   11.538462 2.445686 1   0   0  \n",
       "23   17.788462 2.878550 1   0   0  \n",
       "24   19.230769 2.956512 0   0   0  \n",
       "25   16.304348 2.791432 1   0   0  \n",
       "26   19.230769 2.956512 0   0   1  \n",
       "27   14.423077 2.668829 1   0   1  \n",
       "28   12.000000 2.484907 0   0   0  \n",
       "29   16.826923 2.822980 0   0   0  \n",
       "30   19.670330 2.979111 0   0   0  \n",
       "...  ...       ...      ... ... ...\n",
       "5121 13.986014 2.638058 1   0   0  \n",
       "5122 15.865385 2.764140 0   0   0  \n",
       "5123 38.461538 3.649659 1   0   0  \n",
       "5124 28.846154 3.361977 0   0   0  \n",
       "5125 24.475524 3.197674 1   0   0  \n",
       "5126 27.884615 3.328075 0   0   0  \n",
       "5127  8.653846 2.158004 1   0   1  \n",
       "5128 12.019231 2.486508 0   0   1  \n",
       "5129 38.461538 3.649659 0   0   0  \n",
       "5130 12.500000 2.525729 1   0   1  \n",
       "5131 35.256410 3.562647 0   0   0  \n",
       "5132 48.076923 3.872802 1   0   0  \n",
       "5133  9.615385 2.263364 0   0   1  \n",
       "5134 12.019231 2.486508 0   0   1  \n",
       "5135 12.019231 2.486508 0   0   0  \n",
       "5136 12.980769 2.563469 0   0   1  \n",
       "5137 26.442308 3.274965 1   0   0  \n",
       "5138 13.461538 2.599837 1   0   1  \n",
       "5139 19.711538 2.981204 1   0   0  \n",
       "5140 21.153846 3.051822 0   0   0  \n",
       "5141 45.546559 3.818735 1   0   0  \n",
       "5142 22.596154 3.117780 0   0   1  \n",
       "5143 16.826923 2.822980 0   0   1  \n",
       "5144 24.038462 3.179655 1   0   0  \n",
       "5145 13.846154 2.628007 0   0   0  \n",
       "5146 14.769231 2.692546 0   0   0  \n",
       "5147 23.076923 3.138833 1   0   0  \n",
       "5148 38.461538 3.649659 0   0   0  \n",
       "5149 32.967033 3.495508 0   0   1  \n",
       "5150 17.307692 2.851151 0   0   0  "
      ]
     },
     "metadata": {},
     "output_type": "display_data"
    }
   ],
   "source": [
    "base1[,1:5]"
   ]
  },
  {
   "cell_type": "code",
   "execution_count": 42,
   "metadata": {
    "scrolled": false
   },
   "outputs": [
    {
     "data": {
      "text/html": [
       "<table class=\"dataframe\">\n",
       "<caption>A data.frame: 10 × 2</caption>\n",
       "<thead>\n",
       "\t<tr><th></th><th scope=col>salario</th><th scope=col>lwage</th></tr>\n",
       "\t<tr><th></th><th scope=col>&lt;dbl&gt;</th><th scope=col>&lt;dbl&gt;</th></tr>\n",
       "</thead>\n",
       "<tbody>\n",
       "\t<tr><th scope=row>1</th><td> 9.615385</td><td>2.263364</td></tr>\n",
       "\t<tr><th scope=row>2</th><td>48.076923</td><td>3.872802</td></tr>\n",
       "\t<tr><th scope=row>3</th><td>11.057692</td><td>2.403126</td></tr>\n",
       "\t<tr><th scope=row>4</th><td>13.942308</td><td>2.634928</td></tr>\n",
       "\t<tr><th scope=row>5</th><td>28.846154</td><td>3.361977</td></tr>\n",
       "\t<tr><th scope=row>6</th><td>11.730769</td><td>2.462215</td></tr>\n",
       "\t<tr><th scope=row>7</th><td>19.230769</td><td>2.956512</td></tr>\n",
       "\t<tr><th scope=row>8</th><td>19.230769</td><td>2.956512</td></tr>\n",
       "\t<tr><th scope=row>9</th><td>12.000000</td><td>2.484907</td></tr>\n",
       "\t<tr><th scope=row>10</th><td>19.230769</td><td>2.956512</td></tr>\n",
       "</tbody>\n",
       "</table>\n"
      ],
      "text/latex": [
       "A data.frame: 10 × 2\n",
       "\\begin{tabular}{r|ll}\n",
       "  & salario & lwage\\\\\n",
       "  & <dbl> & <dbl>\\\\\n",
       "\\hline\n",
       "\t1 &  9.615385 & 2.263364\\\\\n",
       "\t2 & 48.076923 & 3.872802\\\\\n",
       "\t3 & 11.057692 & 2.403126\\\\\n",
       "\t4 & 13.942308 & 2.634928\\\\\n",
       "\t5 & 28.846154 & 3.361977\\\\\n",
       "\t6 & 11.730769 & 2.462215\\\\\n",
       "\t7 & 19.230769 & 2.956512\\\\\n",
       "\t8 & 19.230769 & 2.956512\\\\\n",
       "\t9 & 12.000000 & 2.484907\\\\\n",
       "\t10 & 19.230769 & 2.956512\\\\\n",
       "\\end{tabular}\n"
      ],
      "text/markdown": [
       "\n",
       "A data.frame: 10 × 2\n",
       "\n",
       "| <!--/--> | salario &lt;dbl&gt; | lwage &lt;dbl&gt; |\n",
       "|---|---|---|\n",
       "| 1 |  9.615385 | 2.263364 |\n",
       "| 2 | 48.076923 | 3.872802 |\n",
       "| 3 | 11.057692 | 2.403126 |\n",
       "| 4 | 13.942308 | 2.634928 |\n",
       "| 5 | 28.846154 | 3.361977 |\n",
       "| 6 | 11.730769 | 2.462215 |\n",
       "| 7 | 19.230769 | 2.956512 |\n",
       "| 8 | 19.230769 | 2.956512 |\n",
       "| 9 | 12.000000 | 2.484907 |\n",
       "| 10 | 19.230769 | 2.956512 |\n",
       "\n"
      ],
      "text/plain": [
       "   salario   lwage   \n",
       "1   9.615385 2.263364\n",
       "2  48.076923 3.872802\n",
       "3  11.057692 2.403126\n",
       "4  13.942308 2.634928\n",
       "5  28.846154 3.361977\n",
       "6  11.730769 2.462215\n",
       "7  19.230769 2.956512\n",
       "8  19.230769 2.956512\n",
       "9  12.000000 2.484907\n",
       "10 19.230769 2.956512"
      ]
     },
     "metadata": {},
     "output_type": "display_data"
    }
   ],
   "source": [
    "base1[1:10,] %>% select(salario, lwage)\n"
   ]
  },
  {
   "cell_type": "code",
   "execution_count": 57,
   "metadata": {},
   "outputs": [
    {
     "data": {
      "text/html": [
       "<table class=\"dataframe\">\n",
       "<caption>A data.frame: 10 × 2</caption>\n",
       "<thead>\n",
       "\t<tr><th></th><th scope=col>salario</th><th scope=col>lwage</th></tr>\n",
       "\t<tr><th></th><th scope=col>&lt;dbl&gt;</th><th scope=col>&lt;dbl&gt;</th></tr>\n",
       "</thead>\n",
       "<tbody>\n",
       "\t<tr><th scope=row>1</th><td> 9.615385</td><td>2.263364</td></tr>\n",
       "\t<tr><th scope=row>2</th><td>48.076923</td><td>3.872802</td></tr>\n",
       "\t<tr><th scope=row>3</th><td>11.057692</td><td>2.403126</td></tr>\n",
       "\t<tr><th scope=row>4</th><td>13.942308</td><td>2.634928</td></tr>\n",
       "\t<tr><th scope=row>5</th><td>28.846154</td><td>3.361977</td></tr>\n",
       "\t<tr><th scope=row>6</th><td>11.730769</td><td>2.462215</td></tr>\n",
       "\t<tr><th scope=row>7</th><td>19.230769</td><td>2.956512</td></tr>\n",
       "\t<tr><th scope=row>8</th><td>19.230769</td><td>2.956512</td></tr>\n",
       "\t<tr><th scope=row>9</th><td>12.000000</td><td>2.484907</td></tr>\n",
       "\t<tr><th scope=row>10</th><td>19.230769</td><td>2.956512</td></tr>\n",
       "</tbody>\n",
       "</table>\n"
      ],
      "text/latex": [
       "A data.frame: 10 × 2\n",
       "\\begin{tabular}{r|ll}\n",
       "  & salario & lwage\\\\\n",
       "  & <dbl> & <dbl>\\\\\n",
       "\\hline\n",
       "\t1 &  9.615385 & 2.263364\\\\\n",
       "\t2 & 48.076923 & 3.872802\\\\\n",
       "\t3 & 11.057692 & 2.403126\\\\\n",
       "\t4 & 13.942308 & 2.634928\\\\\n",
       "\t5 & 28.846154 & 3.361977\\\\\n",
       "\t6 & 11.730769 & 2.462215\\\\\n",
       "\t7 & 19.230769 & 2.956512\\\\\n",
       "\t8 & 19.230769 & 2.956512\\\\\n",
       "\t9 & 12.000000 & 2.484907\\\\\n",
       "\t10 & 19.230769 & 2.956512\\\\\n",
       "\\end{tabular}\n"
      ],
      "text/markdown": [
       "\n",
       "A data.frame: 10 × 2\n",
       "\n",
       "| <!--/--> | salario &lt;dbl&gt; | lwage &lt;dbl&gt; |\n",
       "|---|---|---|\n",
       "| 1 |  9.615385 | 2.263364 |\n",
       "| 2 | 48.076923 | 3.872802 |\n",
       "| 3 | 11.057692 | 2.403126 |\n",
       "| 4 | 13.942308 | 2.634928 |\n",
       "| 5 | 28.846154 | 3.361977 |\n",
       "| 6 | 11.730769 | 2.462215 |\n",
       "| 7 | 19.230769 | 2.956512 |\n",
       "| 8 | 19.230769 | 2.956512 |\n",
       "| 9 | 12.000000 | 2.484907 |\n",
       "| 10 | 19.230769 | 2.956512 |\n",
       "\n"
      ],
      "text/plain": [
       "   salario   lwage   \n",
       "1   9.615385 2.263364\n",
       "2  48.076923 3.872802\n",
       "3  11.057692 2.403126\n",
       "4  13.942308 2.634928\n",
       "5  28.846154 3.361977\n",
       "6  11.730769 2.462215\n",
       "7  19.230769 2.956512\n",
       "8  19.230769 2.956512\n",
       "9  12.000000 2.484907\n",
       "10 19.230769 2.956512"
      ]
     },
     "metadata": {},
     "output_type": "display_data"
    }
   ],
   "source": [
    "select(base1[1:10,], salario,lwage)"
   ]
  },
  {
   "cell_type": "code",
   "execution_count": 46,
   "metadata": {
    "scrolled": true
   },
   "outputs": [
    {
     "data": {
      "text/html": [
       "<table class=\"dataframe\">\n",
       "<caption>A data.frame: 2289 × 19</caption>\n",
       "<thead>\n",
       "\t<tr><th scope=col>salario</th><th scope=col>lwage</th><th scope=col>sex</th><th scope=col>shs</th><th scope=col>hsg</th><th scope=col>scl</th><th scope=col>clg</th><th scope=col>ad</th><th scope=col>mw</th><th scope=col>so</th><th scope=col>we</th><th scope=col>ne</th><th scope=col>exp1</th><th scope=col>exp2</th><th scope=col>exp3</th><th scope=col>exp4</th><th scope=col>occ</th><th scope=col>occ2</th><th scope=col>ind</th></tr>\n",
       "\t<tr><th scope=col>&lt;dbl&gt;</th><th scope=col>&lt;dbl&gt;</th><th scope=col>&lt;int&gt;</th><th scope=col>&lt;int&gt;</th><th scope=col>&lt;int&gt;</th><th scope=col>&lt;int&gt;</th><th scope=col>&lt;int&gt;</th><th scope=col>&lt;int&gt;</th><th scope=col>&lt;int&gt;</th><th scope=col>&lt;int&gt;</th><th scope=col>&lt;int&gt;</th><th scope=col>&lt;int&gt;</th><th scope=col>&lt;dbl&gt;</th><th scope=col>&lt;dbl&gt;</th><th scope=col>&lt;dbl&gt;</th><th scope=col>&lt;dbl&gt;</th><th scope=col>&lt;dbl&gt;</th><th scope=col>&lt;int&gt;</th><th scope=col>&lt;dbl&gt;</th></tr>\n",
       "</thead>\n",
       "<tbody>\n",
       "\t<tr><td> 9.615385</td><td>2.263364</td><td>1</td><td>0</td><td>0</td><td>0</td><td>1</td><td>0</td><td>0</td><td>0</td><td>0</td><td>1</td><td> 7.0</td><td> 0.4900</td><td> 0.343000</td><td>  0.24010000</td><td>3600</td><td>11</td><td>8370</td></tr>\n",
       "\t<tr><td>13.942308</td><td>2.634928</td><td>1</td><td>0</td><td>0</td><td>0</td><td>0</td><td>1</td><td>0</td><td>0</td><td>0</td><td>1</td><td>25.0</td><td> 6.2500</td><td>15.625000</td><td> 39.06250000</td><td> 420</td><td> 1</td><td>6990</td></tr>\n",
       "\t<tr><td>28.846154</td><td>3.361977</td><td>1</td><td>0</td><td>0</td><td>0</td><td>1</td><td>0</td><td>0</td><td>0</td><td>0</td><td>1</td><td>22.0</td><td> 4.8400</td><td>10.648000</td><td> 23.42560000</td><td>2015</td><td> 6</td><td>9470</td></tr>\n",
       "\t<tr><td>11.730769</td><td>2.462215</td><td>1</td><td>0</td><td>0</td><td>0</td><td>1</td><td>0</td><td>0</td><td>0</td><td>0</td><td>1</td><td> 1.0</td><td> 0.0100</td><td> 0.001000</td><td>  0.00010000</td><td>1650</td><td> 5</td><td>7460</td></tr>\n",
       "\t<tr><td>19.230769</td><td>2.956512</td><td>1</td><td>0</td><td>1</td><td>0</td><td>0</td><td>0</td><td>0</td><td>0</td><td>0</td><td>1</td><td>42.0</td><td>17.6400</td><td>74.088000</td><td>311.16960000</td><td>5120</td><td>17</td><td>7280</td></tr>\n",
       "\t<tr><td>12.000000</td><td>2.484907</td><td>1</td><td>0</td><td>1</td><td>0</td><td>0</td><td>0</td><td>0</td><td>0</td><td>0</td><td>1</td><td>31.0</td><td> 9.6100</td><td>29.791000</td><td> 92.35210000</td><td>4040</td><td>13</td><td>8590</td></tr>\n",
       "\t<tr><td>19.230769</td><td>2.956512</td><td>1</td><td>0</td><td>0</td><td>0</td><td>1</td><td>0</td><td>0</td><td>0</td><td>0</td><td>1</td><td> 4.0</td><td> 0.1600</td><td> 0.064000</td><td>  0.02560000</td><td>3255</td><td>10</td><td>8190</td></tr>\n",
       "\t<tr><td>17.307692</td><td>2.851151</td><td>1</td><td>0</td><td>1</td><td>0</td><td>0</td><td>0</td><td>0</td><td>0</td><td>0</td><td>1</td><td> 7.0</td><td> 0.4900</td><td> 0.343000</td><td>  0.24010000</td><td>4020</td><td>13</td><td>8270</td></tr>\n",
       "\t<tr><td>12.019231</td><td>2.486508</td><td>1</td><td>0</td><td>0</td><td>1</td><td>0</td><td>0</td><td>0</td><td>0</td><td>0</td><td>1</td><td> 5.5</td><td> 0.3025</td><td> 0.166375</td><td>  0.09150625</td><td>3600</td><td>11</td><td>8270</td></tr>\n",
       "\t<tr><td>13.461538</td><td>2.599837</td><td>1</td><td>0</td><td>0</td><td>1</td><td>0</td><td>0</td><td>0</td><td>0</td><td>0</td><td>1</td><td>20.5</td><td> 4.2025</td><td> 8.615125</td><td> 17.66100625</td><td>3645</td><td>11</td><td>8190</td></tr>\n",
       "\t<tr><td>16.346154</td><td>2.793993</td><td>1</td><td>0</td><td>0</td><td>0</td><td>1</td><td>0</td><td>0</td><td>0</td><td>0</td><td>1</td><td>25.0</td><td> 6.2500</td><td>15.625000</td><td> 39.06250000</td><td> 110</td><td> 1</td><td>7870</td></tr>\n",
       "\t<tr><td>10.683761</td><td>2.368725</td><td>1</td><td>0</td><td>0</td><td>1</td><td>0</td><td>0</td><td>0</td><td>0</td><td>0</td><td>1</td><td> 6.5</td><td> 0.4225</td><td> 0.274625</td><td>  0.17850625</td><td>4300</td><td>15</td><td>8590</td></tr>\n",
       "\t<tr><td>11.538462</td><td>2.445686</td><td>1</td><td>0</td><td>0</td><td>1</td><td>0</td><td>0</td><td>0</td><td>0</td><td>0</td><td>1</td><td> 8.5</td><td> 0.7225</td><td> 0.614125</td><td>  0.52200625</td><td>3600</td><td>11</td><td>8190</td></tr>\n",
       "\t<tr><td>17.788462</td><td>2.878550</td><td>1</td><td>0</td><td>0</td><td>0</td><td>0</td><td>1</td><td>0</td><td>0</td><td>0</td><td>1</td><td>11.0</td><td> 1.2100</td><td> 1.331000</td><td>  1.46410000</td><td>2310</td><td> 8</td><td>7860</td></tr>\n",
       "\t<tr><td>16.304348</td><td>2.791432</td><td>1</td><td>0</td><td>0</td><td>1</td><td>0</td><td>0</td><td>0</td><td>0</td><td>0</td><td>1</td><td>24.5</td><td> 6.0025</td><td>14.706125</td><td> 36.03000625</td><td>  20</td><td> 1</td><td>5480</td></tr>\n",
       "\t<tr><td>14.423077</td><td>2.668829</td><td>1</td><td>0</td><td>1</td><td>0</td><td>0</td><td>0</td><td>0</td><td>0</td><td>0</td><td>1</td><td> 5.0</td><td> 0.2500</td><td> 0.125000</td><td>  0.06250000</td><td> 430</td><td> 1</td><td>7390</td></tr>\n",
       "\t<tr><td>42.307692</td><td>3.744969</td><td>1</td><td>0</td><td>0</td><td>0</td><td>0</td><td>1</td><td>0</td><td>0</td><td>0</td><td>1</td><td> 0.0</td><td> 0.0000</td><td> 0.000000</td><td>  0.00000000</td><td>4700</td><td>16</td><td>4795</td></tr>\n",
       "\t<tr><td>13.942308</td><td>2.634928</td><td>1</td><td>0</td><td>0</td><td>1</td><td>0</td><td>0</td><td>0</td><td>0</td><td>0</td><td>1</td><td>15.5</td><td> 2.4025</td><td> 3.723875</td><td>  5.77200625</td><td>5860</td><td>17</td><td>4670</td></tr>\n",
       "\t<tr><td>10.096154</td><td>2.312155</td><td>1</td><td>0</td><td>0</td><td>1</td><td>0</td><td>0</td><td>0</td><td>0</td><td>0</td><td>1</td><td> 9.0</td><td> 0.8100</td><td> 0.729000</td><td>  0.65610000</td><td>3500</td><td>10</td><td>8090</td></tr>\n",
       "\t<tr><td>14.053254</td><td>2.642854</td><td>1</td><td>0</td><td>0</td><td>0</td><td>0</td><td>1</td><td>0</td><td>0</td><td>0</td><td>1</td><td>14.0</td><td> 1.9600</td><td> 2.744000</td><td>  3.84160000</td><td>2330</td><td> 8</td><td>7860</td></tr>\n",
       "\t<tr><td>11.965812</td><td>2.482054</td><td>1</td><td>0</td><td>1</td><td>0</td><td>0</td><td>0</td><td>0</td><td>0</td><td>0</td><td>1</td><td>14.0</td><td> 1.9600</td><td> 2.744000</td><td>  3.84160000</td><td> 430</td><td> 1</td><td>2980</td></tr>\n",
       "\t<tr><td>24.038462</td><td>3.179655</td><td>1</td><td>0</td><td>0</td><td>0</td><td>1</td><td>0</td><td>0</td><td>0</td><td>0</td><td>1</td><td>31.0</td><td> 9.6100</td><td>29.791000</td><td> 92.35210000</td><td>2630</td><td> 9</td><td>4870</td></tr>\n",
       "\t<tr><td>41.208791</td><td>3.718652</td><td>1</td><td>0</td><td>0</td><td>0</td><td>1</td><td>0</td><td>0</td><td>0</td><td>0</td><td>1</td><td>11.0</td><td> 1.2100</td><td> 1.331000</td><td>  1.46410000</td><td>4700</td><td>16</td><td>5790</td></tr>\n",
       "\t<tr><td>21.634615</td><td>3.074295</td><td>1</td><td>0</td><td>0</td><td>1</td><td>0</td><td>0</td><td>0</td><td>0</td><td>0</td><td>1</td><td>17.5</td><td> 3.0625</td><td> 5.359375</td><td>  9.37890625</td><td>5400</td><td>17</td><td>6695</td></tr>\n",
       "\t<tr><td> 6.730769</td><td>1.906689</td><td>1</td><td>0</td><td>1</td><td>0</td><td>0</td><td>0</td><td>0</td><td>0</td><td>0</td><td>1</td><td>15.0</td><td> 2.2500</td><td> 3.375000</td><td>  5.06250000</td><td>3600</td><td>11</td><td>8270</td></tr>\n",
       "\t<tr><td>12.019231</td><td>2.486508</td><td>1</td><td>0</td><td>0</td><td>1</td><td>0</td><td>0</td><td>0</td><td>0</td><td>0</td><td>1</td><td> 6.5</td><td> 0.4225</td><td> 0.274625</td><td>  0.17850625</td><td>4110</td><td>13</td><td>8680</td></tr>\n",
       "\t<tr><td> 7.211538</td><td>1.975682</td><td>1</td><td>0</td><td>0</td><td>1</td><td>0</td><td>0</td><td>0</td><td>0</td><td>0</td><td>1</td><td>17.5</td><td> 3.0625</td><td> 5.359375</td><td>  9.37890625</td><td>4720</td><td>16</td><td>4980</td></tr>\n",
       "\t<tr><td>11.778846</td><td>2.466305</td><td>1</td><td>0</td><td>0</td><td>0</td><td>1</td><td>0</td><td>0</td><td>0</td><td>0</td><td>1</td><td> 7.0</td><td> 0.4900</td><td> 0.343000</td><td>  0.24010000</td><td>5860</td><td>17</td><td>6870</td></tr>\n",
       "\t<tr><td>13.076923</td><td>2.570849</td><td>1</td><td>0</td><td>0</td><td>0</td><td>1</td><td>0</td><td>0</td><td>0</td><td>0</td><td>1</td><td>10.0</td><td> 1.0000</td><td> 1.000000</td><td>  1.00000000</td><td> 725</td><td> 2</td><td>8590</td></tr>\n",
       "\t<tr><td>22.500000</td><td>3.113515</td><td>1</td><td>0</td><td>0</td><td>0</td><td>0</td><td>1</td><td>0</td><td>0</td><td>0</td><td>1</td><td>35.0</td><td>12.2500</td><td>42.875000</td><td>150.06250000</td><td>2310</td><td> 8</td><td>7860</td></tr>\n",
       "\t<tr><td>...</td><td>...</td><td>...</td><td>...</td><td>...</td><td>...</td><td>...</td><td>...</td><td>...</td><td>...</td><td>...</td><td>...</td><td>...</td><td>...</td><td>...</td><td>...</td><td>...</td><td>...</td><td>...</td></tr>\n",
       "\t<tr><td>48.076923</td><td>3.872802</td><td>1</td><td>0</td><td>0</td><td>0</td><td>0</td><td>1</td><td>0</td><td>0</td><td>1</td><td>0</td><td> 0.0</td><td> 0.0000</td><td> 0.000000</td><td>  0.00000000</td><td>3050</td><td>10</td><td>8090</td></tr>\n",
       "\t<tr><td>20.673077</td><td>3.028832</td><td>1</td><td>0</td><td>0</td><td>0</td><td>1</td><td>0</td><td>0</td><td>0</td><td>1</td><td>0</td><td> 6.0</td><td> 0.3600</td><td> 0.216000</td><td>  0.12960000</td><td>5000</td><td>17</td><td>6870</td></tr>\n",
       "\t<tr><td> 8.894231</td><td>2.185403</td><td>1</td><td>0</td><td>1</td><td>0</td><td>0</td><td>0</td><td>0</td><td>0</td><td>1</td><td>0</td><td> 5.0</td><td> 0.2500</td><td> 0.125000</td><td>  0.06250000</td><td>4720</td><td>16</td><td>8680</td></tr>\n",
       "\t<tr><td>30.145530</td><td>3.406037</td><td>1</td><td>0</td><td>0</td><td>0</td><td>1</td><td>0</td><td>0</td><td>0</td><td>1</td><td>0</td><td>15.0</td><td> 2.2500</td><td> 3.375000</td><td>  5.06250000</td><td> 120</td><td> 1</td><td>6870</td></tr>\n",
       "\t<tr><td>12.019231</td><td>2.486508</td><td>1</td><td>0</td><td>0</td><td>1</td><td>0</td><td>0</td><td>0</td><td>0</td><td>1</td><td>0</td><td> 9.5</td><td> 0.9025</td><td> 0.857375</td><td>  0.81450625</td><td>4760</td><td>16</td><td>4890</td></tr>\n",
       "\t<tr><td>24.038462</td><td>3.179655</td><td>1</td><td>0</td><td>1</td><td>0</td><td>0</td><td>0</td><td>0</td><td>0</td><td>1</td><td>0</td><td> 7.0</td><td> 0.4900</td><td> 0.343000</td><td>  0.24010000</td><td> 120</td><td> 1</td><td>6890</td></tr>\n",
       "\t<tr><td>22.596154</td><td>3.117780</td><td>1</td><td>0</td><td>0</td><td>1</td><td>0</td><td>0</td><td>0</td><td>0</td><td>1</td><td>0</td><td>11.5</td><td> 1.3225</td><td> 1.520875</td><td>  1.74900625</td><td>5240</td><td>17</td><td>6690</td></tr>\n",
       "\t<tr><td> 7.211538</td><td>1.975682</td><td>1</td><td>0</td><td>0</td><td>0</td><td>0</td><td>1</td><td>0</td><td>0</td><td>1</td><td>0</td><td> 2.0</td><td> 0.0400</td><td> 0.008000</td><td>  0.00160000</td><td>2200</td><td> 8</td><td>7870</td></tr>\n",
       "\t<tr><td>18.750000</td><td>2.931194</td><td>1</td><td>0</td><td>0</td><td>1</td><td>0</td><td>0</td><td>0</td><td>0</td><td>1</td><td>0</td><td>19.0</td><td> 3.6100</td><td> 6.859000</td><td> 13.03210000</td><td>3649</td><td>11</td><td>8190</td></tr>\n",
       "\t<tr><td>29.914530</td><td>3.398344</td><td>1</td><td>0</td><td>0</td><td>0</td><td>1</td><td>0</td><td>0</td><td>0</td><td>1</td><td>0</td><td>39.0</td><td>15.2100</td><td>59.319000</td><td>231.34410000</td><td>4700</td><td>16</td><td>5380</td></tr>\n",
       "\t<tr><td>11.298077</td><td>2.424633</td><td>1</td><td>0</td><td>0</td><td>0</td><td>1</td><td>0</td><td>0</td><td>0</td><td>1</td><td>0</td><td>10.0</td><td> 1.0000</td><td> 1.000000</td><td>  1.00000000</td><td>2060</td><td> 6</td><td>9160</td></tr>\n",
       "\t<tr><td>16.025641</td><td>2.774190</td><td>1</td><td>0</td><td>0</td><td>1</td><td>0</td><td>0</td><td>0</td><td>0</td><td>1</td><td>0</td><td>11.0</td><td> 1.2100</td><td> 1.331000</td><td>  1.46410000</td><td>4720</td><td>16</td><td>5080</td></tr>\n",
       "\t<tr><td>16.826923</td><td>2.822980</td><td>1</td><td>0</td><td>0</td><td>0</td><td>1</td><td>0</td><td>0</td><td>0</td><td>1</td><td>0</td><td> 4.0</td><td> 0.1600</td><td> 0.064000</td><td>  0.02560000</td><td>3648</td><td>11</td><td>7480</td></tr>\n",
       "\t<tr><td>15.865385</td><td>2.764140</td><td>1</td><td>0</td><td>0</td><td>0</td><td>0</td><td>1</td><td>0</td><td>0</td><td>1</td><td>0</td><td> 0.0</td><td> 0.0000</td><td> 0.000000</td><td>  0.00000000</td><td>3230</td><td>10</td><td>8180</td></tr>\n",
       "\t<tr><td>18.750000</td><td>2.931194</td><td>1</td><td>0</td><td>0</td><td>0</td><td>1</td><td>0</td><td>0</td><td>0</td><td>1</td><td>0</td><td> 2.0</td><td> 0.0400</td><td> 0.008000</td><td>  0.00160000</td><td>2000</td><td> 6</td><td>8370</td></tr>\n",
       "\t<tr><td>20.913462</td><td>3.040393</td><td>1</td><td>0</td><td>0</td><td>1</td><td>0</td><td>0</td><td>0</td><td>0</td><td>1</td><td>0</td><td> 4.5</td><td> 0.2025</td><td> 0.091125</td><td>  0.04100625</td><td>4600</td><td>15</td><td>8470</td></tr>\n",
       "\t<tr><td>15.697863</td><td>2.753525</td><td>1</td><td>0</td><td>1</td><td>0</td><td>0</td><td>0</td><td>0</td><td>0</td><td>1</td><td>0</td><td>40.0</td><td>16.0000</td><td>64.000000</td><td>256.00000000</td><td>4850</td><td>16</td><td>4470</td></tr>\n",
       "\t<tr><td>12.237762</td><td>2.504526</td><td>1</td><td>0</td><td>0</td><td>0</td><td>0</td><td>1</td><td>0</td><td>0</td><td>1</td><td>0</td><td> 6.0</td><td> 0.3600</td><td> 0.216000</td><td>  0.12960000</td><td>3820</td><td>12</td><td>9590</td></tr>\n",
       "\t<tr><td>13.986014</td><td>2.638058</td><td>1</td><td>0</td><td>0</td><td>0</td><td>0</td><td>1</td><td>0</td><td>0</td><td>1</td><td>0</td><td> 7.0</td><td> 0.4900</td><td> 0.343000</td><td>  0.24010000</td><td>3820</td><td>12</td><td>9590</td></tr>\n",
       "\t<tr><td>38.461538</td><td>3.649659</td><td>1</td><td>0</td><td>0</td><td>1</td><td>0</td><td>0</td><td>0</td><td>0</td><td>1</td><td>0</td><td> 7.5</td><td> 0.5625</td><td> 0.421875</td><td>  0.31640625</td><td> 220</td><td> 1</td><td> 770</td></tr>\n",
       "\t<tr><td>24.475524</td><td>3.197674</td><td>1</td><td>0</td><td>0</td><td>0</td><td>0</td><td>1</td><td>0</td><td>0</td><td>1</td><td>0</td><td>24.0</td><td> 5.7600</td><td>13.824000</td><td> 33.17760000</td><td>2310</td><td> 8</td><td>7860</td></tr>\n",
       "\t<tr><td> 8.653846</td><td>2.158004</td><td>1</td><td>0</td><td>1</td><td>0</td><td>0</td><td>0</td><td>0</td><td>0</td><td>1</td><td>0</td><td>25.0</td><td> 6.2500</td><td>15.625000</td><td> 39.06250000</td><td>3930</td><td>12</td><td>7680</td></tr>\n",
       "\t<tr><td>12.500000</td><td>2.525729</td><td>1</td><td>0</td><td>1</td><td>0</td><td>0</td><td>0</td><td>0</td><td>0</td><td>1</td><td>0</td><td>12.0</td><td> 1.4400</td><td> 1.728000</td><td>  2.07360000</td><td>4010</td><td>13</td><td>8680</td></tr>\n",
       "\t<tr><td>48.076923</td><td>3.872802</td><td>1</td><td>0</td><td>0</td><td>0</td><td>1</td><td>0</td><td>0</td><td>0</td><td>1</td><td>0</td><td>25.0</td><td> 6.2500</td><td>15.625000</td><td> 39.06250000</td><td>3255</td><td>10</td><td>8170</td></tr>\n",
       "\t<tr><td>26.442308</td><td>3.274965</td><td>1</td><td>0</td><td>0</td><td>0</td><td>1</td><td>0</td><td>0</td><td>0</td><td>1</td><td>0</td><td>34.0</td><td>11.5600</td><td>39.304000</td><td>133.63360000</td><td>2310</td><td> 8</td><td>7860</td></tr>\n",
       "\t<tr><td>13.461538</td><td>2.599837</td><td>1</td><td>0</td><td>1</td><td>0</td><td>0</td><td>0</td><td>0</td><td>0</td><td>1</td><td>0</td><td> 8.0</td><td> 0.6400</td><td> 0.512000</td><td>  0.40960000</td><td>4720</td><td>16</td><td>8590</td></tr>\n",
       "\t<tr><td>19.711538</td><td>2.981204</td><td>1</td><td>0</td><td>0</td><td>0</td><td>0</td><td>1</td><td>0</td><td>0</td><td>1</td><td>0</td><td> 8.0</td><td> 0.6400</td><td> 0.512000</td><td>  0.40960000</td><td>2000</td><td> 6</td><td>8090</td></tr>\n",
       "\t<tr><td>45.546559</td><td>3.818735</td><td>1</td><td>0</td><td>0</td><td>0</td><td>1</td><td>0</td><td>0</td><td>0</td><td>1</td><td>0</td><td> 5.0</td><td> 0.2500</td><td> 0.125000</td><td>  0.06250000</td><td>3255</td><td>10</td><td>8190</td></tr>\n",
       "\t<tr><td>24.038462</td><td>3.179655</td><td>1</td><td>0</td><td>0</td><td>0</td><td>1</td><td>0</td><td>0</td><td>0</td><td>1</td><td>0</td><td>17.0</td><td> 2.8900</td><td> 4.913000</td><td>  8.35210000</td><td>2550</td><td> 8</td><td>9480</td></tr>\n",
       "\t<tr><td>23.076923</td><td>3.138833</td><td>1</td><td>0</td><td>0</td><td>1</td><td>0</td><td>0</td><td>0</td><td>0</td><td>1</td><td>0</td><td>12.0</td><td> 1.4400</td><td> 1.728000</td><td>  2.07360000</td><td>4110</td><td>13</td><td>8680</td></tr>\n",
       "</tbody>\n",
       "</table>\n"
      ],
      "text/latex": [
       "A data.frame: 2289 × 19\n",
       "\\begin{tabular}{lllllllllllllllllll}\n",
       " salario & lwage & sex & shs & hsg & scl & clg & ad & mw & so & we & ne & exp1 & exp2 & exp3 & exp4 & occ & occ2 & ind\\\\\n",
       " <dbl> & <dbl> & <int> & <int> & <int> & <int> & <int> & <int> & <int> & <int> & <int> & <int> & <dbl> & <dbl> & <dbl> & <dbl> & <dbl> & <int> & <dbl>\\\\\n",
       "\\hline\n",
       "\t  9.615385 & 2.263364 & 1 & 0 & 0 & 0 & 1 & 0 & 0 & 0 & 0 & 1 &  7.0 &  0.4900 &  0.343000 &   0.24010000 & 3600 & 11 & 8370\\\\\n",
       "\t 13.942308 & 2.634928 & 1 & 0 & 0 & 0 & 0 & 1 & 0 & 0 & 0 & 1 & 25.0 &  6.2500 & 15.625000 &  39.06250000 &  420 &  1 & 6990\\\\\n",
       "\t 28.846154 & 3.361977 & 1 & 0 & 0 & 0 & 1 & 0 & 0 & 0 & 0 & 1 & 22.0 &  4.8400 & 10.648000 &  23.42560000 & 2015 &  6 & 9470\\\\\n",
       "\t 11.730769 & 2.462215 & 1 & 0 & 0 & 0 & 1 & 0 & 0 & 0 & 0 & 1 &  1.0 &  0.0100 &  0.001000 &   0.00010000 & 1650 &  5 & 7460\\\\\n",
       "\t 19.230769 & 2.956512 & 1 & 0 & 1 & 0 & 0 & 0 & 0 & 0 & 0 & 1 & 42.0 & 17.6400 & 74.088000 & 311.16960000 & 5120 & 17 & 7280\\\\\n",
       "\t 12.000000 & 2.484907 & 1 & 0 & 1 & 0 & 0 & 0 & 0 & 0 & 0 & 1 & 31.0 &  9.6100 & 29.791000 &  92.35210000 & 4040 & 13 & 8590\\\\\n",
       "\t 19.230769 & 2.956512 & 1 & 0 & 0 & 0 & 1 & 0 & 0 & 0 & 0 & 1 &  4.0 &  0.1600 &  0.064000 &   0.02560000 & 3255 & 10 & 8190\\\\\n",
       "\t 17.307692 & 2.851151 & 1 & 0 & 1 & 0 & 0 & 0 & 0 & 0 & 0 & 1 &  7.0 &  0.4900 &  0.343000 &   0.24010000 & 4020 & 13 & 8270\\\\\n",
       "\t 12.019231 & 2.486508 & 1 & 0 & 0 & 1 & 0 & 0 & 0 & 0 & 0 & 1 &  5.5 &  0.3025 &  0.166375 &   0.09150625 & 3600 & 11 & 8270\\\\\n",
       "\t 13.461538 & 2.599837 & 1 & 0 & 0 & 1 & 0 & 0 & 0 & 0 & 0 & 1 & 20.5 &  4.2025 &  8.615125 &  17.66100625 & 3645 & 11 & 8190\\\\\n",
       "\t 16.346154 & 2.793993 & 1 & 0 & 0 & 0 & 1 & 0 & 0 & 0 & 0 & 1 & 25.0 &  6.2500 & 15.625000 &  39.06250000 &  110 &  1 & 7870\\\\\n",
       "\t 10.683761 & 2.368725 & 1 & 0 & 0 & 1 & 0 & 0 & 0 & 0 & 0 & 1 &  6.5 &  0.4225 &  0.274625 &   0.17850625 & 4300 & 15 & 8590\\\\\n",
       "\t 11.538462 & 2.445686 & 1 & 0 & 0 & 1 & 0 & 0 & 0 & 0 & 0 & 1 &  8.5 &  0.7225 &  0.614125 &   0.52200625 & 3600 & 11 & 8190\\\\\n",
       "\t 17.788462 & 2.878550 & 1 & 0 & 0 & 0 & 0 & 1 & 0 & 0 & 0 & 1 & 11.0 &  1.2100 &  1.331000 &   1.46410000 & 2310 &  8 & 7860\\\\\n",
       "\t 16.304348 & 2.791432 & 1 & 0 & 0 & 1 & 0 & 0 & 0 & 0 & 0 & 1 & 24.5 &  6.0025 & 14.706125 &  36.03000625 &   20 &  1 & 5480\\\\\n",
       "\t 14.423077 & 2.668829 & 1 & 0 & 1 & 0 & 0 & 0 & 0 & 0 & 0 & 1 &  5.0 &  0.2500 &  0.125000 &   0.06250000 &  430 &  1 & 7390\\\\\n",
       "\t 42.307692 & 3.744969 & 1 & 0 & 0 & 0 & 0 & 1 & 0 & 0 & 0 & 1 &  0.0 &  0.0000 &  0.000000 &   0.00000000 & 4700 & 16 & 4795\\\\\n",
       "\t 13.942308 & 2.634928 & 1 & 0 & 0 & 1 & 0 & 0 & 0 & 0 & 0 & 1 & 15.5 &  2.4025 &  3.723875 &   5.77200625 & 5860 & 17 & 4670\\\\\n",
       "\t 10.096154 & 2.312155 & 1 & 0 & 0 & 1 & 0 & 0 & 0 & 0 & 0 & 1 &  9.0 &  0.8100 &  0.729000 &   0.65610000 & 3500 & 10 & 8090\\\\\n",
       "\t 14.053254 & 2.642854 & 1 & 0 & 0 & 0 & 0 & 1 & 0 & 0 & 0 & 1 & 14.0 &  1.9600 &  2.744000 &   3.84160000 & 2330 &  8 & 7860\\\\\n",
       "\t 11.965812 & 2.482054 & 1 & 0 & 1 & 0 & 0 & 0 & 0 & 0 & 0 & 1 & 14.0 &  1.9600 &  2.744000 &   3.84160000 &  430 &  1 & 2980\\\\\n",
       "\t 24.038462 & 3.179655 & 1 & 0 & 0 & 0 & 1 & 0 & 0 & 0 & 0 & 1 & 31.0 &  9.6100 & 29.791000 &  92.35210000 & 2630 &  9 & 4870\\\\\n",
       "\t 41.208791 & 3.718652 & 1 & 0 & 0 & 0 & 1 & 0 & 0 & 0 & 0 & 1 & 11.0 &  1.2100 &  1.331000 &   1.46410000 & 4700 & 16 & 5790\\\\\n",
       "\t 21.634615 & 3.074295 & 1 & 0 & 0 & 1 & 0 & 0 & 0 & 0 & 0 & 1 & 17.5 &  3.0625 &  5.359375 &   9.37890625 & 5400 & 17 & 6695\\\\\n",
       "\t  6.730769 & 1.906689 & 1 & 0 & 1 & 0 & 0 & 0 & 0 & 0 & 0 & 1 & 15.0 &  2.2500 &  3.375000 &   5.06250000 & 3600 & 11 & 8270\\\\\n",
       "\t 12.019231 & 2.486508 & 1 & 0 & 0 & 1 & 0 & 0 & 0 & 0 & 0 & 1 &  6.5 &  0.4225 &  0.274625 &   0.17850625 & 4110 & 13 & 8680\\\\\n",
       "\t  7.211538 & 1.975682 & 1 & 0 & 0 & 1 & 0 & 0 & 0 & 0 & 0 & 1 & 17.5 &  3.0625 &  5.359375 &   9.37890625 & 4720 & 16 & 4980\\\\\n",
       "\t 11.778846 & 2.466305 & 1 & 0 & 0 & 0 & 1 & 0 & 0 & 0 & 0 & 1 &  7.0 &  0.4900 &  0.343000 &   0.24010000 & 5860 & 17 & 6870\\\\\n",
       "\t 13.076923 & 2.570849 & 1 & 0 & 0 & 0 & 1 & 0 & 0 & 0 & 0 & 1 & 10.0 &  1.0000 &  1.000000 &   1.00000000 &  725 &  2 & 8590\\\\\n",
       "\t 22.500000 & 3.113515 & 1 & 0 & 0 & 0 & 0 & 1 & 0 & 0 & 0 & 1 & 35.0 & 12.2500 & 42.875000 & 150.06250000 & 2310 &  8 & 7860\\\\\n",
       "\t ... & ... & ... & ... & ... & ... & ... & ... & ... & ... & ... & ... & ... & ... & ... & ... & ... & ... & ...\\\\\n",
       "\t 48.076923 & 3.872802 & 1 & 0 & 0 & 0 & 0 & 1 & 0 & 0 & 1 & 0 &  0.0 &  0.0000 &  0.000000 &   0.00000000 & 3050 & 10 & 8090\\\\\n",
       "\t 20.673077 & 3.028832 & 1 & 0 & 0 & 0 & 1 & 0 & 0 & 0 & 1 & 0 &  6.0 &  0.3600 &  0.216000 &   0.12960000 & 5000 & 17 & 6870\\\\\n",
       "\t  8.894231 & 2.185403 & 1 & 0 & 1 & 0 & 0 & 0 & 0 & 0 & 1 & 0 &  5.0 &  0.2500 &  0.125000 &   0.06250000 & 4720 & 16 & 8680\\\\\n",
       "\t 30.145530 & 3.406037 & 1 & 0 & 0 & 0 & 1 & 0 & 0 & 0 & 1 & 0 & 15.0 &  2.2500 &  3.375000 &   5.06250000 &  120 &  1 & 6870\\\\\n",
       "\t 12.019231 & 2.486508 & 1 & 0 & 0 & 1 & 0 & 0 & 0 & 0 & 1 & 0 &  9.5 &  0.9025 &  0.857375 &   0.81450625 & 4760 & 16 & 4890\\\\\n",
       "\t 24.038462 & 3.179655 & 1 & 0 & 1 & 0 & 0 & 0 & 0 & 0 & 1 & 0 &  7.0 &  0.4900 &  0.343000 &   0.24010000 &  120 &  1 & 6890\\\\\n",
       "\t 22.596154 & 3.117780 & 1 & 0 & 0 & 1 & 0 & 0 & 0 & 0 & 1 & 0 & 11.5 &  1.3225 &  1.520875 &   1.74900625 & 5240 & 17 & 6690\\\\\n",
       "\t  7.211538 & 1.975682 & 1 & 0 & 0 & 0 & 0 & 1 & 0 & 0 & 1 & 0 &  2.0 &  0.0400 &  0.008000 &   0.00160000 & 2200 &  8 & 7870\\\\\n",
       "\t 18.750000 & 2.931194 & 1 & 0 & 0 & 1 & 0 & 0 & 0 & 0 & 1 & 0 & 19.0 &  3.6100 &  6.859000 &  13.03210000 & 3649 & 11 & 8190\\\\\n",
       "\t 29.914530 & 3.398344 & 1 & 0 & 0 & 0 & 1 & 0 & 0 & 0 & 1 & 0 & 39.0 & 15.2100 & 59.319000 & 231.34410000 & 4700 & 16 & 5380\\\\\n",
       "\t 11.298077 & 2.424633 & 1 & 0 & 0 & 0 & 1 & 0 & 0 & 0 & 1 & 0 & 10.0 &  1.0000 &  1.000000 &   1.00000000 & 2060 &  6 & 9160\\\\\n",
       "\t 16.025641 & 2.774190 & 1 & 0 & 0 & 1 & 0 & 0 & 0 & 0 & 1 & 0 & 11.0 &  1.2100 &  1.331000 &   1.46410000 & 4720 & 16 & 5080\\\\\n",
       "\t 16.826923 & 2.822980 & 1 & 0 & 0 & 0 & 1 & 0 & 0 & 0 & 1 & 0 &  4.0 &  0.1600 &  0.064000 &   0.02560000 & 3648 & 11 & 7480\\\\\n",
       "\t 15.865385 & 2.764140 & 1 & 0 & 0 & 0 & 0 & 1 & 0 & 0 & 1 & 0 &  0.0 &  0.0000 &  0.000000 &   0.00000000 & 3230 & 10 & 8180\\\\\n",
       "\t 18.750000 & 2.931194 & 1 & 0 & 0 & 0 & 1 & 0 & 0 & 0 & 1 & 0 &  2.0 &  0.0400 &  0.008000 &   0.00160000 & 2000 &  6 & 8370\\\\\n",
       "\t 20.913462 & 3.040393 & 1 & 0 & 0 & 1 & 0 & 0 & 0 & 0 & 1 & 0 &  4.5 &  0.2025 &  0.091125 &   0.04100625 & 4600 & 15 & 8470\\\\\n",
       "\t 15.697863 & 2.753525 & 1 & 0 & 1 & 0 & 0 & 0 & 0 & 0 & 1 & 0 & 40.0 & 16.0000 & 64.000000 & 256.00000000 & 4850 & 16 & 4470\\\\\n",
       "\t 12.237762 & 2.504526 & 1 & 0 & 0 & 0 & 0 & 1 & 0 & 0 & 1 & 0 &  6.0 &  0.3600 &  0.216000 &   0.12960000 & 3820 & 12 & 9590\\\\\n",
       "\t 13.986014 & 2.638058 & 1 & 0 & 0 & 0 & 0 & 1 & 0 & 0 & 1 & 0 &  7.0 &  0.4900 &  0.343000 &   0.24010000 & 3820 & 12 & 9590\\\\\n",
       "\t 38.461538 & 3.649659 & 1 & 0 & 0 & 1 & 0 & 0 & 0 & 0 & 1 & 0 &  7.5 &  0.5625 &  0.421875 &   0.31640625 &  220 &  1 &  770\\\\\n",
       "\t 24.475524 & 3.197674 & 1 & 0 & 0 & 0 & 0 & 1 & 0 & 0 & 1 & 0 & 24.0 &  5.7600 & 13.824000 &  33.17760000 & 2310 &  8 & 7860\\\\\n",
       "\t  8.653846 & 2.158004 & 1 & 0 & 1 & 0 & 0 & 0 & 0 & 0 & 1 & 0 & 25.0 &  6.2500 & 15.625000 &  39.06250000 & 3930 & 12 & 7680\\\\\n",
       "\t 12.500000 & 2.525729 & 1 & 0 & 1 & 0 & 0 & 0 & 0 & 0 & 1 & 0 & 12.0 &  1.4400 &  1.728000 &   2.07360000 & 4010 & 13 & 8680\\\\\n",
       "\t 48.076923 & 3.872802 & 1 & 0 & 0 & 0 & 1 & 0 & 0 & 0 & 1 & 0 & 25.0 &  6.2500 & 15.625000 &  39.06250000 & 3255 & 10 & 8170\\\\\n",
       "\t 26.442308 & 3.274965 & 1 & 0 & 0 & 0 & 1 & 0 & 0 & 0 & 1 & 0 & 34.0 & 11.5600 & 39.304000 & 133.63360000 & 2310 &  8 & 7860\\\\\n",
       "\t 13.461538 & 2.599837 & 1 & 0 & 1 & 0 & 0 & 0 & 0 & 0 & 1 & 0 &  8.0 &  0.6400 &  0.512000 &   0.40960000 & 4720 & 16 & 8590\\\\\n",
       "\t 19.711538 & 2.981204 & 1 & 0 & 0 & 0 & 0 & 1 & 0 & 0 & 1 & 0 &  8.0 &  0.6400 &  0.512000 &   0.40960000 & 2000 &  6 & 8090\\\\\n",
       "\t 45.546559 & 3.818735 & 1 & 0 & 0 & 0 & 1 & 0 & 0 & 0 & 1 & 0 &  5.0 &  0.2500 &  0.125000 &   0.06250000 & 3255 & 10 & 8190\\\\\n",
       "\t 24.038462 & 3.179655 & 1 & 0 & 0 & 0 & 1 & 0 & 0 & 0 & 1 & 0 & 17.0 &  2.8900 &  4.913000 &   8.35210000 & 2550 &  8 & 9480\\\\\n",
       "\t 23.076923 & 3.138833 & 1 & 0 & 0 & 1 & 0 & 0 & 0 & 0 & 1 & 0 & 12.0 &  1.4400 &  1.728000 &   2.07360000 & 4110 & 13 & 8680\\\\\n",
       "\\end{tabular}\n"
      ],
      "text/markdown": [
       "\n",
       "A data.frame: 2289 × 19\n",
       "\n",
       "| salario &lt;dbl&gt; | lwage &lt;dbl&gt; | sex &lt;int&gt; | shs &lt;int&gt; | hsg &lt;int&gt; | scl &lt;int&gt; | clg &lt;int&gt; | ad &lt;int&gt; | mw &lt;int&gt; | so &lt;int&gt; | we &lt;int&gt; | ne &lt;int&gt; | exp1 &lt;dbl&gt; | exp2 &lt;dbl&gt; | exp3 &lt;dbl&gt; | exp4 &lt;dbl&gt; | occ &lt;dbl&gt; | occ2 &lt;int&gt; | ind &lt;dbl&gt; |\n",
       "|---|---|---|---|---|---|---|---|---|---|---|---|---|---|---|---|---|---|---|\n",
       "|  9.615385 | 2.263364 | 1 | 0 | 0 | 0 | 1 | 0 | 0 | 0 | 0 | 1 |  7.0 |  0.4900 |  0.343000 |   0.24010000 | 3600 | 11 | 8370 |\n",
       "| 13.942308 | 2.634928 | 1 | 0 | 0 | 0 | 0 | 1 | 0 | 0 | 0 | 1 | 25.0 |  6.2500 | 15.625000 |  39.06250000 |  420 |  1 | 6990 |\n",
       "| 28.846154 | 3.361977 | 1 | 0 | 0 | 0 | 1 | 0 | 0 | 0 | 0 | 1 | 22.0 |  4.8400 | 10.648000 |  23.42560000 | 2015 |  6 | 9470 |\n",
       "| 11.730769 | 2.462215 | 1 | 0 | 0 | 0 | 1 | 0 | 0 | 0 | 0 | 1 |  1.0 |  0.0100 |  0.001000 |   0.00010000 | 1650 |  5 | 7460 |\n",
       "| 19.230769 | 2.956512 | 1 | 0 | 1 | 0 | 0 | 0 | 0 | 0 | 0 | 1 | 42.0 | 17.6400 | 74.088000 | 311.16960000 | 5120 | 17 | 7280 |\n",
       "| 12.000000 | 2.484907 | 1 | 0 | 1 | 0 | 0 | 0 | 0 | 0 | 0 | 1 | 31.0 |  9.6100 | 29.791000 |  92.35210000 | 4040 | 13 | 8590 |\n",
       "| 19.230769 | 2.956512 | 1 | 0 | 0 | 0 | 1 | 0 | 0 | 0 | 0 | 1 |  4.0 |  0.1600 |  0.064000 |   0.02560000 | 3255 | 10 | 8190 |\n",
       "| 17.307692 | 2.851151 | 1 | 0 | 1 | 0 | 0 | 0 | 0 | 0 | 0 | 1 |  7.0 |  0.4900 |  0.343000 |   0.24010000 | 4020 | 13 | 8270 |\n",
       "| 12.019231 | 2.486508 | 1 | 0 | 0 | 1 | 0 | 0 | 0 | 0 | 0 | 1 |  5.5 |  0.3025 |  0.166375 |   0.09150625 | 3600 | 11 | 8270 |\n",
       "| 13.461538 | 2.599837 | 1 | 0 | 0 | 1 | 0 | 0 | 0 | 0 | 0 | 1 | 20.5 |  4.2025 |  8.615125 |  17.66100625 | 3645 | 11 | 8190 |\n",
       "| 16.346154 | 2.793993 | 1 | 0 | 0 | 0 | 1 | 0 | 0 | 0 | 0 | 1 | 25.0 |  6.2500 | 15.625000 |  39.06250000 |  110 |  1 | 7870 |\n",
       "| 10.683761 | 2.368725 | 1 | 0 | 0 | 1 | 0 | 0 | 0 | 0 | 0 | 1 |  6.5 |  0.4225 |  0.274625 |   0.17850625 | 4300 | 15 | 8590 |\n",
       "| 11.538462 | 2.445686 | 1 | 0 | 0 | 1 | 0 | 0 | 0 | 0 | 0 | 1 |  8.5 |  0.7225 |  0.614125 |   0.52200625 | 3600 | 11 | 8190 |\n",
       "| 17.788462 | 2.878550 | 1 | 0 | 0 | 0 | 0 | 1 | 0 | 0 | 0 | 1 | 11.0 |  1.2100 |  1.331000 |   1.46410000 | 2310 |  8 | 7860 |\n",
       "| 16.304348 | 2.791432 | 1 | 0 | 0 | 1 | 0 | 0 | 0 | 0 | 0 | 1 | 24.5 |  6.0025 | 14.706125 |  36.03000625 |   20 |  1 | 5480 |\n",
       "| 14.423077 | 2.668829 | 1 | 0 | 1 | 0 | 0 | 0 | 0 | 0 | 0 | 1 |  5.0 |  0.2500 |  0.125000 |   0.06250000 |  430 |  1 | 7390 |\n",
       "| 42.307692 | 3.744969 | 1 | 0 | 0 | 0 | 0 | 1 | 0 | 0 | 0 | 1 |  0.0 |  0.0000 |  0.000000 |   0.00000000 | 4700 | 16 | 4795 |\n",
       "| 13.942308 | 2.634928 | 1 | 0 | 0 | 1 | 0 | 0 | 0 | 0 | 0 | 1 | 15.5 |  2.4025 |  3.723875 |   5.77200625 | 5860 | 17 | 4670 |\n",
       "| 10.096154 | 2.312155 | 1 | 0 | 0 | 1 | 0 | 0 | 0 | 0 | 0 | 1 |  9.0 |  0.8100 |  0.729000 |   0.65610000 | 3500 | 10 | 8090 |\n",
       "| 14.053254 | 2.642854 | 1 | 0 | 0 | 0 | 0 | 1 | 0 | 0 | 0 | 1 | 14.0 |  1.9600 |  2.744000 |   3.84160000 | 2330 |  8 | 7860 |\n",
       "| 11.965812 | 2.482054 | 1 | 0 | 1 | 0 | 0 | 0 | 0 | 0 | 0 | 1 | 14.0 |  1.9600 |  2.744000 |   3.84160000 |  430 |  1 | 2980 |\n",
       "| 24.038462 | 3.179655 | 1 | 0 | 0 | 0 | 1 | 0 | 0 | 0 | 0 | 1 | 31.0 |  9.6100 | 29.791000 |  92.35210000 | 2630 |  9 | 4870 |\n",
       "| 41.208791 | 3.718652 | 1 | 0 | 0 | 0 | 1 | 0 | 0 | 0 | 0 | 1 | 11.0 |  1.2100 |  1.331000 |   1.46410000 | 4700 | 16 | 5790 |\n",
       "| 21.634615 | 3.074295 | 1 | 0 | 0 | 1 | 0 | 0 | 0 | 0 | 0 | 1 | 17.5 |  3.0625 |  5.359375 |   9.37890625 | 5400 | 17 | 6695 |\n",
       "|  6.730769 | 1.906689 | 1 | 0 | 1 | 0 | 0 | 0 | 0 | 0 | 0 | 1 | 15.0 |  2.2500 |  3.375000 |   5.06250000 | 3600 | 11 | 8270 |\n",
       "| 12.019231 | 2.486508 | 1 | 0 | 0 | 1 | 0 | 0 | 0 | 0 | 0 | 1 |  6.5 |  0.4225 |  0.274625 |   0.17850625 | 4110 | 13 | 8680 |\n",
       "|  7.211538 | 1.975682 | 1 | 0 | 0 | 1 | 0 | 0 | 0 | 0 | 0 | 1 | 17.5 |  3.0625 |  5.359375 |   9.37890625 | 4720 | 16 | 4980 |\n",
       "| 11.778846 | 2.466305 | 1 | 0 | 0 | 0 | 1 | 0 | 0 | 0 | 0 | 1 |  7.0 |  0.4900 |  0.343000 |   0.24010000 | 5860 | 17 | 6870 |\n",
       "| 13.076923 | 2.570849 | 1 | 0 | 0 | 0 | 1 | 0 | 0 | 0 | 0 | 1 | 10.0 |  1.0000 |  1.000000 |   1.00000000 |  725 |  2 | 8590 |\n",
       "| 22.500000 | 3.113515 | 1 | 0 | 0 | 0 | 0 | 1 | 0 | 0 | 0 | 1 | 35.0 | 12.2500 | 42.875000 | 150.06250000 | 2310 |  8 | 7860 |\n",
       "| ... | ... | ... | ... | ... | ... | ... | ... | ... | ... | ... | ... | ... | ... | ... | ... | ... | ... | ... |\n",
       "| 48.076923 | 3.872802 | 1 | 0 | 0 | 0 | 0 | 1 | 0 | 0 | 1 | 0 |  0.0 |  0.0000 |  0.000000 |   0.00000000 | 3050 | 10 | 8090 |\n",
       "| 20.673077 | 3.028832 | 1 | 0 | 0 | 0 | 1 | 0 | 0 | 0 | 1 | 0 |  6.0 |  0.3600 |  0.216000 |   0.12960000 | 5000 | 17 | 6870 |\n",
       "|  8.894231 | 2.185403 | 1 | 0 | 1 | 0 | 0 | 0 | 0 | 0 | 1 | 0 |  5.0 |  0.2500 |  0.125000 |   0.06250000 | 4720 | 16 | 8680 |\n",
       "| 30.145530 | 3.406037 | 1 | 0 | 0 | 0 | 1 | 0 | 0 | 0 | 1 | 0 | 15.0 |  2.2500 |  3.375000 |   5.06250000 |  120 |  1 | 6870 |\n",
       "| 12.019231 | 2.486508 | 1 | 0 | 0 | 1 | 0 | 0 | 0 | 0 | 1 | 0 |  9.5 |  0.9025 |  0.857375 |   0.81450625 | 4760 | 16 | 4890 |\n",
       "| 24.038462 | 3.179655 | 1 | 0 | 1 | 0 | 0 | 0 | 0 | 0 | 1 | 0 |  7.0 |  0.4900 |  0.343000 |   0.24010000 |  120 |  1 | 6890 |\n",
       "| 22.596154 | 3.117780 | 1 | 0 | 0 | 1 | 0 | 0 | 0 | 0 | 1 | 0 | 11.5 |  1.3225 |  1.520875 |   1.74900625 | 5240 | 17 | 6690 |\n",
       "|  7.211538 | 1.975682 | 1 | 0 | 0 | 0 | 0 | 1 | 0 | 0 | 1 | 0 |  2.0 |  0.0400 |  0.008000 |   0.00160000 | 2200 |  8 | 7870 |\n",
       "| 18.750000 | 2.931194 | 1 | 0 | 0 | 1 | 0 | 0 | 0 | 0 | 1 | 0 | 19.0 |  3.6100 |  6.859000 |  13.03210000 | 3649 | 11 | 8190 |\n",
       "| 29.914530 | 3.398344 | 1 | 0 | 0 | 0 | 1 | 0 | 0 | 0 | 1 | 0 | 39.0 | 15.2100 | 59.319000 | 231.34410000 | 4700 | 16 | 5380 |\n",
       "| 11.298077 | 2.424633 | 1 | 0 | 0 | 0 | 1 | 0 | 0 | 0 | 1 | 0 | 10.0 |  1.0000 |  1.000000 |   1.00000000 | 2060 |  6 | 9160 |\n",
       "| 16.025641 | 2.774190 | 1 | 0 | 0 | 1 | 0 | 0 | 0 | 0 | 1 | 0 | 11.0 |  1.2100 |  1.331000 |   1.46410000 | 4720 | 16 | 5080 |\n",
       "| 16.826923 | 2.822980 | 1 | 0 | 0 | 0 | 1 | 0 | 0 | 0 | 1 | 0 |  4.0 |  0.1600 |  0.064000 |   0.02560000 | 3648 | 11 | 7480 |\n",
       "| 15.865385 | 2.764140 | 1 | 0 | 0 | 0 | 0 | 1 | 0 | 0 | 1 | 0 |  0.0 |  0.0000 |  0.000000 |   0.00000000 | 3230 | 10 | 8180 |\n",
       "| 18.750000 | 2.931194 | 1 | 0 | 0 | 0 | 1 | 0 | 0 | 0 | 1 | 0 |  2.0 |  0.0400 |  0.008000 |   0.00160000 | 2000 |  6 | 8370 |\n",
       "| 20.913462 | 3.040393 | 1 | 0 | 0 | 1 | 0 | 0 | 0 | 0 | 1 | 0 |  4.5 |  0.2025 |  0.091125 |   0.04100625 | 4600 | 15 | 8470 |\n",
       "| 15.697863 | 2.753525 | 1 | 0 | 1 | 0 | 0 | 0 | 0 | 0 | 1 | 0 | 40.0 | 16.0000 | 64.000000 | 256.00000000 | 4850 | 16 | 4470 |\n",
       "| 12.237762 | 2.504526 | 1 | 0 | 0 | 0 | 0 | 1 | 0 | 0 | 1 | 0 |  6.0 |  0.3600 |  0.216000 |   0.12960000 | 3820 | 12 | 9590 |\n",
       "| 13.986014 | 2.638058 | 1 | 0 | 0 | 0 | 0 | 1 | 0 | 0 | 1 | 0 |  7.0 |  0.4900 |  0.343000 |   0.24010000 | 3820 | 12 | 9590 |\n",
       "| 38.461538 | 3.649659 | 1 | 0 | 0 | 1 | 0 | 0 | 0 | 0 | 1 | 0 |  7.5 |  0.5625 |  0.421875 |   0.31640625 |  220 |  1 |  770 |\n",
       "| 24.475524 | 3.197674 | 1 | 0 | 0 | 0 | 0 | 1 | 0 | 0 | 1 | 0 | 24.0 |  5.7600 | 13.824000 |  33.17760000 | 2310 |  8 | 7860 |\n",
       "|  8.653846 | 2.158004 | 1 | 0 | 1 | 0 | 0 | 0 | 0 | 0 | 1 | 0 | 25.0 |  6.2500 | 15.625000 |  39.06250000 | 3930 | 12 | 7680 |\n",
       "| 12.500000 | 2.525729 | 1 | 0 | 1 | 0 | 0 | 0 | 0 | 0 | 1 | 0 | 12.0 |  1.4400 |  1.728000 |   2.07360000 | 4010 | 13 | 8680 |\n",
       "| 48.076923 | 3.872802 | 1 | 0 | 0 | 0 | 1 | 0 | 0 | 0 | 1 | 0 | 25.0 |  6.2500 | 15.625000 |  39.06250000 | 3255 | 10 | 8170 |\n",
       "| 26.442308 | 3.274965 | 1 | 0 | 0 | 0 | 1 | 0 | 0 | 0 | 1 | 0 | 34.0 | 11.5600 | 39.304000 | 133.63360000 | 2310 |  8 | 7860 |\n",
       "| 13.461538 | 2.599837 | 1 | 0 | 1 | 0 | 0 | 0 | 0 | 0 | 1 | 0 |  8.0 |  0.6400 |  0.512000 |   0.40960000 | 4720 | 16 | 8590 |\n",
       "| 19.711538 | 2.981204 | 1 | 0 | 0 | 0 | 0 | 1 | 0 | 0 | 1 | 0 |  8.0 |  0.6400 |  0.512000 |   0.40960000 | 2000 |  6 | 8090 |\n",
       "| 45.546559 | 3.818735 | 1 | 0 | 0 | 0 | 1 | 0 | 0 | 0 | 1 | 0 |  5.0 |  0.2500 |  0.125000 |   0.06250000 | 3255 | 10 | 8190 |\n",
       "| 24.038462 | 3.179655 | 1 | 0 | 0 | 0 | 1 | 0 | 0 | 0 | 1 | 0 | 17.0 |  2.8900 |  4.913000 |   8.35210000 | 2550 |  8 | 9480 |\n",
       "| 23.076923 | 3.138833 | 1 | 0 | 0 | 1 | 0 | 0 | 0 | 0 | 1 | 0 | 12.0 |  1.4400 |  1.728000 |   2.07360000 | 4110 | 13 | 8680 |\n",
       "\n"
      ],
      "text/plain": [
       "     salario   lwage    sex shs hsg scl clg ad  mw  so  we  ne  exp1 exp2   \n",
       "1     9.615385 2.263364 1   0   0   0   1   0   0   0   0   1    7.0  0.4900\n",
       "2    13.942308 2.634928 1   0   0   0   0   1   0   0   0   1   25.0  6.2500\n",
       "3    28.846154 3.361977 1   0   0   0   1   0   0   0   0   1   22.0  4.8400\n",
       "4    11.730769 2.462215 1   0   0   0   1   0   0   0   0   1    1.0  0.0100\n",
       "5    19.230769 2.956512 1   0   1   0   0   0   0   0   0   1   42.0 17.6400\n",
       "6    12.000000 2.484907 1   0   1   0   0   0   0   0   0   1   31.0  9.6100\n",
       "7    19.230769 2.956512 1   0   0   0   1   0   0   0   0   1    4.0  0.1600\n",
       "8    17.307692 2.851151 1   0   1   0   0   0   0   0   0   1    7.0  0.4900\n",
       "9    12.019231 2.486508 1   0   0   1   0   0   0   0   0   1    5.5  0.3025\n",
       "10   13.461538 2.599837 1   0   0   1   0   0   0   0   0   1   20.5  4.2025\n",
       "11   16.346154 2.793993 1   0   0   0   1   0   0   0   0   1   25.0  6.2500\n",
       "12   10.683761 2.368725 1   0   0   1   0   0   0   0   0   1    6.5  0.4225\n",
       "13   11.538462 2.445686 1   0   0   1   0   0   0   0   0   1    8.5  0.7225\n",
       "14   17.788462 2.878550 1   0   0   0   0   1   0   0   0   1   11.0  1.2100\n",
       "15   16.304348 2.791432 1   0   0   1   0   0   0   0   0   1   24.5  6.0025\n",
       "16   14.423077 2.668829 1   0   1   0   0   0   0   0   0   1    5.0  0.2500\n",
       "17   42.307692 3.744969 1   0   0   0   0   1   0   0   0   1    0.0  0.0000\n",
       "18   13.942308 2.634928 1   0   0   1   0   0   0   0   0   1   15.5  2.4025\n",
       "19   10.096154 2.312155 1   0   0   1   0   0   0   0   0   1    9.0  0.8100\n",
       "20   14.053254 2.642854 1   0   0   0   0   1   0   0   0   1   14.0  1.9600\n",
       "21   11.965812 2.482054 1   0   1   0   0   0   0   0   0   1   14.0  1.9600\n",
       "22   24.038462 3.179655 1   0   0   0   1   0   0   0   0   1   31.0  9.6100\n",
       "23   41.208791 3.718652 1   0   0   0   1   0   0   0   0   1   11.0  1.2100\n",
       "24   21.634615 3.074295 1   0   0   1   0   0   0   0   0   1   17.5  3.0625\n",
       "25    6.730769 1.906689 1   0   1   0   0   0   0   0   0   1   15.0  2.2500\n",
       "26   12.019231 2.486508 1   0   0   1   0   0   0   0   0   1    6.5  0.4225\n",
       "27    7.211538 1.975682 1   0   0   1   0   0   0   0   0   1   17.5  3.0625\n",
       "28   11.778846 2.466305 1   0   0   0   1   0   0   0   0   1    7.0  0.4900\n",
       "29   13.076923 2.570849 1   0   0   0   1   0   0   0   0   1   10.0  1.0000\n",
       "30   22.500000 3.113515 1   0   0   0   0   1   0   0   0   1   35.0 12.2500\n",
       "...  ...       ...      ... ... ... ... ... ... ... ... ... ... ...  ...    \n",
       "2260 48.076923 3.872802 1   0   0   0   0   1   0   0   1   0    0.0  0.0000\n",
       "2261 20.673077 3.028832 1   0   0   0   1   0   0   0   1   0    6.0  0.3600\n",
       "2262  8.894231 2.185403 1   0   1   0   0   0   0   0   1   0    5.0  0.2500\n",
       "2263 30.145530 3.406037 1   0   0   0   1   0   0   0   1   0   15.0  2.2500\n",
       "2264 12.019231 2.486508 1   0   0   1   0   0   0   0   1   0    9.5  0.9025\n",
       "2265 24.038462 3.179655 1   0   1   0   0   0   0   0   1   0    7.0  0.4900\n",
       "2266 22.596154 3.117780 1   0   0   1   0   0   0   0   1   0   11.5  1.3225\n",
       "2267  7.211538 1.975682 1   0   0   0   0   1   0   0   1   0    2.0  0.0400\n",
       "2268 18.750000 2.931194 1   0   0   1   0   0   0   0   1   0   19.0  3.6100\n",
       "2269 29.914530 3.398344 1   0   0   0   1   0   0   0   1   0   39.0 15.2100\n",
       "2270 11.298077 2.424633 1   0   0   0   1   0   0   0   1   0   10.0  1.0000\n",
       "2271 16.025641 2.774190 1   0   0   1   0   0   0   0   1   0   11.0  1.2100\n",
       "2272 16.826923 2.822980 1   0   0   0   1   0   0   0   1   0    4.0  0.1600\n",
       "2273 15.865385 2.764140 1   0   0   0   0   1   0   0   1   0    0.0  0.0000\n",
       "2274 18.750000 2.931194 1   0   0   0   1   0   0   0   1   0    2.0  0.0400\n",
       "2275 20.913462 3.040393 1   0   0   1   0   0   0   0   1   0    4.5  0.2025\n",
       "2276 15.697863 2.753525 1   0   1   0   0   0   0   0   1   0   40.0 16.0000\n",
       "2277 12.237762 2.504526 1   0   0   0   0   1   0   0   1   0    6.0  0.3600\n",
       "2278 13.986014 2.638058 1   0   0   0   0   1   0   0   1   0    7.0  0.4900\n",
       "2279 38.461538 3.649659 1   0   0   1   0   0   0   0   1   0    7.5  0.5625\n",
       "2280 24.475524 3.197674 1   0   0   0   0   1   0   0   1   0   24.0  5.7600\n",
       "2281  8.653846 2.158004 1   0   1   0   0   0   0   0   1   0   25.0  6.2500\n",
       "2282 12.500000 2.525729 1   0   1   0   0   0   0   0   1   0   12.0  1.4400\n",
       "2283 48.076923 3.872802 1   0   0   0   1   0   0   0   1   0   25.0  6.2500\n",
       "2284 26.442308 3.274965 1   0   0   0   1   0   0   0   1   0   34.0 11.5600\n",
       "2285 13.461538 2.599837 1   0   1   0   0   0   0   0   1   0    8.0  0.6400\n",
       "2286 19.711538 2.981204 1   0   0   0   0   1   0   0   1   0    8.0  0.6400\n",
       "2287 45.546559 3.818735 1   0   0   0   1   0   0   0   1   0    5.0  0.2500\n",
       "2288 24.038462 3.179655 1   0   0   0   1   0   0   0   1   0   17.0  2.8900\n",
       "2289 23.076923 3.138833 1   0   0   1   0   0   0   0   1   0   12.0  1.4400\n",
       "     exp3      exp4         occ  occ2 ind \n",
       "1     0.343000   0.24010000 3600 11   8370\n",
       "2    15.625000  39.06250000  420  1   6990\n",
       "3    10.648000  23.42560000 2015  6   9470\n",
       "4     0.001000   0.00010000 1650  5   7460\n",
       "5    74.088000 311.16960000 5120 17   7280\n",
       "6    29.791000  92.35210000 4040 13   8590\n",
       "7     0.064000   0.02560000 3255 10   8190\n",
       "8     0.343000   0.24010000 4020 13   8270\n",
       "9     0.166375   0.09150625 3600 11   8270\n",
       "10    8.615125  17.66100625 3645 11   8190\n",
       "11   15.625000  39.06250000  110  1   7870\n",
       "12    0.274625   0.17850625 4300 15   8590\n",
       "13    0.614125   0.52200625 3600 11   8190\n",
       "14    1.331000   1.46410000 2310  8   7860\n",
       "15   14.706125  36.03000625   20  1   5480\n",
       "16    0.125000   0.06250000  430  1   7390\n",
       "17    0.000000   0.00000000 4700 16   4795\n",
       "18    3.723875   5.77200625 5860 17   4670\n",
       "19    0.729000   0.65610000 3500 10   8090\n",
       "20    2.744000   3.84160000 2330  8   7860\n",
       "21    2.744000   3.84160000  430  1   2980\n",
       "22   29.791000  92.35210000 2630  9   4870\n",
       "23    1.331000   1.46410000 4700 16   5790\n",
       "24    5.359375   9.37890625 5400 17   6695\n",
       "25    3.375000   5.06250000 3600 11   8270\n",
       "26    0.274625   0.17850625 4110 13   8680\n",
       "27    5.359375   9.37890625 4720 16   4980\n",
       "28    0.343000   0.24010000 5860 17   6870\n",
       "29    1.000000   1.00000000  725  2   8590\n",
       "30   42.875000 150.06250000 2310  8   7860\n",
       "...  ...       ...          ...  ...  ... \n",
       "2260  0.000000   0.00000000 3050 10   8090\n",
       "2261  0.216000   0.12960000 5000 17   6870\n",
       "2262  0.125000   0.06250000 4720 16   8680\n",
       "2263  3.375000   5.06250000  120  1   6870\n",
       "2264  0.857375   0.81450625 4760 16   4890\n",
       "2265  0.343000   0.24010000  120  1   6890\n",
       "2266  1.520875   1.74900625 5240 17   6690\n",
       "2267  0.008000   0.00160000 2200  8   7870\n",
       "2268  6.859000  13.03210000 3649 11   8190\n",
       "2269 59.319000 231.34410000 4700 16   5380\n",
       "2270  1.000000   1.00000000 2060  6   9160\n",
       "2271  1.331000   1.46410000 4720 16   5080\n",
       "2272  0.064000   0.02560000 3648 11   7480\n",
       "2273  0.000000   0.00000000 3230 10   8180\n",
       "2274  0.008000   0.00160000 2000  6   8370\n",
       "2275  0.091125   0.04100625 4600 15   8470\n",
       "2276 64.000000 256.00000000 4850 16   4470\n",
       "2277  0.216000   0.12960000 3820 12   9590\n",
       "2278  0.343000   0.24010000 3820 12   9590\n",
       "2279  0.421875   0.31640625  220  1    770\n",
       "2280 13.824000  33.17760000 2310  8   7860\n",
       "2281 15.625000  39.06250000 3930 12   7680\n",
       "2282  1.728000   2.07360000 4010 13   8680\n",
       "2283 15.625000  39.06250000 3255 10   8170\n",
       "2284 39.304000 133.63360000 2310  8   7860\n",
       "2285  0.512000   0.40960000 4720 16   8590\n",
       "2286  0.512000   0.40960000 2000  6   8090\n",
       "2287  0.125000   0.06250000 3255 10   8190\n",
       "2288  4.913000   8.35210000 2550  8   9480\n",
       "2289  1.728000   2.07360000 4110 13   8680"
      ]
     },
     "metadata": {},
     "output_type": "display_data"
    }
   ],
   "source": [
    "base1 %>% filter(sex == 1)"
   ]
  },
  {
   "cell_type": "code",
   "execution_count": 47,
   "metadata": {},
   "outputs": [
    {
     "data": {
      "text/html": [
       "<table class=\"dataframe\">\n",
       "<caption>A data.frame: 6 × 19</caption>\n",
       "<thead>\n",
       "\t<tr><th></th><th scope=col>salario</th><th scope=col>lwage</th><th scope=col>sex</th><th scope=col>shs</th><th scope=col>hsg</th><th scope=col>scl</th><th scope=col>clg</th><th scope=col>ad</th><th scope=col>mw</th><th scope=col>so</th><th scope=col>we</th><th scope=col>ne</th><th scope=col>exp1</th><th scope=col>exp2</th><th scope=col>exp3</th><th scope=col>exp4</th><th scope=col>occ</th><th scope=col>occ2</th><th scope=col>ind</th></tr>\n",
       "\t<tr><th></th><th scope=col>&lt;dbl&gt;</th><th scope=col>&lt;dbl&gt;</th><th scope=col>&lt;int&gt;</th><th scope=col>&lt;int&gt;</th><th scope=col>&lt;int&gt;</th><th scope=col>&lt;int&gt;</th><th scope=col>&lt;int&gt;</th><th scope=col>&lt;int&gt;</th><th scope=col>&lt;int&gt;</th><th scope=col>&lt;int&gt;</th><th scope=col>&lt;int&gt;</th><th scope=col>&lt;int&gt;</th><th scope=col>&lt;dbl&gt;</th><th scope=col>&lt;dbl&gt;</th><th scope=col>&lt;dbl&gt;</th><th scope=col>&lt;dbl&gt;</th><th scope=col>&lt;dbl&gt;</th><th scope=col>&lt;int&gt;</th><th scope=col>&lt;dbl&gt;</th></tr>\n",
       "</thead>\n",
       "<tbody>\n",
       "\t<tr><th scope=row>1</th><td>48.07692</td><td>3.872802</td><td>0</td><td>0</td><td>0</td><td>0</td><td>1</td><td>0</td><td>0</td><td>0</td><td>0</td><td>1</td><td>31</td><td> 9.61</td><td>29.791</td><td> 92.3521</td><td>3050</td><td>10</td><td>5070</td></tr>\n",
       "\t<tr><th scope=row>2</th><td>11.05769</td><td>2.403126</td><td>0</td><td>0</td><td>1</td><td>0</td><td>0</td><td>0</td><td>0</td><td>0</td><td>0</td><td>1</td><td>18</td><td> 3.24</td><td> 5.832</td><td> 10.4976</td><td>6260</td><td>19</td><td> 770</td></tr>\n",
       "\t<tr><th scope=row>3</th><td>13.94231</td><td>2.634928</td><td>1</td><td>0</td><td>0</td><td>0</td><td>0</td><td>1</td><td>0</td><td>0</td><td>0</td><td>1</td><td>25</td><td> 6.25</td><td>15.625</td><td> 39.0625</td><td> 420</td><td> 1</td><td>6990</td></tr>\n",
       "\t<tr><th scope=row>4</th><td>28.84615</td><td>3.361977</td><td>1</td><td>0</td><td>0</td><td>0</td><td>1</td><td>0</td><td>0</td><td>0</td><td>0</td><td>1</td><td>22</td><td> 4.84</td><td>10.648</td><td> 23.4256</td><td>2015</td><td> 6</td><td>9470</td></tr>\n",
       "\t<tr><th scope=row>5</th><td>19.23077</td><td>2.956512</td><td>1</td><td>0</td><td>1</td><td>0</td><td>0</td><td>0</td><td>0</td><td>0</td><td>0</td><td>1</td><td>42</td><td>17.64</td><td>74.088</td><td>311.1696</td><td>5120</td><td>17</td><td>7280</td></tr>\n",
       "\t<tr><th scope=row>6</th><td>19.23077</td><td>2.956512</td><td>0</td><td>0</td><td>1</td><td>0</td><td>0</td><td>0</td><td>0</td><td>0</td><td>0</td><td>1</td><td>37</td><td>13.69</td><td>50.653</td><td>187.4161</td><td>5240</td><td>17</td><td>5680</td></tr>\n",
       "</tbody>\n",
       "</table>\n"
      ],
      "text/latex": [
       "A data.frame: 6 × 19\n",
       "\\begin{tabular}{r|lllllllllllllllllll}\n",
       "  & salario & lwage & sex & shs & hsg & scl & clg & ad & mw & so & we & ne & exp1 & exp2 & exp3 & exp4 & occ & occ2 & ind\\\\\n",
       "  & <dbl> & <dbl> & <int> & <int> & <int> & <int> & <int> & <int> & <int> & <int> & <int> & <int> & <dbl> & <dbl> & <dbl> & <dbl> & <dbl> & <int> & <dbl>\\\\\n",
       "\\hline\n",
       "\t1 & 48.07692 & 3.872802 & 0 & 0 & 0 & 0 & 1 & 0 & 0 & 0 & 0 & 1 & 31 &  9.61 & 29.791 &  92.3521 & 3050 & 10 & 5070\\\\\n",
       "\t2 & 11.05769 & 2.403126 & 0 & 0 & 1 & 0 & 0 & 0 & 0 & 0 & 0 & 1 & 18 &  3.24 &  5.832 &  10.4976 & 6260 & 19 &  770\\\\\n",
       "\t3 & 13.94231 & 2.634928 & 1 & 0 & 0 & 0 & 0 & 1 & 0 & 0 & 0 & 1 & 25 &  6.25 & 15.625 &  39.0625 &  420 &  1 & 6990\\\\\n",
       "\t4 & 28.84615 & 3.361977 & 1 & 0 & 0 & 0 & 1 & 0 & 0 & 0 & 0 & 1 & 22 &  4.84 & 10.648 &  23.4256 & 2015 &  6 & 9470\\\\\n",
       "\t5 & 19.23077 & 2.956512 & 1 & 0 & 1 & 0 & 0 & 0 & 0 & 0 & 0 & 1 & 42 & 17.64 & 74.088 & 311.1696 & 5120 & 17 & 7280\\\\\n",
       "\t6 & 19.23077 & 2.956512 & 0 & 0 & 1 & 0 & 0 & 0 & 0 & 0 & 0 & 1 & 37 & 13.69 & 50.653 & 187.4161 & 5240 & 17 & 5680\\\\\n",
       "\\end{tabular}\n"
      ],
      "text/markdown": [
       "\n",
       "A data.frame: 6 × 19\n",
       "\n",
       "| <!--/--> | salario &lt;dbl&gt; | lwage &lt;dbl&gt; | sex &lt;int&gt; | shs &lt;int&gt; | hsg &lt;int&gt; | scl &lt;int&gt; | clg &lt;int&gt; | ad &lt;int&gt; | mw &lt;int&gt; | so &lt;int&gt; | we &lt;int&gt; | ne &lt;int&gt; | exp1 &lt;dbl&gt; | exp2 &lt;dbl&gt; | exp3 &lt;dbl&gt; | exp4 &lt;dbl&gt; | occ &lt;dbl&gt; | occ2 &lt;int&gt; | ind &lt;dbl&gt; |\n",
       "|---|---|---|---|---|---|---|---|---|---|---|---|---|---|---|---|---|---|---|---|\n",
       "| 1 | 48.07692 | 3.872802 | 0 | 0 | 0 | 0 | 1 | 0 | 0 | 0 | 0 | 1 | 31 |  9.61 | 29.791 |  92.3521 | 3050 | 10 | 5070 |\n",
       "| 2 | 11.05769 | 2.403126 | 0 | 0 | 1 | 0 | 0 | 0 | 0 | 0 | 0 | 1 | 18 |  3.24 |  5.832 |  10.4976 | 6260 | 19 |  770 |\n",
       "| 3 | 13.94231 | 2.634928 | 1 | 0 | 0 | 0 | 0 | 1 | 0 | 0 | 0 | 1 | 25 |  6.25 | 15.625 |  39.0625 |  420 |  1 | 6990 |\n",
       "| 4 | 28.84615 | 3.361977 | 1 | 0 | 0 | 0 | 1 | 0 | 0 | 0 | 0 | 1 | 22 |  4.84 | 10.648 |  23.4256 | 2015 |  6 | 9470 |\n",
       "| 5 | 19.23077 | 2.956512 | 1 | 0 | 1 | 0 | 0 | 0 | 0 | 0 | 0 | 1 | 42 | 17.64 | 74.088 | 311.1696 | 5120 | 17 | 7280 |\n",
       "| 6 | 19.23077 | 2.956512 | 0 | 0 | 1 | 0 | 0 | 0 | 0 | 0 | 0 | 1 | 37 | 13.69 | 50.653 | 187.4161 | 5240 | 17 | 5680 |\n",
       "\n"
      ],
      "text/plain": [
       "  salario  lwage    sex shs hsg scl clg ad mw so we ne exp1 exp2  exp3  \n",
       "1 48.07692 3.872802 0   0   0   0   1   0  0  0  0  1  31    9.61 29.791\n",
       "2 11.05769 2.403126 0   0   1   0   0   0  0  0  0  1  18    3.24  5.832\n",
       "3 13.94231 2.634928 1   0   0   0   0   1  0  0  0  1  25    6.25 15.625\n",
       "4 28.84615 3.361977 1   0   0   0   1   0  0  0  0  1  22    4.84 10.648\n",
       "5 19.23077 2.956512 1   0   1   0   0   0  0  0  0  1  42   17.64 74.088\n",
       "6 19.23077 2.956512 0   0   1   0   0   0  0  0  0  1  37   13.69 50.653\n",
       "  exp4     occ  occ2 ind \n",
       "1  92.3521 3050 10   5070\n",
       "2  10.4976 6260 19    770\n",
       "3  39.0625  420  1   6990\n",
       "4  23.4256 2015  6   9470\n",
       "5 311.1696 5120 17   7280\n",
       "6 187.4161 5240 17   5680"
      ]
     },
     "metadata": {},
     "output_type": "display_data"
    }
   ],
   "source": [
    "head(base1 %>% filter(exp1 > 10))"
   ]
  },
  {
   "cell_type": "code",
   "execution_count": 51,
   "metadata": {
    "scrolled": false
   },
   "outputs": [
    {
     "data": {
      "text/html": [
       "<table class=\"dataframe\">\n",
       "<caption>A data.frame: 6 × 19</caption>\n",
       "<thead>\n",
       "\t<tr><th></th><th scope=col>salario</th><th scope=col>lwage</th><th scope=col>sex</th><th scope=col>shs</th><th scope=col>hsg</th><th scope=col>scl</th><th scope=col>clg</th><th scope=col>ad</th><th scope=col>mw</th><th scope=col>so</th><th scope=col>we</th><th scope=col>ne</th><th scope=col>exp1</th><th scope=col>exp2</th><th scope=col>exp3</th><th scope=col>exp4</th><th scope=col>occ</th><th scope=col>occ2</th><th scope=col>ind</th></tr>\n",
       "\t<tr><th></th><th scope=col>&lt;dbl&gt;</th><th scope=col>&lt;dbl&gt;</th><th scope=col>&lt;int&gt;</th><th scope=col>&lt;int&gt;</th><th scope=col>&lt;int&gt;</th><th scope=col>&lt;int&gt;</th><th scope=col>&lt;int&gt;</th><th scope=col>&lt;int&gt;</th><th scope=col>&lt;int&gt;</th><th scope=col>&lt;int&gt;</th><th scope=col>&lt;int&gt;</th><th scope=col>&lt;int&gt;</th><th scope=col>&lt;dbl&gt;</th><th scope=col>&lt;dbl&gt;</th><th scope=col>&lt;dbl&gt;</th><th scope=col>&lt;dbl&gt;</th><th scope=col>&lt;dbl&gt;</th><th scope=col>&lt;int&gt;</th><th scope=col>&lt;dbl&gt;</th></tr>\n",
       "</thead>\n",
       "<tbody>\n",
       "\t<tr><th scope=row>1</th><td>13.94231</td><td>2.634928</td><td>1</td><td>0</td><td>0</td><td>0</td><td>0</td><td>1</td><td>0</td><td>0</td><td>0</td><td>1</td><td>25.0</td><td> 6.2500</td><td>15.625000</td><td> 39.06250</td><td> 420</td><td> 1</td><td>6990</td></tr>\n",
       "\t<tr><th scope=row>2</th><td>28.84615</td><td>3.361977</td><td>1</td><td>0</td><td>0</td><td>0</td><td>1</td><td>0</td><td>0</td><td>0</td><td>0</td><td>1</td><td>22.0</td><td> 4.8400</td><td>10.648000</td><td> 23.42560</td><td>2015</td><td> 6</td><td>9470</td></tr>\n",
       "\t<tr><th scope=row>3</th><td>19.23077</td><td>2.956512</td><td>1</td><td>0</td><td>1</td><td>0</td><td>0</td><td>0</td><td>0</td><td>0</td><td>0</td><td>1</td><td>42.0</td><td>17.6400</td><td>74.088000</td><td>311.16960</td><td>5120</td><td>17</td><td>7280</td></tr>\n",
       "\t<tr><th scope=row>4</th><td>12.00000</td><td>2.484907</td><td>1</td><td>0</td><td>1</td><td>0</td><td>0</td><td>0</td><td>0</td><td>0</td><td>0</td><td>1</td><td>31.0</td><td> 9.6100</td><td>29.791000</td><td> 92.35210</td><td>4040</td><td>13</td><td>8590</td></tr>\n",
       "\t<tr><th scope=row>5</th><td>13.46154</td><td>2.599837</td><td>1</td><td>0</td><td>0</td><td>1</td><td>0</td><td>0</td><td>0</td><td>0</td><td>0</td><td>1</td><td>20.5</td><td> 4.2025</td><td> 8.615125</td><td> 17.66101</td><td>3645</td><td>11</td><td>8190</td></tr>\n",
       "\t<tr><th scope=row>6</th><td>16.34615</td><td>2.793993</td><td>1</td><td>0</td><td>0</td><td>0</td><td>1</td><td>0</td><td>0</td><td>0</td><td>0</td><td>1</td><td>25.0</td><td> 6.2500</td><td>15.625000</td><td> 39.06250</td><td> 110</td><td> 1</td><td>7870</td></tr>\n",
       "</tbody>\n",
       "</table>\n"
      ],
      "text/latex": [
       "A data.frame: 6 × 19\n",
       "\\begin{tabular}{r|lllllllllllllllllll}\n",
       "  & salario & lwage & sex & shs & hsg & scl & clg & ad & mw & so & we & ne & exp1 & exp2 & exp3 & exp4 & occ & occ2 & ind\\\\\n",
       "  & <dbl> & <dbl> & <int> & <int> & <int> & <int> & <int> & <int> & <int> & <int> & <int> & <int> & <dbl> & <dbl> & <dbl> & <dbl> & <dbl> & <int> & <dbl>\\\\\n",
       "\\hline\n",
       "\t1 & 13.94231 & 2.634928 & 1 & 0 & 0 & 0 & 0 & 1 & 0 & 0 & 0 & 1 & 25.0 &  6.2500 & 15.625000 &  39.06250 &  420 &  1 & 6990\\\\\n",
       "\t2 & 28.84615 & 3.361977 & 1 & 0 & 0 & 0 & 1 & 0 & 0 & 0 & 0 & 1 & 22.0 &  4.8400 & 10.648000 &  23.42560 & 2015 &  6 & 9470\\\\\n",
       "\t3 & 19.23077 & 2.956512 & 1 & 0 & 1 & 0 & 0 & 0 & 0 & 0 & 0 & 1 & 42.0 & 17.6400 & 74.088000 & 311.16960 & 5120 & 17 & 7280\\\\\n",
       "\t4 & 12.00000 & 2.484907 & 1 & 0 & 1 & 0 & 0 & 0 & 0 & 0 & 0 & 1 & 31.0 &  9.6100 & 29.791000 &  92.35210 & 4040 & 13 & 8590\\\\\n",
       "\t5 & 13.46154 & 2.599837 & 1 & 0 & 0 & 1 & 0 & 0 & 0 & 0 & 0 & 1 & 20.5 &  4.2025 &  8.615125 &  17.66101 & 3645 & 11 & 8190\\\\\n",
       "\t6 & 16.34615 & 2.793993 & 1 & 0 & 0 & 0 & 1 & 0 & 0 & 0 & 0 & 1 & 25.0 &  6.2500 & 15.625000 &  39.06250 &  110 &  1 & 7870\\\\\n",
       "\\end{tabular}\n"
      ],
      "text/markdown": [
       "\n",
       "A data.frame: 6 × 19\n",
       "\n",
       "| <!--/--> | salario &lt;dbl&gt; | lwage &lt;dbl&gt; | sex &lt;int&gt; | shs &lt;int&gt; | hsg &lt;int&gt; | scl &lt;int&gt; | clg &lt;int&gt; | ad &lt;int&gt; | mw &lt;int&gt; | so &lt;int&gt; | we &lt;int&gt; | ne &lt;int&gt; | exp1 &lt;dbl&gt; | exp2 &lt;dbl&gt; | exp3 &lt;dbl&gt; | exp4 &lt;dbl&gt; | occ &lt;dbl&gt; | occ2 &lt;int&gt; | ind &lt;dbl&gt; |\n",
       "|---|---|---|---|---|---|---|---|---|---|---|---|---|---|---|---|---|---|---|---|\n",
       "| 1 | 13.94231 | 2.634928 | 1 | 0 | 0 | 0 | 0 | 1 | 0 | 0 | 0 | 1 | 25.0 |  6.2500 | 15.625000 |  39.06250 |  420 |  1 | 6990 |\n",
       "| 2 | 28.84615 | 3.361977 | 1 | 0 | 0 | 0 | 1 | 0 | 0 | 0 | 0 | 1 | 22.0 |  4.8400 | 10.648000 |  23.42560 | 2015 |  6 | 9470 |\n",
       "| 3 | 19.23077 | 2.956512 | 1 | 0 | 1 | 0 | 0 | 0 | 0 | 0 | 0 | 1 | 42.0 | 17.6400 | 74.088000 | 311.16960 | 5120 | 17 | 7280 |\n",
       "| 4 | 12.00000 | 2.484907 | 1 | 0 | 1 | 0 | 0 | 0 | 0 | 0 | 0 | 1 | 31.0 |  9.6100 | 29.791000 |  92.35210 | 4040 | 13 | 8590 |\n",
       "| 5 | 13.46154 | 2.599837 | 1 | 0 | 0 | 1 | 0 | 0 | 0 | 0 | 0 | 1 | 20.5 |  4.2025 |  8.615125 |  17.66101 | 3645 | 11 | 8190 |\n",
       "| 6 | 16.34615 | 2.793993 | 1 | 0 | 0 | 0 | 1 | 0 | 0 | 0 | 0 | 1 | 25.0 |  6.2500 | 15.625000 |  39.06250 |  110 |  1 | 7870 |\n",
       "\n"
      ],
      "text/plain": [
       "  salario  lwage    sex shs hsg scl clg ad mw so we ne exp1 exp2    exp3     \n",
       "1 13.94231 2.634928 1   0   0   0   0   1  0  0  0  1  25.0  6.2500 15.625000\n",
       "2 28.84615 3.361977 1   0   0   0   1   0  0  0  0  1  22.0  4.8400 10.648000\n",
       "3 19.23077 2.956512 1   0   1   0   0   0  0  0  0  1  42.0 17.6400 74.088000\n",
       "4 12.00000 2.484907 1   0   1   0   0   0  0  0  0  1  31.0  9.6100 29.791000\n",
       "5 13.46154 2.599837 1   0   0   1   0   0  0  0  0  1  20.5  4.2025  8.615125\n",
       "6 16.34615 2.793993 1   0   0   0   1   0  0  0  0  1  25.0  6.2500 15.625000\n",
       "  exp4      occ  occ2 ind \n",
       "1  39.06250  420  1   6990\n",
       "2  23.42560 2015  6   9470\n",
       "3 311.16960 5120 17   7280\n",
       "4  92.35210 4040 13   8590\n",
       "5  17.66101 3645 11   8190\n",
       "6  39.06250  110  1   7870"
      ]
     },
     "metadata": {},
     "output_type": "display_data"
    },
    {
     "data": {
      "text/html": [
       "<table class=\"dataframe\">\n",
       "<caption>A data.frame: 6 × 19</caption>\n",
       "<thead>\n",
       "\t<tr><th></th><th scope=col>salario</th><th scope=col>lwage</th><th scope=col>sex</th><th scope=col>shs</th><th scope=col>hsg</th><th scope=col>scl</th><th scope=col>clg</th><th scope=col>ad</th><th scope=col>mw</th><th scope=col>so</th><th scope=col>we</th><th scope=col>ne</th><th scope=col>exp1</th><th scope=col>exp2</th><th scope=col>exp3</th><th scope=col>exp4</th><th scope=col>occ</th><th scope=col>occ2</th><th scope=col>ind</th></tr>\n",
       "\t<tr><th></th><th scope=col>&lt;dbl&gt;</th><th scope=col>&lt;dbl&gt;</th><th scope=col>&lt;int&gt;</th><th scope=col>&lt;int&gt;</th><th scope=col>&lt;int&gt;</th><th scope=col>&lt;int&gt;</th><th scope=col>&lt;int&gt;</th><th scope=col>&lt;int&gt;</th><th scope=col>&lt;int&gt;</th><th scope=col>&lt;int&gt;</th><th scope=col>&lt;int&gt;</th><th scope=col>&lt;int&gt;</th><th scope=col>&lt;dbl&gt;</th><th scope=col>&lt;dbl&gt;</th><th scope=col>&lt;dbl&gt;</th><th scope=col>&lt;dbl&gt;</th><th scope=col>&lt;dbl&gt;</th><th scope=col>&lt;int&gt;</th><th scope=col>&lt;dbl&gt;</th></tr>\n",
       "</thead>\n",
       "<tbody>\n",
       "\t<tr><th scope=row>1</th><td> 9.615385</td><td>2.263364</td><td>1</td><td>0</td><td>0</td><td>0</td><td>1</td><td>0</td><td>0</td><td>0</td><td>0</td><td>1</td><td> 7</td><td>0.49</td><td> 0.343</td><td> 0.2401</td><td>3600</td><td>11</td><td>8370</td></tr>\n",
       "\t<tr><th scope=row>2</th><td>48.076923</td><td>3.872802</td><td>0</td><td>0</td><td>0</td><td>0</td><td>1</td><td>0</td><td>0</td><td>0</td><td>0</td><td>1</td><td>31</td><td>9.61</td><td>29.791</td><td>92.3521</td><td>3050</td><td>10</td><td>5070</td></tr>\n",
       "\t<tr><th scope=row>3</th><td>11.057692</td><td>2.403126</td><td>0</td><td>0</td><td>1</td><td>0</td><td>0</td><td>0</td><td>0</td><td>0</td><td>0</td><td>1</td><td>18</td><td>3.24</td><td> 5.832</td><td>10.4976</td><td>6260</td><td>19</td><td> 770</td></tr>\n",
       "\t<tr><th scope=row>4</th><td>13.942308</td><td>2.634928</td><td>1</td><td>0</td><td>0</td><td>0</td><td>0</td><td>1</td><td>0</td><td>0</td><td>0</td><td>1</td><td>25</td><td>6.25</td><td>15.625</td><td>39.0625</td><td> 420</td><td> 1</td><td>6990</td></tr>\n",
       "\t<tr><th scope=row>5</th><td>28.846154</td><td>3.361977</td><td>1</td><td>0</td><td>0</td><td>0</td><td>1</td><td>0</td><td>0</td><td>0</td><td>0</td><td>1</td><td>22</td><td>4.84</td><td>10.648</td><td>23.4256</td><td>2015</td><td> 6</td><td>9470</td></tr>\n",
       "\t<tr><th scope=row>6</th><td>11.730769</td><td>2.462215</td><td>1</td><td>0</td><td>0</td><td>0</td><td>1</td><td>0</td><td>0</td><td>0</td><td>0</td><td>1</td><td> 1</td><td>0.01</td><td> 0.001</td><td> 0.0001</td><td>1650</td><td> 5</td><td>7460</td></tr>\n",
       "</tbody>\n",
       "</table>\n"
      ],
      "text/latex": [
       "A data.frame: 6 × 19\n",
       "\\begin{tabular}{r|lllllllllllllllllll}\n",
       "  & salario & lwage & sex & shs & hsg & scl & clg & ad & mw & so & we & ne & exp1 & exp2 & exp3 & exp4 & occ & occ2 & ind\\\\\n",
       "  & <dbl> & <dbl> & <int> & <int> & <int> & <int> & <int> & <int> & <int> & <int> & <int> & <int> & <dbl> & <dbl> & <dbl> & <dbl> & <dbl> & <int> & <dbl>\\\\\n",
       "\\hline\n",
       "\t1 &  9.615385 & 2.263364 & 1 & 0 & 0 & 0 & 1 & 0 & 0 & 0 & 0 & 1 &  7 & 0.49 &  0.343 &  0.2401 & 3600 & 11 & 8370\\\\\n",
       "\t2 & 48.076923 & 3.872802 & 0 & 0 & 0 & 0 & 1 & 0 & 0 & 0 & 0 & 1 & 31 & 9.61 & 29.791 & 92.3521 & 3050 & 10 & 5070\\\\\n",
       "\t3 & 11.057692 & 2.403126 & 0 & 0 & 1 & 0 & 0 & 0 & 0 & 0 & 0 & 1 & 18 & 3.24 &  5.832 & 10.4976 & 6260 & 19 &  770\\\\\n",
       "\t4 & 13.942308 & 2.634928 & 1 & 0 & 0 & 0 & 0 & 1 & 0 & 0 & 0 & 1 & 25 & 6.25 & 15.625 & 39.0625 &  420 &  1 & 6990\\\\\n",
       "\t5 & 28.846154 & 3.361977 & 1 & 0 & 0 & 0 & 1 & 0 & 0 & 0 & 0 & 1 & 22 & 4.84 & 10.648 & 23.4256 & 2015 &  6 & 9470\\\\\n",
       "\t6 & 11.730769 & 2.462215 & 1 & 0 & 0 & 0 & 1 & 0 & 0 & 0 & 0 & 1 &  1 & 0.01 &  0.001 &  0.0001 & 1650 &  5 & 7460\\\\\n",
       "\\end{tabular}\n"
      ],
      "text/markdown": [
       "\n",
       "A data.frame: 6 × 19\n",
       "\n",
       "| <!--/--> | salario &lt;dbl&gt; | lwage &lt;dbl&gt; | sex &lt;int&gt; | shs &lt;int&gt; | hsg &lt;int&gt; | scl &lt;int&gt; | clg &lt;int&gt; | ad &lt;int&gt; | mw &lt;int&gt; | so &lt;int&gt; | we &lt;int&gt; | ne &lt;int&gt; | exp1 &lt;dbl&gt; | exp2 &lt;dbl&gt; | exp3 &lt;dbl&gt; | exp4 &lt;dbl&gt; | occ &lt;dbl&gt; | occ2 &lt;int&gt; | ind &lt;dbl&gt; |\n",
       "|---|---|---|---|---|---|---|---|---|---|---|---|---|---|---|---|---|---|---|---|\n",
       "| 1 |  9.615385 | 2.263364 | 1 | 0 | 0 | 0 | 1 | 0 | 0 | 0 | 0 | 1 |  7 | 0.49 |  0.343 |  0.2401 | 3600 | 11 | 8370 |\n",
       "| 2 | 48.076923 | 3.872802 | 0 | 0 | 0 | 0 | 1 | 0 | 0 | 0 | 0 | 1 | 31 | 9.61 | 29.791 | 92.3521 | 3050 | 10 | 5070 |\n",
       "| 3 | 11.057692 | 2.403126 | 0 | 0 | 1 | 0 | 0 | 0 | 0 | 0 | 0 | 1 | 18 | 3.24 |  5.832 | 10.4976 | 6260 | 19 |  770 |\n",
       "| 4 | 13.942308 | 2.634928 | 1 | 0 | 0 | 0 | 0 | 1 | 0 | 0 | 0 | 1 | 25 | 6.25 | 15.625 | 39.0625 |  420 |  1 | 6990 |\n",
       "| 5 | 28.846154 | 3.361977 | 1 | 0 | 0 | 0 | 1 | 0 | 0 | 0 | 0 | 1 | 22 | 4.84 | 10.648 | 23.4256 | 2015 |  6 | 9470 |\n",
       "| 6 | 11.730769 | 2.462215 | 1 | 0 | 0 | 0 | 1 | 0 | 0 | 0 | 0 | 1 |  1 | 0.01 |  0.001 |  0.0001 | 1650 |  5 | 7460 |\n",
       "\n"
      ],
      "text/plain": [
       "  salario   lwage    sex shs hsg scl clg ad mw so we ne exp1 exp2 exp3  \n",
       "1  9.615385 2.263364 1   0   0   0   1   0  0  0  0  1   7   0.49  0.343\n",
       "2 48.076923 3.872802 0   0   0   0   1   0  0  0  0  1  31   9.61 29.791\n",
       "3 11.057692 2.403126 0   0   1   0   0   0  0  0  0  1  18   3.24  5.832\n",
       "4 13.942308 2.634928 1   0   0   0   0   1  0  0  0  1  25   6.25 15.625\n",
       "5 28.846154 3.361977 1   0   0   0   1   0  0  0  0  1  22   4.84 10.648\n",
       "6 11.730769 2.462215 1   0   0   0   1   0  0  0  0  1   1   0.01  0.001\n",
       "  exp4    occ  occ2 ind \n",
       "1  0.2401 3600 11   8370\n",
       "2 92.3521 3050 10   5070\n",
       "3 10.4976 6260 19    770\n",
       "4 39.0625  420  1   6990\n",
       "5 23.4256 2015  6   9470\n",
       "6  0.0001 1650  5   7460"
      ]
     },
     "metadata": {},
     "output_type": "display_data"
    }
   ],
   "source": [
    "head(base1 %>% filter(sex == 1 & exp1 > 10))\n",
    "\n",
    "head(base1  %>% filter(sex == 1 | exp1 > 10))"
   ]
  },
  {
   "cell_type": "code",
   "execution_count": 56,
   "metadata": {},
   "outputs": [
    {
     "data": {
      "text/html": [
       "<table class=\"dataframe\">\n",
       "<caption>A data.frame: 6 × 19</caption>\n",
       "<thead>\n",
       "\t<tr><th></th><th scope=col>salario</th><th scope=col>lwage</th><th scope=col>sex</th><th scope=col>shs</th><th scope=col>hsg</th><th scope=col>scl</th><th scope=col>clg</th><th scope=col>ad</th><th scope=col>mw</th><th scope=col>so</th><th scope=col>we</th><th scope=col>ne</th><th scope=col>exp1</th><th scope=col>exp2</th><th scope=col>exp3</th><th scope=col>exp4</th><th scope=col>occ</th><th scope=col>occ2</th><th scope=col>ind</th></tr>\n",
       "\t<tr><th></th><th scope=col>&lt;dbl&gt;</th><th scope=col>&lt;dbl&gt;</th><th scope=col>&lt;int&gt;</th><th scope=col>&lt;int&gt;</th><th scope=col>&lt;int&gt;</th><th scope=col>&lt;int&gt;</th><th scope=col>&lt;int&gt;</th><th scope=col>&lt;int&gt;</th><th scope=col>&lt;int&gt;</th><th scope=col>&lt;int&gt;</th><th scope=col>&lt;int&gt;</th><th scope=col>&lt;int&gt;</th><th scope=col>&lt;dbl&gt;</th><th scope=col>&lt;dbl&gt;</th><th scope=col>&lt;dbl&gt;</th><th scope=col>&lt;dbl&gt;</th><th scope=col>&lt;dbl&gt;</th><th scope=col>&lt;int&gt;</th><th scope=col>&lt;dbl&gt;</th></tr>\n",
       "</thead>\n",
       "<tbody>\n",
       "\t<tr><th scope=row>1</th><td>13.94231</td><td>2.634928</td><td>1</td><td>0</td><td>0</td><td>0</td><td>0</td><td>1</td><td>0</td><td>0</td><td>0</td><td>1</td><td>25.0</td><td> 6.2500</td><td>15.625000</td><td> 39.06250</td><td> 420</td><td> 1</td><td>6990</td></tr>\n",
       "\t<tr><th scope=row>2</th><td>28.84615</td><td>3.361977</td><td>1</td><td>0</td><td>0</td><td>0</td><td>1</td><td>0</td><td>0</td><td>0</td><td>0</td><td>1</td><td>22.0</td><td> 4.8400</td><td>10.648000</td><td> 23.42560</td><td>2015</td><td> 6</td><td>9470</td></tr>\n",
       "\t<tr><th scope=row>3</th><td>19.23077</td><td>2.956512</td><td>1</td><td>0</td><td>1</td><td>0</td><td>0</td><td>0</td><td>0</td><td>0</td><td>0</td><td>1</td><td>42.0</td><td>17.6400</td><td>74.088000</td><td>311.16960</td><td>5120</td><td>17</td><td>7280</td></tr>\n",
       "\t<tr><th scope=row>4</th><td>12.00000</td><td>2.484907</td><td>1</td><td>0</td><td>1</td><td>0</td><td>0</td><td>0</td><td>0</td><td>0</td><td>0</td><td>1</td><td>31.0</td><td> 9.6100</td><td>29.791000</td><td> 92.35210</td><td>4040</td><td>13</td><td>8590</td></tr>\n",
       "\t<tr><th scope=row>5</th><td>13.46154</td><td>2.599837</td><td>1</td><td>0</td><td>0</td><td>1</td><td>0</td><td>0</td><td>0</td><td>0</td><td>0</td><td>1</td><td>20.5</td><td> 4.2025</td><td> 8.615125</td><td> 17.66101</td><td>3645</td><td>11</td><td>8190</td></tr>\n",
       "\t<tr><th scope=row>6</th><td>16.34615</td><td>2.793993</td><td>1</td><td>0</td><td>0</td><td>0</td><td>1</td><td>0</td><td>0</td><td>0</td><td>0</td><td>1</td><td>25.0</td><td> 6.2500</td><td>15.625000</td><td> 39.06250</td><td> 110</td><td> 1</td><td>7870</td></tr>\n",
       "</tbody>\n",
       "</table>\n"
      ],
      "text/latex": [
       "A data.frame: 6 × 19\n",
       "\\begin{tabular}{r|lllllllllllllllllll}\n",
       "  & salario & lwage & sex & shs & hsg & scl & clg & ad & mw & so & we & ne & exp1 & exp2 & exp3 & exp4 & occ & occ2 & ind\\\\\n",
       "  & <dbl> & <dbl> & <int> & <int> & <int> & <int> & <int> & <int> & <int> & <int> & <int> & <int> & <dbl> & <dbl> & <dbl> & <dbl> & <dbl> & <int> & <dbl>\\\\\n",
       "\\hline\n",
       "\t1 & 13.94231 & 2.634928 & 1 & 0 & 0 & 0 & 0 & 1 & 0 & 0 & 0 & 1 & 25.0 &  6.2500 & 15.625000 &  39.06250 &  420 &  1 & 6990\\\\\n",
       "\t2 & 28.84615 & 3.361977 & 1 & 0 & 0 & 0 & 1 & 0 & 0 & 0 & 0 & 1 & 22.0 &  4.8400 & 10.648000 &  23.42560 & 2015 &  6 & 9470\\\\\n",
       "\t3 & 19.23077 & 2.956512 & 1 & 0 & 1 & 0 & 0 & 0 & 0 & 0 & 0 & 1 & 42.0 & 17.6400 & 74.088000 & 311.16960 & 5120 & 17 & 7280\\\\\n",
       "\t4 & 12.00000 & 2.484907 & 1 & 0 & 1 & 0 & 0 & 0 & 0 & 0 & 0 & 1 & 31.0 &  9.6100 & 29.791000 &  92.35210 & 4040 & 13 & 8590\\\\\n",
       "\t5 & 13.46154 & 2.599837 & 1 & 0 & 0 & 1 & 0 & 0 & 0 & 0 & 0 & 1 & 20.5 &  4.2025 &  8.615125 &  17.66101 & 3645 & 11 & 8190\\\\\n",
       "\t6 & 16.34615 & 2.793993 & 1 & 0 & 0 & 0 & 1 & 0 & 0 & 0 & 0 & 1 & 25.0 &  6.2500 & 15.625000 &  39.06250 &  110 &  1 & 7870\\\\\n",
       "\\end{tabular}\n"
      ],
      "text/markdown": [
       "\n",
       "A data.frame: 6 × 19\n",
       "\n",
       "| <!--/--> | salario &lt;dbl&gt; | lwage &lt;dbl&gt; | sex &lt;int&gt; | shs &lt;int&gt; | hsg &lt;int&gt; | scl &lt;int&gt; | clg &lt;int&gt; | ad &lt;int&gt; | mw &lt;int&gt; | so &lt;int&gt; | we &lt;int&gt; | ne &lt;int&gt; | exp1 &lt;dbl&gt; | exp2 &lt;dbl&gt; | exp3 &lt;dbl&gt; | exp4 &lt;dbl&gt; | occ &lt;dbl&gt; | occ2 &lt;int&gt; | ind &lt;dbl&gt; |\n",
       "|---|---|---|---|---|---|---|---|---|---|---|---|---|---|---|---|---|---|---|---|\n",
       "| 1 | 13.94231 | 2.634928 | 1 | 0 | 0 | 0 | 0 | 1 | 0 | 0 | 0 | 1 | 25.0 |  6.2500 | 15.625000 |  39.06250 |  420 |  1 | 6990 |\n",
       "| 2 | 28.84615 | 3.361977 | 1 | 0 | 0 | 0 | 1 | 0 | 0 | 0 | 0 | 1 | 22.0 |  4.8400 | 10.648000 |  23.42560 | 2015 |  6 | 9470 |\n",
       "| 3 | 19.23077 | 2.956512 | 1 | 0 | 1 | 0 | 0 | 0 | 0 | 0 | 0 | 1 | 42.0 | 17.6400 | 74.088000 | 311.16960 | 5120 | 17 | 7280 |\n",
       "| 4 | 12.00000 | 2.484907 | 1 | 0 | 1 | 0 | 0 | 0 | 0 | 0 | 0 | 1 | 31.0 |  9.6100 | 29.791000 |  92.35210 | 4040 | 13 | 8590 |\n",
       "| 5 | 13.46154 | 2.599837 | 1 | 0 | 0 | 1 | 0 | 0 | 0 | 0 | 0 | 1 | 20.5 |  4.2025 |  8.615125 |  17.66101 | 3645 | 11 | 8190 |\n",
       "| 6 | 16.34615 | 2.793993 | 1 | 0 | 0 | 0 | 1 | 0 | 0 | 0 | 0 | 1 | 25.0 |  6.2500 | 15.625000 |  39.06250 |  110 |  1 | 7870 |\n",
       "\n"
      ],
      "text/plain": [
       "  salario  lwage    sex shs hsg scl clg ad mw so we ne exp1 exp2    exp3     \n",
       "1 13.94231 2.634928 1   0   0   0   0   1  0  0  0  1  25.0  6.2500 15.625000\n",
       "2 28.84615 3.361977 1   0   0   0   1   0  0  0  0  1  22.0  4.8400 10.648000\n",
       "3 19.23077 2.956512 1   0   1   0   0   0  0  0  0  1  42.0 17.6400 74.088000\n",
       "4 12.00000 2.484907 1   0   1   0   0   0  0  0  0  1  31.0  9.6100 29.791000\n",
       "5 13.46154 2.599837 1   0   0   1   0   0  0  0  0  1  20.5  4.2025  8.615125\n",
       "6 16.34615 2.793993 1   0   0   0   1   0  0  0  0  1  25.0  6.2500 15.625000\n",
       "  exp4      occ  occ2 ind \n",
       "1  39.06250  420  1   6990\n",
       "2  23.42560 2015  6   9470\n",
       "3 311.16960 5120 17   7280\n",
       "4  92.35210 4040 13   8590\n",
       "5  17.66101 3645 11   8190\n",
       "6  39.06250  110  1   7870"
      ]
     },
     "metadata": {},
     "output_type": "display_data"
    },
    {
     "data": {
      "text/html": [
       "<table class=\"dataframe\">\n",
       "<caption>A data.frame: 6 × 19</caption>\n",
       "<thead>\n",
       "\t<tr><th></th><th scope=col>salario</th><th scope=col>lwage</th><th scope=col>sex</th><th scope=col>shs</th><th scope=col>hsg</th><th scope=col>scl</th><th scope=col>clg</th><th scope=col>ad</th><th scope=col>mw</th><th scope=col>so</th><th scope=col>we</th><th scope=col>ne</th><th scope=col>exp1</th><th scope=col>exp2</th><th scope=col>exp3</th><th scope=col>exp4</th><th scope=col>occ</th><th scope=col>occ2</th><th scope=col>ind</th></tr>\n",
       "\t<tr><th></th><th scope=col>&lt;dbl&gt;</th><th scope=col>&lt;dbl&gt;</th><th scope=col>&lt;int&gt;</th><th scope=col>&lt;int&gt;</th><th scope=col>&lt;int&gt;</th><th scope=col>&lt;int&gt;</th><th scope=col>&lt;int&gt;</th><th scope=col>&lt;int&gt;</th><th scope=col>&lt;int&gt;</th><th scope=col>&lt;int&gt;</th><th scope=col>&lt;int&gt;</th><th scope=col>&lt;int&gt;</th><th scope=col>&lt;dbl&gt;</th><th scope=col>&lt;dbl&gt;</th><th scope=col>&lt;dbl&gt;</th><th scope=col>&lt;dbl&gt;</th><th scope=col>&lt;dbl&gt;</th><th scope=col>&lt;int&gt;</th><th scope=col>&lt;dbl&gt;</th></tr>\n",
       "</thead>\n",
       "<tbody>\n",
       "\t<tr><th scope=row>1</th><td> 9.615385</td><td>2.263364</td><td>1</td><td>0</td><td>0</td><td>0</td><td>1</td><td>0</td><td>0</td><td>0</td><td>0</td><td>1</td><td> 7</td><td>0.49</td><td> 0.343</td><td> 0.2401</td><td>3600</td><td>11</td><td>8370</td></tr>\n",
       "\t<tr><th scope=row>2</th><td>48.076923</td><td>3.872802</td><td>0</td><td>0</td><td>0</td><td>0</td><td>1</td><td>0</td><td>0</td><td>0</td><td>0</td><td>1</td><td>31</td><td>9.61</td><td>29.791</td><td>92.3521</td><td>3050</td><td>10</td><td>5070</td></tr>\n",
       "\t<tr><th scope=row>3</th><td>11.057692</td><td>2.403126</td><td>0</td><td>0</td><td>1</td><td>0</td><td>0</td><td>0</td><td>0</td><td>0</td><td>0</td><td>1</td><td>18</td><td>3.24</td><td> 5.832</td><td>10.4976</td><td>6260</td><td>19</td><td> 770</td></tr>\n",
       "\t<tr><th scope=row>4</th><td>13.942308</td><td>2.634928</td><td>1</td><td>0</td><td>0</td><td>0</td><td>0</td><td>1</td><td>0</td><td>0</td><td>0</td><td>1</td><td>25</td><td>6.25</td><td>15.625</td><td>39.0625</td><td> 420</td><td> 1</td><td>6990</td></tr>\n",
       "\t<tr><th scope=row>5</th><td>28.846154</td><td>3.361977</td><td>1</td><td>0</td><td>0</td><td>0</td><td>1</td><td>0</td><td>0</td><td>0</td><td>0</td><td>1</td><td>22</td><td>4.84</td><td>10.648</td><td>23.4256</td><td>2015</td><td> 6</td><td>9470</td></tr>\n",
       "\t<tr><th scope=row>6</th><td>11.730769</td><td>2.462215</td><td>1</td><td>0</td><td>0</td><td>0</td><td>1</td><td>0</td><td>0</td><td>0</td><td>0</td><td>1</td><td> 1</td><td>0.01</td><td> 0.001</td><td> 0.0001</td><td>1650</td><td> 5</td><td>7460</td></tr>\n",
       "</tbody>\n",
       "</table>\n"
      ],
      "text/latex": [
       "A data.frame: 6 × 19\n",
       "\\begin{tabular}{r|lllllllllllllllllll}\n",
       "  & salario & lwage & sex & shs & hsg & scl & clg & ad & mw & so & we & ne & exp1 & exp2 & exp3 & exp4 & occ & occ2 & ind\\\\\n",
       "  & <dbl> & <dbl> & <int> & <int> & <int> & <int> & <int> & <int> & <int> & <int> & <int> & <int> & <dbl> & <dbl> & <dbl> & <dbl> & <dbl> & <int> & <dbl>\\\\\n",
       "\\hline\n",
       "\t1 &  9.615385 & 2.263364 & 1 & 0 & 0 & 0 & 1 & 0 & 0 & 0 & 0 & 1 &  7 & 0.49 &  0.343 &  0.2401 & 3600 & 11 & 8370\\\\\n",
       "\t2 & 48.076923 & 3.872802 & 0 & 0 & 0 & 0 & 1 & 0 & 0 & 0 & 0 & 1 & 31 & 9.61 & 29.791 & 92.3521 & 3050 & 10 & 5070\\\\\n",
       "\t3 & 11.057692 & 2.403126 & 0 & 0 & 1 & 0 & 0 & 0 & 0 & 0 & 0 & 1 & 18 & 3.24 &  5.832 & 10.4976 & 6260 & 19 &  770\\\\\n",
       "\t4 & 13.942308 & 2.634928 & 1 & 0 & 0 & 0 & 0 & 1 & 0 & 0 & 0 & 1 & 25 & 6.25 & 15.625 & 39.0625 &  420 &  1 & 6990\\\\\n",
       "\t5 & 28.846154 & 3.361977 & 1 & 0 & 0 & 0 & 1 & 0 & 0 & 0 & 0 & 1 & 22 & 4.84 & 10.648 & 23.4256 & 2015 &  6 & 9470\\\\\n",
       "\t6 & 11.730769 & 2.462215 & 1 & 0 & 0 & 0 & 1 & 0 & 0 & 0 & 0 & 1 &  1 & 0.01 &  0.001 &  0.0001 & 1650 &  5 & 7460\\\\\n",
       "\\end{tabular}\n"
      ],
      "text/markdown": [
       "\n",
       "A data.frame: 6 × 19\n",
       "\n",
       "| <!--/--> | salario &lt;dbl&gt; | lwage &lt;dbl&gt; | sex &lt;int&gt; | shs &lt;int&gt; | hsg &lt;int&gt; | scl &lt;int&gt; | clg &lt;int&gt; | ad &lt;int&gt; | mw &lt;int&gt; | so &lt;int&gt; | we &lt;int&gt; | ne &lt;int&gt; | exp1 &lt;dbl&gt; | exp2 &lt;dbl&gt; | exp3 &lt;dbl&gt; | exp4 &lt;dbl&gt; | occ &lt;dbl&gt; | occ2 &lt;int&gt; | ind &lt;dbl&gt; |\n",
       "|---|---|---|---|---|---|---|---|---|---|---|---|---|---|---|---|---|---|---|---|\n",
       "| 1 |  9.615385 | 2.263364 | 1 | 0 | 0 | 0 | 1 | 0 | 0 | 0 | 0 | 1 |  7 | 0.49 |  0.343 |  0.2401 | 3600 | 11 | 8370 |\n",
       "| 2 | 48.076923 | 3.872802 | 0 | 0 | 0 | 0 | 1 | 0 | 0 | 0 | 0 | 1 | 31 | 9.61 | 29.791 | 92.3521 | 3050 | 10 | 5070 |\n",
       "| 3 | 11.057692 | 2.403126 | 0 | 0 | 1 | 0 | 0 | 0 | 0 | 0 | 0 | 1 | 18 | 3.24 |  5.832 | 10.4976 | 6260 | 19 |  770 |\n",
       "| 4 | 13.942308 | 2.634928 | 1 | 0 | 0 | 0 | 0 | 1 | 0 | 0 | 0 | 1 | 25 | 6.25 | 15.625 | 39.0625 |  420 |  1 | 6990 |\n",
       "| 5 | 28.846154 | 3.361977 | 1 | 0 | 0 | 0 | 1 | 0 | 0 | 0 | 0 | 1 | 22 | 4.84 | 10.648 | 23.4256 | 2015 |  6 | 9470 |\n",
       "| 6 | 11.730769 | 2.462215 | 1 | 0 | 0 | 0 | 1 | 0 | 0 | 0 | 0 | 1 |  1 | 0.01 |  0.001 |  0.0001 | 1650 |  5 | 7460 |\n",
       "\n"
      ],
      "text/plain": [
       "  salario   lwage    sex shs hsg scl clg ad mw so we ne exp1 exp2 exp3  \n",
       "1  9.615385 2.263364 1   0   0   0   1   0  0  0  0  1   7   0.49  0.343\n",
       "2 48.076923 3.872802 0   0   0   0   1   0  0  0  0  1  31   9.61 29.791\n",
       "3 11.057692 2.403126 0   0   1   0   0   0  0  0  0  1  18   3.24  5.832\n",
       "4 13.942308 2.634928 1   0   0   0   0   1  0  0  0  1  25   6.25 15.625\n",
       "5 28.846154 3.361977 1   0   0   0   1   0  0  0  0  1  22   4.84 10.648\n",
       "6 11.730769 2.462215 1   0   0   0   1   0  0  0  0  1   1   0.01  0.001\n",
       "  exp4    occ  occ2 ind \n",
       "1  0.2401 3600 11   8370\n",
       "2 92.3521 3050 10   5070\n",
       "3 10.4976 6260 19    770\n",
       "4 39.0625  420  1   6990\n",
       "5 23.4256 2015  6   9470\n",
       "6  0.0001 1650  5   7460"
      ]
     },
     "metadata": {},
     "output_type": "display_data"
    }
   ],
   "source": [
    "head(filter(base1, sex == 1 & exp1 > 10))\n",
    "head(filter(base1, sex == 1 | exp1 > 10))"
   ]
  },
  {
   "cell_type": "code",
   "execution_count": 53,
   "metadata": {},
   "outputs": [
    {
     "data": {
      "text/html": [
       "<table class=\"dataframe\">\n",
       "<caption>A data.frame: 6 × 19</caption>\n",
       "<thead>\n",
       "\t<tr><th></th><th scope=col>salario</th><th scope=col>lwage</th><th scope=col>sex</th><th scope=col>shs</th><th scope=col>hsg</th><th scope=col>scl</th><th scope=col>clg</th><th scope=col>ad</th><th scope=col>mw</th><th scope=col>so</th><th scope=col>we</th><th scope=col>ne</th><th scope=col>exp1</th><th scope=col>exp2</th><th scope=col>exp3</th><th scope=col>exp4</th><th scope=col>occ</th><th scope=col>occ2</th><th scope=col>ind</th></tr>\n",
       "\t<tr><th></th><th scope=col>&lt;dbl&gt;</th><th scope=col>&lt;dbl&gt;</th><th scope=col>&lt;int&gt;</th><th scope=col>&lt;int&gt;</th><th scope=col>&lt;int&gt;</th><th scope=col>&lt;int&gt;</th><th scope=col>&lt;int&gt;</th><th scope=col>&lt;int&gt;</th><th scope=col>&lt;int&gt;</th><th scope=col>&lt;int&gt;</th><th scope=col>&lt;int&gt;</th><th scope=col>&lt;int&gt;</th><th scope=col>&lt;dbl&gt;</th><th scope=col>&lt;dbl&gt;</th><th scope=col>&lt;dbl&gt;</th><th scope=col>&lt;dbl&gt;</th><th scope=col>&lt;dbl&gt;</th><th scope=col>&lt;int&gt;</th><th scope=col>&lt;dbl&gt;</th></tr>\n",
       "</thead>\n",
       "<tbody>\n",
       "\t<tr><th scope=row>1</th><td> 4.250000</td><td>1.446919</td><td>1</td><td>0</td><td>0</td><td>0</td><td>0</td><td>1</td><td>0</td><td>1</td><td>0</td><td>0</td><td>0</td><td>0</td><td>0</td><td>0</td><td>1860</td><td> 5</td><td>7870</td></tr>\n",
       "\t<tr><th scope=row>2</th><td> 5.128205</td><td>1.634756</td><td>1</td><td>0</td><td>0</td><td>0</td><td>0</td><td>1</td><td>1</td><td>0</td><td>0</td><td>0</td><td>0</td><td>0</td><td>0</td><td>0</td><td>9620</td><td>22</td><td>4970</td></tr>\n",
       "\t<tr><th scope=row>3</th><td> 9.135769</td><td>2.212197</td><td>0</td><td>0</td><td>0</td><td>0</td><td>0</td><td>1</td><td>0</td><td>1</td><td>0</td><td>0</td><td>0</td><td>0</td><td>0</td><td>0</td><td>2310</td><td> 8</td><td>7860</td></tr>\n",
       "\t<tr><th scope=row>4</th><td> 9.615385</td><td>2.263364</td><td>1</td><td>0</td><td>0</td><td>0</td><td>0</td><td>1</td><td>0</td><td>0</td><td>1</td><td>0</td><td>0</td><td>0</td><td>0</td><td>0</td><td>2430</td><td> 8</td><td>7860</td></tr>\n",
       "\t<tr><th scope=row>5</th><td> 9.615385</td><td>2.263364</td><td>1</td><td>0</td><td>0</td><td>0</td><td>0</td><td>1</td><td>0</td><td>0</td><td>1</td><td>0</td><td>0</td><td>0</td><td>0</td><td>0</td><td>3160</td><td>10</td><td>8090</td></tr>\n",
       "\t<tr><th scope=row>6</th><td>10.025000</td><td>2.305082</td><td>1</td><td>0</td><td>0</td><td>0</td><td>0</td><td>1</td><td>0</td><td>0</td><td>0</td><td>1</td><td>0</td><td>0</td><td>0</td><td>0</td><td>2540</td><td> 8</td><td>7860</td></tr>\n",
       "</tbody>\n",
       "</table>\n"
      ],
      "text/latex": [
       "A data.frame: 6 × 19\n",
       "\\begin{tabular}{r|lllllllllllllllllll}\n",
       "  & salario & lwage & sex & shs & hsg & scl & clg & ad & mw & so & we & ne & exp1 & exp2 & exp3 & exp4 & occ & occ2 & ind\\\\\n",
       "  & <dbl> & <dbl> & <int> & <int> & <int> & <int> & <int> & <int> & <int> & <int> & <int> & <int> & <dbl> & <dbl> & <dbl> & <dbl> & <dbl> & <int> & <dbl>\\\\\n",
       "\\hline\n",
       "\t1 &  4.250000 & 1.446919 & 1 & 0 & 0 & 0 & 0 & 1 & 0 & 1 & 0 & 0 & 0 & 0 & 0 & 0 & 1860 &  5 & 7870\\\\\n",
       "\t2 &  5.128205 & 1.634756 & 1 & 0 & 0 & 0 & 0 & 1 & 1 & 0 & 0 & 0 & 0 & 0 & 0 & 0 & 9620 & 22 & 4970\\\\\n",
       "\t3 &  9.135769 & 2.212197 & 0 & 0 & 0 & 0 & 0 & 1 & 0 & 1 & 0 & 0 & 0 & 0 & 0 & 0 & 2310 &  8 & 7860\\\\\n",
       "\t4 &  9.615385 & 2.263364 & 1 & 0 & 0 & 0 & 0 & 1 & 0 & 0 & 1 & 0 & 0 & 0 & 0 & 0 & 2430 &  8 & 7860\\\\\n",
       "\t5 &  9.615385 & 2.263364 & 1 & 0 & 0 & 0 & 0 & 1 & 0 & 0 & 1 & 0 & 0 & 0 & 0 & 0 & 3160 & 10 & 8090\\\\\n",
       "\t6 & 10.025000 & 2.305082 & 1 & 0 & 0 & 0 & 0 & 1 & 0 & 0 & 0 & 1 & 0 & 0 & 0 & 0 & 2540 &  8 & 7860\\\\\n",
       "\\end{tabular}\n"
      ],
      "text/markdown": [
       "\n",
       "A data.frame: 6 × 19\n",
       "\n",
       "| <!--/--> | salario &lt;dbl&gt; | lwage &lt;dbl&gt; | sex &lt;int&gt; | shs &lt;int&gt; | hsg &lt;int&gt; | scl &lt;int&gt; | clg &lt;int&gt; | ad &lt;int&gt; | mw &lt;int&gt; | so &lt;int&gt; | we &lt;int&gt; | ne &lt;int&gt; | exp1 &lt;dbl&gt; | exp2 &lt;dbl&gt; | exp3 &lt;dbl&gt; | exp4 &lt;dbl&gt; | occ &lt;dbl&gt; | occ2 &lt;int&gt; | ind &lt;dbl&gt; |\n",
       "|---|---|---|---|---|---|---|---|---|---|---|---|---|---|---|---|---|---|---|---|\n",
       "| 1 |  4.250000 | 1.446919 | 1 | 0 | 0 | 0 | 0 | 1 | 0 | 1 | 0 | 0 | 0 | 0 | 0 | 0 | 1860 |  5 | 7870 |\n",
       "| 2 |  5.128205 | 1.634756 | 1 | 0 | 0 | 0 | 0 | 1 | 1 | 0 | 0 | 0 | 0 | 0 | 0 | 0 | 9620 | 22 | 4970 |\n",
       "| 3 |  9.135769 | 2.212197 | 0 | 0 | 0 | 0 | 0 | 1 | 0 | 1 | 0 | 0 | 0 | 0 | 0 | 0 | 2310 |  8 | 7860 |\n",
       "| 4 |  9.615385 | 2.263364 | 1 | 0 | 0 | 0 | 0 | 1 | 0 | 0 | 1 | 0 | 0 | 0 | 0 | 0 | 2430 |  8 | 7860 |\n",
       "| 5 |  9.615385 | 2.263364 | 1 | 0 | 0 | 0 | 0 | 1 | 0 | 0 | 1 | 0 | 0 | 0 | 0 | 0 | 3160 | 10 | 8090 |\n",
       "| 6 | 10.025000 | 2.305082 | 1 | 0 | 0 | 0 | 0 | 1 | 0 | 0 | 0 | 1 | 0 | 0 | 0 | 0 | 2540 |  8 | 7860 |\n",
       "\n"
      ],
      "text/plain": [
       "  salario   lwage    sex shs hsg scl clg ad mw so we ne exp1 exp2 exp3 exp4\n",
       "1  4.250000 1.446919 1   0   0   0   0   1  0  1  0  0  0    0    0    0   \n",
       "2  5.128205 1.634756 1   0   0   0   0   1  1  0  0  0  0    0    0    0   \n",
       "3  9.135769 2.212197 0   0   0   0   0   1  0  1  0  0  0    0    0    0   \n",
       "4  9.615385 2.263364 1   0   0   0   0   1  0  0  1  0  0    0    0    0   \n",
       "5  9.615385 2.263364 1   0   0   0   0   1  0  0  1  0  0    0    0    0   \n",
       "6 10.025000 2.305082 1   0   0   0   0   1  0  0  0  1  0    0    0    0   \n",
       "  occ  occ2 ind \n",
       "1 1860  5   7870\n",
       "2 9620 22   4970\n",
       "3 2310  8   7860\n",
       "4 2430  8   7860\n",
       "5 3160 10   8090\n",
       "6 2540  8   7860"
      ]
     },
     "metadata": {},
     "output_type": "display_data"
    }
   ],
   "source": [
    "head(arrange(base1, exp1, salario))"
   ]
  },
  {
   "cell_type": "code",
   "execution_count": 62,
   "metadata": {},
   "outputs": [
    {
     "data": {
      "text/html": [
       "<table class=\"dataframe\">\n",
       "<caption>A data.frame: 5150 × 20</caption>\n",
       "<thead>\n",
       "\t<tr><th scope=col>salario</th><th scope=col>lwage</th><th scope=col>sex</th><th scope=col>shs</th><th scope=col>hsg</th><th scope=col>scl</th><th scope=col>clg</th><th scope=col>ad</th><th scope=col>mw</th><th scope=col>so</th><th scope=col>we</th><th scope=col>ne</th><th scope=col>exp1</th><th scope=col>exp2</th><th scope=col>exp3</th><th scope=col>exp4</th><th scope=col>occ</th><th scope=col>occ2</th><th scope=col>ind</th><th scope=col>dummy</th></tr>\n",
       "\t<tr><th scope=col>&lt;dbl&gt;</th><th scope=col>&lt;dbl&gt;</th><th scope=col>&lt;int&gt;</th><th scope=col>&lt;int&gt;</th><th scope=col>&lt;int&gt;</th><th scope=col>&lt;int&gt;</th><th scope=col>&lt;int&gt;</th><th scope=col>&lt;int&gt;</th><th scope=col>&lt;int&gt;</th><th scope=col>&lt;int&gt;</th><th scope=col>&lt;int&gt;</th><th scope=col>&lt;int&gt;</th><th scope=col>&lt;dbl&gt;</th><th scope=col>&lt;dbl&gt;</th><th scope=col>&lt;dbl&gt;</th><th scope=col>&lt;dbl&gt;</th><th scope=col>&lt;dbl&gt;</th><th scope=col>&lt;int&gt;</th><th scope=col>&lt;dbl&gt;</th><th scope=col>&lt;chr&gt;</th></tr>\n",
       "</thead>\n",
       "<tbody>\n",
       "\t<tr><td> 9.615385</td><td>2.263364</td><td>1</td><td>0</td><td>0</td><td>0</td><td>1</td><td>0</td><td>0</td><td>0</td><td>0</td><td>1</td><td> 7.0</td><td> 0.4900</td><td> 0.343000</td><td>  0.24010000</td><td>3600</td><td>11</td><td>8370</td><td>NA</td></tr>\n",
       "\t<tr><td>48.076923</td><td>3.872802</td><td>0</td><td>0</td><td>0</td><td>0</td><td>1</td><td>0</td><td>0</td><td>0</td><td>0</td><td>1</td><td>31.0</td><td> 9.6100</td><td>29.791000</td><td> 92.35210000</td><td>3050</td><td>10</td><td>5070</td><td>NA</td></tr>\n",
       "\t<tr><td>11.057692</td><td>2.403126</td><td>0</td><td>0</td><td>1</td><td>0</td><td>0</td><td>0</td><td>0</td><td>0</td><td>0</td><td>1</td><td>18.0</td><td> 3.2400</td><td> 5.832000</td><td> 10.49760000</td><td>6260</td><td>19</td><td> 770</td><td>NA</td></tr>\n",
       "\t<tr><td>13.942308</td><td>2.634928</td><td>1</td><td>0</td><td>0</td><td>0</td><td>0</td><td>1</td><td>0</td><td>0</td><td>0</td><td>1</td><td>25.0</td><td> 6.2500</td><td>15.625000</td><td> 39.06250000</td><td> 420</td><td> 1</td><td>6990</td><td>NA</td></tr>\n",
       "\t<tr><td>28.846154</td><td>3.361977</td><td>1</td><td>0</td><td>0</td><td>0</td><td>1</td><td>0</td><td>0</td><td>0</td><td>0</td><td>1</td><td>22.0</td><td> 4.8400</td><td>10.648000</td><td> 23.42560000</td><td>2015</td><td> 6</td><td>9470</td><td>NA</td></tr>\n",
       "\t<tr><td>11.730769</td><td>2.462215</td><td>1</td><td>0</td><td>0</td><td>0</td><td>1</td><td>0</td><td>0</td><td>0</td><td>0</td><td>1</td><td> 1.0</td><td> 0.0100</td><td> 0.001000</td><td>  0.00010000</td><td>1650</td><td> 5</td><td>7460</td><td>NA</td></tr>\n",
       "\t<tr><td>19.230769</td><td>2.956512</td><td>1</td><td>0</td><td>1</td><td>0</td><td>0</td><td>0</td><td>0</td><td>0</td><td>0</td><td>1</td><td>42.0</td><td>17.6400</td><td>74.088000</td><td>311.16960000</td><td>5120</td><td>17</td><td>7280</td><td>NA</td></tr>\n",
       "\t<tr><td>19.230769</td><td>2.956512</td><td>0</td><td>0</td><td>1</td><td>0</td><td>0</td><td>0</td><td>0</td><td>0</td><td>0</td><td>1</td><td>37.0</td><td>13.6900</td><td>50.653000</td><td>187.41610000</td><td>5240</td><td>17</td><td>5680</td><td>NA</td></tr>\n",
       "\t<tr><td>12.000000</td><td>2.484907</td><td>1</td><td>0</td><td>1</td><td>0</td><td>0</td><td>0</td><td>0</td><td>0</td><td>0</td><td>1</td><td>31.0</td><td> 9.6100</td><td>29.791000</td><td> 92.35210000</td><td>4040</td><td>13</td><td>8590</td><td>NA</td></tr>\n",
       "\t<tr><td>19.230769</td><td>2.956512</td><td>1</td><td>0</td><td>0</td><td>0</td><td>1</td><td>0</td><td>0</td><td>0</td><td>0</td><td>1</td><td> 4.0</td><td> 0.1600</td><td> 0.064000</td><td>  0.02560000</td><td>3255</td><td>10</td><td>8190</td><td>NA</td></tr>\n",
       "\t<tr><td>17.307692</td><td>2.851151</td><td>1</td><td>0</td><td>1</td><td>0</td><td>0</td><td>0</td><td>0</td><td>0</td><td>0</td><td>1</td><td> 7.0</td><td> 0.4900</td><td> 0.343000</td><td>  0.24010000</td><td>4020</td><td>13</td><td>8270</td><td>NA</td></tr>\n",
       "\t<tr><td>12.019231</td><td>2.486508</td><td>0</td><td>0</td><td>1</td><td>0</td><td>0</td><td>0</td><td>0</td><td>0</td><td>0</td><td>1</td><td>30.0</td><td> 9.0000</td><td>27.000000</td><td> 81.00000000</td><td>4220</td><td>14</td><td>8270</td><td>NA</td></tr>\n",
       "\t<tr><td>12.019231</td><td>2.486508</td><td>1</td><td>0</td><td>0</td><td>1</td><td>0</td><td>0</td><td>0</td><td>0</td><td>0</td><td>1</td><td> 5.5</td><td> 0.3025</td><td> 0.166375</td><td>  0.09150625</td><td>3600</td><td>11</td><td>8270</td><td>NA</td></tr>\n",
       "\t<tr><td>13.461538</td><td>2.599837</td><td>1</td><td>0</td><td>0</td><td>1</td><td>0</td><td>0</td><td>0</td><td>0</td><td>0</td><td>1</td><td>20.5</td><td> 4.2025</td><td> 8.615125</td><td> 17.66100625</td><td>3645</td><td>11</td><td>8190</td><td>NA</td></tr>\n",
       "\t<tr><td>16.346154</td><td>2.793993</td><td>1</td><td>0</td><td>0</td><td>0</td><td>1</td><td>0</td><td>0</td><td>0</td><td>0</td><td>1</td><td>25.0</td><td> 6.2500</td><td>15.625000</td><td> 39.06250000</td><td> 110</td><td> 1</td><td>7870</td><td>NA</td></tr>\n",
       "\t<tr><td>27.884615</td><td>3.328075</td><td>0</td><td>0</td><td>1</td><td>0</td><td>0</td><td>0</td><td>0</td><td>0</td><td>0</td><td>1</td><td>16.0</td><td> 2.5600</td><td> 4.096000</td><td>  6.55360000</td><td>6355</td><td>19</td><td> 770</td><td>NA</td></tr>\n",
       "\t<tr><td>21.600000</td><td>3.072693</td><td>0</td><td>0</td><td>1</td><td>0</td><td>0</td><td>0</td><td>0</td><td>0</td><td>0</td><td>1</td><td>27.0</td><td> 7.2900</td><td>19.683000</td><td> 53.14410000</td><td>6320</td><td>19</td><td> 770</td><td>NA</td></tr>\n",
       "\t<tr><td> 8.653846</td><td>2.158004</td><td>0</td><td>0</td><td>0</td><td>1</td><td>0</td><td>0</td><td>0</td><td>0</td><td>0</td><td>1</td><td> 3.5</td><td> 0.1225</td><td> 0.042875</td><td>  0.01500625</td><td>7410</td><td>20</td><td> 570</td><td>NA</td></tr>\n",
       "\t<tr><td>19.230769</td><td>2.956512</td><td>0</td><td>0</td><td>1</td><td>0</td><td>0</td><td>0</td><td>0</td><td>0</td><td>0</td><td>1</td><td> 6.0</td><td> 0.3600</td><td> 0.216000</td><td>  0.12960000</td><td>7000</td><td>20</td><td>4690</td><td>NA</td></tr>\n",
       "\t<tr><td>13.186813</td><td>2.579217</td><td>0</td><td>0</td><td>1</td><td>0</td><td>0</td><td>0</td><td>0</td><td>0</td><td>0</td><td>1</td><td> 8.0</td><td> 0.6400</td><td> 0.512000</td><td>  0.40960000</td><td>4000</td><td>13</td><td>8680</td><td>NA</td></tr>\n",
       "\t<tr><td>10.683761</td><td>2.368725</td><td>1</td><td>0</td><td>0</td><td>1</td><td>0</td><td>0</td><td>0</td><td>0</td><td>0</td><td>1</td><td> 6.5</td><td> 0.4225</td><td> 0.274625</td><td>  0.17850625</td><td>4300</td><td>15</td><td>8590</td><td>NA</td></tr>\n",
       "\t<tr><td>11.538462</td><td>2.445686</td><td>1</td><td>0</td><td>0</td><td>1</td><td>0</td><td>0</td><td>0</td><td>0</td><td>0</td><td>1</td><td> 8.5</td><td> 0.7225</td><td> 0.614125</td><td>  0.52200625</td><td>3600</td><td>11</td><td>8190</td><td>NA</td></tr>\n",
       "\t<tr><td>17.788462</td><td>2.878550</td><td>1</td><td>0</td><td>0</td><td>0</td><td>0</td><td>1</td><td>0</td><td>0</td><td>0</td><td>1</td><td>11.0</td><td> 1.2100</td><td> 1.331000</td><td>  1.46410000</td><td>2310</td><td> 8</td><td>7860</td><td>NA</td></tr>\n",
       "\t<tr><td>19.230769</td><td>2.956512</td><td>0</td><td>0</td><td>0</td><td>0</td><td>1</td><td>0</td><td>0</td><td>0</td><td>0</td><td>1</td><td>11.0</td><td> 1.2100</td><td> 1.331000</td><td>  1.46410000</td><td>6200</td><td>19</td><td> 770</td><td>NA</td></tr>\n",
       "\t<tr><td>16.304348</td><td>2.791432</td><td>1</td><td>0</td><td>0</td><td>1</td><td>0</td><td>0</td><td>0</td><td>0</td><td>0</td><td>1</td><td>24.5</td><td> 6.0025</td><td>14.706125</td><td> 36.03000625</td><td>  20</td><td> 1</td><td>5480</td><td>NA</td></tr>\n",
       "\t<tr><td>19.230769</td><td>2.956512</td><td>0</td><td>0</td><td>1</td><td>0</td><td>0</td><td>0</td><td>0</td><td>0</td><td>0</td><td>1</td><td> 8.0</td><td> 0.6400</td><td> 0.512000</td><td>  0.40960000</td><td>4800</td><td>16</td><td>7390</td><td>NA</td></tr>\n",
       "\t<tr><td>14.423077</td><td>2.668829</td><td>1</td><td>0</td><td>1</td><td>0</td><td>0</td><td>0</td><td>0</td><td>0</td><td>0</td><td>1</td><td> 5.0</td><td> 0.2500</td><td> 0.125000</td><td>  0.06250000</td><td> 430</td><td> 1</td><td>7390</td><td>NA</td></tr>\n",
       "\t<tr><td>12.000000</td><td>2.484907</td><td>0</td><td>0</td><td>0</td><td>1</td><td>0</td><td>0</td><td>0</td><td>0</td><td>0</td><td>1</td><td> 4.5</td><td> 0.2025</td><td> 0.091125</td><td>  0.04100625</td><td>6330</td><td>19</td><td> 770</td><td>NA</td></tr>\n",
       "\t<tr><td>16.826923</td><td>2.822980</td><td>0</td><td>0</td><td>0</td><td>0</td><td>1</td><td>0</td><td>0</td><td>0</td><td>0</td><td>1</td><td> 8.0</td><td> 0.6400</td><td> 0.512000</td><td>  0.40960000</td><td>5400</td><td>17</td><td>4870</td><td>NA</td></tr>\n",
       "\t<tr><td>19.670330</td><td>2.979111</td><td>0</td><td>0</td><td>0</td><td>0</td><td>1</td><td>0</td><td>0</td><td>0</td><td>0</td><td>1</td><td>26.0</td><td> 6.7600</td><td>17.576000</td><td> 45.69760000</td><td>6230</td><td>19</td><td>6570</td><td>NA</td></tr>\n",
       "\t<tr><td>...</td><td>...</td><td>...</td><td>...</td><td>...</td><td>...</td><td>...</td><td>...</td><td>...</td><td>...</td><td>...</td><td>...</td><td>...</td><td>...</td><td>...</td><td>...</td><td>...</td><td>...</td><td>...</td><td>...</td></tr>\n",
       "\t<tr><td>13.986014</td><td>2.638058</td><td>1</td><td>0</td><td>0</td><td>0</td><td>0</td><td>1</td><td>0</td><td>0</td><td>1</td><td>0</td><td> 7.0</td><td> 0.4900</td><td> 0.343000</td><td>  0.2401000</td><td>3820</td><td>12</td><td>9590</td><td>NA</td></tr>\n",
       "\t<tr><td>15.865385</td><td>2.764140</td><td>0</td><td>0</td><td>0</td><td>0</td><td>0</td><td>1</td><td>0</td><td>0</td><td>1</td><td>0</td><td> 2.0</td><td> 0.0400</td><td> 0.008000</td><td>  0.0016000</td><td>2200</td><td> 8</td><td>7870</td><td>NA</td></tr>\n",
       "\t<tr><td>38.461538</td><td>3.649659</td><td>1</td><td>0</td><td>0</td><td>1</td><td>0</td><td>0</td><td>0</td><td>0</td><td>1</td><td>0</td><td> 7.5</td><td> 0.5625</td><td> 0.421875</td><td>  0.3164062</td><td> 220</td><td> 1</td><td> 770</td><td>NA</td></tr>\n",
       "\t<tr><td>28.846154</td><td>3.361977</td><td>0</td><td>0</td><td>0</td><td>0</td><td>1</td><td>0</td><td>0</td><td>0</td><td>1</td><td>0</td><td> 5.0</td><td> 0.2500</td><td> 0.125000</td><td>  0.0625000</td><td>1360</td><td> 4</td><td> 770</td><td>NA</td></tr>\n",
       "\t<tr><td>24.475524</td><td>3.197674</td><td>1</td><td>0</td><td>0</td><td>0</td><td>0</td><td>1</td><td>0</td><td>0</td><td>1</td><td>0</td><td>24.0</td><td> 5.7600</td><td>13.824000</td><td> 33.1776000</td><td>2310</td><td> 8</td><td>7860</td><td>NA</td></tr>\n",
       "\t<tr><td>27.884615</td><td>3.328075</td><td>0</td><td>0</td><td>0</td><td>1</td><td>0</td><td>0</td><td>0</td><td>0</td><td>1</td><td>0</td><td>28.5</td><td> 8.1225</td><td>23.149125</td><td> 65.9750063</td><td>8140</td><td>21</td><td> 770</td><td>NA</td></tr>\n",
       "\t<tr><td> 8.653846</td><td>2.158004</td><td>1</td><td>0</td><td>1</td><td>0</td><td>0</td><td>0</td><td>0</td><td>0</td><td>1</td><td>0</td><td>25.0</td><td> 6.2500</td><td>15.625000</td><td> 39.0625000</td><td>3930</td><td>12</td><td>7680</td><td>NA</td></tr>\n",
       "\t<tr><td>12.019231</td><td>2.486508</td><td>0</td><td>0</td><td>1</td><td>0</td><td>0</td><td>0</td><td>0</td><td>0</td><td>1</td><td>0</td><td>19.0</td><td> 3.6100</td><td> 6.859000</td><td> 13.0321000</td><td>2750</td><td> 9</td><td>8560</td><td>NA</td></tr>\n",
       "\t<tr><td>38.461538</td><td>3.649659</td><td>0</td><td>0</td><td>0</td><td>0</td><td>1</td><td>0</td><td>0</td><td>0</td><td>1</td><td>0</td><td> 8.0</td><td> 0.6400</td><td> 0.512000</td><td>  0.4096000</td><td> 710</td><td> 2</td><td>6870</td><td>NA</td></tr>\n",
       "\t<tr><td>12.500000</td><td>2.525729</td><td>1</td><td>0</td><td>1</td><td>0</td><td>0</td><td>0</td><td>0</td><td>0</td><td>1</td><td>0</td><td>12.0</td><td> 1.4400</td><td> 1.728000</td><td>  2.0736000</td><td>4010</td><td>13</td><td>8680</td><td>NA</td></tr>\n",
       "\t<tr><td>35.256410</td><td>3.562647</td><td>0</td><td>0</td><td>0</td><td>0</td><td>0</td><td>1</td><td>0</td><td>0</td><td>1</td><td>0</td><td> 6.0</td><td> 0.3600</td><td> 0.216000</td><td>  0.1296000</td><td>2320</td><td> 8</td><td>7860</td><td>NA</td></tr>\n",
       "\t<tr><td>48.076923</td><td>3.872802</td><td>1</td><td>0</td><td>0</td><td>0</td><td>1</td><td>0</td><td>0</td><td>0</td><td>1</td><td>0</td><td>25.0</td><td> 6.2500</td><td>15.625000</td><td> 39.0625000</td><td>3255</td><td>10</td><td>8170</td><td>NA</td></tr>\n",
       "\t<tr><td> 9.615385</td><td>2.263364</td><td>0</td><td>0</td><td>1</td><td>0</td><td>0</td><td>0</td><td>0</td><td>0</td><td>1</td><td>0</td><td>20.0</td><td> 4.0000</td><td> 8.000000</td><td> 16.0000000</td><td>4110</td><td>13</td><td>8680</td><td>NA</td></tr>\n",
       "\t<tr><td>12.019231</td><td>2.486508</td><td>0</td><td>0</td><td>1</td><td>0</td><td>0</td><td>0</td><td>0</td><td>0</td><td>1</td><td>0</td><td>17.0</td><td> 2.8900</td><td> 4.913000</td><td>  8.3521000</td><td>9620</td><td>22</td><td>6290</td><td>NA</td></tr>\n",
       "\t<tr><td>12.019231</td><td>2.486508</td><td>0</td><td>0</td><td>0</td><td>1</td><td>0</td><td>0</td><td>0</td><td>0</td><td>1</td><td>0</td><td>31.5</td><td> 9.9225</td><td>31.255875</td><td> 98.4560063</td><td>5510</td><td>17</td><td>6380</td><td>NA</td></tr>\n",
       "\t<tr><td>12.980769</td><td>2.563469</td><td>0</td><td>0</td><td>1</td><td>0</td><td>0</td><td>0</td><td>0</td><td>0</td><td>1</td><td>0</td><td>15.0</td><td> 2.2500</td><td> 3.375000</td><td>  5.0625000</td><td>2010</td><td> 6</td><td>9370</td><td>NA</td></tr>\n",
       "\t<tr><td>26.442308</td><td>3.274965</td><td>1</td><td>0</td><td>0</td><td>0</td><td>1</td><td>0</td><td>0</td><td>0</td><td>1</td><td>0</td><td>34.0</td><td>11.5600</td><td>39.304000</td><td>133.6336000</td><td>2310</td><td> 8</td><td>7860</td><td>NA</td></tr>\n",
       "\t<tr><td>13.461538</td><td>2.599837</td><td>1</td><td>0</td><td>1</td><td>0</td><td>0</td><td>0</td><td>0</td><td>0</td><td>1</td><td>0</td><td> 8.0</td><td> 0.6400</td><td> 0.512000</td><td>  0.4096000</td><td>4720</td><td>16</td><td>8590</td><td>NA</td></tr>\n",
       "\t<tr><td>19.711538</td><td>2.981204</td><td>1</td><td>0</td><td>0</td><td>0</td><td>0</td><td>1</td><td>0</td><td>0</td><td>1</td><td>0</td><td> 8.0</td><td> 0.6400</td><td> 0.512000</td><td>  0.4096000</td><td>2000</td><td> 6</td><td>8090</td><td>NA</td></tr>\n",
       "\t<tr><td>21.153846</td><td>3.051822</td><td>0</td><td>0</td><td>0</td><td>0</td><td>1</td><td>0</td><td>0</td><td>0</td><td>1</td><td>0</td><td>28.0</td><td> 7.8400</td><td>21.952000</td><td> 61.4656000</td><td>  40</td><td> 1</td><td>9170</td><td>NA</td></tr>\n",
       "\t<tr><td>45.546559</td><td>3.818735</td><td>1</td><td>0</td><td>0</td><td>0</td><td>1</td><td>0</td><td>0</td><td>0</td><td>1</td><td>0</td><td> 5.0</td><td> 0.2500</td><td> 0.125000</td><td>  0.0625000</td><td>3255</td><td>10</td><td>8190</td><td>NA</td></tr>\n",
       "\t<tr><td>22.596154</td><td>3.117780</td><td>0</td><td>0</td><td>1</td><td>0</td><td>0</td><td>0</td><td>0</td><td>0</td><td>1</td><td>0</td><td>15.0</td><td> 2.2500</td><td> 3.375000</td><td>  5.0625000</td><td>9620</td><td>22</td><td>5390</td><td>NA</td></tr>\n",
       "\t<tr><td>16.826923</td><td>2.822980</td><td>0</td><td>0</td><td>1</td><td>0</td><td>0</td><td>0</td><td>0</td><td>0</td><td>1</td><td>0</td><td>11.0</td><td> 1.2100</td><td> 1.331000</td><td>  1.4641000</td><td>7150</td><td>20</td><td>8770</td><td>NA</td></tr>\n",
       "\t<tr><td>24.038462</td><td>3.179655</td><td>1</td><td>0</td><td>0</td><td>0</td><td>1</td><td>0</td><td>0</td><td>0</td><td>1</td><td>0</td><td>17.0</td><td> 2.8900</td><td> 4.913000</td><td>  8.3521000</td><td>2550</td><td> 8</td><td>9480</td><td>NA</td></tr>\n",
       "\t<tr><td>13.846154</td><td>2.628007</td><td>0</td><td>0</td><td>0</td><td>0</td><td>1</td><td>0</td><td>0</td><td>0</td><td>1</td><td>0</td><td>10.0</td><td> 1.0000</td><td> 1.000000</td><td>  1.0000000</td><td> 800</td><td> 2</td><td> 770</td><td>NA</td></tr>\n",
       "\t<tr><td>14.769231</td><td>2.692546</td><td>0</td><td>0</td><td>0</td><td>0</td><td>1</td><td>0</td><td>0</td><td>0</td><td>1</td><td>0</td><td> 9.0</td><td> 0.8100</td><td> 0.729000</td><td>  0.6561000</td><td>4700</td><td>16</td><td>4970</td><td>NA</td></tr>\n",
       "\t<tr><td>23.076923</td><td>3.138833</td><td>1</td><td>0</td><td>0</td><td>1</td><td>0</td><td>0</td><td>0</td><td>0</td><td>1</td><td>0</td><td>12.0</td><td> 1.4400</td><td> 1.728000</td><td>  2.0736000</td><td>4110</td><td>13</td><td>8680</td><td>NA</td></tr>\n",
       "\t<tr><td>38.461538</td><td>3.649659</td><td>0</td><td>0</td><td>0</td><td>0</td><td>0</td><td>1</td><td>0</td><td>0</td><td>1</td><td>0</td><td>11.0</td><td> 1.2100</td><td> 1.331000</td><td>  1.4641000</td><td>1550</td><td> 4</td><td>3680</td><td>NA</td></tr>\n",
       "\t<tr><td>32.967033</td><td>3.495508</td><td>0</td><td>0</td><td>1</td><td>0</td><td>0</td><td>0</td><td>0</td><td>0</td><td>1</td><td>0</td><td>10.0</td><td> 1.0000</td><td> 1.000000</td><td>  1.0000000</td><td>2920</td><td> 9</td><td>6570</td><td>NA</td></tr>\n",
       "\t<tr><td>17.307692</td><td>2.851151</td><td>0</td><td>0</td><td>0</td><td>0</td><td>0</td><td>1</td><td>0</td><td>0</td><td>1</td><td>0</td><td>14.0</td><td> 1.9600</td><td> 2.744000</td><td>  3.8416000</td><td>1610</td><td> 5</td><td>7460</td><td>NA</td></tr>\n",
       "</tbody>\n",
       "</table>\n"
      ],
      "text/latex": [
       "A data.frame: 5150 × 20\n",
       "\\begin{tabular}{llllllllllllllllllll}\n",
       " salario & lwage & sex & shs & hsg & scl & clg & ad & mw & so & we & ne & exp1 & exp2 & exp3 & exp4 & occ & occ2 & ind & dummy\\\\\n",
       " <dbl> & <dbl> & <int> & <int> & <int> & <int> & <int> & <int> & <int> & <int> & <int> & <int> & <dbl> & <dbl> & <dbl> & <dbl> & <dbl> & <int> & <dbl> & <chr>\\\\\n",
       "\\hline\n",
       "\t  9.615385 & 2.263364 & 1 & 0 & 0 & 0 & 1 & 0 & 0 & 0 & 0 & 1 &  7.0 &  0.4900 &  0.343000 &   0.24010000 & 3600 & 11 & 8370 & NA\\\\\n",
       "\t 48.076923 & 3.872802 & 0 & 0 & 0 & 0 & 1 & 0 & 0 & 0 & 0 & 1 & 31.0 &  9.6100 & 29.791000 &  92.35210000 & 3050 & 10 & 5070 & NA\\\\\n",
       "\t 11.057692 & 2.403126 & 0 & 0 & 1 & 0 & 0 & 0 & 0 & 0 & 0 & 1 & 18.0 &  3.2400 &  5.832000 &  10.49760000 & 6260 & 19 &  770 & NA\\\\\n",
       "\t 13.942308 & 2.634928 & 1 & 0 & 0 & 0 & 0 & 1 & 0 & 0 & 0 & 1 & 25.0 &  6.2500 & 15.625000 &  39.06250000 &  420 &  1 & 6990 & NA\\\\\n",
       "\t 28.846154 & 3.361977 & 1 & 0 & 0 & 0 & 1 & 0 & 0 & 0 & 0 & 1 & 22.0 &  4.8400 & 10.648000 &  23.42560000 & 2015 &  6 & 9470 & NA\\\\\n",
       "\t 11.730769 & 2.462215 & 1 & 0 & 0 & 0 & 1 & 0 & 0 & 0 & 0 & 1 &  1.0 &  0.0100 &  0.001000 &   0.00010000 & 1650 &  5 & 7460 & NA\\\\\n",
       "\t 19.230769 & 2.956512 & 1 & 0 & 1 & 0 & 0 & 0 & 0 & 0 & 0 & 1 & 42.0 & 17.6400 & 74.088000 & 311.16960000 & 5120 & 17 & 7280 & NA\\\\\n",
       "\t 19.230769 & 2.956512 & 0 & 0 & 1 & 0 & 0 & 0 & 0 & 0 & 0 & 1 & 37.0 & 13.6900 & 50.653000 & 187.41610000 & 5240 & 17 & 5680 & NA\\\\\n",
       "\t 12.000000 & 2.484907 & 1 & 0 & 1 & 0 & 0 & 0 & 0 & 0 & 0 & 1 & 31.0 &  9.6100 & 29.791000 &  92.35210000 & 4040 & 13 & 8590 & NA\\\\\n",
       "\t 19.230769 & 2.956512 & 1 & 0 & 0 & 0 & 1 & 0 & 0 & 0 & 0 & 1 &  4.0 &  0.1600 &  0.064000 &   0.02560000 & 3255 & 10 & 8190 & NA\\\\\n",
       "\t 17.307692 & 2.851151 & 1 & 0 & 1 & 0 & 0 & 0 & 0 & 0 & 0 & 1 &  7.0 &  0.4900 &  0.343000 &   0.24010000 & 4020 & 13 & 8270 & NA\\\\\n",
       "\t 12.019231 & 2.486508 & 0 & 0 & 1 & 0 & 0 & 0 & 0 & 0 & 0 & 1 & 30.0 &  9.0000 & 27.000000 &  81.00000000 & 4220 & 14 & 8270 & NA\\\\\n",
       "\t 12.019231 & 2.486508 & 1 & 0 & 0 & 1 & 0 & 0 & 0 & 0 & 0 & 1 &  5.5 &  0.3025 &  0.166375 &   0.09150625 & 3600 & 11 & 8270 & NA\\\\\n",
       "\t 13.461538 & 2.599837 & 1 & 0 & 0 & 1 & 0 & 0 & 0 & 0 & 0 & 1 & 20.5 &  4.2025 &  8.615125 &  17.66100625 & 3645 & 11 & 8190 & NA\\\\\n",
       "\t 16.346154 & 2.793993 & 1 & 0 & 0 & 0 & 1 & 0 & 0 & 0 & 0 & 1 & 25.0 &  6.2500 & 15.625000 &  39.06250000 &  110 &  1 & 7870 & NA\\\\\n",
       "\t 27.884615 & 3.328075 & 0 & 0 & 1 & 0 & 0 & 0 & 0 & 0 & 0 & 1 & 16.0 &  2.5600 &  4.096000 &   6.55360000 & 6355 & 19 &  770 & NA\\\\\n",
       "\t 21.600000 & 3.072693 & 0 & 0 & 1 & 0 & 0 & 0 & 0 & 0 & 0 & 1 & 27.0 &  7.2900 & 19.683000 &  53.14410000 & 6320 & 19 &  770 & NA\\\\\n",
       "\t  8.653846 & 2.158004 & 0 & 0 & 0 & 1 & 0 & 0 & 0 & 0 & 0 & 1 &  3.5 &  0.1225 &  0.042875 &   0.01500625 & 7410 & 20 &  570 & NA\\\\\n",
       "\t 19.230769 & 2.956512 & 0 & 0 & 1 & 0 & 0 & 0 & 0 & 0 & 0 & 1 &  6.0 &  0.3600 &  0.216000 &   0.12960000 & 7000 & 20 & 4690 & NA\\\\\n",
       "\t 13.186813 & 2.579217 & 0 & 0 & 1 & 0 & 0 & 0 & 0 & 0 & 0 & 1 &  8.0 &  0.6400 &  0.512000 &   0.40960000 & 4000 & 13 & 8680 & NA\\\\\n",
       "\t 10.683761 & 2.368725 & 1 & 0 & 0 & 1 & 0 & 0 & 0 & 0 & 0 & 1 &  6.5 &  0.4225 &  0.274625 &   0.17850625 & 4300 & 15 & 8590 & NA\\\\\n",
       "\t 11.538462 & 2.445686 & 1 & 0 & 0 & 1 & 0 & 0 & 0 & 0 & 0 & 1 &  8.5 &  0.7225 &  0.614125 &   0.52200625 & 3600 & 11 & 8190 & NA\\\\\n",
       "\t 17.788462 & 2.878550 & 1 & 0 & 0 & 0 & 0 & 1 & 0 & 0 & 0 & 1 & 11.0 &  1.2100 &  1.331000 &   1.46410000 & 2310 &  8 & 7860 & NA\\\\\n",
       "\t 19.230769 & 2.956512 & 0 & 0 & 0 & 0 & 1 & 0 & 0 & 0 & 0 & 1 & 11.0 &  1.2100 &  1.331000 &   1.46410000 & 6200 & 19 &  770 & NA\\\\\n",
       "\t 16.304348 & 2.791432 & 1 & 0 & 0 & 1 & 0 & 0 & 0 & 0 & 0 & 1 & 24.5 &  6.0025 & 14.706125 &  36.03000625 &   20 &  1 & 5480 & NA\\\\\n",
       "\t 19.230769 & 2.956512 & 0 & 0 & 1 & 0 & 0 & 0 & 0 & 0 & 0 & 1 &  8.0 &  0.6400 &  0.512000 &   0.40960000 & 4800 & 16 & 7390 & NA\\\\\n",
       "\t 14.423077 & 2.668829 & 1 & 0 & 1 & 0 & 0 & 0 & 0 & 0 & 0 & 1 &  5.0 &  0.2500 &  0.125000 &   0.06250000 &  430 &  1 & 7390 & NA\\\\\n",
       "\t 12.000000 & 2.484907 & 0 & 0 & 0 & 1 & 0 & 0 & 0 & 0 & 0 & 1 &  4.5 &  0.2025 &  0.091125 &   0.04100625 & 6330 & 19 &  770 & NA\\\\\n",
       "\t 16.826923 & 2.822980 & 0 & 0 & 0 & 0 & 1 & 0 & 0 & 0 & 0 & 1 &  8.0 &  0.6400 &  0.512000 &   0.40960000 & 5400 & 17 & 4870 & NA\\\\\n",
       "\t 19.670330 & 2.979111 & 0 & 0 & 0 & 0 & 1 & 0 & 0 & 0 & 0 & 1 & 26.0 &  6.7600 & 17.576000 &  45.69760000 & 6230 & 19 & 6570 & NA\\\\\n",
       "\t ... & ... & ... & ... & ... & ... & ... & ... & ... & ... & ... & ... & ... & ... & ... & ... & ... & ... & ... & ...\\\\\n",
       "\t 13.986014 & 2.638058 & 1 & 0 & 0 & 0 & 0 & 1 & 0 & 0 & 1 & 0 &  7.0 &  0.4900 &  0.343000 &   0.2401000 & 3820 & 12 & 9590 & NA\\\\\n",
       "\t 15.865385 & 2.764140 & 0 & 0 & 0 & 0 & 0 & 1 & 0 & 0 & 1 & 0 &  2.0 &  0.0400 &  0.008000 &   0.0016000 & 2200 &  8 & 7870 & NA\\\\\n",
       "\t 38.461538 & 3.649659 & 1 & 0 & 0 & 1 & 0 & 0 & 0 & 0 & 1 & 0 &  7.5 &  0.5625 &  0.421875 &   0.3164062 &  220 &  1 &  770 & NA\\\\\n",
       "\t 28.846154 & 3.361977 & 0 & 0 & 0 & 0 & 1 & 0 & 0 & 0 & 1 & 0 &  5.0 &  0.2500 &  0.125000 &   0.0625000 & 1360 &  4 &  770 & NA\\\\\n",
       "\t 24.475524 & 3.197674 & 1 & 0 & 0 & 0 & 0 & 1 & 0 & 0 & 1 & 0 & 24.0 &  5.7600 & 13.824000 &  33.1776000 & 2310 &  8 & 7860 & NA\\\\\n",
       "\t 27.884615 & 3.328075 & 0 & 0 & 0 & 1 & 0 & 0 & 0 & 0 & 1 & 0 & 28.5 &  8.1225 & 23.149125 &  65.9750063 & 8140 & 21 &  770 & NA\\\\\n",
       "\t  8.653846 & 2.158004 & 1 & 0 & 1 & 0 & 0 & 0 & 0 & 0 & 1 & 0 & 25.0 &  6.2500 & 15.625000 &  39.0625000 & 3930 & 12 & 7680 & NA\\\\\n",
       "\t 12.019231 & 2.486508 & 0 & 0 & 1 & 0 & 0 & 0 & 0 & 0 & 1 & 0 & 19.0 &  3.6100 &  6.859000 &  13.0321000 & 2750 &  9 & 8560 & NA\\\\\n",
       "\t 38.461538 & 3.649659 & 0 & 0 & 0 & 0 & 1 & 0 & 0 & 0 & 1 & 0 &  8.0 &  0.6400 &  0.512000 &   0.4096000 &  710 &  2 & 6870 & NA\\\\\n",
       "\t 12.500000 & 2.525729 & 1 & 0 & 1 & 0 & 0 & 0 & 0 & 0 & 1 & 0 & 12.0 &  1.4400 &  1.728000 &   2.0736000 & 4010 & 13 & 8680 & NA\\\\\n",
       "\t 35.256410 & 3.562647 & 0 & 0 & 0 & 0 & 0 & 1 & 0 & 0 & 1 & 0 &  6.0 &  0.3600 &  0.216000 &   0.1296000 & 2320 &  8 & 7860 & NA\\\\\n",
       "\t 48.076923 & 3.872802 & 1 & 0 & 0 & 0 & 1 & 0 & 0 & 0 & 1 & 0 & 25.0 &  6.2500 & 15.625000 &  39.0625000 & 3255 & 10 & 8170 & NA\\\\\n",
       "\t  9.615385 & 2.263364 & 0 & 0 & 1 & 0 & 0 & 0 & 0 & 0 & 1 & 0 & 20.0 &  4.0000 &  8.000000 &  16.0000000 & 4110 & 13 & 8680 & NA\\\\\n",
       "\t 12.019231 & 2.486508 & 0 & 0 & 1 & 0 & 0 & 0 & 0 & 0 & 1 & 0 & 17.0 &  2.8900 &  4.913000 &   8.3521000 & 9620 & 22 & 6290 & NA\\\\\n",
       "\t 12.019231 & 2.486508 & 0 & 0 & 0 & 1 & 0 & 0 & 0 & 0 & 1 & 0 & 31.5 &  9.9225 & 31.255875 &  98.4560063 & 5510 & 17 & 6380 & NA\\\\\n",
       "\t 12.980769 & 2.563469 & 0 & 0 & 1 & 0 & 0 & 0 & 0 & 0 & 1 & 0 & 15.0 &  2.2500 &  3.375000 &   5.0625000 & 2010 &  6 & 9370 & NA\\\\\n",
       "\t 26.442308 & 3.274965 & 1 & 0 & 0 & 0 & 1 & 0 & 0 & 0 & 1 & 0 & 34.0 & 11.5600 & 39.304000 & 133.6336000 & 2310 &  8 & 7860 & NA\\\\\n",
       "\t 13.461538 & 2.599837 & 1 & 0 & 1 & 0 & 0 & 0 & 0 & 0 & 1 & 0 &  8.0 &  0.6400 &  0.512000 &   0.4096000 & 4720 & 16 & 8590 & NA\\\\\n",
       "\t 19.711538 & 2.981204 & 1 & 0 & 0 & 0 & 0 & 1 & 0 & 0 & 1 & 0 &  8.0 &  0.6400 &  0.512000 &   0.4096000 & 2000 &  6 & 8090 & NA\\\\\n",
       "\t 21.153846 & 3.051822 & 0 & 0 & 0 & 0 & 1 & 0 & 0 & 0 & 1 & 0 & 28.0 &  7.8400 & 21.952000 &  61.4656000 &   40 &  1 & 9170 & NA\\\\\n",
       "\t 45.546559 & 3.818735 & 1 & 0 & 0 & 0 & 1 & 0 & 0 & 0 & 1 & 0 &  5.0 &  0.2500 &  0.125000 &   0.0625000 & 3255 & 10 & 8190 & NA\\\\\n",
       "\t 22.596154 & 3.117780 & 0 & 0 & 1 & 0 & 0 & 0 & 0 & 0 & 1 & 0 & 15.0 &  2.2500 &  3.375000 &   5.0625000 & 9620 & 22 & 5390 & NA\\\\\n",
       "\t 16.826923 & 2.822980 & 0 & 0 & 1 & 0 & 0 & 0 & 0 & 0 & 1 & 0 & 11.0 &  1.2100 &  1.331000 &   1.4641000 & 7150 & 20 & 8770 & NA\\\\\n",
       "\t 24.038462 & 3.179655 & 1 & 0 & 0 & 0 & 1 & 0 & 0 & 0 & 1 & 0 & 17.0 &  2.8900 &  4.913000 &   8.3521000 & 2550 &  8 & 9480 & NA\\\\\n",
       "\t 13.846154 & 2.628007 & 0 & 0 & 0 & 0 & 1 & 0 & 0 & 0 & 1 & 0 & 10.0 &  1.0000 &  1.000000 &   1.0000000 &  800 &  2 &  770 & NA\\\\\n",
       "\t 14.769231 & 2.692546 & 0 & 0 & 0 & 0 & 1 & 0 & 0 & 0 & 1 & 0 &  9.0 &  0.8100 &  0.729000 &   0.6561000 & 4700 & 16 & 4970 & NA\\\\\n",
       "\t 23.076923 & 3.138833 & 1 & 0 & 0 & 1 & 0 & 0 & 0 & 0 & 1 & 0 & 12.0 &  1.4400 &  1.728000 &   2.0736000 & 4110 & 13 & 8680 & NA\\\\\n",
       "\t 38.461538 & 3.649659 & 0 & 0 & 0 & 0 & 0 & 1 & 0 & 0 & 1 & 0 & 11.0 &  1.2100 &  1.331000 &   1.4641000 & 1550 &  4 & 3680 & NA\\\\\n",
       "\t 32.967033 & 3.495508 & 0 & 0 & 1 & 0 & 0 & 0 & 0 & 0 & 1 & 0 & 10.0 &  1.0000 &  1.000000 &   1.0000000 & 2920 &  9 & 6570 & NA\\\\\n",
       "\t 17.307692 & 2.851151 & 0 & 0 & 0 & 0 & 0 & 1 & 0 & 0 & 1 & 0 & 14.0 &  1.9600 &  2.744000 &   3.8416000 & 1610 &  5 & 7460 & NA\\\\\n",
       "\\end{tabular}\n"
      ],
      "text/markdown": [
       "\n",
       "A data.frame: 5150 × 20\n",
       "\n",
       "| salario &lt;dbl&gt; | lwage &lt;dbl&gt; | sex &lt;int&gt; | shs &lt;int&gt; | hsg &lt;int&gt; | scl &lt;int&gt; | clg &lt;int&gt; | ad &lt;int&gt; | mw &lt;int&gt; | so &lt;int&gt; | we &lt;int&gt; | ne &lt;int&gt; | exp1 &lt;dbl&gt; | exp2 &lt;dbl&gt; | exp3 &lt;dbl&gt; | exp4 &lt;dbl&gt; | occ &lt;dbl&gt; | occ2 &lt;int&gt; | ind &lt;dbl&gt; | dummy &lt;chr&gt; |\n",
       "|---|---|---|---|---|---|---|---|---|---|---|---|---|---|---|---|---|---|---|---|\n",
       "|  9.615385 | 2.263364 | 1 | 0 | 0 | 0 | 1 | 0 | 0 | 0 | 0 | 1 |  7.0 |  0.4900 |  0.343000 |   0.24010000 | 3600 | 11 | 8370 | NA |\n",
       "| 48.076923 | 3.872802 | 0 | 0 | 0 | 0 | 1 | 0 | 0 | 0 | 0 | 1 | 31.0 |  9.6100 | 29.791000 |  92.35210000 | 3050 | 10 | 5070 | NA |\n",
       "| 11.057692 | 2.403126 | 0 | 0 | 1 | 0 | 0 | 0 | 0 | 0 | 0 | 1 | 18.0 |  3.2400 |  5.832000 |  10.49760000 | 6260 | 19 |  770 | NA |\n",
       "| 13.942308 | 2.634928 | 1 | 0 | 0 | 0 | 0 | 1 | 0 | 0 | 0 | 1 | 25.0 |  6.2500 | 15.625000 |  39.06250000 |  420 |  1 | 6990 | NA |\n",
       "| 28.846154 | 3.361977 | 1 | 0 | 0 | 0 | 1 | 0 | 0 | 0 | 0 | 1 | 22.0 |  4.8400 | 10.648000 |  23.42560000 | 2015 |  6 | 9470 | NA |\n",
       "| 11.730769 | 2.462215 | 1 | 0 | 0 | 0 | 1 | 0 | 0 | 0 | 0 | 1 |  1.0 |  0.0100 |  0.001000 |   0.00010000 | 1650 |  5 | 7460 | NA |\n",
       "| 19.230769 | 2.956512 | 1 | 0 | 1 | 0 | 0 | 0 | 0 | 0 | 0 | 1 | 42.0 | 17.6400 | 74.088000 | 311.16960000 | 5120 | 17 | 7280 | NA |\n",
       "| 19.230769 | 2.956512 | 0 | 0 | 1 | 0 | 0 | 0 | 0 | 0 | 0 | 1 | 37.0 | 13.6900 | 50.653000 | 187.41610000 | 5240 | 17 | 5680 | NA |\n",
       "| 12.000000 | 2.484907 | 1 | 0 | 1 | 0 | 0 | 0 | 0 | 0 | 0 | 1 | 31.0 |  9.6100 | 29.791000 |  92.35210000 | 4040 | 13 | 8590 | NA |\n",
       "| 19.230769 | 2.956512 | 1 | 0 | 0 | 0 | 1 | 0 | 0 | 0 | 0 | 1 |  4.0 |  0.1600 |  0.064000 |   0.02560000 | 3255 | 10 | 8190 | NA |\n",
       "| 17.307692 | 2.851151 | 1 | 0 | 1 | 0 | 0 | 0 | 0 | 0 | 0 | 1 |  7.0 |  0.4900 |  0.343000 |   0.24010000 | 4020 | 13 | 8270 | NA |\n",
       "| 12.019231 | 2.486508 | 0 | 0 | 1 | 0 | 0 | 0 | 0 | 0 | 0 | 1 | 30.0 |  9.0000 | 27.000000 |  81.00000000 | 4220 | 14 | 8270 | NA |\n",
       "| 12.019231 | 2.486508 | 1 | 0 | 0 | 1 | 0 | 0 | 0 | 0 | 0 | 1 |  5.5 |  0.3025 |  0.166375 |   0.09150625 | 3600 | 11 | 8270 | NA |\n",
       "| 13.461538 | 2.599837 | 1 | 0 | 0 | 1 | 0 | 0 | 0 | 0 | 0 | 1 | 20.5 |  4.2025 |  8.615125 |  17.66100625 | 3645 | 11 | 8190 | NA |\n",
       "| 16.346154 | 2.793993 | 1 | 0 | 0 | 0 | 1 | 0 | 0 | 0 | 0 | 1 | 25.0 |  6.2500 | 15.625000 |  39.06250000 |  110 |  1 | 7870 | NA |\n",
       "| 27.884615 | 3.328075 | 0 | 0 | 1 | 0 | 0 | 0 | 0 | 0 | 0 | 1 | 16.0 |  2.5600 |  4.096000 |   6.55360000 | 6355 | 19 |  770 | NA |\n",
       "| 21.600000 | 3.072693 | 0 | 0 | 1 | 0 | 0 | 0 | 0 | 0 | 0 | 1 | 27.0 |  7.2900 | 19.683000 |  53.14410000 | 6320 | 19 |  770 | NA |\n",
       "|  8.653846 | 2.158004 | 0 | 0 | 0 | 1 | 0 | 0 | 0 | 0 | 0 | 1 |  3.5 |  0.1225 |  0.042875 |   0.01500625 | 7410 | 20 |  570 | NA |\n",
       "| 19.230769 | 2.956512 | 0 | 0 | 1 | 0 | 0 | 0 | 0 | 0 | 0 | 1 |  6.0 |  0.3600 |  0.216000 |   0.12960000 | 7000 | 20 | 4690 | NA |\n",
       "| 13.186813 | 2.579217 | 0 | 0 | 1 | 0 | 0 | 0 | 0 | 0 | 0 | 1 |  8.0 |  0.6400 |  0.512000 |   0.40960000 | 4000 | 13 | 8680 | NA |\n",
       "| 10.683761 | 2.368725 | 1 | 0 | 0 | 1 | 0 | 0 | 0 | 0 | 0 | 1 |  6.5 |  0.4225 |  0.274625 |   0.17850625 | 4300 | 15 | 8590 | NA |\n",
       "| 11.538462 | 2.445686 | 1 | 0 | 0 | 1 | 0 | 0 | 0 | 0 | 0 | 1 |  8.5 |  0.7225 |  0.614125 |   0.52200625 | 3600 | 11 | 8190 | NA |\n",
       "| 17.788462 | 2.878550 | 1 | 0 | 0 | 0 | 0 | 1 | 0 | 0 | 0 | 1 | 11.0 |  1.2100 |  1.331000 |   1.46410000 | 2310 |  8 | 7860 | NA |\n",
       "| 19.230769 | 2.956512 | 0 | 0 | 0 | 0 | 1 | 0 | 0 | 0 | 0 | 1 | 11.0 |  1.2100 |  1.331000 |   1.46410000 | 6200 | 19 |  770 | NA |\n",
       "| 16.304348 | 2.791432 | 1 | 0 | 0 | 1 | 0 | 0 | 0 | 0 | 0 | 1 | 24.5 |  6.0025 | 14.706125 |  36.03000625 |   20 |  1 | 5480 | NA |\n",
       "| 19.230769 | 2.956512 | 0 | 0 | 1 | 0 | 0 | 0 | 0 | 0 | 0 | 1 |  8.0 |  0.6400 |  0.512000 |   0.40960000 | 4800 | 16 | 7390 | NA |\n",
       "| 14.423077 | 2.668829 | 1 | 0 | 1 | 0 | 0 | 0 | 0 | 0 | 0 | 1 |  5.0 |  0.2500 |  0.125000 |   0.06250000 |  430 |  1 | 7390 | NA |\n",
       "| 12.000000 | 2.484907 | 0 | 0 | 0 | 1 | 0 | 0 | 0 | 0 | 0 | 1 |  4.5 |  0.2025 |  0.091125 |   0.04100625 | 6330 | 19 |  770 | NA |\n",
       "| 16.826923 | 2.822980 | 0 | 0 | 0 | 0 | 1 | 0 | 0 | 0 | 0 | 1 |  8.0 |  0.6400 |  0.512000 |   0.40960000 | 5400 | 17 | 4870 | NA |\n",
       "| 19.670330 | 2.979111 | 0 | 0 | 0 | 0 | 1 | 0 | 0 | 0 | 0 | 1 | 26.0 |  6.7600 | 17.576000 |  45.69760000 | 6230 | 19 | 6570 | NA |\n",
       "| ... | ... | ... | ... | ... | ... | ... | ... | ... | ... | ... | ... | ... | ... | ... | ... | ... | ... | ... | ... |\n",
       "| 13.986014 | 2.638058 | 1 | 0 | 0 | 0 | 0 | 1 | 0 | 0 | 1 | 0 |  7.0 |  0.4900 |  0.343000 |   0.2401000 | 3820 | 12 | 9590 | NA |\n",
       "| 15.865385 | 2.764140 | 0 | 0 | 0 | 0 | 0 | 1 | 0 | 0 | 1 | 0 |  2.0 |  0.0400 |  0.008000 |   0.0016000 | 2200 |  8 | 7870 | NA |\n",
       "| 38.461538 | 3.649659 | 1 | 0 | 0 | 1 | 0 | 0 | 0 | 0 | 1 | 0 |  7.5 |  0.5625 |  0.421875 |   0.3164062 |  220 |  1 |  770 | NA |\n",
       "| 28.846154 | 3.361977 | 0 | 0 | 0 | 0 | 1 | 0 | 0 | 0 | 1 | 0 |  5.0 |  0.2500 |  0.125000 |   0.0625000 | 1360 |  4 |  770 | NA |\n",
       "| 24.475524 | 3.197674 | 1 | 0 | 0 | 0 | 0 | 1 | 0 | 0 | 1 | 0 | 24.0 |  5.7600 | 13.824000 |  33.1776000 | 2310 |  8 | 7860 | NA |\n",
       "| 27.884615 | 3.328075 | 0 | 0 | 0 | 1 | 0 | 0 | 0 | 0 | 1 | 0 | 28.5 |  8.1225 | 23.149125 |  65.9750063 | 8140 | 21 |  770 | NA |\n",
       "|  8.653846 | 2.158004 | 1 | 0 | 1 | 0 | 0 | 0 | 0 | 0 | 1 | 0 | 25.0 |  6.2500 | 15.625000 |  39.0625000 | 3930 | 12 | 7680 | NA |\n",
       "| 12.019231 | 2.486508 | 0 | 0 | 1 | 0 | 0 | 0 | 0 | 0 | 1 | 0 | 19.0 |  3.6100 |  6.859000 |  13.0321000 | 2750 |  9 | 8560 | NA |\n",
       "| 38.461538 | 3.649659 | 0 | 0 | 0 | 0 | 1 | 0 | 0 | 0 | 1 | 0 |  8.0 |  0.6400 |  0.512000 |   0.4096000 |  710 |  2 | 6870 | NA |\n",
       "| 12.500000 | 2.525729 | 1 | 0 | 1 | 0 | 0 | 0 | 0 | 0 | 1 | 0 | 12.0 |  1.4400 |  1.728000 |   2.0736000 | 4010 | 13 | 8680 | NA |\n",
       "| 35.256410 | 3.562647 | 0 | 0 | 0 | 0 | 0 | 1 | 0 | 0 | 1 | 0 |  6.0 |  0.3600 |  0.216000 |   0.1296000 | 2320 |  8 | 7860 | NA |\n",
       "| 48.076923 | 3.872802 | 1 | 0 | 0 | 0 | 1 | 0 | 0 | 0 | 1 | 0 | 25.0 |  6.2500 | 15.625000 |  39.0625000 | 3255 | 10 | 8170 | NA |\n",
       "|  9.615385 | 2.263364 | 0 | 0 | 1 | 0 | 0 | 0 | 0 | 0 | 1 | 0 | 20.0 |  4.0000 |  8.000000 |  16.0000000 | 4110 | 13 | 8680 | NA |\n",
       "| 12.019231 | 2.486508 | 0 | 0 | 1 | 0 | 0 | 0 | 0 | 0 | 1 | 0 | 17.0 |  2.8900 |  4.913000 |   8.3521000 | 9620 | 22 | 6290 | NA |\n",
       "| 12.019231 | 2.486508 | 0 | 0 | 0 | 1 | 0 | 0 | 0 | 0 | 1 | 0 | 31.5 |  9.9225 | 31.255875 |  98.4560063 | 5510 | 17 | 6380 | NA |\n",
       "| 12.980769 | 2.563469 | 0 | 0 | 1 | 0 | 0 | 0 | 0 | 0 | 1 | 0 | 15.0 |  2.2500 |  3.375000 |   5.0625000 | 2010 |  6 | 9370 | NA |\n",
       "| 26.442308 | 3.274965 | 1 | 0 | 0 | 0 | 1 | 0 | 0 | 0 | 1 | 0 | 34.0 | 11.5600 | 39.304000 | 133.6336000 | 2310 |  8 | 7860 | NA |\n",
       "| 13.461538 | 2.599837 | 1 | 0 | 1 | 0 | 0 | 0 | 0 | 0 | 1 | 0 |  8.0 |  0.6400 |  0.512000 |   0.4096000 | 4720 | 16 | 8590 | NA |\n",
       "| 19.711538 | 2.981204 | 1 | 0 | 0 | 0 | 0 | 1 | 0 | 0 | 1 | 0 |  8.0 |  0.6400 |  0.512000 |   0.4096000 | 2000 |  6 | 8090 | NA |\n",
       "| 21.153846 | 3.051822 | 0 | 0 | 0 | 0 | 1 | 0 | 0 | 0 | 1 | 0 | 28.0 |  7.8400 | 21.952000 |  61.4656000 |   40 |  1 | 9170 | NA |\n",
       "| 45.546559 | 3.818735 | 1 | 0 | 0 | 0 | 1 | 0 | 0 | 0 | 1 | 0 |  5.0 |  0.2500 |  0.125000 |   0.0625000 | 3255 | 10 | 8190 | NA |\n",
       "| 22.596154 | 3.117780 | 0 | 0 | 1 | 0 | 0 | 0 | 0 | 0 | 1 | 0 | 15.0 |  2.2500 |  3.375000 |   5.0625000 | 9620 | 22 | 5390 | NA |\n",
       "| 16.826923 | 2.822980 | 0 | 0 | 1 | 0 | 0 | 0 | 0 | 0 | 1 | 0 | 11.0 |  1.2100 |  1.331000 |   1.4641000 | 7150 | 20 | 8770 | NA |\n",
       "| 24.038462 | 3.179655 | 1 | 0 | 0 | 0 | 1 | 0 | 0 | 0 | 1 | 0 | 17.0 |  2.8900 |  4.913000 |   8.3521000 | 2550 |  8 | 9480 | NA |\n",
       "| 13.846154 | 2.628007 | 0 | 0 | 0 | 0 | 1 | 0 | 0 | 0 | 1 | 0 | 10.0 |  1.0000 |  1.000000 |   1.0000000 |  800 |  2 |  770 | NA |\n",
       "| 14.769231 | 2.692546 | 0 | 0 | 0 | 0 | 1 | 0 | 0 | 0 | 1 | 0 |  9.0 |  0.8100 |  0.729000 |   0.6561000 | 4700 | 16 | 4970 | NA |\n",
       "| 23.076923 | 3.138833 | 1 | 0 | 0 | 1 | 0 | 0 | 0 | 0 | 1 | 0 | 12.0 |  1.4400 |  1.728000 |   2.0736000 | 4110 | 13 | 8680 | NA |\n",
       "| 38.461538 | 3.649659 | 0 | 0 | 0 | 0 | 0 | 1 | 0 | 0 | 1 | 0 | 11.0 |  1.2100 |  1.331000 |   1.4641000 | 1550 |  4 | 3680 | NA |\n",
       "| 32.967033 | 3.495508 | 0 | 0 | 1 | 0 | 0 | 0 | 0 | 0 | 1 | 0 | 10.0 |  1.0000 |  1.000000 |   1.0000000 | 2920 |  9 | 6570 | NA |\n",
       "| 17.307692 | 2.851151 | 0 | 0 | 0 | 0 | 0 | 1 | 0 | 0 | 1 | 0 | 14.0 |  1.9600 |  2.744000 |   3.8416000 | 1610 |  5 | 7460 | NA |\n",
       "\n"
      ],
      "text/plain": [
       "     salario   lwage    sex shs hsg scl clg ad  mw  so  we  ne  exp1 exp2   \n",
       "1     9.615385 2.263364 1   0   0   0   1   0   0   0   0   1    7.0  0.4900\n",
       "2    48.076923 3.872802 0   0   0   0   1   0   0   0   0   1   31.0  9.6100\n",
       "3    11.057692 2.403126 0   0   1   0   0   0   0   0   0   1   18.0  3.2400\n",
       "4    13.942308 2.634928 1   0   0   0   0   1   0   0   0   1   25.0  6.2500\n",
       "5    28.846154 3.361977 1   0   0   0   1   0   0   0   0   1   22.0  4.8400\n",
       "6    11.730769 2.462215 1   0   0   0   1   0   0   0   0   1    1.0  0.0100\n",
       "7    19.230769 2.956512 1   0   1   0   0   0   0   0   0   1   42.0 17.6400\n",
       "8    19.230769 2.956512 0   0   1   0   0   0   0   0   0   1   37.0 13.6900\n",
       "9    12.000000 2.484907 1   0   1   0   0   0   0   0   0   1   31.0  9.6100\n",
       "10   19.230769 2.956512 1   0   0   0   1   0   0   0   0   1    4.0  0.1600\n",
       "11   17.307692 2.851151 1   0   1   0   0   0   0   0   0   1    7.0  0.4900\n",
       "12   12.019231 2.486508 0   0   1   0   0   0   0   0   0   1   30.0  9.0000\n",
       "13   12.019231 2.486508 1   0   0   1   0   0   0   0   0   1    5.5  0.3025\n",
       "14   13.461538 2.599837 1   0   0   1   0   0   0   0   0   1   20.5  4.2025\n",
       "15   16.346154 2.793993 1   0   0   0   1   0   0   0   0   1   25.0  6.2500\n",
       "16   27.884615 3.328075 0   0   1   0   0   0   0   0   0   1   16.0  2.5600\n",
       "17   21.600000 3.072693 0   0   1   0   0   0   0   0   0   1   27.0  7.2900\n",
       "18    8.653846 2.158004 0   0   0   1   0   0   0   0   0   1    3.5  0.1225\n",
       "19   19.230769 2.956512 0   0   1   0   0   0   0   0   0   1    6.0  0.3600\n",
       "20   13.186813 2.579217 0   0   1   0   0   0   0   0   0   1    8.0  0.6400\n",
       "21   10.683761 2.368725 1   0   0   1   0   0   0   0   0   1    6.5  0.4225\n",
       "22   11.538462 2.445686 1   0   0   1   0   0   0   0   0   1    8.5  0.7225\n",
       "23   17.788462 2.878550 1   0   0   0   0   1   0   0   0   1   11.0  1.2100\n",
       "24   19.230769 2.956512 0   0   0   0   1   0   0   0   0   1   11.0  1.2100\n",
       "25   16.304348 2.791432 1   0   0   1   0   0   0   0   0   1   24.5  6.0025\n",
       "26   19.230769 2.956512 0   0   1   0   0   0   0   0   0   1    8.0  0.6400\n",
       "27   14.423077 2.668829 1   0   1   0   0   0   0   0   0   1    5.0  0.2500\n",
       "28   12.000000 2.484907 0   0   0   1   0   0   0   0   0   1    4.5  0.2025\n",
       "29   16.826923 2.822980 0   0   0   0   1   0   0   0   0   1    8.0  0.6400\n",
       "30   19.670330 2.979111 0   0   0   0   1   0   0   0   0   1   26.0  6.7600\n",
       "...  ...       ...      ... ... ... ... ... ... ... ... ... ... ...  ...    \n",
       "5121 13.986014 2.638058 1   0   0   0   0   1   0   0   1   0    7.0  0.4900\n",
       "5122 15.865385 2.764140 0   0   0   0   0   1   0   0   1   0    2.0  0.0400\n",
       "5123 38.461538 3.649659 1   0   0   1   0   0   0   0   1   0    7.5  0.5625\n",
       "5124 28.846154 3.361977 0   0   0   0   1   0   0   0   1   0    5.0  0.2500\n",
       "5125 24.475524 3.197674 1   0   0   0   0   1   0   0   1   0   24.0  5.7600\n",
       "5126 27.884615 3.328075 0   0   0   1   0   0   0   0   1   0   28.5  8.1225\n",
       "5127  8.653846 2.158004 1   0   1   0   0   0   0   0   1   0   25.0  6.2500\n",
       "5128 12.019231 2.486508 0   0   1   0   0   0   0   0   1   0   19.0  3.6100\n",
       "5129 38.461538 3.649659 0   0   0   0   1   0   0   0   1   0    8.0  0.6400\n",
       "5130 12.500000 2.525729 1   0   1   0   0   0   0   0   1   0   12.0  1.4400\n",
       "5131 35.256410 3.562647 0   0   0   0   0   1   0   0   1   0    6.0  0.3600\n",
       "5132 48.076923 3.872802 1   0   0   0   1   0   0   0   1   0   25.0  6.2500\n",
       "5133  9.615385 2.263364 0   0   1   0   0   0   0   0   1   0   20.0  4.0000\n",
       "5134 12.019231 2.486508 0   0   1   0   0   0   0   0   1   0   17.0  2.8900\n",
       "5135 12.019231 2.486508 0   0   0   1   0   0   0   0   1   0   31.5  9.9225\n",
       "5136 12.980769 2.563469 0   0   1   0   0   0   0   0   1   0   15.0  2.2500\n",
       "5137 26.442308 3.274965 1   0   0   0   1   0   0   0   1   0   34.0 11.5600\n",
       "5138 13.461538 2.599837 1   0   1   0   0   0   0   0   1   0    8.0  0.6400\n",
       "5139 19.711538 2.981204 1   0   0   0   0   1   0   0   1   0    8.0  0.6400\n",
       "5140 21.153846 3.051822 0   0   0   0   1   0   0   0   1   0   28.0  7.8400\n",
       "5141 45.546559 3.818735 1   0   0   0   1   0   0   0   1   0    5.0  0.2500\n",
       "5142 22.596154 3.117780 0   0   1   0   0   0   0   0   1   0   15.0  2.2500\n",
       "5143 16.826923 2.822980 0   0   1   0   0   0   0   0   1   0   11.0  1.2100\n",
       "5144 24.038462 3.179655 1   0   0   0   1   0   0   0   1   0   17.0  2.8900\n",
       "5145 13.846154 2.628007 0   0   0   0   1   0   0   0   1   0   10.0  1.0000\n",
       "5146 14.769231 2.692546 0   0   0   0   1   0   0   0   1   0    9.0  0.8100\n",
       "5147 23.076923 3.138833 1   0   0   1   0   0   0   0   1   0   12.0  1.4400\n",
       "5148 38.461538 3.649659 0   0   0   0   0   1   0   0   1   0   11.0  1.2100\n",
       "5149 32.967033 3.495508 0   0   1   0   0   0   0   0   1   0   10.0  1.0000\n",
       "5150 17.307692 2.851151 0   0   0   0   0   1   0   0   1   0   14.0  1.9600\n",
       "     exp3      exp4         occ  occ2 ind  dummy\n",
       "1     0.343000   0.24010000 3600 11   8370 NA   \n",
       "2    29.791000  92.35210000 3050 10   5070 NA   \n",
       "3     5.832000  10.49760000 6260 19    770 NA   \n",
       "4    15.625000  39.06250000  420  1   6990 NA   \n",
       "5    10.648000  23.42560000 2015  6   9470 NA   \n",
       "6     0.001000   0.00010000 1650  5   7460 NA   \n",
       "7    74.088000 311.16960000 5120 17   7280 NA   \n",
       "8    50.653000 187.41610000 5240 17   5680 NA   \n",
       "9    29.791000  92.35210000 4040 13   8590 NA   \n",
       "10    0.064000   0.02560000 3255 10   8190 NA   \n",
       "11    0.343000   0.24010000 4020 13   8270 NA   \n",
       "12   27.000000  81.00000000 4220 14   8270 NA   \n",
       "13    0.166375   0.09150625 3600 11   8270 NA   \n",
       "14    8.615125  17.66100625 3645 11   8190 NA   \n",
       "15   15.625000  39.06250000  110  1   7870 NA   \n",
       "16    4.096000   6.55360000 6355 19    770 NA   \n",
       "17   19.683000  53.14410000 6320 19    770 NA   \n",
       "18    0.042875   0.01500625 7410 20    570 NA   \n",
       "19    0.216000   0.12960000 7000 20   4690 NA   \n",
       "20    0.512000   0.40960000 4000 13   8680 NA   \n",
       "21    0.274625   0.17850625 4300 15   8590 NA   \n",
       "22    0.614125   0.52200625 3600 11   8190 NA   \n",
       "23    1.331000   1.46410000 2310  8   7860 NA   \n",
       "24    1.331000   1.46410000 6200 19    770 NA   \n",
       "25   14.706125  36.03000625   20  1   5480 NA   \n",
       "26    0.512000   0.40960000 4800 16   7390 NA   \n",
       "27    0.125000   0.06250000  430  1   7390 NA   \n",
       "28    0.091125   0.04100625 6330 19    770 NA   \n",
       "29    0.512000   0.40960000 5400 17   4870 NA   \n",
       "30   17.576000  45.69760000 6230 19   6570 NA   \n",
       "...  ...       ...          ...  ...  ...  ...  \n",
       "5121  0.343000   0.2401000  3820 12   9590 NA   \n",
       "5122  0.008000   0.0016000  2200  8   7870 NA   \n",
       "5123  0.421875   0.3164062   220  1    770 NA   \n",
       "5124  0.125000   0.0625000  1360  4    770 NA   \n",
       "5125 13.824000  33.1776000  2310  8   7860 NA   \n",
       "5126 23.149125  65.9750063  8140 21    770 NA   \n",
       "5127 15.625000  39.0625000  3930 12   7680 NA   \n",
       "5128  6.859000  13.0321000  2750  9   8560 NA   \n",
       "5129  0.512000   0.4096000   710  2   6870 NA   \n",
       "5130  1.728000   2.0736000  4010 13   8680 NA   \n",
       "5131  0.216000   0.1296000  2320  8   7860 NA   \n",
       "5132 15.625000  39.0625000  3255 10   8170 NA   \n",
       "5133  8.000000  16.0000000  4110 13   8680 NA   \n",
       "5134  4.913000   8.3521000  9620 22   6290 NA   \n",
       "5135 31.255875  98.4560063  5510 17   6380 NA   \n",
       "5136  3.375000   5.0625000  2010  6   9370 NA   \n",
       "5137 39.304000 133.6336000  2310  8   7860 NA   \n",
       "5138  0.512000   0.4096000  4720 16   8590 NA   \n",
       "5139  0.512000   0.4096000  2000  6   8090 NA   \n",
       "5140 21.952000  61.4656000    40  1   9170 NA   \n",
       "5141  0.125000   0.0625000  3255 10   8190 NA   \n",
       "5142  3.375000   5.0625000  9620 22   5390 NA   \n",
       "5143  1.331000   1.4641000  7150 20   8770 NA   \n",
       "5144  4.913000   8.3521000  2550  8   9480 NA   \n",
       "5145  1.000000   1.0000000   800  2    770 NA   \n",
       "5146  0.729000   0.6561000  4700 16   4970 NA   \n",
       "5147  1.728000   2.0736000  4110 13   8680 NA   \n",
       "5148  1.331000   1.4641000  1550  4   3680 NA   \n",
       "5149  1.000000   1.0000000  2920  9   6570 NA   \n",
       "5150  2.744000   3.8416000  1610  5   7460 NA   "
      ]
     },
     "metadata": {},
     "output_type": "display_data"
    }
   ],
   "source": [
    "base1$dummy = \"NA\"\n",
    "base1"
   ]
  },
  {
   "cell_type": "code",
   "execution_count": 64,
   "metadata": {
    "scrolled": true
   },
   "outputs": [
    {
     "data": {
      "text/html": [
       "<table class=\"dataframe\">\n",
       "<caption>A data.frame: 5150 × 20</caption>\n",
       "<thead>\n",
       "\t<tr><th scope=col>salario</th><th scope=col>lwage</th><th scope=col>sex</th><th scope=col>shs</th><th scope=col>hsg</th><th scope=col>scl</th><th scope=col>clg</th><th scope=col>ad</th><th scope=col>mw</th><th scope=col>so</th><th scope=col>we</th><th scope=col>ne</th><th scope=col>exp1</th><th scope=col>exp2</th><th scope=col>exp3</th><th scope=col>exp4</th><th scope=col>occ</th><th scope=col>occ2</th><th scope=col>ind</th><th scope=col>dummy</th></tr>\n",
       "\t<tr><th scope=col>&lt;dbl&gt;</th><th scope=col>&lt;dbl&gt;</th><th scope=col>&lt;int&gt;</th><th scope=col>&lt;int&gt;</th><th scope=col>&lt;int&gt;</th><th scope=col>&lt;int&gt;</th><th scope=col>&lt;int&gt;</th><th scope=col>&lt;int&gt;</th><th scope=col>&lt;int&gt;</th><th scope=col>&lt;int&gt;</th><th scope=col>&lt;int&gt;</th><th scope=col>&lt;int&gt;</th><th scope=col>&lt;dbl&gt;</th><th scope=col>&lt;dbl&gt;</th><th scope=col>&lt;dbl&gt;</th><th scope=col>&lt;dbl&gt;</th><th scope=col>&lt;dbl&gt;</th><th scope=col>&lt;int&gt;</th><th scope=col>&lt;dbl&gt;</th><th scope=col>&lt;chr&gt;</th></tr>\n",
       "</thead>\n",
       "<tbody>\n",
       "\t<tr><td> 9.615385</td><td>2.263364</td><td>1</td><td>0</td><td>0</td><td>0</td><td>1</td><td>0</td><td>0</td><td>0</td><td>0</td><td>1</td><td> 7.0</td><td> 0.4900</td><td> 0.343000</td><td>  0.24010000</td><td>3600</td><td>11</td><td>8370</td><td>NA</td></tr>\n",
       "\t<tr><td>48.076923</td><td>3.872802</td><td>0</td><td>0</td><td>0</td><td>0</td><td>1</td><td>0</td><td>0</td><td>0</td><td>0</td><td>1</td><td>31.0</td><td> 9.6100</td><td>29.791000</td><td> 92.35210000</td><td>3050</td><td>10</td><td>5070</td><td>1 </td></tr>\n",
       "\t<tr><td>11.057692</td><td>2.403126</td><td>0</td><td>0</td><td>1</td><td>0</td><td>0</td><td>0</td><td>0</td><td>0</td><td>0</td><td>1</td><td>18.0</td><td> 3.2400</td><td> 5.832000</td><td> 10.49760000</td><td>6260</td><td>19</td><td> 770</td><td>1 </td></tr>\n",
       "\t<tr><td>13.942308</td><td>2.634928</td><td>1</td><td>0</td><td>0</td><td>0</td><td>0</td><td>1</td><td>0</td><td>0</td><td>0</td><td>1</td><td>25.0</td><td> 6.2500</td><td>15.625000</td><td> 39.06250000</td><td> 420</td><td> 1</td><td>6990</td><td>1 </td></tr>\n",
       "\t<tr><td>28.846154</td><td>3.361977</td><td>1</td><td>0</td><td>0</td><td>0</td><td>1</td><td>0</td><td>0</td><td>0</td><td>0</td><td>1</td><td>22.0</td><td> 4.8400</td><td>10.648000</td><td> 23.42560000</td><td>2015</td><td> 6</td><td>9470</td><td>1 </td></tr>\n",
       "\t<tr><td>11.730769</td><td>2.462215</td><td>1</td><td>0</td><td>0</td><td>0</td><td>1</td><td>0</td><td>0</td><td>0</td><td>0</td><td>1</td><td> 1.0</td><td> 0.0100</td><td> 0.001000</td><td>  0.00010000</td><td>1650</td><td> 5</td><td>7460</td><td>NA</td></tr>\n",
       "\t<tr><td>19.230769</td><td>2.956512</td><td>1</td><td>0</td><td>1</td><td>0</td><td>0</td><td>0</td><td>0</td><td>0</td><td>0</td><td>1</td><td>42.0</td><td>17.6400</td><td>74.088000</td><td>311.16960000</td><td>5120</td><td>17</td><td>7280</td><td>1 </td></tr>\n",
       "\t<tr><td>19.230769</td><td>2.956512</td><td>0</td><td>0</td><td>1</td><td>0</td><td>0</td><td>0</td><td>0</td><td>0</td><td>0</td><td>1</td><td>37.0</td><td>13.6900</td><td>50.653000</td><td>187.41610000</td><td>5240</td><td>17</td><td>5680</td><td>1 </td></tr>\n",
       "\t<tr><td>12.000000</td><td>2.484907</td><td>1</td><td>0</td><td>1</td><td>0</td><td>0</td><td>0</td><td>0</td><td>0</td><td>0</td><td>1</td><td>31.0</td><td> 9.6100</td><td>29.791000</td><td> 92.35210000</td><td>4040</td><td>13</td><td>8590</td><td>1 </td></tr>\n",
       "\t<tr><td>19.230769</td><td>2.956512</td><td>1</td><td>0</td><td>0</td><td>0</td><td>1</td><td>0</td><td>0</td><td>0</td><td>0</td><td>1</td><td> 4.0</td><td> 0.1600</td><td> 0.064000</td><td>  0.02560000</td><td>3255</td><td>10</td><td>8190</td><td>NA</td></tr>\n",
       "\t<tr><td>17.307692</td><td>2.851151</td><td>1</td><td>0</td><td>1</td><td>0</td><td>0</td><td>0</td><td>0</td><td>0</td><td>0</td><td>1</td><td> 7.0</td><td> 0.4900</td><td> 0.343000</td><td>  0.24010000</td><td>4020</td><td>13</td><td>8270</td><td>NA</td></tr>\n",
       "\t<tr><td>12.019231</td><td>2.486508</td><td>0</td><td>0</td><td>1</td><td>0</td><td>0</td><td>0</td><td>0</td><td>0</td><td>0</td><td>1</td><td>30.0</td><td> 9.0000</td><td>27.000000</td><td> 81.00000000</td><td>4220</td><td>14</td><td>8270</td><td>1 </td></tr>\n",
       "\t<tr><td>12.019231</td><td>2.486508</td><td>1</td><td>0</td><td>0</td><td>1</td><td>0</td><td>0</td><td>0</td><td>0</td><td>0</td><td>1</td><td> 5.5</td><td> 0.3025</td><td> 0.166375</td><td>  0.09150625</td><td>3600</td><td>11</td><td>8270</td><td>NA</td></tr>\n",
       "\t<tr><td>13.461538</td><td>2.599837</td><td>1</td><td>0</td><td>0</td><td>1</td><td>0</td><td>0</td><td>0</td><td>0</td><td>0</td><td>1</td><td>20.5</td><td> 4.2025</td><td> 8.615125</td><td> 17.66100625</td><td>3645</td><td>11</td><td>8190</td><td>1 </td></tr>\n",
       "\t<tr><td>16.346154</td><td>2.793993</td><td>1</td><td>0</td><td>0</td><td>0</td><td>1</td><td>0</td><td>0</td><td>0</td><td>0</td><td>1</td><td>25.0</td><td> 6.2500</td><td>15.625000</td><td> 39.06250000</td><td> 110</td><td> 1</td><td>7870</td><td>1 </td></tr>\n",
       "\t<tr><td>27.884615</td><td>3.328075</td><td>0</td><td>0</td><td>1</td><td>0</td><td>0</td><td>0</td><td>0</td><td>0</td><td>0</td><td>1</td><td>16.0</td><td> 2.5600</td><td> 4.096000</td><td>  6.55360000</td><td>6355</td><td>19</td><td> 770</td><td>1 </td></tr>\n",
       "\t<tr><td>21.600000</td><td>3.072693</td><td>0</td><td>0</td><td>1</td><td>0</td><td>0</td><td>0</td><td>0</td><td>0</td><td>0</td><td>1</td><td>27.0</td><td> 7.2900</td><td>19.683000</td><td> 53.14410000</td><td>6320</td><td>19</td><td> 770</td><td>1 </td></tr>\n",
       "\t<tr><td> 8.653846</td><td>2.158004</td><td>0</td><td>0</td><td>0</td><td>1</td><td>0</td><td>0</td><td>0</td><td>0</td><td>0</td><td>1</td><td> 3.5</td><td> 0.1225</td><td> 0.042875</td><td>  0.01500625</td><td>7410</td><td>20</td><td> 570</td><td>NA</td></tr>\n",
       "\t<tr><td>19.230769</td><td>2.956512</td><td>0</td><td>0</td><td>1</td><td>0</td><td>0</td><td>0</td><td>0</td><td>0</td><td>0</td><td>1</td><td> 6.0</td><td> 0.3600</td><td> 0.216000</td><td>  0.12960000</td><td>7000</td><td>20</td><td>4690</td><td>NA</td></tr>\n",
       "\t<tr><td>13.186813</td><td>2.579217</td><td>0</td><td>0</td><td>1</td><td>0</td><td>0</td><td>0</td><td>0</td><td>0</td><td>0</td><td>1</td><td> 8.0</td><td> 0.6400</td><td> 0.512000</td><td>  0.40960000</td><td>4000</td><td>13</td><td>8680</td><td>NA</td></tr>\n",
       "\t<tr><td>10.683761</td><td>2.368725</td><td>1</td><td>0</td><td>0</td><td>1</td><td>0</td><td>0</td><td>0</td><td>0</td><td>0</td><td>1</td><td> 6.5</td><td> 0.4225</td><td> 0.274625</td><td>  0.17850625</td><td>4300</td><td>15</td><td>8590</td><td>NA</td></tr>\n",
       "\t<tr><td>11.538462</td><td>2.445686</td><td>1</td><td>0</td><td>0</td><td>1</td><td>0</td><td>0</td><td>0</td><td>0</td><td>0</td><td>1</td><td> 8.5</td><td> 0.7225</td><td> 0.614125</td><td>  0.52200625</td><td>3600</td><td>11</td><td>8190</td><td>NA</td></tr>\n",
       "\t<tr><td>17.788462</td><td>2.878550</td><td>1</td><td>0</td><td>0</td><td>0</td><td>0</td><td>1</td><td>0</td><td>0</td><td>0</td><td>1</td><td>11.0</td><td> 1.2100</td><td> 1.331000</td><td>  1.46410000</td><td>2310</td><td> 8</td><td>7860</td><td>1 </td></tr>\n",
       "\t<tr><td>19.230769</td><td>2.956512</td><td>0</td><td>0</td><td>0</td><td>0</td><td>1</td><td>0</td><td>0</td><td>0</td><td>0</td><td>1</td><td>11.0</td><td> 1.2100</td><td> 1.331000</td><td>  1.46410000</td><td>6200</td><td>19</td><td> 770</td><td>1 </td></tr>\n",
       "\t<tr><td>16.304348</td><td>2.791432</td><td>1</td><td>0</td><td>0</td><td>1</td><td>0</td><td>0</td><td>0</td><td>0</td><td>0</td><td>1</td><td>24.5</td><td> 6.0025</td><td>14.706125</td><td> 36.03000625</td><td>  20</td><td> 1</td><td>5480</td><td>1 </td></tr>\n",
       "\t<tr><td>19.230769</td><td>2.956512</td><td>0</td><td>0</td><td>1</td><td>0</td><td>0</td><td>0</td><td>0</td><td>0</td><td>0</td><td>1</td><td> 8.0</td><td> 0.6400</td><td> 0.512000</td><td>  0.40960000</td><td>4800</td><td>16</td><td>7390</td><td>NA</td></tr>\n",
       "\t<tr><td>14.423077</td><td>2.668829</td><td>1</td><td>0</td><td>1</td><td>0</td><td>0</td><td>0</td><td>0</td><td>0</td><td>0</td><td>1</td><td> 5.0</td><td> 0.2500</td><td> 0.125000</td><td>  0.06250000</td><td> 430</td><td> 1</td><td>7390</td><td>NA</td></tr>\n",
       "\t<tr><td>12.000000</td><td>2.484907</td><td>0</td><td>0</td><td>0</td><td>1</td><td>0</td><td>0</td><td>0</td><td>0</td><td>0</td><td>1</td><td> 4.5</td><td> 0.2025</td><td> 0.091125</td><td>  0.04100625</td><td>6330</td><td>19</td><td> 770</td><td>NA</td></tr>\n",
       "\t<tr><td>16.826923</td><td>2.822980</td><td>0</td><td>0</td><td>0</td><td>0</td><td>1</td><td>0</td><td>0</td><td>0</td><td>0</td><td>1</td><td> 8.0</td><td> 0.6400</td><td> 0.512000</td><td>  0.40960000</td><td>5400</td><td>17</td><td>4870</td><td>NA</td></tr>\n",
       "\t<tr><td>19.670330</td><td>2.979111</td><td>0</td><td>0</td><td>0</td><td>0</td><td>1</td><td>0</td><td>0</td><td>0</td><td>0</td><td>1</td><td>26.0</td><td> 6.7600</td><td>17.576000</td><td> 45.69760000</td><td>6230</td><td>19</td><td>6570</td><td>1 </td></tr>\n",
       "\t<tr><td>...</td><td>...</td><td>...</td><td>...</td><td>...</td><td>...</td><td>...</td><td>...</td><td>...</td><td>...</td><td>...</td><td>...</td><td>...</td><td>...</td><td>...</td><td>...</td><td>...</td><td>...</td><td>...</td><td>...</td></tr>\n",
       "\t<tr><td>13.986014</td><td>2.638058</td><td>1</td><td>0</td><td>0</td><td>0</td><td>0</td><td>1</td><td>0</td><td>0</td><td>1</td><td>0</td><td> 7.0</td><td> 0.4900</td><td> 0.343000</td><td>  0.2401000</td><td>3820</td><td>12</td><td>9590</td><td>NA</td></tr>\n",
       "\t<tr><td>15.865385</td><td>2.764140</td><td>0</td><td>0</td><td>0</td><td>0</td><td>0</td><td>1</td><td>0</td><td>0</td><td>1</td><td>0</td><td> 2.0</td><td> 0.0400</td><td> 0.008000</td><td>  0.0016000</td><td>2200</td><td> 8</td><td>7870</td><td>NA</td></tr>\n",
       "\t<tr><td>38.461538</td><td>3.649659</td><td>1</td><td>0</td><td>0</td><td>1</td><td>0</td><td>0</td><td>0</td><td>0</td><td>1</td><td>0</td><td> 7.5</td><td> 0.5625</td><td> 0.421875</td><td>  0.3164062</td><td> 220</td><td> 1</td><td> 770</td><td>NA</td></tr>\n",
       "\t<tr><td>28.846154</td><td>3.361977</td><td>0</td><td>0</td><td>0</td><td>0</td><td>1</td><td>0</td><td>0</td><td>0</td><td>1</td><td>0</td><td> 5.0</td><td> 0.2500</td><td> 0.125000</td><td>  0.0625000</td><td>1360</td><td> 4</td><td> 770</td><td>NA</td></tr>\n",
       "\t<tr><td>24.475524</td><td>3.197674</td><td>1</td><td>0</td><td>0</td><td>0</td><td>0</td><td>1</td><td>0</td><td>0</td><td>1</td><td>0</td><td>24.0</td><td> 5.7600</td><td>13.824000</td><td> 33.1776000</td><td>2310</td><td> 8</td><td>7860</td><td>1 </td></tr>\n",
       "\t<tr><td>27.884615</td><td>3.328075</td><td>0</td><td>0</td><td>0</td><td>1</td><td>0</td><td>0</td><td>0</td><td>0</td><td>1</td><td>0</td><td>28.5</td><td> 8.1225</td><td>23.149125</td><td> 65.9750063</td><td>8140</td><td>21</td><td> 770</td><td>1 </td></tr>\n",
       "\t<tr><td> 8.653846</td><td>2.158004</td><td>1</td><td>0</td><td>1</td><td>0</td><td>0</td><td>0</td><td>0</td><td>0</td><td>1</td><td>0</td><td>25.0</td><td> 6.2500</td><td>15.625000</td><td> 39.0625000</td><td>3930</td><td>12</td><td>7680</td><td>1 </td></tr>\n",
       "\t<tr><td>12.019231</td><td>2.486508</td><td>0</td><td>0</td><td>1</td><td>0</td><td>0</td><td>0</td><td>0</td><td>0</td><td>1</td><td>0</td><td>19.0</td><td> 3.6100</td><td> 6.859000</td><td> 13.0321000</td><td>2750</td><td> 9</td><td>8560</td><td>1 </td></tr>\n",
       "\t<tr><td>38.461538</td><td>3.649659</td><td>0</td><td>0</td><td>0</td><td>0</td><td>1</td><td>0</td><td>0</td><td>0</td><td>1</td><td>0</td><td> 8.0</td><td> 0.6400</td><td> 0.512000</td><td>  0.4096000</td><td> 710</td><td> 2</td><td>6870</td><td>NA</td></tr>\n",
       "\t<tr><td>12.500000</td><td>2.525729</td><td>1</td><td>0</td><td>1</td><td>0</td><td>0</td><td>0</td><td>0</td><td>0</td><td>1</td><td>0</td><td>12.0</td><td> 1.4400</td><td> 1.728000</td><td>  2.0736000</td><td>4010</td><td>13</td><td>8680</td><td>1 </td></tr>\n",
       "\t<tr><td>35.256410</td><td>3.562647</td><td>0</td><td>0</td><td>0</td><td>0</td><td>0</td><td>1</td><td>0</td><td>0</td><td>1</td><td>0</td><td> 6.0</td><td> 0.3600</td><td> 0.216000</td><td>  0.1296000</td><td>2320</td><td> 8</td><td>7860</td><td>NA</td></tr>\n",
       "\t<tr><td>48.076923</td><td>3.872802</td><td>1</td><td>0</td><td>0</td><td>0</td><td>1</td><td>0</td><td>0</td><td>0</td><td>1</td><td>0</td><td>25.0</td><td> 6.2500</td><td>15.625000</td><td> 39.0625000</td><td>3255</td><td>10</td><td>8170</td><td>1 </td></tr>\n",
       "\t<tr><td> 9.615385</td><td>2.263364</td><td>0</td><td>0</td><td>1</td><td>0</td><td>0</td><td>0</td><td>0</td><td>0</td><td>1</td><td>0</td><td>20.0</td><td> 4.0000</td><td> 8.000000</td><td> 16.0000000</td><td>4110</td><td>13</td><td>8680</td><td>1 </td></tr>\n",
       "\t<tr><td>12.019231</td><td>2.486508</td><td>0</td><td>0</td><td>1</td><td>0</td><td>0</td><td>0</td><td>0</td><td>0</td><td>1</td><td>0</td><td>17.0</td><td> 2.8900</td><td> 4.913000</td><td>  8.3521000</td><td>9620</td><td>22</td><td>6290</td><td>1 </td></tr>\n",
       "\t<tr><td>12.019231</td><td>2.486508</td><td>0</td><td>0</td><td>0</td><td>1</td><td>0</td><td>0</td><td>0</td><td>0</td><td>1</td><td>0</td><td>31.5</td><td> 9.9225</td><td>31.255875</td><td> 98.4560063</td><td>5510</td><td>17</td><td>6380</td><td>1 </td></tr>\n",
       "\t<tr><td>12.980769</td><td>2.563469</td><td>0</td><td>0</td><td>1</td><td>0</td><td>0</td><td>0</td><td>0</td><td>0</td><td>1</td><td>0</td><td>15.0</td><td> 2.2500</td><td> 3.375000</td><td>  5.0625000</td><td>2010</td><td> 6</td><td>9370</td><td>1 </td></tr>\n",
       "\t<tr><td>26.442308</td><td>3.274965</td><td>1</td><td>0</td><td>0</td><td>0</td><td>1</td><td>0</td><td>0</td><td>0</td><td>1</td><td>0</td><td>34.0</td><td>11.5600</td><td>39.304000</td><td>133.6336000</td><td>2310</td><td> 8</td><td>7860</td><td>1 </td></tr>\n",
       "\t<tr><td>13.461538</td><td>2.599837</td><td>1</td><td>0</td><td>1</td><td>0</td><td>0</td><td>0</td><td>0</td><td>0</td><td>1</td><td>0</td><td> 8.0</td><td> 0.6400</td><td> 0.512000</td><td>  0.4096000</td><td>4720</td><td>16</td><td>8590</td><td>NA</td></tr>\n",
       "\t<tr><td>19.711538</td><td>2.981204</td><td>1</td><td>0</td><td>0</td><td>0</td><td>0</td><td>1</td><td>0</td><td>0</td><td>1</td><td>0</td><td> 8.0</td><td> 0.6400</td><td> 0.512000</td><td>  0.4096000</td><td>2000</td><td> 6</td><td>8090</td><td>NA</td></tr>\n",
       "\t<tr><td>21.153846</td><td>3.051822</td><td>0</td><td>0</td><td>0</td><td>0</td><td>1</td><td>0</td><td>0</td><td>0</td><td>1</td><td>0</td><td>28.0</td><td> 7.8400</td><td>21.952000</td><td> 61.4656000</td><td>  40</td><td> 1</td><td>9170</td><td>1 </td></tr>\n",
       "\t<tr><td>45.546559</td><td>3.818735</td><td>1</td><td>0</td><td>0</td><td>0</td><td>1</td><td>0</td><td>0</td><td>0</td><td>1</td><td>0</td><td> 5.0</td><td> 0.2500</td><td> 0.125000</td><td>  0.0625000</td><td>3255</td><td>10</td><td>8190</td><td>NA</td></tr>\n",
       "\t<tr><td>22.596154</td><td>3.117780</td><td>0</td><td>0</td><td>1</td><td>0</td><td>0</td><td>0</td><td>0</td><td>0</td><td>1</td><td>0</td><td>15.0</td><td> 2.2500</td><td> 3.375000</td><td>  5.0625000</td><td>9620</td><td>22</td><td>5390</td><td>1 </td></tr>\n",
       "\t<tr><td>16.826923</td><td>2.822980</td><td>0</td><td>0</td><td>1</td><td>0</td><td>0</td><td>0</td><td>0</td><td>0</td><td>1</td><td>0</td><td>11.0</td><td> 1.2100</td><td> 1.331000</td><td>  1.4641000</td><td>7150</td><td>20</td><td>8770</td><td>1 </td></tr>\n",
       "\t<tr><td>24.038462</td><td>3.179655</td><td>1</td><td>0</td><td>0</td><td>0</td><td>1</td><td>0</td><td>0</td><td>0</td><td>1</td><td>0</td><td>17.0</td><td> 2.8900</td><td> 4.913000</td><td>  8.3521000</td><td>2550</td><td> 8</td><td>9480</td><td>1 </td></tr>\n",
       "\t<tr><td>13.846154</td><td>2.628007</td><td>0</td><td>0</td><td>0</td><td>0</td><td>1</td><td>0</td><td>0</td><td>0</td><td>1</td><td>0</td><td>10.0</td><td> 1.0000</td><td> 1.000000</td><td>  1.0000000</td><td> 800</td><td> 2</td><td> 770</td><td>NA</td></tr>\n",
       "\t<tr><td>14.769231</td><td>2.692546</td><td>0</td><td>0</td><td>0</td><td>0</td><td>1</td><td>0</td><td>0</td><td>0</td><td>1</td><td>0</td><td> 9.0</td><td> 0.8100</td><td> 0.729000</td><td>  0.6561000</td><td>4700</td><td>16</td><td>4970</td><td>NA</td></tr>\n",
       "\t<tr><td>23.076923</td><td>3.138833</td><td>1</td><td>0</td><td>0</td><td>1</td><td>0</td><td>0</td><td>0</td><td>0</td><td>1</td><td>0</td><td>12.0</td><td> 1.4400</td><td> 1.728000</td><td>  2.0736000</td><td>4110</td><td>13</td><td>8680</td><td>1 </td></tr>\n",
       "\t<tr><td>38.461538</td><td>3.649659</td><td>0</td><td>0</td><td>0</td><td>0</td><td>0</td><td>1</td><td>0</td><td>0</td><td>1</td><td>0</td><td>11.0</td><td> 1.2100</td><td> 1.331000</td><td>  1.4641000</td><td>1550</td><td> 4</td><td>3680</td><td>1 </td></tr>\n",
       "\t<tr><td>32.967033</td><td>3.495508</td><td>0</td><td>0</td><td>1</td><td>0</td><td>0</td><td>0</td><td>0</td><td>0</td><td>1</td><td>0</td><td>10.0</td><td> 1.0000</td><td> 1.000000</td><td>  1.0000000</td><td>2920</td><td> 9</td><td>6570</td><td>NA</td></tr>\n",
       "\t<tr><td>17.307692</td><td>2.851151</td><td>0</td><td>0</td><td>0</td><td>0</td><td>0</td><td>1</td><td>0</td><td>0</td><td>1</td><td>0</td><td>14.0</td><td> 1.9600</td><td> 2.744000</td><td>  3.8416000</td><td>1610</td><td> 5</td><td>7460</td><td>1 </td></tr>\n",
       "</tbody>\n",
       "</table>\n"
      ],
      "text/latex": [
       "A data.frame: 5150 × 20\n",
       "\\begin{tabular}{llllllllllllllllllll}\n",
       " salario & lwage & sex & shs & hsg & scl & clg & ad & mw & so & we & ne & exp1 & exp2 & exp3 & exp4 & occ & occ2 & ind & dummy\\\\\n",
       " <dbl> & <dbl> & <int> & <int> & <int> & <int> & <int> & <int> & <int> & <int> & <int> & <int> & <dbl> & <dbl> & <dbl> & <dbl> & <dbl> & <int> & <dbl> & <chr>\\\\\n",
       "\\hline\n",
       "\t  9.615385 & 2.263364 & 1 & 0 & 0 & 0 & 1 & 0 & 0 & 0 & 0 & 1 &  7.0 &  0.4900 &  0.343000 &   0.24010000 & 3600 & 11 & 8370 & NA\\\\\n",
       "\t 48.076923 & 3.872802 & 0 & 0 & 0 & 0 & 1 & 0 & 0 & 0 & 0 & 1 & 31.0 &  9.6100 & 29.791000 &  92.35210000 & 3050 & 10 & 5070 & 1 \\\\\n",
       "\t 11.057692 & 2.403126 & 0 & 0 & 1 & 0 & 0 & 0 & 0 & 0 & 0 & 1 & 18.0 &  3.2400 &  5.832000 &  10.49760000 & 6260 & 19 &  770 & 1 \\\\\n",
       "\t 13.942308 & 2.634928 & 1 & 0 & 0 & 0 & 0 & 1 & 0 & 0 & 0 & 1 & 25.0 &  6.2500 & 15.625000 &  39.06250000 &  420 &  1 & 6990 & 1 \\\\\n",
       "\t 28.846154 & 3.361977 & 1 & 0 & 0 & 0 & 1 & 0 & 0 & 0 & 0 & 1 & 22.0 &  4.8400 & 10.648000 &  23.42560000 & 2015 &  6 & 9470 & 1 \\\\\n",
       "\t 11.730769 & 2.462215 & 1 & 0 & 0 & 0 & 1 & 0 & 0 & 0 & 0 & 1 &  1.0 &  0.0100 &  0.001000 &   0.00010000 & 1650 &  5 & 7460 & NA\\\\\n",
       "\t 19.230769 & 2.956512 & 1 & 0 & 1 & 0 & 0 & 0 & 0 & 0 & 0 & 1 & 42.0 & 17.6400 & 74.088000 & 311.16960000 & 5120 & 17 & 7280 & 1 \\\\\n",
       "\t 19.230769 & 2.956512 & 0 & 0 & 1 & 0 & 0 & 0 & 0 & 0 & 0 & 1 & 37.0 & 13.6900 & 50.653000 & 187.41610000 & 5240 & 17 & 5680 & 1 \\\\\n",
       "\t 12.000000 & 2.484907 & 1 & 0 & 1 & 0 & 0 & 0 & 0 & 0 & 0 & 1 & 31.0 &  9.6100 & 29.791000 &  92.35210000 & 4040 & 13 & 8590 & 1 \\\\\n",
       "\t 19.230769 & 2.956512 & 1 & 0 & 0 & 0 & 1 & 0 & 0 & 0 & 0 & 1 &  4.0 &  0.1600 &  0.064000 &   0.02560000 & 3255 & 10 & 8190 & NA\\\\\n",
       "\t 17.307692 & 2.851151 & 1 & 0 & 1 & 0 & 0 & 0 & 0 & 0 & 0 & 1 &  7.0 &  0.4900 &  0.343000 &   0.24010000 & 4020 & 13 & 8270 & NA\\\\\n",
       "\t 12.019231 & 2.486508 & 0 & 0 & 1 & 0 & 0 & 0 & 0 & 0 & 0 & 1 & 30.0 &  9.0000 & 27.000000 &  81.00000000 & 4220 & 14 & 8270 & 1 \\\\\n",
       "\t 12.019231 & 2.486508 & 1 & 0 & 0 & 1 & 0 & 0 & 0 & 0 & 0 & 1 &  5.5 &  0.3025 &  0.166375 &   0.09150625 & 3600 & 11 & 8270 & NA\\\\\n",
       "\t 13.461538 & 2.599837 & 1 & 0 & 0 & 1 & 0 & 0 & 0 & 0 & 0 & 1 & 20.5 &  4.2025 &  8.615125 &  17.66100625 & 3645 & 11 & 8190 & 1 \\\\\n",
       "\t 16.346154 & 2.793993 & 1 & 0 & 0 & 0 & 1 & 0 & 0 & 0 & 0 & 1 & 25.0 &  6.2500 & 15.625000 &  39.06250000 &  110 &  1 & 7870 & 1 \\\\\n",
       "\t 27.884615 & 3.328075 & 0 & 0 & 1 & 0 & 0 & 0 & 0 & 0 & 0 & 1 & 16.0 &  2.5600 &  4.096000 &   6.55360000 & 6355 & 19 &  770 & 1 \\\\\n",
       "\t 21.600000 & 3.072693 & 0 & 0 & 1 & 0 & 0 & 0 & 0 & 0 & 0 & 1 & 27.0 &  7.2900 & 19.683000 &  53.14410000 & 6320 & 19 &  770 & 1 \\\\\n",
       "\t  8.653846 & 2.158004 & 0 & 0 & 0 & 1 & 0 & 0 & 0 & 0 & 0 & 1 &  3.5 &  0.1225 &  0.042875 &   0.01500625 & 7410 & 20 &  570 & NA\\\\\n",
       "\t 19.230769 & 2.956512 & 0 & 0 & 1 & 0 & 0 & 0 & 0 & 0 & 0 & 1 &  6.0 &  0.3600 &  0.216000 &   0.12960000 & 7000 & 20 & 4690 & NA\\\\\n",
       "\t 13.186813 & 2.579217 & 0 & 0 & 1 & 0 & 0 & 0 & 0 & 0 & 0 & 1 &  8.0 &  0.6400 &  0.512000 &   0.40960000 & 4000 & 13 & 8680 & NA\\\\\n",
       "\t 10.683761 & 2.368725 & 1 & 0 & 0 & 1 & 0 & 0 & 0 & 0 & 0 & 1 &  6.5 &  0.4225 &  0.274625 &   0.17850625 & 4300 & 15 & 8590 & NA\\\\\n",
       "\t 11.538462 & 2.445686 & 1 & 0 & 0 & 1 & 0 & 0 & 0 & 0 & 0 & 1 &  8.5 &  0.7225 &  0.614125 &   0.52200625 & 3600 & 11 & 8190 & NA\\\\\n",
       "\t 17.788462 & 2.878550 & 1 & 0 & 0 & 0 & 0 & 1 & 0 & 0 & 0 & 1 & 11.0 &  1.2100 &  1.331000 &   1.46410000 & 2310 &  8 & 7860 & 1 \\\\\n",
       "\t 19.230769 & 2.956512 & 0 & 0 & 0 & 0 & 1 & 0 & 0 & 0 & 0 & 1 & 11.0 &  1.2100 &  1.331000 &   1.46410000 & 6200 & 19 &  770 & 1 \\\\\n",
       "\t 16.304348 & 2.791432 & 1 & 0 & 0 & 1 & 0 & 0 & 0 & 0 & 0 & 1 & 24.5 &  6.0025 & 14.706125 &  36.03000625 &   20 &  1 & 5480 & 1 \\\\\n",
       "\t 19.230769 & 2.956512 & 0 & 0 & 1 & 0 & 0 & 0 & 0 & 0 & 0 & 1 &  8.0 &  0.6400 &  0.512000 &   0.40960000 & 4800 & 16 & 7390 & NA\\\\\n",
       "\t 14.423077 & 2.668829 & 1 & 0 & 1 & 0 & 0 & 0 & 0 & 0 & 0 & 1 &  5.0 &  0.2500 &  0.125000 &   0.06250000 &  430 &  1 & 7390 & NA\\\\\n",
       "\t 12.000000 & 2.484907 & 0 & 0 & 0 & 1 & 0 & 0 & 0 & 0 & 0 & 1 &  4.5 &  0.2025 &  0.091125 &   0.04100625 & 6330 & 19 &  770 & NA\\\\\n",
       "\t 16.826923 & 2.822980 & 0 & 0 & 0 & 0 & 1 & 0 & 0 & 0 & 0 & 1 &  8.0 &  0.6400 &  0.512000 &   0.40960000 & 5400 & 17 & 4870 & NA\\\\\n",
       "\t 19.670330 & 2.979111 & 0 & 0 & 0 & 0 & 1 & 0 & 0 & 0 & 0 & 1 & 26.0 &  6.7600 & 17.576000 &  45.69760000 & 6230 & 19 & 6570 & 1 \\\\\n",
       "\t ... & ... & ... & ... & ... & ... & ... & ... & ... & ... & ... & ... & ... & ... & ... & ... & ... & ... & ... & ...\\\\\n",
       "\t 13.986014 & 2.638058 & 1 & 0 & 0 & 0 & 0 & 1 & 0 & 0 & 1 & 0 &  7.0 &  0.4900 &  0.343000 &   0.2401000 & 3820 & 12 & 9590 & NA\\\\\n",
       "\t 15.865385 & 2.764140 & 0 & 0 & 0 & 0 & 0 & 1 & 0 & 0 & 1 & 0 &  2.0 &  0.0400 &  0.008000 &   0.0016000 & 2200 &  8 & 7870 & NA\\\\\n",
       "\t 38.461538 & 3.649659 & 1 & 0 & 0 & 1 & 0 & 0 & 0 & 0 & 1 & 0 &  7.5 &  0.5625 &  0.421875 &   0.3164062 &  220 &  1 &  770 & NA\\\\\n",
       "\t 28.846154 & 3.361977 & 0 & 0 & 0 & 0 & 1 & 0 & 0 & 0 & 1 & 0 &  5.0 &  0.2500 &  0.125000 &   0.0625000 & 1360 &  4 &  770 & NA\\\\\n",
       "\t 24.475524 & 3.197674 & 1 & 0 & 0 & 0 & 0 & 1 & 0 & 0 & 1 & 0 & 24.0 &  5.7600 & 13.824000 &  33.1776000 & 2310 &  8 & 7860 & 1 \\\\\n",
       "\t 27.884615 & 3.328075 & 0 & 0 & 0 & 1 & 0 & 0 & 0 & 0 & 1 & 0 & 28.5 &  8.1225 & 23.149125 &  65.9750063 & 8140 & 21 &  770 & 1 \\\\\n",
       "\t  8.653846 & 2.158004 & 1 & 0 & 1 & 0 & 0 & 0 & 0 & 0 & 1 & 0 & 25.0 &  6.2500 & 15.625000 &  39.0625000 & 3930 & 12 & 7680 & 1 \\\\\n",
       "\t 12.019231 & 2.486508 & 0 & 0 & 1 & 0 & 0 & 0 & 0 & 0 & 1 & 0 & 19.0 &  3.6100 &  6.859000 &  13.0321000 & 2750 &  9 & 8560 & 1 \\\\\n",
       "\t 38.461538 & 3.649659 & 0 & 0 & 0 & 0 & 1 & 0 & 0 & 0 & 1 & 0 &  8.0 &  0.6400 &  0.512000 &   0.4096000 &  710 &  2 & 6870 & NA\\\\\n",
       "\t 12.500000 & 2.525729 & 1 & 0 & 1 & 0 & 0 & 0 & 0 & 0 & 1 & 0 & 12.0 &  1.4400 &  1.728000 &   2.0736000 & 4010 & 13 & 8680 & 1 \\\\\n",
       "\t 35.256410 & 3.562647 & 0 & 0 & 0 & 0 & 0 & 1 & 0 & 0 & 1 & 0 &  6.0 &  0.3600 &  0.216000 &   0.1296000 & 2320 &  8 & 7860 & NA\\\\\n",
       "\t 48.076923 & 3.872802 & 1 & 0 & 0 & 0 & 1 & 0 & 0 & 0 & 1 & 0 & 25.0 &  6.2500 & 15.625000 &  39.0625000 & 3255 & 10 & 8170 & 1 \\\\\n",
       "\t  9.615385 & 2.263364 & 0 & 0 & 1 & 0 & 0 & 0 & 0 & 0 & 1 & 0 & 20.0 &  4.0000 &  8.000000 &  16.0000000 & 4110 & 13 & 8680 & 1 \\\\\n",
       "\t 12.019231 & 2.486508 & 0 & 0 & 1 & 0 & 0 & 0 & 0 & 0 & 1 & 0 & 17.0 &  2.8900 &  4.913000 &   8.3521000 & 9620 & 22 & 6290 & 1 \\\\\n",
       "\t 12.019231 & 2.486508 & 0 & 0 & 0 & 1 & 0 & 0 & 0 & 0 & 1 & 0 & 31.5 &  9.9225 & 31.255875 &  98.4560063 & 5510 & 17 & 6380 & 1 \\\\\n",
       "\t 12.980769 & 2.563469 & 0 & 0 & 1 & 0 & 0 & 0 & 0 & 0 & 1 & 0 & 15.0 &  2.2500 &  3.375000 &   5.0625000 & 2010 &  6 & 9370 & 1 \\\\\n",
       "\t 26.442308 & 3.274965 & 1 & 0 & 0 & 0 & 1 & 0 & 0 & 0 & 1 & 0 & 34.0 & 11.5600 & 39.304000 & 133.6336000 & 2310 &  8 & 7860 & 1 \\\\\n",
       "\t 13.461538 & 2.599837 & 1 & 0 & 1 & 0 & 0 & 0 & 0 & 0 & 1 & 0 &  8.0 &  0.6400 &  0.512000 &   0.4096000 & 4720 & 16 & 8590 & NA\\\\\n",
       "\t 19.711538 & 2.981204 & 1 & 0 & 0 & 0 & 0 & 1 & 0 & 0 & 1 & 0 &  8.0 &  0.6400 &  0.512000 &   0.4096000 & 2000 &  6 & 8090 & NA\\\\\n",
       "\t 21.153846 & 3.051822 & 0 & 0 & 0 & 0 & 1 & 0 & 0 & 0 & 1 & 0 & 28.0 &  7.8400 & 21.952000 &  61.4656000 &   40 &  1 & 9170 & 1 \\\\\n",
       "\t 45.546559 & 3.818735 & 1 & 0 & 0 & 0 & 1 & 0 & 0 & 0 & 1 & 0 &  5.0 &  0.2500 &  0.125000 &   0.0625000 & 3255 & 10 & 8190 & NA\\\\\n",
       "\t 22.596154 & 3.117780 & 0 & 0 & 1 & 0 & 0 & 0 & 0 & 0 & 1 & 0 & 15.0 &  2.2500 &  3.375000 &   5.0625000 & 9620 & 22 & 5390 & 1 \\\\\n",
       "\t 16.826923 & 2.822980 & 0 & 0 & 1 & 0 & 0 & 0 & 0 & 0 & 1 & 0 & 11.0 &  1.2100 &  1.331000 &   1.4641000 & 7150 & 20 & 8770 & 1 \\\\\n",
       "\t 24.038462 & 3.179655 & 1 & 0 & 0 & 0 & 1 & 0 & 0 & 0 & 1 & 0 & 17.0 &  2.8900 &  4.913000 &   8.3521000 & 2550 &  8 & 9480 & 1 \\\\\n",
       "\t 13.846154 & 2.628007 & 0 & 0 & 0 & 0 & 1 & 0 & 0 & 0 & 1 & 0 & 10.0 &  1.0000 &  1.000000 &   1.0000000 &  800 &  2 &  770 & NA\\\\\n",
       "\t 14.769231 & 2.692546 & 0 & 0 & 0 & 0 & 1 & 0 & 0 & 0 & 1 & 0 &  9.0 &  0.8100 &  0.729000 &   0.6561000 & 4700 & 16 & 4970 & NA\\\\\n",
       "\t 23.076923 & 3.138833 & 1 & 0 & 0 & 1 & 0 & 0 & 0 & 0 & 1 & 0 & 12.0 &  1.4400 &  1.728000 &   2.0736000 & 4110 & 13 & 8680 & 1 \\\\\n",
       "\t 38.461538 & 3.649659 & 0 & 0 & 0 & 0 & 0 & 1 & 0 & 0 & 1 & 0 & 11.0 &  1.2100 &  1.331000 &   1.4641000 & 1550 &  4 & 3680 & 1 \\\\\n",
       "\t 32.967033 & 3.495508 & 0 & 0 & 1 & 0 & 0 & 0 & 0 & 0 & 1 & 0 & 10.0 &  1.0000 &  1.000000 &   1.0000000 & 2920 &  9 & 6570 & NA\\\\\n",
       "\t 17.307692 & 2.851151 & 0 & 0 & 0 & 0 & 0 & 1 & 0 & 0 & 1 & 0 & 14.0 &  1.9600 &  2.744000 &   3.8416000 & 1610 &  5 & 7460 & 1 \\\\\n",
       "\\end{tabular}\n"
      ],
      "text/markdown": [
       "\n",
       "A data.frame: 5150 × 20\n",
       "\n",
       "| salario &lt;dbl&gt; | lwage &lt;dbl&gt; | sex &lt;int&gt; | shs &lt;int&gt; | hsg &lt;int&gt; | scl &lt;int&gt; | clg &lt;int&gt; | ad &lt;int&gt; | mw &lt;int&gt; | so &lt;int&gt; | we &lt;int&gt; | ne &lt;int&gt; | exp1 &lt;dbl&gt; | exp2 &lt;dbl&gt; | exp3 &lt;dbl&gt; | exp4 &lt;dbl&gt; | occ &lt;dbl&gt; | occ2 &lt;int&gt; | ind &lt;dbl&gt; | dummy &lt;chr&gt; |\n",
       "|---|---|---|---|---|---|---|---|---|---|---|---|---|---|---|---|---|---|---|---|\n",
       "|  9.615385 | 2.263364 | 1 | 0 | 0 | 0 | 1 | 0 | 0 | 0 | 0 | 1 |  7.0 |  0.4900 |  0.343000 |   0.24010000 | 3600 | 11 | 8370 | NA |\n",
       "| 48.076923 | 3.872802 | 0 | 0 | 0 | 0 | 1 | 0 | 0 | 0 | 0 | 1 | 31.0 |  9.6100 | 29.791000 |  92.35210000 | 3050 | 10 | 5070 | 1  |\n",
       "| 11.057692 | 2.403126 | 0 | 0 | 1 | 0 | 0 | 0 | 0 | 0 | 0 | 1 | 18.0 |  3.2400 |  5.832000 |  10.49760000 | 6260 | 19 |  770 | 1  |\n",
       "| 13.942308 | 2.634928 | 1 | 0 | 0 | 0 | 0 | 1 | 0 | 0 | 0 | 1 | 25.0 |  6.2500 | 15.625000 |  39.06250000 |  420 |  1 | 6990 | 1  |\n",
       "| 28.846154 | 3.361977 | 1 | 0 | 0 | 0 | 1 | 0 | 0 | 0 | 0 | 1 | 22.0 |  4.8400 | 10.648000 |  23.42560000 | 2015 |  6 | 9470 | 1  |\n",
       "| 11.730769 | 2.462215 | 1 | 0 | 0 | 0 | 1 | 0 | 0 | 0 | 0 | 1 |  1.0 |  0.0100 |  0.001000 |   0.00010000 | 1650 |  5 | 7460 | NA |\n",
       "| 19.230769 | 2.956512 | 1 | 0 | 1 | 0 | 0 | 0 | 0 | 0 | 0 | 1 | 42.0 | 17.6400 | 74.088000 | 311.16960000 | 5120 | 17 | 7280 | 1  |\n",
       "| 19.230769 | 2.956512 | 0 | 0 | 1 | 0 | 0 | 0 | 0 | 0 | 0 | 1 | 37.0 | 13.6900 | 50.653000 | 187.41610000 | 5240 | 17 | 5680 | 1  |\n",
       "| 12.000000 | 2.484907 | 1 | 0 | 1 | 0 | 0 | 0 | 0 | 0 | 0 | 1 | 31.0 |  9.6100 | 29.791000 |  92.35210000 | 4040 | 13 | 8590 | 1  |\n",
       "| 19.230769 | 2.956512 | 1 | 0 | 0 | 0 | 1 | 0 | 0 | 0 | 0 | 1 |  4.0 |  0.1600 |  0.064000 |   0.02560000 | 3255 | 10 | 8190 | NA |\n",
       "| 17.307692 | 2.851151 | 1 | 0 | 1 | 0 | 0 | 0 | 0 | 0 | 0 | 1 |  7.0 |  0.4900 |  0.343000 |   0.24010000 | 4020 | 13 | 8270 | NA |\n",
       "| 12.019231 | 2.486508 | 0 | 0 | 1 | 0 | 0 | 0 | 0 | 0 | 0 | 1 | 30.0 |  9.0000 | 27.000000 |  81.00000000 | 4220 | 14 | 8270 | 1  |\n",
       "| 12.019231 | 2.486508 | 1 | 0 | 0 | 1 | 0 | 0 | 0 | 0 | 0 | 1 |  5.5 |  0.3025 |  0.166375 |   0.09150625 | 3600 | 11 | 8270 | NA |\n",
       "| 13.461538 | 2.599837 | 1 | 0 | 0 | 1 | 0 | 0 | 0 | 0 | 0 | 1 | 20.5 |  4.2025 |  8.615125 |  17.66100625 | 3645 | 11 | 8190 | 1  |\n",
       "| 16.346154 | 2.793993 | 1 | 0 | 0 | 0 | 1 | 0 | 0 | 0 | 0 | 1 | 25.0 |  6.2500 | 15.625000 |  39.06250000 |  110 |  1 | 7870 | 1  |\n",
       "| 27.884615 | 3.328075 | 0 | 0 | 1 | 0 | 0 | 0 | 0 | 0 | 0 | 1 | 16.0 |  2.5600 |  4.096000 |   6.55360000 | 6355 | 19 |  770 | 1  |\n",
       "| 21.600000 | 3.072693 | 0 | 0 | 1 | 0 | 0 | 0 | 0 | 0 | 0 | 1 | 27.0 |  7.2900 | 19.683000 |  53.14410000 | 6320 | 19 |  770 | 1  |\n",
       "|  8.653846 | 2.158004 | 0 | 0 | 0 | 1 | 0 | 0 | 0 | 0 | 0 | 1 |  3.5 |  0.1225 |  0.042875 |   0.01500625 | 7410 | 20 |  570 | NA |\n",
       "| 19.230769 | 2.956512 | 0 | 0 | 1 | 0 | 0 | 0 | 0 | 0 | 0 | 1 |  6.0 |  0.3600 |  0.216000 |   0.12960000 | 7000 | 20 | 4690 | NA |\n",
       "| 13.186813 | 2.579217 | 0 | 0 | 1 | 0 | 0 | 0 | 0 | 0 | 0 | 1 |  8.0 |  0.6400 |  0.512000 |   0.40960000 | 4000 | 13 | 8680 | NA |\n",
       "| 10.683761 | 2.368725 | 1 | 0 | 0 | 1 | 0 | 0 | 0 | 0 | 0 | 1 |  6.5 |  0.4225 |  0.274625 |   0.17850625 | 4300 | 15 | 8590 | NA |\n",
       "| 11.538462 | 2.445686 | 1 | 0 | 0 | 1 | 0 | 0 | 0 | 0 | 0 | 1 |  8.5 |  0.7225 |  0.614125 |   0.52200625 | 3600 | 11 | 8190 | NA |\n",
       "| 17.788462 | 2.878550 | 1 | 0 | 0 | 0 | 0 | 1 | 0 | 0 | 0 | 1 | 11.0 |  1.2100 |  1.331000 |   1.46410000 | 2310 |  8 | 7860 | 1  |\n",
       "| 19.230769 | 2.956512 | 0 | 0 | 0 | 0 | 1 | 0 | 0 | 0 | 0 | 1 | 11.0 |  1.2100 |  1.331000 |   1.46410000 | 6200 | 19 |  770 | 1  |\n",
       "| 16.304348 | 2.791432 | 1 | 0 | 0 | 1 | 0 | 0 | 0 | 0 | 0 | 1 | 24.5 |  6.0025 | 14.706125 |  36.03000625 |   20 |  1 | 5480 | 1  |\n",
       "| 19.230769 | 2.956512 | 0 | 0 | 1 | 0 | 0 | 0 | 0 | 0 | 0 | 1 |  8.0 |  0.6400 |  0.512000 |   0.40960000 | 4800 | 16 | 7390 | NA |\n",
       "| 14.423077 | 2.668829 | 1 | 0 | 1 | 0 | 0 | 0 | 0 | 0 | 0 | 1 |  5.0 |  0.2500 |  0.125000 |   0.06250000 |  430 |  1 | 7390 | NA |\n",
       "| 12.000000 | 2.484907 | 0 | 0 | 0 | 1 | 0 | 0 | 0 | 0 | 0 | 1 |  4.5 |  0.2025 |  0.091125 |   0.04100625 | 6330 | 19 |  770 | NA |\n",
       "| 16.826923 | 2.822980 | 0 | 0 | 0 | 0 | 1 | 0 | 0 | 0 | 0 | 1 |  8.0 |  0.6400 |  0.512000 |   0.40960000 | 5400 | 17 | 4870 | NA |\n",
       "| 19.670330 | 2.979111 | 0 | 0 | 0 | 0 | 1 | 0 | 0 | 0 | 0 | 1 | 26.0 |  6.7600 | 17.576000 |  45.69760000 | 6230 | 19 | 6570 | 1  |\n",
       "| ... | ... | ... | ... | ... | ... | ... | ... | ... | ... | ... | ... | ... | ... | ... | ... | ... | ... | ... | ... |\n",
       "| 13.986014 | 2.638058 | 1 | 0 | 0 | 0 | 0 | 1 | 0 | 0 | 1 | 0 |  7.0 |  0.4900 |  0.343000 |   0.2401000 | 3820 | 12 | 9590 | NA |\n",
       "| 15.865385 | 2.764140 | 0 | 0 | 0 | 0 | 0 | 1 | 0 | 0 | 1 | 0 |  2.0 |  0.0400 |  0.008000 |   0.0016000 | 2200 |  8 | 7870 | NA |\n",
       "| 38.461538 | 3.649659 | 1 | 0 | 0 | 1 | 0 | 0 | 0 | 0 | 1 | 0 |  7.5 |  0.5625 |  0.421875 |   0.3164062 |  220 |  1 |  770 | NA |\n",
       "| 28.846154 | 3.361977 | 0 | 0 | 0 | 0 | 1 | 0 | 0 | 0 | 1 | 0 |  5.0 |  0.2500 |  0.125000 |   0.0625000 | 1360 |  4 |  770 | NA |\n",
       "| 24.475524 | 3.197674 | 1 | 0 | 0 | 0 | 0 | 1 | 0 | 0 | 1 | 0 | 24.0 |  5.7600 | 13.824000 |  33.1776000 | 2310 |  8 | 7860 | 1  |\n",
       "| 27.884615 | 3.328075 | 0 | 0 | 0 | 1 | 0 | 0 | 0 | 0 | 1 | 0 | 28.5 |  8.1225 | 23.149125 |  65.9750063 | 8140 | 21 |  770 | 1  |\n",
       "|  8.653846 | 2.158004 | 1 | 0 | 1 | 0 | 0 | 0 | 0 | 0 | 1 | 0 | 25.0 |  6.2500 | 15.625000 |  39.0625000 | 3930 | 12 | 7680 | 1  |\n",
       "| 12.019231 | 2.486508 | 0 | 0 | 1 | 0 | 0 | 0 | 0 | 0 | 1 | 0 | 19.0 |  3.6100 |  6.859000 |  13.0321000 | 2750 |  9 | 8560 | 1  |\n",
       "| 38.461538 | 3.649659 | 0 | 0 | 0 | 0 | 1 | 0 | 0 | 0 | 1 | 0 |  8.0 |  0.6400 |  0.512000 |   0.4096000 |  710 |  2 | 6870 | NA |\n",
       "| 12.500000 | 2.525729 | 1 | 0 | 1 | 0 | 0 | 0 | 0 | 0 | 1 | 0 | 12.0 |  1.4400 |  1.728000 |   2.0736000 | 4010 | 13 | 8680 | 1  |\n",
       "| 35.256410 | 3.562647 | 0 | 0 | 0 | 0 | 0 | 1 | 0 | 0 | 1 | 0 |  6.0 |  0.3600 |  0.216000 |   0.1296000 | 2320 |  8 | 7860 | NA |\n",
       "| 48.076923 | 3.872802 | 1 | 0 | 0 | 0 | 1 | 0 | 0 | 0 | 1 | 0 | 25.0 |  6.2500 | 15.625000 |  39.0625000 | 3255 | 10 | 8170 | 1  |\n",
       "|  9.615385 | 2.263364 | 0 | 0 | 1 | 0 | 0 | 0 | 0 | 0 | 1 | 0 | 20.0 |  4.0000 |  8.000000 |  16.0000000 | 4110 | 13 | 8680 | 1  |\n",
       "| 12.019231 | 2.486508 | 0 | 0 | 1 | 0 | 0 | 0 | 0 | 0 | 1 | 0 | 17.0 |  2.8900 |  4.913000 |   8.3521000 | 9620 | 22 | 6290 | 1  |\n",
       "| 12.019231 | 2.486508 | 0 | 0 | 0 | 1 | 0 | 0 | 0 | 0 | 1 | 0 | 31.5 |  9.9225 | 31.255875 |  98.4560063 | 5510 | 17 | 6380 | 1  |\n",
       "| 12.980769 | 2.563469 | 0 | 0 | 1 | 0 | 0 | 0 | 0 | 0 | 1 | 0 | 15.0 |  2.2500 |  3.375000 |   5.0625000 | 2010 |  6 | 9370 | 1  |\n",
       "| 26.442308 | 3.274965 | 1 | 0 | 0 | 0 | 1 | 0 | 0 | 0 | 1 | 0 | 34.0 | 11.5600 | 39.304000 | 133.6336000 | 2310 |  8 | 7860 | 1  |\n",
       "| 13.461538 | 2.599837 | 1 | 0 | 1 | 0 | 0 | 0 | 0 | 0 | 1 | 0 |  8.0 |  0.6400 |  0.512000 |   0.4096000 | 4720 | 16 | 8590 | NA |\n",
       "| 19.711538 | 2.981204 | 1 | 0 | 0 | 0 | 0 | 1 | 0 | 0 | 1 | 0 |  8.0 |  0.6400 |  0.512000 |   0.4096000 | 2000 |  6 | 8090 | NA |\n",
       "| 21.153846 | 3.051822 | 0 | 0 | 0 | 0 | 1 | 0 | 0 | 0 | 1 | 0 | 28.0 |  7.8400 | 21.952000 |  61.4656000 |   40 |  1 | 9170 | 1  |\n",
       "| 45.546559 | 3.818735 | 1 | 0 | 0 | 0 | 1 | 0 | 0 | 0 | 1 | 0 |  5.0 |  0.2500 |  0.125000 |   0.0625000 | 3255 | 10 | 8190 | NA |\n",
       "| 22.596154 | 3.117780 | 0 | 0 | 1 | 0 | 0 | 0 | 0 | 0 | 1 | 0 | 15.0 |  2.2500 |  3.375000 |   5.0625000 | 9620 | 22 | 5390 | 1  |\n",
       "| 16.826923 | 2.822980 | 0 | 0 | 1 | 0 | 0 | 0 | 0 | 0 | 1 | 0 | 11.0 |  1.2100 |  1.331000 |   1.4641000 | 7150 | 20 | 8770 | 1  |\n",
       "| 24.038462 | 3.179655 | 1 | 0 | 0 | 0 | 1 | 0 | 0 | 0 | 1 | 0 | 17.0 |  2.8900 |  4.913000 |   8.3521000 | 2550 |  8 | 9480 | 1  |\n",
       "| 13.846154 | 2.628007 | 0 | 0 | 0 | 0 | 1 | 0 | 0 | 0 | 1 | 0 | 10.0 |  1.0000 |  1.000000 |   1.0000000 |  800 |  2 |  770 | NA |\n",
       "| 14.769231 | 2.692546 | 0 | 0 | 0 | 0 | 1 | 0 | 0 | 0 | 1 | 0 |  9.0 |  0.8100 |  0.729000 |   0.6561000 | 4700 | 16 | 4970 | NA |\n",
       "| 23.076923 | 3.138833 | 1 | 0 | 0 | 1 | 0 | 0 | 0 | 0 | 1 | 0 | 12.0 |  1.4400 |  1.728000 |   2.0736000 | 4110 | 13 | 8680 | 1  |\n",
       "| 38.461538 | 3.649659 | 0 | 0 | 0 | 0 | 0 | 1 | 0 | 0 | 1 | 0 | 11.0 |  1.2100 |  1.331000 |   1.4641000 | 1550 |  4 | 3680 | 1  |\n",
       "| 32.967033 | 3.495508 | 0 | 0 | 1 | 0 | 0 | 0 | 0 | 0 | 1 | 0 | 10.0 |  1.0000 |  1.000000 |   1.0000000 | 2920 |  9 | 6570 | NA |\n",
       "| 17.307692 | 2.851151 | 0 | 0 | 0 | 0 | 0 | 1 | 0 | 0 | 1 | 0 | 14.0 |  1.9600 |  2.744000 |   3.8416000 | 1610 |  5 | 7460 | 1  |\n",
       "\n"
      ],
      "text/plain": [
       "     salario   lwage    sex shs hsg scl clg ad  mw  so  we  ne  exp1 exp2   \n",
       "1     9.615385 2.263364 1   0   0   0   1   0   0   0   0   1    7.0  0.4900\n",
       "2    48.076923 3.872802 0   0   0   0   1   0   0   0   0   1   31.0  9.6100\n",
       "3    11.057692 2.403126 0   0   1   0   0   0   0   0   0   1   18.0  3.2400\n",
       "4    13.942308 2.634928 1   0   0   0   0   1   0   0   0   1   25.0  6.2500\n",
       "5    28.846154 3.361977 1   0   0   0   1   0   0   0   0   1   22.0  4.8400\n",
       "6    11.730769 2.462215 1   0   0   0   1   0   0   0   0   1    1.0  0.0100\n",
       "7    19.230769 2.956512 1   0   1   0   0   0   0   0   0   1   42.0 17.6400\n",
       "8    19.230769 2.956512 0   0   1   0   0   0   0   0   0   1   37.0 13.6900\n",
       "9    12.000000 2.484907 1   0   1   0   0   0   0   0   0   1   31.0  9.6100\n",
       "10   19.230769 2.956512 1   0   0   0   1   0   0   0   0   1    4.0  0.1600\n",
       "11   17.307692 2.851151 1   0   1   0   0   0   0   0   0   1    7.0  0.4900\n",
       "12   12.019231 2.486508 0   0   1   0   0   0   0   0   0   1   30.0  9.0000\n",
       "13   12.019231 2.486508 1   0   0   1   0   0   0   0   0   1    5.5  0.3025\n",
       "14   13.461538 2.599837 1   0   0   1   0   0   0   0   0   1   20.5  4.2025\n",
       "15   16.346154 2.793993 1   0   0   0   1   0   0   0   0   1   25.0  6.2500\n",
       "16   27.884615 3.328075 0   0   1   0   0   0   0   0   0   1   16.0  2.5600\n",
       "17   21.600000 3.072693 0   0   1   0   0   0   0   0   0   1   27.0  7.2900\n",
       "18    8.653846 2.158004 0   0   0   1   0   0   0   0   0   1    3.5  0.1225\n",
       "19   19.230769 2.956512 0   0   1   0   0   0   0   0   0   1    6.0  0.3600\n",
       "20   13.186813 2.579217 0   0   1   0   0   0   0   0   0   1    8.0  0.6400\n",
       "21   10.683761 2.368725 1   0   0   1   0   0   0   0   0   1    6.5  0.4225\n",
       "22   11.538462 2.445686 1   0   0   1   0   0   0   0   0   1    8.5  0.7225\n",
       "23   17.788462 2.878550 1   0   0   0   0   1   0   0   0   1   11.0  1.2100\n",
       "24   19.230769 2.956512 0   0   0   0   1   0   0   0   0   1   11.0  1.2100\n",
       "25   16.304348 2.791432 1   0   0   1   0   0   0   0   0   1   24.5  6.0025\n",
       "26   19.230769 2.956512 0   0   1   0   0   0   0   0   0   1    8.0  0.6400\n",
       "27   14.423077 2.668829 1   0   1   0   0   0   0   0   0   1    5.0  0.2500\n",
       "28   12.000000 2.484907 0   0   0   1   0   0   0   0   0   1    4.5  0.2025\n",
       "29   16.826923 2.822980 0   0   0   0   1   0   0   0   0   1    8.0  0.6400\n",
       "30   19.670330 2.979111 0   0   0   0   1   0   0   0   0   1   26.0  6.7600\n",
       "...  ...       ...      ... ... ... ... ... ... ... ... ... ... ...  ...    \n",
       "5121 13.986014 2.638058 1   0   0   0   0   1   0   0   1   0    7.0  0.4900\n",
       "5122 15.865385 2.764140 0   0   0   0   0   1   0   0   1   0    2.0  0.0400\n",
       "5123 38.461538 3.649659 1   0   0   1   0   0   0   0   1   0    7.5  0.5625\n",
       "5124 28.846154 3.361977 0   0   0   0   1   0   0   0   1   0    5.0  0.2500\n",
       "5125 24.475524 3.197674 1   0   0   0   0   1   0   0   1   0   24.0  5.7600\n",
       "5126 27.884615 3.328075 0   0   0   1   0   0   0   0   1   0   28.5  8.1225\n",
       "5127  8.653846 2.158004 1   0   1   0   0   0   0   0   1   0   25.0  6.2500\n",
       "5128 12.019231 2.486508 0   0   1   0   0   0   0   0   1   0   19.0  3.6100\n",
       "5129 38.461538 3.649659 0   0   0   0   1   0   0   0   1   0    8.0  0.6400\n",
       "5130 12.500000 2.525729 1   0   1   0   0   0   0   0   1   0   12.0  1.4400\n",
       "5131 35.256410 3.562647 0   0   0   0   0   1   0   0   1   0    6.0  0.3600\n",
       "5132 48.076923 3.872802 1   0   0   0   1   0   0   0   1   0   25.0  6.2500\n",
       "5133  9.615385 2.263364 0   0   1   0   0   0   0   0   1   0   20.0  4.0000\n",
       "5134 12.019231 2.486508 0   0   1   0   0   0   0   0   1   0   17.0  2.8900\n",
       "5135 12.019231 2.486508 0   0   0   1   0   0   0   0   1   0   31.5  9.9225\n",
       "5136 12.980769 2.563469 0   0   1   0   0   0   0   0   1   0   15.0  2.2500\n",
       "5137 26.442308 3.274965 1   0   0   0   1   0   0   0   1   0   34.0 11.5600\n",
       "5138 13.461538 2.599837 1   0   1   0   0   0   0   0   1   0    8.0  0.6400\n",
       "5139 19.711538 2.981204 1   0   0   0   0   1   0   0   1   0    8.0  0.6400\n",
       "5140 21.153846 3.051822 0   0   0   0   1   0   0   0   1   0   28.0  7.8400\n",
       "5141 45.546559 3.818735 1   0   0   0   1   0   0   0   1   0    5.0  0.2500\n",
       "5142 22.596154 3.117780 0   0   1   0   0   0   0   0   1   0   15.0  2.2500\n",
       "5143 16.826923 2.822980 0   0   1   0   0   0   0   0   1   0   11.0  1.2100\n",
       "5144 24.038462 3.179655 1   0   0   0   1   0   0   0   1   0   17.0  2.8900\n",
       "5145 13.846154 2.628007 0   0   0   0   1   0   0   0   1   0   10.0  1.0000\n",
       "5146 14.769231 2.692546 0   0   0   0   1   0   0   0   1   0    9.0  0.8100\n",
       "5147 23.076923 3.138833 1   0   0   1   0   0   0   0   1   0   12.0  1.4400\n",
       "5148 38.461538 3.649659 0   0   0   0   0   1   0   0   1   0   11.0  1.2100\n",
       "5149 32.967033 3.495508 0   0   1   0   0   0   0   0   1   0   10.0  1.0000\n",
       "5150 17.307692 2.851151 0   0   0   0   0   1   0   0   1   0   14.0  1.9600\n",
       "     exp3      exp4         occ  occ2 ind  dummy\n",
       "1     0.343000   0.24010000 3600 11   8370 NA   \n",
       "2    29.791000  92.35210000 3050 10   5070 1    \n",
       "3     5.832000  10.49760000 6260 19    770 1    \n",
       "4    15.625000  39.06250000  420  1   6990 1    \n",
       "5    10.648000  23.42560000 2015  6   9470 1    \n",
       "6     0.001000   0.00010000 1650  5   7460 NA   \n",
       "7    74.088000 311.16960000 5120 17   7280 1    \n",
       "8    50.653000 187.41610000 5240 17   5680 1    \n",
       "9    29.791000  92.35210000 4040 13   8590 1    \n",
       "10    0.064000   0.02560000 3255 10   8190 NA   \n",
       "11    0.343000   0.24010000 4020 13   8270 NA   \n",
       "12   27.000000  81.00000000 4220 14   8270 1    \n",
       "13    0.166375   0.09150625 3600 11   8270 NA   \n",
       "14    8.615125  17.66100625 3645 11   8190 1    \n",
       "15   15.625000  39.06250000  110  1   7870 1    \n",
       "16    4.096000   6.55360000 6355 19    770 1    \n",
       "17   19.683000  53.14410000 6320 19    770 1    \n",
       "18    0.042875   0.01500625 7410 20    570 NA   \n",
       "19    0.216000   0.12960000 7000 20   4690 NA   \n",
       "20    0.512000   0.40960000 4000 13   8680 NA   \n",
       "21    0.274625   0.17850625 4300 15   8590 NA   \n",
       "22    0.614125   0.52200625 3600 11   8190 NA   \n",
       "23    1.331000   1.46410000 2310  8   7860 1    \n",
       "24    1.331000   1.46410000 6200 19    770 1    \n",
       "25   14.706125  36.03000625   20  1   5480 1    \n",
       "26    0.512000   0.40960000 4800 16   7390 NA   \n",
       "27    0.125000   0.06250000  430  1   7390 NA   \n",
       "28    0.091125   0.04100625 6330 19    770 NA   \n",
       "29    0.512000   0.40960000 5400 17   4870 NA   \n",
       "30   17.576000  45.69760000 6230 19   6570 1    \n",
       "...  ...       ...          ...  ...  ...  ...  \n",
       "5121  0.343000   0.2401000  3820 12   9590 NA   \n",
       "5122  0.008000   0.0016000  2200  8   7870 NA   \n",
       "5123  0.421875   0.3164062   220  1    770 NA   \n",
       "5124  0.125000   0.0625000  1360  4    770 NA   \n",
       "5125 13.824000  33.1776000  2310  8   7860 1    \n",
       "5126 23.149125  65.9750063  8140 21    770 1    \n",
       "5127 15.625000  39.0625000  3930 12   7680 1    \n",
       "5128  6.859000  13.0321000  2750  9   8560 1    \n",
       "5129  0.512000   0.4096000   710  2   6870 NA   \n",
       "5130  1.728000   2.0736000  4010 13   8680 1    \n",
       "5131  0.216000   0.1296000  2320  8   7860 NA   \n",
       "5132 15.625000  39.0625000  3255 10   8170 1    \n",
       "5133  8.000000  16.0000000  4110 13   8680 1    \n",
       "5134  4.913000   8.3521000  9620 22   6290 1    \n",
       "5135 31.255875  98.4560063  5510 17   6380 1    \n",
       "5136  3.375000   5.0625000  2010  6   9370 1    \n",
       "5137 39.304000 133.6336000  2310  8   7860 1    \n",
       "5138  0.512000   0.4096000  4720 16   8590 NA   \n",
       "5139  0.512000   0.4096000  2000  6   8090 NA   \n",
       "5140 21.952000  61.4656000    40  1   9170 1    \n",
       "5141  0.125000   0.0625000  3255 10   8190 NA   \n",
       "5142  3.375000   5.0625000  9620 22   5390 1    \n",
       "5143  1.331000   1.4641000  7150 20   8770 1    \n",
       "5144  4.913000   8.3521000  2550  8   9480 1    \n",
       "5145  1.000000   1.0000000   800  2    770 NA   \n",
       "5146  0.729000   0.6561000  4700 16   4970 NA   \n",
       "5147  1.728000   2.0736000  4110 13   8680 1    \n",
       "5148  1.331000   1.4641000  1550  4   3680 1    \n",
       "5149  1.000000   1.0000000  2920  9   6570 NA   \n",
       "5150  2.744000   3.8416000  1610  5   7460 1    "
      ]
     },
     "metadata": {},
     "output_type": "display_data"
    }
   ],
   "source": [
    "base1$dummy[base1$exp1 > 10] <- 1\n",
    "base1"
   ]
  },
  {
   "cell_type": "markdown",
   "metadata": {},
   "source": [
    "## If condition\n",
    "The body of the if condition is excuted if the `test_expression` is `TRUE`. The ouput of the test expression should be a `boolean`variable. \n",
    "\n",
    "<img src=\"if-statement.jpg\" alt=\"image info\" />\n"
   ]
  },
  {
   "cell_type": "markdown",
   "metadata": {},
   "source": [
    "The structure of the code is the following: <br><br>\n",
    "\n",
    "<font size=\"4\">\n",
    "if <font color='green'>(test expresion)</font>{<br>\n",
    "&nbsp;&nbsp;&nbsp;&nbsp;Code to excute<br>\n",
    "}</font>\n",
    "\n",
    "The function **if** tests the veracity of a logic expression. The result of test statement should be a **<font color='red'>boolean</font>**. In other words, the output of the test statemen must be **<font color='red'>TRUE</font>** or **<font color='red'>FALSE</font>**. To sum, any function that its output is **boolean** can be used as a test expression in the **if** function. "
   ]
  },
  {
   "cell_type": "code",
   "execution_count": 151,
   "metadata": {},
   "outputs": [],
   "source": [
    "x <- -4\n",
    "\n",
    "if(x > 0){\n",
    "print(\"Non-negative number\")\n",
    "}"
   ]
  },
  {
   "cell_type": "markdown",
   "metadata": {},
   "source": [
    "### Tests more than 1 expression\n",
    "\n",
    "We will use **else if**. This function allows us to add more test expressions.  <br><br>\n",
    "\n",
    "<font size=\"3\">\n",
    "if <font color='green'>(Test expression 1)</font>{ <br>\n",
    "&nbsp;&nbsp;&nbsp;&nbsp;Code1<br><br>\n",
    "} else if <font color='green'>(Test expression 2)</font>{<br>\n",
    "&nbsp;&nbsp;&nbsp;&nbsp;Code2<br><br>\n",
    "} else if <font color='green'>(Test expression 3)</font>{<br>\n",
    "&nbsp;&nbsp;&nbsp;&nbsp;Code3<br><br>\n",
    "} else if <font color='green'>(Test expression 4)</font>{<br>\n",
    "&nbsp;&nbsp;&nbsp;&nbsp;Code4<br><br>\n",
    "} else if <font color='green'>(Test expression 5)</font>{<br>\n",
    "&nbsp;&nbsp;&nbsp;&nbsp;Code5<br><br>\n",
    "}else{<br>&nbsp;&nbsp;&nbsp;&nbsp;Code6<br><br>\n",
    "}</font>\n",
    "\n",
    "R will read the conditions of the test in order. If **Test expression 1** is `TRUE`, the rest of the test expressions will not be evaluated. R execute **Code2** and will not test the next conditions. <br>\n",
    "\n",
    "In case no Test expression is `TRUE`, the **Code6** will be excuted."
   ]
  },
  {
   "cell_type": "code",
   "execution_count": 5,
   "metadata": {},
   "outputs": [
    {
     "ename": "ERROR",
     "evalue": "Error in parse(text = x, srcfile = src): <text>:1:7: inesperado '='\n1: if (z =\n          ^\n",
     "output_type": "error",
     "traceback": [
      "Error in parse(text = x, srcfile = src): <text>:1:7: inesperado '='\n1: if (z =\n          ^\nTraceback:\n"
     ]
    }
   ],
   "source": [
    "if (z = 3 > 9) {\n",
    "    print('xsd')\n",
    "}"
   ]
  },
  {
   "cell_type": "code",
   "execution_count": 7,
   "metadata": {},
   "outputs": [
    {
     "name": "stdout",
     "output_type": "stream",
     "text": [
      "[1] \"xsd\"\n"
     ]
    }
   ],
   "source": [
    "if ((z <- 12) >= 9){\n",
    "    print('xsd')\n",
    "}"
   ]
  },
  {
   "cell_type": "code",
   "execution_count": 155,
   "metadata": {},
   "outputs": [
    {
     "name": "stdout",
     "output_type": "stream",
     "text": [
      "[1] \"Positive number\"\n"
     ]
    }
   ],
   "source": [
    "x <- 5\n",
    "\n",
    "if (x < 0) {\n",
    "print(\"Negative number\")\n",
    "} else if (x > 0) {\n",
    "print(\"Positive number\")\n",
    "} else {\n",
    "print(\"Zero\")}"
   ]
  },
  {
   "cell_type": "markdown",
   "metadata": {},
   "source": [
    "## Loops\n",
    "A for loop is used for iterating over a sequence. It has the following structure:\n",
    "\n",
    "<img src=\"for_loop.jpg\" alt=\"image info\" />\n",
    "\n"
   ]
  },
  {
   "cell_type": "code",
   "execution_count": 171,
   "metadata": {},
   "outputs": [
    {
     "data": {
      "text/html": [
       "<pre class=language-r><code>.Primitive(\"length\")</code></pre>"
      ],
      "text/latex": [
       "\\begin{minted}{r}\n",
       ".Primitive(\"length\")\n",
       "\\end{minted}"
      ],
      "text/markdown": [
       "```r\n",
       ".Primitive(\"length\")\n",
       "```"
      ],
      "text/plain": [
       "function (x)  .Primitive(\"length\")"
      ]
     },
     "metadata": {},
     "output_type": "display_data"
    }
   ],
   "source": [
    "age = c( 20 , 27 , 31 , 25 , 28 )\n",
    "years = c( 2023 , 2021 , 2022 , 2026 , 2027, 2028 )\n",
    "length"
   ]
  },
  {
   "cell_type": "code",
   "execution_count": 172,
   "metadata": {},
   "outputs": [
    {
     "data": {
      "text/html": [
       "<style>\n",
       ".list-inline {list-style: none; margin:0; padding: 0}\n",
       ".list-inline>li {display: inline-block}\n",
       ".list-inline>li:not(:last-child)::after {content: \"\\00b7\"; padding: 0 .5ex}\n",
       "</style>\n",
       "<ol class=list-inline><li>0</li><li>0</li><li>0</li><li>0</li><li>0</li></ol>\n"
      ],
      "text/latex": [
       "\\begin{enumerate*}\n",
       "\\item 0\n",
       "\\item 0\n",
       "\\item 0\n",
       "\\item 0\n",
       "\\item 0\n",
       "\\end{enumerate*}\n"
      ],
      "text/markdown": [
       "1. 0\n",
       "2. 0\n",
       "3. 0\n",
       "4. 0\n",
       "5. 0\n",
       "\n",
       "\n"
      ],
      "text/plain": [
       "[1] 0 0 0 0 0"
      ]
     },
     "metadata": {},
     "output_type": "display_data"
    }
   ],
   "source": [
    "age_finish <- numeric( length = length( age ) )\n",
    "age_finish"
   ]
  },
  {
   "cell_type": "code",
   "execution_count": 173,
   "metadata": {},
   "outputs": [
    {
     "name": "stdout",
     "output_type": "stream",
     "text": [
      "[1] 2\n",
      "[1] 3\n",
      "[1] 4\n",
      "[1] 5\n",
      "[1] 6\n"
     ]
    }
   ],
   "source": [
    "for ( i in c( 1:length( age ) ) ) {\n",
    "  print(i + 1)\n",
    "}"
   ]
  },
  {
   "cell_type": "code",
   "execution_count": 174,
   "metadata": {},
   "outputs": [
    {
     "name": "stdout",
     "output_type": "stream",
     "text": [
      "[1] 22 27 32 30 34\n"
     ]
    }
   ],
   "source": [
    "for ( i in c( 1:length( age ) ) ) {\n",
    "  age_finish[ i ] = age[ i ] + years[ i ] - 2021\n",
    "}\n",
    "print( age_finish )"
   ]
  },
  {
   "cell_type": "markdown",
   "metadata": {},
   "source": [
    "## Functions in R\n",
    "\n",
    "- `Arguments` − Elements that the function will use to make operations. Arguments are optional and can have default values.\n",
    "\n",
    "- `Function Body` − This defines what your function does.\n",
    "- `return` − Specifies the variable that will be the output of the function.\n",
    "\n",
    "Return Value − The return value of a function is the last expression in the function body to be evaluated.\n",
    "<br><br>\n",
    "<font size=\"4\">\n",
    "function <font color='green'>(arg_1, arg_2, ...) </font>{<br><br>\n",
    "&nbsp;&nbsp;&nbsp;&nbsp;Function body <br>\n",
    "    <br> &nbsp;&nbsp;&nbsp;&nbsp;return <br>\n",
    "}</font>\n"
   ]
  },
  {
   "cell_type": "code",
   "execution_count": 191,
   "metadata": {},
   "outputs": [],
   "source": [
    "demean<- function(x){ \n",
    "    new_var = x - mean(x)\n",
    "    new_var_2 = new_var^4\n",
    "    return( new_var_2 )\n",
    "}"
   ]
  },
  {
   "cell_type": "code",
   "execution_count": 192,
   "metadata": {},
   "outputs": [],
   "source": [
    "vector_2 = c(2 , 3, 4)"
   ]
  },
  {
   "cell_type": "code",
   "execution_count": 193,
   "metadata": {},
   "outputs": [
    {
     "data": {
      "text/html": [
       "<style>\n",
       ".list-inline {list-style: none; margin:0; padding: 0}\n",
       ".list-inline>li {display: inline-block}\n",
       ".list-inline>li:not(:last-child)::after {content: \"\\00b7\"; padding: 0 .5ex}\n",
       "</style>\n",
       "<ol class=list-inline><li>1</li><li>0</li><li>1</li></ol>\n"
      ],
      "text/latex": [
       "\\begin{enumerate*}\n",
       "\\item 1\n",
       "\\item 0\n",
       "\\item 1\n",
       "\\end{enumerate*}\n"
      ],
      "text/markdown": [
       "1. 1\n",
       "2. 0\n",
       "3. 1\n",
       "\n",
       "\n"
      ],
      "text/plain": [
       "[1] 1 0 1"
      ]
     },
     "metadata": {},
     "output_type": "display_data"
    }
   ],
   "source": [
    "demean( vector_2 )"
   ]
  },
  {
   "cell_type": "markdown",
   "metadata": {},
   "source": [
    "## Linear Regressions"
   ]
  },
  {
   "cell_type": "markdown",
   "metadata": {},
   "source": [
    "## Packages"
   ]
  },
  {
   "cell_type": "code",
   "execution_count": 84,
   "metadata": {},
   "outputs": [
    {
     "name": "stderr",
     "output_type": "stream",
     "text": [
      "Installing package into 'C:/Users/Roberto Carlos/Documents/R/win-library/4.1'\n",
      "(as 'lib' is unspecified)\n",
      "\n"
     ]
    },
    {
     "name": "stdout",
     "output_type": "stream",
     "text": [
      "package 'glmnet' successfully unpacked and MD5 sums checked\n",
      "\n",
      "The downloaded binary packages are in\n",
      "\tC:\\Users\\Roberto Carlos\\AppData\\Local\\Temp\\Rtmp04Br6W\\downloaded_packages\n"
     ]
    }
   ],
   "source": [
    "install.packages( \"glmnet\" )"
   ]
  },
  {
   "cell_type": "code",
   "execution_count": 85,
   "metadata": {},
   "outputs": [
    {
     "name": "stderr",
     "output_type": "stream",
     "text": [
      "Loading required package: Matrix\n",
      "\n",
      "Loaded glmnet 4.1-3\n",
      "\n"
     ]
    }
   ],
   "source": [
    "library(glmnet)"
   ]
  },
  {
   "cell_type": "code",
   "execution_count": 87,
   "metadata": {},
   "outputs": [
    {
     "data": {
      "text/html": [
       "<style>\n",
       ".list-inline {list-style: none; margin:0; padding: 0}\n",
       ".list-inline>li {display: inline-block}\n",
       ".list-inline>li:not(:last-child)::after {content: \"\\00b7\"; padding: 0 .5ex}\n",
       "</style>\n",
       "<ol class=list-inline><li>13913</li><li>23</li></ol>\n"
      ],
      "text/latex": [
       "\\begin{enumerate*}\n",
       "\\item 13913\n",
       "\\item 23\n",
       "\\end{enumerate*}\n"
      ],
      "text/markdown": [
       "1. 13913\n",
       "2. 23\n",
       "\n",
       "\n"
      ],
      "text/plain": [
       "[1] 13913    23"
      ]
     },
     "metadata": {},
     "output_type": "display_data"
    }
   ],
   "source": [
    "\n",
    "# Reading data and converting to dataframe\n",
    "Penn <- as.data.frame(read.table(\"../data/penn_jae.dat\", header=T ))\n",
    "dim(Penn)"
   ]
  },
  {
   "cell_type": "code",
   "execution_count": 88,
   "metadata": {},
   "outputs": [],
   "source": [
    "#Number of rows\n",
    "n <- dim(Penn)[1]\n",
    "\n",
    "# Number of columns\n",
    "p_1 <- dim(Penn)[2]"
   ]
  },
  {
   "cell_type": "code",
   "execution_count": 89,
   "metadata": {},
   "outputs": [],
   "source": [
    "# Filtering data to tg==4 | tg==0\n",
    "Penn<- subset(Penn, tg==4 | tg==0)\n",
    "\n",
    "# we are making the columns of the data frame as vectors available with its own name\n",
    "attach(Penn)"
   ]
  },
  {
   "cell_type": "code",
   "execution_count": 90,
   "metadata": {},
   "outputs": [
    {
     "data": {
      "text/html": [
       "'logical'"
      ],
      "text/latex": [
       "'logical'"
      ],
      "text/markdown": [
       "'logical'"
      ],
      "text/plain": [
       "[1] \"logical\""
      ]
     },
     "metadata": {},
     "output_type": "display_data"
    }
   ],
   "source": [
    "T4 <- (tg==4)\n",
    "typeof(T4)"
   ]
  },
  {
   "cell_type": "code",
   "execution_count": 91,
   "metadata": {},
   "outputs": [
    {
     "data": {
      "text/plain": [
       "   Mode   FALSE    TRUE \n",
       "logical    3354    1745 "
      ]
     },
     "metadata": {},
     "output_type": "display_data"
    }
   ],
   "source": [
    "summary(T4)"
   ]
  },
  {
   "cell_type": "markdown",
   "metadata": {},
   "source": [
    "### Formula\n",
    "For more information [link1](https://thomasleeper.com/Rcourse/Tutorials/formulae.html), [link2](https://www.datacamp.com/community/tutorials/r-formula-tutorial)."
   ]
  },
  {
   "cell_type": "code",
   "execution_count": 92,
   "metadata": {
    "scrolled": true
   },
   "outputs": [
    {
     "name": "stderr",
     "output_type": "stream",
     "text": [
      "Installing package into 'C:/Users/Roberto Carlos/Documents/R/win-library/4.1'\n",
      "(as 'lib' is unspecified)\n",
      "\n"
     ]
    },
    {
     "name": "stdout",
     "output_type": "stream",
     "text": [
      "\n",
      "  There is a binary version available but the source version is later:\n",
      "       binary source needs_compilation\n",
      "lmtest 0.9-39 0.9-40              TRUE\n",
      "\n",
      "  Binaries will be installed\n",
      "package 'lmtest' successfully unpacked and MD5 sums checked\n",
      "\n",
      "The downloaded binary packages are in\n",
      "\tC:\\Users\\Roberto Carlos\\AppData\\Local\\Temp\\Rtmp04Br6W\\downloaded_packages\n"
     ]
    },
    {
     "name": "stderr",
     "output_type": "stream",
     "text": [
      "Installing package into 'C:/Users/Roberto Carlos/Documents/R/win-library/4.1'\n",
      "(as 'lib' is unspecified)\n",
      "\n"
     ]
    },
    {
     "name": "stdout",
     "output_type": "stream",
     "text": [
      "package 'sandwich' successfully unpacked and MD5 sums checked\n",
      "\n",
      "The downloaded binary packages are in\n",
      "\tC:\\Users\\Roberto Carlos\\AppData\\Local\\Temp\\Rtmp04Br6W\\downloaded_packages\n"
     ]
    },
    {
     "name": "stderr",
     "output_type": "stream",
     "text": [
      "Loading required package: zoo\n",
      "\n",
      "\n",
      "Attaching package: 'zoo'\n",
      "\n",
      "\n",
      "The following objects are masked from 'package:base':\n",
      "\n",
      "    as.Date, as.Date.numeric\n",
      "\n",
      "\n"
     ]
    }
   ],
   "source": [
    "install.packages( \"lmtest\" )\n",
    "install.packages( \"sandwich\" )\n",
    "library(lmtest)\n",
    "library(sandwich)\n",
    "# Suggestion for update your R version"
   ]
  },
  {
   "cell_type": "code",
   "execution_count": 109,
   "metadata": {},
   "outputs": [],
   "source": [
    "# Formula regression\n",
    "# Generation of formulas for regressions\n",
    "# The class formula\n",
    "\n",
    "formula1 <- T4 ~ female\n",
    "\n",
    "formula2 <-  T4 ~ female + black\n",
    "\n",
    "# We include only the interaction\n",
    "\n",
    "formula3 <-  T4 ~ female + black + female:black\n",
    "\n",
    "# We include the two terms and their interaction\n",
    "\n",
    "formula4 <-  T4 ~ female*black\n",
    "\n",
    "# drop intercep\n",
    "\n",
    "formula5 <-  T4 ~ -1 + female + black + female:black\n",
    "\n",
    "formula5 <-  T4 ~ 0 + female + black + female:black\n",
    "\n",
    "# polinomial independent varibles\n",
    "\n",
    "formula6 <- T4 ~ -1 + female + black + female:black + lusd + lusd^2 \n",
    "\n",
    "# interaction effects & categorical variables \n",
    "\n",
    "formula7 <-  T4~(female+black+othrace+factor(dep)+q2+q3+q4+q5+q6+agelt35+agegt54+durable+lusd+husd)^2"
   ]
  },
  {
   "cell_type": "code",
   "execution_count": 94,
   "metadata": {},
   "outputs": [
    {
     "data": {
      "text/html": [
       "<style>\n",
       ".list-inline {list-style: none; margin:0; padding: 0}\n",
       ".list-inline>li {display: inline-block}\n",
       ".list-inline>li:not(:last-child)::after {content: \"\\00b7\"; padding: 0 .5ex}\n",
       "</style>\n",
       "<ol class=list-inline><li>'T4'</li><li>'female'</li></ol>\n"
      ],
      "text/latex": [
       "\\begin{enumerate*}\n",
       "\\item 'T4'\n",
       "\\item 'female'\n",
       "\\end{enumerate*}\n"
      ],
      "text/markdown": [
       "1. 'T4'\n",
       "2. 'female'\n",
       "\n",
       "\n"
      ],
      "text/plain": [
       "[1] \"T4\"     \"female\""
      ]
     },
     "metadata": {},
     "output_type": "display_data"
    }
   ],
   "source": [
    "all.vars(formula1)"
   ]
  },
  {
   "cell_type": "code",
   "execution_count": 95,
   "metadata": {},
   "outputs": [
    {
     "data": {
      "text/html": [
       "<style>\n",
       ".list-inline {list-style: none; margin:0; padding: 0}\n",
       ".list-inline>li {display: inline-block}\n",
       ".list-inline>li:not(:last-child)::after {content: \"\\00b7\"; padding: 0 .5ex}\n",
       "</style>\n",
       "<ol class=list-inline><li>'T4'</li><li>'female'</li><li>'black'</li></ol>\n"
      ],
      "text/latex": [
       "\\begin{enumerate*}\n",
       "\\item 'T4'\n",
       "\\item 'female'\n",
       "\\item 'black'\n",
       "\\end{enumerate*}\n"
      ],
      "text/markdown": [
       "1. 'T4'\n",
       "2. 'female'\n",
       "3. 'black'\n",
       "\n",
       "\n"
      ],
      "text/plain": [
       "[1] \"T4\"     \"female\" \"black\" "
      ]
     },
     "metadata": {},
     "output_type": "display_data"
    }
   ],
   "source": [
    "# We can use multiple independent variables b simply separating them with the plus symbol(+)\n",
    "\n",
    "formula2 <- (T4 ~ female + black )\n",
    "# See the variables in the formula\n",
    "all.vars( formula2 )"
   ]
  },
  {
   "cell_type": "code",
   "execution_count": 96,
   "metadata": {
    "scrolled": true
   },
   "outputs": [
    {
     "name": "stdout",
     "output_type": "stream",
     "text": [
      "T4 ~ female - black\n",
      "attr(,\"variables\")\n",
      "list(T4, female, black)\n",
      "attr(,\"factors\")\n",
      "       female\n",
      "T4          0\n",
      "female      1\n",
      "black       0\n",
      "attr(,\"term.labels\")\n",
      "[1] \"female\"\n",
      "attr(,\"order\")\n",
      "[1] 1\n",
      "attr(,\"intercept\")\n",
      "[1] 1\n",
      "attr(,\"response\")\n",
      "[1] 1\n",
      "attr(,\".Environment\")\n",
      "<environment: R_GlobalEnv>\n"
     ]
    }
   ],
   "source": [
    "formula3 <- (T4 ~ female - black )\n",
    "print( terms( formula3 ) )"
   ]
  },
  {
   "cell_type": "code",
   "execution_count": 97,
   "metadata": {},
   "outputs": [
    {
     "name": "stdout",
     "output_type": "stream",
     "text": [
      "T4 ~ female * black\n",
      "attr(,\"variables\")\n",
      "list(T4, female, black)\n",
      "attr(,\"factors\")\n",
      "       female black female:black\n",
      "T4          0     0            0\n",
      "female      1     0            1\n",
      "black       0     1            1\n",
      "attr(,\"term.labels\")\n",
      "[1] \"female\"       \"black\"        \"female:black\"\n",
      "attr(,\"order\")\n",
      "[1] 1 1 2\n",
      "attr(,\"intercept\")\n",
      "[1] 1\n",
      "attr(,\"response\")\n",
      "[1] 1\n",
      "attr(,\".Environment\")\n",
      "<environment: R_GlobalEnv>\n"
     ]
    }
   ],
   "source": [
    "# Interactions terms\n",
    "# We include the two terms and their interaction\n",
    "formula5  <- (T4 ~ female * black)\n",
    "print( terms( formula5 ) )\n"
   ]
  },
  {
   "cell_type": "code",
   "execution_count": 98,
   "metadata": {
    "scrolled": true
   },
   "outputs": [
    {
     "name": "stdout",
     "output_type": "stream",
     "text": [
      "T4 ~ female:black\n",
      "attr(,\"variables\")\n",
      "list(T4, female, black)\n",
      "attr(,\"factors\")\n",
      "       female:black\n",
      "T4                0\n",
      "female            2\n",
      "black             2\n",
      "attr(,\"term.labels\")\n",
      "[1] \"female:black\"\n",
      "attr(,\"order\")\n",
      "[1] 2\n",
      "attr(,\"intercept\")\n",
      "[1] 1\n",
      "attr(,\"response\")\n",
      "[1] 1\n",
      "attr(,\".Environment\")\n",
      "<environment: R_GlobalEnv>\n"
     ]
    }
   ],
   "source": [
    "\n",
    "# We include only the interaction\n",
    "formula6  <- (T4 ~ female:black)\n",
    "print( terms( formula6 ) )"
   ]
  },
  {
   "cell_type": "code",
   "execution_count": 99,
   "metadata": {
    "scrolled": true
   },
   "outputs": [
    {
     "data": {
      "text/html": [
       "'integer'"
      ],
      "text/latex": [
       "'integer'"
      ],
      "text/markdown": [
       "'integer'"
      ],
      "text/plain": [
       "[1] \"integer\""
      ]
     },
     "metadata": {},
     "output_type": "display_data"
    },
    {
     "name": "stdout",
     "output_type": "stream",
     "text": [
      "T4 ~ female * black + factor(dep)\n",
      "attr(,\"variables\")\n",
      "list(T4, female, black, factor(dep))\n",
      "attr(,\"factors\")\n",
      "            female black factor(dep) female:black\n",
      "T4               0     0           0            0\n",
      "female           1     0           0            1\n",
      "black            0     1           0            1\n",
      "factor(dep)      0     0           1            0\n",
      "attr(,\"term.labels\")\n",
      "[1] \"female\"       \"black\"        \"factor(dep)\"  \"female:black\"\n",
      "attr(,\"order\")\n",
      "[1] 1 1 1 2\n",
      "attr(,\"intercept\")\n",
      "[1] 1\n",
      "attr(,\"response\")\n",
      "[1] 1\n",
      "attr(,\".Environment\")\n",
      "<environment: R_GlobalEnv>\n",
      "T4 ~ female * black + dep\n",
      "attr(,\"variables\")\n",
      "list(T4, female, black, dep)\n",
      "attr(,\"factors\")\n",
      "       female black dep female:black\n",
      "T4          0     0   0            0\n",
      "female      1     0   0            1\n",
      "black       0     1   0            1\n",
      "dep         0     0   1            0\n",
      "attr(,\"term.labels\")\n",
      "[1] \"female\"       \"black\"        \"dep\"          \"female:black\"\n",
      "attr(,\"order\")\n",
      "[1] 1 1 1 2\n",
      "attr(,\"intercept\")\n",
      "[1] 1\n",
      "attr(,\"response\")\n",
      "[1] 1\n",
      "attr(,\".Environment\")\n",
      "<environment: R_GlobalEnv>\n"
     ]
    }
   ],
   "source": [
    "# Factor in regression Analysis\n",
    "# dep is a factor variable but as defaul it is a vector\n",
    "\n",
    "#dep[ 4:20 ]\n",
    "class(dep)\n",
    "\n",
    "#factor(dep) == as.factor( dep )\n",
    "\n",
    "# we need to specify that dep is a factor variable in a regression formula to not be treated as a numeric vector\n",
    "## by default, the factor's first level treated as a baseline\n",
    "formula6  <- (T4 ~  female * black + factor( dep ) )\n",
    "print( terms( formula6 ) )\n",
    "\n",
    "formula7  <- (T4 ~  female * black + dep )\n",
    "print( terms( formula7 ) )"
   ]
  },
  {
   "cell_type": "code",
   "execution_count": 111,
   "metadata": {
    "scrolled": true
   },
   "outputs": [
    {
     "data": {
      "text/plain": [
       "\n",
       "Call:\n",
       "lm(formula = formula3, data = Penn)\n",
       "\n",
       "Residuals:\n",
       "    Min      1Q  Median      3Q     Max \n",
       "-0.3736 -0.3460 -0.3354  0.6540  0.6751 \n",
       "\n",
       "Coefficients:\n",
       "              Estimate Std. Error t value Pr(>|t|)    \n",
       "(Intercept)   0.346010   0.009163  37.761   <2e-16 ***\n",
       "female       -0.010634   0.014471  -0.735    0.462    \n",
       "black        -0.021080   0.026735  -0.789    0.430    \n",
       "female:black  0.059289   0.041109   1.442    0.149    \n",
       "---\n",
       "Signif. codes:  0 '***' 0.001 '**' 0.01 '*' 0.05 '.' 0.1 ' ' 1\n",
       "\n",
       "Residual standard error: 0.4745 on 5095 degrees of freedom\n",
       "Multiple R-squared:  0.0004269,\tAdjusted R-squared:  -0.0001616 \n",
       "F-statistic: 0.7254 on 3 and 5095 DF,  p-value: 0.5367\n"
      ]
     },
     "metadata": {},
     "output_type": "display_data"
    },
    {
     "data": {
      "text/html": [
       "<table class=\"dataframe\">\n",
       "<caption>A matrix: 2 × 4 of type dbl</caption>\n",
       "<thead>\n",
       "\t<tr><th></th><th scope=col>Estimate</th><th scope=col>Std. Error</th><th scope=col>t value</th><th scope=col>Pr(&gt;|t|)</th></tr>\n",
       "</thead>\n",
       "<tbody>\n",
       "\t<tr><th scope=row>(Intercept)</th><td> 0.343534057</td><td>0.008608186</td><td>39.9078351</td><td>2.587333e-303</td></tr>\n",
       "\t<tr><th scope=row>female</th><td>-0.003242795</td><td>0.013543176</td><td>-0.2394413</td><td> 8.107731e-01</td></tr>\n",
       "</tbody>\n",
       "</table>\n"
      ],
      "text/latex": [
       "A matrix: 2 × 4 of type dbl\n",
       "\\begin{tabular}{r|llll}\n",
       "  & Estimate & Std. Error & t value & Pr(>\\textbar{}t\\textbar{})\\\\\n",
       "\\hline\n",
       "\t(Intercept) &  0.343534057 & 0.008608186 & 39.9078351 & 2.587333e-303\\\\\n",
       "\tfemale & -0.003242795 & 0.013543176 & -0.2394413 &  8.107731e-01\\\\\n",
       "\\end{tabular}\n"
      ],
      "text/markdown": [
       "\n",
       "A matrix: 2 × 4 of type dbl\n",
       "\n",
       "| <!--/--> | Estimate | Std. Error | t value | Pr(&gt;|t|) |\n",
       "|---|---|---|---|---|\n",
       "| (Intercept) |  0.343534057 | 0.008608186 | 39.9078351 | 2.587333e-303 |\n",
       "| female | -0.003242795 | 0.013543176 | -0.2394413 |  8.107731e-01 |\n",
       "\n"
      ],
      "text/plain": [
       "            Estimate     Std. Error  t value    Pr(>|t|)     \n",
       "(Intercept)  0.343534057 0.008608186 39.9078351 2.587333e-303\n",
       "female      -0.003242795 0.013543176 -0.2394413  8.107731e-01"
      ]
     },
     "metadata": {},
     "output_type": "display_data"
    },
    {
     "data": {
      "text/html": [
       "1.1248081446796e-05"
      ],
      "text/latex": [
       "1.1248081446796e-05"
      ],
      "text/markdown": [
       "1.1248081446796e-05"
      ],
      "text/plain": [
       "[1] 1.124808e-05"
      ]
     },
     "metadata": {},
     "output_type": "display_data"
    }
   ],
   "source": [
    "# regression\n",
    "\n",
    "reg <- lm(formula1, Penn)\n",
    "summary( reg1 )\n",
    "\n",
    "summary( reg )$coefficient\n",
    "summary( reg )$r.squared"
   ]
  },
  {
   "cell_type": "code",
   "execution_count": 112,
   "metadata": {},
   "outputs": [
    {
     "data": {
      "text/html": [
       "<table class=\"dataframe\">\n",
       "<caption>A matrix: 4 × 4 of type dbl</caption>\n",
       "<thead>\n",
       "\t<tr><th></th><th scope=col>Estimate</th><th scope=col>Std. Error</th><th scope=col>t value</th><th scope=col>Pr(&gt;|t|)</th></tr>\n",
       "</thead>\n",
       "<tbody>\n",
       "\t<tr><th scope=row>(Intercept)</th><td> 0.34601044</td><td>0.009163102</td><td>37.7612767</td><td>2.383047e-275</td></tr>\n",
       "\t<tr><th scope=row>female</th><td>-0.01063440</td><td>0.014471177</td><td>-0.7348673</td><td> 4.624541e-01</td></tr>\n",
       "\t<tr><th scope=row>black</th><td>-0.02108047</td><td>0.026734605</td><td>-0.7885087</td><td> 4.304359e-01</td></tr>\n",
       "\t<tr><th scope=row>female:black</th><td> 0.05928933</td><td>0.041109061</td><td> 1.4422448</td><td> 1.492948e-01</td></tr>\n",
       "</tbody>\n",
       "</table>\n"
      ],
      "text/latex": [
       "A matrix: 4 × 4 of type dbl\n",
       "\\begin{tabular}{r|llll}\n",
       "  & Estimate & Std. Error & t value & Pr(>\\textbar{}t\\textbar{})\\\\\n",
       "\\hline\n",
       "\t(Intercept) &  0.34601044 & 0.009163102 & 37.7612767 & 2.383047e-275\\\\\n",
       "\tfemale & -0.01063440 & 0.014471177 & -0.7348673 &  4.624541e-01\\\\\n",
       "\tblack & -0.02108047 & 0.026734605 & -0.7885087 &  4.304359e-01\\\\\n",
       "\tfemale:black &  0.05928933 & 0.041109061 &  1.4422448 &  1.492948e-01\\\\\n",
       "\\end{tabular}\n"
      ],
      "text/markdown": [
       "\n",
       "A matrix: 4 × 4 of type dbl\n",
       "\n",
       "| <!--/--> | Estimate | Std. Error | t value | Pr(&gt;|t|) |\n",
       "|---|---|---|---|---|\n",
       "| (Intercept) |  0.34601044 | 0.009163102 | 37.7612767 | 2.383047e-275 |\n",
       "| female | -0.01063440 | 0.014471177 | -0.7348673 |  4.624541e-01 |\n",
       "| black | -0.02108047 | 0.026734605 | -0.7885087 |  4.304359e-01 |\n",
       "| female:black |  0.05928933 | 0.041109061 |  1.4422448 |  1.492948e-01 |\n",
       "\n"
      ],
      "text/plain": [
       "             Estimate    Std. Error  t value    Pr(>|t|)     \n",
       "(Intercept)   0.34601044 0.009163102 37.7612767 2.383047e-275\n",
       "female       -0.01063440 0.014471177 -0.7348673  4.624541e-01\n",
       "black        -0.02108047 0.026734605 -0.7885087  4.304359e-01\n",
       "female:black  0.05928933 0.041109061  1.4422448  1.492948e-01"
      ]
     },
     "metadata": {},
     "output_type": "display_data"
    }
   ],
   "source": [
    "reg <- lm(formula3, Penn)\n",
    "\n",
    "summary( reg )$coefficient\n"
   ]
  },
  {
   "cell_type": "code",
   "execution_count": 115,
   "metadata": {
    "scrolled": true
   },
   "outputs": [
    {
     "data": {
      "text/html": [
       "<table class=\"dataframe\">\n",
       "<caption>A matrix: 103 × 4 of type dbl</caption>\n",
       "<thead>\n",
       "\t<tr><th></th><th scope=col>Estimate</th><th scope=col>Std. Error</th><th scope=col>t value</th><th scope=col>Pr(&gt;|t|)</th></tr>\n",
       "</thead>\n",
       "<tbody>\n",
       "\t<tr><th scope=row>(Intercept)</th><td> 0.321457255</td><td>0.16659101</td><td> 1.92961945</td><td>0.05371056</td></tr>\n",
       "\t<tr><th scope=row>female</th><td> 0.104233279</td><td>0.13769037</td><td> 0.75701213</td><td>0.44907829</td></tr>\n",
       "\t<tr><th scope=row>black</th><td> 0.071648027</td><td>0.08727931</td><td> 0.82090508</td><td>0.41173950</td></tr>\n",
       "\t<tr><th scope=row>othrace</th><td> 0.028015166</td><td>0.30450928</td><td> 0.09200103</td><td>0.92670091</td></tr>\n",
       "\t<tr><th scope=row>factor(dep)1</th><td>-0.073633403</td><td>0.21834827</td><td>-0.33722916</td><td>0.73595833</td></tr>\n",
       "\t<tr><th scope=row>factor(dep)2</th><td>-0.108540722</td><td>0.16531360</td><td>-0.65657469</td><td>0.51148467</td></tr>\n",
       "\t<tr><th scope=row>q2</th><td>-0.026679372</td><td>0.16785312</td><td>-0.15894475</td><td>0.87371883</td></tr>\n",
       "\t<tr><th scope=row>q3</th><td>-0.005673866</td><td>0.16748297</td><td>-0.03387727</td><td>0.97297637</td></tr>\n",
       "\t<tr><th scope=row>q4</th><td> 0.043344249</td><td>0.16758760</td><td> 0.25863637</td><td>0.79592647</td></tr>\n",
       "\t<tr><th scope=row>q5</th><td> 0.093864577</td><td>0.16669941</td><td> 0.56307684</td><td>0.57340783</td></tr>\n",
       "\t<tr><th scope=row>q6</th><td>-0.221564231</td><td>0.16686140</td><td>-1.32783395</td><td>0.18429363</td></tr>\n",
       "\t<tr><th scope=row>agelt35</th><td>-0.109239765</td><td>0.13505288</td><td>-0.80886659</td><td>0.41863041</td></tr>\n",
       "\t<tr><th scope=row>agegt54</th><td>-0.436686296</td><td>0.30165222</td><td>-1.44764820</td><td>0.14777821</td></tr>\n",
       "\t<tr><th scope=row>durable</th><td>-0.125009673</td><td>0.19172819</td><td>-0.65201510</td><td>0.51442143</td></tr>\n",
       "\t<tr><th scope=row>lusd</th><td> 0.114286530</td><td>0.07295244</td><td> 1.56658962</td><td>0.11727398</td></tr>\n",
       "\t<tr><th scope=row>husd</th><td> 0.094679965</td><td>0.07969114</td><td> 1.18808652</td><td>0.23485580</td></tr>\n",
       "\t<tr><th scope=row>female:black</th><td> 0.088865964</td><td>0.04396984</td><td> 2.02106652</td><td>0.04332611</td></tr>\n",
       "\t<tr><th scope=row>female:othrace</th><td>-0.413509471</td><td>0.20112541</td><td>-2.05597829</td><td>0.03983645</td></tr>\n",
       "\t<tr><th scope=row>female:factor(dep)1</th><td> 0.055475194</td><td>0.04669230</td><td> 1.18810156</td><td>0.23484988</td></tr>\n",
       "\t<tr><th scope=row>female:factor(dep)2</th><td> 0.045448009</td><td>0.04083700</td><td> 1.11291256</td><td>0.26579953</td></tr>\n",
       "\t<tr><th scope=row>female:q2</th><td>-0.188809636</td><td>0.13725159</td><td>-1.37564626</td><td>0.16899285</td></tr>\n",
       "\t<tr><th scope=row>female:q3</th><td>-0.165263665</td><td>0.13701984</td><td>-1.20612949</td><td>0.22782468</td></tr>\n",
       "\t<tr><th scope=row>female:q4</th><td>-0.176328745</td><td>0.13687391</td><td>-1.28825679</td><td>0.19771625</td></tr>\n",
       "\t<tr><th scope=row>female:q5</th><td>-0.203216540</td><td>0.13638798</td><td>-1.48998859</td><td>0.13629036</td></tr>\n",
       "\t<tr><th scope=row>female:q6</th><td>-0.042716028</td><td>0.14526504</td><td>-0.29405580</td><td>0.76872748</td></tr>\n",
       "\t<tr><th scope=row>female:agelt35</th><td> 0.073421811</td><td>0.03033875</td><td> 2.42006743</td><td>0.01555308</td></tr>\n",
       "\t<tr><th scope=row>female:agegt54</th><td> 0.026128671</td><td>0.05092242</td><td> 0.51310744</td><td>0.60789885</td></tr>\n",
       "\t<tr><th scope=row>female:durable</th><td> 0.019756873</td><td>0.04429038</td><td> 0.44607593</td><td>0.65556173</td></tr>\n",
       "\t<tr><th scope=row>female:lusd</th><td> 0.002069546</td><td>0.03363778</td><td> 0.06152445</td><td>0.95094400</td></tr>\n",
       "\t<tr><th scope=row>female:husd</th><td> 0.011788512</td><td>0.03749566</td><td> 0.31439673</td><td>0.75323286</td></tr>\n",
       "\t<tr><th scope=row>...</th><td>...</td><td>...</td><td>...</td><td>...</td></tr>\n",
       "\t<tr><th scope=row>q2:agegt54</th><td> 0.5295574501</td><td>0.30224144</td><td> 1.752100738</td><td>0.07981783</td></tr>\n",
       "\t<tr><th scope=row>q2:durable</th><td> 0.1261198921</td><td>0.18999215</td><td> 0.663816339</td><td>0.50683850</td></tr>\n",
       "\t<tr><th scope=row>q2:lusd</th><td>-0.0761777427</td><td>0.07537357</td><td>-1.010669204</td><td>0.31222373</td></tr>\n",
       "\t<tr><th scope=row>q2:husd</th><td>-0.0188266581</td><td>0.08004190</td><td>-0.235210029</td><td>0.81405536</td></tr>\n",
       "\t<tr><th scope=row>q3:agelt35</th><td> 0.1305917055</td><td>0.13476517</td><td> 0.969031574</td><td>0.33257634</td></tr>\n",
       "\t<tr><th scope=row>q3:agegt54</th><td> 0.4782023980</td><td>0.30132232</td><td> 1.587012843</td><td>0.11257302</td></tr>\n",
       "\t<tr><th scope=row>q3:durable</th><td> 0.0542056579</td><td>0.19013696</td><td> 0.285087428</td><td>0.77558898</td></tr>\n",
       "\t<tr><th scope=row>q3:lusd</th><td>-0.0537937373</td><td>0.07402680</td><td>-0.726679256</td><td>0.46745651</td></tr>\n",
       "\t<tr><th scope=row>q3:husd</th><td>-0.0600798463</td><td>0.07949471</td><td>-0.755771645</td><td>0.44982175</td></tr>\n",
       "\t<tr><th scope=row>q4:agelt35</th><td> 0.1310089874</td><td>0.13466771</td><td> 0.972831509</td><td>0.33068415</td></tr>\n",
       "\t<tr><th scope=row>q4:agegt54</th><td> 0.5403301355</td><td>0.30021223</td><td> 1.799827216</td><td>0.07194823</td></tr>\n",
       "\t<tr><th scope=row>q4:durable</th><td> 0.0962517136</td><td>0.19075132</td><td> 0.504592653</td><td>0.61386723</td></tr>\n",
       "\t<tr><th scope=row>q4:lusd</th><td>-0.1034203835</td><td>0.07440618</td><td>-1.389943457</td><td>0.16460797</td></tr>\n",
       "\t<tr><th scope=row>q4:husd</th><td>-0.1719187735</td><td>0.07989530</td><td>-2.151800794</td><td>0.03146082</td></tr>\n",
       "\t<tr><th scope=row>q5:agelt35</th><td> 0.0707747289</td><td>0.13391645</td><td> 0.528499147</td><td>0.59717641</td></tr>\n",
       "\t<tr><th scope=row>q5:agegt54</th><td> 0.4437788724</td><td>0.29969879</td><td> 1.480749620</td><td>0.13873637</td></tr>\n",
       "\t<tr><th scope=row>q5:durable</th><td> 0.0746657140</td><td>0.18912000</td><td> 0.394806017</td><td>0.69300291</td></tr>\n",
       "\t<tr><th scope=row>q5:lusd</th><td>-0.0761186870</td><td>0.07378057</td><td>-1.031690143</td><td>0.30226724</td></tr>\n",
       "\t<tr><th scope=row>q5:husd</th><td>-0.1616239053</td><td>0.07812477</td><td>-2.068792035</td><td>0.03861693</td></tr>\n",
       "\t<tr><th scope=row>q6:agelt35</th><td> 0.1703021258</td><td>0.14324358</td><td> 1.188898803</td><td>0.23453600</td></tr>\n",
       "\t<tr><th scope=row>q6:agegt54</th><td> 0.5655233811</td><td>0.31063225</td><td> 1.820555930</td><td>0.06873418</td></tr>\n",
       "\t<tr><th scope=row>q6:durable</th><td> 0.2557870129</td><td>0.19942529</td><td> 1.282620731</td><td>0.19968449</td></tr>\n",
       "\t<tr><th scope=row>agelt35:durable</th><td> 0.0094898587</td><td>0.04131579</td><td> 0.229690826</td><td>0.81834143</td></tr>\n",
       "\t<tr><th scope=row>agelt35:lusd</th><td>-0.0258615466</td><td>0.03525433</td><td>-0.733570820</td><td>0.46324477</td></tr>\n",
       "\t<tr><th scope=row>agelt35:husd</th><td> 0.0354876461</td><td>0.04063605</td><td> 0.873304432</td><td>0.38253914</td></tr>\n",
       "\t<tr><th scope=row>agegt54:durable</th><td>-0.0623141593</td><td>0.06757754</td><td>-0.922113465</td><td>0.35651392</td></tr>\n",
       "\t<tr><th scope=row>agegt54:lusd</th><td>-0.0366289463</td><td>0.05691024</td><td>-0.643626638</td><td>0.51984712</td></tr>\n",
       "\t<tr><th scope=row>agegt54:husd</th><td>-0.0742178988</td><td>0.06266339</td><td>-1.184390113</td><td>0.23631501</td></tr>\n",
       "\t<tr><th scope=row>durable:lusd</th><td>-0.0551736039</td><td>0.04378564</td><td>-1.260084512</td><td>0.20769773</td></tr>\n",
       "\t<tr><th scope=row>durable:husd</th><td>-0.0001691844</td><td>0.05378989</td><td>-0.003145282</td><td>0.99749056</td></tr>\n",
       "</tbody>\n",
       "</table>\n"
      ],
      "text/latex": [
       "A matrix: 103 × 4 of type dbl\n",
       "\\begin{tabular}{r|llll}\n",
       "  & Estimate & Std. Error & t value & Pr(>\\textbar{}t\\textbar{})\\\\\n",
       "\\hline\n",
       "\t(Intercept) &  0.321457255 & 0.16659101 &  1.92961945 & 0.05371056\\\\\n",
       "\tfemale &  0.104233279 & 0.13769037 &  0.75701213 & 0.44907829\\\\\n",
       "\tblack &  0.071648027 & 0.08727931 &  0.82090508 & 0.41173950\\\\\n",
       "\tothrace &  0.028015166 & 0.30450928 &  0.09200103 & 0.92670091\\\\\n",
       "\tfactor(dep)1 & -0.073633403 & 0.21834827 & -0.33722916 & 0.73595833\\\\\n",
       "\tfactor(dep)2 & -0.108540722 & 0.16531360 & -0.65657469 & 0.51148467\\\\\n",
       "\tq2 & -0.026679372 & 0.16785312 & -0.15894475 & 0.87371883\\\\\n",
       "\tq3 & -0.005673866 & 0.16748297 & -0.03387727 & 0.97297637\\\\\n",
       "\tq4 &  0.043344249 & 0.16758760 &  0.25863637 & 0.79592647\\\\\n",
       "\tq5 &  0.093864577 & 0.16669941 &  0.56307684 & 0.57340783\\\\\n",
       "\tq6 & -0.221564231 & 0.16686140 & -1.32783395 & 0.18429363\\\\\n",
       "\tagelt35 & -0.109239765 & 0.13505288 & -0.80886659 & 0.41863041\\\\\n",
       "\tagegt54 & -0.436686296 & 0.30165222 & -1.44764820 & 0.14777821\\\\\n",
       "\tdurable & -0.125009673 & 0.19172819 & -0.65201510 & 0.51442143\\\\\n",
       "\tlusd &  0.114286530 & 0.07295244 &  1.56658962 & 0.11727398\\\\\n",
       "\thusd &  0.094679965 & 0.07969114 &  1.18808652 & 0.23485580\\\\\n",
       "\tfemale:black &  0.088865964 & 0.04396984 &  2.02106652 & 0.04332611\\\\\n",
       "\tfemale:othrace & -0.413509471 & 0.20112541 & -2.05597829 & 0.03983645\\\\\n",
       "\tfemale:factor(dep)1 &  0.055475194 & 0.04669230 &  1.18810156 & 0.23484988\\\\\n",
       "\tfemale:factor(dep)2 &  0.045448009 & 0.04083700 &  1.11291256 & 0.26579953\\\\\n",
       "\tfemale:q2 & -0.188809636 & 0.13725159 & -1.37564626 & 0.16899285\\\\\n",
       "\tfemale:q3 & -0.165263665 & 0.13701984 & -1.20612949 & 0.22782468\\\\\n",
       "\tfemale:q4 & -0.176328745 & 0.13687391 & -1.28825679 & 0.19771625\\\\\n",
       "\tfemale:q5 & -0.203216540 & 0.13638798 & -1.48998859 & 0.13629036\\\\\n",
       "\tfemale:q6 & -0.042716028 & 0.14526504 & -0.29405580 & 0.76872748\\\\\n",
       "\tfemale:agelt35 &  0.073421811 & 0.03033875 &  2.42006743 & 0.01555308\\\\\n",
       "\tfemale:agegt54 &  0.026128671 & 0.05092242 &  0.51310744 & 0.60789885\\\\\n",
       "\tfemale:durable &  0.019756873 & 0.04429038 &  0.44607593 & 0.65556173\\\\\n",
       "\tfemale:lusd &  0.002069546 & 0.03363778 &  0.06152445 & 0.95094400\\\\\n",
       "\tfemale:husd &  0.011788512 & 0.03749566 &  0.31439673 & 0.75323286\\\\\n",
       "\t... & ... & ... & ... & ...\\\\\n",
       "\tq2:agegt54 &  0.5295574501 & 0.30224144 &  1.752100738 & 0.07981783\\\\\n",
       "\tq2:durable &  0.1261198921 & 0.18999215 &  0.663816339 & 0.50683850\\\\\n",
       "\tq2:lusd & -0.0761777427 & 0.07537357 & -1.010669204 & 0.31222373\\\\\n",
       "\tq2:husd & -0.0188266581 & 0.08004190 & -0.235210029 & 0.81405536\\\\\n",
       "\tq3:agelt35 &  0.1305917055 & 0.13476517 &  0.969031574 & 0.33257634\\\\\n",
       "\tq3:agegt54 &  0.4782023980 & 0.30132232 &  1.587012843 & 0.11257302\\\\\n",
       "\tq3:durable &  0.0542056579 & 0.19013696 &  0.285087428 & 0.77558898\\\\\n",
       "\tq3:lusd & -0.0537937373 & 0.07402680 & -0.726679256 & 0.46745651\\\\\n",
       "\tq3:husd & -0.0600798463 & 0.07949471 & -0.755771645 & 0.44982175\\\\\n",
       "\tq4:agelt35 &  0.1310089874 & 0.13466771 &  0.972831509 & 0.33068415\\\\\n",
       "\tq4:agegt54 &  0.5403301355 & 0.30021223 &  1.799827216 & 0.07194823\\\\\n",
       "\tq4:durable &  0.0962517136 & 0.19075132 &  0.504592653 & 0.61386723\\\\\n",
       "\tq4:lusd & -0.1034203835 & 0.07440618 & -1.389943457 & 0.16460797\\\\\n",
       "\tq4:husd & -0.1719187735 & 0.07989530 & -2.151800794 & 0.03146082\\\\\n",
       "\tq5:agelt35 &  0.0707747289 & 0.13391645 &  0.528499147 & 0.59717641\\\\\n",
       "\tq5:agegt54 &  0.4437788724 & 0.29969879 &  1.480749620 & 0.13873637\\\\\n",
       "\tq5:durable &  0.0746657140 & 0.18912000 &  0.394806017 & 0.69300291\\\\\n",
       "\tq5:lusd & -0.0761186870 & 0.07378057 & -1.031690143 & 0.30226724\\\\\n",
       "\tq5:husd & -0.1616239053 & 0.07812477 & -2.068792035 & 0.03861693\\\\\n",
       "\tq6:agelt35 &  0.1703021258 & 0.14324358 &  1.188898803 & 0.23453600\\\\\n",
       "\tq6:agegt54 &  0.5655233811 & 0.31063225 &  1.820555930 & 0.06873418\\\\\n",
       "\tq6:durable &  0.2557870129 & 0.19942529 &  1.282620731 & 0.19968449\\\\\n",
       "\tagelt35:durable &  0.0094898587 & 0.04131579 &  0.229690826 & 0.81834143\\\\\n",
       "\tagelt35:lusd & -0.0258615466 & 0.03525433 & -0.733570820 & 0.46324477\\\\\n",
       "\tagelt35:husd &  0.0354876461 & 0.04063605 &  0.873304432 & 0.38253914\\\\\n",
       "\tagegt54:durable & -0.0623141593 & 0.06757754 & -0.922113465 & 0.35651392\\\\\n",
       "\tagegt54:lusd & -0.0366289463 & 0.05691024 & -0.643626638 & 0.51984712\\\\\n",
       "\tagegt54:husd & -0.0742178988 & 0.06266339 & -1.184390113 & 0.23631501\\\\\n",
       "\tdurable:lusd & -0.0551736039 & 0.04378564 & -1.260084512 & 0.20769773\\\\\n",
       "\tdurable:husd & -0.0001691844 & 0.05378989 & -0.003145282 & 0.99749056\\\\\n",
       "\\end{tabular}\n"
      ],
      "text/markdown": [
       "\n",
       "A matrix: 103 × 4 of type dbl\n",
       "\n",
       "| <!--/--> | Estimate | Std. Error | t value | Pr(&gt;|t|) |\n",
       "|---|---|---|---|---|\n",
       "| (Intercept) |  0.321457255 | 0.16659101 |  1.92961945 | 0.05371056 |\n",
       "| female |  0.104233279 | 0.13769037 |  0.75701213 | 0.44907829 |\n",
       "| black |  0.071648027 | 0.08727931 |  0.82090508 | 0.41173950 |\n",
       "| othrace |  0.028015166 | 0.30450928 |  0.09200103 | 0.92670091 |\n",
       "| factor(dep)1 | -0.073633403 | 0.21834827 | -0.33722916 | 0.73595833 |\n",
       "| factor(dep)2 | -0.108540722 | 0.16531360 | -0.65657469 | 0.51148467 |\n",
       "| q2 | -0.026679372 | 0.16785312 | -0.15894475 | 0.87371883 |\n",
       "| q3 | -0.005673866 | 0.16748297 | -0.03387727 | 0.97297637 |\n",
       "| q4 |  0.043344249 | 0.16758760 |  0.25863637 | 0.79592647 |\n",
       "| q5 |  0.093864577 | 0.16669941 |  0.56307684 | 0.57340783 |\n",
       "| q6 | -0.221564231 | 0.16686140 | -1.32783395 | 0.18429363 |\n",
       "| agelt35 | -0.109239765 | 0.13505288 | -0.80886659 | 0.41863041 |\n",
       "| agegt54 | -0.436686296 | 0.30165222 | -1.44764820 | 0.14777821 |\n",
       "| durable | -0.125009673 | 0.19172819 | -0.65201510 | 0.51442143 |\n",
       "| lusd |  0.114286530 | 0.07295244 |  1.56658962 | 0.11727398 |\n",
       "| husd |  0.094679965 | 0.07969114 |  1.18808652 | 0.23485580 |\n",
       "| female:black |  0.088865964 | 0.04396984 |  2.02106652 | 0.04332611 |\n",
       "| female:othrace | -0.413509471 | 0.20112541 | -2.05597829 | 0.03983645 |\n",
       "| female:factor(dep)1 |  0.055475194 | 0.04669230 |  1.18810156 | 0.23484988 |\n",
       "| female:factor(dep)2 |  0.045448009 | 0.04083700 |  1.11291256 | 0.26579953 |\n",
       "| female:q2 | -0.188809636 | 0.13725159 | -1.37564626 | 0.16899285 |\n",
       "| female:q3 | -0.165263665 | 0.13701984 | -1.20612949 | 0.22782468 |\n",
       "| female:q4 | -0.176328745 | 0.13687391 | -1.28825679 | 0.19771625 |\n",
       "| female:q5 | -0.203216540 | 0.13638798 | -1.48998859 | 0.13629036 |\n",
       "| female:q6 | -0.042716028 | 0.14526504 | -0.29405580 | 0.76872748 |\n",
       "| female:agelt35 |  0.073421811 | 0.03033875 |  2.42006743 | 0.01555308 |\n",
       "| female:agegt54 |  0.026128671 | 0.05092242 |  0.51310744 | 0.60789885 |\n",
       "| female:durable |  0.019756873 | 0.04429038 |  0.44607593 | 0.65556173 |\n",
       "| female:lusd |  0.002069546 | 0.03363778 |  0.06152445 | 0.95094400 |\n",
       "| female:husd |  0.011788512 | 0.03749566 |  0.31439673 | 0.75323286 |\n",
       "| ... | ... | ... | ... | ... |\n",
       "| q2:agegt54 |  0.5295574501 | 0.30224144 |  1.752100738 | 0.07981783 |\n",
       "| q2:durable |  0.1261198921 | 0.18999215 |  0.663816339 | 0.50683850 |\n",
       "| q2:lusd | -0.0761777427 | 0.07537357 | -1.010669204 | 0.31222373 |\n",
       "| q2:husd | -0.0188266581 | 0.08004190 | -0.235210029 | 0.81405536 |\n",
       "| q3:agelt35 |  0.1305917055 | 0.13476517 |  0.969031574 | 0.33257634 |\n",
       "| q3:agegt54 |  0.4782023980 | 0.30132232 |  1.587012843 | 0.11257302 |\n",
       "| q3:durable |  0.0542056579 | 0.19013696 |  0.285087428 | 0.77558898 |\n",
       "| q3:lusd | -0.0537937373 | 0.07402680 | -0.726679256 | 0.46745651 |\n",
       "| q3:husd | -0.0600798463 | 0.07949471 | -0.755771645 | 0.44982175 |\n",
       "| q4:agelt35 |  0.1310089874 | 0.13466771 |  0.972831509 | 0.33068415 |\n",
       "| q4:agegt54 |  0.5403301355 | 0.30021223 |  1.799827216 | 0.07194823 |\n",
       "| q4:durable |  0.0962517136 | 0.19075132 |  0.504592653 | 0.61386723 |\n",
       "| q4:lusd | -0.1034203835 | 0.07440618 | -1.389943457 | 0.16460797 |\n",
       "| q4:husd | -0.1719187735 | 0.07989530 | -2.151800794 | 0.03146082 |\n",
       "| q5:agelt35 |  0.0707747289 | 0.13391645 |  0.528499147 | 0.59717641 |\n",
       "| q5:agegt54 |  0.4437788724 | 0.29969879 |  1.480749620 | 0.13873637 |\n",
       "| q5:durable |  0.0746657140 | 0.18912000 |  0.394806017 | 0.69300291 |\n",
       "| q5:lusd | -0.0761186870 | 0.07378057 | -1.031690143 | 0.30226724 |\n",
       "| q5:husd | -0.1616239053 | 0.07812477 | -2.068792035 | 0.03861693 |\n",
       "| q6:agelt35 |  0.1703021258 | 0.14324358 |  1.188898803 | 0.23453600 |\n",
       "| q6:agegt54 |  0.5655233811 | 0.31063225 |  1.820555930 | 0.06873418 |\n",
       "| q6:durable |  0.2557870129 | 0.19942529 |  1.282620731 | 0.19968449 |\n",
       "| agelt35:durable |  0.0094898587 | 0.04131579 |  0.229690826 | 0.81834143 |\n",
       "| agelt35:lusd | -0.0258615466 | 0.03525433 | -0.733570820 | 0.46324477 |\n",
       "| agelt35:husd |  0.0354876461 | 0.04063605 |  0.873304432 | 0.38253914 |\n",
       "| agegt54:durable | -0.0623141593 | 0.06757754 | -0.922113465 | 0.35651392 |\n",
       "| agegt54:lusd | -0.0366289463 | 0.05691024 | -0.643626638 | 0.51984712 |\n",
       "| agegt54:husd | -0.0742178988 | 0.06266339 | -1.184390113 | 0.23631501 |\n",
       "| durable:lusd | -0.0551736039 | 0.04378564 | -1.260084512 | 0.20769773 |\n",
       "| durable:husd | -0.0001691844 | 0.05378989 | -0.003145282 | 0.99749056 |\n",
       "\n"
      ],
      "text/plain": [
       "                    Estimate      Std. Error t value      Pr(>|t|)  \n",
       "(Intercept)          0.321457255  0.16659101  1.92961945  0.05371056\n",
       "female               0.104233279  0.13769037  0.75701213  0.44907829\n",
       "black                0.071648027  0.08727931  0.82090508  0.41173950\n",
       "othrace              0.028015166  0.30450928  0.09200103  0.92670091\n",
       "factor(dep)1        -0.073633403  0.21834827 -0.33722916  0.73595833\n",
       "factor(dep)2        -0.108540722  0.16531360 -0.65657469  0.51148467\n",
       "q2                  -0.026679372  0.16785312 -0.15894475  0.87371883\n",
       "q3                  -0.005673866  0.16748297 -0.03387727  0.97297637\n",
       "q4                   0.043344249  0.16758760  0.25863637  0.79592647\n",
       "q5                   0.093864577  0.16669941  0.56307684  0.57340783\n",
       "q6                  -0.221564231  0.16686140 -1.32783395  0.18429363\n",
       "agelt35             -0.109239765  0.13505288 -0.80886659  0.41863041\n",
       "agegt54             -0.436686296  0.30165222 -1.44764820  0.14777821\n",
       "durable             -0.125009673  0.19172819 -0.65201510  0.51442143\n",
       "lusd                 0.114286530  0.07295244  1.56658962  0.11727398\n",
       "husd                 0.094679965  0.07969114  1.18808652  0.23485580\n",
       "female:black         0.088865964  0.04396984  2.02106652  0.04332611\n",
       "female:othrace      -0.413509471  0.20112541 -2.05597829  0.03983645\n",
       "female:factor(dep)1  0.055475194  0.04669230  1.18810156  0.23484988\n",
       "female:factor(dep)2  0.045448009  0.04083700  1.11291256  0.26579953\n",
       "female:q2           -0.188809636  0.13725159 -1.37564626  0.16899285\n",
       "female:q3           -0.165263665  0.13701984 -1.20612949  0.22782468\n",
       "female:q4           -0.176328745  0.13687391 -1.28825679  0.19771625\n",
       "female:q5           -0.203216540  0.13638798 -1.48998859  0.13629036\n",
       "female:q6           -0.042716028  0.14526504 -0.29405580  0.76872748\n",
       "female:agelt35       0.073421811  0.03033875  2.42006743  0.01555308\n",
       "female:agegt54       0.026128671  0.05092242  0.51310744  0.60789885\n",
       "female:durable       0.019756873  0.04429038  0.44607593  0.65556173\n",
       "female:lusd          0.002069546  0.03363778  0.06152445  0.95094400\n",
       "female:husd          0.011788512  0.03749566  0.31439673  0.75323286\n",
       "...                 ...           ...        ...          ...       \n",
       "q2:agegt54           0.5295574501 0.30224144  1.752100738 0.07981783\n",
       "q2:durable           0.1261198921 0.18999215  0.663816339 0.50683850\n",
       "q2:lusd             -0.0761777427 0.07537357 -1.010669204 0.31222373\n",
       "q2:husd             -0.0188266581 0.08004190 -0.235210029 0.81405536\n",
       "q3:agelt35           0.1305917055 0.13476517  0.969031574 0.33257634\n",
       "q3:agegt54           0.4782023980 0.30132232  1.587012843 0.11257302\n",
       "q3:durable           0.0542056579 0.19013696  0.285087428 0.77558898\n",
       "q3:lusd             -0.0537937373 0.07402680 -0.726679256 0.46745651\n",
       "q3:husd             -0.0600798463 0.07949471 -0.755771645 0.44982175\n",
       "q4:agelt35           0.1310089874 0.13466771  0.972831509 0.33068415\n",
       "q4:agegt54           0.5403301355 0.30021223  1.799827216 0.07194823\n",
       "q4:durable           0.0962517136 0.19075132  0.504592653 0.61386723\n",
       "q4:lusd             -0.1034203835 0.07440618 -1.389943457 0.16460797\n",
       "q4:husd             -0.1719187735 0.07989530 -2.151800794 0.03146082\n",
       "q5:agelt35           0.0707747289 0.13391645  0.528499147 0.59717641\n",
       "q5:agegt54           0.4437788724 0.29969879  1.480749620 0.13873637\n",
       "q5:durable           0.0746657140 0.18912000  0.394806017 0.69300291\n",
       "q5:lusd             -0.0761186870 0.07378057 -1.031690143 0.30226724\n",
       "q5:husd             -0.1616239053 0.07812477 -2.068792035 0.03861693\n",
       "q6:agelt35           0.1703021258 0.14324358  1.188898803 0.23453600\n",
       "q6:agegt54           0.5655233811 0.31063225  1.820555930 0.06873418\n",
       "q6:durable           0.2557870129 0.19942529  1.282620731 0.19968449\n",
       "agelt35:durable      0.0094898587 0.04131579  0.229690826 0.81834143\n",
       "agelt35:lusd        -0.0258615466 0.03525433 -0.733570820 0.46324477\n",
       "agelt35:husd         0.0354876461 0.04063605  0.873304432 0.38253914\n",
       "agegt54:durable     -0.0623141593 0.06757754 -0.922113465 0.35651392\n",
       "agegt54:lusd        -0.0366289463 0.05691024 -0.643626638 0.51984712\n",
       "agegt54:husd        -0.0742178988 0.06266339 -1.184390113 0.23631501\n",
       "durable:lusd        -0.0551736039 0.04378564 -1.260084512 0.20769773\n",
       "durable:husd        -0.0001691844 0.05378989 -0.003145282 0.99749056"
      ]
     },
     "metadata": {},
     "output_type": "display_data"
    }
   ],
   "source": [
    "reg <- lm(formula7, Penn)\n",
    "\n",
    "summary( reg )$coefficient\n"
   ]
  },
  {
   "cell_type": "code",
   "execution_count": 116,
   "metadata": {},
   "outputs": [
    {
     "name": "stdout",
     "output_type": "stream",
     "text": [
      "T4 ~ female + black + lusd + lusd^2\n",
      "attr(,\"variables\")\n",
      "list(T4, female, black, lusd)\n",
      "attr(,\"factors\")\n",
      "       female black lusd\n",
      "T4          0     0    0\n",
      "female      1     0    0\n",
      "black       0     1    0\n",
      "lusd        0     0    1\n",
      "attr(,\"term.labels\")\n",
      "[1] \"female\" \"black\"  \"lusd\"  \n",
      "attr(,\"order\")\n",
      "[1] 1 1 1\n",
      "attr(,\"intercept\")\n",
      "[1] 1\n",
      "attr(,\"response\")\n",
      "[1] 1\n",
      "attr(,\".Environment\")\n",
      "<environment: R_GlobalEnv>\n"
     ]
    },
    {
     "data": {
      "text/html": [
       "'formula'"
      ],
      "text/latex": [
       "'formula'"
      ],
      "text/markdown": [
       "'formula'"
      ],
      "text/plain": [
       "[1] \"formula\""
      ]
     },
     "metadata": {},
     "output_type": "display_data"
    },
    {
     "name": "stdout",
     "output_type": "stream",
     "text": [
      "T4 ~ female + black + lusd + factor(dep)\n",
      "attr(,\"variables\")\n",
      "list(T4, female, black, lusd, factor(dep))\n",
      "attr(,\"factors\")\n",
      "            female black lusd factor(dep)\n",
      "T4               0     0    0           0\n",
      "female           1     0    0           0\n",
      "black            0     1    0           0\n",
      "lusd             0     0    1           0\n",
      "factor(dep)      0     0    0           1\n",
      "attr(,\"term.labels\")\n",
      "[1] \"female\"      \"black\"       \"lusd\"        \"factor(dep)\"\n",
      "attr(,\"order\")\n",
      "[1] 1 1 1 1\n",
      "attr(,\"intercept\")\n",
      "[1] 1\n",
      "attr(,\"response\")\n",
      "[1] 1\n",
      "attr(,\".Environment\")\n",
      "<environment: R_GlobalEnv>\n"
     ]
    }
   ],
   "source": [
    "# We can update formulas \n",
    "formula_modelA  <- (T4 ~  female + black + lusd + lusd ^ 2 )\n",
    "print( terms( formula_modelA ) )\n",
    "class( formula_modelA )\n",
    "\n",
    "# formula for model B\n",
    "formula_modelB  <- update( formula_modelA, ~ . + factor(dep))\n",
    "print( terms( formula_modelB ) )"
   ]
  },
  {
   "cell_type": "markdown",
   "metadata": {},
   "source": [
    "## Regressions Objects\n",
    "We will understand the output from a regression"
   ]
  },
  {
   "cell_type": "code",
   "execution_count": 117,
   "metadata": {},
   "outputs": [],
   "source": [
    "key_columns  <-  c('female', 'black', 'lusd' , 'dep', 'T4')"
   ]
  },
  {
   "cell_type": "code",
   "execution_count": 118,
   "metadata": {},
   "outputs": [],
   "source": [
    "data2  <-  data.frame( Penn[(names( Penn ) %in% key_columns ) ] )"
   ]
  },
  {
   "cell_type": "code",
   "execution_count": 121,
   "metadata": {
    "scrolled": true
   },
   "outputs": [
    {
     "data": {
      "text/html": [
       "'list'"
      ],
      "text/latex": [
       "'list'"
      ],
      "text/markdown": [
       "'list'"
      ],
      "text/plain": [
       "[1] \"list\""
      ]
     },
     "metadata": {},
     "output_type": "display_data"
    },
    {
     "data": {
      "text/html": [
       "TRUE"
      ],
      "text/latex": [
       "TRUE"
      ],
      "text/markdown": [
       "TRUE"
      ],
      "text/plain": [
       "[1] TRUE"
      ]
     },
     "metadata": {},
     "output_type": "display_data"
    },
    {
     "data": {
      "text/html": [
       "<style>\n",
       ".list-inline {list-style: none; margin:0; padding: 0}\n",
       ".list-inline>li {display: inline-block}\n",
       ".list-inline>li:not(:last-child)::after {content: \"\\00b7\"; padding: 0 .5ex}\n",
       "</style>\n",
       "<ol class=list-inline><li>'call'</li><li>'terms'</li><li>'residuals'</li><li>'coefficients'</li><li>'aliased'</li><li>'sigma'</li><li>'df'</li><li>'r.squared'</li><li>'adj.r.squared'</li><li>'fstatistic'</li><li>'cov.unscaled'</li></ol>\n"
      ],
      "text/latex": [
       "\\begin{enumerate*}\n",
       "\\item 'call'\n",
       "\\item 'terms'\n",
       "\\item 'residuals'\n",
       "\\item 'coefficients'\n",
       "\\item 'aliased'\n",
       "\\item 'sigma'\n",
       "\\item 'df'\n",
       "\\item 'r.squared'\n",
       "\\item 'adj.r.squared'\n",
       "\\item 'fstatistic'\n",
       "\\item 'cov.unscaled'\n",
       "\\end{enumerate*}\n"
      ],
      "text/markdown": [
       "1. 'call'\n",
       "2. 'terms'\n",
       "3. 'residuals'\n",
       "4. 'coefficients'\n",
       "5. 'aliased'\n",
       "6. 'sigma'\n",
       "7. 'df'\n",
       "8. 'r.squared'\n",
       "9. 'adj.r.squared'\n",
       "10. 'fstatistic'\n",
       "11. 'cov.unscaled'\n",
       "\n",
       "\n"
      ],
      "text/plain": [
       " [1] \"call\"          \"terms\"         \"residuals\"     \"coefficients\" \n",
       " [5] \"aliased\"       \"sigma\"         \"df\"            \"r.squared\"    \n",
       " [9] \"adj.r.squared\" \"fstatistic\"    \"cov.unscaled\" "
      ]
     },
     "metadata": {},
     "output_type": "display_data"
    }
   ],
   "source": [
    "# Regression\n",
    "reg1 <- lm(formula_modelB , data2 )\n",
    "\n",
    "# The output is a list of elements\n",
    "typeof(reg1)\n",
    "is.list( reg1 )\n",
    "# All the elements in the list are detailed in the table bellow.\n",
    "names(summary( reg1 ))"
   ]
  },
  {
   "cell_type": "code",
   "execution_count": 128,
   "metadata": {},
   "outputs": [
    {
     "data": {
      "text/html": [
       "<style>\n",
       ".dl-inline {width: auto; margin:0; padding: 0}\n",
       ".dl-inline>dt, .dl-inline>dd {float: none; width: auto; display: inline-block}\n",
       ".dl-inline>dt::after {content: \":\\0020\"; padding-right: .5ex}\n",
       ".dl-inline>dt:not(:first-of-type) {padding-left: .5ex}\n",
       "</style><dl class=dl-inline><dt>(Intercept)</dt><dd>FALSE</dd><dt>female</dt><dd>FALSE</dd><dt>black</dt><dd>FALSE</dd><dt>lusd</dt><dd>FALSE</dd><dt>factor(dep)1</dt><dd>FALSE</dd><dt>factor(dep)2</dt><dd>FALSE</dd></dl>\n"
      ],
      "text/latex": [
       "\\begin{description*}\n",
       "\\item[(Intercept)] FALSE\n",
       "\\item[female] FALSE\n",
       "\\item[black] FALSE\n",
       "\\item[lusd] FALSE\n",
       "\\item[factor(dep)1] FALSE\n",
       "\\item[factor(dep)2] FALSE\n",
       "\\end{description*}\n"
      ],
      "text/markdown": [
       "(Intercept)\n",
       ":   FALSEfemale\n",
       ":   FALSEblack\n",
       ":   FALSElusd\n",
       ":   FALSEfactor(dep)1\n",
       ":   FALSEfactor(dep)2\n",
       ":   FALSE\n",
       "\n"
      ],
      "text/plain": [
       " (Intercept)       female        black         lusd factor(dep)1 factor(dep)2 \n",
       "       FALSE        FALSE        FALSE        FALSE        FALSE        FALSE "
      ]
     },
     "metadata": {},
     "output_type": "display_data"
    }
   ],
   "source": [
    "summary(reg1)$aliased"
   ]
  },
  {
   "cell_type": "code",
   "execution_count": 130,
   "metadata": {
    "scrolled": true
   },
   "outputs": [
    {
     "name": "stdout",
     "output_type": "stream",
     "text": [
      "Parameters: "
     ]
    },
    {
     "data": {
      "text/html": [
       "<table class=\"dataframe\">\n",
       "<caption>A matrix: 6 × 4 of type dbl</caption>\n",
       "<thead>\n",
       "\t<tr><th></th><th scope=col>Estimate</th><th scope=col>Std. Error</th><th scope=col>t value</th><th scope=col>Pr(&gt;|t|)</th></tr>\n",
       "</thead>\n",
       "<tbody>\n",
       "\t<tr><th scope=row>(Intercept)</th><td> 0.334987054</td><td>0.01080336</td><td>31.0076644</td><td>1.578297e-193</td></tr>\n",
       "\t<tr><th scope=row>female</th><td>-0.003384616</td><td>0.01359507</td><td>-0.2489591</td><td> 8.034024e-01</td></tr>\n",
       "\t<tr><th scope=row>black</th><td> 0.007083473</td><td>0.02038814</td><td> 0.3474310</td><td> 7.282819e-01</td></tr>\n",
       "\t<tr><th scope=row>lusd</th><td> 0.027561406</td><td>0.01518847</td><td> 1.8146267</td><td> 6.964010e-02</td></tr>\n",
       "\t<tr><th scope=row>factor(dep)1</th><td>-0.002586024</td><td>0.02133241</td><td>-0.1212251</td><td> 9.035175e-01</td></tr>\n",
       "\t<tr><th scope=row>factor(dep)2</th><td> 0.005104638</td><td>0.01825747</td><td> 0.2795917</td><td> 7.798021e-01</td></tr>\n",
       "</tbody>\n",
       "</table>\n"
      ],
      "text/latex": [
       "A matrix: 6 × 4 of type dbl\n",
       "\\begin{tabular}{r|llll}\n",
       "  & Estimate & Std. Error & t value & Pr(>\\textbar{}t\\textbar{})\\\\\n",
       "\\hline\n",
       "\t(Intercept) &  0.334987054 & 0.01080336 & 31.0076644 & 1.578297e-193\\\\\n",
       "\tfemale & -0.003384616 & 0.01359507 & -0.2489591 &  8.034024e-01\\\\\n",
       "\tblack &  0.007083473 & 0.02038814 &  0.3474310 &  7.282819e-01\\\\\n",
       "\tlusd &  0.027561406 & 0.01518847 &  1.8146267 &  6.964010e-02\\\\\n",
       "\tfactor(dep)1 & -0.002586024 & 0.02133241 & -0.1212251 &  9.035175e-01\\\\\n",
       "\tfactor(dep)2 &  0.005104638 & 0.01825747 &  0.2795917 &  7.798021e-01\\\\\n",
       "\\end{tabular}\n"
      ],
      "text/markdown": [
       "\n",
       "A matrix: 6 × 4 of type dbl\n",
       "\n",
       "| <!--/--> | Estimate | Std. Error | t value | Pr(&gt;|t|) |\n",
       "|---|---|---|---|---|\n",
       "| (Intercept) |  0.334987054 | 0.01080336 | 31.0076644 | 1.578297e-193 |\n",
       "| female | -0.003384616 | 0.01359507 | -0.2489591 |  8.034024e-01 |\n",
       "| black |  0.007083473 | 0.02038814 |  0.3474310 |  7.282819e-01 |\n",
       "| lusd |  0.027561406 | 0.01518847 |  1.8146267 |  6.964010e-02 |\n",
       "| factor(dep)1 | -0.002586024 | 0.02133241 | -0.1212251 |  9.035175e-01 |\n",
       "| factor(dep)2 |  0.005104638 | 0.01825747 |  0.2795917 |  7.798021e-01 |\n",
       "\n"
      ],
      "text/plain": [
       "             Estimate     Std. Error t value    Pr(>|t|)     \n",
       "(Intercept)   0.334987054 0.01080336 31.0076644 1.578297e-193\n",
       "female       -0.003384616 0.01359507 -0.2489591  8.034024e-01\n",
       "black         0.007083473 0.02038814  0.3474310  7.282819e-01\n",
       "lusd          0.027561406 0.01518847  1.8146267  6.964010e-02\n",
       "factor(dep)1 -0.002586024 0.02133241 -0.1212251  9.035175e-01\n",
       "factor(dep)2  0.005104638 0.01825747  0.2795917  7.798021e-01"
      ]
     },
     "metadata": {},
     "output_type": "display_data"
    },
    {
     "name": "stdout",
     "output_type": "stream",
     "text": [
      "R2: 0.0006796109 \n",
      "[1] \"Predictived values:\"\n"
     ]
    },
    {
     "data": {
      "text/html": [
       "<style>\n",
       ".dl-inline {width: auto; margin:0; padding: 0}\n",
       ".dl-inline>dt, .dl-inline>dd {float: none; width: auto; display: inline-block}\n",
       ".dl-inline>dt::after {content: \":\\0020\"; padding-right: .5ex}\n",
       ".dl-inline>dt:not(:first-of-type) {padding-left: .5ex}\n",
       "</style><dl class=dl-inline><dt>1</dt><dd>0.340091692793822</dd><dt>4</dt><dd>0.362548460019224</dd><dt>5</dt><dd>0.362548460019224</dd><dt>12</dt><dd>0.334987054395172</dd><dt>13</dt><dd>0.359962436403646</dd><dt>14</dt><dd>0.359163843925962</dd><dt>15</dt><dd>0.356577820310384</dd><dt>17</dt><dd>0.356577820310384</dd><dt>23</dt><dd>0.359163843925962</dd><dt>25</dt><dd>0.359163843925962</dd><dt>26</dt><dd>0.33670707670056</dd><dt>27</dt><dd>0.33670707670056</dd><dt>32</dt><dd>0.33160243830191</dd><dt>33</dt><dd>0.33670707670056</dd><dt>39</dt><dd>0.359163843925962</dd><dt>43</dt><dd>0.362548460019224</dd><dt>49</dt><dd>0.367653098417874</dd><dt>50</dt><dd>0.362548460019224</dd><dt>58</dt><dd>0.362548460019224</dd><dt>59</dt><dd>0.34207052762788</dd><dt>60</dt><dd>0.332401030779594</dd><dt>61</dt><dd>0.33670707670056</dd><dt>63</dt><dd>0.334987054395172</dd><dt>65</dt><dd>0.367653098417874</dd><dt>72</dt><dd>0.362548460019224</dd><dt>73</dt><dd>0.334987054395172</dd><dt>75</dt><dd>0.340091692793822</dd><dt>77</dt><dd>0.334987054395172</dd><dt>81</dt><dd>0.362548460019224</dd><dt>82</dt><dd>0.367653098417874</dd><dt>86</dt><dd>0.359962436403646</dd><dt>101</dt><dd>0.362548460019224</dd><dt>102</dt><dd>0.329016414686332</dd><dt>103</dt><dd>0.359163843925962</dd><dt>104</dt><dd>0.33670707670056</dd><dt>108</dt><dd>0.362548460019224</dd><dt>110</dt><dd>0.334987054395172</dd><dt>117</dt><dd>0.362548460019224</dd><dt>119</dt><dd>0.359962436403646</dd><dt>122</dt><dd>0.364268482324612</dd><dt>126</dt><dd>0.33160243830191</dd><dt>132</dt><dd>0.33160243830191</dd><dt>133</dt><dd>0.359962436403646</dd><dt>135</dt><dd>0.340091692793822</dd><dt>136</dt><dd>0.33160243830191</dd><dt>138</dt><dd>0.362548460019224</dd><dt>152</dt><dd>0.359163843925962</dd><dt>153</dt><dd>0.33160243830191</dd><dt>155</dt><dd>0.33160243830191</dd><dt>156</dt><dd>0.334987054395172</dd><dt>159</dt><dd>0.334987054395172</dd><dt>163</dt><dd>0.362548460019224</dd><dt>164</dt><dd>0.334987054395172</dd><dt>166</dt><dd>0.329016414686332</dd><dt>167</dt><dd>0.332401030779594</dd><dt>171</dt><dd>0.362548460019224</dd><dt>172</dt><dd>0.356577820310384</dd><dt>173</dt><dd>0.367653098417874</dd><dt>176</dt><dd>0.34207052762788</dd><dt>177</dt><dd>0.33160243830191</dd><dt>185</dt><dd>0.362548460019224</dd><dt>186</dt><dd>0.34207052762788</dd><dt>189</dt><dd>0.359163843925962</dd><dt>191</dt><dd>0.33160243830191</dd><dt>195</dt><dd>0.362548460019224</dd><dt>196</dt><dd>0.340091692793822</dd><dt>198</dt><dd>0.359962436403646</dd><dt>200</dt><dd>0.334987054395172</dd><dt>204</dt><dd>0.33160243830191</dd><dt>206</dt><dd>0.367653098417874</dd><dt>207</dt><dd>0.356577820310384</dd><dt>208</dt><dd>0.340091692793822</dd><dt>211</dt><dd>0.359163843925962</dd><dt>214</dt><dd>0.362548460019224</dd><dt>215</dt><dd>0.34717516602653</dd><dt>220</dt><dd>0.362548460019224</dd><dt>222</dt><dd>0.33160243830191</dd><dt>227</dt><dd>0.334987054395172</dd><dt>230</dt><dd>0.362548460019224</dd><dt>231</dt><dd>0.33670707670056</dd><dt>234</dt><dd>0.33160243830191</dd><dt>235</dt><dd>0.33670707670056</dd><dt>236</dt><dd>0.359962436403646</dd><dt>237</dt><dd>0.334987054395172</dd><dt>240</dt><dd>0.334987054395172</dd><dt>242</dt><dd>0.340091692793822</dd><dt>244</dt><dd>0.334987054395172</dd><dt>248</dt><dd>0.334987054395172</dd><dt>249</dt><dd>0.359163843925962</dd><dt>251</dt><dd>0.334987054395172</dd><dt>255</dt><dd>0.340091692793822</dd><dt>256</dt><dd>0.367653098417874</dd><dt>259</dt><dd>0.33160243830191</dd><dt>260</dt><dd>0.362548460019224</dd><dt>263</dt><dd>0.359163843925962</dd><dt>264</dt><dd>0.33160243830191</dd><dt>268</dt><dd>0.338685911534618</dd><dt>273</dt><dd>0.334987054395172</dd><dt>274</dt><dd>0.33160243830191</dd><dt>275</dt><dd>0.366247317158669</dd><dt>282</dt><dd>0.332401030779594</dd><dt>287</dt><dd>0.332401030779594</dd><dt>288</dt><dd>0.359163843925962</dd><dt>294</dt><dd>0.332401030779594</dd><dt>300</dt><dd>0.334987054395172</dd><dt>302</dt><dd>0.332401030779594</dd><dt>303</dt><dd>0.334987054395172</dd><dt>314</dt><dd>0.359163843925962</dd><dt>316</dt><dd>0.33160243830191</dd><dt>319</dt><dd>0.362548460019224</dd><dt>320</dt><dd>0.367653098417874</dd><dt>321</dt><dd>0.33670707670056</dd><dt>323</dt><dd>0.362548460019224</dd><dt>324</dt><dd>0.33609988791904</dd><dt>327</dt><dd>0.362548460019224</dd><dt>331</dt><dd>0.33670707670056</dd><dt>335</dt><dd>0.33160243830191</dd><dt>337</dt><dd>0.334987054395172</dd><dt>338</dt><dd>0.33160243830191</dd><dt>345</dt><dd>0.334987054395172</dd><dt>353</dt><dd>0.33160243830191</dd><dt>358</dt><dd>0.33160243830191</dd><dt>361</dt><dd>0.367045909636354</dd><dt>362</dt><dd>0.33670707670056</dd><dt>363</dt><dd>0.359163843925962</dd><dt>365</dt><dd>0.334987054395172</dd><dt>366</dt><dd>0.33160243830191</dd><dt>367</dt><dd>0.340091692793822</dd><dt>372</dt><dd>0.340091692793822</dd><dt>376</dt><dd>0.359163843925962</dd><dt>381</dt><dd>0.334987054395172</dd><dt>382</dt><dd>0.367653098417874</dd><dt>384</dt><dd>0.340091692793822</dd><dt>387</dt><dd>0.359163843925962</dd><dt>388</dt><dd>0.340091692793822</dd><dt>395</dt><dd>0.33160243830191</dd><dt>398</dt><dd>0.362548460019224</dd><dt>399</dt><dd>0.359163843925962</dd><dt>401</dt><dd>0.359163843925962</dd><dt>403</dt><dd>0.33160243830191</dd><dt>404</dt><dd>0.362548460019224</dd><dt>405</dt><dd>0.367653098417874</dd><dt>411</dt><dd>0.359163843925962</dd><dt>412</dt><dd>0.359163843925962</dd><dt>417</dt><dd>0.367653098417874</dd><dt>419</dt><dd>0.34207052762788</dd><dt>420</dt><dd>0.33160243830191</dd><dt>421</dt><dd>0.359962436403646</dd><dt>423</dt><dd>0.334987054395172</dd><dt>424</dt><dd>0.362548460019224</dd><dt>427</dt><dd>0.33160243830191</dd><dt>428</dt><dd>0.362548460019224</dd><dt>431</dt><dd>0.338685911534618</dd><dt>433</dt><dd>0.340091692793822</dd><dt>438</dt><dd>0.33160243830191</dd><dt>439</dt><dd>0.334987054395172</dd><dt>442</dt><dd>0.332401030779594</dd><dt>444</dt><dd>0.367653098417874</dd><dt>446</dt><dd>0.334987054395172</dd><dt>447</dt><dd>0.362548460019224</dd><dt>448</dt><dd>0.359962436403646</dd><dt>449</dt><dd>0.359163843925962</dd><dt>450</dt><dd>0.359163843925962</dd><dt>453</dt><dd>0.340091692793822</dd><dt>456</dt><dd>0.334987054395172</dd><dt>460</dt><dd>0.359163843925962</dd><dt>462</dt><dd>0.359962436403646</dd><dt>464</dt><dd>0.33670707670056</dd><dt>470</dt><dd>0.33160243830191</dd><dt>472</dt><dd>0.359163843925962</dd><dt>480</dt><dd>0.334987054395172</dd><dt>482</dt><dd>0.329016414686332</dd><dt>484</dt><dd>0.34207052762788</dd><dt>487</dt><dd>0.362548460019224</dd><dt>488</dt><dd>0.340091692793822</dd><dt>495</dt><dd>0.362548460019224</dd><dt>497</dt><dd>0.334987054395172</dd><dt>500</dt><dd>0.359163843925962</dd><dt>502</dt><dd>0.329016414686332</dd><dt>503</dt><dd>0.334987054395172</dd><dt>508</dt><dd>0.33160243830191</dd><dt>509</dt><dd>0.334987054395172</dd><dt>511</dt><dd>0.362548460019224</dd><dt>514</dt><dd>0.33160243830191</dd><dt>516</dt><dd>0.340091692793822</dd><dt>517</dt><dd>0.359962436403646</dd><dt>518</dt><dd>0.334987054395172</dd><dt>520</dt><dd>0.334987054395172</dd><dt>521</dt><dd>0.334987054395172</dd><dt>523</dt><dd>0.334987054395172</dd><dt>524</dt><dd>0.334987054395172</dd><dt>529</dt><dd>0.359163843925962</dd><dt>531</dt><dd>0.33670707670056</dd><dt>532</dt><dd>0.359163843925962</dd><dt>535</dt><dd>0.33160243830191</dd><dt>537</dt><dd>0.340091692793822</dd><dt>540</dt><dd>0.359163843925962</dd><dt>542</dt><dd>0.33160243830191</dd><dt>543</dt><dd>0.334987054395172</dd><dt>546</dt><dd>0.33160243830191</dd><dt>547</dt><dd>...</dd><dt>548</dt><dd>0.367653098417874</dd><dt>557</dt><dd>0.334987054395172</dd><dt>558</dt><dd>0.359962436403646</dd><dt>559</dt><dd>0.340091692793822</dd><dt>562</dt><dd>0.367653098417874</dd><dt>563</dt><dd>0.359163843925962</dd><dt>566</dt><dd>0.359163843925962</dd><dt>567</dt><dd>0.362548460019224</dd><dt>572</dt><dd>0.33160243830191</dd><dt>573</dt><dd>0.33160243830191</dd><dt>576</dt><dd>0.334987054395172</dd><dt>578</dt><dd>0.33160243830191</dd><dt>579</dt><dd>0.334987054395172</dd><dt>582</dt><dd>0.334987054395172</dd><dt>585</dt><dd>0.359962436403646</dd><dt>592</dt><dd>0.334987054395172</dd><dt>593</dt><dd>0.33670707670056</dd><dt>599</dt><dd>0.334987054395172</dd><dt>600</dt><dd>0.359163843925962</dd><dt>602</dt><dd>0.362548460019224</dd><dt>609</dt><dd>0.33160243830191</dd><dt>613</dt><dd>0.33160243830191</dd><dt>614</dt><dd>0.362548460019224</dd><dt>619</dt><dd>0.362548460019224</dd><dt>620</dt><dd>0.367653098417874</dd><dt>621</dt><dd>0.334987054395172</dd><dt>626</dt><dd>0.334987054395172</dd><dt>629</dt><dd>0.359163843925962</dd><dt>630</dt><dd>0.359163843925962</dd><dt>631</dt><dd>0.33609988791904</dd><dt>637</dt><dd>0.359163843925962</dd><dt>638</dt><dd>0.34717516602653</dd><dt>644</dt><dd>0.34207052762788</dd><dt>646</dt><dd>0.340091692793822</dd><dt>649</dt><dd>0.359163843925962</dd><dt>651</dt><dd>0.33160243830191</dd><dt>655</dt><dd>0.34207052762788</dd><dt>657</dt><dd>0.359163843925962</dd><dt>659</dt><dd>0.362548460019224</dd><dt>660</dt><dd>0.340091692793822</dd><dt>662</dt><dd>0.359163843925962</dd><dt>663</dt><dd>0.369631933251931</dd><dt>664</dt><dd>0.33160243830191</dd><dt>666</dt><dd>0.332401030779594</dd><dt>669</dt><dd>0.359163843925962</dd><dt>674</dt><dd>0.34207052762788</dd><dt>676</dt><dd>0.367045909636354</dd><dt>677</dt><dd>0.34207052762788</dd><dt>680</dt><dd>0.338685911534618</dd><dt>687</dt><dd>0.359962436403646</dd><dt>689</dt><dd>0.362548460019224</dd><dt>690</dt><dd>0.33160243830191</dd><dt>691</dt><dd>0.362548460019224</dd><dt>694</dt><dd>0.338685911534618</dd><dt>696</dt><dd>0.340091692793822</dd><dt>697</dt><dd>0.33670707670056</dd><dt>701</dt><dd>0.367653098417874</dd><dt>702</dt><dd>0.367653098417874</dd><dt>703</dt><dd>0.334987054395172</dd><dt>705</dt><dd>0.362548460019224</dd><dt>709</dt><dd>0.34207052762788</dd><dt>710</dt><dd>0.366247317158669</dd><dt>712</dt><dd>0.359163843925962</dd><dt>720</dt><dd>0.340091692793822</dd><dt>722</dt><dd>0.367653098417874</dd><dt>725</dt><dd>0.359163843925962</dd><dt>726</dt><dd>0.359962436403646</dd><dt>730</dt><dd>0.334987054395172</dd><dt>731</dt><dd>0.334987054395172</dd><dt>734</dt><dd>0.362548460019224</dd><dt>735</dt><dd>0.359163843925962</dd><dt>740</dt><dd>0.362548460019224</dd><dt>741</dt><dd>0.359962436403646</dd><dt>744</dt><dd>0.338685911534618</dd><dt>748</dt><dd>0.338685911534618</dd><dt>749</dt><dd>0.359163843925962</dd><dt>755</dt><dd>0.33160243830191</dd><dt>758</dt><dd>0.362548460019224</dd><dt>762</dt><dd>0.33160243830191</dd><dt>765</dt><dd>0.33160243830191</dd><dt>766</dt><dd>0.364268482324612</dd><dt>767</dt><dd>0.334987054395172</dd><dt>770</dt><dd>0.33160243830191</dd><dt>771</dt><dd>0.340091692793822</dd><dt>772</dt><dd>0.359962436403646</dd><dt>776</dt><dd>0.33160243830191</dd><dt>779</dt><dd>0.334987054395172</dd><dt>781</dt><dd>0.359163843925962</dd><dt>782</dt><dd>0.33160243830191</dd><dt>783</dt><dd>0.359163843925962</dd><dt>785</dt><dd>0.334987054395172</dd><dt>792</dt><dd>0.362548460019224</dd><dt>793</dt><dd>0.359163843925962</dd><dt>798</dt><dd>0.334987054395172</dd><dt>811</dt><dd>0.356577820310384</dd><dt>816</dt><dd>0.362548460019224</dd><dt>817</dt><dd>0.359962436403646</dd><dt>820</dt><dd>0.359163843925962</dd><dt>825</dt><dd>0.362548460019224</dd><dt>829</dt><dd>0.33670707670056</dd><dt>831</dt><dd>0.329016414686332</dd><dt>834</dt><dd>0.340091692793822</dd><dt>840</dt><dd>0.359163843925962</dd><dt>842</dt><dd>0.34207052762788</dd><dt>843</dt><dd>0.359163843925962</dd><dt>844</dt><dd>0.359163843925962</dd><dt>846</dt><dd>0.334987054395172</dd><dt>847</dt><dd>0.362548460019224</dd><dt>849</dt><dd>0.34207052762788</dd><dt>856</dt><dd>0.364268482324612</dd><dt>864</dt><dd>0.334987054395172</dd><dt>865</dt><dd>0.334987054395172</dd><dt>871</dt><dd>0.334987054395172</dd><dt>872</dt><dd>0.362548460019224</dd><dt>875</dt><dd>0.362548460019224</dd><dt>876</dt><dd>0.359163843925962</dd><dt>877</dt><dd>0.334987054395172</dd><dt>882</dt><dd>0.334987054395172</dd><dt>883</dt><dd>0.362548460019224</dd><dt>885</dt><dd>0.334987054395172</dd><dt>887</dt><dd>0.334987054395172</dd><dt>889</dt><dd>0.33160243830191</dd><dt>898</dt><dd>0.334987054395172</dd><dt>902</dt><dd>0.362548460019224</dd><dt>903</dt><dd>0.340091692793822</dd><dt>906</dt><dd>0.332401030779594</dd><dt>908</dt><dd>0.367653098417874</dd><dt>911</dt><dd>0.33160243830191</dd><dt>913</dt><dd>0.334987054395172</dd><dt>914</dt><dd>0.334987054395172</dd><dt>915</dt><dd>0.362548460019224</dd><dt>916</dt><dd>0.359163843925962</dd><dt>918</dt><dd>0.359962436403646</dd><dt>922</dt><dd>0.334987054395172</dd><dt>925</dt><dd>0.334987054395172</dd><dt>928</dt><dd>0.33160243830191</dd><dt>929</dt><dd>0.334987054395172</dd><dt>932</dt><dd>0.332401030779594</dd><dt>934</dt><dd>0.362548460019224</dd><dt>935</dt><dd>0.340091692793822</dd><dt>937</dt><dd>0.359962436403646</dd><dt>938</dt><dd>0.340091692793822</dd><dt>939</dt><dd>0.33160243830191</dd><dt>944</dt><dd>0.334987054395172</dd><dt>948</dt><dd>0.364268482324612</dd><dt>950</dt><dd>0.362548460019224</dd><dt>955</dt><dd>0.332401030779594</dd><dt>956</dt><dd>0.362548460019224</dd><dt>957</dt><dd>0.362548460019224</dd><dt>958</dt><dd>0.334987054395172</dd><dt>961</dt><dd>0.362548460019224</dd><dt>963</dt><dd>0.334987054395172</dd><dt>964</dt><dd>0.362548460019224</dd><dt>966</dt><dd>0.334987054395172</dd><dt>967</dt><dd>0.33160243830191</dd><dt>970</dt><dd>0.334987054395172</dd><dt>971</dt><dd>0.362548460019224</dd><dt>975</dt><dd>0.329016414686332</dd><dt>976</dt><dd>0.362548460019224</dd><dt>979</dt><dd>0.334987054395172</dd><dt>983</dt><dd>0.334987054395172</dd><dt>984</dt><dd>0.367653098417874</dd><dt>986</dt><dd>0.362548460019224</dd><dt>992</dt><dd>0.334987054395172</dd><dt>995</dt><dd>0.334987054395172</dd><dt>996</dt><dd>0.334987054395172</dd><dt>997</dt><dd>0.332401030779594</dd><dt>1003</dt><dd>0.362548460019224</dd><dt>1004</dt><dd>0.334987054395172</dd><dt>1005</dt><dd>0.334987054395172</dd><dt>1007</dt><dd>0.334987054395172</dd><dt>1009</dt><dd>0.334987054395172</dd><dt>1014</dt><dd>0.332401030779594</dd><dt>1015</dt><dd>0.356577820310384</dd><dt>1017</dt><dd>0.359962436403646</dd><dt>1019</dt><dd>0.340091692793822</dd><dt>1030</dt><dd>0.334987054395172</dd><dt>1032</dt><dd>0.334987054395172</dd><dt>1033</dt><dd>0.362548460019224</dd><dt>1034</dt><dd>0.367653098417874</dd><dt>1035</dt><dd>0.340091692793822</dd><dt>1037</dt><dd>0.334987054395172</dd><dt>1040</dt><dd>0.33160243830191</dd><dt>1041</dt><dd>0.340091692793822</dd><dt>1042</dt><dd>0.329016414686332</dd><dt>1047</dt><dd>0.362548460019224</dd><dt>1048</dt><dd>0.334987054395172</dd><dt>1049</dt><dd>0.33160243830191</dd><dt>1050</dt><dd>0.359163843925962</dd><dt>1055</dt><dd>0.359163843925962</dd><dt>1058</dt><dd>0.334987054395172</dd><dt>1061</dt><dd>0.359163843925962</dd><dt>1064</dt><dd>0.34207052762788</dd><dt>1065</dt><dd>0.366247317158669</dd><dt>1066</dt><dd>0.33670707670056</dd><dt>1067</dt><dd>0.334987054395172</dd><dt>1069</dt><dd>0.340091692793822</dd><dt>1070</dt><dd>0.367653098417874</dd><dt>1075</dt><dd>0.334987054395172</dd><dt>1086</dt><dd>0.362548460019224</dd></dl>\n"
      ],
      "text/latex": [
       "\\begin{description*}\n",
       "\\item[1] 0.340091692793822\n",
       "\\item[4] 0.362548460019224\n",
       "\\item[5] 0.362548460019224\n",
       "\\item[12] 0.334987054395172\n",
       "\\item[13] 0.359962436403646\n",
       "\\item[14] 0.359163843925962\n",
       "\\item[15] 0.356577820310384\n",
       "\\item[17] 0.356577820310384\n",
       "\\item[23] 0.359163843925962\n",
       "\\item[25] 0.359163843925962\n",
       "\\item[26] 0.33670707670056\n",
       "\\item[27] 0.33670707670056\n",
       "\\item[32] 0.33160243830191\n",
       "\\item[33] 0.33670707670056\n",
       "\\item[39] 0.359163843925962\n",
       "\\item[43] 0.362548460019224\n",
       "\\item[49] 0.367653098417874\n",
       "\\item[50] 0.362548460019224\n",
       "\\item[58] 0.362548460019224\n",
       "\\item[59] 0.34207052762788\n",
       "\\item[60] 0.332401030779594\n",
       "\\item[61] 0.33670707670056\n",
       "\\item[63] 0.334987054395172\n",
       "\\item[65] 0.367653098417874\n",
       "\\item[72] 0.362548460019224\n",
       "\\item[73] 0.334987054395172\n",
       "\\item[75] 0.340091692793822\n",
       "\\item[77] 0.334987054395172\n",
       "\\item[81] 0.362548460019224\n",
       "\\item[82] 0.367653098417874\n",
       "\\item[86] 0.359962436403646\n",
       "\\item[101] 0.362548460019224\n",
       "\\item[102] 0.329016414686332\n",
       "\\item[103] 0.359163843925962\n",
       "\\item[104] 0.33670707670056\n",
       "\\item[108] 0.362548460019224\n",
       "\\item[110] 0.334987054395172\n",
       "\\item[117] 0.362548460019224\n",
       "\\item[119] 0.359962436403646\n",
       "\\item[122] 0.364268482324612\n",
       "\\item[126] 0.33160243830191\n",
       "\\item[132] 0.33160243830191\n",
       "\\item[133] 0.359962436403646\n",
       "\\item[135] 0.340091692793822\n",
       "\\item[136] 0.33160243830191\n",
       "\\item[138] 0.362548460019224\n",
       "\\item[152] 0.359163843925962\n",
       "\\item[153] 0.33160243830191\n",
       "\\item[155] 0.33160243830191\n",
       "\\item[156] 0.334987054395172\n",
       "\\item[159] 0.334987054395172\n",
       "\\item[163] 0.362548460019224\n",
       "\\item[164] 0.334987054395172\n",
       "\\item[166] 0.329016414686332\n",
       "\\item[167] 0.332401030779594\n",
       "\\item[171] 0.362548460019224\n",
       "\\item[172] 0.356577820310384\n",
       "\\item[173] 0.367653098417874\n",
       "\\item[176] 0.34207052762788\n",
       "\\item[177] 0.33160243830191\n",
       "\\item[185] 0.362548460019224\n",
       "\\item[186] 0.34207052762788\n",
       "\\item[189] 0.359163843925962\n",
       "\\item[191] 0.33160243830191\n",
       "\\item[195] 0.362548460019224\n",
       "\\item[196] 0.340091692793822\n",
       "\\item[198] 0.359962436403646\n",
       "\\item[200] 0.334987054395172\n",
       "\\item[204] 0.33160243830191\n",
       "\\item[206] 0.367653098417874\n",
       "\\item[207] 0.356577820310384\n",
       "\\item[208] 0.340091692793822\n",
       "\\item[211] 0.359163843925962\n",
       "\\item[214] 0.362548460019224\n",
       "\\item[215] 0.34717516602653\n",
       "\\item[220] 0.362548460019224\n",
       "\\item[222] 0.33160243830191\n",
       "\\item[227] 0.334987054395172\n",
       "\\item[230] 0.362548460019224\n",
       "\\item[231] 0.33670707670056\n",
       "\\item[234] 0.33160243830191\n",
       "\\item[235] 0.33670707670056\n",
       "\\item[236] 0.359962436403646\n",
       "\\item[237] 0.334987054395172\n",
       "\\item[240] 0.334987054395172\n",
       "\\item[242] 0.340091692793822\n",
       "\\item[244] 0.334987054395172\n",
       "\\item[248] 0.334987054395172\n",
       "\\item[249] 0.359163843925962\n",
       "\\item[251] 0.334987054395172\n",
       "\\item[255] 0.340091692793822\n",
       "\\item[256] 0.367653098417874\n",
       "\\item[259] 0.33160243830191\n",
       "\\item[260] 0.362548460019224\n",
       "\\item[263] 0.359163843925962\n",
       "\\item[264] 0.33160243830191\n",
       "\\item[268] 0.338685911534618\n",
       "\\item[273] 0.334987054395172\n",
       "\\item[274] 0.33160243830191\n",
       "\\item[275] 0.366247317158669\n",
       "\\item[282] 0.332401030779594\n",
       "\\item[287] 0.332401030779594\n",
       "\\item[288] 0.359163843925962\n",
       "\\item[294] 0.332401030779594\n",
       "\\item[300] 0.334987054395172\n",
       "\\item[302] 0.332401030779594\n",
       "\\item[303] 0.334987054395172\n",
       "\\item[314] 0.359163843925962\n",
       "\\item[316] 0.33160243830191\n",
       "\\item[319] 0.362548460019224\n",
       "\\item[320] 0.367653098417874\n",
       "\\item[321] 0.33670707670056\n",
       "\\item[323] 0.362548460019224\n",
       "\\item[324] 0.33609988791904\n",
       "\\item[327] 0.362548460019224\n",
       "\\item[331] 0.33670707670056\n",
       "\\item[335] 0.33160243830191\n",
       "\\item[337] 0.334987054395172\n",
       "\\item[338] 0.33160243830191\n",
       "\\item[345] 0.334987054395172\n",
       "\\item[353] 0.33160243830191\n",
       "\\item[358] 0.33160243830191\n",
       "\\item[361] 0.367045909636354\n",
       "\\item[362] 0.33670707670056\n",
       "\\item[363] 0.359163843925962\n",
       "\\item[365] 0.334987054395172\n",
       "\\item[366] 0.33160243830191\n",
       "\\item[367] 0.340091692793822\n",
       "\\item[372] 0.340091692793822\n",
       "\\item[376] 0.359163843925962\n",
       "\\item[381] 0.334987054395172\n",
       "\\item[382] 0.367653098417874\n",
       "\\item[384] 0.340091692793822\n",
       "\\item[387] 0.359163843925962\n",
       "\\item[388] 0.340091692793822\n",
       "\\item[395] 0.33160243830191\n",
       "\\item[398] 0.362548460019224\n",
       "\\item[399] 0.359163843925962\n",
       "\\item[401] 0.359163843925962\n",
       "\\item[403] 0.33160243830191\n",
       "\\item[404] 0.362548460019224\n",
       "\\item[405] 0.367653098417874\n",
       "\\item[411] 0.359163843925962\n",
       "\\item[412] 0.359163843925962\n",
       "\\item[417] 0.367653098417874\n",
       "\\item[419] 0.34207052762788\n",
       "\\item[420] 0.33160243830191\n",
       "\\item[421] 0.359962436403646\n",
       "\\item[423] 0.334987054395172\n",
       "\\item[424] 0.362548460019224\n",
       "\\item[427] 0.33160243830191\n",
       "\\item[428] 0.362548460019224\n",
       "\\item[431] 0.338685911534618\n",
       "\\item[433] 0.340091692793822\n",
       "\\item[438] 0.33160243830191\n",
       "\\item[439] 0.334987054395172\n",
       "\\item[442] 0.332401030779594\n",
       "\\item[444] 0.367653098417874\n",
       "\\item[446] 0.334987054395172\n",
       "\\item[447] 0.362548460019224\n",
       "\\item[448] 0.359962436403646\n",
       "\\item[449] 0.359163843925962\n",
       "\\item[450] 0.359163843925962\n",
       "\\item[453] 0.340091692793822\n",
       "\\item[456] 0.334987054395172\n",
       "\\item[460] 0.359163843925962\n",
       "\\item[462] 0.359962436403646\n",
       "\\item[464] 0.33670707670056\n",
       "\\item[470] 0.33160243830191\n",
       "\\item[472] 0.359163843925962\n",
       "\\item[480] 0.334987054395172\n",
       "\\item[482] 0.329016414686332\n",
       "\\item[484] 0.34207052762788\n",
       "\\item[487] 0.362548460019224\n",
       "\\item[488] 0.340091692793822\n",
       "\\item[495] 0.362548460019224\n",
       "\\item[497] 0.334987054395172\n",
       "\\item[500] 0.359163843925962\n",
       "\\item[502] 0.329016414686332\n",
       "\\item[503] 0.334987054395172\n",
       "\\item[508] 0.33160243830191\n",
       "\\item[509] 0.334987054395172\n",
       "\\item[511] 0.362548460019224\n",
       "\\item[514] 0.33160243830191\n",
       "\\item[516] 0.340091692793822\n",
       "\\item[517] 0.359962436403646\n",
       "\\item[518] 0.334987054395172\n",
       "\\item[520] 0.334987054395172\n",
       "\\item[521] 0.334987054395172\n",
       "\\item[523] 0.334987054395172\n",
       "\\item[524] 0.334987054395172\n",
       "\\item[529] 0.359163843925962\n",
       "\\item[531] 0.33670707670056\n",
       "\\item[532] 0.359163843925962\n",
       "\\item[535] 0.33160243830191\n",
       "\\item[537] 0.340091692793822\n",
       "\\item[540] 0.359163843925962\n",
       "\\item[542] 0.33160243830191\n",
       "\\item[543] 0.334987054395172\n",
       "\\item[546] 0.33160243830191\n",
       "\\item[547] ...\n",
       "\\item[548] 0.367653098417874\n",
       "\\item[557] 0.334987054395172\n",
       "\\item[558] 0.359962436403646\n",
       "\\item[559] 0.340091692793822\n",
       "\\item[562] 0.367653098417874\n",
       "\\item[563] 0.359163843925962\n",
       "\\item[566] 0.359163843925962\n",
       "\\item[567] 0.362548460019224\n",
       "\\item[572] 0.33160243830191\n",
       "\\item[573] 0.33160243830191\n",
       "\\item[576] 0.334987054395172\n",
       "\\item[578] 0.33160243830191\n",
       "\\item[579] 0.334987054395172\n",
       "\\item[582] 0.334987054395172\n",
       "\\item[585] 0.359962436403646\n",
       "\\item[592] 0.334987054395172\n",
       "\\item[593] 0.33670707670056\n",
       "\\item[599] 0.334987054395172\n",
       "\\item[600] 0.359163843925962\n",
       "\\item[602] 0.362548460019224\n",
       "\\item[609] 0.33160243830191\n",
       "\\item[613] 0.33160243830191\n",
       "\\item[614] 0.362548460019224\n",
       "\\item[619] 0.362548460019224\n",
       "\\item[620] 0.367653098417874\n",
       "\\item[621] 0.334987054395172\n",
       "\\item[626] 0.334987054395172\n",
       "\\item[629] 0.359163843925962\n",
       "\\item[630] 0.359163843925962\n",
       "\\item[631] 0.33609988791904\n",
       "\\item[637] 0.359163843925962\n",
       "\\item[638] 0.34717516602653\n",
       "\\item[644] 0.34207052762788\n",
       "\\item[646] 0.340091692793822\n",
       "\\item[649] 0.359163843925962\n",
       "\\item[651] 0.33160243830191\n",
       "\\item[655] 0.34207052762788\n",
       "\\item[657] 0.359163843925962\n",
       "\\item[659] 0.362548460019224\n",
       "\\item[660] 0.340091692793822\n",
       "\\item[662] 0.359163843925962\n",
       "\\item[663] 0.369631933251931\n",
       "\\item[664] 0.33160243830191\n",
       "\\item[666] 0.332401030779594\n",
       "\\item[669] 0.359163843925962\n",
       "\\item[674] 0.34207052762788\n",
       "\\item[676] 0.367045909636354\n",
       "\\item[677] 0.34207052762788\n",
       "\\item[680] 0.338685911534618\n",
       "\\item[687] 0.359962436403646\n",
       "\\item[689] 0.362548460019224\n",
       "\\item[690] 0.33160243830191\n",
       "\\item[691] 0.362548460019224\n",
       "\\item[694] 0.338685911534618\n",
       "\\item[696] 0.340091692793822\n",
       "\\item[697] 0.33670707670056\n",
       "\\item[701] 0.367653098417874\n",
       "\\item[702] 0.367653098417874\n",
       "\\item[703] 0.334987054395172\n",
       "\\item[705] 0.362548460019224\n",
       "\\item[709] 0.34207052762788\n",
       "\\item[710] 0.366247317158669\n",
       "\\item[712] 0.359163843925962\n",
       "\\item[720] 0.340091692793822\n",
       "\\item[722] 0.367653098417874\n",
       "\\item[725] 0.359163843925962\n",
       "\\item[726] 0.359962436403646\n",
       "\\item[730] 0.334987054395172\n",
       "\\item[731] 0.334987054395172\n",
       "\\item[734] 0.362548460019224\n",
       "\\item[735] 0.359163843925962\n",
       "\\item[740] 0.362548460019224\n",
       "\\item[741] 0.359962436403646\n",
       "\\item[744] 0.338685911534618\n",
       "\\item[748] 0.338685911534618\n",
       "\\item[749] 0.359163843925962\n",
       "\\item[755] 0.33160243830191\n",
       "\\item[758] 0.362548460019224\n",
       "\\item[762] 0.33160243830191\n",
       "\\item[765] 0.33160243830191\n",
       "\\item[766] 0.364268482324612\n",
       "\\item[767] 0.334987054395172\n",
       "\\item[770] 0.33160243830191\n",
       "\\item[771] 0.340091692793822\n",
       "\\item[772] 0.359962436403646\n",
       "\\item[776] 0.33160243830191\n",
       "\\item[779] 0.334987054395172\n",
       "\\item[781] 0.359163843925962\n",
       "\\item[782] 0.33160243830191\n",
       "\\item[783] 0.359163843925962\n",
       "\\item[785] 0.334987054395172\n",
       "\\item[792] 0.362548460019224\n",
       "\\item[793] 0.359163843925962\n",
       "\\item[798] 0.334987054395172\n",
       "\\item[811] 0.356577820310384\n",
       "\\item[816] 0.362548460019224\n",
       "\\item[817] 0.359962436403646\n",
       "\\item[820] 0.359163843925962\n",
       "\\item[825] 0.362548460019224\n",
       "\\item[829] 0.33670707670056\n",
       "\\item[831] 0.329016414686332\n",
       "\\item[834] 0.340091692793822\n",
       "\\item[840] 0.359163843925962\n",
       "\\item[842] 0.34207052762788\n",
       "\\item[843] 0.359163843925962\n",
       "\\item[844] 0.359163843925962\n",
       "\\item[846] 0.334987054395172\n",
       "\\item[847] 0.362548460019224\n",
       "\\item[849] 0.34207052762788\n",
       "\\item[856] 0.364268482324612\n",
       "\\item[864] 0.334987054395172\n",
       "\\item[865] 0.334987054395172\n",
       "\\item[871] 0.334987054395172\n",
       "\\item[872] 0.362548460019224\n",
       "\\item[875] 0.362548460019224\n",
       "\\item[876] 0.359163843925962\n",
       "\\item[877] 0.334987054395172\n",
       "\\item[882] 0.334987054395172\n",
       "\\item[883] 0.362548460019224\n",
       "\\item[885] 0.334987054395172\n",
       "\\item[887] 0.334987054395172\n",
       "\\item[889] 0.33160243830191\n",
       "\\item[898] 0.334987054395172\n",
       "\\item[902] 0.362548460019224\n",
       "\\item[903] 0.340091692793822\n",
       "\\item[906] 0.332401030779594\n",
       "\\item[908] 0.367653098417874\n",
       "\\item[911] 0.33160243830191\n",
       "\\item[913] 0.334987054395172\n",
       "\\item[914] 0.334987054395172\n",
       "\\item[915] 0.362548460019224\n",
       "\\item[916] 0.359163843925962\n",
       "\\item[918] 0.359962436403646\n",
       "\\item[922] 0.334987054395172\n",
       "\\item[925] 0.334987054395172\n",
       "\\item[928] 0.33160243830191\n",
       "\\item[929] 0.334987054395172\n",
       "\\item[932] 0.332401030779594\n",
       "\\item[934] 0.362548460019224\n",
       "\\item[935] 0.340091692793822\n",
       "\\item[937] 0.359962436403646\n",
       "\\item[938] 0.340091692793822\n",
       "\\item[939] 0.33160243830191\n",
       "\\item[944] 0.334987054395172\n",
       "\\item[948] 0.364268482324612\n",
       "\\item[950] 0.362548460019224\n",
       "\\item[955] 0.332401030779594\n",
       "\\item[956] 0.362548460019224\n",
       "\\item[957] 0.362548460019224\n",
       "\\item[958] 0.334987054395172\n",
       "\\item[961] 0.362548460019224\n",
       "\\item[963] 0.334987054395172\n",
       "\\item[964] 0.362548460019224\n",
       "\\item[966] 0.334987054395172\n",
       "\\item[967] 0.33160243830191\n",
       "\\item[970] 0.334987054395172\n",
       "\\item[971] 0.362548460019224\n",
       "\\item[975] 0.329016414686332\n",
       "\\item[976] 0.362548460019224\n",
       "\\item[979] 0.334987054395172\n",
       "\\item[983] 0.334987054395172\n",
       "\\item[984] 0.367653098417874\n",
       "\\item[986] 0.362548460019224\n",
       "\\item[992] 0.334987054395172\n",
       "\\item[995] 0.334987054395172\n",
       "\\item[996] 0.334987054395172\n",
       "\\item[997] 0.332401030779594\n",
       "\\item[1003] 0.362548460019224\n",
       "\\item[1004] 0.334987054395172\n",
       "\\item[1005] 0.334987054395172\n",
       "\\item[1007] 0.334987054395172\n",
       "\\item[1009] 0.334987054395172\n",
       "\\item[1014] 0.332401030779594\n",
       "\\item[1015] 0.356577820310384\n",
       "\\item[1017] 0.359962436403646\n",
       "\\item[1019] 0.340091692793822\n",
       "\\item[1030] 0.334987054395172\n",
       "\\item[1032] 0.334987054395172\n",
       "\\item[1033] 0.362548460019224\n",
       "\\item[1034] 0.367653098417874\n",
       "\\item[1035] 0.340091692793822\n",
       "\\item[1037] 0.334987054395172\n",
       "\\item[1040] 0.33160243830191\n",
       "\\item[1041] 0.340091692793822\n",
       "\\item[1042] 0.329016414686332\n",
       "\\item[1047] 0.362548460019224\n",
       "\\item[1048] 0.334987054395172\n",
       "\\item[1049] 0.33160243830191\n",
       "\\item[1050] 0.359163843925962\n",
       "\\item[1055] 0.359163843925962\n",
       "\\item[1058] 0.334987054395172\n",
       "\\item[1061] 0.359163843925962\n",
       "\\item[1064] 0.34207052762788\n",
       "\\item[1065] 0.366247317158669\n",
       "\\item[1066] 0.33670707670056\n",
       "\\item[1067] 0.334987054395172\n",
       "\\item[1069] 0.340091692793822\n",
       "\\item[1070] 0.367653098417874\n",
       "\\item[1075] 0.334987054395172\n",
       "\\item[1086] 0.362548460019224\n",
       "\\end{description*}\n"
      ],
      "text/markdown": [
       "1\n",
       ":   0.3400916927938224\n",
       ":   0.3625484600192245\n",
       ":   0.36254846001922412\n",
       ":   0.33498705439517213\n",
       ":   0.35996243640364614\n",
       ":   0.35916384392596215\n",
       ":   0.35657782031038417\n",
       ":   0.35657782031038423\n",
       ":   0.35916384392596225\n",
       ":   0.35916384392596226\n",
       ":   0.3367070767005627\n",
       ":   0.3367070767005632\n",
       ":   0.3316024383019133\n",
       ":   0.3367070767005639\n",
       ":   0.35916384392596243\n",
       ":   0.36254846001922449\n",
       ":   0.36765309841787450\n",
       ":   0.36254846001922458\n",
       ":   0.36254846001922459\n",
       ":   0.3420705276278860\n",
       ":   0.33240103077959461\n",
       ":   0.3367070767005663\n",
       ":   0.33498705439517265\n",
       ":   0.36765309841787472\n",
       ":   0.36254846001922473\n",
       ":   0.33498705439517275\n",
       ":   0.34009169279382277\n",
       ":   0.33498705439517281\n",
       ":   0.36254846001922482\n",
       ":   0.36765309841787486\n",
       ":   0.359962436403646101\n",
       ":   0.362548460019224102\n",
       ":   0.329016414686332103\n",
       ":   0.359163843925962104\n",
       ":   0.33670707670056108\n",
       ":   0.362548460019224110\n",
       ":   0.334987054395172117\n",
       ":   0.362548460019224119\n",
       ":   0.359962436403646122\n",
       ":   0.364268482324612126\n",
       ":   0.33160243830191132\n",
       ":   0.33160243830191133\n",
       ":   0.359962436403646135\n",
       ":   0.340091692793822136\n",
       ":   0.33160243830191138\n",
       ":   0.362548460019224152\n",
       ":   0.359163843925962153\n",
       ":   0.33160243830191155\n",
       ":   0.33160243830191156\n",
       ":   0.334987054395172159\n",
       ":   0.334987054395172163\n",
       ":   0.362548460019224164\n",
       ":   0.334987054395172166\n",
       ":   0.329016414686332167\n",
       ":   0.332401030779594171\n",
       ":   0.362548460019224172\n",
       ":   0.356577820310384173\n",
       ":   0.367653098417874176\n",
       ":   0.34207052762788177\n",
       ":   0.33160243830191185\n",
       ":   0.362548460019224186\n",
       ":   0.34207052762788189\n",
       ":   0.359163843925962191\n",
       ":   0.33160243830191195\n",
       ":   0.362548460019224196\n",
       ":   0.340091692793822198\n",
       ":   0.359962436403646200\n",
       ":   0.334987054395172204\n",
       ":   0.33160243830191206\n",
       ":   0.367653098417874207\n",
       ":   0.356577820310384208\n",
       ":   0.340091692793822211\n",
       ":   0.359163843925962214\n",
       ":   0.362548460019224215\n",
       ":   0.34717516602653220\n",
       ":   0.362548460019224222\n",
       ":   0.33160243830191227\n",
       ":   0.334987054395172230\n",
       ":   0.362548460019224231\n",
       ":   0.33670707670056234\n",
       ":   0.33160243830191235\n",
       ":   0.33670707670056236\n",
       ":   0.359962436403646237\n",
       ":   0.334987054395172240\n",
       ":   0.334987054395172242\n",
       ":   0.340091692793822244\n",
       ":   0.334987054395172248\n",
       ":   0.334987054395172249\n",
       ":   0.359163843925962251\n",
       ":   0.334987054395172255\n",
       ":   0.340091692793822256\n",
       ":   0.367653098417874259\n",
       ":   0.33160243830191260\n",
       ":   0.362548460019224263\n",
       ":   0.359163843925962264\n",
       ":   0.33160243830191268\n",
       ":   0.338685911534618273\n",
       ":   0.334987054395172274\n",
       ":   0.33160243830191275\n",
       ":   0.366247317158669282\n",
       ":   0.332401030779594287\n",
       ":   0.332401030779594288\n",
       ":   0.359163843925962294\n",
       ":   0.332401030779594300\n",
       ":   0.334987054395172302\n",
       ":   0.332401030779594303\n",
       ":   0.334987054395172314\n",
       ":   0.359163843925962316\n",
       ":   0.33160243830191319\n",
       ":   0.362548460019224320\n",
       ":   0.367653098417874321\n",
       ":   0.33670707670056323\n",
       ":   0.362548460019224324\n",
       ":   0.33609988791904327\n",
       ":   0.362548460019224331\n",
       ":   0.33670707670056335\n",
       ":   0.33160243830191337\n",
       ":   0.334987054395172338\n",
       ":   0.33160243830191345\n",
       ":   0.334987054395172353\n",
       ":   0.33160243830191358\n",
       ":   0.33160243830191361\n",
       ":   0.367045909636354362\n",
       ":   0.33670707670056363\n",
       ":   0.359163843925962365\n",
       ":   0.334987054395172366\n",
       ":   0.33160243830191367\n",
       ":   0.340091692793822372\n",
       ":   0.340091692793822376\n",
       ":   0.359163843925962381\n",
       ":   0.334987054395172382\n",
       ":   0.367653098417874384\n",
       ":   0.340091692793822387\n",
       ":   0.359163843925962388\n",
       ":   0.340091692793822395\n",
       ":   0.33160243830191398\n",
       ":   0.362548460019224399\n",
       ":   0.359163843925962401\n",
       ":   0.359163843925962403\n",
       ":   0.33160243830191404\n",
       ":   0.362548460019224405\n",
       ":   0.367653098417874411\n",
       ":   0.359163843925962412\n",
       ":   0.359163843925962417\n",
       ":   0.367653098417874419\n",
       ":   0.34207052762788420\n",
       ":   0.33160243830191421\n",
       ":   0.359962436403646423\n",
       ":   0.334987054395172424\n",
       ":   0.362548460019224427\n",
       ":   0.33160243830191428\n",
       ":   0.362548460019224431\n",
       ":   0.338685911534618433\n",
       ":   0.340091692793822438\n",
       ":   0.33160243830191439\n",
       ":   0.334987054395172442\n",
       ":   0.332401030779594444\n",
       ":   0.367653098417874446\n",
       ":   0.334987054395172447\n",
       ":   0.362548460019224448\n",
       ":   0.359962436403646449\n",
       ":   0.359163843925962450\n",
       ":   0.359163843925962453\n",
       ":   0.340091692793822456\n",
       ":   0.334987054395172460\n",
       ":   0.359163843925962462\n",
       ":   0.359962436403646464\n",
       ":   0.33670707670056470\n",
       ":   0.33160243830191472\n",
       ":   0.359163843925962480\n",
       ":   0.334987054395172482\n",
       ":   0.329016414686332484\n",
       ":   0.34207052762788487\n",
       ":   0.362548460019224488\n",
       ":   0.340091692793822495\n",
       ":   0.362548460019224497\n",
       ":   0.334987054395172500\n",
       ":   0.359163843925962502\n",
       ":   0.329016414686332503\n",
       ":   0.334987054395172508\n",
       ":   0.33160243830191509\n",
       ":   0.334987054395172511\n",
       ":   0.362548460019224514\n",
       ":   0.33160243830191516\n",
       ":   0.340091692793822517\n",
       ":   0.359962436403646518\n",
       ":   0.334987054395172520\n",
       ":   0.334987054395172521\n",
       ":   0.334987054395172523\n",
       ":   0.334987054395172524\n",
       ":   0.334987054395172529\n",
       ":   0.359163843925962531\n",
       ":   0.33670707670056532\n",
       ":   0.359163843925962535\n",
       ":   0.33160243830191537\n",
       ":   0.340091692793822540\n",
       ":   0.359163843925962542\n",
       ":   0.33160243830191543\n",
       ":   0.334987054395172546\n",
       ":   0.33160243830191547\n",
       ":   ...548\n",
       ":   0.367653098417874557\n",
       ":   0.334987054395172558\n",
       ":   0.359962436403646559\n",
       ":   0.340091692793822562\n",
       ":   0.367653098417874563\n",
       ":   0.359163843925962566\n",
       ":   0.359163843925962567\n",
       ":   0.362548460019224572\n",
       ":   0.33160243830191573\n",
       ":   0.33160243830191576\n",
       ":   0.334987054395172578\n",
       ":   0.33160243830191579\n",
       ":   0.334987054395172582\n",
       ":   0.334987054395172585\n",
       ":   0.359962436403646592\n",
       ":   0.334987054395172593\n",
       ":   0.33670707670056599\n",
       ":   0.334987054395172600\n",
       ":   0.359163843925962602\n",
       ":   0.362548460019224609\n",
       ":   0.33160243830191613\n",
       ":   0.33160243830191614\n",
       ":   0.362548460019224619\n",
       ":   0.362548460019224620\n",
       ":   0.367653098417874621\n",
       ":   0.334987054395172626\n",
       ":   0.334987054395172629\n",
       ":   0.359163843925962630\n",
       ":   0.359163843925962631\n",
       ":   0.33609988791904637\n",
       ":   0.359163843925962638\n",
       ":   0.34717516602653644\n",
       ":   0.34207052762788646\n",
       ":   0.340091692793822649\n",
       ":   0.359163843925962651\n",
       ":   0.33160243830191655\n",
       ":   0.34207052762788657\n",
       ":   0.359163843925962659\n",
       ":   0.362548460019224660\n",
       ":   0.340091692793822662\n",
       ":   0.359163843925962663\n",
       ":   0.369631933251931664\n",
       ":   0.33160243830191666\n",
       ":   0.332401030779594669\n",
       ":   0.359163843925962674\n",
       ":   0.34207052762788676\n",
       ":   0.367045909636354677\n",
       ":   0.34207052762788680\n",
       ":   0.338685911534618687\n",
       ":   0.359962436403646689\n",
       ":   0.362548460019224690\n",
       ":   0.33160243830191691\n",
       ":   0.362548460019224694\n",
       ":   0.338685911534618696\n",
       ":   0.340091692793822697\n",
       ":   0.33670707670056701\n",
       ":   0.367653098417874702\n",
       ":   0.367653098417874703\n",
       ":   0.334987054395172705\n",
       ":   0.362548460019224709\n",
       ":   0.34207052762788710\n",
       ":   0.366247317158669712\n",
       ":   0.359163843925962720\n",
       ":   0.340091692793822722\n",
       ":   0.367653098417874725\n",
       ":   0.359163843925962726\n",
       ":   0.359962436403646730\n",
       ":   0.334987054395172731\n",
       ":   0.334987054395172734\n",
       ":   0.362548460019224735\n",
       ":   0.359163843925962740\n",
       ":   0.362548460019224741\n",
       ":   0.359962436403646744\n",
       ":   0.338685911534618748\n",
       ":   0.338685911534618749\n",
       ":   0.359163843925962755\n",
       ":   0.33160243830191758\n",
       ":   0.362548460019224762\n",
       ":   0.33160243830191765\n",
       ":   0.33160243830191766\n",
       ":   0.364268482324612767\n",
       ":   0.334987054395172770\n",
       ":   0.33160243830191771\n",
       ":   0.340091692793822772\n",
       ":   0.359962436403646776\n",
       ":   0.33160243830191779\n",
       ":   0.334987054395172781\n",
       ":   0.359163843925962782\n",
       ":   0.33160243830191783\n",
       ":   0.359163843925962785\n",
       ":   0.334987054395172792\n",
       ":   0.362548460019224793\n",
       ":   0.359163843925962798\n",
       ":   0.334987054395172811\n",
       ":   0.356577820310384816\n",
       ":   0.362548460019224817\n",
       ":   0.359962436403646820\n",
       ":   0.359163843925962825\n",
       ":   0.362548460019224829\n",
       ":   0.33670707670056831\n",
       ":   0.329016414686332834\n",
       ":   0.340091692793822840\n",
       ":   0.359163843925962842\n",
       ":   0.34207052762788843\n",
       ":   0.359163843925962844\n",
       ":   0.359163843925962846\n",
       ":   0.334987054395172847\n",
       ":   0.362548460019224849\n",
       ":   0.34207052762788856\n",
       ":   0.364268482324612864\n",
       ":   0.334987054395172865\n",
       ":   0.334987054395172871\n",
       ":   0.334987054395172872\n",
       ":   0.362548460019224875\n",
       ":   0.362548460019224876\n",
       ":   0.359163843925962877\n",
       ":   0.334987054395172882\n",
       ":   0.334987054395172883\n",
       ":   0.362548460019224885\n",
       ":   0.334987054395172887\n",
       ":   0.334987054395172889\n",
       ":   0.33160243830191898\n",
       ":   0.334987054395172902\n",
       ":   0.362548460019224903\n",
       ":   0.340091692793822906\n",
       ":   0.332401030779594908\n",
       ":   0.367653098417874911\n",
       ":   0.33160243830191913\n",
       ":   0.334987054395172914\n",
       ":   0.334987054395172915\n",
       ":   0.362548460019224916\n",
       ":   0.359163843925962918\n",
       ":   0.359962436403646922\n",
       ":   0.334987054395172925\n",
       ":   0.334987054395172928\n",
       ":   0.33160243830191929\n",
       ":   0.334987054395172932\n",
       ":   0.332401030779594934\n",
       ":   0.362548460019224935\n",
       ":   0.340091692793822937\n",
       ":   0.359962436403646938\n",
       ":   0.340091692793822939\n",
       ":   0.33160243830191944\n",
       ":   0.334987054395172948\n",
       ":   0.364268482324612950\n",
       ":   0.362548460019224955\n",
       ":   0.332401030779594956\n",
       ":   0.362548460019224957\n",
       ":   0.362548460019224958\n",
       ":   0.334987054395172961\n",
       ":   0.362548460019224963\n",
       ":   0.334987054395172964\n",
       ":   0.362548460019224966\n",
       ":   0.334987054395172967\n",
       ":   0.33160243830191970\n",
       ":   0.334987054395172971\n",
       ":   0.362548460019224975\n",
       ":   0.329016414686332976\n",
       ":   0.362548460019224979\n",
       ":   0.334987054395172983\n",
       ":   0.334987054395172984\n",
       ":   0.367653098417874986\n",
       ":   0.362548460019224992\n",
       ":   0.334987054395172995\n",
       ":   0.334987054395172996\n",
       ":   0.334987054395172997\n",
       ":   0.3324010307795941003\n",
       ":   0.3625484600192241004\n",
       ":   0.3349870543951721005\n",
       ":   0.3349870543951721007\n",
       ":   0.3349870543951721009\n",
       ":   0.3349870543951721014\n",
       ":   0.3324010307795941015\n",
       ":   0.3565778203103841017\n",
       ":   0.3599624364036461019\n",
       ":   0.3400916927938221030\n",
       ":   0.3349870543951721032\n",
       ":   0.3349870543951721033\n",
       ":   0.3625484600192241034\n",
       ":   0.3676530984178741035\n",
       ":   0.3400916927938221037\n",
       ":   0.3349870543951721040\n",
       ":   0.331602438301911041\n",
       ":   0.3400916927938221042\n",
       ":   0.3290164146863321047\n",
       ":   0.3625484600192241048\n",
       ":   0.3349870543951721049\n",
       ":   0.331602438301911050\n",
       ":   0.3591638439259621055\n",
       ":   0.3591638439259621058\n",
       ":   0.3349870543951721061\n",
       ":   0.3591638439259621064\n",
       ":   0.342070527627881065\n",
       ":   0.3662473171586691066\n",
       ":   0.336707076700561067\n",
       ":   0.3349870543951721069\n",
       ":   0.3400916927938221070\n",
       ":   0.3676530984178741075\n",
       ":   0.3349870543951721086\n",
       ":   0.362548460019224\n",
       "\n"
      ],
      "text/plain": [
       "        1         4         5        12        13        14        15        17 \n",
       "0.3400917 0.3625485 0.3625485 0.3349871 0.3599624 0.3591638 0.3565778 0.3565778 \n",
       "       23        25        26        27        32        33        39        43 \n",
       "0.3591638 0.3591638 0.3367071 0.3367071 0.3316024 0.3367071 0.3591638 0.3625485 \n",
       "       49        50        58        59        60        61        63        65 \n",
       "0.3676531 0.3625485 0.3625485 0.3420705 0.3324010 0.3367071 0.3349871 0.3676531 \n",
       "       72        73        75        77        81        82        86       101 \n",
       "0.3625485 0.3349871 0.3400917 0.3349871 0.3625485 0.3676531 0.3599624 0.3625485 \n",
       "      102       103       104       108       110       117       119       122 \n",
       "0.3290164 0.3591638 0.3367071 0.3625485 0.3349871 0.3625485 0.3599624 0.3642685 \n",
       "      126       132       133       135       136       138       152       153 \n",
       "0.3316024 0.3316024 0.3599624 0.3400917 0.3316024 0.3625485 0.3591638 0.3316024 \n",
       "      155       156       159       163       164       166       167       171 \n",
       "0.3316024 0.3349871 0.3349871 0.3625485 0.3349871 0.3290164 0.3324010 0.3625485 \n",
       "      172       173       176       177       185       186       189       191 \n",
       "0.3565778 0.3676531 0.3420705 0.3316024 0.3625485 0.3420705 0.3591638 0.3316024 \n",
       "      195       196       198       200       204       206       207       208 \n",
       "0.3625485 0.3400917 0.3599624 0.3349871 0.3316024 0.3676531 0.3565778 0.3400917 \n",
       "      211       214       215       220       222       227       230       231 \n",
       "0.3591638 0.3625485 0.3471752 0.3625485 0.3316024 0.3349871 0.3625485 0.3367071 \n",
       "      234       235       236       237       240       242       244       248 \n",
       "0.3316024 0.3367071 0.3599624 0.3349871 0.3349871 0.3400917 0.3349871 0.3349871 \n",
       "      249       251       255       256       259       260       263       264 \n",
       "0.3591638 0.3349871 0.3400917 0.3676531 0.3316024 0.3625485 0.3591638 0.3316024 \n",
       "      268       273       274       275       282       287       288       294 \n",
       "0.3386859 0.3349871 0.3316024 0.3662473 0.3324010 0.3324010 0.3591638 0.3324010 \n",
       "      300       302       303       314       316       319       320       321 \n",
       "0.3349871 0.3324010 0.3349871 0.3591638 0.3316024 0.3625485 0.3676531 0.3367071 \n",
       "      323       324       327       331       335       337       338       345 \n",
       "0.3625485 0.3360999 0.3625485 0.3367071 0.3316024 0.3349871 0.3316024 0.3349871 \n",
       "      353       358       361       362       363       365       366       367 \n",
       "0.3316024 0.3316024 0.3670459 0.3367071 0.3591638 0.3349871 0.3316024 0.3400917 \n",
       "      372       376       381       382       384       387       388       395 \n",
       "0.3400917 0.3591638 0.3349871 0.3676531 0.3400917 0.3591638 0.3400917 0.3316024 \n",
       "      398       399       401       403       404       405       411       412 \n",
       "0.3625485 0.3591638 0.3591638 0.3316024 0.3625485 0.3676531 0.3591638 0.3591638 \n",
       "      417       419       420       421       423       424       427       428 \n",
       "0.3676531 0.3420705 0.3316024 0.3599624 0.3349871 0.3625485 0.3316024 0.3625485 \n",
       "      431       433       438       439       442       444       446       447 \n",
       "0.3386859 0.3400917 0.3316024 0.3349871 0.3324010 0.3676531 0.3349871 0.3625485 \n",
       "      448       449       450       453       456       460       462       464 \n",
       "0.3599624 0.3591638 0.3591638 0.3400917 0.3349871 0.3591638 0.3599624 0.3367071 \n",
       "      470       472       480       482       484       487       488       495 \n",
       "0.3316024 0.3591638 0.3349871 0.3290164 0.3420705 0.3625485 0.3400917 0.3625485 \n",
       "      497       500       502       503       508       509       511       514 \n",
       "0.3349871 0.3591638 0.3290164 0.3349871 0.3316024 0.3349871 0.3625485 0.3316024 \n",
       "      516       517       518       520       521       523       524       529 \n",
       "0.3400917 0.3599624 0.3349871 0.3349871 0.3349871 0.3349871 0.3349871 0.3591638 \n",
       "      531       532       535       537       540       542       543       546 \n",
       "0.3367071 0.3591638 0.3316024 0.3400917 0.3591638 0.3316024 0.3349871 0.3316024 \n",
       "      547       548       557       558       559       562       563       566 \n",
       "0.3642685 0.3625485 0.3316024 0.3591638 0.3386859 0.3400917 0.3316024 0.3349871 \n",
       "      567       572       573       576       578       579       582       585 \n",
       "0.3625485 0.3625485 0.3316024 0.3316024 0.3290164 0.3349871 0.3591638 0.3349871 \n",
       "      592       593       599       600       602       609       613       614 \n",
       "0.3349871 0.3676531 0.3316024 0.3437905 0.3400917 0.3386859 0.3290164 0.3420705 \n",
       "      619       620       621       626       629       630       631       637 \n",
       "0.3290164 0.3360999 0.3349871 0.3625485 0.3420705 0.3349871 0.3324010 0.3625485 \n",
       "      638       644       646       649       651       655       657       659 \n",
       "0.3316024 0.3349871 0.3349871 0.3324010 0.3316024 0.3349871 0.3316024 0.3625485 \n",
       "      660       662       663       664       666       669       674       676 \n",
       "0.3591638 0.3316024 0.3316024 0.3676531 0.3316024 0.3349871 0.3316024 0.3420705 \n",
       "      677       680       687       689       690       691       694       696 \n",
       "0.3591638 0.3420705 0.3349871 0.3625485 0.3349871 0.3676531 0.3625485 0.3316024 \n",
       "      697       701       702       703       705       709       710       712 \n",
       "0.3420705 0.3400917 0.3349871 0.3349871 0.3591638 0.3642685 0.3625485 0.3591638 \n",
       "      720       722       725       726       730       731       734       735 \n",
       "0.3625485 0.3599624 0.3349871 0.3349871 0.3367071 0.3316024 0.3316024 0.3625485 \n",
       "      740       741       744       748       749       755       758       762 \n",
       "0.3349871 0.3349871 0.3400917 0.3324010 0.3367071 0.3316024 0.3400917 0.3400917 \n",
       "      765       766       767       770       771       772       776       779 \n",
       "0.3316024 0.3625485 0.3349871 0.3400917 0.3591638 0.3400917 0.3349871 0.3349871 \n",
       "      781       782       783       785       792       793       798       811 \n",
       "0.3591638 0.3642685 0.3625485 0.3316024 0.3625485 0.3349871 0.3316024 0.3316024 \n",
       "      816       817       820       825       829       831       834       840 \n",
       "0.3599624 0.3400917 0.3316024 0.3290164 0.3349871 0.3625485 0.3349871 0.3625485 \n",
       "      842       843       844       846       847       849       856       864 \n",
       "0.3316024 0.3349871 0.3324010 0.3625485 0.3349871 0.3349871 0.3324010 0.3386859 \n",
       "      865       871       872       875       876       877       882       883 \n",
       "0.3625485 0.3625485 0.3420705 0.3349871 0.3316024 0.3349871 0.3386859 0.3386859 \n",
       "      885       887       889       898       902       903       906       908 \n",
       "0.3420705 0.3420705 0.3316024 0.3591638 0.3367071 0.3316024 0.3349871 0.3471752 \n",
       "      911       913       914       915       916       918       922       925 \n",
       "0.3367071 0.3420705 0.3420705 0.3420705 0.3394845 0.3349871 0.3316024 0.3367071 \n",
       "      928       929       932       934       935       937       938       939 \n",
       "0.3316024 0.3316024 0.3349871 0.3349871 0.3349871 0.3360999 0.3591638 0.3386859 \n",
       "      944       948       950       955       956       957       958       961 \n",
       "0.3386859 0.3349871 0.3349871 0.3386859 0.3400917 0.3400917 0.3349871 0.3400917 \n",
       "      963       964       966       967       970       971       975       976 \n",
       "0.3349871 0.3625485 0.3349871 0.3420705 0.3349871 0.3349871 0.3316024 0.3591638 \n",
       "      979       983       984       986       992       995       996       997 \n",
       "0.3349871 0.3349871 0.3316024 0.3349871 0.3349871 0.3349871 0.3349871 0.3349871 \n",
       "     1003      1004      1005      1007      1009      1014      1015      1017 \n",
       "0.3349871 0.3349871 0.3316024 0.3420705 0.3349871 0.3591638 0.3316024 0.3316024 \n",
       "     1019      1030      1032      1033      1034      1035      1037      1040 \n",
       "0.3316024 0.3316024 0.3349871 0.3316024 0.3316024 0.3400917 0.3349871 0.3349871 \n",
       "     1041      1042      1047      1048      1049      1050      1055      1058 \n",
       "0.3324010 0.3316024 0.3316024 0.3349871 0.3316024 0.3324010 0.3316024 0.3316024 \n",
       "     1061      1064      1065      1066      1067      1069      1070      1075 \n",
       "0.3386859 0.3316024 0.3316024 0.3591638 0.3316024 0.3591638 0.3316024 0.3400917 \n",
       "     1086      1087      1088      1104      1106      1111      1112      1113 \n",
       "0.3349871 0.3349871 0.3316024 0.3349871 0.3471752 0.3400917 0.3625485 0.3625485 \n",
       "     1117      1118      1121      1123      1125      1126      1128      1129 \n",
       "0.3591638 0.3316024 0.3400917 0.3349871 0.3290164 0.3349871 0.3290164 0.3437905 \n",
       "     1134      1137      1138      1143      1146      1157      1167      1170 \n",
       "0.3316024 0.3625485 0.3290164 0.3642685 0.3324010 0.3349871 0.3290164 0.3662473 \n",
       "     1174      1175      1178      1179      1180      1181      1182      1183 \n",
       "0.3349871 0.3349871 0.3625485 0.3625485 0.3349871 0.3625485 0.3625485 0.3349871 \n",
       "     1185      1188      1192      1195      1196      1206      1211      1212 \n",
       "0.3324010 0.3349871 0.3349871 0.3471752 0.3591638 0.3316024 0.3420705 0.3316024 \n",
       "     1217      1219      1220      1222      1225      1228      1229      1230 \n",
       "0.3349871 0.3349871 0.3349871 0.3316024 0.3349871 0.3316024 0.3625485 0.3696319 \n",
       "     1233      1234      1239      1243      1244      1251      1254      1255 \n",
       "0.3324010 0.3599624 0.3349871 0.3324010 0.3349871 0.3316024 0.3290164 0.3316024 \n",
       "     1263      1266      1268      1276      1278      1280      1281      1282 \n",
       "0.3316024 0.3642685 0.3625485 0.3400917 0.3349871 0.3324010 0.3349871 0.3400917 \n",
       "     1286      1287      1289      1295      1299      1302      1305      1307 \n",
       "0.3316024 0.3400917 0.3349871 0.3591638 0.3676531 0.3625485 0.3591638 0.3625485 \n",
       "     1308      1309      1310      1315      1316      1317      1318      1323 \n",
       "0.3591638 0.3565778 0.3591638 0.3349871 0.3349871 0.3349871 0.3367071 0.3599624 \n",
       "     1325      1328      1332      1333      1336      1337      1340      1347 \n",
       "0.3713520 0.3636613 0.3349871 0.3290164 0.3591638 0.3625485 0.3625485 0.3367071 \n",
       "     1349      1355      1357      1358      1364      1365      1367      1369 \n",
       "0.3349871 0.3316024 0.3642685 0.3400917 0.3367071 0.3591638 0.3386859 0.3386859 \n",
       "     1374      1378      1379      1385      1386      1393      1394      1398 \n",
       "0.3591638 0.3642685 0.3360999 0.3349871 0.3349871 0.3591638 0.3349871 0.3625485 \n",
       "     1399      1408      1409      1411      1412      1415      1420      1422 \n",
       "0.3316024 0.3591638 0.3349871 0.3349871 0.3316024 0.3316024 0.3662473 0.3316024 \n",
       "     1424      1430      1431      1432      1441      1444      1449      1451 \n",
       "0.3316024 0.3696319 0.3591638 0.3316024 0.3676531 0.3290164 0.3316024 0.3316024 \n",
       "     1453      1454      1456      1460      1462      1464      1467      1470 \n",
       "0.3316024 0.3316024 0.3316024 0.3400917 0.3324010 0.3316024 0.3316024 0.3316024 \n",
       "     1472      1473      1474      1476      1479      1482      1485      1486 \n",
       "0.3386859 0.3625485 0.3642685 0.3349871 0.3420705 0.3324010 0.3349871 0.3400917 \n",
       "     1487      1495      1496      1497      1501      1502      1503      1504 \n",
       "0.3367071 0.3367071 0.3316024 0.3349871 0.3316024 0.3349871 0.3349871 0.3324010 \n",
       "     1513      1523      1525      1526      1528      1529      1531      1534 \n",
       "0.3367071 0.3386859 0.3316024 0.3316024 0.3349871 0.3437905 0.3591638 0.3400917 \n",
       "     1535      1540      1542      1543      1548      1553      1554      1557 \n",
       "0.3400917 0.3324010 0.3349871 0.3349871 0.3367071 0.3367071 0.3676531 0.3471752 \n",
       "     1563      1567      1568      1569      1570      1572      1573      1575 \n",
       "0.3591638 0.3662473 0.3420705 0.3316024 0.3400917 0.3400917 0.3349871 0.3349871 \n",
       "     1576      1583      1584      1589      1594      1595      1598      1600 \n",
       "0.3316024 0.3420705 0.3349871 0.3349871 0.3625485 0.3349871 0.3349871 0.3349871 \n",
       "     1601      1610      1612      1615      1616      1618      1619      1623 \n",
       "0.3324010 0.3349871 0.3349871 0.3591638 0.3349871 0.3349871 0.3349871 0.3349871 \n",
       "     1626      1627      1628      1629      1630      1637      1640      1643 \n",
       "0.3349871 0.3316024 0.3625485 0.3316024 0.3316024 0.3349871 0.3316024 0.3591638 \n",
       "     1644      1645      1647      1660      1662      1663      1665      1667 \n",
       "0.3676531 0.3591638 0.3316024 0.3324010 0.3591638 0.3316024 0.3324010 0.3625485 \n",
       "     1668      1669      1673      1676      1680      1681      1682      1685 \n",
       "0.3625485 0.3316024 0.3316024 0.3625485 0.3676531 0.3316024 0.3349871 0.3591638 \n",
       "     1687      1688      1690      1695      1698      1700      1704      1707 \n",
       "0.3400917 0.3349871 0.3625485 0.3316024 0.3316024 0.3349871 0.3386859 0.3676531 \n",
       "     1711      1716      1718      1719      1726      1728      1735      1737 \n",
       "0.3625485 0.3316024 0.3420705 0.3316024 0.3642685 0.3591638 0.3625485 0.3565778 \n",
       "     1738      1739      1740      1742      1743      1746      1755      1760 \n",
       "0.3420705 0.3625485 0.3713520 0.3591638 0.3591638 0.3349871 0.3625485 0.3591638 \n",
       "     1763      1765      1767      1769      1770      1776      1782      1784 \n",
       "0.3591638 0.3625485 0.3676531 0.3676531 0.3676531 0.3599624 0.3349871 0.3591638 \n",
       "     1785      1788      1793      1794      1803      1806      1810      1812 \n",
       "0.3349871 0.3400917 0.3349871 0.3349871 0.3349871 0.3349871 0.3400917 0.3367071 \n",
       "     1819      1820      1823      1825      1830      1833      1837      1838 \n",
       "0.3316024 0.3316024 0.3290164 0.3349871 0.3400917 0.3316024 0.3349871 0.3349871 \n",
       "     1839      1840      1846      1847      1849      1854      1855      1856 \n",
       "0.3316024 0.3662473 0.3642685 0.3591638 0.3349871 0.3316024 0.3316024 0.3349871 \n",
       "     1857      1862      1872      1874      1876      1877      1879      1880 \n",
       "0.3349871 0.3420705 0.3349871 0.3420705 0.3349871 0.3349871 0.3324010 0.3625485 \n",
       "     1881      1885      1886      1891      1894      1895      1896      1901 \n",
       "0.3599624 0.3349871 0.3696319 0.3400917 0.3316024 0.3349871 0.3349871 0.3696319 \n",
       "     1902      1903      1906      1909      1910      1916      1917      1920 \n",
       "0.3625485 0.3290164 0.3349871 0.3662473 0.3349871 0.3349871 0.3324010 0.3349871 \n",
       "     1924      1926      1930      1933      1934      1939      1940      1944 \n",
       "0.3599624 0.3591638 0.3625485 0.3316024 0.3316024 0.3349871 0.3316024 0.3591638 \n",
       "     1948      1949      1950      1956      1957      1958      1960      1965 \n",
       "0.3599624 0.3565778 0.3625485 0.3400917 0.3316024 0.3349871 0.3324010 0.3290164 \n",
       "     1967      1970      1972      1977      1978      1981      1984      1986 \n",
       "0.3400917 0.3400917 0.3349871 0.3676531 0.3400917 0.3316024 0.3400917 0.3349871 \n",
       "     1989      1992      1995      1997      2000      2005      2006      2017 \n",
       "0.3400917 0.3316024 0.3316024 0.3625485 0.3625485 0.3367071 0.3349871 0.3437905 \n",
       "     2018      2024      2025      2027      2029      2037      2040      2047 \n",
       "0.3386859 0.3400917 0.3349871 0.3324010 0.3316024 0.3349871 0.3400917 0.3290164 \n",
       "     2048      2049      2050      2053      2055      2063      2070      2076 \n",
       "0.3420705 0.3420705 0.3316024 0.3349871 0.3316024 0.3400917 0.3316024 0.3290164 \n",
       "     2081      2083      2088      2090      2092      2093      2094      2097 \n",
       "0.3349871 0.3316024 0.3591638 0.3386859 0.3316024 0.3625485 0.3316024 0.3349871 \n",
       "     2098      2099      2100      2105      2107      2109      2113      2114 \n",
       "0.3420705 0.3625485 0.3349871 0.3349871 0.3400917 0.3349871 0.3420705 0.3349871 \n",
       "     2117      2118      2119      2125      2126      2127      2129      2131 \n",
       "0.3591638 0.3349871 0.3349871 0.3316024 0.3420705 0.3349871 0.3316024 0.3349871 \n",
       "     2133      2136      2137      2138      2141      2145      2147      2148 \n",
       "0.3400917 0.3290164 0.3625485 0.3400917 0.3349871 0.3316024 0.3316024 0.3316024 \n",
       "     2149      2151      2153      2158      2159      2167      2169      2172 \n",
       "0.3290164 0.3316024 0.3316024 0.3349871 0.3349871 0.3316024 0.3349871 0.3290164 \n",
       "     2174      2176      2178      2180      2185      2186      2188      2189 \n",
       "0.3349871 0.3290164 0.3349871 0.3324010 0.3316024 0.3349871 0.3360999 0.3316024 \n",
       "     2190      2192      2193      2199      2201      2213      2219      2223 \n",
       "0.3316024 0.3316024 0.3316024 0.3349871 0.3591638 0.3591638 0.3316024 0.3316024 \n",
       "     2224      2232      2233      2235      2237      2243      2245      2250 \n",
       "0.3290164 0.3400917 0.3349871 0.3367071 0.3349871 0.3367071 0.3324010 0.3591638 \n",
       "     2251      2255      2257      2258      2259      2260      2263      2264 \n",
       "0.3625485 0.3349871 0.3367071 0.3349871 0.3400917 0.3316024 0.3349871 0.3420705 \n",
       "     2265      2269      2273      2274      2279      2283      2284      2285 \n",
       "0.3324010 0.3316024 0.3400917 0.3349871 0.3625485 0.3349871 0.3349871 0.3625485 \n",
       "     2287      2294      2295      2296      2297      2301      2304      2310 \n",
       "0.3349871 0.3324010 0.3316024 0.3625485 0.3367071 0.3349871 0.3696319 0.3316024 \n",
       "     2311      2313      2315      2319      2321      2322      2323      2325 \n",
       "0.3349871 0.3316024 0.3316024 0.3349871 0.3360999 0.3349871 0.3591638 0.3349871 \n",
       "     2328      2330      2331      2332      2337      2341      2350      2352 \n",
       "0.3349871 0.3349871 0.3290164 0.3349871 0.3316024 0.3349871 0.3316024 0.3349871 \n",
       "     2355      2363      2367      2373      2374      2376      2379      2384 \n",
       "0.3316024 0.3591638 0.3349871 0.3349871 0.3316024 0.3349871 0.3324010 0.3316024 \n",
       "     2389      2393      2395      2396      2401      2402      2410      2411 \n",
       "0.3349871 0.3349871 0.3591638 0.3367071 0.3625485 0.3625485 0.3625485 0.3290164 \n",
       "     2412      2413      2414      2420      2423      2424      2426      2427 \n",
       "0.3625485 0.3591638 0.3591638 0.3676531 0.3625485 0.3599624 0.3591638 0.3625485 \n",
       "     2428      2435      2440      2441      2443      2444      2447      2448 \n",
       "0.3696319 0.3662473 0.3625485 0.3591638 0.3367071 0.3400917 0.3316024 0.3290164 \n",
       "     2450      2452      2461      2464      2467      2468      2470      2471 \n",
       "0.3565778 0.3591638 0.3625485 0.3349871 0.3400917 0.3400917 0.3316024 0.3324010 \n",
       "     2475      2478      2481      2483      2485      2486      2487      2489 \n",
       "0.3316024 0.3386859 0.3316024 0.3324010 0.3349871 0.3349871 0.3349871 0.3420705 \n",
       "     2491      2492      2493      2499      2501      2502      2503      2505 \n",
       "0.3324010 0.3386859 0.3420705 0.3349871 0.3367071 0.3349871 0.3349871 0.3349871 \n",
       "     2507      2508      2509      2516      2518      2519      2529      2531 \n",
       "0.3290164 0.3349871 0.3349871 0.3349871 0.3713520 0.3316024 0.3349871 0.3394845 \n",
       "     2533      2535      2539      2543      2546      2547      2548      2549 \n",
       "0.3316024 0.3316024 0.3316024 0.3349871 0.3349871 0.3625485 0.3316024 0.3420705 \n",
       "     2555      2556      2557      2559      2560      2569      2571      2574 \n",
       "0.3349871 0.3316024 0.3625485 0.3625485 0.3599624 0.3599624 0.3591638 0.3565778 \n",
       "     2577      2584      2586      2588      2593      2596      2598      2599 \n",
       "0.3324010 0.3591638 0.3591638 0.3591638 0.3565778 0.3599624 0.3591638 0.3565778 \n",
       "     2600      2602      2604      2609      2610      2611      2616      2618 \n",
       "0.3625485 0.3591638 0.3625485 0.3400917 0.3316024 0.3349871 0.3316024 0.3316024 \n",
       "     2620      2622      2627      2628      2629      2635      2639      2643 \n",
       "0.3290164 0.3367071 0.3386859 0.3420705 0.3349871 0.3349871 0.3349871 0.3349871 \n",
       "     2645      2647      2648      2649      2650      2652      2655      2657 \n",
       "0.3349871 0.3349871 0.3400917 0.3625485 0.3642685 0.3676531 0.3400917 0.3349871 \n",
       "     2659      2664      2669      2673      2674      2675      2677      2679 \n",
       "0.3349871 0.3400917 0.3349871 0.3349871 0.3316024 0.3367071 0.3349871 0.3349871 \n",
       "     2680      2686      2687      2689      2691      2693      2695      2696 \n",
       "0.3290164 0.3386859 0.3367071 0.3420705 0.3437905 0.3437905 0.3420705 0.3367071 \n",
       "     2697      2704      2705      2710      2712      2713      2715      2722 \n",
       "0.3367071 0.3420705 0.3316024 0.3591638 0.3420705 0.3420705 0.3420705 0.3316024 \n",
       "     2728      2731      2732      2734      2738      2739      2745      2748 \n",
       "0.3349871 0.3324010 0.3349871 0.3349871 0.3316024 0.3591638 0.3324010 0.3349871 \n",
       "     2750      2753      2754      2755      2756      2758      2759      2763 \n",
       "0.3349871 0.3420705 0.3625485 0.3290164 0.3420705 0.3349871 0.3349871 0.3316024 \n",
       "     2764      2765      2768      2773      2774      2775      2776      2779 \n",
       "0.3367071 0.3316024 0.3349871 0.3420705 0.3625485 0.3349871 0.3349871 0.3349871 \n",
       "     2781      2784      2786      2788      2791      2792      2795      2796 \n",
       "0.3349871 0.3591638 0.3676531 0.3349871 0.3625485 0.3349871 0.3349871 0.3400917 \n",
       "     2797      2799      2803      2805      2806      2809      2810      2813 \n",
       "0.3349871 0.3676531 0.3349871 0.3349871 0.3591638 0.3349871 0.3625485 0.3349871 \n",
       "     2817      2820      2824      2828      2830      2832      2835      2837 \n",
       "0.3625485 0.3349871 0.3316024 0.3316024 0.3324010 0.3316024 0.3324010 0.3625485 \n",
       "     2839      2843      2844      2857      2860      2862      2863      2864 \n",
       "0.3625485 0.3625485 0.3591638 0.3290164 0.3386859 0.3324010 0.3324010 0.3316024 \n",
       "     2868      2869      2875      2877      2878      2880      2882      2887 \n",
       "0.3662473 0.3599624 0.3591638 0.3565778 0.3625485 0.3349871 0.3316024 0.3316024 \n",
       "     2891      2892      2894      2897      2900      2903      2904      2909 \n",
       "0.3400917 0.3386859 0.3400917 0.3316024 0.3349871 0.3400917 0.3316024 0.3565778 \n",
       "     2913      2917      2922      2926      2928      2930      2931      2933 \n",
       "0.3625485 0.3591638 0.3676531 0.3676531 0.3662473 0.3565778 0.3349871 0.3349871 \n",
       "     2936      2941      2944      2945      2948      2950      2952      2959 \n",
       "0.3316024 0.3676531 0.3591638 0.3565778 0.3591638 0.3625485 0.3642685 0.3625485 \n",
       "     2961      2969      2975      2978      2980      2987      2992      2993 \n",
       "0.3676531 0.3591638 0.3625485 0.3367071 0.3349871 0.3676531 0.3290164 0.3400917 \n",
       "     2998      3005      3007      3008      3009      3017      3020      3024 \n",
       "0.3349871 0.3400917 0.3316024 0.3349871 0.3349871 0.3349871 0.3349871 0.3349871 \n",
       "     3025      3033      3034      3037      3038      3045      3050      3053 \n",
       "0.3625485 0.3316024 0.3316024 0.3349871 0.3625485 0.3349871 0.3349871 0.3420705 \n",
       "     3055      3058      3059      3061      3062      3064      3065      3066 \n",
       "0.3349871 0.3316024 0.3625485 0.3662473 0.3591638 0.3367071 0.3349871 0.3400917 \n",
       "     3067      3068      3069      3071      3072      3073      3076      3080 \n",
       "0.3316024 0.3349871 0.3349871 0.3420705 0.3349871 0.3625485 0.3324010 0.3316024 \n",
       "     3082      3084      3088      3095      3099      3101      3104      3105 \n",
       "0.3349871 0.3591638 0.3591638 0.3591638 0.3599624 0.3591638 0.3625485 0.3625485 \n",
       "     3106      3107      3109      3121      3122      3123      3124      3126 \n",
       "0.3591638 0.3662473 0.3625485 0.3625485 0.3625485 0.3625485 0.3349871 0.3349871 \n",
       "     3127      3132      3134      3135      3140      3144      3148      3150 \n",
       "0.3349871 0.3316024 0.3316024 0.3349871 0.3316024 0.3400917 0.3316024 0.3349871 \n",
       "     3154      3155      3157      3160      3162      3164      3171      3172 \n",
       "0.3400917 0.3290164 0.3290164 0.3316024 0.3747366 0.3625485 0.3367071 0.3349871 \n",
       "     3176      3180      3182      3185      3187      3191      3197      3202 \n",
       "0.3400917 0.3316024 0.3349871 0.3349871 0.3324010 0.3349871 0.3290164 0.3349871 \n",
       "     3204      3205      3207      3211      3214      3217      3219      3220 \n",
       "0.3349871 0.3400917 0.3591638 0.3316024 0.3349871 0.3316024 0.3316024 0.3349871 \n",
       "     3221      3225      3226      3227      3228      3232      3235      3239 \n",
       "0.3437905 0.3420705 0.3386859 0.3471752 0.3386859 0.3437905 0.3420705 0.3400917 \n",
       "     3240      3242      3250      3251      3258      3259      3261      3264 \n",
       "0.3316024 0.3349871 0.3349871 0.3349871 0.3349871 0.3316024 0.3349871 0.3420705 \n",
       "     3265      3272      3273      3274      3279      3285      3286      3288 \n",
       "0.3625485 0.3349871 0.3696319 0.3400917 0.3400917 0.3420705 0.3400917 0.3316024 \n",
       "     3289      3296      3297      3299      3304      3307      3309      3316 \n",
       "0.3349871 0.3420705 0.3625485 0.3591638 0.3662473 0.3625485 0.3316024 0.3349871 \n",
       "     3321      3323      3330      3333      3334      3340      3344      3347 \n",
       "0.3316024 0.3400917 0.3316024 0.3625485 0.3349871 0.3420705 0.3324010 0.3316024 \n",
       "     3356      3361      3363      3364      3366      3371      3375      3380 \n",
       "0.3349871 0.3316024 0.3316024 0.3591638 0.3591638 0.3625485 0.3349871 0.3591638 \n",
       "     3383      3384      3385      3386      3387      3388      3390      3391 \n",
       "0.3349871 0.3349871 0.3324010 0.3400917 0.3349871 0.3349871 0.3400917 0.3316024 \n",
       "     3393      3397      3403      3407      3410      3412      3413      3414 \n",
       "0.3349871 0.3316024 0.3400917 0.3349871 0.3290164 0.3625485 0.3625485 0.3316024 \n",
       "     3418      3423      3424      3425      3426      3427      3430      3432 \n",
       "0.3324010 0.3349871 0.3316024 0.3386859 0.3316024 0.3316024 0.3400917 0.3316024 \n",
       "     3436      3438      3439      3442      3443      3444      3446      3453 \n",
       "0.3367071 0.3565778 0.3676531 0.3713520 0.3676531 0.3625485 0.3696319 0.3676531 \n",
       "     3456      3457      3458      3460      3462      3463      3464      3469 \n",
       "0.3676531 0.3599624 0.3642685 0.3591638 0.3591638 0.3676531 0.3676531 0.3349871 \n",
       "     3473      3475      3479      3480      3482      3483      3484      3487 \n",
       "0.3349871 0.3349871 0.3349871 0.3662473 0.3676531 0.3420705 0.3400917 0.3676531 \n",
       "     3488      3491      3493      3502      3506      3509      3519      3525 \n",
       "0.3367071 0.3349871 0.3316024 0.3386859 0.3316024 0.3349871 0.3471752 0.3316024 \n",
       "     3529      3532      3536      3538      3539      3545      3546      3547 \n",
       "0.3349871 0.3386859 0.3386859 0.3324010 0.3591638 0.3349871 0.3625485 0.3316024 \n",
       "     3548      3559      3561      3564      3568      3569      3572      3576 \n",
       "0.3386859 0.3696319 0.3316024 0.3316024 0.3349871 0.3316024 0.3591638 0.3316024 \n",
       "     3577      3578      3580      3583      3584      3586      3590      3593 \n",
       "0.3349871 0.3316024 0.3316024 0.3349871 0.3316024 0.3324010 0.3316024 0.3625485 \n",
       "     3594      3597      3599      3602      3607      3611      3615      3619 \n",
       "0.3591638 0.3625485 0.3316024 0.3316024 0.3290164 0.3400917 0.3676531 0.3316024 \n",
       "     3622      3624      3625      3628      3629      3630      3634      3635 \n",
       "0.3349871 0.3394845 0.3386859 0.3324010 0.3349871 0.3400917 0.3591638 0.3642685 \n",
       "     3636      3637      3641      3648      3649      3656      3658      3660 \n",
       "0.3625485 0.3591638 0.3676531 0.3676531 0.3367071 0.3349871 0.3349871 0.3400917 \n",
       "     3661      3663      3672      3673      3674      3682      3684      3686 \n",
       "0.3367071 0.3349871 0.3290164 0.3420705 0.3565778 0.3349871 0.3316024 0.3316024 \n",
       "     3690      3692      3693      3697      3699      3700      3701      3707 \n",
       "0.3316024 0.3349871 0.3316024 0.3367071 0.3349871 0.3349871 0.3420705 0.3316024 \n",
       "     3711      3715      3716      3717      3719      3725      3726      3727 \n",
       "0.3316024 0.3625485 0.3420705 0.3625485 0.3290164 0.3420705 0.3349871 0.3316024 \n",
       "     3730      3732      3733      3735      3737      3739      3743      3745 \n",
       "0.3400917 0.3290164 0.3316024 0.3625485 0.3349871 0.3349871 0.3400917 0.3349871 \n",
       "     3746      3747      3749      3752      3754      3756      3759      3761 \n",
       "0.3591638 0.3591638 0.3316024 0.3349871 0.3349871 0.3316024 0.3349871 0.3625485 \n",
       "     3762      3763      3768      3770      3772      3773      3775      3777 \n",
       "0.3349871 0.3591638 0.3316024 0.3349871 0.3349871 0.3349871 0.3316024 0.3386859 \n",
       "     3778      3779      3782      3783      3787      3788      3789      3791 \n",
       "0.3420705 0.3316024 0.3676531 0.3316024 0.3625485 0.3316024 0.3625485 0.3349871 \n",
       "     3792      3793      3798      3802      3804      3810      3814      3818 \n",
       "0.3316024 0.3400917 0.3316024 0.3400917 0.3316024 0.3316024 0.3349871 0.3324010 \n",
       "     3825      3829      3838      3839      3840      3842      3843      3848 \n",
       "0.3316024 0.3591638 0.3400917 0.3316024 0.3400917 0.3349871 0.3290164 0.3316024 \n",
       "     3850      3853      3854      3858      3860      3861      3862      3863 \n",
       "0.3290164 0.3349871 0.3400917 0.3324010 0.3316024 0.3400917 0.3316024 0.3400917 \n",
       "     3865      3867      3868      3871      3873      3879      3880      3882 \n",
       "0.3349871 0.3367071 0.3349871 0.3625485 0.3676531 0.3316024 0.3400917 0.3386859 \n",
       "     3888      3893      3895      3896      3898      3899      3902      3903 \n",
       "0.3400917 0.3316024 0.3290164 0.3400917 0.3349871 0.3316024 0.3400917 0.3290164 \n",
       "     3905      3907      3908      3911      3913      3915      3922      3924 \n",
       "0.3400917 0.3349871 0.3349871 0.3471752 0.3420705 0.3400917 0.3400917 0.3290164 \n",
       "     3927      3930      3931      3934      3935      3936      3939      3947 \n",
       "0.3349871 0.3367071 0.3400917 0.3400917 0.3324010 0.3367071 0.3349871 0.3349871 \n",
       "     3948      3950      3954      3955      3957      3959      3960      3961 \n",
       "0.3349871 0.3400917 0.3400917 0.3316024 0.3349871 0.3316024 0.3349871 0.3349871 \n",
       "     3967      3969      3971      3973      3977      3979      3980      3982 \n",
       "0.3349871 0.3625485 0.3591638 0.3625485 0.3696319 0.3316024 0.3316024 0.3386859 \n",
       "     3986      3990      3991      3992      3993      3994      4001      4007 \n",
       "0.3349871 0.3386859 0.3400917 0.3625485 0.3349871 0.3360999 0.3420705 0.3591638 \n",
       "     4010      4011      4013      4015      4017      4029      4034      4035 \n",
       "0.3349871 0.3349871 0.3316024 0.3316024 0.3360999 0.3316024 0.3349871 0.3316024 \n",
       "     4036      4039      4044      4045      4046      4048      4049      4051 \n",
       "0.3316024 0.3591638 0.3316024 0.3324010 0.3324010 0.3324010 0.3324010 0.3386859 \n",
       "     4053      4054      4057      4058      4060      4061      4064      4065 \n",
       "0.3316024 0.3324010 0.3625485 0.3591638 0.3591638 0.3599624 0.3400917 0.3625485 \n",
       "     4069      4070      4073      4074      4079      4085      4090      4092 \n",
       "0.3400917 0.3349871 0.3349871 0.3316024 0.3349871 0.3599624 0.3316024 0.3420705 \n",
       "     4094      4095      4098      4105      4110      4111      4115      4116 \n",
       "0.3625485 0.3386859 0.3316024 0.3400917 0.3316024 0.3367071 0.3420705 0.3367071 \n",
       "     4120      4123      4129      4132      4135      4138      4141      4144 \n",
       "0.3316024 0.3349871 0.3316024 0.3400917 0.3400917 0.3420705 0.3349871 0.3349871 \n",
       "     4149      4154      4157      4158      4160      4163      4164      4165 \n",
       "0.3367071 0.3625485 0.3625485 0.3625485 0.3625485 0.3565778 0.3349871 0.3316024 \n",
       "     4168      4170      4172      4177      4183      4184      4188      4189 \n",
       "0.3400917 0.3625485 0.3316024 0.3642685 0.3591638 0.3349871 0.3420705 0.3349871 \n",
       "     4190      4192      4193      4194      4197      4198      4199      4200 \n",
       "0.3400917 0.3290164 0.3316024 0.3316024 0.3591638 0.3316024 0.3349871 0.3349871 \n",
       "     4201      4202      4203      4204      4207      4209      4212      4213 \n",
       "0.3642685 0.3591638 0.3625485 0.3349871 0.3316024 0.3316024 0.3591638 0.3316024 \n",
       "     4215      4216      4218      4223      4228      4230      4231      4232 \n",
       "0.3625485 0.3316024 0.3591638 0.3565778 0.3316024 0.3316024 0.3316024 0.3349871 \n",
       "     4235      4239      4240      4243      4245      4252      4253      4256 \n",
       "0.3316024 0.3591638 0.3591638 0.3316024 0.3349871 0.3316024 0.3316024 0.3316024 \n",
       "     4257      4261      4262      4264      4265      4266      4269      4275 \n",
       "0.3349871 0.3591638 0.3591638 0.3591638 0.3316024 0.3349871 0.3349871 0.3400917 \n",
       "     4277      4278      4281      4283      4286      4290      4293      4297 \n",
       "0.3367071 0.3349871 0.3625485 0.3625485 0.3591638 0.3599624 0.3625485 0.3386859 \n",
       "     4301      4302      4304      4308      4310      4311      4314      4320 \n",
       "0.3591638 0.3676531 0.3625485 0.3400917 0.3316024 0.3400917 0.3367071 0.3696319 \n",
       "     4321      4322      4325      4332      4333      4335      4337      4339 \n",
       "0.3565778 0.3625485 0.3591638 0.3636613 0.3625485 0.3625485 0.3565778 0.3642685 \n",
       "     4341      4346      4348      4351      4355      4356      4358      4361 \n",
       "0.3696319 0.3349871 0.3349871 0.3591638 0.3591638 0.3625485 0.3676531 0.3642685 \n",
       "     4367      4368      4371      4373      4375      4376      4378      4379 \n",
       "0.3324010 0.3400917 0.3420705 0.3386859 0.3386859 0.3349871 0.3386859 0.3437905 \n",
       "     4390      4392      4395      4396      4399      4400      4402      4404 \n",
       "0.3349871 0.3386859 0.3420705 0.3591638 0.3349871 0.3591638 0.3316024 0.3696319 \n",
       "     4409      4413      4414      4418      4419      4421      4422      4427 \n",
       "0.3591638 0.3591638 0.3349871 0.3400917 0.3349871 0.3625485 0.3591638 0.3625485 \n",
       "     4431      4432      4434      4439      4441      4443      4444      4450 \n",
       "0.3349871 0.3290164 0.3316024 0.3360999 0.3386859 0.3349871 0.3420705 0.3349871 \n",
       "     4459      4460      4464      4466      4474      4477      4480      4485 \n",
       "0.3316024 0.3349871 0.3625485 0.3349871 0.3591638 0.3625485 0.3316024 0.3625485 \n",
       "     4489      4491      4495      4497      4499      4505      4506      4508 \n",
       "0.3349871 0.3400917 0.3324010 0.3316024 0.3349871 0.3349871 0.3437905 0.3316024 \n",
       "     4509      4510      4512      4514      4520      4521      4524      4533 \n",
       "0.3420705 0.3696319 0.3316024 0.3316024 0.3349871 0.3324010 0.3349871 0.3591638 \n",
       "     4534      4538      4540      4541      4542      4543      4548      4549 \n",
       "0.3625485 0.3349871 0.3386859 0.3420705 0.3324010 0.3400917 0.3316024 0.3625485 \n",
       "     4551      4555      4559      4565      4571      4578      4579      4584 \n",
       "0.3349871 0.3676531 0.3324010 0.3367071 0.3324010 0.3400917 0.3367071 0.3386859 \n",
       "     4585      4587      4589      4590      4599      4601      4605      4608 \n",
       "0.3437905 0.3349871 0.3420705 0.3386859 0.3349871 0.3367071 0.3290164 0.3349871 \n",
       "     4614      4615      4616      4617      4620      4624      4625      4629 \n",
       "0.3349871 0.3367071 0.3400917 0.3290164 0.3290164 0.3349871 0.3400917 0.3316024 \n",
       "     4630      4631      4632      4634      4638      4639      4640      4641 \n",
       "0.3349871 0.3349871 0.3400917 0.3349871 0.3367071 0.3316024 0.3400917 0.3367071 \n",
       "     4644      4647      4652      4653      4662      4667      4669      4672 \n",
       "0.3400917 0.3316024 0.3420705 0.3324010 0.3400917 0.3316024 0.3349871 0.3625485 \n",
       "     4675      4681      4684      4687      4690      4691      4692      4693 \n",
       "0.3290164 0.3316024 0.3400917 0.3591638 0.3290164 0.3420705 0.3316024 0.3316024 \n",
       "     4696      4697      4699      4702      4709      4710      4715      4717 \n",
       "0.3386859 0.3420705 0.3316024 0.3349871 0.3349871 0.3349871 0.3625485 0.3290164 \n",
       "     4724      4725      4727      4729      4730      4738      4743      4744 \n",
       "0.3696319 0.3316024 0.3349871 0.3420705 0.3400917 0.3420705 0.3316024 0.3349871 \n",
       "     4745      4747      4751      4752      4753      4754      4771      4779 \n",
       "0.3349871 0.3349871 0.3349871 0.3349871 0.3349871 0.3324010 0.3349871 0.3591638 \n",
       "     4783      4785      4786      4787      4788      4791      4795      4796 \n",
       "0.3625485 0.3316024 0.3349871 0.3349871 0.3324010 0.3316024 0.3316024 0.3591638 \n",
       "     4800      4802      4804      4807      4809      4811      4814      4815 \n",
       "0.3591638 0.3386859 0.3420705 0.3420705 0.3676531 0.3400917 0.3400917 0.3349871 \n",
       "     4817      4823      4825      4832      4834      4835      4837      4838 \n",
       "0.3400917 0.3324010 0.3324010 0.3349871 0.3349871 0.3400917 0.3316024 0.3400917 \n",
       "     4839      4840      4841      4842      4848      4850      4851      4852 \n",
       "0.3290164 0.3400917 0.3400917 0.3316024 0.3400917 0.3316024 0.3367071 0.3349871 \n",
       "     4853      4855      4862      4863      4864      4866      4867      4868 \n",
       "0.3316024 0.3316024 0.3316024 0.3290164 0.3349871 0.3349871 0.3349871 0.3367071 \n",
       "     4871      4874      4883      4884      4885      4886      4892      4893 \n",
       "0.3349871 0.3316024 0.3400917 0.3324010 0.3349871 0.3400917 0.3420705 0.3290164 \n",
       "     4895      4897      4898      4900      4901      4903      4906      4914 \n",
       "0.3290164 0.3349871 0.3316024 0.3400917 0.3400917 0.3316024 0.3349871 0.3349871 \n",
       "     4915      4916      4919      4922      4926      4931      4934      4935 \n",
       "0.3349871 0.3420705 0.3400917 0.3349871 0.3316024 0.3349871 0.3349871 0.3349871 \n",
       "     4938      4939      4940      4945      4947      4948      4950      4956 \n",
       "0.3400917 0.3316024 0.3349871 0.3349871 0.3625485 0.3324010 0.3349871 0.3349871 \n",
       "     4961      4963      4967      4968      4969      4971      4972      4976 \n",
       "0.3591638 0.3316024 0.3349871 0.3316024 0.3316024 0.3324010 0.3591638 0.3625485 \n",
       "     4980      4981      4983      4985      4992      4994      4996      4997 \n",
       "0.3591638 0.3625485 0.3625485 0.3324010 0.3324010 0.3349871 0.3316024 0.3324010 \n",
       "     5003      5007      5014      5019      5020      5021      5022      5023 \n",
       "0.3349871 0.3676531 0.3316024 0.3349871 0.3349871 0.3349871 0.3316024 0.3349871 \n",
       "     5030      5036      5037      5039      5046      5047      5050      5051 \n",
       "0.3747366 0.3591638 0.3625485 0.3591638 0.3591638 0.3316024 0.3316024 0.3349871 \n",
       "     5054      5059      5065      5066      5067      5072      5073      5074 \n",
       "0.3676531 0.3316024 0.3316024 0.3420705 0.3642685 0.3386859 0.3676531 0.3316024 \n",
       "     5079      5084      5086      5089      5092      5093      5096      5100 \n",
       "0.3420705 0.3316024 0.3349871 0.3591638 0.3565778 0.3349871 0.3349871 0.3316024 \n",
       "     5101      5103      5107      5111      5112      5113      5114      5116 \n",
       "0.3349871 0.3625485 0.3316024 0.3420705 0.3349871 0.3367071 0.3386859 0.3367071 \n",
       "     5122      5124      5126      5132      5133      5139      5140      5141 \n",
       "0.3400917 0.3316024 0.3642685 0.3591638 0.3625485 0.3394845 0.3591638 0.3349871 \n",
       "     5143      5144      5146      5148      5149      5150      5152      5153 \n",
       "0.3591638 0.3349871 0.3591638 0.3599624 0.3625485 0.3316024 0.3420705 0.3676531 \n",
       "     5155      5158      5160      5162      5169      5170      5173      5176 \n",
       "0.3437905 0.3565778 0.3591638 0.3349871 0.3591638 0.3316024 0.3349871 0.3316024 \n",
       "     5179      5184      5186      5187      5192      5193      5194      5196 \n",
       "0.3420705 0.3349871 0.3316024 0.3349871 0.3625485 0.3625485 0.3420705 0.3324010 \n",
       "     5208      5213      5214      5231      5232      5234      5236      5242 \n",
       "0.3349871 0.3400917 0.3662473 0.3420705 0.3349871 0.3386859 0.3625485 0.3625485 \n",
       "     5243      5244      5249      5252      5253      5254      5255      5256 \n",
       "0.3676531 0.3625485 0.3316024 0.3316024 0.3400917 0.3642685 0.3625485 0.3625485 \n",
       "     5257      5262      5267      5269      5270      5278      5279      5283 \n",
       "0.3696319 0.3625485 0.3591638 0.3625485 0.3696319 0.3636613 0.3642685 0.3420705 \n",
       "     5287      5288      5290      5293      5295      5296      5301      5303 \n",
       "0.3367071 0.3591638 0.3324010 0.3625485 0.3349871 0.3349871 0.3349871 0.3625485 \n",
       "     5305      5308      5309      5310      5313      5321      5325      5330 \n",
       "0.3625485 0.3394845 0.3591638 0.3400917 0.3316024 0.3349871 0.3386859 0.3420705 \n",
       "     5331      5335      5338      5341      5343      5344      5351      5354 \n",
       "0.3349871 0.3349871 0.3420705 0.3349871 0.3367071 0.3349871 0.3367071 0.3420705 \n",
       "     5357      5359      5361      5362      5363      5366      5373      5374 \n",
       "0.3642685 0.3349871 0.3400917 0.3349871 0.3316024 0.3316024 0.3662473 0.3349871 \n",
       "     5379      5380      5381      5382      5388      5391      5392      5393 \n",
       "0.3316024 0.3662473 0.3591638 0.3349871 0.3625485 0.3367071 0.3625485 0.3324010 \n",
       "     5395      5397      5400      5402      5407      5409      5410      5412 \n",
       "0.3349871 0.3591638 0.3316024 0.3349871 0.3625485 0.3591638 0.3591638 0.3676531 \n",
       "     5413      5414      5415      5416      5417      5422      5426      5431 \n",
       "0.3599624 0.3324010 0.3316024 0.3349871 0.3316024 0.3386859 0.3316024 0.3625485 \n",
       "     5434      5435      5438      5439      5440      5443      5448      5450 \n",
       "0.3625485 0.3625485 0.3591638 0.3316024 0.3316024 0.3349871 0.3400917 0.3316024 \n",
       "     5452      5453      5454      5455      5456      5458      5459      5463 \n",
       "0.3420705 0.3360999 0.3386859 0.3420705 0.3349871 0.3349871 0.3400917 0.3420705 \n",
       "     5470      5476      5477      5480      5481      5482      5484      5486 \n",
       "0.3676531 0.3625485 0.3367071 0.3625485 0.3367071 0.3599624 0.3599624 0.3625485 \n",
       "     5487      5492      5494      5495      5496      5499      5500      5503 \n",
       "0.3625485 0.3349871 0.3400917 0.3316024 0.3316024 0.3349871 0.3367071 0.3400917 \n",
       "     5507      5509      5512      5514      5516      5517      5520      5523 \n",
       "0.3599624 0.3591638 0.3591638 0.3591638 0.3625485 0.3591638 0.3591638 0.3625485 \n",
       "     5524      5528      5529      5532      5533      5536      5540      5541 \n",
       "0.3290164 0.3400917 0.3400917 0.3400917 0.3400917 0.3400917 0.3400917 0.3349871 \n",
       "     5545      5546      5547      5548      5550      5552      5554      5559 \n",
       "0.3360999 0.3349871 0.3367071 0.3400917 0.3349871 0.3400917 0.3290164 0.3349871 \n",
       "     5560      5562      5563      5564      5565      5566      5570      5572 \n",
       "0.3324010 0.3316024 0.3386859 0.3316024 0.3400917 0.3324010 0.3367071 0.3367071 \n",
       "     5573      5574      5575      5577      5582      5585      5586      5590 \n",
       "0.3316024 0.3349871 0.3400917 0.3349871 0.3324010 0.3349871 0.3349871 0.3316024 \n",
       "     5592      5596      5597      5598      5599      5600      5602      5604 \n",
       "0.3316024 0.3316024 0.3400917 0.3349871 0.3565778 0.3400917 0.3349871 0.3316024 \n",
       "     5611      5614      5619      5620      5622      5625      5626      5627 \n",
       "0.3316024 0.3349871 0.3349871 0.3367071 0.3625485 0.3349871 0.3324010 0.3349871 \n",
       "     5628      5631      5632      5633      5637      5639      5640      5641 \n",
       "0.3324010 0.3420705 0.3349871 0.3349871 0.3400917 0.3316024 0.3400917 0.3290164 \n",
       "     5647      5648      5649      5650      5651      5653      5658      5662 \n",
       "0.3316024 0.3349871 0.3349871 0.3420705 0.3349871 0.3349871 0.3316024 0.3625485 \n",
       "     5667      5674      5679      5680      5682      5683      5689      5692 \n",
       "0.3625485 0.3349871 0.3316024 0.3316024 0.3591638 0.3420705 0.3349871 0.3324010 \n",
       "     5693      5695      5697      5698      5700      5701      5712      5717 \n",
       "0.3316024 0.3316024 0.3625485 0.3420705 0.3625485 0.3316024 0.3591638 0.3625485 \n",
       "     5718      5719      5727      5729      5730      5731      5735      5736 \n",
       "0.3625485 0.3625485 0.3349871 0.3316024 0.3324010 0.3316024 0.3290164 0.3400917 \n",
       "     5737      5745      5749      5750      5751      5758      5760      5763 \n",
       "0.3324010 0.3367071 0.3367071 0.3349871 0.3316024 0.3591638 0.3349871 0.3367071 \n",
       "     5775      5778      5779      5780      5783      5784      5785      5790 \n",
       "0.3290164 0.3349871 0.3290164 0.3316024 0.3316024 0.3316024 0.3349871 0.3367071 \n",
       "     5791      5792      5793      5796      5798      5801      5803      5807 \n",
       "0.3316024 0.3420705 0.3367071 0.3349871 0.3400917 0.3349871 0.3400917 0.3349871 \n",
       "     5811      5813      5815      5823      5826      5828      5829      5833 \n",
       "0.3437905 0.3420705 0.3420705 0.3349871 0.3316024 0.3349871 0.3349871 0.3316024 \n",
       "     5836      5850      5851      5852      5855      5857      5860      5868 \n",
       "0.3349871 0.3349871 0.3349871 0.3316024 0.3349871 0.3324010 0.3591638 0.3400917 \n",
       "     5870      5871      5872      5874      5876      5880      5881      5882 \n",
       "0.3349871 0.3591638 0.3316024 0.3349871 0.3367071 0.3400917 0.3625485 0.3591638 \n",
       "     5888      5893      5894      5898      5900      5905      5909      5911 \n",
       "0.3349871 0.3420705 0.3625485 0.3400917 0.3420705 0.3316024 0.3324010 0.3349871 \n",
       "     5912      5913      5924      5926      5927      5934      5936      5937 \n",
       "0.3696319 0.3591638 0.3349871 0.3625485 0.3591638 0.3316024 0.3316024 0.3316024 \n",
       "     5939      5942      5944      5945      5951      5953      5956      5959 \n",
       "0.3591638 0.3591638 0.3349871 0.3290164 0.3625485 0.3316024 0.3316024 0.3420705 \n",
       "     5960      5968      5973      5974      5975      5976      5978      5982 \n",
       "0.3324010 0.3591638 0.3591638 0.3696319 0.3591638 0.3591638 0.3625485 0.3676531 \n",
       "     5984      5985      5987      5988      5992      5994      5996      6006 \n",
       "0.3625485 0.3591638 0.3676531 0.3591638 0.3591638 0.3316024 0.3367071 0.3599624 \n",
       "     6007      6009      6010      6012      6016      6020      6021      6022 \n",
       "0.3420705 0.3360999 0.3349871 0.3591638 0.3420705 0.3367071 0.3367071 0.3324010 \n",
       "     6024      6027      6029      6032      6034      6037      6039      6042 \n",
       "0.3642685 0.3676531 0.3642685 0.3625485 0.3565778 0.3676531 0.3591638 0.3625485 \n",
       "     6045      6047      6050      6051      6053      6055      6057      6058 \n",
       "0.3599624 0.3316024 0.3349871 0.3349871 0.3349871 0.3316024 0.3316024 0.3349871 \n",
       "     6061      6063      6067      6069      6079      6080      6083      6085 \n",
       "0.3591638 0.3386859 0.3420705 0.3696319 0.3349871 0.3591638 0.3625485 0.3316024 \n",
       "     6090      6091      6092      6093      6094      6097      6101      6105 \n",
       "0.3316024 0.3349871 0.3290164 0.3349871 0.3290164 0.3349871 0.3316024 0.3349871 \n",
       "     6106      6108      6112      6113      6114      6117      6118      6121 \n",
       "0.3290164 0.3591638 0.3625485 0.3591638 0.3349871 0.3349871 0.3316024 0.3625485 \n",
       "     6122      6125      6127      6128      6129      6130      6132      6142 \n",
       "0.3290164 0.3591638 0.3349871 0.3316024 0.3625485 0.3316024 0.3316024 0.3290164 \n",
       "     6145      6147      6151      6153      6159      6161      6163      6167 \n",
       "0.3349871 0.3316024 0.3316024 0.3316024 0.3386859 0.3386859 0.3367071 0.3316024 \n",
       "     6169      6173      6174      6176      6177      6184      6186      6187 \n",
       "0.3349871 0.3394845 0.3316024 0.3420705 0.3349871 0.3349871 0.3349871 0.3349871 \n",
       "     6189      6193      6196      6197      6198      6200      6209      6211 \n",
       "0.3349871 0.3386859 0.3367071 0.3420705 0.3316024 0.3420705 0.3625485 0.3349871 \n",
       "     6213      6214      6215      6216      6217      6221      6224      6229 \n",
       "0.3400917 0.3290164 0.3316024 0.3316024 0.3316024 0.3642685 0.3316024 0.3290164 \n",
       "     6233      6235      6238      6239      6249      6255      6261      6264 \n",
       "0.3324010 0.3400917 0.3400917 0.3349871 0.3349871 0.3367071 0.3400917 0.3420705 \n",
       "     6265      6270      6273      6275      6277      6279      6281      6288 \n",
       "0.3349871 0.3349871 0.3349871 0.3349871 0.3349871 0.3349871 0.3349871 0.3349871 \n",
       "     6293      6294      6298      6299      6302      6305      6307      6312 \n",
       "0.3349871 0.3349871 0.3349871 0.3367071 0.3591638 0.3400917 0.3565778 0.3360999 \n",
       "     6315      6317      6320      6322      6326      6327      6334      6335 \n",
       "0.3420705 0.3349871 0.3349871 0.3386859 0.3349871 0.3324010 0.3360999 0.3349871 \n",
       "     6338      6339      6340      6342      6344      6348      6355      6356 \n",
       "0.3400917 0.3400917 0.3349871 0.3349871 0.3349871 0.3316024 0.3676531 0.3349871 \n",
       "     6358      6359      6363      6366      6370      6371      6372      6373 \n",
       "0.3290164 0.3316024 0.3625485 0.3591638 0.3349871 0.3349871 0.3316024 0.3349871 \n",
       "     6374      6376      6378      6381      6387      6390      6392      6395 \n",
       "0.3625485 0.3316024 0.3316024 0.3349871 0.3349871 0.3324010 0.3386859 0.3316024 \n",
       "     6398      6400      6407      6409      6413      6420      6421      6422 \n",
       "0.3349871 0.3316024 0.3625485 0.3696319 0.3591638 0.3662473 0.3591638 0.3625485 \n",
       "     6424      6425      6427      6434      6436      6437      6440      6444 \n",
       "0.3316024 0.3316024 0.3316024 0.3349871 0.3625485 0.3367071 0.3400917 0.3316024 \n",
       "     6445      6449      6450      6452      6454      6456      6457      6458 \n",
       "0.3324010 0.3349871 0.3324010 0.3290164 0.3290164 0.3349871 0.3591638 0.3625485 \n",
       "     6460      6462      6463      6465      6467      6468      6475      6476 \n",
       "0.3591638 0.3591638 0.3696319 0.3591638 0.3599624 0.3642685 0.3367071 0.3349871 \n",
       "     6478      6481      6485      6486      6492      6496      6499      6502 \n",
       "0.3400917 0.3636613 0.3591638 0.3625485 0.3599624 0.3599624 0.3591638 0.3625485 \n",
       "     6505      6506      6512      6514      6517      6518      6519      6524 \n",
       "0.3625485 0.3349871 0.3642685 0.3591638 0.3591638 0.3625485 0.3625485 0.3349871 \n",
       "     6525      6528      6533      6534      6537      6538      6541      6543 \n",
       "0.3625485 0.3367071 0.3565778 0.3400917 0.3360999 0.3316024 0.3316024 0.3591638 \n",
       "     6547      6550      6551      6557      6558      6562      6563      6564 \n",
       "0.3625485 0.3625485 0.3349871 0.3349871 0.3386859 0.3349871 0.3420705 0.3316024 \n",
       "     6568      6570      6572      6576      6579      6581      6583      6584 \n",
       "0.3636613 0.3349871 0.3349871 0.3316024 0.3642685 0.3349871 0.3316024 0.3316024 \n",
       "     6589      6590      6592      6598      6599      6605      6608      6609 \n",
       "0.3316024 0.3591638 0.3349871 0.3316024 0.3349871 0.3625485 0.3349871 0.3625485 \n",
       "     6614      6618      6619      6622      6633      6634      6637      6641 \n",
       "0.3625485 0.3349871 0.3349871 0.3349871 0.3316024 0.3316024 0.3625485 0.3599624 \n",
       "     6642      6645      6646      6648      6651      6653      6654      6664 \n",
       "0.3599624 0.3591638 0.3591638 0.3565778 0.3349871 0.3316024 0.3316024 0.3324010 \n",
       "     6669      6674      6675      6678      6679      6680      6683      6687 \n",
       "0.3316024 0.3316024 0.3349871 0.3591638 0.3349871 0.3400917 0.3290164 0.3349871 \n",
       "     6690      6691      6698      6703      6707      6715      6717      6718 \n",
       "0.3316024 0.3316024 0.3420705 0.3349871 0.3349871 0.3400917 0.3420705 0.3316024 \n",
       "     6724      6727      6730      6732      6733      6736      6740      6742 \n",
       "0.3625485 0.3420705 0.3420705 0.3625485 0.3316024 0.3316024 0.3400917 0.3642685 \n",
       "     6749      6763      6771      6775      6778      6780      6782      6784 \n",
       "0.3316024 0.3599624 0.3316024 0.3316024 0.3625485 0.3316024 0.3437905 0.3349871 \n",
       "     6785      6789      6791      6792      6793      6794      6795      6798 \n",
       "0.3316024 0.3316024 0.3437905 0.3437905 0.3386859 0.3349871 0.3349871 0.3400917 \n",
       "     6800      6802      6803      6808      6814      6818      6820      6821 \n",
       "0.3591638 0.3591638 0.3349871 0.3316024 0.3349871 0.3349871 0.3316024 0.3316024 \n",
       "     6826      6828      6834      6836      6837      6838      6844      6845 \n",
       "0.3316024 0.3316024 0.3316024 0.3316024 0.3349871 0.3349871 0.3591638 0.3420705 \n",
       "     6846      6852      6853      6856      6861      6862      6866      6867 \n",
       "0.3316024 0.3324010 0.3316024 0.3386859 0.3625485 0.3316024 0.3625485 0.3316024 \n",
       "     6869      6870      6873      6874      6875      6877      6881      6883 \n",
       "0.3349871 0.3324010 0.3316024 0.3367071 0.3349871 0.3290164 0.3400917 0.3367071 \n",
       "     6885      6886      6888      6889      6895      6897      6903      6910 \n",
       "0.3420705 0.3316024 0.3400917 0.3349871 0.3625485 0.3349871 0.3349871 0.3349871 \n",
       "     6917      6921      6926      6927      6928      6929      6938      6947 \n",
       "0.3591638 0.3316024 0.3349871 0.3316024 0.3316024 0.3290164 0.3591638 0.3437905 \n",
       "     6948      6952      6953      6956      6958      6962      6964      6968 \n",
       "0.3386859 0.3360999 0.3349871 0.3360999 0.3349871 0.3349871 0.3349871 0.3316024 \n",
       "     6971      6972      6976      6977      6978      6979      6986      6988 \n",
       "0.3625485 0.3316024 0.3316024 0.3349871 0.3400917 0.3290164 0.3316024 0.3349871 \n",
       "     6989      6990      6991      6992      6994      6998      7000      7001 \n",
       "0.3349871 0.3316024 0.3591638 0.3625485 0.3316024 0.3324010 0.3316024 0.3324010 \n",
       "     7007      7009      7012      7016      7019      7022      7023      7041 \n",
       "0.3625485 0.3400917 0.3625485 0.3349871 0.3349871 0.3367071 0.3316024 0.3400917 \n",
       "     7042      7044      7045      7049      7058      7062      7066      7068 \n",
       "0.3696319 0.3676531 0.3400917 0.3349871 0.3400917 0.3400917 0.3316024 0.3316024 \n",
       "     7069      7075      7077      7080      7083      7085      7086      7088 \n",
       "0.3316024 0.3400917 0.3316024 0.3349871 0.3349871 0.3349871 0.3349871 0.3360999 \n",
       "     7089      7091      7094      7095      7103      7104      7109      7111 \n",
       "0.3367071 0.3471752 0.3360999 0.3367071 0.3316024 0.3349871 0.3625485 0.3324010 \n",
       "     7112      7115      7120      7127      7130      7131      7135      7136 \n",
       "0.3591638 0.3625485 0.3367071 0.3316024 0.3316024 0.3349871 0.3349871 0.3349871 \n",
       "     7137      7138      7139      7140      7141      7143      7148      7152 \n",
       "0.3420705 0.3349871 0.3349871 0.3349871 0.3625485 0.3420705 0.3565778 0.3591638 \n",
       "     7155      7160      7162      7163      7165      7167      7169      7172 \n",
       "0.3316024 0.3324010 0.3316024 0.3349871 0.3324010 0.3349871 0.3367071 0.3400917 \n",
       "     7175      7176      7177      7178      7180      7181      7183      7188 \n",
       "0.3591638 0.3625485 0.3625485 0.3316024 0.3591638 0.3625485 0.3625485 0.3290164 \n",
       "     7193      7195      7196      7199      7202      7204      7207      7208 \n",
       "0.3349871 0.3349871 0.3349871 0.3316024 0.3316024 0.3316024 0.3625485 0.3625485 \n",
       "     7209      7210      7212      7213      7215      7217      7221      7228 \n",
       "0.3625485 0.3625485 0.3349871 0.3349871 0.3316024 0.3349871 0.3349871 0.3349871 \n",
       "     7229      7231      7233      7237      7239      7240      7244      7246 \n",
       "0.3349871 0.3324010 0.3400917 0.3349871 0.3386859 0.3386859 0.3324010 0.3591638 \n",
       "     7250      7251      7255      7257      7258      7263      7265      7266 \n",
       "0.3316024 0.3316024 0.3290164 0.3591638 0.3625485 0.3591638 0.3591638 0.3591638 \n",
       "     7267      7274      7275      7282      7288      7289      7290      7291 \n",
       "0.3625485 0.3386859 0.3349871 0.3349871 0.3437905 0.3349871 0.3349871 0.3349871 \n",
       "     7294      7297      7298      7306      7308      7309      7311      7313 \n",
       "0.3349871 0.3316024 0.3400917 0.3400917 0.3349871 0.3349871 0.3349871 0.3349871 \n",
       "     7319      7331      7336      7338      7339      7343      7345      7347 \n",
       "0.3324010 0.3420705 0.3360999 0.3420705 0.3420705 0.3316024 0.3420705 0.3420705 \n",
       "     7348      7352      7354      7355      7357      7358      7362      7363 \n",
       "0.3676531 0.3349871 0.3349871 0.3420705 0.3316024 0.3420705 0.3349871 0.3349871 \n",
       "     7367      7371      7373      7379      7384      7387      7388      7389 \n",
       "0.3367071 0.3316024 0.3290164 0.3625485 0.3349871 0.3386859 0.3367071 0.3420705 \n",
       "     7390      7393      7395      7397      7398      7402      7405      7410 \n",
       "0.3316024 0.3316024 0.3625485 0.3420705 0.3420705 0.3437905 0.3316024 0.3386859 \n",
       "     7411      7414      7416      7417      7420      7421      7424      7429 \n",
       "0.3420705 0.3349871 0.3420705 0.3349871 0.3625485 0.3625485 0.3349871 0.3625485 \n",
       "     7432      7435      7436      7437      7438      7447      7449      7453 \n",
       "0.3349871 0.3349871 0.3349871 0.3324010 0.3349871 0.3349871 0.3316024 0.3316024 \n",
       "     7455      7459      7463      7464      7465      7468      7472      7473 \n",
       "0.3316024 0.3349871 0.3324010 0.3316024 0.3316024 0.3599624 0.3316024 0.3316024 \n",
       "     7474      7477      7478      7479      7488      7489      7491      7492 \n",
       "0.3316024 0.3349871 0.3349871 0.3324010 0.3316024 0.3316024 0.3591638 0.3591638 \n",
       "     7497      7500      7505      7506      7514      7520      7521      7523 \n",
       "0.3316024 0.3290164 0.3349871 0.3316024 0.3625485 0.3400917 0.3400917 0.3349871 \n",
       "     7529      7530      7532      7533      7534      7539      7545      7553 \n",
       "0.3316024 0.3349871 0.3316024 0.3316024 0.3324010 0.3400917 0.3316024 0.3367071 \n",
       "     7554      7557      7558      7559      7561      7564      7566      7570 \n",
       "0.3349871 0.3676531 0.3565778 0.3349871 0.3400917 0.3367071 0.3290164 0.3400917 \n",
       "     7573      7576      7577      7578      7581      7583      7584      7586 \n",
       "0.3349871 0.3349871 0.3316024 0.3625485 0.3316024 0.3400917 0.3316024 0.3349871 \n",
       "     7587      7590      7594      7599      7602      7606      7612      7614 \n",
       "0.3290164 0.3349871 0.3316024 0.3625485 0.3625485 0.3349871 0.3420705 0.3400917 \n",
       "     7615      7616      7618      7619      7622      7623      7624      7626 \n",
       "0.3349871 0.3316024 0.3420705 0.3349871 0.3316024 0.3591638 0.3349871 0.3349871 \n",
       "     7628      7629      7635      7636      7639      7643      7646      7648 \n",
       "0.3349871 0.3316024 0.3316024 0.3316024 0.3349871 0.3349871 0.3316024 0.3367071 \n",
       "     7649      7653      7658      7664      7667      7668      7669      7681 \n",
       "0.3400917 0.3400917 0.3324010 0.3316024 0.3349871 0.3349871 0.3349871 0.3316024 \n",
       "     7682      7683      7684      7687      7691      7693      7698      7703 \n",
       "0.3349871 0.3349871 0.3662473 0.3290164 0.3625485 0.3316024 0.3400917 0.3324010 \n",
       "     7704      7714      7715      7717      7720      7723      7725      7727 \n",
       "0.3316024 0.3324010 0.3316024 0.3316024 0.3324010 0.3386859 0.3316024 0.3437905 \n",
       "     7731      7732      7734      7747      7749      7752      7758      7759 \n",
       "0.3349871 0.3290164 0.3316024 0.3400917 0.3591638 0.3316024 0.3367071 0.3349871 \n",
       "     7760      7761      7763      7764      7765      7767      7770      7771 \n",
       "0.3591638 0.3676531 0.3625485 0.3625485 0.3591638 0.3636613 0.3591638 0.3591638 \n",
       "     7775      7776      7777      7778      7779      7780      7783      7784 \n",
       "0.3316024 0.3316024 0.3747366 0.3565778 0.3591638 0.3599624 0.3400917 0.3400917 \n",
       "     7788      7789      7792      7795      7796      7799      7805      7806 \n",
       "0.3400917 0.3349871 0.3349871 0.3349871 0.3625485 0.3349871 0.3625485 0.3400917 \n",
       "     7812      7815      7816      7818      7824      7826      7828      7829 \n",
       "0.3349871 0.3400917 0.3420705 0.3625485 0.3367071 0.3316024 0.3349871 0.3316024 \n",
       "     7830      7832      7834      7835      7838      7839      7840      7842 \n",
       "0.3316024 0.3349871 0.3349871 0.3400917 0.3400917 0.3349871 0.3349871 0.3349871 \n",
       "     7845      7846      7848      7850      7852      7853      7854      7856 \n",
       "0.3360999 0.3420705 0.3367071 0.3316024 0.3400917 0.3591638 0.3625485 0.3316024 \n",
       "     7857      7861      7863      7865      7871      7872      7873      7875 \n",
       "0.3316024 0.3394845 0.3349871 0.3420705 0.3316024 0.3349871 0.3349871 0.3400917 \n",
       "     7878      7881      7882      7887      7890      7894      7896      7904 \n",
       "0.3349871 0.3290164 0.3676531 0.3349871 0.3642685 0.3349871 0.3349871 0.3360999 \n",
       "     7908      7909      7911      7912      7914      7915      7917      7922 \n",
       "0.3290164 0.3316024 0.3349871 0.3324010 0.3349871 0.3386859 0.3324010 0.3316024 \n",
       "     7924      7925      7929      7932      7934      7935      7937      7938 \n",
       "0.3324010 0.3324010 0.3625485 0.3625485 0.3625485 0.3316024 0.3316024 0.3316024 \n",
       "     7944      7945      7949      7952      7953      7954      7956      7958 \n",
       "0.3324010 0.3316024 0.3349871 0.3316024 0.3316024 0.3349871 0.3316024 0.3316024 \n",
       "     7961      7966      7968      7971      7976      7977      7979      7980 \n",
       "0.3349871 0.3316024 0.3349871 0.3386859 0.3400917 0.3316024 0.3349871 0.3349871 \n",
       "     7982      7986      7988      7989      7991      7992      7993      7996 \n",
       "0.3349871 0.3400917 0.3316024 0.3290164 0.3360999 0.3437905 0.3316024 0.3400917 \n",
       "     7999      8000      8002      8003      8009      8021      8022      8027 \n",
       "0.3625485 0.3565778 0.3290164 0.3420705 0.3349871 0.3349871 0.3642685 0.3676531 \n",
       "     8028      8029      8030      8032      8034      8035      8041      8043 \n",
       "0.3625485 0.3420705 0.3394845 0.3400917 0.3349871 0.3349871 0.3349871 0.3420705 \n",
       "     8046      8048      8049      8050      8057      8058      8063      8064 \n",
       "0.3349871 0.3349871 0.3349871 0.3367071 0.3349871 0.3400917 0.3349871 0.3565778 \n",
       "     8068      8071      8072      8074      8075      8076      8077      8079 \n",
       "0.3324010 0.3349871 0.3591638 0.3349871 0.3625485 0.3420705 0.3349871 0.3316024 \n",
       "     8080      8082      8084      8085      8086      8087      8090      8095 \n",
       "0.3367071 0.3349871 0.3290164 0.3625485 0.3349871 0.3316024 0.3625485 0.3349871 \n",
       "     8096      8097      8098      8100      8104      8106      8107      8113 \n",
       "0.3349871 0.3349871 0.3591638 0.3349871 0.3349871 0.3349871 0.3316024 0.3349871 \n",
       "     8114      8116      8117      8118      8119      8121      8127      8130 \n",
       "0.3591638 0.3625485 0.3316024 0.3349871 0.3349871 0.3591638 0.3349871 0.3316024 \n",
       "     8131      8134      8135      8141      8146      8149      8151      8153 \n",
       "0.3316024 0.3349871 0.3349871 0.3324010 0.3386859 0.3662473 0.3316024 0.3324010 \n",
       "     8158      8163      8168      8172      8177      8179      8181      8182 \n",
       "0.3349871 0.3349871 0.3642685 0.3696319 0.3696319 0.3676531 0.3316024 0.3349871 \n",
       "     8188      8192      8194      8198      8199      8200      8203      8204 \n",
       "0.3349871 0.3349871 0.3360999 0.3349871 0.3400917 0.3349871 0.3324010 0.3316024 \n",
       "     8206      8209      8212      8215      8216      8217      8218      8224 \n",
       "0.3290164 0.3625485 0.3591638 0.3642685 0.3625485 0.3349871 0.3400917 0.3349871 \n",
       "     8228      8229      8231      8232      8235      8237      8238      8243 \n",
       "0.3349871 0.3367071 0.3386859 0.3324010 0.3316024 0.3400917 0.3349871 0.3420705 \n",
       "     8245      8250      8251      8252      8255      8257      8267      8268 \n",
       "0.3386859 0.3349871 0.3349871 0.3316024 0.3316024 0.3316024 0.3420705 0.3349871 \n",
       "     8270      8271      8280      8281      8282      8284      8285      8290 \n",
       "0.3400917 0.3400917 0.3349871 0.3565778 0.3316024 0.3367071 0.3386859 0.3349871 \n",
       "     8292      8298      8300      8302      8305      8308      8312      8313 \n",
       "0.3367071 0.3349871 0.3349871 0.3386859 0.3349871 0.3386859 0.3349871 0.3625485 \n",
       "     8315      8318      8322      8324      8325      8327      8329      8334 \n",
       "0.3349871 0.3324010 0.3316024 0.3349871 0.3625485 0.3349871 0.3349871 0.3316024 \n",
       "     8336      8340      8345      8346      8347      8349      8354      8357 \n",
       "0.3349871 0.3591638 0.3676531 0.3599624 0.3696319 0.3316024 0.3316024 0.3316024 \n",
       "     8361      8363      8364      8365      8366      8375      8377      8378 \n",
       "0.3349871 0.3349871 0.3349871 0.3349871 0.3591638 0.3324010 0.3599624 0.3324010 \n",
       "     8379      8380      8381      8384      8385      8386      8393      8394 \n",
       "0.3349871 0.3349871 0.3316024 0.3316024 0.3349871 0.3349871 0.3316024 0.3400917 \n",
       "     8395      8401      8403      8404      8407      8409      8414      8415 \n",
       "0.3316024 0.3316024 0.3400917 0.3316024 0.3290164 0.3400917 0.3676531 0.3316024 \n",
       "     8416      8417      8419      8420      8422      8423      8426      8428 \n",
       "0.3386859 0.3400917 0.3316024 0.3420705 0.3599624 0.3420705 0.3420705 0.3420705 \n",
       "     8430      8431      8433      8435      8436      8437      8440      8442 \n",
       "0.3316024 0.3591638 0.3591638 0.3400917 0.3599624 0.3642685 0.3316024 0.3676531 \n",
       "     8445      8448      8450      8452      8453      8456      8459      8462 \n",
       "0.3316024 0.3349871 0.3349871 0.3400917 0.3400917 0.3386859 0.3349871 0.3367071 \n",
       "     8467      8468      8470      8472      8473      8475      8484      8489 \n",
       "0.3386859 0.3349871 0.3625485 0.3349871 0.3349871 0.3349871 0.3316024 0.3360999 \n",
       "     8490      8492      8495      8497      8498      8501      8502      8510 \n",
       "0.3316024 0.3420705 0.3386859 0.3349871 0.3394845 0.3349871 0.3316024 0.3420705 \n",
       "     8513      8515      8517      8518      8520      8521      8522      8524 \n",
       "0.3349871 0.3420705 0.3349871 0.3316024 0.3316024 0.3316024 0.3565778 0.3316024 \n",
       "     8525      8527      8529      8530      8531      8532      8533      8534 \n",
       "0.3316024 0.3349871 0.3349871 0.3349871 0.3349871 0.3316024 0.3349871 0.3316024 \n",
       "     8537      8542      8543      8544      8545      8546      8550      8551 \n",
       "0.3400917 0.3420705 0.3324010 0.3599624 0.3316024 0.3316024 0.3420705 0.3349871 \n",
       "     8553      8555      8559      8564      8566      8568      8573      8574 \n",
       "0.3316024 0.3625485 0.3591638 0.3591638 0.3599624 0.3591638 0.3316024 0.3316024 \n",
       "     8576      8577      8580      8583      8584      8588      8590      8595 \n",
       "0.3349871 0.3349871 0.3349871 0.3349871 0.3400917 0.3400917 0.3349871 0.3290164 \n",
       "     8599      8606      8611      8612      8614      8616      8618      8623 \n",
       "0.3349871 0.3316024 0.3400917 0.3316024 0.3316024 0.3316024 0.3696319 0.3591638 \n",
       "     8624      8625      8626      8628      8638      8640      8643      8645 \n",
       "0.3400917 0.3316024 0.3316024 0.3400917 0.3367071 0.3316024 0.3349871 0.3316024 \n",
       "     8648      8649      8653      8654      8658      8661      8663      8664 \n",
       "0.3316024 0.3349871 0.3349871 0.3316024 0.3400917 0.3696319 0.3591638 0.3625485 \n",
       "     8665      8666      8670      8671      8672      8676      8678      8679 \n",
       "0.3625485 0.3625485 0.3400917 0.3400917 0.3316024 0.3591638 0.3349871 0.3349871 \n",
       "     8680      8682      8685      8687      8688      8693      8696      8700 \n",
       "0.3290164 0.3349871 0.3386859 0.3662473 0.3349871 0.3324010 0.3349871 0.3349871 \n",
       "     8705      8708      8709      8710      8721      8725      8727      8728 \n",
       "0.3386859 0.3316024 0.3349871 0.3316024 0.3565778 0.3360999 0.3625485 0.3349871 \n",
       "     8729      8730      8731      8732      8733      8736      8738      8739 \n",
       "0.3565778 0.3349871 0.3349871 0.3349871 0.3420705 0.3400917 0.3316024 0.3290164 \n",
       "     8740      8744      8753      8754      8758      8760      8765      8769 \n",
       "0.3349871 0.3290164 0.3324010 0.3324010 0.3591638 0.3625485 0.3591638 0.3625485 \n",
       "     8776      8777      8783      8784      8785      8792      8793      8795 \n",
       "0.3676531 0.3676531 0.3316024 0.3316024 0.3290164 0.3471752 0.3437905 0.3386859 \n",
       "     8796      8797      8798      8801      8805      8807      8808      8811 \n",
       "0.3324010 0.3349871 0.3316024 0.3290164 0.3290164 0.3400917 0.3625485 0.3316024 \n",
       "     8812      8819      8820      8821      8823      8825      8833      8834 \n",
       "0.3349871 0.3400917 0.3316024 0.3400917 0.3290164 0.3367071 0.3676531 0.3591638 \n",
       "     8836      8838      8841      8843      8845      8848      8852      8853 \n",
       "0.3591638 0.3696319 0.3367071 0.3349871 0.3349871 0.3349871 0.3349871 0.3349871 \n",
       "     8859      8860      8861      8862      8864      8865      8866      8867 \n",
       "0.3349871 0.3349871 0.3316024 0.3400917 0.3316024 0.3420705 0.3696319 0.3316024 \n",
       "     8868      8870      8874      8875      8876      8881      8883      8885 \n",
       "0.3400917 0.3349871 0.3420705 0.3625485 0.3367071 0.3420705 0.3420705 0.3420705 \n",
       "     8888      8889      8891      8894      8897      8899      8902      8903 \n",
       "0.3349871 0.3349871 0.3349871 0.3420705 0.3349871 0.3349871 0.3349871 0.3349871 \n",
       "     8904      8905      8914      8916      8917      8919      8928      8929 \n",
       "0.3386859 0.3367071 0.3324010 0.3625485 0.3349871 0.3360999 0.3591638 0.3349871 \n",
       "     8932      8940      8941      8946      8947      8950      8952      8955 \n",
       "0.3367071 0.3625485 0.3625485 0.3349871 0.3400917 0.3349871 0.3316024 0.3591638 \n",
       "     8956      8957      8961      8964      8965      8967      8971      8973 \n",
       "0.3591638 0.3625485 0.3591638 0.3349871 0.3349871 0.3625485 0.3349871 0.3290164 \n",
       "     8977      8979      8980      8982      8984      8985      8988      8989 \n",
       "0.3316024 0.3316024 0.3316024 0.3324010 0.3324010 0.3349871 0.3420705 0.3625485 \n",
       "     8992      8993      8994      8996      8999      9000      9001      9002 \n",
       "0.3591638 0.3625485 0.3316024 0.3349871 0.3676531 0.3591638 0.3290164 0.3625485 \n",
       "     9006      9010      9012      9015      9016      9017      9019      9023 \n",
       "0.3324010 0.3316024 0.3324010 0.3400917 0.3290164 0.3316024 0.3290164 0.3349871 \n",
       "     9026      9029      9030      9031      9039      9044      9046      9047 \n",
       "0.3400917 0.3400917 0.3290164 0.3400917 0.3349871 0.3420705 0.3625485 0.3420705 \n",
       "     9048      9059      9063      9065      9066      9069      9072      9078 \n",
       "0.3400917 0.3420705 0.3420705 0.3324010 0.3386859 0.3386859 0.3625485 0.3591638 \n",
       "     9079      9082      9086      9087      9088      9093      9095      9097 \n",
       "0.3625485 0.3625485 0.3662473 0.3625485 0.3713520 0.3349871 0.3349871 0.3349871 \n",
       "     9102      9104      9105      9106      9110      9111      9113      9115 \n",
       "0.3324010 0.3349871 0.3316024 0.3565778 0.3713520 0.3625485 0.3625485 0.3625485 \n",
       "     9118      9119      9120      9121      9123      9129      9131      9134 \n",
       "0.3625485 0.3625485 0.3642685 0.3591638 0.3349871 0.3349871 0.3316024 0.3367071 \n",
       "     9135      9136      9137      9138      9140      9142      9143      9147 \n",
       "0.3349871 0.3400917 0.3316024 0.3349871 0.3316024 0.3349871 0.3316024 0.3316024 \n",
       "     9151      9158      9159      9160      9167      9168      9169      9170 \n",
       "0.3349871 0.3316024 0.3400917 0.3316024 0.3290164 0.3400917 0.3290164 0.3316024 \n",
       "     9174      9175      9176      9177      9178      9184      9186      9190 \n",
       "0.3349871 0.3349871 0.3290164 0.3565778 0.3420705 0.3349871 0.3316024 0.3400917 \n",
       "     9195      9196      9197      9202      9203      9205      9207      9211 \n",
       "0.3420705 0.3324010 0.3349871 0.3349871 0.3662473 0.3565778 0.3591638 0.3316024 \n",
       "     9212      9213      9215      9216      9217      9218      9220      9221 \n",
       "0.3591638 0.3400917 0.3349871 0.3324010 0.3420705 0.3349871 0.3349871 0.3591638 \n",
       "     9222      9225      9228      9230      9231      9232      9238      9239 \n",
       "0.3349871 0.3591638 0.3676531 0.3625485 0.3420705 0.3349871 0.3349871 0.3349871 \n",
       "     9242      9245      9247      9256      9266      9267      9270      9275 \n",
       "0.3349871 0.3591638 0.3316024 0.3591638 0.3591638 0.3625485 0.3316024 0.3349871 \n",
       "     9276      9278      9279      9280      9282      9283      9284      9285 \n",
       "0.3625485 0.3591638 0.3591638 0.3591638 0.3316024 0.3349871 0.3316024 0.3349871 \n",
       "     9289      9290      9294      9296      9298      9300      9307      9311 \n",
       "0.3324010 0.3324010 0.3349871 0.3316024 0.3349871 0.3324010 0.3349871 0.3349871 \n",
       "     9314      9315      9317      9318      9319      9321      9326      9333 \n",
       "0.3316024 0.3324010 0.3420705 0.3386859 0.3386859 0.3349871 0.3349871 0.3324010 \n",
       "     9338      9344      9345      9347      9348      9351      9352      9353 \n",
       "0.3349871 0.3400917 0.3400917 0.3420705 0.3290164 0.3349871 0.3290164 0.3316024 \n",
       "     9359      9360      9363      9364      9365      9367      9369      9375 \n",
       "0.3290164 0.3349871 0.3367071 0.3400917 0.3400917 0.3316024 0.3400917 0.3316024 \n",
       "     9376      9380      9386      9387      9394      9396      9397      9401 \n",
       "0.3349871 0.3349871 0.3349871 0.3437905 0.3290164 0.3316024 0.3316024 0.3316024 \n",
       "     9403      9406      9408      9409      9410      9411      9413      9414 \n",
       "0.3437905 0.3349871 0.3349871 0.3696319 0.3420705 0.3420705 0.3420705 0.3400917 \n",
       "     9417      9419      9421      9435      9436      9438      9442      9443 \n",
       "0.3400917 0.3349871 0.3367071 0.3316024 0.3316024 0.3316024 0.3400917 0.3599624 \n",
       "     9447      9452      9454      9455      9456      9458      9459      9460 \n",
       "0.3349871 0.3367071 0.3349871 0.3400917 0.3316024 0.3367071 0.3400917 0.3316024 \n",
       "     9462      9464      9466      9469      9470      9471      9472      9477 \n",
       "0.3316024 0.3400917 0.3591638 0.3676531 0.3349871 0.3400917 0.3290164 0.3316024 \n",
       "     9478      9480      9481      9488      9489      9490      9492      9493 \n",
       "0.3316024 0.3386859 0.3625485 0.3349871 0.3290164 0.3625485 0.3349871 0.3367071 \n",
       "     9496      9497      9499      9500      9503      9510      9516      9517 \n",
       "0.3316024 0.3349871 0.3349871 0.3367071 0.3349871 0.3316024 0.3349871 0.3290164 \n",
       "     9518      9520      9525      9526      9528      9532      9533      9536 \n",
       "0.3360999 0.3625485 0.3625485 0.3349871 0.3316024 0.3324010 0.3349871 0.3349871 \n",
       "     9540      9547      9549      9550      9551      9553      9556      9557 \n",
       "0.3316024 0.3316024 0.3349871 0.3290164 0.3316024 0.3349871 0.3625485 0.3316024 \n",
       "     9559      9560      9565      9570      9579      9586      9587      9589 \n",
       "0.3349871 0.3625485 0.3591638 0.3349871 0.3400917 0.3290164 0.3400917 0.3290164 \n",
       "     9590      9597      9598      9605      9609      9612      9613      9614 \n",
       "0.3316024 0.3316024 0.3349871 0.3316024 0.3316024 0.3316024 0.3367071 0.3316024 \n",
       "     9615      9617      9626      9628      9629      9631      9634      9637 \n",
       "0.3400917 0.3349871 0.3316024 0.3420705 0.3400917 0.3367071 0.3324010 0.3565778 \n",
       "     9638      9640      9643      9645      9646      9649      9651      9652 \n",
       "0.3349871 0.3625485 0.3316024 0.3420705 0.3316024 0.3349871 0.3349871 0.3420705 \n",
       "     9656      9658      9661      9666      9670      9674      9676      9680 \n",
       "0.3316024 0.3400917 0.3349871 0.3316024 0.3747366 0.3349871 0.3349871 0.3676531 \n",
       "     9682      9683      9684      9688      9689      9697      9706      9712 \n",
       "0.3316024 0.3349871 0.3591638 0.3420705 0.3324010 0.3349871 0.3316024 0.3349871 \n",
       "     9716      9720      9721      9723      9724      9728      9732      9733 \n",
       "0.3349871 0.3349871 0.3625485 0.3316024 0.3625485 0.3386859 0.3349871 0.3437905 \n",
       "     9741      9743      9746      9747      9749      9750      9753      9754 \n",
       "0.3349871 0.3316024 0.3316024 0.3591638 0.3400917 0.3316024 0.3349871 0.3349871 \n",
       "     9757      9760      9765      9768      9771      9773      9775      9776 \n",
       "0.3349871 0.3625485 0.3349871 0.3316024 0.3349871 0.3316024 0.3324010 0.3349871 \n",
       "     9777      9778      9783      9785      9786      9789      9790      9793 \n",
       "0.3349871 0.3349871 0.3625485 0.3349871 0.3349871 0.3316024 0.3316024 0.3324010 \n",
       "     9795      9799      9803      9806      9808      9809      9810      9813 \n",
       "0.3386859 0.3400917 0.3316024 0.3420705 0.3349871 0.3400917 0.3676531 0.3349871 \n",
       "     9821      9822      9823      9826      9829      9833      9835      9836 \n",
       "0.3676531 0.3696319 0.3662473 0.3349871 0.3676531 0.3349871 0.3316024 0.3349871 \n",
       "     9838      9839      9841      9842      9843      9844      9846      9849 \n",
       "0.3316024 0.3400917 0.3367071 0.3400917 0.3316024 0.3349871 0.3316024 0.3316024 \n",
       "     9850      9857      9858      9859      9864      9867      9868      9869 \n",
       "0.3316024 0.3349871 0.3349871 0.3316024 0.3349871 0.3349871 0.3316024 0.3367071 \n",
       "     9870      9884      9888      9889      9890      9894      9896      9899 \n",
       "0.3349871 0.3400917 0.3400917 0.3367071 0.3349871 0.3316024 0.3349871 0.3316024 \n",
       "     9900      9902      9904      9912      9918      9919      9922      9923 \n",
       "0.3367071 0.3349871 0.3349871 0.3349871 0.3316024 0.3636613 0.3400917 0.3367071 \n",
       "     9924      9926      9927      9930      9946      9961      9965      9966 \n",
       "0.3360999 0.3420705 0.3316024 0.3349871 0.3625485 0.3625485 0.3316024 0.3625485 \n",
       "     9969      9971      9981      9983      9986      9989      9994      9997 \n",
       "0.3349871 0.3316024 0.3625485 0.3349871 0.3316024 0.3316024 0.3290164 0.3324010 \n",
       "     9998     10000     10005     10007     10015     10017     10018     10019 \n",
       "0.3324010 0.3316024 0.3316024 0.3349871 0.3324010 0.3349871 0.3400917 0.3349871 \n",
       "    10021     10024     10025     10027     10030     10031     10033     10035 \n",
       "0.3349871 0.3316024 0.3349871 0.3420705 0.3290164 0.3386859 0.3386859 0.3386859 \n",
       "    10040     10041     10044     10045     10047     10050     10051     10052 \n",
       "0.3316024 0.3290164 0.3316024 0.3316024 0.3316024 0.3349871 0.3400917 0.3625485 \n",
       "    10053     10058     10064     10067     10068     10075     10089     10092 \n",
       "0.3367071 0.3316024 0.3349871 0.3400917 0.3324010 0.3367071 0.3591638 0.3591638 \n",
       "    10093     10101     10103     10107     10111     10113     10116     10120 \n",
       "0.3591638 0.3386859 0.3316024 0.3400917 0.3400917 0.3471752 0.3386859 0.3316024 \n",
       "    10122     10125     10126     10127     10130     10134     10136     10139 \n",
       "0.3316024 0.3316024 0.3642685 0.3625485 0.3642685 0.3625485 0.3349871 0.3400917 \n",
       "    10141     10144     10145     10151     10153     10155     10160     10162 \n",
       "0.3360999 0.3565778 0.3420705 0.3349871 0.3290164 0.3349871 0.3400917 0.3625485 \n",
       "    10165     10166     10169     10172     10174     10175     10176     10178 \n",
       "0.3394845 0.3625485 0.3349871 0.3349871 0.3316024 0.3349871 0.3625485 0.3349871 \n",
       "    10179     10181     10182     10184     10185     10187     10189     10191 \n",
       "0.3349871 0.3349871 0.3367071 0.3316024 0.3394845 0.3349871 0.3316024 0.3290164 \n",
       "    10199     10210     10218     10232     10233     10234     10236     10237 \n",
       "0.3599624 0.3625485 0.3316024 0.3349871 0.3400917 0.3316024 0.3316024 0.3349871 \n",
       "    10241     10243     10245     10254     10257     10258     10261     10262 \n",
       "0.3316024 0.3316024 0.3386859 0.3316024 0.3316024 0.3349871 0.3349871 0.3400917 \n",
       "    10264     10269     10270     10271     10273     10276     10279     10283 \n",
       "0.3349871 0.3400917 0.3349871 0.3349871 0.3316024 0.3349871 0.3349871 0.3316024 \n",
       "    10284     10285     10286     10288     10290     10297     10300     10301 \n",
       "0.3349871 0.3349871 0.3400917 0.3349871 0.3290164 0.3290164 0.3676531 0.3565778 \n",
       "    10302     10303     10306     10309     10314     10319     10320     10322 \n",
       "0.3349871 0.3420705 0.3591638 0.3625485 0.3400917 0.3349871 0.3349871 0.3316024 \n",
       "    10324     10327     10331     10332     10333     10335     10338     10345 \n",
       "0.3316024 0.3386859 0.3316024 0.3400917 0.3316024 0.3400917 0.3400917 0.3349871 \n",
       "    10346     10351     10353     10362     10364     10365     10369     10370 \n",
       "0.3400917 0.3349871 0.3591638 0.3349871 0.3290164 0.3625485 0.3349871 0.3349871 \n",
       "    10371     10372     10373     10383     10386     10387     10388     10390 \n",
       "0.3367071 0.3349871 0.3349871 0.3349871 0.3625485 0.3349871 0.3324010 0.3349871 \n",
       "    10391     10394     10396     10397     10398     10400     10403     10405 \n",
       "0.3386859 0.3400917 0.3316024 0.3316024 0.3349871 0.3349871 0.3599624 0.3349871 \n",
       "    10406     10407     10416     10417     10418     10425     10431     10432 \n",
       "0.3349871 0.3625485 0.3316024 0.3316024 0.3349871 0.3696319 0.3400917 0.3625485 \n",
       "    10434     10435     10436     10447     10448     10454     10455     10456 \n",
       "0.3625485 0.3349871 0.3349871 0.3386859 0.3625485 0.3625485 0.3316024 0.3324010 \n",
       "    10458     10461     10464     10465     10468     10470     10472     10474 \n",
       "0.3349871 0.3324010 0.3316024 0.3591638 0.3349871 0.3316024 0.3349871 0.3324010 \n",
       "    10480     10481     10484     10485     10491     10492     10493     10500 \n",
       "0.3400917 0.3316024 0.3316024 0.3349871 0.3316024 0.3316024 0.3400917 0.3316024 \n",
       "    10501     10505     10507     10510     10514     10519     10520     10521 \n",
       "0.3676531 0.3316024 0.3349871 0.3349871 0.3324010 0.3290164 0.3290164 0.3676531 \n",
       "    10522     10531     10542     10543     10548     10549     10551     10555 \n",
       "0.3591638 0.3625485 0.3400917 0.3349871 0.3367071 0.3316024 0.3471752 0.3290164 \n",
       "    10558     10560     10561     10562     10566     10574     10576     10579 \n",
       "0.3316024 0.3316024 0.3349871 0.3290164 0.3316024 0.3349871 0.3349871 0.3349871 \n",
       "    10580     10582     10583     10584     10586     10588     10592     10593 \n",
       "0.3625485 0.3670459 0.3349871 0.3591638 0.3349871 0.3324010 0.3591638 0.3420705 \n",
       "    10594     10598     10601     10604     10608     10609     10613     10615 \n",
       "0.3324010 0.3316024 0.3324010 0.3360999 0.3349871 0.3349871 0.3625485 0.3349871 \n",
       "    10626     10628     10634     10635     10636     10637     10638     10640 \n",
       "0.3625485 0.3400917 0.3625485 0.3591638 0.3625485 0.3565778 0.3625485 0.3349871 \n",
       "    10642     10644     10645     10647     10648     10650     10651     10652 \n",
       "0.3349871 0.3349871 0.3349871 0.3349871 0.3349871 0.3349871 0.3316024 0.3349871 \n",
       "    10654     10658     10660     10661     10662     10671     10672     10673 \n",
       "0.3316024 0.3316024 0.3625485 0.3349871 0.3349871 0.3349871 0.3324010 0.3386859 \n",
       "    10674     10679     10681     10682     10684     10685     10693     10694 \n",
       "0.3400917 0.3324010 0.3349871 0.3625485 0.3625485 0.3400917 0.3676531 0.3386859 \n",
       "    10695     10705     10706     10711     10712     10714     10715     10716 \n",
       "0.3324010 0.3662473 0.3599624 0.3591638 0.3599624 0.3662473 0.3591638 0.3420705 \n",
       "    10719     10720     10725     10727     10733     10734     10736     10737 \n",
       "0.3316024 0.3316024 0.3625485 0.3400917 0.3599624 0.3400917 0.3625485 0.3349871 \n",
       "    10743     10745     10746     10747     10748     10760     10762     10763 \n",
       "0.3367071 0.3316024 0.3400917 0.3400917 0.3316024 0.3625485 0.3676531 0.3420705 \n",
       "    10766     10767     10768     10769     10771     10772     10777     10779 \n",
       "0.3367071 0.3349871 0.3316024 0.3386859 0.3349871 0.3349871 0.3349871 0.3349871 \n",
       "    10784     10786     10787     10788     10789     10791     10792     10797 \n",
       "0.3316024 0.3349871 0.3349871 0.3349871 0.3349871 0.3316024 0.3625485 0.3662473 \n",
       "    10798     10799     10800     10804     10808     10810     10814     10816 \n",
       "0.3349871 0.3349871 0.3349871 0.3349871 0.3400917 0.3349871 0.3386859 0.3420705 \n",
       "    10817     10820     10822     10823     10827     10829     10846     10848 \n",
       "0.3437905 0.3349871 0.3400917 0.3316024 0.3696319 0.3625485 0.3349871 0.3349871 \n",
       "    10849     10851     10853     10858     10861     10865     10867     10868 \n",
       "0.3316024 0.3565778 0.3591638 0.3349871 0.3349871 0.3349871 0.3591638 0.3420705 \n",
       "    10873     10874     10877     10878     10881     10882     10883     10884 \n",
       "0.3324010 0.3316024 0.3625485 0.3625485 0.3591638 0.3316024 0.3386859 0.3386859 \n",
       "    10885     10888     10889     10891     10896     10897     10898     10900 \n",
       "0.3316024 0.3349871 0.3349871 0.3316024 0.3316024 0.3316024 0.3349871 0.3316024 \n",
       "    10901     10905     10907     10910     10911     10912     10913     10927 \n",
       "0.3625485 0.3591638 0.3591638 0.3625485 0.3591638 0.3591638 0.3599624 0.3676531 \n",
       "    10935     10943     10947     10949     10957     10964     10965     10966 \n",
       "0.3316024 0.3400917 0.3349871 0.3349871 0.3316024 0.3386859 0.3316024 0.3349871 \n",
       "    10967     10969     10971     10973     10974     10975     10978     10981 \n",
       "0.3290164 0.3349871 0.3316024 0.3696319 0.3400917 0.3400917 0.3316024 0.3400917 \n",
       "    10984     10987     10992     10994     10996     11001     11002     11007 \n",
       "0.3349871 0.3400917 0.3367071 0.3316024 0.3349871 0.3349871 0.3349871 0.3316024 \n",
       "    11008     11012     11013     11014     11015     11019     11020     11023 \n",
       "0.3324010 0.3349871 0.3349871 0.3349871 0.3316024 0.3324010 0.3400917 0.3349871 \n",
       "    11025     11026     11027     11030     11043     11045     11046     11050 \n",
       "0.3400917 0.3420705 0.3400917 0.3349871 0.3316024 0.3360999 0.3349871 0.3324010 \n",
       "    11053     11054     11055     11059     11066     11070     11071     11072 \n",
       "0.3316024 0.3349871 0.3316024 0.3625485 0.3349871 0.3349871 0.3349871 0.3324010 \n",
       "    11073     11074     11075     11077     11081     11082     11090     11091 \n",
       "0.3349871 0.3420705 0.3290164 0.3400917 0.3367071 0.3349871 0.3349871 0.3349871 \n",
       "    11092     11096     11104     11106     11112     11113     11115     11116 \n",
       "0.3349871 0.3349871 0.3349871 0.3625485 0.3625485 0.3349871 0.3349871 0.3420705 \n",
       "    11118     11120     11121     11123     11126     11130     11131     11132 \n",
       "0.3349871 0.3349871 0.3349871 0.3316024 0.3324010 0.3599624 0.3386859 0.3324010 \n",
       "    11133     11140     11143     11147     11150     11153     11154     11158 \n",
       "0.3316024 0.3591638 0.3386859 0.3290164 0.3367071 0.3400917 0.3349871 0.3349871 \n",
       "    11159     11160     11162     11163     11167     11169     11170     11172 \n",
       "0.3349871 0.3316024 0.3599624 0.3591638 0.3591638 0.3599624 0.3316024 0.3316024 \n",
       "    11173     11177     11179     11180     11181     11185     11186     11190 \n",
       "0.3349871 0.3349871 0.3316024 0.3290164 0.3316024 0.3316024 0.3349871 0.3349871 \n",
       "    11191     11193     11194     11200     11202     11204     11205     11212 \n",
       "0.3400917 0.3591638 0.3676531 0.3625485 0.3625485 0.3349871 0.3316024 0.3400917 \n",
       "    11215     11219     11221     11222     11223     11225     11226     11227 \n",
       "0.3316024 0.3591638 0.3591638 0.3625485 0.3324010 0.3670459 0.3676531 0.3696319 \n",
       "    11231     11232     11234     11235     11237     11240     11241     11243 \n",
       "0.3591638 0.3625485 0.3565778 0.3400917 0.3349871 0.3349871 0.3349871 0.3324010 \n",
       "    11244     11245     11246     11252     11254     11255     11259     11263 \n",
       "0.3367071 0.3290164 0.3420705 0.3349871 0.3676531 0.3349871 0.3316024 0.3349871 \n",
       "    11270     11272     11274     11277     11279     11280     11282     11286 \n",
       "0.3400917 0.3349871 0.3324010 0.3316024 0.3349871 0.3400917 0.3625485 0.3316024 \n",
       "    11288     11289     11290     11291     11292     11294     11300     11301 \n",
       "0.3437905 0.3316024 0.3349871 0.3591638 0.3290164 0.3420705 0.3290164 0.3420705 \n",
       "    11302     11304     11308     11309     11311     11316     11317     11318 \n",
       "0.3349871 0.3420705 0.3349871 0.3420705 0.3316024 0.3349871 0.3349871 0.3349871 \n",
       "    11319     11323     11325     11326     11329     11331     11333     11336 \n",
       "0.3316024 0.3349871 0.3625485 0.3662473 0.3625485 0.3349871 0.3349871 0.3349871 \n",
       "    11337     11341     11342     11346     11348     11353     11355     11361 \n",
       "0.3400917 0.3316024 0.3349871 0.3290164 0.3324010 0.3349871 0.3349871 0.3349871 \n",
       "    11367     11368     11370     11372     11373     11375     11376     11390 \n",
       "0.3316024 0.3290164 0.3400917 0.3324010 0.3316024 0.3349871 0.3747366 0.3400917 \n",
       "    11391     11392     11395     11397     11401     11402     11403     11409 \n",
       "0.3324010 0.3349871 0.3400917 0.3316024 0.3367071 0.3349871 0.3316024 0.3349871 \n",
       "    11411     11414     11418     11419     11424     11427     11429     11434 \n",
       "0.3349871 0.3367071 0.3349871 0.3316024 0.3316024 0.3316024 0.3316024 0.3316024 \n",
       "    11435     11439     11440     11442     11444     11446     11448     11451 \n",
       "0.3349871 0.3349871 0.3316024 0.3400917 0.3420705 0.3471752 0.3420705 0.3599624 \n",
       "    11461     11462     11463     11464     11465     11469     11470     11472 \n",
       "0.3625485 0.3642685 0.3599624 0.3625485 0.3599624 0.3386859 0.3349871 0.3349871 \n",
       "    11473     11476     11477     11478     11479     11480     11481     11484 \n",
       "0.3400917 0.3349871 0.3386859 0.3316024 0.3367071 0.3386859 0.3400917 0.3670459 \n",
       "    11485     11486     11488     11489     11490     11508     11509     11510 \n",
       "0.3676531 0.3367071 0.3316024 0.3290164 0.3676531 0.3316024 0.3316024 0.3386859 \n",
       "    11515     11519     11520     11529     11531     11535     11538     11539 \n",
       "0.3324010 0.3316024 0.3386859 0.3349871 0.3420705 0.3367071 0.3316024 0.3591638 \n",
       "    11543     11544     11545     11546     11547     11551     11554     11556 \n",
       "0.3625485 0.3290164 0.3349871 0.3591638 0.3625485 0.3316024 0.3400917 0.3400917 \n",
       "    11558     11559     11560     11562     11564     11566     11567     11568 \n",
       "0.3420705 0.3349871 0.3316024 0.3316024 0.3349871 0.3324010 0.3316024 0.3591638 \n",
       "    11571     11572     11582     11584     11585     11586     11587     11588 \n",
       "0.3625485 0.3599624 0.3625485 0.3591638 0.3316024 0.3400917 0.3591638 0.3349871 \n",
       "    11589     11590     11591     11592     11595     11598     11605     11608 \n",
       "0.3316024 0.3316024 0.3400917 0.3400917 0.3400917 0.3316024 0.3349871 0.3599624 \n",
       "    11609     11611     11614     11615     11616     11617     11624     11627 \n",
       "0.3316024 0.3386859 0.3400917 0.3400917 0.3349871 0.3349871 0.3400917 0.3349871 \n",
       "    11634     11635     11636     11637     11645     11646     11647     11648 \n",
       "0.3400917 0.3400917 0.3349871 0.3349871 0.3324010 0.3316024 0.3400917 0.3316024 \n",
       "    11650     11652     11662     11664     11666     11667     11669     11677 \n",
       "0.3386859 0.3400917 0.3625485 0.3367071 0.3349871 0.3591638 0.3349871 0.3642685 \n",
       "    11681     11683     11684     11689     11691     11692     11694     11695 \n",
       "0.3316024 0.3349871 0.3316024 0.3349871 0.3400917 0.3349871 0.3349871 0.3316024 \n",
       "    11708     11710     11712     11713     11714     11717     11719     11721 \n",
       "0.3349871 0.3367071 0.3367071 0.3349871 0.3349871 0.3349871 0.3349871 0.3349871 \n",
       "    11723     11726     11728     11731     11733     11735     11739     11740 \n",
       "0.3290164 0.3316024 0.3400917 0.3400917 0.3349871 0.3349871 0.3349871 0.3591638 \n",
       "    11741     11742     11743     11747     11748     11751     11755     11756 \n",
       "0.3625485 0.3591638 0.3367071 0.3349871 0.3400917 0.3599624 0.3696319 0.3437905 \n",
       "    11757     11760     11762     11769     11772     11777     11779     11781 \n",
       "0.3349871 0.3420705 0.3386859 0.3349871 0.3367071 0.3625485 0.3349871 0.3349871 \n",
       "    11784     11795     11799     11800     11807     11808     11810     11816 \n",
       "0.3349871 0.3316024 0.3349871 0.3599624 0.3316024 0.3349871 0.3349871 0.3316024 \n",
       "    11820     11827     11829     11830     11832     11838     11840     11842 \n",
       "0.3400917 0.3316024 0.3349871 0.3349871 0.3349871 0.3316024 0.3316024 0.3349871 \n",
       "    11849     11853     11858     11859     11861     11863     11866     11867 \n",
       "0.3349871 0.3324010 0.3625485 0.3349871 0.3625485 0.3349871 0.3349871 0.3316024 \n",
       "    11869     11870     11876     11884     11885     11887     11891     11893 \n",
       "0.3625485 0.3625485 0.3591638 0.3676531 0.3400917 0.3349871 0.3349871 0.3349871 \n",
       "    11897     11899     11901     11906     11907     11909     11911     11912 \n",
       "0.3400917 0.3316024 0.3625485 0.3642685 0.3676531 0.3676531 0.3591638 0.3591638 \n",
       "    11913     11916     11919     11920     11922     11923     11934     11935 \n",
       "0.3625485 0.3625485 0.3625485 0.3676531 0.3591638 0.3625485 0.3591638 0.3625485 \n",
       "    11936     11940     11942     11943     11944     11947     11948     11949 \n",
       "0.3316024 0.3349871 0.3420705 0.3349871 0.3386859 0.3367071 0.3420705 0.3437905 \n",
       "    11950     11952     11958     11959     11962     11964     11965     11966 \n",
       "0.3437905 0.3420705 0.3420705 0.3471752 0.3316024 0.3420705 0.3386859 0.3625485 \n",
       "    11972     11975     11979     11982     11984     11986     11988     11989 \n",
       "0.3591638 0.3591638 0.3599624 0.3400917 0.3642685 0.3316024 0.3400917 0.3625485 \n",
       "    11990     11991     11992     11996     11997     11998     11999     12003 \n",
       "0.3625485 0.3420705 0.3349871 0.3662473 0.3349871 0.3349871 0.3349871 0.3565778 \n",
       "    12006     12008     12011     12015     12016     12021     12024     12026 \n",
       "0.3591638 0.3676531 0.3591638 0.3565778 0.3676531 0.3625485 0.3625485 0.3591638 \n",
       "    12031     12033     12035     12037     12039     12041     12042     12044 \n",
       "0.3591638 0.3591638 0.3625485 0.3625485 0.3625485 0.3591638 0.3625485 0.3349871 \n",
       "    12045     12048     12049     12060     12061     12063     12065     12081 \n",
       "0.3676531 0.3625485 0.3316024 0.3420705 0.3471752 0.3349871 0.3349871 0.3349871 \n",
       "    12082     12083     12091     12095     12096     12097     12099     12103 \n",
       "0.3316024 0.3349871 0.3349871 0.3349871 0.3324010 0.3349871 0.3349871 0.3349871 \n",
       "    12105     12109     12113     12117     12118     12119     12120     12122 \n",
       "0.3386859 0.3316024 0.3316024 0.3591638 0.3349871 0.3316024 0.3625485 0.3349871 \n",
       "    12123     12124     12126     12128     12132     12133     12134     12136 \n",
       "0.3316024 0.3349871 0.3324010 0.3349871 0.3349871 0.3324010 0.3349871 0.3316024 \n",
       "    12137     12139     12145     12149     12150     12151     12152     12155 \n",
       "0.3349871 0.3316024 0.3316024 0.3471752 0.3349871 0.3394845 0.3349871 0.3316024 \n",
       "    12159     12163     12164     12166     12167     12168     12170     12172 \n",
       "0.3349871 0.3349871 0.3316024 0.3349871 0.3316024 0.3324010 0.3290164 0.3316024 \n",
       "    12174     12175     12177     12181     12183     12185     12189     12190 \n",
       "0.3400917 0.3349871 0.3437905 0.3625485 0.3591638 0.3360999 0.3420705 0.3316024 \n",
       "    12192     12193     12199     12200     12202     12203     12205     12206 \n",
       "0.3676531 0.3471752 0.3349871 0.3386859 0.3386859 0.3591638 0.3642685 0.3316024 \n",
       "    12209     12214     12215     12216     12218     12219     12220     12221 \n",
       "0.3349871 0.3367071 0.3349871 0.3290164 0.3349871 0.3324010 0.3360999 0.3400917 \n",
       "    12224     12229     12231     12232     12234     12237     12240     12241 \n",
       "0.3420705 0.3316024 0.3747366 0.3625485 0.3591638 0.3349871 0.3625485 0.3316024 \n",
       "    12242     12244     12250     12254     12256     12258     12259     12260 \n",
       "0.3349871 0.3316024 0.3437905 0.3316024 0.3316024 0.3349871 0.3367071 0.3349871 \n",
       "    12264     12267     12270     12272     12273     12274     12279     12281 \n",
       "0.3349871 0.3400917 0.3400917 0.3349871 0.3349871 0.3349871 0.3420705 0.3625485 \n",
       "    12287     12290     12293     12294     12296     12297     12308     12310 \n",
       "0.3349871 0.3625485 0.3625485 0.3349871 0.3349871 0.3349871 0.3420705 0.3400917 \n",
       "    12311     12312     12313     12320     12321     12322     12327     12332 \n",
       "0.3625485 0.3420705 0.3349871 0.3349871 0.3349871 0.3696319 0.3316024 0.3349871 \n",
       "    12333     12335     12338     12339     12341     12342     12343     12349 \n",
       "0.3349871 0.3349871 0.3386859 0.3349871 0.3316024 0.3349871 0.3316024 0.3316024 \n",
       "    12350     12353     12356     12357     12360     12361     12362     12366 \n",
       "0.3316024 0.3349871 0.3316024 0.3316024 0.3599624 0.3316024 0.3316024 0.3349871 \n",
       "    12369     12370     12374     12382     12386     12389     12393     12402 \n",
       "0.3591638 0.3316024 0.3349871 0.3316024 0.3676531 0.3625485 0.3349871 0.3324010 \n",
       "    12403     12405     12409     12414     12417     12419     12421     12422 \n",
       "0.3316024 0.3591638 0.3420705 0.3420705 0.3400917 0.3386859 0.3316024 0.3290164 \n",
       "    12423     12424     12428     12432     12434     12436     12437     12441 \n",
       "0.3367071 0.3290164 0.3591638 0.3349871 0.3367071 0.3290164 0.3290164 0.3316024 \n",
       "    12445     12446     12448     12450     12451     12453     12454     12456 \n",
       "0.3400917 0.3591638 0.3625485 0.3591638 0.3625485 0.3599624 0.3591638 0.3591638 \n",
       "    12457     12460     12462     12463     12468     12469     12476     12478 \n",
       "0.3625485 0.3316024 0.3591638 0.3625485 0.3591638 0.3400917 0.3349871 0.3420705 \n",
       "    12479     12481     12485     12487     12488     12493     12494     12501 \n",
       "0.3316024 0.3349871 0.3349871 0.3290164 0.3316024 0.3591638 0.3625485 0.3625485 \n",
       "    12502     12503     12507     12509     12511     12512     12513     12521 \n",
       "0.3349871 0.3386859 0.3360999 0.3349871 0.3367071 0.3437905 0.3316024 0.3625485 \n",
       "    12525     12532     12533     12535     12537     12539     12541     12551 \n",
       "0.3349871 0.3349871 0.3591638 0.3316024 0.3349871 0.3625485 0.3400917 0.3349871 \n",
       "    12555     12557     12559     12566     12571     12572     12573     12574 \n",
       "0.3420705 0.3324010 0.3565778 0.3316024 0.3316024 0.3591638 0.3324010 0.3290164 \n",
       "    12575     12579     12581     12582     12583     12585     12588     12589 \n",
       "0.3349871 0.3591638 0.3349871 0.3349871 0.3625485 0.3625485 0.3316024 0.3349871 \n",
       "    12590     12592     12593     12594     12597     12598     12599     12600 \n",
       "0.3316024 0.3591638 0.3349871 0.3349871 0.3349871 0.3591638 0.3349871 0.3316024 \n",
       "    12603     12605     12612     12614     12615     12616     12621     12623 \n",
       "0.3316024 0.3625485 0.3316024 0.3324010 0.3591638 0.3591638 0.3591638 0.3316024 \n",
       "    12626     12631     12633     12635     12638     12640     12641     12642 \n",
       "0.3316024 0.3316024 0.3316024 0.3349871 0.3349871 0.3349871 0.3316024 0.3316024 \n",
       "    12643     12648     12650     12652     12654     12655     12658     12661 \n",
       "0.3316024 0.3349871 0.3349871 0.3290164 0.3316024 0.3349871 0.3400917 0.3676531 \n",
       "    12666     12673     12678     12679     12682     12683     12688     12689 \n",
       "0.3625485 0.3400917 0.3625485 0.3591638 0.3676531 0.3676531 0.3625485 0.3625485 \n",
       "    12695     12698     12700     12710     12714     12719     12722     12723 \n",
       "0.3591638 0.3290164 0.3316024 0.3591638 0.3349871 0.3349871 0.3290164 0.3400917 \n",
       "    12724     12726     12728     12734     12738     12739     12740     12742 \n",
       "0.3400917 0.3591638 0.3625485 0.3747366 0.3676531 0.3625485 0.3625485 0.3625485 \n",
       "    12748     12751     12752     12753     12754     12755     12758     12764 \n",
       "0.3625485 0.3565778 0.3565778 0.3625485 0.3591638 0.3642685 0.3625485 0.3349871 \n",
       "    12766     12775     12778     12779     12781     12783     12784     12789 \n",
       "0.3420705 0.3349871 0.3565778 0.3349871 0.3349871 0.3349871 0.3316024 0.3400917 \n",
       "    12790     12791     12792     12794     12809     12810     12811     12814 \n",
       "0.3349871 0.3316024 0.3349871 0.3349871 0.3591638 0.3349871 0.3349871 0.3349871 \n",
       "    12816     12817     12819     12821     12829     12845     12847     12849 \n",
       "0.3349871 0.3316024 0.3400917 0.3591638 0.3349871 0.3349871 0.3420705 0.3386859 \n",
       "    12850     12855     12859     12863     12864     12866     12867     12869 \n",
       "0.3420705 0.3316024 0.3316024 0.3591638 0.3316024 0.3349871 0.3349871 0.3386859 \n",
       "    12871     12873     12877     12879     12881     12882     12890     12891 \n",
       "0.3349871 0.3349871 0.3599624 0.3676531 0.3349871 0.3400917 0.3625485 0.3420705 \n",
       "    12896     12897     12898     12899     12901     12907     12908     12912 \n",
       "0.3349871 0.3747366 0.3676531 0.3636613 0.3625485 0.3591638 0.3420705 0.3349871 \n",
       "    12914     12915     12918     12920     12921     12922     12926     12933 \n",
       "0.3696319 0.3316024 0.3437905 0.3349871 0.3367071 0.3625485 0.3386859 0.3591638 \n",
       "    12934     12936     12941     12942     12944     12950     12952     12954 \n",
       "0.3591638 0.3625485 0.3625485 0.3676531 0.3400917 0.3676531 0.3642685 0.3471752 \n",
       "    12957     12958     12960     12961     12964     12967     12973     12978 \n",
       "0.3349871 0.3625485 0.3420705 0.3662473 0.3349871 0.3599624 0.3625485 0.3625485 \n",
       "    12981     12982     12983     12987     12989     12991     12993     12996 \n",
       "0.3324010 0.3386859 0.3420705 0.3420705 0.3360999 0.3696319 0.3471752 0.3642685 \n",
       "    12999     13000     13002     13005     13006     13015     13017     13018 \n",
       "0.3349871 0.3591638 0.3420705 0.3625485 0.3316024 0.3420705 0.3386859 0.3676531 \n",
       "    13019     13026     13028     13031     13034     13045     13046     13048 \n",
       "0.3316024 0.3642685 0.3420705 0.3625485 0.3625485 0.3625485 0.3386859 0.3625485 \n",
       "    13049     13050     13058     13060     13064     13065     13066     13075 \n",
       "0.3625485 0.3349871 0.3316024 0.3670459 0.3625485 0.3316024 0.3420705 0.3420705 \n",
       "    13078     13079     13080     13082     13085     13087     13088     13091 \n",
       "0.3349871 0.3420705 0.3420705 0.3591638 0.3386859 0.3394845 0.3386859 0.3625485 \n",
       "    13095     13096     13098     13099     13104     13107     13116     13118 \n",
       "0.3386859 0.3437905 0.3747366 0.3471752 0.3420705 0.3420705 0.3599624 0.3696319 \n",
       "    13121     13122     13123     13125     13130     13134     13136     13137 \n",
       "0.3471752 0.3420705 0.3420705 0.3471752 0.3713520 0.3360999 0.3591638 0.3386859 \n",
       "    13139     13143     13144     13147     13148     13150     13153     13154 \n",
       "0.3420705 0.3420705 0.3420705 0.3324010 0.3471752 0.3420705 0.3599624 0.3420705 \n",
       "    13157     13158     13164     13165     13177     13182     13183     13184 \n",
       "0.3394845 0.3386859 0.3420705 0.3386859 0.3420705 0.3625485 0.3471752 0.3420705 \n",
       "    13185     13186     13187     13192     13193     13194     13200     13207 \n",
       "0.3437905 0.3747366 0.3471752 0.3471752 0.3316024 0.3591638 0.3400917 0.3316024 \n",
       "    13212     13214     13216     13217     13221     13223     13224     13227 \n",
       "0.3642685 0.3676531 0.3420705 0.3591638 0.3676531 0.3400917 0.3316024 0.3367071 \n",
       "    13229     13233     13234     13239     13240     13243     13244     13249 \n",
       "0.3316024 0.3316024 0.3625485 0.3349871 0.3400917 0.3316024 0.3591638 0.3316024 \n",
       "    13250     13251     13254     13260     13261     13263     13265     13266 \n",
       "0.3591638 0.3316024 0.3420705 0.3349871 0.3400917 0.3316024 0.3676531 0.3349871 \n",
       "    13267     13270     13271     13276     13281     13284     13285     13288 \n",
       "0.3599624 0.3420705 0.3316024 0.3316024 0.3591638 0.3676531 0.3316024 0.3349871 \n",
       "    13289     13292     13298     13300     13305     13306     13307     13308 \n",
       "0.3349871 0.3324010 0.3400917 0.3625485 0.3591638 0.3400917 0.3316024 0.3349871 \n",
       "    13309     13310     13312     13313     13317     13321     13322     13323 \n",
       "0.3400917 0.3400917 0.3420705 0.3367071 0.3625485 0.3420705 0.3591638 0.3625485 \n",
       "    13324     13325     13327     13329     13330     13331     13332     13333 \n",
       "0.3400917 0.3599624 0.3324010 0.3400917 0.3349871 0.3316024 0.3565778 0.3625485 \n",
       "    13336     13338     13340     13343     13344     13346     13348     13353 \n",
       "0.3349871 0.3316024 0.3316024 0.3591638 0.3591638 0.3591638 0.3316024 0.3349871 \n",
       "    13356     13357     13358     13364     13367     13369     13372     13373 \n",
       "0.3349871 0.3349871 0.3670459 0.3676531 0.3349871 0.3599624 0.3400917 0.3676531 \n",
       "    13378     13381     13383     13386     13387     13391     13395     13400 \n",
       "0.3591638 0.3591638 0.3625485 0.3316024 0.3316024 0.3349871 0.3316024 0.3349871 \n",
       "    13401     13403     13407     13408     13409     13412     13413     13416 \n",
       "0.3349871 0.3599624 0.3349871 0.3367071 0.3349871 0.3591638 0.3625485 0.3316024 \n",
       "    13417     13421     13424     13425     13426     13427     13428     13429 \n",
       "0.3316024 0.3625485 0.3625485 0.3676531 0.3349871 0.3349871 0.3591638 0.3591638 \n",
       "    13430     13431     13435     13436     13437     13439     13443     13444 \n",
       "0.3360999 0.3591638 0.3471752 0.3420705 0.3400917 0.3591638 0.3316024 0.3420705 \n",
       "    13446     13447     13450     13451     13453     13458     13461     13465 \n",
       "0.3591638 0.3625485 0.3400917 0.3591638 0.3696319 0.3316024 0.3324010 0.3591638 \n",
       "    13467     13472     13476     13478     13480     13481     13482     13483 \n",
       "0.3420705 0.3670459 0.3420705 0.3386859 0.3599624 0.3625485 0.3316024 0.3625485 \n",
       "    13485     13494     13496     13497     13499     13504     13507     13508 \n",
       "0.3386859 0.3400917 0.3367071 0.3676531 0.3676531 0.3349871 0.3625485 0.3420705 \n",
       "    13514     13518     13519     13520     13521     13522     13526     13527 \n",
       "0.3662473 0.3591638 0.3400917 0.3676531 0.3591638 0.3599624 0.3349871 0.3349871 \n",
       "    13528     13532     13535     13536     13537     13539     13540     13542 \n",
       "0.3625485 0.3591638 0.3625485 0.3599624 0.3386859 0.3386859 0.3591638 0.3316024 \n",
       "    13544     13550     13559     13562     13565     13568     13569     13570 \n",
       "0.3625485 0.3316024 0.3316024 0.3642685 0.3349871 0.3316024 0.3400917 0.3599624 \n",
       "    13572     13574     13575     13578     13590     13591     13598     13612 \n",
       "0.3316024 0.3349871 0.3591638 0.3316024 0.3591638 0.3349871 0.3625485 0.3591638 \n",
       "    13618     13620     13625     13627     13629     13632     13636     13638 \n",
       "0.3349871 0.3565778 0.3625485 0.3599624 0.3591638 0.3625485 0.3367071 0.3290164 \n",
       "    13641     13643     13645     13646     13647     13648     13649     13652 \n",
       "0.3400917 0.3591638 0.3420705 0.3591638 0.3591638 0.3349871 0.3625485 0.3420705 \n",
       "    13656     13659     13662     13677     13681     13682     13685     13691 \n",
       "0.3642685 0.3349871 0.3349871 0.3349871 0.3625485 0.3625485 0.3591638 0.3349871 \n",
       "    13692     13695     13696     13698     13699     13701     13702     13707 \n",
       "0.3349871 0.3625485 0.3349871 0.3349871 0.3316024 0.3349871 0.3625485 0.3400917 \n",
       "    13708     13713     13715     13717     13718     13719     13720     13724 \n",
       "0.3324010 0.3676531 0.3316024 0.3349871 0.3349871 0.3625485 0.3591638 0.3599624 \n",
       "    13736     13738     13741     13743     13745     13746     13747     13749 \n",
       "0.3349871 0.3349871 0.3316024 0.3349871 0.3324010 0.3625485 0.3400917 0.3599624 \n",
       "    13754     13755     13757     13764     13765     13767     13769     13772 \n",
       "0.3400917 0.3316024 0.3349871 0.3642685 0.3625485 0.3324010 0.3625485 0.3625485 \n",
       "    13774     13777     13778     13779     13785     13789     13790     13792 \n",
       "0.3349871 0.3625485 0.3349871 0.3625485 0.3349871 0.3316024 0.3349871 0.3625485 \n",
       "    13794     13802     13806     13808     13809     13811     13814     13817 \n",
       "0.3290164 0.3625485 0.3349871 0.3349871 0.3676531 0.3625485 0.3349871 0.3349871 \n",
       "    13818     13819     13824     13825     13827     13829     13831     13842 \n",
       "0.3349871 0.3324010 0.3625485 0.3349871 0.3349871 0.3349871 0.3349871 0.3324010 \n",
       "    13845     13846     13847     13854     13864     13872     13873     13875 \n",
       "0.3565778 0.3599624 0.3400917 0.3349871 0.3349871 0.3625485 0.3676531 0.3400917 \n",
       "    13876     13877     13880     13883     13888     13891     13892     13893 \n",
       "0.3349871 0.3316024 0.3400917 0.3290164 0.3625485 0.3349871 0.3316024 0.3591638 \n",
       "    13894     13895     13896     13899     13900     13901     13905     13906 \n",
       "0.3591638 0.3349871 0.3591638 0.3420705 0.3662473 0.3367071 0.3349871 0.3400917 \n",
       "    13907     13911     13912 \n",
       "0.3676531 0.3349871 0.3625485 "
      ]
     },
     "metadata": {},
     "output_type": "display_data"
    }
   ],
   "source": [
    "cat(\"Parameters: \")\n",
    "summary(reg1)$coefficients\n",
    "\n",
    "cat(\"R2:\", summary(reg1)$r.squared,'\\n')\n",
    "\n",
    "print(\"Predictived values:\")\n",
    "\n",
    "predict(reg1)"
   ]
  },
  {
   "cell_type": "code",
   "execution_count": 136,
   "metadata": {},
   "outputs": [
    {
     "data": {
      "text/html": [
       "TRUE"
      ],
      "text/latex": [
       "TRUE"
      ],
      "text/markdown": [
       "TRUE"
      ],
      "text/plain": [
       "[1] TRUE"
      ]
     },
     "metadata": {},
     "output_type": "display_data"
    },
    {
     "data": {
      "text/html": [
       "FALSE"
      ],
      "text/latex": [
       "FALSE"
      ],
      "text/markdown": [
       "FALSE"
      ],
      "text/plain": [
       "[1] FALSE"
      ]
     },
     "metadata": {},
     "output_type": "display_data"
    },
    {
     "data": {
      "text/html": [
       "TRUE"
      ],
      "text/latex": [
       "TRUE"
      ],
      "text/markdown": [
       "TRUE"
      ],
      "text/plain": [
       "[1] TRUE"
      ]
     },
     "metadata": {},
     "output_type": "display_data"
    }
   ],
   "source": [
    "# Summary of regression is a list\n",
    "is.list(summary( reg1 ))\n",
    "is.data.frame(summary( reg1 ))\n",
    "is.matrix(summary( reg1 )$coefficients)\n"
   ]
  },
  {
   "cell_type": "markdown",
   "metadata": {},
   "source": [
    "| Elements \t| Definition \t|\n",
    "|---\t|---\t|\n",
    "| coefficients \t| Vector of coefficients. \t|\n",
    "| residuals \t| Vector of residuals. \t|\n",
    "| effects \t| Vector of the uncorrelated single-degree-of-freedom <br>values obtained by projecting the data onto the successive <br>orthogonal subspaces generated by the QR decomposition <br>during the fitting process. \t|\n",
    "| rank \t| Number of independent columns. \t|\n",
    "| fitted.values \t| Vector of fitted values. \t|\n",
    "| qr \t| The QR decomposition. \t|\n",
    "| df.residual \t| The degrees of freedom of the residuals. \t|\n",
    "| contrasts \t| A contrast is a linear combination of variables <br>that allows comparison of different treatments. \t|\n",
    "| xlevels \t| Levels of the factor variables. \t|\n",
    "| call \t| The formula. \t|\n",
    "| terms \t| Variables of the regression. \t|\n",
    "| model \t| DataFrame of the variables in the model. \t|"
   ]
  },
  {
   "cell_type": "markdown",
   "metadata": {},
   "source": [
    "#### Predictions\n",
    "We can get the vector of predictions using the formula `predict`."
   ]
  },
  {
   "cell_type": "code",
   "execution_count": 137,
   "metadata": {},
   "outputs": [],
   "source": [
    "new_obs  <- data.frame(matrix( c(0, 0, 1 , 1), ncol= 4, dimnames = list( c() , c( \"female\" , \"black\" , \"dep\", \"lusd\"  ) ) ))"
   ]
  },
  {
   "cell_type": "code",
   "execution_count": 138,
   "metadata": {},
   "outputs": [
    {
     "data": {
      "text/html": [
       "<table class=\"dataframe\">\n",
       "<caption>A data.frame: 1 × 4</caption>\n",
       "<thead>\n",
       "\t<tr><th scope=col>female</th><th scope=col>black</th><th scope=col>dep</th><th scope=col>lusd</th></tr>\n",
       "\t<tr><th scope=col>&lt;dbl&gt;</th><th scope=col>&lt;dbl&gt;</th><th scope=col>&lt;dbl&gt;</th><th scope=col>&lt;dbl&gt;</th></tr>\n",
       "</thead>\n",
       "<tbody>\n",
       "\t<tr><td>0</td><td>0</td><td>1</td><td>1</td></tr>\n",
       "</tbody>\n",
       "</table>\n"
      ],
      "text/latex": [
       "A data.frame: 1 × 4\n",
       "\\begin{tabular}{llll}\n",
       " female & black & dep & lusd\\\\\n",
       " <dbl> & <dbl> & <dbl> & <dbl>\\\\\n",
       "\\hline\n",
       "\t 0 & 0 & 1 & 1\\\\\n",
       "\\end{tabular}\n"
      ],
      "text/markdown": [
       "\n",
       "A data.frame: 1 × 4\n",
       "\n",
       "| female &lt;dbl&gt; | black &lt;dbl&gt; | dep &lt;dbl&gt; | lusd &lt;dbl&gt; |\n",
       "|---|---|---|---|\n",
       "| 0 | 0 | 1 | 1 |\n",
       "\n"
      ],
      "text/plain": [
       "  female black dep lusd\n",
       "1 0      0     1   1   "
      ]
     },
     "metadata": {},
     "output_type": "display_data"
    }
   ],
   "source": [
    "new_obs"
   ]
  },
  {
   "cell_type": "code",
   "execution_count": 139,
   "metadata": {},
   "outputs": [
    {
     "data": {
      "text/html": [
       "<strong>1:</strong> 0.359962436403646"
      ],
      "text/latex": [
       "\\textbf{1:} 0.359962436403646"
      ],
      "text/markdown": [
       "**1:** 0.359962436403646"
      ],
      "text/plain": [
       "        1 \n",
       "0.3599624 "
      ]
     },
     "metadata": {},
     "output_type": "display_data"
    }
   ],
   "source": [
    "y_hat  <- predict(reg1,  new_obs )\n",
    "y_hat"
   ]
  }
 ],
 "metadata": {
  "hide_input": false,
  "kernelspec": {
   "display_name": "R",
   "language": "R",
   "name": "ir"
  },
  "language_info": {
   "codemirror_mode": "r",
   "file_extension": ".r",
   "mimetype": "text/x-r-source",
   "name": "R",
   "pygments_lexer": "r",
   "version": "4.1.3"
  }
 },
 "nbformat": 4,
 "nbformat_minor": 4
}
