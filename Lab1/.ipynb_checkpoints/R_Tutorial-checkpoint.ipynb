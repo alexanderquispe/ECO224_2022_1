{
 "cells": [
  {
   "cell_type": "markdown",
   "metadata": {},
   "source": [
    "# R Basic Tutorial"
   ]
  },
  {
   "cell_type": "markdown",
   "metadata": {},
   "source": [
    "## 1.0 Assignment\n",
    "Use `<-`, not `=`, for assignment.\n",
    "The symbol `=` is preferable for arguments in functions. Additionally, it can not be used in some syntax context. More information [here](https://stackoverflow.com/questions/1741820/what-are-the-differences-between-and-assignment-operators-in-r)."
   ]
  },
  {
   "cell_type": "code",
   "execution_count": 41,
   "metadata": {},
   "outputs": [],
   "source": [
    "a = 1\n",
    "b <- 1"
   ]
  },
  {
   "cell_type": "code",
   "execution_count": 42,
   "metadata": {},
   "outputs": [
    {
     "data": {
      "text/html": [
       "1"
      ],
      "text/latex": [
       "1"
      ],
      "text/markdown": [
       "1"
      ],
      "text/plain": [
       "[1] 1"
      ]
     },
     "metadata": {},
     "output_type": "display_data"
    }
   ],
   "source": [
    "a"
   ]
  },
  {
   "cell_type": "code",
   "execution_count": 43,
   "metadata": {},
   "outputs": [
    {
     "data": {
      "text/html": [
       "1"
      ],
      "text/latex": [
       "1"
      ],
      "text/markdown": [
       "1"
      ],
      "text/plain": [
       "[1] 1"
      ]
     },
     "metadata": {},
     "output_type": "display_data"
    }
   ],
   "source": [
    "b"
   ]
  },
  {
   "cell_type": "code",
   "execution_count": 39,
   "metadata": {},
   "outputs": [
    {
     "ename": "ERROR",
     "evalue": "Error in c <- b = 5: no se pudo encontrar la función \"<-<-\"\n",
     "output_type": "error",
     "traceback": [
      "Error in c <- b = 5: no se pudo encontrar la función \"<-<-\"\nTraceback:\n"
     ]
    }
   ],
   "source": [
    "c <- b = 11"
   ]
  },
  {
   "cell_type": "code",
   "execution_count": 40,
   "metadata": {},
   "outputs": [
    {
     "name": "stdout",
     "output_type": "stream",
     "text": [
      "[1] 11\n"
     ]
    }
   ],
   "source": [
    "c <- b <- 11\n",
    "print(c)"
   ]
  },
  {
   "cell_type": "markdown",
   "metadata": {},
   "source": [
    "## 2.0 Objects"
   ]
  },
  {
   "cell_type": "markdown",
   "metadata": {},
   "source": [
    "### Clases\n",
    "\n",
    "R is a functional programming language. It means that the programs are constructed by applying and composing functions. However, It can use Object Oriented Programming to construct tools for data analysis. Class is the blueprint that helps to create an object and contains its member variable along with the attributes. We have two main classes: S3 and S4. [info](https://www.datacamp.com/community/tutorials/r-objects-and-classes)\n",
    "\n",
    "### Objects\n",
    "Objects are the instance of a class. It means that it has some methods that can act upon its attributes. In R, everything is an object. We will cover four main objects: vector, matrix, list and dataframes. All of them comes from a class."
   ]
  },
  {
   "cell_type": "markdown",
   "metadata": {},
   "source": [
    "#### Data Types\n",
    "There are four data types: `character`, `numeric`, `integer` and `boolean`."
   ]
  },
  {
   "cell_type": "code",
   "execution_count": 48,
   "metadata": {},
   "outputs": [
    {
     "name": "stdout",
     "output_type": "stream",
     "text": [
      "[1] \"character\"\n",
      "[1] \"character\"\n"
     ]
    }
   ],
   "source": [
    "a <- 'Hola'\n",
    "print(class( a ))   # type of object\n",
    "print(typeof( a )) # how object is stored in memory"
   ]
  },
  {
   "cell_type": "code",
   "execution_count": 49,
   "metadata": {},
   "outputs": [
    {
     "name": "stdout",
     "output_type": "stream",
     "text": [
      "[1] \"numeric\"\n"
     ]
    },
    {
     "data": {
      "text/html": [
       "20.5"
      ],
      "text/latex": [
       "20.5"
      ],
      "text/markdown": [
       "20.5"
      ],
      "text/plain": [
       "[1] 20.5"
      ]
     },
     "metadata": {},
     "output_type": "display_data"
    }
   ],
   "source": [
    "b <- 20.5\n",
    "print(class( b ))\n",
    "b"
   ]
  },
  {
   "cell_type": "code",
   "execution_count": 50,
   "metadata": {},
   "outputs": [
    {
     "data": {
      "text/html": [
       "20"
      ],
      "text/latex": [
       "20"
      ],
      "text/markdown": [
       "20"
      ],
      "text/plain": [
       "[1] 20"
      ]
     },
     "metadata": {},
     "output_type": "display_data"
    },
    {
     "name": "stdout",
     "output_type": "stream",
     "text": [
      "[1] \"integer\"\n"
     ]
    }
   ],
   "source": [
    "c <- as.integer(20.5)\n",
    "c\n",
    "print(class( c ))\n"
   ]
  },
  {
   "cell_type": "code",
   "execution_count": 53,
   "metadata": {},
   "outputs": [
    {
     "data": {
      "text/html": [
       "'double'"
      ],
      "text/latex": [
       "'double'"
      ],
      "text/markdown": [
       "'double'"
      ],
      "text/plain": [
       "[1] \"double\""
      ]
     },
     "metadata": {},
     "output_type": "display_data"
    },
    {
     "data": {
      "text/html": [
       "'numeric'"
      ],
      "text/latex": [
       "'numeric'"
      ],
      "text/markdown": [
       "'numeric'"
      ],
      "text/plain": [
       "[1] \"numeric\""
      ]
     },
     "metadata": {},
     "output_type": "display_data"
    }
   ],
   "source": [
    "# typeof helps us to understand how this object is store in memory.\n",
    "typeof(b)\n",
    "# Class helps us to understand the type of a object\n",
    "class(b)"
   ]
  },
  {
   "cell_type": "code",
   "execution_count": 54,
   "metadata": {},
   "outputs": [
    {
     "name": "stdout",
     "output_type": "stream",
     "text": [
      "Machine Learning    Causal inference"
     ]
    }
   ],
   "source": [
    "c1 <- \"Machine Learning\"\n",
    "c2 <- \"Causal inference\"\n",
    "cat(c1,\"  \",c2)"
   ]
  },
  {
   "cell_type": "code",
   "execution_count": 57,
   "metadata": {},
   "outputs": [
    {
     "data": {
      "text/html": [
       "'Machine Learning y Causal inference course'"
      ],
      "text/latex": [
       "'Machine Learning y Causal inference course'"
      ],
      "text/markdown": [
       "'Machine Learning y Causal inference course'"
      ],
      "text/plain": [
       "Machine Learning y Causal inference course"
      ]
     },
     "metadata": {},
     "output_type": "display_data"
    }
   ],
   "source": [
    "#install.packages(\"devtools\")\n",
    "library(glue)\n",
    "glue('{c1} y {c2} course')"
   ]
  },
  {
   "cell_type": "code",
   "execution_count": 65,
   "metadata": {},
   "outputs": [
    {
     "name": "stdout",
     "output_type": "stream",
     "text": [
      "[1] \"logical\"\n",
      "TRUE \n",
      " FALSE \n",
      " TRUE"
     ]
    },
    {
     "data": {
      "text/html": [
       "'integer'"
      ],
      "text/latex": [
       "'integer'"
      ],
      "text/markdown": [
       "'integer'"
      ],
      "text/plain": [
       "[1] \"integer\""
      ]
     },
     "metadata": {},
     "output_type": "display_data"
    },
    {
     "data": {
      "text/html": [
       "'integer'"
      ],
      "text/latex": [
       "'integer'"
      ],
      "text/markdown": [
       "'integer'"
      ],
      "text/plain": [
       "[1] \"integer\""
      ]
     },
     "metadata": {},
     "output_type": "display_data"
    }
   ],
   "source": [
    "# Boolean variables\n",
    "\n",
    "log_true <- TRUE\n",
    "print(class( log_true ))\n",
    "\n",
    "z1 <- (1==1)\n",
    "\n",
    "z2 <- (10 > 20)\n",
    "\n",
    "z3 <- (1==1)\n",
    "\n",
    "cat(z1,'\\n',z2,'\\n',z3)\n",
    "\n",
    "class(as.integer(z3))\n",
    "\n",
    "typeof(as.integer(z3))"
   ]
  },
  {
   "cell_type": "markdown",
   "metadata": {},
   "source": [
    "# 3.0 List\n",
    "\n",
    "A list in R can contain many different data types inside it. A list is a collection of data which is ordered and changeable."
   ]
  },
  {
   "cell_type": "markdown",
   "metadata": {},
   "source": [
    "#### Lists\n",
    "This data structure does not require that all members be of the same data type."
   ]
  },
  {
   "cell_type": "code",
   "execution_count": null,
   "metadata": {},
   "outputs": [],
   "source": [
    "#install.packages(\"rlist\")\n",
    "library(rlist)"
   ]
  },
  {
   "cell_type": "code",
   "execution_count": 126,
   "metadata": {},
   "outputs": [
    {
     "data": {
      "text/html": [
       "<ol>\n",
       "\t<li>'good'</li>\n",
       "\t<li>'bad'</li>\n",
       "\t<li>'ugly'</li>\n",
       "\t<li>'good'</li>\n",
       "\t<li>'bad'</li>\n",
       "\t<li>1</li>\n",
       "</ol>\n"
      ],
      "text/latex": [
       "\\begin{enumerate}\n",
       "\\item 'good'\n",
       "\\item 'bad'\n",
       "\\item 'ugly'\n",
       "\\item 'good'\n",
       "\\item 'bad'\n",
       "\\item 1\n",
       "\\end{enumerate}\n"
      ],
      "text/markdown": [
       "1. 'good'\n",
       "2. 'bad'\n",
       "3. 'ugly'\n",
       "4. 'good'\n",
       "5. 'bad'\n",
       "6. 1\n",
       "\n",
       "\n"
      ],
      "text/plain": [
       "[[1]]\n",
       "[1] \"good\"\n",
       "\n",
       "[[2]]\n",
       "[1] \"bad\"\n",
       "\n",
       "[[3]]\n",
       "[1] \"ugly\"\n",
       "\n",
       "[[4]]\n",
       "[1] \"good\"\n",
       "\n",
       "[[5]]\n",
       "[1] \"bad\"\n",
       "\n",
       "[[6]]\n",
       "[1] 1\n"
      ]
     },
     "metadata": {},
     "output_type": "display_data"
    }
   ],
   "source": [
    "list_1 <- list( \"good\", \"bad\", \"ugly\",\"good\", \"bad\", 1)\n",
    "list_1"
   ]
  },
  {
   "cell_type": "code",
   "execution_count": 127,
   "metadata": {},
   "outputs": [
    {
     "data": {
      "text/html": [
       "<ol>\n",
       "\t<li>'good'</li>\n",
       "\t<li>'bad'</li>\n",
       "\t<li>'ugly'</li>\n",
       "\t<li>'good'</li>\n",
       "\t<li>'bad'</li>\n",
       "\t<li>1</li>\n",
       "\t<li>'bad'</li>\n",
       "</ol>\n"
      ],
      "text/latex": [
       "\\begin{enumerate}\n",
       "\\item 'good'\n",
       "\\item 'bad'\n",
       "\\item 'ugly'\n",
       "\\item 'good'\n",
       "\\item 'bad'\n",
       "\\item 1\n",
       "\\item 'bad'\n",
       "\\end{enumerate}\n"
      ],
      "text/markdown": [
       "1. 'good'\n",
       "2. 'bad'\n",
       "3. 'ugly'\n",
       "4. 'good'\n",
       "5. 'bad'\n",
       "6. 1\n",
       "7. 'bad'\n",
       "\n",
       "\n"
      ],
      "text/plain": [
       "[[1]]\n",
       "[1] \"good\"\n",
       "\n",
       "[[2]]\n",
       "[1] \"bad\"\n",
       "\n",
       "[[3]]\n",
       "[1] \"ugly\"\n",
       "\n",
       "[[4]]\n",
       "[1] \"good\"\n",
       "\n",
       "[[5]]\n",
       "[1] \"bad\"\n",
       "\n",
       "[[6]]\n",
       "[1] 1\n",
       "\n",
       "[[7]]\n",
       "[1] \"bad\"\n"
      ]
     },
     "metadata": {},
     "output_type": "display_data"
    }
   ],
   "source": [
    "list_1 <- append(list_1, \"bad\")\n",
    "list_1"
   ]
  },
  {
   "cell_type": "code",
   "execution_count": 109,
   "metadata": {},
   "outputs": [
    {
     "data": {
      "text/html": [
       "<style>\n",
       ".list-inline {list-style: none; margin:0; padding: 0}\n",
       ".list-inline>li {display: inline-block}\n",
       ".list-inline>li:not(:last-child)::after {content: \"\\00b7\"; padding: 0 .5ex}\n",
       "</style>\n",
       "<ol class=list-inline><li>good</li><li>bad</li><li>ugly</li><li>good</li><li>bad</li><li>ugly</li><li>5</li></ol>\n",
       "\n",
       "<details>\n",
       "\t<summary style=display:list-item;cursor:pointer>\n",
       "\t\t<strong>Levels</strong>:\n",
       "\t</summary>\n",
       "\t<style>\n",
       "\t.list-inline {list-style: none; margin:0; padding: 0}\n",
       "\t.list-inline>li {display: inline-block}\n",
       "\t.list-inline>li:not(:last-child)::after {content: \"\\00b7\"; padding: 0 .5ex}\n",
       "\t</style>\n",
       "\t<ol class=list-inline><li>'5'</li><li>'bad'</li><li>'good'</li><li>'ugly'</li></ol>\n",
       "</details>"
      ],
      "text/latex": [
       "\\begin{enumerate*}\n",
       "\\item good\n",
       "\\item bad\n",
       "\\item ugly\n",
       "\\item good\n",
       "\\item bad\n",
       "\\item ugly\n",
       "\\item 5\n",
       "\\end{enumerate*}\n",
       "\n",
       "\\emph{Levels}: \\begin{enumerate*}\n",
       "\\item '5'\n",
       "\\item 'bad'\n",
       "\\item 'good'\n",
       "\\item 'ugly'\n",
       "\\end{enumerate*}\n"
      ],
      "text/markdown": [
       "1. good\n",
       "2. bad\n",
       "3. ugly\n",
       "4. good\n",
       "5. bad\n",
       "6. ugly\n",
       "7. 5\n",
       "\n",
       "\n",
       "\n",
       "**Levels**: 1. '5'\n",
       "2. 'bad'\n",
       "3. 'good'\n",
       "4. 'ugly'\n",
       "\n",
       "\n"
      ],
      "text/plain": [
       "[1] good bad  ugly good bad  ugly 5   \n",
       "Levels: 5 bad good ugly"
      ]
     },
     "metadata": {},
     "output_type": "display_data"
    }
   ],
   "source": [
    "# factor grouped categorical variables\n",
    "\n",
    "fac_2 <- factor( c( \"good\", \"bad\", \"ugly\",\"good\", \"bad\", \"ugly\", 5 ) )\n",
    "fac_2"
   ]
  },
  {
   "cell_type": "code",
   "execution_count": 115,
   "metadata": {},
   "outputs": [
    {
     "name": "stdout",
     "output_type": "stream",
     "text": [
      "[1] good bad  ugly good bad  ugly\n",
      "Levels: bad good ugly\n"
     ]
    },
    {
     "data": {
      "text/html": [
       "'integer'"
      ],
      "text/latex": [
       "'integer'"
      ],
      "text/markdown": [
       "'integer'"
      ],
      "text/plain": [
       "[1] \"integer\""
      ]
     },
     "metadata": {},
     "output_type": "display_data"
    },
    {
     "data": {
      "text/html": [
       "'factor'"
      ],
      "text/latex": [
       "'factor'"
      ],
      "text/markdown": [
       "'factor'"
      ],
      "text/plain": [
       "[1] \"factor\""
      ]
     },
     "metadata": {},
     "output_type": "display_data"
    }
   ],
   "source": [
    "fac <- factor( c( \"good\", \"bad\", \"ugly\",\"good\", \"bad\", \"ugly\" ) )\n",
    "print( fac )\n",
    "# Type of class\n",
    "typeof( fac )\n",
    "class( fac )"
   ]
  },
  {
   "cell_type": "code",
   "execution_count": 116,
   "metadata": {},
   "outputs": [
    {
     "data": {
      "text/html": [
       "<style>\n",
       ".list-inline {list-style: none; margin:0; padding: 0}\n",
       ".list-inline>li {display: inline-block}\n",
       ".list-inline>li:not(:last-child)::after {content: \"\\00b7\"; padding: 0 .5ex}\n",
       "</style>\n",
       "<ol class=list-inline><li>'bad'</li><li>'good'</li><li>'ugly'</li></ol>\n"
      ],
      "text/latex": [
       "\\begin{enumerate*}\n",
       "\\item 'bad'\n",
       "\\item 'good'\n",
       "\\item 'ugly'\n",
       "\\end{enumerate*}\n"
      ],
      "text/markdown": [
       "1. 'bad'\n",
       "2. 'good'\n",
       "3. 'ugly'\n",
       "\n",
       "\n"
      ],
      "text/plain": [
       "[1] \"bad\"  \"good\" \"ugly\""
      ]
     },
     "metadata": {},
     "output_type": "display_data"
    },
    {
     "data": {
      "text/html": [
       "3"
      ],
      "text/latex": [
       "3"
      ],
      "text/markdown": [
       "3"
      ],
      "text/plain": [
       "[1] 3"
      ]
     },
     "metadata": {},
     "output_type": "display_data"
    }
   ],
   "source": [
    "# Levels o categories \n",
    "levels( fac )\n",
    "# Number of Levels\n",
    "nlevels( fac )"
   ]
  },
  {
   "cell_type": "code",
   "execution_count": 76,
   "metadata": {},
   "outputs": [
    {
     "data": {
      "text/html": [
       "<style>\n",
       ".list-inline {list-style: none; margin:0; padding: 0}\n",
       ".list-inline>li {display: inline-block}\n",
       ".list-inline>li:not(:last-child)::after {content: \"\\00b7\"; padding: 0 .5ex}\n",
       "</style>\n",
       "<ol class=list-inline><li>'a'</li><li>'b'</li><li>'c'</li><li>'c1'</li><li>'c2'</li><li>'fac'</li><li>'fac_2'</li><li>'list_1'</li><li>'log_true'</li><li>'x'</li><li>'z1'</li><li>'z2'</li><li>'z3'</li></ol>\n"
      ],
      "text/latex": [
       "\\begin{enumerate*}\n",
       "\\item 'a'\n",
       "\\item 'b'\n",
       "\\item 'c'\n",
       "\\item 'c1'\n",
       "\\item 'c2'\n",
       "\\item 'fac'\n",
       "\\item 'fac\\_2'\n",
       "\\item 'list\\_1'\n",
       "\\item 'log\\_true'\n",
       "\\item 'x'\n",
       "\\item 'z1'\n",
       "\\item 'z2'\n",
       "\\item 'z3'\n",
       "\\end{enumerate*}\n"
      ],
      "text/markdown": [
       "1. 'a'\n",
       "2. 'b'\n",
       "3. 'c'\n",
       "4. 'c1'\n",
       "5. 'c2'\n",
       "6. 'fac'\n",
       "7. 'fac_2'\n",
       "8. 'list_1'\n",
       "9. 'log_true'\n",
       "10. 'x'\n",
       "11. 'z1'\n",
       "12. 'z2'\n",
       "13. 'z3'\n",
       "\n",
       "\n"
      ],
      "text/plain": [
       " [1] \"a\"        \"b\"        \"c\"        \"c1\"       \"c2\"       \"fac\"     \n",
       " [7] \"fac_2\"    \"list_1\"   \"log_true\" \"x\"        \"z1\"       \"z2\"      \n",
       "[13] \"z3\"      "
      ]
     },
     "metadata": {},
     "output_type": "display_data"
    }
   ],
   "source": [
    "# Check the variables that you defined\n",
    "ls()"
   ]
  },
  {
   "cell_type": "markdown",
   "metadata": {},
   "source": [
    "Basic data structures in R include the vector, list, matrix, data frame, and factors. Some of these structures require that all members be of the same data type (e.g. vectors, matrices) while others permit multiple data types (e.g. lists, data frames)."
   ]
  },
  {
   "cell_type": "code",
   "execution_count": 97,
   "metadata": {},
   "outputs": [
    {
     "data": {
      "text/html": [
       "<dl>\n",
       "\t<dt>$num_UEFA</dt>\n",
       "\t\t<dd><style>\n",
       ".list-inline {list-style: none; margin:0; padding: 0}\n",
       ".list-inline>li {display: inline-block}\n",
       ".list-inline>li:not(:last-child)::after {content: \"\\00b7\"; padding: 0 .5ex}\n",
       "</style>\n",
       "<ol class=list-inline><li>13</li><li>7</li><li>6</li></ol>\n",
       "</dd>\n",
       "\t<dt>$clubs</dt>\n",
       "\t\t<dd><style>\n",
       ".list-inline {list-style: none; margin:0; padding: 0}\n",
       ".list-inline>li {display: inline-block}\n",
       ".list-inline>li:not(:last-child)::after {content: \"\\00b7\"; padding: 0 .5ex}\n",
       "</style>\n",
       "<ol class=list-inline><li>'Real Madrid'</li><li>'AC Milan'</li><li>'Liverpool FC'</li></ol>\n",
       "</dd>\n",
       "\t<dt>$last_year</dt>\n",
       "\t\t<dd><style>\n",
       ".list-inline {list-style: none; margin:0; padding: 0}\n",
       ".list-inline>li {display: inline-block}\n",
       ".list-inline>li:not(:last-child)::after {content: \"\\00b7\"; padding: 0 .5ex}\n",
       "</style>\n",
       "<ol class=list-inline><li>2018</li><li>2007</li><li>2019</li></ol>\n",
       "</dd>\n",
       "</dl>\n"
      ],
      "text/latex": [
       "\\begin{description}\n",
       "\\item[\\$num\\_UEFA] \\begin{enumerate*}\n",
       "\\item 13\n",
       "\\item 7\n",
       "\\item 6\n",
       "\\end{enumerate*}\n",
       "\n",
       "\\item[\\$clubs] \\begin{enumerate*}\n",
       "\\item 'Real Madrid'\n",
       "\\item 'AC Milan'\n",
       "\\item 'Liverpool FC'\n",
       "\\end{enumerate*}\n",
       "\n",
       "\\item[\\$last\\_year] \\begin{enumerate*}\n",
       "\\item 2018\n",
       "\\item 2007\n",
       "\\item 2019\n",
       "\\end{enumerate*}\n",
       "\n",
       "\\end{description}\n"
      ],
      "text/markdown": [
       "$num_UEFA\n",
       ":   1. 13\n",
       "2. 7\n",
       "3. 6\n",
       "\n",
       "\n",
       "\n",
       "$clubs\n",
       ":   1. 'Real Madrid'\n",
       "2. 'AC Milan'\n",
       "3. 'Liverpool FC'\n",
       "\n",
       "\n",
       "\n",
       "$last_year\n",
       ":   1. 2018\n",
       "2. 2007\n",
       "3. 2019\n",
       "\n",
       "\n",
       "\n",
       "\n",
       "\n"
      ],
      "text/plain": [
       "$num_UEFA\n",
       "[1] 13  7  6\n",
       "\n",
       "$clubs\n",
       "[1] \"Real Madrid\"  \"AC Milan\"     \"Liverpool FC\"\n",
       "\n",
       "$last_year\n",
       "[1] 2018 2007 2019\n"
      ]
     },
     "metadata": {},
     "output_type": "display_data"
    }
   ],
   "source": [
    "mylist <- list( num_UEFA = c( 13 , 7 , 6 ) , clubs = c( \"Real Madrid\" , \"AC Milan\" , \"Liverpool FC\" ) , \n",
    "               last_year = c( 2018 , 2007 , 2019 ) )\n",
    "\n",
    "mylist"
   ]
  },
  {
   "cell_type": "code",
   "execution_count": 99,
   "metadata": {},
   "outputs": [
    {
     "data": {
      "text/html": [
       "<style>\n",
       ".list-inline {list-style: none; margin:0; padding: 0}\n",
       ".list-inline>li {display: inline-block}\n",
       ".list-inline>li:not(:last-child)::after {content: \"\\00b7\"; padding: 0 .5ex}\n",
       "</style>\n",
       "<ol class=list-inline><li>2018</li><li>2007</li><li>2019</li></ol>\n"
      ],
      "text/latex": [
       "\\begin{enumerate*}\n",
       "\\item 2018\n",
       "\\item 2007\n",
       "\\item 2019\n",
       "\\end{enumerate*}\n"
      ],
      "text/markdown": [
       "1. 2018\n",
       "2. 2007\n",
       "3. 2019\n",
       "\n",
       "\n"
      ],
      "text/plain": [
       "[1] 2018 2007 2019"
      ]
     },
     "metadata": {},
     "output_type": "display_data"
    }
   ],
   "source": [
    "mylist$last_year"
   ]
  },
  {
   "cell_type": "code",
   "execution_count": 34,
   "metadata": {},
   "outputs": [
    {
     "data": {
      "text/html": [
       "<style>\n",
       ".list-inline {list-style: none; margin:0; padding: 0}\n",
       ".list-inline>li {display: inline-block}\n",
       ".list-inline>li:not(:last-child)::after {content: \"\\00b7\"; padding: 0 .5ex}\n",
       "</style>\n",
       "<ol class=list-inline><li>2018</li><li>2007</li><li>2019</li></ol>\n"
      ],
      "text/latex": [
       "\\begin{enumerate*}\n",
       "\\item 2018\n",
       "\\item 2007\n",
       "\\item 2019\n",
       "\\end{enumerate*}\n"
      ],
      "text/markdown": [
       "1. 2018\n",
       "2. 2007\n",
       "3. 2019\n",
       "\n",
       "\n"
      ],
      "text/plain": [
       "[1] 2018 2007 2019"
      ]
     },
     "metadata": {},
     "output_type": "display_data"
    }
   ],
   "source": [
    "# Indexing vectors\n",
    "mylist[[3]]"
   ]
  },
  {
   "cell_type": "code",
   "execution_count": 35,
   "metadata": {},
   "outputs": [
    {
     "data": {
      "text/html": [
       "<style>\n",
       ".list-inline {list-style: none; margin:0; padding: 0}\n",
       ".list-inline>li {display: inline-block}\n",
       ".list-inline>li:not(:last-child)::after {content: \"\\00b7\"; padding: 0 .5ex}\n",
       "</style>\n",
       "<ol class=list-inline><li>2007</li><li>2019</li></ol>\n"
      ],
      "text/latex": [
       "\\begin{enumerate*}\n",
       "\\item 2007\n",
       "\\item 2019\n",
       "\\end{enumerate*}\n"
      ],
      "text/markdown": [
       "1. 2007\n",
       "2. 2019\n",
       "\n",
       "\n"
      ],
      "text/plain": [
       "[1] 2007 2019"
      ]
     },
     "metadata": {},
     "output_type": "display_data"
    }
   ],
   "source": [
    "# Indexing group of vectors\n",
    "mylist[[3]][2:3]"
   ]
  },
  {
   "cell_type": "code",
   "execution_count": 36,
   "metadata": {},
   "outputs": [
    {
     "data": {
      "text/html": [
       "<strong>$last_year</strong> = <style>\n",
       ".list-inline {list-style: none; margin:0; padding: 0}\n",
       ".list-inline>li {display: inline-block}\n",
       ".list-inline>li:not(:last-child)::after {content: \"\\00b7\"; padding: 0 .5ex}\n",
       "</style>\n",
       "<ol class=list-inline><li>2018</li><li>2007</li><li>2019</li></ol>\n"
      ],
      "text/latex": [
       "\\textbf{\\$last\\_year} = \\begin{enumerate*}\n",
       "\\item 2018\n",
       "\\item 2007\n",
       "\\item 2019\n",
       "\\end{enumerate*}\n"
      ],
      "text/markdown": [
       "**$last_year** = 1. 2018\n",
       "2. 2007\n",
       "3. 2019\n",
       "\n",
       "\n"
      ],
      "text/plain": [
       "$last_year\n",
       "[1] 2018 2007 2019\n"
      ]
     },
     "metadata": {},
     "output_type": "display_data"
    }
   ],
   "source": [
    "# Indexing group of vectors\n",
    "mylist[3][1]"
   ]
  },
  {
   "cell_type": "code",
   "execution_count": 102,
   "metadata": {},
   "outputs": [
    {
     "data": {
      "text/html": [
       "<dl>\n",
       "\t<dt>$num_UEFA</dt>\n",
       "\t\t<dd><style>\n",
       ".list-inline {list-style: none; margin:0; padding: 0}\n",
       ".list-inline>li {display: inline-block}\n",
       ".list-inline>li:not(:last-child)::after {content: \"\\00b7\"; padding: 0 .5ex}\n",
       "</style>\n",
       "<ol class=list-inline><li>13</li><li>7</li><li>6</li></ol>\n",
       "</dd>\n",
       "\t<dt>$clubs</dt>\n",
       "\t\t<dd><style>\n",
       ".list-inline {list-style: none; margin:0; padding: 0}\n",
       ".list-inline>li {display: inline-block}\n",
       ".list-inline>li:not(:last-child)::after {content: \"\\00b7\"; padding: 0 .5ex}\n",
       "</style>\n",
       "<ol class=list-inline><li>'Real Madrid'</li><li>'AC Milan'</li><li>'Liverpool FC'</li></ol>\n",
       "</dd>\n",
       "</dl>\n"
      ],
      "text/latex": [
       "\\begin{description}\n",
       "\\item[\\$num\\_UEFA] \\begin{enumerate*}\n",
       "\\item 13\n",
       "\\item 7\n",
       "\\item 6\n",
       "\\end{enumerate*}\n",
       "\n",
       "\\item[\\$clubs] \\begin{enumerate*}\n",
       "\\item 'Real Madrid'\n",
       "\\item 'AC Milan'\n",
       "\\item 'Liverpool FC'\n",
       "\\end{enumerate*}\n",
       "\n",
       "\\end{description}\n"
      ],
      "text/markdown": [
       "$num_UEFA\n",
       ":   1. 13\n",
       "2. 7\n",
       "3. 6\n",
       "\n",
       "\n",
       "\n",
       "$clubs\n",
       ":   1. 'Real Madrid'\n",
       "2. 'AC Milan'\n",
       "3. 'Liverpool FC'\n",
       "\n",
       "\n",
       "\n",
       "\n",
       "\n"
      ],
      "text/plain": [
       "$num_UEFA\n",
       "[1] 13  7  6\n",
       "\n",
       "$clubs\n",
       "[1] \"Real Madrid\"  \"AC Milan\"     \"Liverpool FC\"\n"
      ]
     },
     "metadata": {},
     "output_type": "display_data"
    }
   ],
   "source": [
    "list.remove(mylist,\"last_year\")"
   ]
  },
  {
   "cell_type": "code",
   "execution_count": 105,
   "metadata": {},
   "outputs": [
    {
     "data": {
      "text/html": [
       "<dl>\n",
       "\t<dt>$num_UEFA</dt>\n",
       "\t\t<dd><style>\n",
       ".list-inline {list-style: none; margin:0; padding: 0}\n",
       ".list-inline>li {display: inline-block}\n",
       ".list-inline>li:not(:last-child)::after {content: \"\\00b7\"; padding: 0 .5ex}\n",
       "</style>\n",
       "<ol class=list-inline><li>13</li><li>7</li><li>6</li></ol>\n",
       "</dd>\n",
       "\t<dt>$clubs</dt>\n",
       "\t\t<dd><style>\n",
       ".list-inline {list-style: none; margin:0; padding: 0}\n",
       ".list-inline>li {display: inline-block}\n",
       ".list-inline>li:not(:last-child)::after {content: \"\\00b7\"; padding: 0 .5ex}\n",
       "</style>\n",
       "<ol class=list-inline><li>'Real Madrid'</li><li>'AC Milan'</li><li>'Liverpool FC'</li></ol>\n",
       "</dd>\n",
       "\t<dt>$last_year</dt>\n",
       "\t\t<dd><style>\n",
       ".list-inline {list-style: none; margin:0; padding: 0}\n",
       ".list-inline>li {display: inline-block}\n",
       ".list-inline>li:not(:last-child)::after {content: \"\\00b7\"; padding: 0 .5ex}\n",
       "</style>\n",
       "<ol class=list-inline><li>2018</li><li>2007</li><li>2019</li></ol>\n",
       "</dd>\n",
       "\t<dt>[[4]]</dt>\n",
       "\t\t<dd>4000</dd>\n",
       "</dl>\n"
      ],
      "text/latex": [
       "\\begin{description}\n",
       "\\item[\\$num\\_UEFA] \\begin{enumerate*}\n",
       "\\item 13\n",
       "\\item 7\n",
       "\\item 6\n",
       "\\end{enumerate*}\n",
       "\n",
       "\\item[\\$clubs] \\begin{enumerate*}\n",
       "\\item 'Real Madrid'\n",
       "\\item 'AC Milan'\n",
       "\\item 'Liverpool FC'\n",
       "\\end{enumerate*}\n",
       "\n",
       "\\item[\\$last\\_year] \\begin{enumerate*}\n",
       "\\item 2018\n",
       "\\item 2007\n",
       "\\item 2019\n",
       "\\end{enumerate*}\n",
       "\n",
       "\\item[{[[4]]}] 4000\n",
       "\\end{description}\n"
      ],
      "text/markdown": [
       "$num_UEFA\n",
       ":   1. 13\n",
       "2. 7\n",
       "3. 6\n",
       "\n",
       "\n",
       "\n",
       "$clubs\n",
       ":   1. 'Real Madrid'\n",
       "2. 'AC Milan'\n",
       "3. 'Liverpool FC'\n",
       "\n",
       "\n",
       "\n",
       "$last_year\n",
       ":   1. 2018\n",
       "2. 2007\n",
       "3. 2019\n",
       "\n",
       "\n",
       "\n",
       "[[4]]\n",
       ":   4000\n",
       "\n",
       "\n"
      ],
      "text/plain": [
       "$num_UEFA\n",
       "[1] 13  7  6\n",
       "\n",
       "$clubs\n",
       "[1] \"Real Madrid\"  \"AC Milan\"     \"Liverpool FC\"\n",
       "\n",
       "$last_year\n",
       "[1] 2018 2007 2019\n",
       "\n",
       "[[4]]\n",
       "[1] 4000\n"
      ]
     },
     "metadata": {},
     "output_type": "display_data"
    }
   ],
   "source": [
    "Postal_code <- append(mylist, 4000)\n",
    "Postal_code"
   ]
  },
  {
   "cell_type": "markdown",
   "metadata": {},
   "source": [
    "#### Vectors\n",
    "This data structure requires that all members be of the same data type."
   ]
  },
  {
   "cell_type": "code",
   "execution_count": 77,
   "metadata": {},
   "outputs": [
    {
     "name": "stdout",
     "output_type": "stream",
     "text": [
      "[1] \"character\"\n",
      "[1] TRUE\n",
      "[1] 5\n"
     ]
    }
   ],
   "source": [
    "vec_str <-  c( \"good\", \"bad\", \"ugly\",\"good\", \"bad\")\n",
    "print( class( vec_str ) )\n",
    "print( is.vector( vec_str ) )\n",
    "print( length( vec_str ) )"
   ]
  },
  {
   "cell_type": "code",
   "execution_count": 78,
   "metadata": {},
   "outputs": [
    {
     "data": {
      "text/html": [
       "<style>\n",
       ".list-inline {list-style: none; margin:0; padding: 0}\n",
       ".list-inline>li {display: inline-block}\n",
       ".list-inline>li:not(:last-child)::after {content: \"\\00b7\"; padding: 0 .5ex}\n",
       "</style>\n",
       "<ol class=list-inline><li>2</li><li>3</li><li>4</li><li>5</li><li>6</li><li>4</li></ol>\n"
      ],
      "text/latex": [
       "\\begin{enumerate*}\n",
       "\\item 2\n",
       "\\item 3\n",
       "\\item 4\n",
       "\\item 5\n",
       "\\item 6\n",
       "\\item 4\n",
       "\\end{enumerate*}\n"
      ],
      "text/markdown": [
       "1. 2\n",
       "2. 3\n",
       "3. 4\n",
       "4. 5\n",
       "5. 6\n",
       "6. 4\n",
       "\n",
       "\n"
      ],
      "text/plain": [
       "[1] 2 3 4 5 6 4"
      ]
     },
     "metadata": {},
     "output_type": "display_data"
    }
   ],
   "source": [
    "vec <- c( 2 , 3 , 4 , 5 , 6 , 4 )\n",
    "vec "
   ]
  },
  {
   "cell_type": "code",
   "execution_count": 79,
   "metadata": {},
   "outputs": [
    {
     "name": "stdout",
     "output_type": "stream",
     "text": [
      "[1] \"numeric\"\n",
      "[1] TRUE\n",
      "[1] 6\n"
     ]
    }
   ],
   "source": [
    "print( class( vec ) )\n",
    "print( is.vector( vec ) )\n",
    "print( length( vec ) )"
   ]
  },
  {
   "cell_type": "code",
   "execution_count": 81,
   "metadata": {},
   "outputs": [
    {
     "data": {
      "text/html": [
       "<style>\n",
       ".list-inline {list-style: none; margin:0; padding: 0}\n",
       ".list-inline>li {display: inline-block}\n",
       ".list-inline>li:not(:last-child)::after {content: \"\\00b7\"; padding: 0 .5ex}\n",
       "</style>\n",
       "<ol class=list-inline><li>1</li><li>3</li><li>5</li><li>7</li><li>9</li><li>11</li><li>13</li><li>15</li><li>17</li><li>19</li></ol>\n"
      ],
      "text/latex": [
       "\\begin{enumerate*}\n",
       "\\item 1\n",
       "\\item 3\n",
       "\\item 5\n",
       "\\item 7\n",
       "\\item 9\n",
       "\\item 11\n",
       "\\item 13\n",
       "\\item 15\n",
       "\\item 17\n",
       "\\item 19\n",
       "\\end{enumerate*}\n"
      ],
      "text/markdown": [
       "1. 1\n",
       "2. 3\n",
       "3. 5\n",
       "4. 7\n",
       "5. 9\n",
       "6. 11\n",
       "7. 13\n",
       "8. 15\n",
       "9. 17\n",
       "10. 19\n",
       "\n",
       "\n"
      ],
      "text/plain": [
       " [1]  1  3  5  7  9 11 13 15 17 19"
      ]
     },
     "metadata": {},
     "output_type": "display_data"
    }
   ],
   "source": [
    "sec_1_20 <- seq(1,20,2)\n",
    "sec_1_20"
   ]
  },
  {
   "cell_type": "code",
   "execution_count": 82,
   "metadata": {},
   "outputs": [
    {
     "data": {
      "text/html": [
       "<style>\n",
       ".list-inline {list-style: none; margin:0; padding: 0}\n",
       ".list-inline>li {display: inline-block}\n",
       ".list-inline>li:not(:last-child)::after {content: \"\\00b7\"; padding: 0 .5ex}\n",
       "</style>\n",
       "<ol class=list-inline><li>1</li><li>2</li><li>3</li><li>4</li><li>5</li><li>6</li><li>7</li><li>8</li><li>9</li><li>10</li></ol>\n"
      ],
      "text/latex": [
       "\\begin{enumerate*}\n",
       "\\item 1\n",
       "\\item 2\n",
       "\\item 3\n",
       "\\item 4\n",
       "\\item 5\n",
       "\\item 6\n",
       "\\item 7\n",
       "\\item 8\n",
       "\\item 9\n",
       "\\item 10\n",
       "\\end{enumerate*}\n"
      ],
      "text/markdown": [
       "1. 1\n",
       "2. 2\n",
       "3. 3\n",
       "4. 4\n",
       "5. 5\n",
       "6. 6\n",
       "7. 7\n",
       "8. 8\n",
       "9. 9\n",
       "10. 10\n",
       "\n",
       "\n"
      ],
      "text/plain": [
       " [1]  1  2  3  4  5  6  7  8  9 10"
      ]
     },
     "metadata": {},
     "output_type": "display_data"
    }
   ],
   "source": [
    "sec_1_9 <- seq(1,10)\n",
    "sec_1_9"
   ]
  },
  {
   "cell_type": "markdown",
   "metadata": {},
   "source": [
    "#### Indexing"
   ]
  },
  {
   "cell_type": "code",
   "execution_count": 87,
   "metadata": {},
   "outputs": [
    {
     "data": {
      "text/html": [
       "'numeric'"
      ],
      "text/latex": [
       "'numeric'"
      ],
      "text/markdown": [
       "'numeric'"
      ],
      "text/plain": [
       "[1] \"numeric\""
      ]
     },
     "metadata": {},
     "output_type": "display_data"
    }
   ],
   "source": [
    "index_vec  <- vec[ c( 3, 1, 6, 2 ) ]\n",
    "class(index_vec)"
   ]
  },
  {
   "cell_type": "code",
   "execution_count": 84,
   "metadata": {},
   "outputs": [
    {
     "name": "stdout",
     "output_type": "stream",
     "text": [
      "[1] 4 2 4 3\n",
      "[1] 4 2 3\n"
     ]
    }
   ],
   "source": [
    "print(index_vec)\n",
    "print(index_vec[ -3 ])"
   ]
  },
  {
   "cell_type": "code",
   "execution_count": 88,
   "metadata": {},
   "outputs": [
    {
     "name": "stdout",
     "output_type": "stream",
     "text": [
      "[1] 2\n"
     ]
    }
   ],
   "source": [
    "print( index_vec[ index_vec < 3 ] )"
   ]
  },
  {
   "cell_type": "code",
   "execution_count": 89,
   "metadata": {},
   "outputs": [
    {
     "name": "stdout",
     "output_type": "stream",
     "text": [
      "[1] 2 4 3\n"
     ]
    }
   ],
   "source": [
    "print( index_vec[ 2:4 ] )"
   ]
  },
  {
   "cell_type": "markdown",
   "metadata": {},
   "source": [
    "#### Matrix\n",
    "This data structure requires that all members be of the same data type."
   ]
  },
  {
   "cell_type": "code",
   "execution_count": 128,
   "metadata": {},
   "outputs": [
    {
     "name": "stdout",
     "output_type": "stream",
     "text": [
      "     colA colB colC\n",
      "rowA    3    6    6\n",
      "rowB    5    7    3\n",
      "rowC    2    1    7\n"
     ]
    }
   ],
   "source": [
    "A = matrix( c(3, 5, 2, 6, 7, 1, 6, 3, 7 ) , nrow = 3, ncol = 3 , byrow = FALSE, \n",
    "            dimnames = list( c( \"rowA\" , \"rowB\" , \"rowC\" ), c( \"colA\" , \"colB\" , \"colC\" ) ) )\n",
    "print( A )"
   ]
  },
  {
   "cell_type": "code",
   "execution_count": 129,
   "metadata": {
    "scrolled": true
   },
   "outputs": [
    {
     "name": "stdout",
     "output_type": "stream",
     "text": [
      "     colA colB colC\n",
      "rowA    3    5    2\n",
      "rowB    6    7    1\n",
      "rowC    6    3    7\n"
     ]
    }
   ],
   "source": [
    "A = matrix( c(3, 5, 2, 6, 7, 1, 6, 3, 7 ) , nrow = 3, ncol = 3 , byrow = TRUE, \n",
    "            dimnames = list( c( \"rowA\" , \"rowB\" , \"rowC\" ), c( \"colA\" , \"colB\" , \"colC\" ) ) )\n",
    "print( A )"
   ]
  },
  {
   "cell_type": "code",
   "execution_count": 137,
   "metadata": {},
   "outputs": [
    {
     "data": {
      "text/html": [
       "<style>\n",
       ".list-inline {list-style: none; margin:0; padding: 0}\n",
       ".list-inline>li {display: inline-block}\n",
       ".list-inline>li:not(:last-child)::after {content: \"\\00b7\"; padding: 0 .5ex}\n",
       "</style>\n",
       "<ol class=list-inline><li>'matrix'</li><li>'array'</li></ol>\n"
      ],
      "text/latex": [
       "\\begin{enumerate*}\n",
       "\\item 'matrix'\n",
       "\\item 'array'\n",
       "\\end{enumerate*}\n"
      ],
      "text/markdown": [
       "1. 'matrix'\n",
       "2. 'array'\n",
       "\n",
       "\n"
      ],
      "text/plain": [
       "[1] \"matrix\" \"array\" "
      ]
     },
     "metadata": {},
     "output_type": "display_data"
    },
    {
     "data": {
      "text/html": [
       "'double'"
      ],
      "text/latex": [
       "'double'"
      ],
      "text/markdown": [
       "'double'"
      ],
      "text/plain": [
       "[1] \"double\""
      ]
     },
     "metadata": {},
     "output_type": "display_data"
    }
   ],
   "source": [
    "class(A)\n",
    "typeof(A)"
   ]
  },
  {
   "cell_type": "code",
   "execution_count": 131,
   "metadata": {},
   "outputs": [
    {
     "data": {
      "text/html": [
       "<style>\n",
       ".list-inline {list-style: none; margin:0; padding: 0}\n",
       ".list-inline>li {display: inline-block}\n",
       ".list-inline>li:not(:last-child)::after {content: \"\\00b7\"; padding: 0 .5ex}\n",
       "</style>\n",
       "<ol class=list-inline><li>3</li><li>3</li></ol>\n"
      ],
      "text/latex": [
       "\\begin{enumerate*}\n",
       "\\item 3\n",
       "\\item 3\n",
       "\\end{enumerate*}\n"
      ],
      "text/markdown": [
       "1. 3\n",
       "2. 3\n",
       "\n",
       "\n"
      ],
      "text/plain": [
       "[1] 3 3"
      ]
     },
     "metadata": {},
     "output_type": "display_data"
    }
   ],
   "source": [
    "dim(A)"
   ]
  },
  {
   "cell_type": "code",
   "execution_count": 130,
   "metadata": {},
   "outputs": [
    {
     "name": "stdout",
     "output_type": "stream",
     "text": [
      "rows:  3 \n",
      " Columns:  3"
     ]
    }
   ],
   "source": [
    "cat(\"rows: \", dim(A)[1], '\\n', \"Columns: \", dim(A)[2])"
   ]
  },
  {
   "cell_type": "code",
   "execution_count": 93,
   "metadata": {},
   "outputs": [
    {
     "data": {
      "text/html": [
       "<table class=\"dataframe\">\n",
       "<caption>A matrix: 3 × 3 of type dbl</caption>\n",
       "<thead>\n",
       "\t<tr><th></th><th scope=col>rowA</th><th scope=col>rowB</th><th scope=col>rowC</th></tr>\n",
       "</thead>\n",
       "<tbody>\n",
       "\t<tr><th scope=row>rowA</th><td> 1.000000e+00</td><td>0</td><td>5.551115e-17</td></tr>\n",
       "\t<tr><th scope=row>rowB</th><td>-3.885781e-16</td><td>1</td><td>2.775558e-17</td></tr>\n",
       "\t<tr><th scope=row>rowC</th><td>-4.440892e-16</td><td>0</td><td>1.000000e+00</td></tr>\n",
       "</tbody>\n",
       "</table>\n"
      ],
      "text/latex": [
       "A matrix: 3 × 3 of type dbl\n",
       "\\begin{tabular}{r|lll}\n",
       "  & rowA & rowB & rowC\\\\\n",
       "\\hline\n",
       "\trowA &  1.000000e+00 & 0 & 5.551115e-17\\\\\n",
       "\trowB & -3.885781e-16 & 1 & 2.775558e-17\\\\\n",
       "\trowC & -4.440892e-16 & 0 & 1.000000e+00\\\\\n",
       "\\end{tabular}\n"
      ],
      "text/markdown": [
       "\n",
       "A matrix: 3 × 3 of type dbl\n",
       "\n",
       "| <!--/--> | rowA | rowB | rowC |\n",
       "|---|---|---|---|\n",
       "| rowA |  1.000000e+00 | 0 | 5.551115e-17 |\n",
       "| rowB | -3.885781e-16 | 1 | 2.775558e-17 |\n",
       "| rowC | -4.440892e-16 | 0 | 1.000000e+00 |\n",
       "\n"
      ],
      "text/plain": [
       "     rowA          rowB rowC        \n",
       "rowA  1.000000e+00 0    5.551115e-17\n",
       "rowB -3.885781e-16 1    2.775558e-17\n",
       "rowC -4.440892e-16 0    1.000000e+00"
      ]
     },
     "metadata": {},
     "output_type": "display_data"
    }
   ],
   "source": [
    "B = A %*% solve( A )\n",
    "B"
   ]
  },
  {
   "cell_type": "code",
   "execution_count": 94,
   "metadata": {},
   "outputs": [
    {
     "data": {
      "text/html": [
       "<table class=\"dataframe\">\n",
       "<caption>A matrix: 3 × 3 of type dbl</caption>\n",
       "<thead>\n",
       "\t<tr><th></th><th scope=col>rowA</th><th scope=col>rowB</th><th scope=col>rowC</th></tr>\n",
       "</thead>\n",
       "<tbody>\n",
       "\t<tr><th scope=row>rowA</th><td>1</td><td>0</td><td>0</td></tr>\n",
       "\t<tr><th scope=row>rowB</th><td>0</td><td>1</td><td>0</td></tr>\n",
       "\t<tr><th scope=row>rowC</th><td>0</td><td>0</td><td>1</td></tr>\n",
       "</tbody>\n",
       "</table>\n"
      ],
      "text/latex": [
       "A matrix: 3 × 3 of type dbl\n",
       "\\begin{tabular}{r|lll}\n",
       "  & rowA & rowB & rowC\\\\\n",
       "\\hline\n",
       "\trowA & 1 & 0 & 0\\\\\n",
       "\trowB & 0 & 1 & 0\\\\\n",
       "\trowC & 0 & 0 & 1\\\\\n",
       "\\end{tabular}\n"
      ],
      "text/markdown": [
       "\n",
       "A matrix: 3 × 3 of type dbl\n",
       "\n",
       "| <!--/--> | rowA | rowB | rowC |\n",
       "|---|---|---|---|\n",
       "| rowA | 1 | 0 | 0 |\n",
       "| rowB | 0 | 1 | 0 |\n",
       "| rowC | 0 | 0 | 1 |\n",
       "\n"
      ],
      "text/plain": [
       "     rowA rowB rowC\n",
       "rowA 1    0    0   \n",
       "rowB 0    1    0   \n",
       "rowC 0    0    1   "
      ]
     },
     "metadata": {},
     "output_type": "display_data"
    }
   ],
   "source": [
    "# Solve for getting inverse matrix\n",
    "# %*% Matrix Multiplication\n",
    "# round output of the matrix\n",
    "B = round( A %*% solve( A ) , 2 )\n",
    "B"
   ]
  },
  {
   "cell_type": "code",
   "execution_count": 95,
   "metadata": {},
   "outputs": [
    {
     "name": "stdout",
     "output_type": "stream",
     "text": [
      "rowA rowB rowC \n",
      "   1    1    1 \n"
     ]
    }
   ],
   "source": [
    "print( diag( B ) )  \n"
   ]
  },
  {
   "cell_type": "code",
   "execution_count": 96,
   "metadata": {},
   "outputs": [
    {
     "name": "stdout",
     "output_type": "stream",
     "text": [
      "     rowA rowB rowC\n",
      "colA    3    6    6\n",
      "colB    5    7    3\n",
      "colC    2    1    7\n"
     ]
    }
   ],
   "source": [
    "print( t( A ) )"
   ]
  },
  {
   "cell_type": "code",
   "execution_count": 133,
   "metadata": {},
   "outputs": [
    {
     "name": "stdout",
     "output_type": "stream",
     "text": [
      "     [,1] [,2] [,3] [,4] [,5] [,6] [,7] [,8] [,9] [,10]\n",
      "[1,]    0    1    2    3    4    5    6    7    8     9\n",
      "[2,]   10   11   12   13   14   15   16   17   18    19\n",
      "[3,]   30   31   32   33   34   35   36   37   38    39\n",
      "[4,]  -20  -19  -18  -17  -16  -15  -14  -13  -12   -11\n",
      "[5,]    2    4    6    8   10   12   14   16   18    20\n"
     ]
    }
   ],
   "source": [
    "A <- matrix(c(seq(0, 9), seq( 10, 19), seq( 30, 39), seq( -20, -11), seq( 2, 20,2)), nrow = 5, byrow =TRUE)\n",
    "print(A)"
   ]
  },
  {
   "cell_type": "code",
   "execution_count": 134,
   "metadata": {},
   "outputs": [
    {
     "data": {
      "text/html": [
       "<table class=\"dataframe\">\n",
       "<caption>A matrix: 3 × 10 of type dbl</caption>\n",
       "<tbody>\n",
       "\t<tr><td> 10</td><td> 11</td><td> 12</td><td> 13</td><td> 14</td><td> 15</td><td> 16</td><td> 17</td><td> 18</td><td> 19</td></tr>\n",
       "\t<tr><td> 30</td><td> 31</td><td> 32</td><td> 33</td><td> 34</td><td> 35</td><td> 36</td><td> 37</td><td> 38</td><td> 39</td></tr>\n",
       "\t<tr><td>-20</td><td>-19</td><td>-18</td><td>-17</td><td>-16</td><td>-15</td><td>-14</td><td>-13</td><td>-12</td><td>-11</td></tr>\n",
       "</tbody>\n",
       "</table>\n"
      ],
      "text/latex": [
       "A matrix: 3 × 10 of type dbl\n",
       "\\begin{tabular}{llllllllll}\n",
       "\t  10 &  11 &  12 &  13 &  14 &  15 &  16 &  17 &  18 &  19\\\\\n",
       "\t  30 &  31 &  32 &  33 &  34 &  35 &  36 &  37 &  38 &  39\\\\\n",
       "\t -20 & -19 & -18 & -17 & -16 & -15 & -14 & -13 & -12 & -11\\\\\n",
       "\\end{tabular}\n"
      ],
      "text/markdown": [
       "\n",
       "A matrix: 3 × 10 of type dbl\n",
       "\n",
       "|  10 |  11 |  12 |  13 |  14 |  15 |  16 |  17 |  18 |  19 |\n",
       "|  30 |  31 |  32 |  33 |  34 |  35 |  36 |  37 |  38 |  39 |\n",
       "| -20 | -19 | -18 | -17 | -16 | -15 | -14 | -13 | -12 | -11 |\n",
       "\n"
      ],
      "text/plain": [
       "     [,1] [,2] [,3] [,4] [,5] [,6] [,7] [,8] [,9] [,10]\n",
       "[1,]  10   11   12   13   14   15   16   17   18   19  \n",
       "[2,]  30   31   32   33   34   35   36   37   38   39  \n",
       "[3,] -20  -19  -18  -17  -16  -15  -14  -13  -12  -11  "
      ]
     },
     "metadata": {},
     "output_type": "display_data"
    }
   ],
   "source": [
    "A[2:4,] # rows selecrtion"
   ]
  },
  {
   "cell_type": "code",
   "execution_count": 135,
   "metadata": {
    "scrolled": true
   },
   "outputs": [
    {
     "data": {
      "text/html": [
       "<table class=\"dataframe\">\n",
       "<caption>A matrix: 5 × 6 of type dbl</caption>\n",
       "<tbody>\n",
       "\t<tr><td>  0</td><td>  1</td><td>  2</td><td>  3</td><td>  4</td><td>  5</td></tr>\n",
       "\t<tr><td> 10</td><td> 11</td><td> 12</td><td> 13</td><td> 14</td><td> 15</td></tr>\n",
       "\t<tr><td> 30</td><td> 31</td><td> 32</td><td> 33</td><td> 34</td><td> 35</td></tr>\n",
       "\t<tr><td>-20</td><td>-19</td><td>-18</td><td>-17</td><td>-16</td><td>-15</td></tr>\n",
       "\t<tr><td>  2</td><td>  4</td><td>  6</td><td>  8</td><td> 10</td><td> 12</td></tr>\n",
       "</tbody>\n",
       "</table>\n"
      ],
      "text/latex": [
       "A matrix: 5 × 6 of type dbl\n",
       "\\begin{tabular}{llllll}\n",
       "\t   0 &   1 &   2 &   3 &   4 &   5\\\\\n",
       "\t  10 &  11 &  12 &  13 &  14 &  15\\\\\n",
       "\t  30 &  31 &  32 &  33 &  34 &  35\\\\\n",
       "\t -20 & -19 & -18 & -17 & -16 & -15\\\\\n",
       "\t   2 &   4 &   6 &   8 &  10 &  12\\\\\n",
       "\\end{tabular}\n"
      ],
      "text/markdown": [
       "\n",
       "A matrix: 5 × 6 of type dbl\n",
       "\n",
       "|   0 |   1 |   2 |   3 |   4 |   5 |\n",
       "|  10 |  11 |  12 |  13 |  14 |  15 |\n",
       "|  30 |  31 |  32 |  33 |  34 |  35 |\n",
       "| -20 | -19 | -18 | -17 | -16 | -15 |\n",
       "|   2 |   4 |   6 |   8 |  10 |  12 |\n",
       "\n"
      ],
      "text/plain": [
       "     [,1] [,2] [,3] [,4] [,5] [,6]\n",
       "[1,]   0    1    2    3    4    5 \n",
       "[2,]  10   11   12   13   14   15 \n",
       "[3,]  30   31   32   33   34   35 \n",
       "[4,] -20  -19  -18  -17  -16  -15 \n",
       "[5,]   2    4    6    8   10   12 "
      ]
     },
     "metadata": {},
     "output_type": "display_data"
    }
   ],
   "source": [
    "A[,1:6]  # columns selecrtion"
   ]
  },
  {
   "cell_type": "code",
   "execution_count": 138,
   "metadata": {},
   "outputs": [
    {
     "name": "stdout",
     "output_type": "stream",
     "text": [
      "     [,1] [,2]\n",
      "[1,]    0    0\n",
      "[2,]    0    0\n",
      "[3,]    0    0\n",
      "[4,]    0    0\n",
      "[5,]    0    0\n",
      "[6,]    0    0\n",
      "[7,]    0    0\n",
      "[8,]    0    0\n"
     ]
    }
   ],
   "source": [
    "M1 <- matrix(0,8,2)\n",
    "\n",
    "print(M1)"
   ]
  },
  {
   "cell_type": "code",
   "execution_count": 139,
   "metadata": {},
   "outputs": [
    {
     "name": "stdout",
     "output_type": "stream",
     "text": [
      "     [,1] [,2] [,3] [,4]\n",
      "[1,]    1    1    1    1\n",
      "[2,]    1    1    1    1\n",
      "[3,]    1    1    1    1\n",
      "[4,]    1    1    1    1\n",
      "[5,]    1    1    1    1\n",
      "[6,]    1    1    1    1\n",
      "[7,]    1    1    1    1\n",
      "[8,]    1    1    1    1\n"
     ]
    }
   ],
   "source": [
    "M2 <- matrix(1,8, 4) \n",
    "print(M2)"
   ]
  },
  {
   "cell_type": "code",
   "execution_count": 140,
   "metadata": {},
   "outputs": [
    {
     "data": {
      "text/html": [
       "<table class=\"dataframe\">\n",
       "<caption>A matrix: 8 × 6 of type dbl</caption>\n",
       "<tbody>\n",
       "\t<tr><td>0</td><td>0</td><td>1</td><td>1</td><td>1</td><td>1</td></tr>\n",
       "\t<tr><td>0</td><td>0</td><td>1</td><td>1</td><td>1</td><td>1</td></tr>\n",
       "\t<tr><td>0</td><td>0</td><td>1</td><td>1</td><td>1</td><td>1</td></tr>\n",
       "\t<tr><td>0</td><td>0</td><td>1</td><td>1</td><td>1</td><td>1</td></tr>\n",
       "\t<tr><td>0</td><td>0</td><td>1</td><td>1</td><td>1</td><td>1</td></tr>\n",
       "\t<tr><td>0</td><td>0</td><td>1</td><td>1</td><td>1</td><td>1</td></tr>\n",
       "\t<tr><td>0</td><td>0</td><td>1</td><td>1</td><td>1</td><td>1</td></tr>\n",
       "\t<tr><td>0</td><td>0</td><td>1</td><td>1</td><td>1</td><td>1</td></tr>\n",
       "</tbody>\n",
       "</table>\n"
      ],
      "text/latex": [
       "A matrix: 8 × 6 of type dbl\n",
       "\\begin{tabular}{llllll}\n",
       "\t 0 & 0 & 1 & 1 & 1 & 1\\\\\n",
       "\t 0 & 0 & 1 & 1 & 1 & 1\\\\\n",
       "\t 0 & 0 & 1 & 1 & 1 & 1\\\\\n",
       "\t 0 & 0 & 1 & 1 & 1 & 1\\\\\n",
       "\t 0 & 0 & 1 & 1 & 1 & 1\\\\\n",
       "\t 0 & 0 & 1 & 1 & 1 & 1\\\\\n",
       "\t 0 & 0 & 1 & 1 & 1 & 1\\\\\n",
       "\t 0 & 0 & 1 & 1 & 1 & 1\\\\\n",
       "\\end{tabular}\n"
      ],
      "text/markdown": [
       "\n",
       "A matrix: 8 × 6 of type dbl\n",
       "\n",
       "| 0 | 0 | 1 | 1 | 1 | 1 |\n",
       "| 0 | 0 | 1 | 1 | 1 | 1 |\n",
       "| 0 | 0 | 1 | 1 | 1 | 1 |\n",
       "| 0 | 0 | 1 | 1 | 1 | 1 |\n",
       "| 0 | 0 | 1 | 1 | 1 | 1 |\n",
       "| 0 | 0 | 1 | 1 | 1 | 1 |\n",
       "| 0 | 0 | 1 | 1 | 1 | 1 |\n",
       "| 0 | 0 | 1 | 1 | 1 | 1 |\n",
       "\n"
      ],
      "text/plain": [
       "     [,1] [,2] [,3] [,4] [,5] [,6]\n",
       "[1,] 0    0    1    1    1    1   \n",
       "[2,] 0    0    1    1    1    1   \n",
       "[3,] 0    0    1    1    1    1   \n",
       "[4,] 0    0    1    1    1    1   \n",
       "[5,] 0    0    1    1    1    1   \n",
       "[6,] 0    0    1    1    1    1   \n",
       "[7,] 0    0    1    1    1    1   \n",
       "[8,] 0    0    1    1    1    1   "
      ]
     },
     "metadata": {},
     "output_type": "display_data"
    }
   ],
   "source": [
    "M3 <- cbind(M1,M2)\n",
    "M3"
   ]
  },
  {
   "cell_type": "code",
   "execution_count": 141,
   "metadata": {},
   "outputs": [
    {
     "name": "stdout",
     "output_type": "stream",
     "text": [
      "     [,1] [,2] [,3] [,4] [,5] [,6]\n",
      "[1,]    2    2    3    4    5    1\n",
      "[2,]    1    5    5    9    8    2\n"
     ]
    }
   ],
   "source": [
    "M4 = matrix(c(2,2,3,4,5,1,1,5,5,9,8,2), nrow =2, byrow = TRUE)\n",
    "print(M4)"
   ]
  },
  {
   "cell_type": "code",
   "execution_count": 142,
   "metadata": {},
   "outputs": [
    {
     "name": "stdout",
     "output_type": "stream",
     "text": [
      "      [,1] [,2] [,3] [,4] [,5] [,6]\n",
      " [1,]    0    0    1    1    1    1\n",
      " [2,]    0    0    1    1    1    1\n",
      " [3,]    0    0    1    1    1    1\n",
      " [4,]    0    0    1    1    1    1\n",
      " [5,]    0    0    1    1    1    1\n",
      " [6,]    0    0    1    1    1    1\n",
      " [7,]    0    0    1    1    1    1\n",
      " [8,]    0    0    1    1    1    1\n",
      " [9,]    2    2    3    4    5    1\n",
      "[10,]    1    5    5    9    8    2\n"
     ]
    }
   ],
   "source": [
    "M5 <- rbind(M3,M4)\n",
    "print(M5)"
   ]
  },
  {
   "cell_type": "markdown",
   "metadata": {},
   "source": [
    "#### DataFrame\n",
    "This data structure does not require that all members be of the same data type."
   ]
  },
  {
   "cell_type": "code",
   "execution_count": 143,
   "metadata": {},
   "outputs": [
    {
     "data": {
      "text/html": [
       "<table class=\"dataframe\">\n",
       "<caption>A data.frame: 8 × 4</caption>\n",
       "<thead>\n",
       "\t<tr><th scope=col>Student_Name</th><th scope=col>Age</th><th scope=col>Gender</th><th scope=col>GPA</th></tr>\n",
       "\t<tr><th scope=col>&lt;chr&gt;</th><th scope=col>&lt;dbl&gt;</th><th scope=col>&lt;chr&gt;</th><th scope=col>&lt;dbl&gt;</th></tr>\n",
       "</thead>\n",
       "<tbody>\n",
       "\t<tr><td>Amy   </td><td>27</td><td>F</td><td>3.26</td></tr>\n",
       "\t<tr><td>Bob   </td><td>55</td><td>M</td><td>3.75</td></tr>\n",
       "\t<tr><td>Chuck </td><td>34</td><td>M</td><td>2.98</td></tr>\n",
       "\t<tr><td>Daisy </td><td>42</td><td>F</td><td>3.40</td></tr>\n",
       "\t<tr><td>Ellie </td><td>20</td><td>F</td><td>2.75</td></tr>\n",
       "\t<tr><td>Frank </td><td>27</td><td>M</td><td>3.32</td></tr>\n",
       "\t<tr><td>George</td><td>34</td><td>M</td><td>3.68</td></tr>\n",
       "\t<tr><td>Helen </td><td>42</td><td>F</td><td>3.97</td></tr>\n",
       "</tbody>\n",
       "</table>\n"
      ],
      "text/latex": [
       "A data.frame: 8 × 4\n",
       "\\begin{tabular}{llll}\n",
       " Student\\_Name & Age & Gender & GPA\\\\\n",
       " <chr> & <dbl> & <chr> & <dbl>\\\\\n",
       "\\hline\n",
       "\t Amy    & 27 & F & 3.26\\\\\n",
       "\t Bob    & 55 & M & 3.75\\\\\n",
       "\t Chuck  & 34 & M & 2.98\\\\\n",
       "\t Daisy  & 42 & F & 3.40\\\\\n",
       "\t Ellie  & 20 & F & 2.75\\\\\n",
       "\t Frank  & 27 & M & 3.32\\\\\n",
       "\t George & 34 & M & 3.68\\\\\n",
       "\t Helen  & 42 & F & 3.97\\\\\n",
       "\\end{tabular}\n"
      ],
      "text/markdown": [
       "\n",
       "A data.frame: 8 × 4\n",
       "\n",
       "| Student_Name &lt;chr&gt; | Age &lt;dbl&gt; | Gender &lt;chr&gt; | GPA &lt;dbl&gt; |\n",
       "|---|---|---|---|\n",
       "| Amy    | 27 | F | 3.26 |\n",
       "| Bob    | 55 | M | 3.75 |\n",
       "| Chuck  | 34 | M | 2.98 |\n",
       "| Daisy  | 42 | F | 3.40 |\n",
       "| Ellie  | 20 | F | 2.75 |\n",
       "| Frank  | 27 | M | 3.32 |\n",
       "| George | 34 | M | 3.68 |\n",
       "| Helen  | 42 | F | 3.97 |\n",
       "\n"
      ],
      "text/plain": [
       "  Student_Name Age Gender GPA \n",
       "1 Amy          27  F      3.26\n",
       "2 Bob          55  M      3.75\n",
       "3 Chuck        34  M      2.98\n",
       "4 Daisy        42  F      3.40\n",
       "5 Ellie        20  F      2.75\n",
       "6 Frank        27  M      3.32\n",
       "7 George       34  M      3.68\n",
       "8 Helen        42  F      3.97"
      ]
     },
     "metadata": {},
     "output_type": "display_data"
    }
   ],
   "source": [
    "Student_Name <- c(\"Amy\", \"Bob\", \"Chuck\", \"Daisy\", \"Ellie\", \"Frank\", \n",
    "                  \"George\", \"Helen\")\n",
    "\n",
    "Age <- c(27, 55, 34, 42, 20, 27, 34, 42)\n",
    "\n",
    "Gender <- c(\"F\", \"M\", \"M\", \"F\", \"F\", \"M\", \"M\", \"F\")\n",
    "\n",
    "GPA <- c(3.26, 3.75, 2.98, 3.40, 2.75, 3.32, 3.68, 3.97)\n",
    "\n",
    "nsc <- data.frame(Student_Name, Age, Gender, GPA)   # Naming the data frame\n",
    "nsc # Generates the data frame"
   ]
  },
  {
   "cell_type": "code",
   "execution_count": 144,
   "metadata": {},
   "outputs": [
    {
     "data": {
      "text/html": [
       "<style>\n",
       ".list-inline {list-style: none; margin:0; padding: 0}\n",
       ".list-inline>li {display: inline-block}\n",
       ".list-inline>li:not(:last-child)::after {content: \"\\00b7\"; padding: 0 .5ex}\n",
       "</style>\n",
       "<ol class=list-inline><li>'Student_Name'</li><li>'Age'</li><li>'Gender'</li><li>'GPA'</li></ol>\n"
      ],
      "text/latex": [
       "\\begin{enumerate*}\n",
       "\\item 'Student\\_Name'\n",
       "\\item 'Age'\n",
       "\\item 'Gender'\n",
       "\\item 'GPA'\n",
       "\\end{enumerate*}\n"
      ],
      "text/markdown": [
       "1. 'Student_Name'\n",
       "2. 'Age'\n",
       "3. 'Gender'\n",
       "4. 'GPA'\n",
       "\n",
       "\n"
      ],
      "text/plain": [
       "[1] \"Student_Name\" \"Age\"          \"Gender\"       \"GPA\"         "
      ]
     },
     "metadata": {},
     "output_type": "display_data"
    }
   ],
   "source": [
    "# Lists variables\n",
    "names(nsc)   "
   ]
  },
  {
   "cell_type": "code",
   "execution_count": 145,
   "metadata": {},
   "outputs": [],
   "source": [
    "select_col <- c(1,3)\n",
    "select_row <- c(1,5)"
   ]
  },
  {
   "cell_type": "code",
   "execution_count": 146,
   "metadata": {},
   "outputs": [
    {
     "data": {
      "text/html": [
       "<table class=\"dataframe\">\n",
       "<caption>A data.frame: 2 × 2</caption>\n",
       "<thead>\n",
       "\t<tr><th></th><th scope=col>Student_Name</th><th scope=col>Gender</th></tr>\n",
       "\t<tr><th></th><th scope=col>&lt;chr&gt;</th><th scope=col>&lt;chr&gt;</th></tr>\n",
       "</thead>\n",
       "<tbody>\n",
       "\t<tr><th scope=row>1</th><td>Amy  </td><td>F</td></tr>\n",
       "\t<tr><th scope=row>5</th><td>Ellie</td><td>F</td></tr>\n",
       "</tbody>\n",
       "</table>\n"
      ],
      "text/latex": [
       "A data.frame: 2 × 2\n",
       "\\begin{tabular}{r|ll}\n",
       "  & Student\\_Name & Gender\\\\\n",
       "  & <chr> & <chr>\\\\\n",
       "\\hline\n",
       "\t1 & Amy   & F\\\\\n",
       "\t5 & Ellie & F\\\\\n",
       "\\end{tabular}\n"
      ],
      "text/markdown": [
       "\n",
       "A data.frame: 2 × 2\n",
       "\n",
       "| <!--/--> | Student_Name &lt;chr&gt; | Gender &lt;chr&gt; |\n",
       "|---|---|---|\n",
       "| 1 | Amy   | F |\n",
       "| 5 | Ellie | F |\n",
       "\n"
      ],
      "text/plain": [
       "  Student_Name Gender\n",
       "1 Amy          F     \n",
       "5 Ellie        F     "
      ]
     },
     "metadata": {},
     "output_type": "display_data"
    }
   ],
   "source": [
    "nsc[select_row, select_col]"
   ]
  },
  {
   "cell_type": "code",
   "execution_count": 147,
   "metadata": {},
   "outputs": [
    {
     "data": {
      "text/html": [
       "<table class=\"dataframe\">\n",
       "<caption>A data.frame: 3 × 3</caption>\n",
       "<thead>\n",
       "\t<tr><th></th><th scope=col>Age</th><th scope=col>Gender</th><th scope=col>GPA</th></tr>\n",
       "\t<tr><th></th><th scope=col>&lt;dbl&gt;</th><th scope=col>&lt;chr&gt;</th><th scope=col>&lt;dbl&gt;</th></tr>\n",
       "</thead>\n",
       "<tbody>\n",
       "\t<tr><th scope=row>3</th><td>34</td><td>M</td><td>2.98</td></tr>\n",
       "\t<tr><th scope=row>4</th><td>42</td><td>F</td><td>3.40</td></tr>\n",
       "\t<tr><th scope=row>5</th><td>20</td><td>F</td><td>2.75</td></tr>\n",
       "</tbody>\n",
       "</table>\n"
      ],
      "text/latex": [
       "A data.frame: 3 × 3\n",
       "\\begin{tabular}{r|lll}\n",
       "  & Age & Gender & GPA\\\\\n",
       "  & <dbl> & <chr> & <dbl>\\\\\n",
       "\\hline\n",
       "\t3 & 34 & M & 2.98\\\\\n",
       "\t4 & 42 & F & 3.40\\\\\n",
       "\t5 & 20 & F & 2.75\\\\\n",
       "\\end{tabular}\n"
      ],
      "text/markdown": [
       "\n",
       "A data.frame: 3 × 3\n",
       "\n",
       "| <!--/--> | Age &lt;dbl&gt; | Gender &lt;chr&gt; | GPA &lt;dbl&gt; |\n",
       "|---|---|---|---|\n",
       "| 3 | 34 | M | 2.98 |\n",
       "| 4 | 42 | F | 3.40 |\n",
       "| 5 | 20 | F | 2.75 |\n",
       "\n"
      ],
      "text/plain": [
       "  Age Gender GPA \n",
       "3 34  M      2.98\n",
       "4 42  F      3.40\n",
       "5 20  F      2.75"
      ]
     },
     "metadata": {},
     "output_type": "display_data"
    }
   ],
   "source": [
    "# indexing dataframes\n",
    "nsc[3:5 , 2:4]   "
   ]
  },
  {
   "cell_type": "code",
   "execution_count": 148,
   "metadata": {},
   "outputs": [
    {
     "data": {
      "text/html": [
       "<table class=\"dataframe\">\n",
       "<caption>A data.frame: 4 × 2</caption>\n",
       "<thead>\n",
       "\t<tr><th></th><th scope=col>Gender</th><th scope=col>Age</th></tr>\n",
       "\t<tr><th></th><th scope=col>&lt;chr&gt;</th><th scope=col>&lt;dbl&gt;</th></tr>\n",
       "</thead>\n",
       "<tbody>\n",
       "\t<tr><th scope=row>1</th><td>F</td><td>27</td></tr>\n",
       "\t<tr><th scope=row>2</th><td>M</td><td>55</td></tr>\n",
       "\t<tr><th scope=row>4</th><td>F</td><td>42</td></tr>\n",
       "\t<tr><th scope=row>6</th><td>M</td><td>27</td></tr>\n",
       "</tbody>\n",
       "</table>\n"
      ],
      "text/latex": [
       "A data.frame: 4 × 2\n",
       "\\begin{tabular}{r|ll}\n",
       "  & Gender & Age\\\\\n",
       "  & <chr> & <dbl>\\\\\n",
       "\\hline\n",
       "\t1 & F & 27\\\\\n",
       "\t2 & M & 55\\\\\n",
       "\t4 & F & 42\\\\\n",
       "\t6 & M & 27\\\\\n",
       "\\end{tabular}\n"
      ],
      "text/markdown": [
       "\n",
       "A data.frame: 4 × 2\n",
       "\n",
       "| <!--/--> | Gender &lt;chr&gt; | Age &lt;dbl&gt; |\n",
       "|---|---|---|\n",
       "| 1 | F | 27 |\n",
       "| 2 | M | 55 |\n",
       "| 4 | F | 42 |\n",
       "| 6 | M | 27 |\n",
       "\n"
      ],
      "text/plain": [
       "  Gender Age\n",
       "1 F      27 \n",
       "2 M      55 \n",
       "4 F      42 \n",
       "6 M      27 "
      ]
     },
     "metadata": {},
     "output_type": "display_data"
    }
   ],
   "source": [
    "# indexing dataframes\n",
    "nsc[ c( 1 , 2 , 4, 6 ) , c( 3 , 2 ) ]"
   ]
  },
  {
   "cell_type": "code",
   "execution_count": 149,
   "metadata": {},
   "outputs": [
    {
     "data": {
      "text/html": [
       "<style>\n",
       ".list-inline {list-style: none; margin:0; padding: 0}\n",
       ".list-inline>li {display: inline-block}\n",
       ".list-inline>li:not(:last-child)::after {content: \"\\00b7\"; padding: 0 .5ex}\n",
       "</style>\n",
       "<ol class=list-inline><li>'Amy'</li><li>'Bob'</li><li>'Chuck'</li><li>'Daisy'</li><li>'Ellie'</li><li>'Frank'</li><li>'George'</li><li>'Helen'</li></ol>\n"
      ],
      "text/latex": [
       "\\begin{enumerate*}\n",
       "\\item 'Amy'\n",
       "\\item 'Bob'\n",
       "\\item 'Chuck'\n",
       "\\item 'Daisy'\n",
       "\\item 'Ellie'\n",
       "\\item 'Frank'\n",
       "\\item 'George'\n",
       "\\item 'Helen'\n",
       "\\end{enumerate*}\n"
      ],
      "text/markdown": [
       "1. 'Amy'\n",
       "2. 'Bob'\n",
       "3. 'Chuck'\n",
       "4. 'Daisy'\n",
       "5. 'Ellie'\n",
       "6. 'Frank'\n",
       "7. 'George'\n",
       "8. 'Helen'\n",
       "\n",
       "\n"
      ],
      "text/plain": [
       "[1] \"Amy\"    \"Bob\"    \"Chuck\"  \"Daisy\"  \"Ellie\"  \"Frank\"  \"George\" \"Helen\" "
      ]
     },
     "metadata": {},
     "output_type": "display_data"
    }
   ],
   "source": [
    "nsc$Student_Name"
   ]
  },
  {
   "cell_type": "markdown",
   "metadata": {},
   "source": [
    "## Load  files : CSV, Excel\n",
    "## Working with DataFrames"
   ]
  },
  {
   "cell_type": "code",
   "execution_count": 2,
   "metadata": {},
   "outputs": [],
   "source": [
    "#install.packages(\"readxl\")\n",
    "library(readxl)"
   ]
  },
  {
   "cell_type": "code",
   "execution_count": 4,
   "metadata": {},
   "outputs": [
    {
     "name": "stderr",
     "output_type": "stream",
     "text": [
      "New names:\n",
      "* `` -> ...1\n",
      "\n"
     ]
    },
    {
     "data": {
      "text/html": [
       "<table class=\"dataframe\">\n",
       "<caption>A data.frame: 5150 × 21</caption>\n",
       "<thead>\n",
       "\t<tr><th scope=col>...1</th><th scope=col>wage</th><th scope=col>lwage</th><th scope=col>sex</th><th scope=col>shs</th><th scope=col>hsg</th><th scope=col>scl</th><th scope=col>clg</th><th scope=col>ad</th><th scope=col>mw</th><th scope=col>...</th><th scope=col>we</th><th scope=col>ne</th><th scope=col>exp1</th><th scope=col>exp2</th><th scope=col>exp3</th><th scope=col>exp4</th><th scope=col>occ</th><th scope=col>occ2</th><th scope=col>ind</th><th scope=col>ind2</th></tr>\n",
       "\t<tr><th scope=col>&lt;dbl&gt;</th><th scope=col>&lt;dbl&gt;</th><th scope=col>&lt;dbl&gt;</th><th scope=col>&lt;dbl&gt;</th><th scope=col>&lt;dbl&gt;</th><th scope=col>&lt;dbl&gt;</th><th scope=col>&lt;dbl&gt;</th><th scope=col>&lt;dbl&gt;</th><th scope=col>&lt;dbl&gt;</th><th scope=col>&lt;dbl&gt;</th><th scope=col>...</th><th scope=col>&lt;dbl&gt;</th><th scope=col>&lt;dbl&gt;</th><th scope=col>&lt;dbl&gt;</th><th scope=col>&lt;dbl&gt;</th><th scope=col>&lt;dbl&gt;</th><th scope=col>&lt;dbl&gt;</th><th scope=col>&lt;dbl&gt;</th><th scope=col>&lt;dbl&gt;</th><th scope=col>&lt;dbl&gt;</th><th scope=col>&lt;dbl&gt;</th></tr>\n",
       "</thead>\n",
       "<tbody>\n",
       "\t<tr><td> 10</td><td> 9.615385</td><td>2.263364</td><td>1</td><td>0</td><td>0</td><td>0</td><td>1</td><td>0</td><td>0</td><td>...</td><td>0</td><td>1</td><td> 7.0</td><td> 0.4900</td><td> 0.343000</td><td>  0.24010000</td><td>3600</td><td>11</td><td>8370</td><td>18</td></tr>\n",
       "\t<tr><td> 12</td><td>48.076923</td><td>3.872802</td><td>0</td><td>0</td><td>0</td><td>0</td><td>1</td><td>0</td><td>0</td><td>...</td><td>0</td><td>1</td><td>31.0</td><td> 9.6100</td><td>29.791000</td><td> 92.35210000</td><td>3050</td><td>10</td><td>5070</td><td> 9</td></tr>\n",
       "\t<tr><td> 15</td><td>11.057692</td><td>2.403126</td><td>0</td><td>0</td><td>1</td><td>0</td><td>0</td><td>0</td><td>0</td><td>...</td><td>0</td><td>1</td><td>18.0</td><td> 3.2400</td><td> 5.832000</td><td> 10.49760000</td><td>6260</td><td>19</td><td> 770</td><td> 4</td></tr>\n",
       "\t<tr><td> 18</td><td>13.942308</td><td>2.634928</td><td>1</td><td>0</td><td>0</td><td>0</td><td>0</td><td>1</td><td>0</td><td>...</td><td>0</td><td>1</td><td>25.0</td><td> 6.2500</td><td>15.625000</td><td> 39.06250000</td><td> 420</td><td> 1</td><td>6990</td><td>12</td></tr>\n",
       "\t<tr><td> 19</td><td>28.846154</td><td>3.361977</td><td>1</td><td>0</td><td>0</td><td>0</td><td>1</td><td>0</td><td>0</td><td>...</td><td>0</td><td>1</td><td>22.0</td><td> 4.8400</td><td>10.648000</td><td> 23.42560000</td><td>2015</td><td> 6</td><td>9470</td><td>22</td></tr>\n",
       "\t<tr><td> 30</td><td>11.730769</td><td>2.462215</td><td>1</td><td>0</td><td>0</td><td>0</td><td>1</td><td>0</td><td>0</td><td>...</td><td>0</td><td>1</td><td> 1.0</td><td> 0.0100</td><td> 0.001000</td><td>  0.00010000</td><td>1650</td><td> 5</td><td>7460</td><td>14</td></tr>\n",
       "\t<tr><td> 43</td><td>19.230769</td><td>2.956512</td><td>1</td><td>0</td><td>1</td><td>0</td><td>0</td><td>0</td><td>0</td><td>...</td><td>0</td><td>1</td><td>42.0</td><td>17.6400</td><td>74.088000</td><td>311.16960000</td><td>5120</td><td>17</td><td>7280</td><td>14</td></tr>\n",
       "\t<tr><td> 44</td><td>19.230769</td><td>2.956512</td><td>0</td><td>0</td><td>1</td><td>0</td><td>0</td><td>0</td><td>0</td><td>...</td><td>0</td><td>1</td><td>37.0</td><td>13.6900</td><td>50.653000</td><td>187.41610000</td><td>5240</td><td>17</td><td>5680</td><td> 9</td></tr>\n",
       "\t<tr><td> 47</td><td>12.000000</td><td>2.484907</td><td>1</td><td>0</td><td>1</td><td>0</td><td>0</td><td>0</td><td>0</td><td>...</td><td>0</td><td>1</td><td>31.0</td><td> 9.6100</td><td>29.791000</td><td> 92.35210000</td><td>4040</td><td>13</td><td>8590</td><td>19</td></tr>\n",
       "\t<tr><td> 71</td><td>19.230769</td><td>2.956512</td><td>1</td><td>0</td><td>0</td><td>0</td><td>1</td><td>0</td><td>0</td><td>...</td><td>0</td><td>1</td><td> 4.0</td><td> 0.1600</td><td> 0.064000</td><td>  0.02560000</td><td>3255</td><td>10</td><td>8190</td><td>18</td></tr>\n",
       "\t<tr><td> 73</td><td>17.307692</td><td>2.851151</td><td>1</td><td>0</td><td>1</td><td>0</td><td>0</td><td>0</td><td>0</td><td>...</td><td>0</td><td>1</td><td> 7.0</td><td> 0.4900</td><td> 0.343000</td><td>  0.24010000</td><td>4020</td><td>13</td><td>8270</td><td>18</td></tr>\n",
       "\t<tr><td> 77</td><td>12.019231</td><td>2.486508</td><td>0</td><td>0</td><td>1</td><td>0</td><td>0</td><td>0</td><td>0</td><td>...</td><td>0</td><td>1</td><td>30.0</td><td> 9.0000</td><td>27.000000</td><td> 81.00000000</td><td>4220</td><td>14</td><td>8270</td><td>18</td></tr>\n",
       "\t<tr><td> 84</td><td>12.019231</td><td>2.486508</td><td>1</td><td>0</td><td>0</td><td>1</td><td>0</td><td>0</td><td>0</td><td>...</td><td>0</td><td>1</td><td> 5.5</td><td> 0.3025</td><td> 0.166375</td><td>  0.09150625</td><td>3600</td><td>11</td><td>8270</td><td>18</td></tr>\n",
       "\t<tr><td> 89</td><td>13.461538</td><td>2.599837</td><td>1</td><td>0</td><td>0</td><td>1</td><td>0</td><td>0</td><td>0</td><td>...</td><td>0</td><td>1</td><td>20.5</td><td> 4.2025</td><td> 8.615125</td><td> 17.66100625</td><td>3645</td><td>11</td><td>8190</td><td>18</td></tr>\n",
       "\t<tr><td> 96</td><td>16.346154</td><td>2.793993</td><td>1</td><td>0</td><td>0</td><td>0</td><td>1</td><td>0</td><td>0</td><td>...</td><td>0</td><td>1</td><td>25.0</td><td> 6.2500</td><td>15.625000</td><td> 39.06250000</td><td> 110</td><td> 1</td><td>7870</td><td>17</td></tr>\n",
       "\t<tr><td>113</td><td>27.884615</td><td>3.328075</td><td>0</td><td>0</td><td>1</td><td>0</td><td>0</td><td>0</td><td>0</td><td>...</td><td>0</td><td>1</td><td>16.0</td><td> 2.5600</td><td> 4.096000</td><td>  6.55360000</td><td>6355</td><td>19</td><td> 770</td><td> 4</td></tr>\n",
       "\t<tr><td>115</td><td>21.600000</td><td>3.072693</td><td>0</td><td>0</td><td>1</td><td>0</td><td>0</td><td>0</td><td>0</td><td>...</td><td>0</td><td>1</td><td>27.0</td><td> 7.2900</td><td>19.683000</td><td> 53.14410000</td><td>6320</td><td>19</td><td> 770</td><td> 4</td></tr>\n",
       "\t<tr><td>119</td><td> 8.653846</td><td>2.158004</td><td>0</td><td>0</td><td>0</td><td>1</td><td>0</td><td>0</td><td>0</td><td>...</td><td>0</td><td>1</td><td> 3.5</td><td> 0.1225</td><td> 0.042875</td><td>  0.01500625</td><td>7410</td><td>20</td><td> 570</td><td> 3</td></tr>\n",
       "\t<tr><td>128</td><td>19.230769</td><td>2.956512</td><td>0</td><td>0</td><td>1</td><td>0</td><td>0</td><td>0</td><td>0</td><td>...</td><td>0</td><td>1</td><td> 6.0</td><td> 0.3600</td><td> 0.216000</td><td>  0.12960000</td><td>7000</td><td>20</td><td>4690</td><td> 9</td></tr>\n",
       "\t<tr><td>129</td><td>13.186813</td><td>2.579217</td><td>0</td><td>0</td><td>1</td><td>0</td><td>0</td><td>0</td><td>0</td><td>...</td><td>0</td><td>1</td><td> 8.0</td><td> 0.6400</td><td> 0.512000</td><td>  0.40960000</td><td>4000</td><td>13</td><td>8680</td><td>20</td></tr>\n",
       "\t<tr><td>135</td><td>10.683761</td><td>2.368725</td><td>1</td><td>0</td><td>0</td><td>1</td><td>0</td><td>0</td><td>0</td><td>...</td><td>0</td><td>1</td><td> 6.5</td><td> 0.4225</td><td> 0.274625</td><td>  0.17850625</td><td>4300</td><td>15</td><td>8590</td><td>19</td></tr>\n",
       "\t<tr><td>144</td><td>11.538462</td><td>2.445686</td><td>1</td><td>0</td><td>0</td><td>1</td><td>0</td><td>0</td><td>0</td><td>...</td><td>0</td><td>1</td><td> 8.5</td><td> 0.7225</td><td> 0.614125</td><td>  0.52200625</td><td>3600</td><td>11</td><td>8190</td><td>18</td></tr>\n",
       "\t<tr><td>145</td><td>17.788462</td><td>2.878550</td><td>1</td><td>0</td><td>0</td><td>0</td><td>0</td><td>1</td><td>0</td><td>...</td><td>0</td><td>1</td><td>11.0</td><td> 1.2100</td><td> 1.331000</td><td>  1.46410000</td><td>2310</td><td> 8</td><td>7860</td><td>17</td></tr>\n",
       "\t<tr><td>149</td><td>19.230769</td><td>2.956512</td><td>0</td><td>0</td><td>0</td><td>0</td><td>1</td><td>0</td><td>0</td><td>...</td><td>0</td><td>1</td><td>11.0</td><td> 1.2100</td><td> 1.331000</td><td>  1.46410000</td><td>6200</td><td>19</td><td> 770</td><td> 4</td></tr>\n",
       "\t<tr><td>152</td><td>16.304348</td><td>2.791432</td><td>1</td><td>0</td><td>0</td><td>1</td><td>0</td><td>0</td><td>0</td><td>...</td><td>0</td><td>1</td><td>24.5</td><td> 6.0025</td><td>14.706125</td><td> 36.03000625</td><td>  20</td><td> 1</td><td>5480</td><td> 9</td></tr>\n",
       "\t<tr><td>157</td><td>19.230769</td><td>2.956512</td><td>0</td><td>0</td><td>1</td><td>0</td><td>0</td><td>0</td><td>0</td><td>...</td><td>0</td><td>1</td><td> 8.0</td><td> 0.6400</td><td> 0.512000</td><td>  0.40960000</td><td>4800</td><td>16</td><td>7390</td><td>14</td></tr>\n",
       "\t<tr><td>158</td><td>14.423077</td><td>2.668829</td><td>1</td><td>0</td><td>1</td><td>0</td><td>0</td><td>0</td><td>0</td><td>...</td><td>0</td><td>1</td><td> 5.0</td><td> 0.2500</td><td> 0.125000</td><td>  0.06250000</td><td> 430</td><td> 1</td><td>7390</td><td>14</td></tr>\n",
       "\t<tr><td>160</td><td>12.000000</td><td>2.484907</td><td>0</td><td>0</td><td>0</td><td>1</td><td>0</td><td>0</td><td>0</td><td>...</td><td>0</td><td>1</td><td> 4.5</td><td> 0.2025</td><td> 0.091125</td><td>  0.04100625</td><td>6330</td><td>19</td><td> 770</td><td> 4</td></tr>\n",
       "\t<tr><td>164</td><td>16.826923</td><td>2.822980</td><td>0</td><td>0</td><td>0</td><td>0</td><td>1</td><td>0</td><td>0</td><td>...</td><td>0</td><td>1</td><td> 8.0</td><td> 0.6400</td><td> 0.512000</td><td>  0.40960000</td><td>5400</td><td>17</td><td>4870</td><td> 9</td></tr>\n",
       "\t<tr><td>176</td><td>19.670330</td><td>2.979111</td><td>0</td><td>0</td><td>0</td><td>0</td><td>1</td><td>0</td><td>0</td><td>...</td><td>0</td><td>1</td><td>26.0</td><td> 6.7600</td><td>17.576000</td><td> 45.69760000</td><td>6230</td><td>19</td><td>6570</td><td>11</td></tr>\n",
       "\t<tr><td>...</td><td>...</td><td>...</td><td>...</td><td>...</td><td>...</td><td>...</td><td>...</td><td>...</td><td>...</td><td></td><td>...</td><td>...</td><td>...</td><td>...</td><td>...</td><td>...</td><td>...</td><td>...</td><td>...</td><td>...</td></tr>\n",
       "\t<tr><td>32537</td><td>13.986014</td><td>2.638058</td><td>1</td><td>0</td><td>0</td><td>0</td><td>0</td><td>1</td><td>0</td><td>...</td><td>1</td><td>0</td><td> 7.0</td><td> 0.4900</td><td> 0.343000</td><td>  0.2401000</td><td>3820</td><td>12</td><td>9590</td><td>22</td></tr>\n",
       "\t<tr><td>32538</td><td>15.865385</td><td>2.764140</td><td>0</td><td>0</td><td>0</td><td>0</td><td>0</td><td>1</td><td>0</td><td>...</td><td>1</td><td>0</td><td> 2.0</td><td> 0.0400</td><td> 0.008000</td><td>  0.0016000</td><td>2200</td><td> 8</td><td>7870</td><td>17</td></tr>\n",
       "\t<tr><td>32539</td><td>38.461538</td><td>3.649659</td><td>1</td><td>0</td><td>0</td><td>1</td><td>0</td><td>0</td><td>0</td><td>...</td><td>1</td><td>0</td><td> 7.5</td><td> 0.5625</td><td> 0.421875</td><td>  0.3164062</td><td> 220</td><td> 1</td><td> 770</td><td> 4</td></tr>\n",
       "\t<tr><td>32540</td><td>28.846154</td><td>3.361977</td><td>0</td><td>0</td><td>0</td><td>0</td><td>1</td><td>0</td><td>0</td><td>...</td><td>1</td><td>0</td><td> 5.0</td><td> 0.2500</td><td> 0.125000</td><td>  0.0625000</td><td>1360</td><td> 4</td><td> 770</td><td> 4</td></tr>\n",
       "\t<tr><td>32548</td><td>24.475524</td><td>3.197674</td><td>1</td><td>0</td><td>0</td><td>0</td><td>0</td><td>1</td><td>0</td><td>...</td><td>1</td><td>0</td><td>24.0</td><td> 5.7600</td><td>13.824000</td><td> 33.1776000</td><td>2310</td><td> 8</td><td>7860</td><td>17</td></tr>\n",
       "\t<tr><td>32551</td><td>27.884615</td><td>3.328075</td><td>0</td><td>0</td><td>0</td><td>1</td><td>0</td><td>0</td><td>0</td><td>...</td><td>1</td><td>0</td><td>28.5</td><td> 8.1225</td><td>23.149125</td><td> 65.9750063</td><td>8140</td><td>21</td><td> 770</td><td> 4</td></tr>\n",
       "\t<tr><td>32559</td><td> 8.653846</td><td>2.158004</td><td>1</td><td>0</td><td>1</td><td>0</td><td>0</td><td>0</td><td>0</td><td>...</td><td>1</td><td>0</td><td>25.0</td><td> 6.2500</td><td>15.625000</td><td> 39.0625000</td><td>3930</td><td>12</td><td>7680</td><td>16</td></tr>\n",
       "\t<tr><td>32560</td><td>12.019231</td><td>2.486508</td><td>0</td><td>0</td><td>1</td><td>0</td><td>0</td><td>0</td><td>0</td><td>...</td><td>1</td><td>0</td><td>19.0</td><td> 3.6100</td><td> 6.859000</td><td> 13.0321000</td><td>2750</td><td> 9</td><td>8560</td><td>19</td></tr>\n",
       "\t<tr><td>32561</td><td>38.461538</td><td>3.649659</td><td>0</td><td>0</td><td>0</td><td>0</td><td>1</td><td>0</td><td>0</td><td>...</td><td>1</td><td>0</td><td> 8.0</td><td> 0.6400</td><td> 0.512000</td><td>  0.4096000</td><td> 710</td><td> 2</td><td>6870</td><td>12</td></tr>\n",
       "\t<tr><td>32564</td><td>12.500000</td><td>2.525729</td><td>1</td><td>0</td><td>1</td><td>0</td><td>0</td><td>0</td><td>0</td><td>...</td><td>1</td><td>0</td><td>12.0</td><td> 1.4400</td><td> 1.728000</td><td>  2.0736000</td><td>4010</td><td>13</td><td>8680</td><td>20</td></tr>\n",
       "\t<tr><td>32565</td><td>35.256410</td><td>3.562647</td><td>0</td><td>0</td><td>0</td><td>0</td><td>0</td><td>1</td><td>0</td><td>...</td><td>1</td><td>0</td><td> 6.0</td><td> 0.3600</td><td> 0.216000</td><td>  0.1296000</td><td>2320</td><td> 8</td><td>7860</td><td>17</td></tr>\n",
       "\t<tr><td>32567</td><td>48.076923</td><td>3.872802</td><td>1</td><td>0</td><td>0</td><td>0</td><td>1</td><td>0</td><td>0</td><td>...</td><td>1</td><td>0</td><td>25.0</td><td> 6.2500</td><td>15.625000</td><td> 39.0625000</td><td>3255</td><td>10</td><td>8170</td><td>18</td></tr>\n",
       "\t<tr><td>32571</td><td> 9.615385</td><td>2.263364</td><td>0</td><td>0</td><td>1</td><td>0</td><td>0</td><td>0</td><td>0</td><td>...</td><td>1</td><td>0</td><td>20.0</td><td> 4.0000</td><td> 8.000000</td><td> 16.0000000</td><td>4110</td><td>13</td><td>8680</td><td>20</td></tr>\n",
       "\t<tr><td>32572</td><td>12.019231</td><td>2.486508</td><td>0</td><td>0</td><td>1</td><td>0</td><td>0</td><td>0</td><td>0</td><td>...</td><td>1</td><td>0</td><td>17.0</td><td> 2.8900</td><td> 4.913000</td><td>  8.3521000</td><td>9620</td><td>22</td><td>6290</td><td>10</td></tr>\n",
       "\t<tr><td>32579</td><td>12.019231</td><td>2.486508</td><td>0</td><td>0</td><td>0</td><td>1</td><td>0</td><td>0</td><td>0</td><td>...</td><td>1</td><td>0</td><td>31.5</td><td> 9.9225</td><td>31.255875</td><td> 98.4560063</td><td>5510</td><td>17</td><td>6380</td><td>10</td></tr>\n",
       "\t<tr><td>32580</td><td>12.980769</td><td>2.563469</td><td>0</td><td>0</td><td>1</td><td>0</td><td>0</td><td>0</td><td>0</td><td>...</td><td>1</td><td>0</td><td>15.0</td><td> 2.2500</td><td> 3.375000</td><td>  5.0625000</td><td>2010</td><td> 6</td><td>9370</td><td>22</td></tr>\n",
       "\t<tr><td>32581</td><td>26.442308</td><td>3.274965</td><td>1</td><td>0</td><td>0</td><td>0</td><td>1</td><td>0</td><td>0</td><td>...</td><td>1</td><td>0</td><td>34.0</td><td>11.5600</td><td>39.304000</td><td>133.6336000</td><td>2310</td><td> 8</td><td>7860</td><td>17</td></tr>\n",
       "\t<tr><td>32590</td><td>13.461538</td><td>2.599837</td><td>1</td><td>0</td><td>1</td><td>0</td><td>0</td><td>0</td><td>0</td><td>...</td><td>1</td><td>0</td><td> 8.0</td><td> 0.6400</td><td> 0.512000</td><td>  0.4096000</td><td>4720</td><td>16</td><td>8590</td><td>19</td></tr>\n",
       "\t<tr><td>32591</td><td>19.711538</td><td>2.981204</td><td>1</td><td>0</td><td>0</td><td>0</td><td>0</td><td>1</td><td>0</td><td>...</td><td>1</td><td>0</td><td> 8.0</td><td> 0.6400</td><td> 0.512000</td><td>  0.4096000</td><td>2000</td><td> 6</td><td>8090</td><td>18</td></tr>\n",
       "\t<tr><td>32593</td><td>21.153846</td><td>3.051822</td><td>0</td><td>0</td><td>0</td><td>0</td><td>1</td><td>0</td><td>0</td><td>...</td><td>1</td><td>0</td><td>28.0</td><td> 7.8400</td><td>21.952000</td><td> 61.4656000</td><td>  40</td><td> 1</td><td>9170</td><td>21</td></tr>\n",
       "\t<tr><td>32596</td><td>45.546559</td><td>3.818735</td><td>1</td><td>0</td><td>0</td><td>0</td><td>1</td><td>0</td><td>0</td><td>...</td><td>1</td><td>0</td><td> 5.0</td><td> 0.2500</td><td> 0.125000</td><td>  0.0625000</td><td>3255</td><td>10</td><td>8190</td><td>18</td></tr>\n",
       "\t<tr><td>32599</td><td>22.596154</td><td>3.117780</td><td>0</td><td>0</td><td>1</td><td>0</td><td>0</td><td>0</td><td>0</td><td>...</td><td>1</td><td>0</td><td>15.0</td><td> 2.2500</td><td> 3.375000</td><td>  5.0625000</td><td>9620</td><td>22</td><td>5390</td><td> 9</td></tr>\n",
       "\t<tr><td>32603</td><td>16.826923</td><td>2.822980</td><td>0</td><td>0</td><td>1</td><td>0</td><td>0</td><td>0</td><td>0</td><td>...</td><td>1</td><td>0</td><td>11.0</td><td> 1.2100</td><td> 1.331000</td><td>  1.4641000</td><td>7150</td><td>20</td><td>8770</td><td>21</td></tr>\n",
       "\t<tr><td>32606</td><td>24.038462</td><td>3.179655</td><td>1</td><td>0</td><td>0</td><td>0</td><td>1</td><td>0</td><td>0</td><td>...</td><td>1</td><td>0</td><td>17.0</td><td> 2.8900</td><td> 4.913000</td><td>  8.3521000</td><td>2550</td><td> 8</td><td>9480</td><td>22</td></tr>\n",
       "\t<tr><td>32619</td><td>13.846154</td><td>2.628007</td><td>0</td><td>0</td><td>0</td><td>0</td><td>1</td><td>0</td><td>0</td><td>...</td><td>1</td><td>0</td><td>10.0</td><td> 1.0000</td><td> 1.000000</td><td>  1.0000000</td><td> 800</td><td> 2</td><td> 770</td><td> 4</td></tr>\n",
       "\t<tr><td>32620</td><td>14.769231</td><td>2.692546</td><td>0</td><td>0</td><td>0</td><td>0</td><td>1</td><td>0</td><td>0</td><td>...</td><td>1</td><td>0</td><td> 9.0</td><td> 0.8100</td><td> 0.729000</td><td>  0.6561000</td><td>4700</td><td>16</td><td>4970</td><td> 9</td></tr>\n",
       "\t<tr><td>32624</td><td>23.076923</td><td>3.138833</td><td>1</td><td>0</td><td>0</td><td>1</td><td>0</td><td>0</td><td>0</td><td>...</td><td>1</td><td>0</td><td>12.0</td><td> 1.4400</td><td> 1.728000</td><td>  2.0736000</td><td>4110</td><td>13</td><td>8680</td><td>20</td></tr>\n",
       "\t<tr><td>32626</td><td>38.461538</td><td>3.649659</td><td>0</td><td>0</td><td>0</td><td>0</td><td>0</td><td>1</td><td>0</td><td>...</td><td>1</td><td>0</td><td>11.0</td><td> 1.2100</td><td> 1.331000</td><td>  1.4641000</td><td>1550</td><td> 4</td><td>3680</td><td> 6</td></tr>\n",
       "\t<tr><td>32631</td><td>32.967033</td><td>3.495508</td><td>0</td><td>0</td><td>1</td><td>0</td><td>0</td><td>0</td><td>0</td><td>...</td><td>1</td><td>0</td><td>10.0</td><td> 1.0000</td><td> 1.000000</td><td>  1.0000000</td><td>2920</td><td> 9</td><td>6570</td><td>11</td></tr>\n",
       "\t<tr><td>32643</td><td>17.307692</td><td>2.851151</td><td>0</td><td>0</td><td>0</td><td>0</td><td>0</td><td>1</td><td>0</td><td>...</td><td>1</td><td>0</td><td>14.0</td><td> 1.9600</td><td> 2.744000</td><td>  3.8416000</td><td>1610</td><td> 5</td><td>7460</td><td>14</td></tr>\n",
       "</tbody>\n",
       "</table>\n"
      ],
      "text/latex": [
       "A data.frame: 5150 × 21\n",
       "\\begin{tabular}{lllllllllllllllllllll}\n",
       " ...1 & wage & lwage & sex & shs & hsg & scl & clg & ad & mw & ... & we & ne & exp1 & exp2 & exp3 & exp4 & occ & occ2 & ind & ind2\\\\\n",
       " <dbl> & <dbl> & <dbl> & <dbl> & <dbl> & <dbl> & <dbl> & <dbl> & <dbl> & <dbl> & ... & <dbl> & <dbl> & <dbl> & <dbl> & <dbl> & <dbl> & <dbl> & <dbl> & <dbl> & <dbl>\\\\\n",
       "\\hline\n",
       "\t  10 &  9.615385 & 2.263364 & 1 & 0 & 0 & 0 & 1 & 0 & 0 & ... & 0 & 1 &  7.0 &  0.4900 &  0.343000 &   0.24010000 & 3600 & 11 & 8370 & 18\\\\\n",
       "\t  12 & 48.076923 & 3.872802 & 0 & 0 & 0 & 0 & 1 & 0 & 0 & ... & 0 & 1 & 31.0 &  9.6100 & 29.791000 &  92.35210000 & 3050 & 10 & 5070 &  9\\\\\n",
       "\t  15 & 11.057692 & 2.403126 & 0 & 0 & 1 & 0 & 0 & 0 & 0 & ... & 0 & 1 & 18.0 &  3.2400 &  5.832000 &  10.49760000 & 6260 & 19 &  770 &  4\\\\\n",
       "\t  18 & 13.942308 & 2.634928 & 1 & 0 & 0 & 0 & 0 & 1 & 0 & ... & 0 & 1 & 25.0 &  6.2500 & 15.625000 &  39.06250000 &  420 &  1 & 6990 & 12\\\\\n",
       "\t  19 & 28.846154 & 3.361977 & 1 & 0 & 0 & 0 & 1 & 0 & 0 & ... & 0 & 1 & 22.0 &  4.8400 & 10.648000 &  23.42560000 & 2015 &  6 & 9470 & 22\\\\\n",
       "\t  30 & 11.730769 & 2.462215 & 1 & 0 & 0 & 0 & 1 & 0 & 0 & ... & 0 & 1 &  1.0 &  0.0100 &  0.001000 &   0.00010000 & 1650 &  5 & 7460 & 14\\\\\n",
       "\t  43 & 19.230769 & 2.956512 & 1 & 0 & 1 & 0 & 0 & 0 & 0 & ... & 0 & 1 & 42.0 & 17.6400 & 74.088000 & 311.16960000 & 5120 & 17 & 7280 & 14\\\\\n",
       "\t  44 & 19.230769 & 2.956512 & 0 & 0 & 1 & 0 & 0 & 0 & 0 & ... & 0 & 1 & 37.0 & 13.6900 & 50.653000 & 187.41610000 & 5240 & 17 & 5680 &  9\\\\\n",
       "\t  47 & 12.000000 & 2.484907 & 1 & 0 & 1 & 0 & 0 & 0 & 0 & ... & 0 & 1 & 31.0 &  9.6100 & 29.791000 &  92.35210000 & 4040 & 13 & 8590 & 19\\\\\n",
       "\t  71 & 19.230769 & 2.956512 & 1 & 0 & 0 & 0 & 1 & 0 & 0 & ... & 0 & 1 &  4.0 &  0.1600 &  0.064000 &   0.02560000 & 3255 & 10 & 8190 & 18\\\\\n",
       "\t  73 & 17.307692 & 2.851151 & 1 & 0 & 1 & 0 & 0 & 0 & 0 & ... & 0 & 1 &  7.0 &  0.4900 &  0.343000 &   0.24010000 & 4020 & 13 & 8270 & 18\\\\\n",
       "\t  77 & 12.019231 & 2.486508 & 0 & 0 & 1 & 0 & 0 & 0 & 0 & ... & 0 & 1 & 30.0 &  9.0000 & 27.000000 &  81.00000000 & 4220 & 14 & 8270 & 18\\\\\n",
       "\t  84 & 12.019231 & 2.486508 & 1 & 0 & 0 & 1 & 0 & 0 & 0 & ... & 0 & 1 &  5.5 &  0.3025 &  0.166375 &   0.09150625 & 3600 & 11 & 8270 & 18\\\\\n",
       "\t  89 & 13.461538 & 2.599837 & 1 & 0 & 0 & 1 & 0 & 0 & 0 & ... & 0 & 1 & 20.5 &  4.2025 &  8.615125 &  17.66100625 & 3645 & 11 & 8190 & 18\\\\\n",
       "\t  96 & 16.346154 & 2.793993 & 1 & 0 & 0 & 0 & 1 & 0 & 0 & ... & 0 & 1 & 25.0 &  6.2500 & 15.625000 &  39.06250000 &  110 &  1 & 7870 & 17\\\\\n",
       "\t 113 & 27.884615 & 3.328075 & 0 & 0 & 1 & 0 & 0 & 0 & 0 & ... & 0 & 1 & 16.0 &  2.5600 &  4.096000 &   6.55360000 & 6355 & 19 &  770 &  4\\\\\n",
       "\t 115 & 21.600000 & 3.072693 & 0 & 0 & 1 & 0 & 0 & 0 & 0 & ... & 0 & 1 & 27.0 &  7.2900 & 19.683000 &  53.14410000 & 6320 & 19 &  770 &  4\\\\\n",
       "\t 119 &  8.653846 & 2.158004 & 0 & 0 & 0 & 1 & 0 & 0 & 0 & ... & 0 & 1 &  3.5 &  0.1225 &  0.042875 &   0.01500625 & 7410 & 20 &  570 &  3\\\\\n",
       "\t 128 & 19.230769 & 2.956512 & 0 & 0 & 1 & 0 & 0 & 0 & 0 & ... & 0 & 1 &  6.0 &  0.3600 &  0.216000 &   0.12960000 & 7000 & 20 & 4690 &  9\\\\\n",
       "\t 129 & 13.186813 & 2.579217 & 0 & 0 & 1 & 0 & 0 & 0 & 0 & ... & 0 & 1 &  8.0 &  0.6400 &  0.512000 &   0.40960000 & 4000 & 13 & 8680 & 20\\\\\n",
       "\t 135 & 10.683761 & 2.368725 & 1 & 0 & 0 & 1 & 0 & 0 & 0 & ... & 0 & 1 &  6.5 &  0.4225 &  0.274625 &   0.17850625 & 4300 & 15 & 8590 & 19\\\\\n",
       "\t 144 & 11.538462 & 2.445686 & 1 & 0 & 0 & 1 & 0 & 0 & 0 & ... & 0 & 1 &  8.5 &  0.7225 &  0.614125 &   0.52200625 & 3600 & 11 & 8190 & 18\\\\\n",
       "\t 145 & 17.788462 & 2.878550 & 1 & 0 & 0 & 0 & 0 & 1 & 0 & ... & 0 & 1 & 11.0 &  1.2100 &  1.331000 &   1.46410000 & 2310 &  8 & 7860 & 17\\\\\n",
       "\t 149 & 19.230769 & 2.956512 & 0 & 0 & 0 & 0 & 1 & 0 & 0 & ... & 0 & 1 & 11.0 &  1.2100 &  1.331000 &   1.46410000 & 6200 & 19 &  770 &  4\\\\\n",
       "\t 152 & 16.304348 & 2.791432 & 1 & 0 & 0 & 1 & 0 & 0 & 0 & ... & 0 & 1 & 24.5 &  6.0025 & 14.706125 &  36.03000625 &   20 &  1 & 5480 &  9\\\\\n",
       "\t 157 & 19.230769 & 2.956512 & 0 & 0 & 1 & 0 & 0 & 0 & 0 & ... & 0 & 1 &  8.0 &  0.6400 &  0.512000 &   0.40960000 & 4800 & 16 & 7390 & 14\\\\\n",
       "\t 158 & 14.423077 & 2.668829 & 1 & 0 & 1 & 0 & 0 & 0 & 0 & ... & 0 & 1 &  5.0 &  0.2500 &  0.125000 &   0.06250000 &  430 &  1 & 7390 & 14\\\\\n",
       "\t 160 & 12.000000 & 2.484907 & 0 & 0 & 0 & 1 & 0 & 0 & 0 & ... & 0 & 1 &  4.5 &  0.2025 &  0.091125 &   0.04100625 & 6330 & 19 &  770 &  4\\\\\n",
       "\t 164 & 16.826923 & 2.822980 & 0 & 0 & 0 & 0 & 1 & 0 & 0 & ... & 0 & 1 &  8.0 &  0.6400 &  0.512000 &   0.40960000 & 5400 & 17 & 4870 &  9\\\\\n",
       "\t 176 & 19.670330 & 2.979111 & 0 & 0 & 0 & 0 & 1 & 0 & 0 & ... & 0 & 1 & 26.0 &  6.7600 & 17.576000 &  45.69760000 & 6230 & 19 & 6570 & 11\\\\\n",
       "\t ... & ... & ... & ... & ... & ... & ... & ... & ... & ... &  & ... & ... & ... & ... & ... & ... & ... & ... & ... & ...\\\\\n",
       "\t 32537 & 13.986014 & 2.638058 & 1 & 0 & 0 & 0 & 0 & 1 & 0 & ... & 1 & 0 &  7.0 &  0.4900 &  0.343000 &   0.2401000 & 3820 & 12 & 9590 & 22\\\\\n",
       "\t 32538 & 15.865385 & 2.764140 & 0 & 0 & 0 & 0 & 0 & 1 & 0 & ... & 1 & 0 &  2.0 &  0.0400 &  0.008000 &   0.0016000 & 2200 &  8 & 7870 & 17\\\\\n",
       "\t 32539 & 38.461538 & 3.649659 & 1 & 0 & 0 & 1 & 0 & 0 & 0 & ... & 1 & 0 &  7.5 &  0.5625 &  0.421875 &   0.3164062 &  220 &  1 &  770 &  4\\\\\n",
       "\t 32540 & 28.846154 & 3.361977 & 0 & 0 & 0 & 0 & 1 & 0 & 0 & ... & 1 & 0 &  5.0 &  0.2500 &  0.125000 &   0.0625000 & 1360 &  4 &  770 &  4\\\\\n",
       "\t 32548 & 24.475524 & 3.197674 & 1 & 0 & 0 & 0 & 0 & 1 & 0 & ... & 1 & 0 & 24.0 &  5.7600 & 13.824000 &  33.1776000 & 2310 &  8 & 7860 & 17\\\\\n",
       "\t 32551 & 27.884615 & 3.328075 & 0 & 0 & 0 & 1 & 0 & 0 & 0 & ... & 1 & 0 & 28.5 &  8.1225 & 23.149125 &  65.9750063 & 8140 & 21 &  770 &  4\\\\\n",
       "\t 32559 &  8.653846 & 2.158004 & 1 & 0 & 1 & 0 & 0 & 0 & 0 & ... & 1 & 0 & 25.0 &  6.2500 & 15.625000 &  39.0625000 & 3930 & 12 & 7680 & 16\\\\\n",
       "\t 32560 & 12.019231 & 2.486508 & 0 & 0 & 1 & 0 & 0 & 0 & 0 & ... & 1 & 0 & 19.0 &  3.6100 &  6.859000 &  13.0321000 & 2750 &  9 & 8560 & 19\\\\\n",
       "\t 32561 & 38.461538 & 3.649659 & 0 & 0 & 0 & 0 & 1 & 0 & 0 & ... & 1 & 0 &  8.0 &  0.6400 &  0.512000 &   0.4096000 &  710 &  2 & 6870 & 12\\\\\n",
       "\t 32564 & 12.500000 & 2.525729 & 1 & 0 & 1 & 0 & 0 & 0 & 0 & ... & 1 & 0 & 12.0 &  1.4400 &  1.728000 &   2.0736000 & 4010 & 13 & 8680 & 20\\\\\n",
       "\t 32565 & 35.256410 & 3.562647 & 0 & 0 & 0 & 0 & 0 & 1 & 0 & ... & 1 & 0 &  6.0 &  0.3600 &  0.216000 &   0.1296000 & 2320 &  8 & 7860 & 17\\\\\n",
       "\t 32567 & 48.076923 & 3.872802 & 1 & 0 & 0 & 0 & 1 & 0 & 0 & ... & 1 & 0 & 25.0 &  6.2500 & 15.625000 &  39.0625000 & 3255 & 10 & 8170 & 18\\\\\n",
       "\t 32571 &  9.615385 & 2.263364 & 0 & 0 & 1 & 0 & 0 & 0 & 0 & ... & 1 & 0 & 20.0 &  4.0000 &  8.000000 &  16.0000000 & 4110 & 13 & 8680 & 20\\\\\n",
       "\t 32572 & 12.019231 & 2.486508 & 0 & 0 & 1 & 0 & 0 & 0 & 0 & ... & 1 & 0 & 17.0 &  2.8900 &  4.913000 &   8.3521000 & 9620 & 22 & 6290 & 10\\\\\n",
       "\t 32579 & 12.019231 & 2.486508 & 0 & 0 & 0 & 1 & 0 & 0 & 0 & ... & 1 & 0 & 31.5 &  9.9225 & 31.255875 &  98.4560063 & 5510 & 17 & 6380 & 10\\\\\n",
       "\t 32580 & 12.980769 & 2.563469 & 0 & 0 & 1 & 0 & 0 & 0 & 0 & ... & 1 & 0 & 15.0 &  2.2500 &  3.375000 &   5.0625000 & 2010 &  6 & 9370 & 22\\\\\n",
       "\t 32581 & 26.442308 & 3.274965 & 1 & 0 & 0 & 0 & 1 & 0 & 0 & ... & 1 & 0 & 34.0 & 11.5600 & 39.304000 & 133.6336000 & 2310 &  8 & 7860 & 17\\\\\n",
       "\t 32590 & 13.461538 & 2.599837 & 1 & 0 & 1 & 0 & 0 & 0 & 0 & ... & 1 & 0 &  8.0 &  0.6400 &  0.512000 &   0.4096000 & 4720 & 16 & 8590 & 19\\\\\n",
       "\t 32591 & 19.711538 & 2.981204 & 1 & 0 & 0 & 0 & 0 & 1 & 0 & ... & 1 & 0 &  8.0 &  0.6400 &  0.512000 &   0.4096000 & 2000 &  6 & 8090 & 18\\\\\n",
       "\t 32593 & 21.153846 & 3.051822 & 0 & 0 & 0 & 0 & 1 & 0 & 0 & ... & 1 & 0 & 28.0 &  7.8400 & 21.952000 &  61.4656000 &   40 &  1 & 9170 & 21\\\\\n",
       "\t 32596 & 45.546559 & 3.818735 & 1 & 0 & 0 & 0 & 1 & 0 & 0 & ... & 1 & 0 &  5.0 &  0.2500 &  0.125000 &   0.0625000 & 3255 & 10 & 8190 & 18\\\\\n",
       "\t 32599 & 22.596154 & 3.117780 & 0 & 0 & 1 & 0 & 0 & 0 & 0 & ... & 1 & 0 & 15.0 &  2.2500 &  3.375000 &   5.0625000 & 9620 & 22 & 5390 &  9\\\\\n",
       "\t 32603 & 16.826923 & 2.822980 & 0 & 0 & 1 & 0 & 0 & 0 & 0 & ... & 1 & 0 & 11.0 &  1.2100 &  1.331000 &   1.4641000 & 7150 & 20 & 8770 & 21\\\\\n",
       "\t 32606 & 24.038462 & 3.179655 & 1 & 0 & 0 & 0 & 1 & 0 & 0 & ... & 1 & 0 & 17.0 &  2.8900 &  4.913000 &   8.3521000 & 2550 &  8 & 9480 & 22\\\\\n",
       "\t 32619 & 13.846154 & 2.628007 & 0 & 0 & 0 & 0 & 1 & 0 & 0 & ... & 1 & 0 & 10.0 &  1.0000 &  1.000000 &   1.0000000 &  800 &  2 &  770 &  4\\\\\n",
       "\t 32620 & 14.769231 & 2.692546 & 0 & 0 & 0 & 0 & 1 & 0 & 0 & ... & 1 & 0 &  9.0 &  0.8100 &  0.729000 &   0.6561000 & 4700 & 16 & 4970 &  9\\\\\n",
       "\t 32624 & 23.076923 & 3.138833 & 1 & 0 & 0 & 1 & 0 & 0 & 0 & ... & 1 & 0 & 12.0 &  1.4400 &  1.728000 &   2.0736000 & 4110 & 13 & 8680 & 20\\\\\n",
       "\t 32626 & 38.461538 & 3.649659 & 0 & 0 & 0 & 0 & 0 & 1 & 0 & ... & 1 & 0 & 11.0 &  1.2100 &  1.331000 &   1.4641000 & 1550 &  4 & 3680 &  6\\\\\n",
       "\t 32631 & 32.967033 & 3.495508 & 0 & 0 & 1 & 0 & 0 & 0 & 0 & ... & 1 & 0 & 10.0 &  1.0000 &  1.000000 &   1.0000000 & 2920 &  9 & 6570 & 11\\\\\n",
       "\t 32643 & 17.307692 & 2.851151 & 0 & 0 & 0 & 0 & 0 & 1 & 0 & ... & 1 & 0 & 14.0 &  1.9600 &  2.744000 &   3.8416000 & 1610 &  5 & 7460 & 14\\\\\n",
       "\\end{tabular}\n"
      ],
      "text/markdown": [
       "\n",
       "A data.frame: 5150 × 21\n",
       "\n",
       "| ...1 &lt;dbl&gt; | wage &lt;dbl&gt; | lwage &lt;dbl&gt; | sex &lt;dbl&gt; | shs &lt;dbl&gt; | hsg &lt;dbl&gt; | scl &lt;dbl&gt; | clg &lt;dbl&gt; | ad &lt;dbl&gt; | mw &lt;dbl&gt; | ... ... | we &lt;dbl&gt; | ne &lt;dbl&gt; | exp1 &lt;dbl&gt; | exp2 &lt;dbl&gt; | exp3 &lt;dbl&gt; | exp4 &lt;dbl&gt; | occ &lt;dbl&gt; | occ2 &lt;dbl&gt; | ind &lt;dbl&gt; | ind2 &lt;dbl&gt; |\n",
       "|---|---|---|---|---|---|---|---|---|---|---|---|---|---|---|---|---|---|---|---|---|\n",
       "|  10 |  9.615385 | 2.263364 | 1 | 0 | 0 | 0 | 1 | 0 | 0 | ... | 0 | 1 |  7.0 |  0.4900 |  0.343000 |   0.24010000 | 3600 | 11 | 8370 | 18 |\n",
       "|  12 | 48.076923 | 3.872802 | 0 | 0 | 0 | 0 | 1 | 0 | 0 | ... | 0 | 1 | 31.0 |  9.6100 | 29.791000 |  92.35210000 | 3050 | 10 | 5070 |  9 |\n",
       "|  15 | 11.057692 | 2.403126 | 0 | 0 | 1 | 0 | 0 | 0 | 0 | ... | 0 | 1 | 18.0 |  3.2400 |  5.832000 |  10.49760000 | 6260 | 19 |  770 |  4 |\n",
       "|  18 | 13.942308 | 2.634928 | 1 | 0 | 0 | 0 | 0 | 1 | 0 | ... | 0 | 1 | 25.0 |  6.2500 | 15.625000 |  39.06250000 |  420 |  1 | 6990 | 12 |\n",
       "|  19 | 28.846154 | 3.361977 | 1 | 0 | 0 | 0 | 1 | 0 | 0 | ... | 0 | 1 | 22.0 |  4.8400 | 10.648000 |  23.42560000 | 2015 |  6 | 9470 | 22 |\n",
       "|  30 | 11.730769 | 2.462215 | 1 | 0 | 0 | 0 | 1 | 0 | 0 | ... | 0 | 1 |  1.0 |  0.0100 |  0.001000 |   0.00010000 | 1650 |  5 | 7460 | 14 |\n",
       "|  43 | 19.230769 | 2.956512 | 1 | 0 | 1 | 0 | 0 | 0 | 0 | ... | 0 | 1 | 42.0 | 17.6400 | 74.088000 | 311.16960000 | 5120 | 17 | 7280 | 14 |\n",
       "|  44 | 19.230769 | 2.956512 | 0 | 0 | 1 | 0 | 0 | 0 | 0 | ... | 0 | 1 | 37.0 | 13.6900 | 50.653000 | 187.41610000 | 5240 | 17 | 5680 |  9 |\n",
       "|  47 | 12.000000 | 2.484907 | 1 | 0 | 1 | 0 | 0 | 0 | 0 | ... | 0 | 1 | 31.0 |  9.6100 | 29.791000 |  92.35210000 | 4040 | 13 | 8590 | 19 |\n",
       "|  71 | 19.230769 | 2.956512 | 1 | 0 | 0 | 0 | 1 | 0 | 0 | ... | 0 | 1 |  4.0 |  0.1600 |  0.064000 |   0.02560000 | 3255 | 10 | 8190 | 18 |\n",
       "|  73 | 17.307692 | 2.851151 | 1 | 0 | 1 | 0 | 0 | 0 | 0 | ... | 0 | 1 |  7.0 |  0.4900 |  0.343000 |   0.24010000 | 4020 | 13 | 8270 | 18 |\n",
       "|  77 | 12.019231 | 2.486508 | 0 | 0 | 1 | 0 | 0 | 0 | 0 | ... | 0 | 1 | 30.0 |  9.0000 | 27.000000 |  81.00000000 | 4220 | 14 | 8270 | 18 |\n",
       "|  84 | 12.019231 | 2.486508 | 1 | 0 | 0 | 1 | 0 | 0 | 0 | ... | 0 | 1 |  5.5 |  0.3025 |  0.166375 |   0.09150625 | 3600 | 11 | 8270 | 18 |\n",
       "|  89 | 13.461538 | 2.599837 | 1 | 0 | 0 | 1 | 0 | 0 | 0 | ... | 0 | 1 | 20.5 |  4.2025 |  8.615125 |  17.66100625 | 3645 | 11 | 8190 | 18 |\n",
       "|  96 | 16.346154 | 2.793993 | 1 | 0 | 0 | 0 | 1 | 0 | 0 | ... | 0 | 1 | 25.0 |  6.2500 | 15.625000 |  39.06250000 |  110 |  1 | 7870 | 17 |\n",
       "| 113 | 27.884615 | 3.328075 | 0 | 0 | 1 | 0 | 0 | 0 | 0 | ... | 0 | 1 | 16.0 |  2.5600 |  4.096000 |   6.55360000 | 6355 | 19 |  770 |  4 |\n",
       "| 115 | 21.600000 | 3.072693 | 0 | 0 | 1 | 0 | 0 | 0 | 0 | ... | 0 | 1 | 27.0 |  7.2900 | 19.683000 |  53.14410000 | 6320 | 19 |  770 |  4 |\n",
       "| 119 |  8.653846 | 2.158004 | 0 | 0 | 0 | 1 | 0 | 0 | 0 | ... | 0 | 1 |  3.5 |  0.1225 |  0.042875 |   0.01500625 | 7410 | 20 |  570 |  3 |\n",
       "| 128 | 19.230769 | 2.956512 | 0 | 0 | 1 | 0 | 0 | 0 | 0 | ... | 0 | 1 |  6.0 |  0.3600 |  0.216000 |   0.12960000 | 7000 | 20 | 4690 |  9 |\n",
       "| 129 | 13.186813 | 2.579217 | 0 | 0 | 1 | 0 | 0 | 0 | 0 | ... | 0 | 1 |  8.0 |  0.6400 |  0.512000 |   0.40960000 | 4000 | 13 | 8680 | 20 |\n",
       "| 135 | 10.683761 | 2.368725 | 1 | 0 | 0 | 1 | 0 | 0 | 0 | ... | 0 | 1 |  6.5 |  0.4225 |  0.274625 |   0.17850625 | 4300 | 15 | 8590 | 19 |\n",
       "| 144 | 11.538462 | 2.445686 | 1 | 0 | 0 | 1 | 0 | 0 | 0 | ... | 0 | 1 |  8.5 |  0.7225 |  0.614125 |   0.52200625 | 3600 | 11 | 8190 | 18 |\n",
       "| 145 | 17.788462 | 2.878550 | 1 | 0 | 0 | 0 | 0 | 1 | 0 | ... | 0 | 1 | 11.0 |  1.2100 |  1.331000 |   1.46410000 | 2310 |  8 | 7860 | 17 |\n",
       "| 149 | 19.230769 | 2.956512 | 0 | 0 | 0 | 0 | 1 | 0 | 0 | ... | 0 | 1 | 11.0 |  1.2100 |  1.331000 |   1.46410000 | 6200 | 19 |  770 |  4 |\n",
       "| 152 | 16.304348 | 2.791432 | 1 | 0 | 0 | 1 | 0 | 0 | 0 | ... | 0 | 1 | 24.5 |  6.0025 | 14.706125 |  36.03000625 |   20 |  1 | 5480 |  9 |\n",
       "| 157 | 19.230769 | 2.956512 | 0 | 0 | 1 | 0 | 0 | 0 | 0 | ... | 0 | 1 |  8.0 |  0.6400 |  0.512000 |   0.40960000 | 4800 | 16 | 7390 | 14 |\n",
       "| 158 | 14.423077 | 2.668829 | 1 | 0 | 1 | 0 | 0 | 0 | 0 | ... | 0 | 1 |  5.0 |  0.2500 |  0.125000 |   0.06250000 |  430 |  1 | 7390 | 14 |\n",
       "| 160 | 12.000000 | 2.484907 | 0 | 0 | 0 | 1 | 0 | 0 | 0 | ... | 0 | 1 |  4.5 |  0.2025 |  0.091125 |   0.04100625 | 6330 | 19 |  770 |  4 |\n",
       "| 164 | 16.826923 | 2.822980 | 0 | 0 | 0 | 0 | 1 | 0 | 0 | ... | 0 | 1 |  8.0 |  0.6400 |  0.512000 |   0.40960000 | 5400 | 17 | 4870 |  9 |\n",
       "| 176 | 19.670330 | 2.979111 | 0 | 0 | 0 | 0 | 1 | 0 | 0 | ... | 0 | 1 | 26.0 |  6.7600 | 17.576000 |  45.69760000 | 6230 | 19 | 6570 | 11 |\n",
       "| ... | ... | ... | ... | ... | ... | ... | ... | ... | ... | <!----> | ... | ... | ... | ... | ... | ... | ... | ... | ... | ... |\n",
       "| 32537 | 13.986014 | 2.638058 | 1 | 0 | 0 | 0 | 0 | 1 | 0 | ... | 1 | 0 |  7.0 |  0.4900 |  0.343000 |   0.2401000 | 3820 | 12 | 9590 | 22 |\n",
       "| 32538 | 15.865385 | 2.764140 | 0 | 0 | 0 | 0 | 0 | 1 | 0 | ... | 1 | 0 |  2.0 |  0.0400 |  0.008000 |   0.0016000 | 2200 |  8 | 7870 | 17 |\n",
       "| 32539 | 38.461538 | 3.649659 | 1 | 0 | 0 | 1 | 0 | 0 | 0 | ... | 1 | 0 |  7.5 |  0.5625 |  0.421875 |   0.3164062 |  220 |  1 |  770 |  4 |\n",
       "| 32540 | 28.846154 | 3.361977 | 0 | 0 | 0 | 0 | 1 | 0 | 0 | ... | 1 | 0 |  5.0 |  0.2500 |  0.125000 |   0.0625000 | 1360 |  4 |  770 |  4 |\n",
       "| 32548 | 24.475524 | 3.197674 | 1 | 0 | 0 | 0 | 0 | 1 | 0 | ... | 1 | 0 | 24.0 |  5.7600 | 13.824000 |  33.1776000 | 2310 |  8 | 7860 | 17 |\n",
       "| 32551 | 27.884615 | 3.328075 | 0 | 0 | 0 | 1 | 0 | 0 | 0 | ... | 1 | 0 | 28.5 |  8.1225 | 23.149125 |  65.9750063 | 8140 | 21 |  770 |  4 |\n",
       "| 32559 |  8.653846 | 2.158004 | 1 | 0 | 1 | 0 | 0 | 0 | 0 | ... | 1 | 0 | 25.0 |  6.2500 | 15.625000 |  39.0625000 | 3930 | 12 | 7680 | 16 |\n",
       "| 32560 | 12.019231 | 2.486508 | 0 | 0 | 1 | 0 | 0 | 0 | 0 | ... | 1 | 0 | 19.0 |  3.6100 |  6.859000 |  13.0321000 | 2750 |  9 | 8560 | 19 |\n",
       "| 32561 | 38.461538 | 3.649659 | 0 | 0 | 0 | 0 | 1 | 0 | 0 | ... | 1 | 0 |  8.0 |  0.6400 |  0.512000 |   0.4096000 |  710 |  2 | 6870 | 12 |\n",
       "| 32564 | 12.500000 | 2.525729 | 1 | 0 | 1 | 0 | 0 | 0 | 0 | ... | 1 | 0 | 12.0 |  1.4400 |  1.728000 |   2.0736000 | 4010 | 13 | 8680 | 20 |\n",
       "| 32565 | 35.256410 | 3.562647 | 0 | 0 | 0 | 0 | 0 | 1 | 0 | ... | 1 | 0 |  6.0 |  0.3600 |  0.216000 |   0.1296000 | 2320 |  8 | 7860 | 17 |\n",
       "| 32567 | 48.076923 | 3.872802 | 1 | 0 | 0 | 0 | 1 | 0 | 0 | ... | 1 | 0 | 25.0 |  6.2500 | 15.625000 |  39.0625000 | 3255 | 10 | 8170 | 18 |\n",
       "| 32571 |  9.615385 | 2.263364 | 0 | 0 | 1 | 0 | 0 | 0 | 0 | ... | 1 | 0 | 20.0 |  4.0000 |  8.000000 |  16.0000000 | 4110 | 13 | 8680 | 20 |\n",
       "| 32572 | 12.019231 | 2.486508 | 0 | 0 | 1 | 0 | 0 | 0 | 0 | ... | 1 | 0 | 17.0 |  2.8900 |  4.913000 |   8.3521000 | 9620 | 22 | 6290 | 10 |\n",
       "| 32579 | 12.019231 | 2.486508 | 0 | 0 | 0 | 1 | 0 | 0 | 0 | ... | 1 | 0 | 31.5 |  9.9225 | 31.255875 |  98.4560063 | 5510 | 17 | 6380 | 10 |\n",
       "| 32580 | 12.980769 | 2.563469 | 0 | 0 | 1 | 0 | 0 | 0 | 0 | ... | 1 | 0 | 15.0 |  2.2500 |  3.375000 |   5.0625000 | 2010 |  6 | 9370 | 22 |\n",
       "| 32581 | 26.442308 | 3.274965 | 1 | 0 | 0 | 0 | 1 | 0 | 0 | ... | 1 | 0 | 34.0 | 11.5600 | 39.304000 | 133.6336000 | 2310 |  8 | 7860 | 17 |\n",
       "| 32590 | 13.461538 | 2.599837 | 1 | 0 | 1 | 0 | 0 | 0 | 0 | ... | 1 | 0 |  8.0 |  0.6400 |  0.512000 |   0.4096000 | 4720 | 16 | 8590 | 19 |\n",
       "| 32591 | 19.711538 | 2.981204 | 1 | 0 | 0 | 0 | 0 | 1 | 0 | ... | 1 | 0 |  8.0 |  0.6400 |  0.512000 |   0.4096000 | 2000 |  6 | 8090 | 18 |\n",
       "| 32593 | 21.153846 | 3.051822 | 0 | 0 | 0 | 0 | 1 | 0 | 0 | ... | 1 | 0 | 28.0 |  7.8400 | 21.952000 |  61.4656000 |   40 |  1 | 9170 | 21 |\n",
       "| 32596 | 45.546559 | 3.818735 | 1 | 0 | 0 | 0 | 1 | 0 | 0 | ... | 1 | 0 |  5.0 |  0.2500 |  0.125000 |   0.0625000 | 3255 | 10 | 8190 | 18 |\n",
       "| 32599 | 22.596154 | 3.117780 | 0 | 0 | 1 | 0 | 0 | 0 | 0 | ... | 1 | 0 | 15.0 |  2.2500 |  3.375000 |   5.0625000 | 9620 | 22 | 5390 |  9 |\n",
       "| 32603 | 16.826923 | 2.822980 | 0 | 0 | 1 | 0 | 0 | 0 | 0 | ... | 1 | 0 | 11.0 |  1.2100 |  1.331000 |   1.4641000 | 7150 | 20 | 8770 | 21 |\n",
       "| 32606 | 24.038462 | 3.179655 | 1 | 0 | 0 | 0 | 1 | 0 | 0 | ... | 1 | 0 | 17.0 |  2.8900 |  4.913000 |   8.3521000 | 2550 |  8 | 9480 | 22 |\n",
       "| 32619 | 13.846154 | 2.628007 | 0 | 0 | 0 | 0 | 1 | 0 | 0 | ... | 1 | 0 | 10.0 |  1.0000 |  1.000000 |   1.0000000 |  800 |  2 |  770 |  4 |\n",
       "| 32620 | 14.769231 | 2.692546 | 0 | 0 | 0 | 0 | 1 | 0 | 0 | ... | 1 | 0 |  9.0 |  0.8100 |  0.729000 |   0.6561000 | 4700 | 16 | 4970 |  9 |\n",
       "| 32624 | 23.076923 | 3.138833 | 1 | 0 | 0 | 1 | 0 | 0 | 0 | ... | 1 | 0 | 12.0 |  1.4400 |  1.728000 |   2.0736000 | 4110 | 13 | 8680 | 20 |\n",
       "| 32626 | 38.461538 | 3.649659 | 0 | 0 | 0 | 0 | 0 | 1 | 0 | ... | 1 | 0 | 11.0 |  1.2100 |  1.331000 |   1.4641000 | 1550 |  4 | 3680 |  6 |\n",
       "| 32631 | 32.967033 | 3.495508 | 0 | 0 | 1 | 0 | 0 | 0 | 0 | ... | 1 | 0 | 10.0 |  1.0000 |  1.000000 |   1.0000000 | 2920 |  9 | 6570 | 11 |\n",
       "| 32643 | 17.307692 | 2.851151 | 0 | 0 | 0 | 0 | 0 | 1 | 0 | ... | 1 | 0 | 14.0 |  1.9600 |  2.744000 |   3.8416000 | 1610 |  5 | 7460 | 14 |\n",
       "\n"
      ],
      "text/plain": [
       "     ...1  wage      lwage    sex shs hsg scl clg ad  mw  ... we  ne  exp1\n",
       "1     10    9.615385 2.263364 1   0   0   0   1   0   0   ... 0   1    7.0\n",
       "2     12   48.076923 3.872802 0   0   0   0   1   0   0   ... 0   1   31.0\n",
       "3     15   11.057692 2.403126 0   0   1   0   0   0   0   ... 0   1   18.0\n",
       "4     18   13.942308 2.634928 1   0   0   0   0   1   0   ... 0   1   25.0\n",
       "5     19   28.846154 3.361977 1   0   0   0   1   0   0   ... 0   1   22.0\n",
       "6     30   11.730769 2.462215 1   0   0   0   1   0   0   ... 0   1    1.0\n",
       "7     43   19.230769 2.956512 1   0   1   0   0   0   0   ... 0   1   42.0\n",
       "8     44   19.230769 2.956512 0   0   1   0   0   0   0   ... 0   1   37.0\n",
       "9     47   12.000000 2.484907 1   0   1   0   0   0   0   ... 0   1   31.0\n",
       "10    71   19.230769 2.956512 1   0   0   0   1   0   0   ... 0   1    4.0\n",
       "11    73   17.307692 2.851151 1   0   1   0   0   0   0   ... 0   1    7.0\n",
       "12    77   12.019231 2.486508 0   0   1   0   0   0   0   ... 0   1   30.0\n",
       "13    84   12.019231 2.486508 1   0   0   1   0   0   0   ... 0   1    5.5\n",
       "14    89   13.461538 2.599837 1   0   0   1   0   0   0   ... 0   1   20.5\n",
       "15    96   16.346154 2.793993 1   0   0   0   1   0   0   ... 0   1   25.0\n",
       "16   113   27.884615 3.328075 0   0   1   0   0   0   0   ... 0   1   16.0\n",
       "17   115   21.600000 3.072693 0   0   1   0   0   0   0   ... 0   1   27.0\n",
       "18   119    8.653846 2.158004 0   0   0   1   0   0   0   ... 0   1    3.5\n",
       "19   128   19.230769 2.956512 0   0   1   0   0   0   0   ... 0   1    6.0\n",
       "20   129   13.186813 2.579217 0   0   1   0   0   0   0   ... 0   1    8.0\n",
       "21   135   10.683761 2.368725 1   0   0   1   0   0   0   ... 0   1    6.5\n",
       "22   144   11.538462 2.445686 1   0   0   1   0   0   0   ... 0   1    8.5\n",
       "23   145   17.788462 2.878550 1   0   0   0   0   1   0   ... 0   1   11.0\n",
       "24   149   19.230769 2.956512 0   0   0   0   1   0   0   ... 0   1   11.0\n",
       "25   152   16.304348 2.791432 1   0   0   1   0   0   0   ... 0   1   24.5\n",
       "26   157   19.230769 2.956512 0   0   1   0   0   0   0   ... 0   1    8.0\n",
       "27   158   14.423077 2.668829 1   0   1   0   0   0   0   ... 0   1    5.0\n",
       "28   160   12.000000 2.484907 0   0   0   1   0   0   0   ... 0   1    4.5\n",
       "29   164   16.826923 2.822980 0   0   0   0   1   0   0   ... 0   1    8.0\n",
       "30   176   19.670330 2.979111 0   0   0   0   1   0   0   ... 0   1   26.0\n",
       "...  ...   ...       ...      ... ... ... ... ... ... ...     ... ... ... \n",
       "5121 32537 13.986014 2.638058 1   0   0   0   0   1   0   ... 1   0    7.0\n",
       "5122 32538 15.865385 2.764140 0   0   0   0   0   1   0   ... 1   0    2.0\n",
       "5123 32539 38.461538 3.649659 1   0   0   1   0   0   0   ... 1   0    7.5\n",
       "5124 32540 28.846154 3.361977 0   0   0   0   1   0   0   ... 1   0    5.0\n",
       "5125 32548 24.475524 3.197674 1   0   0   0   0   1   0   ... 1   0   24.0\n",
       "5126 32551 27.884615 3.328075 0   0   0   1   0   0   0   ... 1   0   28.5\n",
       "5127 32559  8.653846 2.158004 1   0   1   0   0   0   0   ... 1   0   25.0\n",
       "5128 32560 12.019231 2.486508 0   0   1   0   0   0   0   ... 1   0   19.0\n",
       "5129 32561 38.461538 3.649659 0   0   0   0   1   0   0   ... 1   0    8.0\n",
       "5130 32564 12.500000 2.525729 1   0   1   0   0   0   0   ... 1   0   12.0\n",
       "5131 32565 35.256410 3.562647 0   0   0   0   0   1   0   ... 1   0    6.0\n",
       "5132 32567 48.076923 3.872802 1   0   0   0   1   0   0   ... 1   0   25.0\n",
       "5133 32571  9.615385 2.263364 0   0   1   0   0   0   0   ... 1   0   20.0\n",
       "5134 32572 12.019231 2.486508 0   0   1   0   0   0   0   ... 1   0   17.0\n",
       "5135 32579 12.019231 2.486508 0   0   0   1   0   0   0   ... 1   0   31.5\n",
       "5136 32580 12.980769 2.563469 0   0   1   0   0   0   0   ... 1   0   15.0\n",
       "5137 32581 26.442308 3.274965 1   0   0   0   1   0   0   ... 1   0   34.0\n",
       "5138 32590 13.461538 2.599837 1   0   1   0   0   0   0   ... 1   0    8.0\n",
       "5139 32591 19.711538 2.981204 1   0   0   0   0   1   0   ... 1   0    8.0\n",
       "5140 32593 21.153846 3.051822 0   0   0   0   1   0   0   ... 1   0   28.0\n",
       "5141 32596 45.546559 3.818735 1   0   0   0   1   0   0   ... 1   0    5.0\n",
       "5142 32599 22.596154 3.117780 0   0   1   0   0   0   0   ... 1   0   15.0\n",
       "5143 32603 16.826923 2.822980 0   0   1   0   0   0   0   ... 1   0   11.0\n",
       "5144 32606 24.038462 3.179655 1   0   0   0   1   0   0   ... 1   0   17.0\n",
       "5145 32619 13.846154 2.628007 0   0   0   0   1   0   0   ... 1   0   10.0\n",
       "5146 32620 14.769231 2.692546 0   0   0   0   1   0   0   ... 1   0    9.0\n",
       "5147 32624 23.076923 3.138833 1   0   0   1   0   0   0   ... 1   0   12.0\n",
       "5148 32626 38.461538 3.649659 0   0   0   0   0   1   0   ... 1   0   11.0\n",
       "5149 32631 32.967033 3.495508 0   0   1   0   0   0   0   ... 1   0   10.0\n",
       "5150 32643 17.307692 2.851151 0   0   0   0   0   1   0   ... 1   0   14.0\n",
       "     exp2    exp3      exp4         occ  occ2 ind  ind2\n",
       "1     0.4900  0.343000   0.24010000 3600 11   8370 18  \n",
       "2     9.6100 29.791000  92.35210000 3050 10   5070  9  \n",
       "3     3.2400  5.832000  10.49760000 6260 19    770  4  \n",
       "4     6.2500 15.625000  39.06250000  420  1   6990 12  \n",
       "5     4.8400 10.648000  23.42560000 2015  6   9470 22  \n",
       "6     0.0100  0.001000   0.00010000 1650  5   7460 14  \n",
       "7    17.6400 74.088000 311.16960000 5120 17   7280 14  \n",
       "8    13.6900 50.653000 187.41610000 5240 17   5680  9  \n",
       "9     9.6100 29.791000  92.35210000 4040 13   8590 19  \n",
       "10    0.1600  0.064000   0.02560000 3255 10   8190 18  \n",
       "11    0.4900  0.343000   0.24010000 4020 13   8270 18  \n",
       "12    9.0000 27.000000  81.00000000 4220 14   8270 18  \n",
       "13    0.3025  0.166375   0.09150625 3600 11   8270 18  \n",
       "14    4.2025  8.615125  17.66100625 3645 11   8190 18  \n",
       "15    6.2500 15.625000  39.06250000  110  1   7870 17  \n",
       "16    2.5600  4.096000   6.55360000 6355 19    770  4  \n",
       "17    7.2900 19.683000  53.14410000 6320 19    770  4  \n",
       "18    0.1225  0.042875   0.01500625 7410 20    570  3  \n",
       "19    0.3600  0.216000   0.12960000 7000 20   4690  9  \n",
       "20    0.6400  0.512000   0.40960000 4000 13   8680 20  \n",
       "21    0.4225  0.274625   0.17850625 4300 15   8590 19  \n",
       "22    0.7225  0.614125   0.52200625 3600 11   8190 18  \n",
       "23    1.2100  1.331000   1.46410000 2310  8   7860 17  \n",
       "24    1.2100  1.331000   1.46410000 6200 19    770  4  \n",
       "25    6.0025 14.706125  36.03000625   20  1   5480  9  \n",
       "26    0.6400  0.512000   0.40960000 4800 16   7390 14  \n",
       "27    0.2500  0.125000   0.06250000  430  1   7390 14  \n",
       "28    0.2025  0.091125   0.04100625 6330 19    770  4  \n",
       "29    0.6400  0.512000   0.40960000 5400 17   4870  9  \n",
       "30    6.7600 17.576000  45.69760000 6230 19   6570 11  \n",
       "...  ...     ...       ...          ...  ...  ...  ... \n",
       "5121  0.4900  0.343000   0.2401000  3820 12   9590 22  \n",
       "5122  0.0400  0.008000   0.0016000  2200  8   7870 17  \n",
       "5123  0.5625  0.421875   0.3164062   220  1    770  4  \n",
       "5124  0.2500  0.125000   0.0625000  1360  4    770  4  \n",
       "5125  5.7600 13.824000  33.1776000  2310  8   7860 17  \n",
       "5126  8.1225 23.149125  65.9750063  8140 21    770  4  \n",
       "5127  6.2500 15.625000  39.0625000  3930 12   7680 16  \n",
       "5128  3.6100  6.859000  13.0321000  2750  9   8560 19  \n",
       "5129  0.6400  0.512000   0.4096000   710  2   6870 12  \n",
       "5130  1.4400  1.728000   2.0736000  4010 13   8680 20  \n",
       "5131  0.3600  0.216000   0.1296000  2320  8   7860 17  \n",
       "5132  6.2500 15.625000  39.0625000  3255 10   8170 18  \n",
       "5133  4.0000  8.000000  16.0000000  4110 13   8680 20  \n",
       "5134  2.8900  4.913000   8.3521000  9620 22   6290 10  \n",
       "5135  9.9225 31.255875  98.4560063  5510 17   6380 10  \n",
       "5136  2.2500  3.375000   5.0625000  2010  6   9370 22  \n",
       "5137 11.5600 39.304000 133.6336000  2310  8   7860 17  \n",
       "5138  0.6400  0.512000   0.4096000  4720 16   8590 19  \n",
       "5139  0.6400  0.512000   0.4096000  2000  6   8090 18  \n",
       "5140  7.8400 21.952000  61.4656000    40  1   9170 21  \n",
       "5141  0.2500  0.125000   0.0625000  3255 10   8190 18  \n",
       "5142  2.2500  3.375000   5.0625000  9620 22   5390  9  \n",
       "5143  1.2100  1.331000   1.4641000  7150 20   8770 21  \n",
       "5144  2.8900  4.913000   8.3521000  2550  8   9480 22  \n",
       "5145  1.0000  1.000000   1.0000000   800  2    770  4  \n",
       "5146  0.8100  0.729000   0.6561000  4700 16   4970  9  \n",
       "5147  1.4400  1.728000   2.0736000  4110 13   8680 20  \n",
       "5148  1.2100  1.331000   1.4641000  1550  4   3680  6  \n",
       "5149  1.0000  1.000000   1.0000000  2920  9   6570 11  \n",
       "5150  1.9600  2.744000   3.8416000  1610  5   7460 14  "
      ]
     },
     "metadata": {},
     "output_type": "display_data"
    }
   ],
   "source": [
    "base <- data.frame(read_excel(\"../data/base1.xlsx\", sheet = \"data\"))\n",
    "base"
   ]
  },
  {
   "cell_type": "code",
   "execution_count": 6,
   "metadata": {},
   "outputs": [
    {
     "data": {
      "text/html": [
       "<style>\n",
       ".list-inline {list-style: none; margin:0; padding: 0}\n",
       ".list-inline>li {display: inline-block}\n",
       ".list-inline>li:not(:last-child)::after {content: \"\\00b7\"; padding: 0 .5ex}\n",
       "</style>\n",
       "<ol class=list-inline><li>5150</li><li>21</li></ol>\n"
      ],
      "text/latex": [
       "\\begin{enumerate*}\n",
       "\\item 5150\n",
       "\\item 21\n",
       "\\end{enumerate*}\n"
      ],
      "text/markdown": [
       "1. 5150\n",
       "2. 21\n",
       "\n",
       "\n"
      ],
      "text/plain": [
       "[1] 5150   21"
      ]
     },
     "metadata": {},
     "output_type": "display_data"
    }
   ],
   "source": [
    "dim(base)"
   ]
  },
  {
   "cell_type": "code",
   "execution_count": null,
   "metadata": {},
   "outputs": [],
   "source": []
  },
  {
   "cell_type": "code",
   "execution_count": null,
   "metadata": {},
   "outputs": [],
   "source": []
  },
  {
   "cell_type": "code",
   "execution_count": null,
   "metadata": {},
   "outputs": [],
   "source": []
  },
  {
   "cell_type": "code",
   "execution_count": null,
   "metadata": {},
   "outputs": [],
   "source": []
  },
  {
   "cell_type": "code",
   "execution_count": null,
   "metadata": {},
   "outputs": [],
   "source": []
  },
  {
   "cell_type": "markdown",
   "metadata": {},
   "source": [
    "## If condition\n",
    "The body of the if condition is excuted if the `test_expression` is `TRUE`. The ouput of the test expression should be a `boolean`variable. \n",
    "\n",
    "<img src=\"if-statement.jpg\" alt=\"image info\" />\n"
   ]
  },
  {
   "cell_type": "markdown",
   "metadata": {},
   "source": [
    "The structure of the code is the following: <br><br>\n",
    "\n",
    "<font size=\"4\">\n",
    "if <font color='green'>(test expresion)</font>{<br>\n",
    "&nbsp;&nbsp;&nbsp;&nbsp;Code to excute<br>\n",
    "}</font>\n",
    "\n",
    "The function **if** tests the veracity of a logic expression. The result of test statement should be a **<font color='red'>boolean</font>**. In other words, the output of the test statemen must be **<font color='red'>TRUE</font>** or **<font color='red'>FALSE</font>**. To sum, any function that its output is **boolean** can be used as a test expression in the **if** function. "
   ]
  },
  {
   "cell_type": "code",
   "execution_count": 151,
   "metadata": {},
   "outputs": [],
   "source": [
    "x <- -4\n",
    "\n",
    "if(x > 0){\n",
    "print(\"Non-negative number\")\n",
    "}"
   ]
  },
  {
   "cell_type": "markdown",
   "metadata": {},
   "source": [
    "### Tests more than 1 expression\n",
    "\n",
    "We will use **else if**. This function allows us to add more test expressions.  <br><br>\n",
    "\n",
    "<font size=\"3\">\n",
    "if <font color='green'>(Test expression 1)</font>{ <br>\n",
    "&nbsp;&nbsp;&nbsp;&nbsp;Code1<br><br>\n",
    "} else if <font color='green'>(Test expression 2)</font>{<br>\n",
    "&nbsp;&nbsp;&nbsp;&nbsp;Code2<br><br>\n",
    "} else if <font color='green'>(Test expression 3)</font>{<br>\n",
    "&nbsp;&nbsp;&nbsp;&nbsp;Code3<br><br>\n",
    "} else if <font color='green'>(Test expression 4)</font>{<br>\n",
    "&nbsp;&nbsp;&nbsp;&nbsp;Code4<br><br>\n",
    "} else if <font color='green'>(Test expression 5)</font>{<br>\n",
    "&nbsp;&nbsp;&nbsp;&nbsp;Code5<br><br>\n",
    "}else{<br>&nbsp;&nbsp;&nbsp;&nbsp;Code6<br><br>\n",
    "}</font>\n",
    "\n",
    "R will read the conditions of the test in order. If **Test expression 1** is `TRUE`, the rest of the test expressions will not be evaluated. R execute **Code2** and will not test the next conditions. <br>\n",
    "\n",
    "In case no Test expression is `TRUE`, the **Code6** will be excuted."
   ]
  },
  {
   "cell_type": "code",
   "execution_count": 5,
   "metadata": {},
   "outputs": [
    {
     "ename": "ERROR",
     "evalue": "Error in parse(text = x, srcfile = src): <text>:1:7: inesperado '='\n1: if (z =\n          ^\n",
     "output_type": "error",
     "traceback": [
      "Error in parse(text = x, srcfile = src): <text>:1:7: inesperado '='\n1: if (z =\n          ^\nTraceback:\n"
     ]
    }
   ],
   "source": [
    "if (z = 3 > 9) {\n",
    "    print('xsd')\n",
    "}"
   ]
  },
  {
   "cell_type": "code",
   "execution_count": 7,
   "metadata": {},
   "outputs": [
    {
     "name": "stdout",
     "output_type": "stream",
     "text": [
      "[1] \"xsd\"\n"
     ]
    }
   ],
   "source": [
    "if ((z <- 12) >= 9){\n",
    "    print('xsd')\n",
    "}"
   ]
  },
  {
   "cell_type": "code",
   "execution_count": 155,
   "metadata": {},
   "outputs": [
    {
     "name": "stdout",
     "output_type": "stream",
     "text": [
      "[1] \"Positive number\"\n"
     ]
    }
   ],
   "source": [
    "x <- 5\n",
    "\n",
    "if (x < 0) {\n",
    "print(\"Negative number\")\n",
    "} else if (x > 0) {\n",
    "print(\"Positive number\")\n",
    "} else {\n",
    "print(\"Zero\")}"
   ]
  },
  {
   "cell_type": "markdown",
   "metadata": {},
   "source": [
    "## Loops\n",
    "A for loop is used for iterating over a sequence. It has the following structure:\n",
    "\n",
    "<img src=\"for_loop.jpg\" alt=\"image info\" />\n",
    "\n"
   ]
  },
  {
   "cell_type": "code",
   "execution_count": 171,
   "metadata": {},
   "outputs": [
    {
     "data": {
      "text/html": [
       "<pre class=language-r><code>.Primitive(\"length\")</code></pre>"
      ],
      "text/latex": [
       "\\begin{minted}{r}\n",
       ".Primitive(\"length\")\n",
       "\\end{minted}"
      ],
      "text/markdown": [
       "```r\n",
       ".Primitive(\"length\")\n",
       "```"
      ],
      "text/plain": [
       "function (x)  .Primitive(\"length\")"
      ]
     },
     "metadata": {},
     "output_type": "display_data"
    }
   ],
   "source": [
    "age = c( 20 , 27 , 31 , 25 , 28 )\n",
    "years = c( 2023 , 2021 , 2022 , 2026 , 2027, 2028 )\n",
    "length"
   ]
  },
  {
   "cell_type": "code",
   "execution_count": 172,
   "metadata": {},
   "outputs": [
    {
     "data": {
      "text/html": [
       "<style>\n",
       ".list-inline {list-style: none; margin:0; padding: 0}\n",
       ".list-inline>li {display: inline-block}\n",
       ".list-inline>li:not(:last-child)::after {content: \"\\00b7\"; padding: 0 .5ex}\n",
       "</style>\n",
       "<ol class=list-inline><li>0</li><li>0</li><li>0</li><li>0</li><li>0</li></ol>\n"
      ],
      "text/latex": [
       "\\begin{enumerate*}\n",
       "\\item 0\n",
       "\\item 0\n",
       "\\item 0\n",
       "\\item 0\n",
       "\\item 0\n",
       "\\end{enumerate*}\n"
      ],
      "text/markdown": [
       "1. 0\n",
       "2. 0\n",
       "3. 0\n",
       "4. 0\n",
       "5. 0\n",
       "\n",
       "\n"
      ],
      "text/plain": [
       "[1] 0 0 0 0 0"
      ]
     },
     "metadata": {},
     "output_type": "display_data"
    }
   ],
   "source": [
    "age_finish <- numeric( length = length( age ) )\n",
    "age_finish"
   ]
  },
  {
   "cell_type": "code",
   "execution_count": 173,
   "metadata": {},
   "outputs": [
    {
     "name": "stdout",
     "output_type": "stream",
     "text": [
      "[1] 2\n",
      "[1] 3\n",
      "[1] 4\n",
      "[1] 5\n",
      "[1] 6\n"
     ]
    }
   ],
   "source": [
    "for ( i in c( 1:length( age ) ) ) {\n",
    "  print(i + 1)\n",
    "}"
   ]
  },
  {
   "cell_type": "code",
   "execution_count": 174,
   "metadata": {},
   "outputs": [
    {
     "name": "stdout",
     "output_type": "stream",
     "text": [
      "[1] 22 27 32 30 34\n"
     ]
    }
   ],
   "source": [
    "for ( i in c( 1:length( age ) ) ) {\n",
    "  age_finish[ i ] = age[ i ] + years[ i ] - 2021\n",
    "}\n",
    "print( age_finish )"
   ]
  },
  {
   "cell_type": "markdown",
   "metadata": {},
   "source": [
    "## Functions in R\n",
    "\n",
    "- `Arguments` − Elements that the function will use to make operations. Arguments are optional and can have default values.\n",
    "\n",
    "- `Function Body` − This defines what your function does.\n",
    "- `return` − Specifies the variable that will be the output of the function.\n",
    "\n",
    "Return Value − The return value of a function is the last expression in the function body to be evaluated.\n",
    "<br><br>\n",
    "<font size=\"4\">\n",
    "function <font color='green'>(arg_1, arg_2, ...) </font>{<br><br>\n",
    "&nbsp;&nbsp;&nbsp;&nbsp;Function body <br>\n",
    "    <br> &nbsp;&nbsp;&nbsp;&nbsp;return <br>\n",
    "}</font>\n"
   ]
  },
  {
   "cell_type": "code",
   "execution_count": 191,
   "metadata": {},
   "outputs": [],
   "source": [
    "demean<- function(x){ \n",
    "    new_var = x - mean(x)\n",
    "    new_var_2 = new_var^4\n",
    "    return( new_var_2 )\n",
    "}"
   ]
  },
  {
   "cell_type": "code",
   "execution_count": 192,
   "metadata": {},
   "outputs": [],
   "source": [
    "vector_2 = c(2 , 3, 4)"
   ]
  },
  {
   "cell_type": "code",
   "execution_count": 193,
   "metadata": {},
   "outputs": [
    {
     "data": {
      "text/html": [
       "<style>\n",
       ".list-inline {list-style: none; margin:0; padding: 0}\n",
       ".list-inline>li {display: inline-block}\n",
       ".list-inline>li:not(:last-child)::after {content: \"\\00b7\"; padding: 0 .5ex}\n",
       "</style>\n",
       "<ol class=list-inline><li>1</li><li>0</li><li>1</li></ol>\n"
      ],
      "text/latex": [
       "\\begin{enumerate*}\n",
       "\\item 1\n",
       "\\item 0\n",
       "\\item 1\n",
       "\\end{enumerate*}\n"
      ],
      "text/markdown": [
       "1. 1\n",
       "2. 0\n",
       "3. 1\n",
       "\n",
       "\n"
      ],
      "text/plain": [
       "[1] 1 0 1"
      ]
     },
     "metadata": {},
     "output_type": "display_data"
    }
   ],
   "source": [
    "demean( vector_2 )"
   ]
  },
  {
   "cell_type": "markdown",
   "metadata": {},
   "source": [
    "## Linear Regressions"
   ]
  },
  {
   "cell_type": "markdown",
   "metadata": {},
   "source": [
    "## Packages"
   ]
  },
  {
   "cell_type": "code",
   "execution_count": 47,
   "metadata": {},
   "outputs": [
    {
     "name": "stderr",
     "output_type": "stream",
     "text": [
      "Installing package into 'C:/Users/Roberto Carlos/Documents/R/win-library/4.1'\n",
      "(as 'lib' is unspecified)\n",
      "\n",
      "also installing the dependencies 'iterators', 'foreach', 'shape'\n",
      "\n",
      "\n"
     ]
    },
    {
     "name": "stdout",
     "output_type": "stream",
     "text": [
      "package 'iterators' successfully unpacked and MD5 sums checked\n",
      "package 'foreach' successfully unpacked and MD5 sums checked\n",
      "package 'shape' successfully unpacked and MD5 sums checked\n",
      "package 'glmnet' successfully unpacked and MD5 sums checked\n",
      "\n",
      "The downloaded binary packages are in\n",
      "\tC:\\Users\\Roberto Carlos\\AppData\\Local\\Temp\\RtmpKAvdRp\\downloaded_packages\n"
     ]
    }
   ],
   "source": [
    "install.packages( \"glmnet\" )"
   ]
  },
  {
   "cell_type": "code",
   "execution_count": 48,
   "metadata": {},
   "outputs": [
    {
     "name": "stderr",
     "output_type": "stream",
     "text": [
      "Loading required package: Matrix\n",
      "\n",
      "Loaded glmnet 4.1-3\n",
      "\n"
     ]
    }
   ],
   "source": [
    "library(glmnet)"
   ]
  },
  {
   "cell_type": "code",
   "execution_count": 49,
   "metadata": {},
   "outputs": [
    {
     "data": {
      "text/html": [
       "<style>\n",
       ".list-inline {list-style: none; margin:0; padding: 0}\n",
       ".list-inline>li {display: inline-block}\n",
       ".list-inline>li:not(:last-child)::after {content: \"\\00b7\"; padding: 0 .5ex}\n",
       "</style>\n",
       "<ol class=list-inline><li>13913</li><li>23</li></ol>\n"
      ],
      "text/latex": [
       "\\begin{enumerate*}\n",
       "\\item 13913\n",
       "\\item 23\n",
       "\\end{enumerate*}\n"
      ],
      "text/markdown": [
       "1. 13913\n",
       "2. 23\n",
       "\n",
       "\n"
      ],
      "text/plain": [
       "[1] 13913    23"
      ]
     },
     "metadata": {},
     "output_type": "display_data"
    }
   ],
   "source": [
    "\n",
    "# Reading data and converting to dataframe\n",
    "Penn <- as.data.frame(read.table(\"penn_jae.dat\", header=T ))\n",
    "dim(Penn)"
   ]
  },
  {
   "cell_type": "code",
   "execution_count": 50,
   "metadata": {},
   "outputs": [],
   "source": [
    "#Number of rows\n",
    "n <- dim(Penn)[1]\n",
    "\n",
    "# Number of columns\n",
    "p_1 <- dim(Penn)[2]"
   ]
  },
  {
   "cell_type": "code",
   "execution_count": 51,
   "metadata": {},
   "outputs": [],
   "source": [
    "# Filtering data to tg==4 | tg==0\n",
    "Penn<- subset(Penn, tg==4 | tg==0)\n",
    "\n",
    "# we are making the columns of the data frame as vectors available with its own name\n",
    "attach(Penn)"
   ]
  },
  {
   "cell_type": "code",
   "execution_count": 52,
   "metadata": {},
   "outputs": [
    {
     "data": {
      "text/html": [
       "'logical'"
      ],
      "text/latex": [
       "'logical'"
      ],
      "text/markdown": [
       "'logical'"
      ],
      "text/plain": [
       "[1] \"logical\""
      ]
     },
     "metadata": {},
     "output_type": "display_data"
    }
   ],
   "source": [
    "T4 <- (tg==4)\n",
    "typeof(T4)"
   ]
  },
  {
   "cell_type": "code",
   "execution_count": 53,
   "metadata": {},
   "outputs": [
    {
     "data": {
      "text/plain": [
       "   Mode   FALSE    TRUE \n",
       "logical    3354    1745 "
      ]
     },
     "metadata": {},
     "output_type": "display_data"
    }
   ],
   "source": [
    "summary(T4)"
   ]
  },
  {
   "cell_type": "markdown",
   "metadata": {},
   "source": [
    "### Formula\n",
    "For more information [link1](https://thomasleeper.com/Rcourse/Tutorials/formulae.html), [link2](https://www.datacamp.com/community/tutorials/r-formula-tutorial)."
   ]
  },
  {
   "cell_type": "code",
   "execution_count": 55,
   "metadata": {
    "scrolled": true
   },
   "outputs": [
    {
     "name": "stderr",
     "output_type": "stream",
     "text": [
      "Installing package into 'C:/Users/Roberto Carlos/Documents/R/win-library/4.1'\n",
      "(as 'lib' is unspecified)\n",
      "\n",
      "also installing the dependency 'zoo'\n",
      "\n",
      "\n"
     ]
    },
    {
     "name": "stdout",
     "output_type": "stream",
     "text": [
      "\n",
      "  There is a binary version available but the source version is later:\n",
      "       binary source needs_compilation\n",
      "lmtest 0.9-39 0.9-40              TRUE\n",
      "\n",
      "  Binaries will be installed\n",
      "package 'zoo' successfully unpacked and MD5 sums checked\n",
      "package 'lmtest' successfully unpacked and MD5 sums checked\n",
      "\n",
      "The downloaded binary packages are in\n",
      "\tC:\\Users\\Roberto Carlos\\AppData\\Local\\Temp\\RtmpKAvdRp\\downloaded_packages\n"
     ]
    },
    {
     "name": "stderr",
     "output_type": "stream",
     "text": [
      "Installing package into 'C:/Users/Roberto Carlos/Documents/R/win-library/4.1'\n",
      "(as 'lib' is unspecified)\n",
      "\n"
     ]
    },
    {
     "name": "stdout",
     "output_type": "stream",
     "text": [
      "package 'sandwich' successfully unpacked and MD5 sums checked\n",
      "\n",
      "The downloaded binary packages are in\n",
      "\tC:\\Users\\Roberto Carlos\\AppData\\Local\\Temp\\RtmpKAvdRp\\downloaded_packages\n"
     ]
    },
    {
     "name": "stderr",
     "output_type": "stream",
     "text": [
      "Loading required package: zoo\n",
      "\n",
      "\n",
      "Attaching package: 'zoo'\n",
      "\n",
      "\n",
      "The following objects are masked from 'package:base':\n",
      "\n",
      "    as.Date, as.Date.numeric\n",
      "\n",
      "\n"
     ]
    }
   ],
   "source": [
    "install.packages( \"lmtest\" )\n",
    "install.packages( \"sandwich\" )\n",
    "library(lmtest)\n",
    "library(sandwich)\n",
    "# Suggestion for update your R version"
   ]
  },
  {
   "cell_type": "code",
   "execution_count": 56,
   "metadata": {},
   "outputs": [
    {
     "data": {
      "text/html": [
       "'character'"
      ],
      "text/latex": [
       "'character'"
      ],
      "text/markdown": [
       "'character'"
      ],
      "text/plain": [
       "[1] \"character\""
      ]
     },
     "metadata": {},
     "output_type": "display_data"
    }
   ],
   "source": [
    "# Generation of formulas for regressions\n",
    "# The class formula\n",
    "formula1 <- \"T4 ~ female \"\n",
    "class(formula1)\n",
    "formula2 <- \"T4 ~ (female+black+othrace+factor(dep)+q2+q3+q4+q5+q6+agelt35+agegt54+durable+lusd+husd)**2)\"\n"
   ]
  },
  {
   "cell_type": "code",
   "execution_count": 57,
   "metadata": {},
   "outputs": [
    {
     "data": {
      "text/html": [
       "<style>\n",
       ".list-inline {list-style: none; margin:0; padding: 0}\n",
       ".list-inline>li {display: inline-block}\n",
       ".list-inline>li:not(:last-child)::after {content: \"\\00b7\"; padding: 0 .5ex}\n",
       "</style>\n",
       "<ol class=list-inline><li>'T4'</li><li>'female'</li><li>'black'</li></ol>\n"
      ],
      "text/latex": [
       "\\begin{enumerate*}\n",
       "\\item 'T4'\n",
       "\\item 'female'\n",
       "\\item 'black'\n",
       "\\end{enumerate*}\n"
      ],
      "text/markdown": [
       "1. 'T4'\n",
       "2. 'female'\n",
       "3. 'black'\n",
       "\n",
       "\n"
      ],
      "text/plain": [
       "[1] \"T4\"     \"female\" \"black\" "
      ]
     },
     "metadata": {},
     "output_type": "display_data"
    },
    {
     "name": "stdout",
     "output_type": "stream",
     "text": [
      "T4 ~ female - black\n",
      "attr(,\"variables\")\n",
      "list(T4, female, black)\n",
      "attr(,\"factors\")\n",
      "       female\n",
      "T4          0\n",
      "female      1\n",
      "black       0\n",
      "attr(,\"term.labels\")\n",
      "[1] \"female\"\n",
      "attr(,\"order\")\n",
      "[1] 1\n",
      "attr(,\"intercept\")\n",
      "[1] 1\n",
      "attr(,\"response\")\n",
      "[1] 1\n",
      "attr(,\".Environment\")\n",
      "<environment: R_GlobalEnv>\n"
     ]
    }
   ],
   "source": [
    "# We can use multiple independent variables b simply separating them with the plus symbol(+)\n",
    "formula2 <- (T4 ~ female + black )\n",
    "# See the variables in the formula\n",
    "all.vars( formula2 )\n",
    "\n",
    "formula3 <- (T4 ~ female - black )\n",
    "print( terms( formula3 ) )"
   ]
  },
  {
   "cell_type": "code",
   "execution_count": 58,
   "metadata": {},
   "outputs": [
    {
     "name": "stdout",
     "output_type": "stream",
     "text": [
      "T4 ~ female * black\n",
      "attr(,\"variables\")\n",
      "list(T4, female, black)\n",
      "attr(,\"factors\")\n",
      "       female black female:black\n",
      "T4          0     0            0\n",
      "female      1     0            1\n",
      "black       0     1            1\n",
      "attr(,\"term.labels\")\n",
      "[1] \"female\"       \"black\"        \"female:black\"\n",
      "attr(,\"order\")\n",
      "[1] 1 1 2\n",
      "attr(,\"intercept\")\n",
      "[1] 1\n",
      "attr(,\"response\")\n",
      "[1] 1\n",
      "attr(,\".Environment\")\n",
      "<environment: R_GlobalEnv>\n",
      "T4 ~ female:black\n",
      "attr(,\"variables\")\n",
      "list(T4, female, black)\n",
      "attr(,\"factors\")\n",
      "       female:black\n",
      "T4                0\n",
      "female            2\n",
      "black             2\n",
      "attr(,\"term.labels\")\n",
      "[1] \"female:black\"\n",
      "attr(,\"order\")\n",
      "[1] 2\n",
      "attr(,\"intercept\")\n",
      "[1] 1\n",
      "attr(,\"response\")\n",
      "[1] 1\n",
      "attr(,\".Environment\")\n",
      "<environment: R_GlobalEnv>\n"
     ]
    }
   ],
   "source": [
    "# Interactions terms\n",
    "# We include the two terms and their interaction\n",
    "formula5  <- (T4 ~ female * black)\n",
    "print( terms( formula5 ) )\n",
    "\n",
    "# We include only the interaction\n",
    "formula6  <- (T4 ~ female:black)\n",
    "print( terms( formula6 ) )"
   ]
  },
  {
   "cell_type": "code",
   "execution_count": 59,
   "metadata": {},
   "outputs": [
    {
     "name": "stdout",
     "output_type": "stream",
     "text": [
      "T4 ~ female * black\n",
      "attr(,\"variables\")\n",
      "list(T4, female, black)\n",
      "attr(,\"factors\")\n",
      "       female black female:black\n",
      "T4          0     0            0\n",
      "female      1     0            1\n",
      "black       0     1            1\n",
      "attr(,\"term.labels\")\n",
      "[1] \"female\"       \"black\"        \"female:black\"\n",
      "attr(,\"order\")\n",
      "[1] 1 1 2\n",
      "attr(,\"intercept\")\n",
      "[1] 1\n",
      "attr(,\"response\")\n",
      "[1] 1\n",
      "attr(,\".Environment\")\n",
      "<environment: R_GlobalEnv>\n",
      "T4 ~ -1 + female * black\n",
      "attr(,\"variables\")\n",
      "list(T4, female, black)\n",
      "attr(,\"factors\")\n",
      "       female black female:black\n",
      "T4          0     0            0\n",
      "female      1     0            1\n",
      "black       0     1            1\n",
      "attr(,\"term.labels\")\n",
      "[1] \"female\"       \"black\"        \"female:black\"\n",
      "attr(,\"order\")\n",
      "[1] 1 1 2\n",
      "attr(,\"intercept\")\n",
      "[1] 0\n",
      "attr(,\"response\")\n",
      "[1] 1\n",
      "attr(,\".Environment\")\n",
      "<environment: R_GlobalEnv>\n",
      "T4 ~ female:black\n",
      "attr(,\"variables\")\n",
      "list(T4, female, black)\n",
      "attr(,\"factors\")\n",
      "       female:black\n",
      "T4                0\n",
      "female            2\n",
      "black             2\n",
      "attr(,\"term.labels\")\n",
      "[1] \"female:black\"\n",
      "attr(,\"order\")\n",
      "[1] 2\n",
      "attr(,\"intercept\")\n",
      "[1] 1\n",
      "attr(,\"response\")\n",
      "[1] 1\n",
      "attr(,\".Environment\")\n",
      "<environment: R_GlobalEnv>\n",
      "T4 ~ 0 + female:black\n",
      "attr(,\"variables\")\n",
      "list(T4, female, black)\n",
      "attr(,\"factors\")\n",
      "       female:black\n",
      "T4                0\n",
      "female            2\n",
      "black             2\n",
      "attr(,\"term.labels\")\n",
      "[1] \"female:black\"\n",
      "attr(,\"order\")\n",
      "[1] 2\n",
      "attr(,\"intercept\")\n",
      "[1] 0\n",
      "attr(,\"response\")\n",
      "[1] 1\n",
      "attr(,\".Environment\")\n",
      "<environment: R_GlobalEnv>\n"
     ]
    }
   ],
   "source": [
    "# Drop the intercept\n",
    "# Method 1\n",
    "formula5  <- (T4 ~  female * black)\n",
    "print( terms( formula5 ) )\n",
    "\n",
    "formula6  <- (T4 ~  -1 + female * black)\n",
    "print( terms( formula6 ) )\n",
    "\n",
    "# Method 2\n",
    "formula7  <- (T4 ~ female:black)\n",
    "print( terms( formula7 ) )\n",
    "\n",
    "formula8  <- (T4 ~ 0 + female:black)\n",
    "print( terms( formula8 ) )"
   ]
  },
  {
   "cell_type": "code",
   "execution_count": 60,
   "metadata": {},
   "outputs": [
    {
     "data": {
      "text/html": [
       "<style>\n",
       ".list-inline {list-style: none; margin:0; padding: 0}\n",
       ".list-inline>li {display: inline-block}\n",
       ".list-inline>li:not(:last-child)::after {content: \"\\00b7\"; padding: 0 .5ex}\n",
       "</style>\n",
       "<ol class=list-inline><li>0</li><li>1</li><li>0</li><li>1</li><li>1</li><li>0</li><li>0</li><li>2</li><li>2</li><li>0</li><li>2</li><li>0</li><li>0</li><li>2</li><li>0</li><li>0</li><li>0</li></ol>\n"
      ],
      "text/latex": [
       "\\begin{enumerate*}\n",
       "\\item 0\n",
       "\\item 1\n",
       "\\item 0\n",
       "\\item 1\n",
       "\\item 1\n",
       "\\item 0\n",
       "\\item 0\n",
       "\\item 2\n",
       "\\item 2\n",
       "\\item 0\n",
       "\\item 2\n",
       "\\item 0\n",
       "\\item 0\n",
       "\\item 2\n",
       "\\item 0\n",
       "\\item 0\n",
       "\\item 0\n",
       "\\end{enumerate*}\n"
      ],
      "text/markdown": [
       "1. 0\n",
       "2. 1\n",
       "3. 0\n",
       "4. 1\n",
       "5. 1\n",
       "6. 0\n",
       "7. 0\n",
       "8. 2\n",
       "9. 2\n",
       "10. 0\n",
       "11. 2\n",
       "12. 0\n",
       "13. 0\n",
       "14. 2\n",
       "15. 0\n",
       "16. 0\n",
       "17. 0\n",
       "\n",
       "\n"
      ],
      "text/plain": [
       " [1] 0 1 0 1 1 0 0 2 2 0 2 0 0 2 0 0 0"
      ]
     },
     "metadata": {},
     "output_type": "display_data"
    },
    {
     "data": {
      "text/html": [
       "'integer'"
      ],
      "text/latex": [
       "'integer'"
      ],
      "text/markdown": [
       "'integer'"
      ],
      "text/plain": [
       "[1] \"integer\""
      ]
     },
     "metadata": {},
     "output_type": "display_data"
    },
    {
     "name": "stdout",
     "output_type": "stream",
     "text": [
      "T4 ~ female * black + factor(dep)\n",
      "attr(,\"variables\")\n",
      "list(T4, female, black, factor(dep))\n",
      "attr(,\"factors\")\n",
      "            female black factor(dep) female:black\n",
      "T4               0     0           0            0\n",
      "female           1     0           0            1\n",
      "black            0     1           0            1\n",
      "factor(dep)      0     0           1            0\n",
      "attr(,\"term.labels\")\n",
      "[1] \"female\"       \"black\"        \"factor(dep)\"  \"female:black\"\n",
      "attr(,\"order\")\n",
      "[1] 1 1 1 2\n",
      "attr(,\"intercept\")\n",
      "[1] 1\n",
      "attr(,\"response\")\n",
      "[1] 1\n",
      "attr(,\".Environment\")\n",
      "<environment: R_GlobalEnv>\n",
      "T4 ~ female * black + dep\n",
      "attr(,\"variables\")\n",
      "list(T4, female, black, dep)\n",
      "attr(,\"factors\")\n",
      "       female black dep female:black\n",
      "T4          0     0   0            0\n",
      "female      1     0   0            1\n",
      "black       0     1   0            1\n",
      "dep         0     0   1            0\n",
      "attr(,\"term.labels\")\n",
      "[1] \"female\"       \"black\"        \"dep\"          \"female:black\"\n",
      "attr(,\"order\")\n",
      "[1] 1 1 1 2\n",
      "attr(,\"intercept\")\n",
      "[1] 1\n",
      "attr(,\"response\")\n",
      "[1] 1\n",
      "attr(,\".Environment\")\n",
      "<environment: R_GlobalEnv>\n"
     ]
    }
   ],
   "source": [
    "# Factor in regression Analysis\n",
    "# dep is a factor variable but as defaul it is a vector\n",
    "dep[ 4:20 ]\n",
    "class(dep)\n",
    "# factor(dep) == as.factor( dep )\n",
    "\n",
    "# we need to specify that dep is a factor variable in a regression formula to not be treated as a numeric vector\n",
    "# by default, the factor's first level treated as a baseline\n",
    "formula6  <- (T4 ~  female * black + factor( dep ) )\n",
    "print( terms( formula6 ) )\n",
    "\n",
    "formula7  <- (T4 ~  female * black + dep )\n",
    "print( terms( formula7 ) )"
   ]
  },
  {
   "cell_type": "code",
   "execution_count": 61,
   "metadata": {},
   "outputs": [
    {
     "name": "stdout",
     "output_type": "stream",
     "text": [
      "T4 ~ female + black + lusd + lusd^2\n",
      "attr(,\"variables\")\n",
      "list(T4, female, black, lusd)\n",
      "attr(,\"factors\")\n",
      "       female black lusd\n",
      "T4          0     0    0\n",
      "female      1     0    0\n",
      "black       0     1    0\n",
      "lusd        0     0    1\n",
      "attr(,\"term.labels\")\n",
      "[1] \"female\" \"black\"  \"lusd\"  \n",
      "attr(,\"order\")\n",
      "[1] 1 1 1\n",
      "attr(,\"intercept\")\n",
      "[1] 1\n",
      "attr(,\"response\")\n",
      "[1] 1\n",
      "attr(,\".Environment\")\n",
      "<environment: R_GlobalEnv>\n"
     ]
    },
    {
     "data": {
      "text/html": [
       "'formula'"
      ],
      "text/latex": [
       "'formula'"
      ],
      "text/markdown": [
       "'formula'"
      ],
      "text/plain": [
       "[1] \"formula\""
      ]
     },
     "metadata": {},
     "output_type": "display_data"
    },
    {
     "name": "stdout",
     "output_type": "stream",
     "text": [
      "T4 ~ female + black + lusd + factor(dep)\n",
      "attr(,\"variables\")\n",
      "list(T4, female, black, lusd, factor(dep))\n",
      "attr(,\"factors\")\n",
      "            female black lusd factor(dep)\n",
      "T4               0     0    0           0\n",
      "female           1     0    0           0\n",
      "black            0     1    0           0\n",
      "lusd             0     0    1           0\n",
      "factor(dep)      0     0    0           1\n",
      "attr(,\"term.labels\")\n",
      "[1] \"female\"      \"black\"       \"lusd\"        \"factor(dep)\"\n",
      "attr(,\"order\")\n",
      "[1] 1 1 1 1\n",
      "attr(,\"intercept\")\n",
      "[1] 1\n",
      "attr(,\"response\")\n",
      "[1] 1\n",
      "attr(,\".Environment\")\n",
      "<environment: R_GlobalEnv>\n"
     ]
    }
   ],
   "source": [
    "# We can update formulas \n",
    "formula_modelA  <- (T4 ~  female + black + lusd + lusd ^ 2 )\n",
    "print( terms( formula_modelA ) )\n",
    "class( formula_modelA )\n",
    "\n",
    "# formula for model B\n",
    "formula_modelB  <- update( formula_modelA, ~ . + factor(dep))\n",
    "print( terms( formula_modelB ) )"
   ]
  },
  {
   "cell_type": "markdown",
   "metadata": {},
   "source": [
    "## Regressions Objects\n",
    "We will understand the output from a regression"
   ]
  },
  {
   "cell_type": "code",
   "execution_count": 62,
   "metadata": {},
   "outputs": [],
   "source": [
    "key_columns  <-  c('female', 'black', 'lusd' , 'dep', 'T4')"
   ]
  },
  {
   "cell_type": "code",
   "execution_count": 63,
   "metadata": {},
   "outputs": [],
   "source": [
    "data2  <-  data.frame( Penn[(names( Penn ) %in% key_columns ) ] )"
   ]
  },
  {
   "cell_type": "code",
   "execution_count": 64,
   "metadata": {},
   "outputs": [
    {
     "data": {
      "text/html": [
       "'list'"
      ],
      "text/latex": [
       "'list'"
      ],
      "text/markdown": [
       "'list'"
      ],
      "text/plain": [
       "[1] \"list\""
      ]
     },
     "metadata": {},
     "output_type": "display_data"
    },
    {
     "data": {
      "text/html": [
       "TRUE"
      ],
      "text/latex": [
       "TRUE"
      ],
      "text/markdown": [
       "TRUE"
      ],
      "text/plain": [
       "[1] TRUE"
      ]
     },
     "metadata": {},
     "output_type": "display_data"
    },
    {
     "data": {
      "text/html": [
       "<style>\n",
       ".list-inline {list-style: none; margin:0; padding: 0}\n",
       ".list-inline>li {display: inline-block}\n",
       ".list-inline>li:not(:last-child)::after {content: \"\\00b7\"; padding: 0 .5ex}\n",
       "</style>\n",
       "<ol class=list-inline><li>'coefficients'</li><li>'residuals'</li><li>'effects'</li><li>'rank'</li><li>'fitted.values'</li><li>'assign'</li><li>'qr'</li><li>'df.residual'</li><li>'contrasts'</li><li>'xlevels'</li><li>'call'</li><li>'terms'</li><li>'model'</li></ol>\n"
      ],
      "text/latex": [
       "\\begin{enumerate*}\n",
       "\\item 'coefficients'\n",
       "\\item 'residuals'\n",
       "\\item 'effects'\n",
       "\\item 'rank'\n",
       "\\item 'fitted.values'\n",
       "\\item 'assign'\n",
       "\\item 'qr'\n",
       "\\item 'df.residual'\n",
       "\\item 'contrasts'\n",
       "\\item 'xlevels'\n",
       "\\item 'call'\n",
       "\\item 'terms'\n",
       "\\item 'model'\n",
       "\\end{enumerate*}\n"
      ],
      "text/markdown": [
       "1. 'coefficients'\n",
       "2. 'residuals'\n",
       "3. 'effects'\n",
       "4. 'rank'\n",
       "5. 'fitted.values'\n",
       "6. 'assign'\n",
       "7. 'qr'\n",
       "8. 'df.residual'\n",
       "9. 'contrasts'\n",
       "10. 'xlevels'\n",
       "11. 'call'\n",
       "12. 'terms'\n",
       "13. 'model'\n",
       "\n",
       "\n"
      ],
      "text/plain": [
       " [1] \"coefficients\"  \"residuals\"     \"effects\"       \"rank\"         \n",
       " [5] \"fitted.values\" \"assign\"        \"qr\"            \"df.residual\"  \n",
       " [9] \"contrasts\"     \"xlevels\"       \"call\"          \"terms\"        \n",
       "[13] \"model\"        "
      ]
     },
     "metadata": {},
     "output_type": "display_data"
    }
   ],
   "source": [
    "# Regression\n",
    "reg1 <- lm(formula_modelB , data2 )\n",
    "\n",
    "# The output is a list of elements\n",
    "typeof(reg1)\n",
    "is.list( reg1 )\n",
    "# All the elements in the list are detailed in the table bellow.\n",
    "names( reg1 )"
   ]
  },
  {
   "cell_type": "markdown",
   "metadata": {},
   "source": [
    "| Elements \t| Definition \t|\n",
    "|---\t|---\t|\n",
    "| coefficients \t| Vector of coefficients. \t|\n",
    "| residuals \t| Vector of residuals. \t|\n",
    "| effects \t| Vector of the uncorrelated single-degree-of-freedom <br>values obtained by projecting the data onto the successive <br>orthogonal subspaces generated by the QR decomposition <br>during the fitting process. \t|\n",
    "| rank \t| Number of independent columns. \t|\n",
    "| fitted.values \t| Vector of fitted values. \t|\n",
    "| qr \t| The QR decomposition. \t|\n",
    "| df.residual \t| The degrees of freedom of the residuals. \t|\n",
    "| contrasts \t| A contrast is a linear combination of variables <br>that allows comparison of different treatments. \t|\n",
    "| xlevels \t| Levels of the factor variables. \t|\n",
    "| call \t| The formula. \t|\n",
    "| terms \t| Variables of the regression. \t|\n",
    "| model \t| DataFrame of the variables in the model. \t|"
   ]
  },
  {
   "cell_type": "markdown",
   "metadata": {},
   "source": [
    "#### Predictions\n",
    "We can get the vector of predictions using the formula `predict`."
   ]
  },
  {
   "cell_type": "code",
   "execution_count": 65,
   "metadata": {},
   "outputs": [
    {
     "data": {
      "text/html": [
       "<table class=\"dataframe\">\n",
       "<caption>A data.frame: 5099 × 4</caption>\n",
       "<thead>\n",
       "\t<tr><th></th><th scope=col>female</th><th scope=col>black</th><th scope=col>dep</th><th scope=col>lusd</th></tr>\n",
       "\t<tr><th></th><th scope=col>&lt;int&gt;</th><th scope=col>&lt;int&gt;</th><th scope=col>&lt;int&gt;</th><th scope=col>&lt;int&gt;</th></tr>\n",
       "</thead>\n",
       "<tbody>\n",
       "\t<tr><th scope=row>1</th><td>0</td><td>0</td><td>2</td><td>0</td></tr>\n",
       "\t<tr><th scope=row>4</th><td>0</td><td>0</td><td>0</td><td>1</td></tr>\n",
       "\t<tr><th scope=row>5</th><td>0</td><td>0</td><td>0</td><td>1</td></tr>\n",
       "\t<tr><th scope=row>12</th><td>0</td><td>0</td><td>0</td><td>0</td></tr>\n",
       "\t<tr><th scope=row>13</th><td>0</td><td>0</td><td>1</td><td>1</td></tr>\n",
       "\t<tr><th scope=row>14</th><td>1</td><td>0</td><td>0</td><td>1</td></tr>\n",
       "\t<tr><th scope=row>15</th><td>1</td><td>0</td><td>1</td><td>1</td></tr>\n",
       "\t<tr><th scope=row>17</th><td>1</td><td>0</td><td>1</td><td>1</td></tr>\n",
       "\t<tr><th scope=row>23</th><td>1</td><td>0</td><td>0</td><td>1</td></tr>\n",
       "\t<tr><th scope=row>25</th><td>1</td><td>0</td><td>0</td><td>1</td></tr>\n",
       "\t<tr><th scope=row>26</th><td>1</td><td>0</td><td>2</td><td>0</td></tr>\n",
       "\t<tr><th scope=row>27</th><td>1</td><td>0</td><td>2</td><td>0</td></tr>\n",
       "\t<tr><th scope=row>32</th><td>1</td><td>0</td><td>0</td><td>0</td></tr>\n",
       "\t<tr><th scope=row>33</th><td>1</td><td>0</td><td>2</td><td>0</td></tr>\n",
       "\t<tr><th scope=row>39</th><td>1</td><td>0</td><td>0</td><td>1</td></tr>\n",
       "\t<tr><th scope=row>43</th><td>0</td><td>0</td><td>0</td><td>1</td></tr>\n",
       "\t<tr><th scope=row>49</th><td>0</td><td>0</td><td>2</td><td>1</td></tr>\n",
       "\t<tr><th scope=row>50</th><td>0</td><td>0</td><td>0</td><td>1</td></tr>\n",
       "\t<tr><th scope=row>58</th><td>0</td><td>0</td><td>0</td><td>1</td></tr>\n",
       "\t<tr><th scope=row>59</th><td>0</td><td>1</td><td>0</td><td>0</td></tr>\n",
       "\t<tr><th scope=row>60</th><td>0</td><td>0</td><td>1</td><td>0</td></tr>\n",
       "\t<tr><th scope=row>61</th><td>1</td><td>0</td><td>2</td><td>0</td></tr>\n",
       "\t<tr><th scope=row>63</th><td>0</td><td>0</td><td>0</td><td>0</td></tr>\n",
       "\t<tr><th scope=row>65</th><td>0</td><td>0</td><td>2</td><td>1</td></tr>\n",
       "\t<tr><th scope=row>72</th><td>0</td><td>0</td><td>0</td><td>1</td></tr>\n",
       "\t<tr><th scope=row>73</th><td>0</td><td>0</td><td>0</td><td>0</td></tr>\n",
       "\t<tr><th scope=row>75</th><td>0</td><td>0</td><td>2</td><td>0</td></tr>\n",
       "\t<tr><th scope=row>77</th><td>0</td><td>0</td><td>0</td><td>0</td></tr>\n",
       "\t<tr><th scope=row>81</th><td>0</td><td>0</td><td>0</td><td>1</td></tr>\n",
       "\t<tr><th scope=row>82</th><td>0</td><td>0</td><td>2</td><td>1</td></tr>\n",
       "\t<tr><th scope=row>...</th><td>...</td><td>...</td><td>...</td><td>...</td></tr>\n",
       "\t<tr><th scope=row>13829</th><td>0</td><td>0</td><td>0</td><td>0</td></tr>\n",
       "\t<tr><th scope=row>13831</th><td>0</td><td>0</td><td>0</td><td>0</td></tr>\n",
       "\t<tr><th scope=row>13842</th><td>0</td><td>0</td><td>1</td><td>0</td></tr>\n",
       "\t<tr><th scope=row>13845</th><td>1</td><td>0</td><td>1</td><td>1</td></tr>\n",
       "\t<tr><th scope=row>13846</th><td>0</td><td>0</td><td>1</td><td>1</td></tr>\n",
       "\t<tr><th scope=row>13847</th><td>0</td><td>0</td><td>2</td><td>0</td></tr>\n",
       "\t<tr><th scope=row>13854</th><td>0</td><td>0</td><td>0</td><td>0</td></tr>\n",
       "\t<tr><th scope=row>13864</th><td>0</td><td>0</td><td>0</td><td>0</td></tr>\n",
       "\t<tr><th scope=row>13872</th><td>0</td><td>0</td><td>0</td><td>1</td></tr>\n",
       "\t<tr><th scope=row>13873</th><td>0</td><td>0</td><td>2</td><td>1</td></tr>\n",
       "\t<tr><th scope=row>13875</th><td>0</td><td>0</td><td>2</td><td>0</td></tr>\n",
       "\t<tr><th scope=row>13876</th><td>0</td><td>0</td><td>0</td><td>0</td></tr>\n",
       "\t<tr><th scope=row>13877</th><td>1</td><td>0</td><td>0</td><td>0</td></tr>\n",
       "\t<tr><th scope=row>13880</th><td>0</td><td>0</td><td>2</td><td>0</td></tr>\n",
       "\t<tr><th scope=row>13883</th><td>1</td><td>0</td><td>1</td><td>0</td></tr>\n",
       "\t<tr><th scope=row>13888</th><td>0</td><td>0</td><td>0</td><td>1</td></tr>\n",
       "\t<tr><th scope=row>13891</th><td>0</td><td>0</td><td>0</td><td>0</td></tr>\n",
       "\t<tr><th scope=row>13892</th><td>1</td><td>0</td><td>0</td><td>0</td></tr>\n",
       "\t<tr><th scope=row>13893</th><td>1</td><td>0</td><td>0</td><td>1</td></tr>\n",
       "\t<tr><th scope=row>13894</th><td>1</td><td>0</td><td>0</td><td>1</td></tr>\n",
       "\t<tr><th scope=row>13895</th><td>0</td><td>0</td><td>0</td><td>0</td></tr>\n",
       "\t<tr><th scope=row>13896</th><td>1</td><td>0</td><td>0</td><td>1</td></tr>\n",
       "\t<tr><th scope=row>13899</th><td>0</td><td>1</td><td>0</td><td>0</td></tr>\n",
       "\t<tr><th scope=row>13900</th><td>1</td><td>1</td><td>0</td><td>1</td></tr>\n",
       "\t<tr><th scope=row>13901</th><td>1</td><td>0</td><td>2</td><td>0</td></tr>\n",
       "\t<tr><th scope=row>13905</th><td>0</td><td>0</td><td>0</td><td>0</td></tr>\n",
       "\t<tr><th scope=row>13906</th><td>0</td><td>0</td><td>2</td><td>0</td></tr>\n",
       "\t<tr><th scope=row>13907</th><td>0</td><td>0</td><td>2</td><td>1</td></tr>\n",
       "\t<tr><th scope=row>13911</th><td>0</td><td>0</td><td>0</td><td>0</td></tr>\n",
       "\t<tr><th scope=row>13912</th><td>0</td><td>0</td><td>0</td><td>1</td></tr>\n",
       "</tbody>\n",
       "</table>\n"
      ],
      "text/latex": [
       "A data.frame: 5099 × 4\n",
       "\\begin{tabular}{r|llll}\n",
       "  & female & black & dep & lusd\\\\\n",
       "  & <int> & <int> & <int> & <int>\\\\\n",
       "\\hline\n",
       "\t1 & 0 & 0 & 2 & 0\\\\\n",
       "\t4 & 0 & 0 & 0 & 1\\\\\n",
       "\t5 & 0 & 0 & 0 & 1\\\\\n",
       "\t12 & 0 & 0 & 0 & 0\\\\\n",
       "\t13 & 0 & 0 & 1 & 1\\\\\n",
       "\t14 & 1 & 0 & 0 & 1\\\\\n",
       "\t15 & 1 & 0 & 1 & 1\\\\\n",
       "\t17 & 1 & 0 & 1 & 1\\\\\n",
       "\t23 & 1 & 0 & 0 & 1\\\\\n",
       "\t25 & 1 & 0 & 0 & 1\\\\\n",
       "\t26 & 1 & 0 & 2 & 0\\\\\n",
       "\t27 & 1 & 0 & 2 & 0\\\\\n",
       "\t32 & 1 & 0 & 0 & 0\\\\\n",
       "\t33 & 1 & 0 & 2 & 0\\\\\n",
       "\t39 & 1 & 0 & 0 & 1\\\\\n",
       "\t43 & 0 & 0 & 0 & 1\\\\\n",
       "\t49 & 0 & 0 & 2 & 1\\\\\n",
       "\t50 & 0 & 0 & 0 & 1\\\\\n",
       "\t58 & 0 & 0 & 0 & 1\\\\\n",
       "\t59 & 0 & 1 & 0 & 0\\\\\n",
       "\t60 & 0 & 0 & 1 & 0\\\\\n",
       "\t61 & 1 & 0 & 2 & 0\\\\\n",
       "\t63 & 0 & 0 & 0 & 0\\\\\n",
       "\t65 & 0 & 0 & 2 & 1\\\\\n",
       "\t72 & 0 & 0 & 0 & 1\\\\\n",
       "\t73 & 0 & 0 & 0 & 0\\\\\n",
       "\t75 & 0 & 0 & 2 & 0\\\\\n",
       "\t77 & 0 & 0 & 0 & 0\\\\\n",
       "\t81 & 0 & 0 & 0 & 1\\\\\n",
       "\t82 & 0 & 0 & 2 & 1\\\\\n",
       "\t... & ... & ... & ... & ...\\\\\n",
       "\t13829 & 0 & 0 & 0 & 0\\\\\n",
       "\t13831 & 0 & 0 & 0 & 0\\\\\n",
       "\t13842 & 0 & 0 & 1 & 0\\\\\n",
       "\t13845 & 1 & 0 & 1 & 1\\\\\n",
       "\t13846 & 0 & 0 & 1 & 1\\\\\n",
       "\t13847 & 0 & 0 & 2 & 0\\\\\n",
       "\t13854 & 0 & 0 & 0 & 0\\\\\n",
       "\t13864 & 0 & 0 & 0 & 0\\\\\n",
       "\t13872 & 0 & 0 & 0 & 1\\\\\n",
       "\t13873 & 0 & 0 & 2 & 1\\\\\n",
       "\t13875 & 0 & 0 & 2 & 0\\\\\n",
       "\t13876 & 0 & 0 & 0 & 0\\\\\n",
       "\t13877 & 1 & 0 & 0 & 0\\\\\n",
       "\t13880 & 0 & 0 & 2 & 0\\\\\n",
       "\t13883 & 1 & 0 & 1 & 0\\\\\n",
       "\t13888 & 0 & 0 & 0 & 1\\\\\n",
       "\t13891 & 0 & 0 & 0 & 0\\\\\n",
       "\t13892 & 1 & 0 & 0 & 0\\\\\n",
       "\t13893 & 1 & 0 & 0 & 1\\\\\n",
       "\t13894 & 1 & 0 & 0 & 1\\\\\n",
       "\t13895 & 0 & 0 & 0 & 0\\\\\n",
       "\t13896 & 1 & 0 & 0 & 1\\\\\n",
       "\t13899 & 0 & 1 & 0 & 0\\\\\n",
       "\t13900 & 1 & 1 & 0 & 1\\\\\n",
       "\t13901 & 1 & 0 & 2 & 0\\\\\n",
       "\t13905 & 0 & 0 & 0 & 0\\\\\n",
       "\t13906 & 0 & 0 & 2 & 0\\\\\n",
       "\t13907 & 0 & 0 & 2 & 1\\\\\n",
       "\t13911 & 0 & 0 & 0 & 0\\\\\n",
       "\t13912 & 0 & 0 & 0 & 1\\\\\n",
       "\\end{tabular}\n"
      ],
      "text/markdown": [
       "\n",
       "A data.frame: 5099 × 4\n",
       "\n",
       "| <!--/--> | female &lt;int&gt; | black &lt;int&gt; | dep &lt;int&gt; | lusd &lt;int&gt; |\n",
       "|---|---|---|---|---|\n",
       "| 1 | 0 | 0 | 2 | 0 |\n",
       "| 4 | 0 | 0 | 0 | 1 |\n",
       "| 5 | 0 | 0 | 0 | 1 |\n",
       "| 12 | 0 | 0 | 0 | 0 |\n",
       "| 13 | 0 | 0 | 1 | 1 |\n",
       "| 14 | 1 | 0 | 0 | 1 |\n",
       "| 15 | 1 | 0 | 1 | 1 |\n",
       "| 17 | 1 | 0 | 1 | 1 |\n",
       "| 23 | 1 | 0 | 0 | 1 |\n",
       "| 25 | 1 | 0 | 0 | 1 |\n",
       "| 26 | 1 | 0 | 2 | 0 |\n",
       "| 27 | 1 | 0 | 2 | 0 |\n",
       "| 32 | 1 | 0 | 0 | 0 |\n",
       "| 33 | 1 | 0 | 2 | 0 |\n",
       "| 39 | 1 | 0 | 0 | 1 |\n",
       "| 43 | 0 | 0 | 0 | 1 |\n",
       "| 49 | 0 | 0 | 2 | 1 |\n",
       "| 50 | 0 | 0 | 0 | 1 |\n",
       "| 58 | 0 | 0 | 0 | 1 |\n",
       "| 59 | 0 | 1 | 0 | 0 |\n",
       "| 60 | 0 | 0 | 1 | 0 |\n",
       "| 61 | 1 | 0 | 2 | 0 |\n",
       "| 63 | 0 | 0 | 0 | 0 |\n",
       "| 65 | 0 | 0 | 2 | 1 |\n",
       "| 72 | 0 | 0 | 0 | 1 |\n",
       "| 73 | 0 | 0 | 0 | 0 |\n",
       "| 75 | 0 | 0 | 2 | 0 |\n",
       "| 77 | 0 | 0 | 0 | 0 |\n",
       "| 81 | 0 | 0 | 0 | 1 |\n",
       "| 82 | 0 | 0 | 2 | 1 |\n",
       "| ... | ... | ... | ... | ... |\n",
       "| 13829 | 0 | 0 | 0 | 0 |\n",
       "| 13831 | 0 | 0 | 0 | 0 |\n",
       "| 13842 | 0 | 0 | 1 | 0 |\n",
       "| 13845 | 1 | 0 | 1 | 1 |\n",
       "| 13846 | 0 | 0 | 1 | 1 |\n",
       "| 13847 | 0 | 0 | 2 | 0 |\n",
       "| 13854 | 0 | 0 | 0 | 0 |\n",
       "| 13864 | 0 | 0 | 0 | 0 |\n",
       "| 13872 | 0 | 0 | 0 | 1 |\n",
       "| 13873 | 0 | 0 | 2 | 1 |\n",
       "| 13875 | 0 | 0 | 2 | 0 |\n",
       "| 13876 | 0 | 0 | 0 | 0 |\n",
       "| 13877 | 1 | 0 | 0 | 0 |\n",
       "| 13880 | 0 | 0 | 2 | 0 |\n",
       "| 13883 | 1 | 0 | 1 | 0 |\n",
       "| 13888 | 0 | 0 | 0 | 1 |\n",
       "| 13891 | 0 | 0 | 0 | 0 |\n",
       "| 13892 | 1 | 0 | 0 | 0 |\n",
       "| 13893 | 1 | 0 | 0 | 1 |\n",
       "| 13894 | 1 | 0 | 0 | 1 |\n",
       "| 13895 | 0 | 0 | 0 | 0 |\n",
       "| 13896 | 1 | 0 | 0 | 1 |\n",
       "| 13899 | 0 | 1 | 0 | 0 |\n",
       "| 13900 | 1 | 1 | 0 | 1 |\n",
       "| 13901 | 1 | 0 | 2 | 0 |\n",
       "| 13905 | 0 | 0 | 0 | 0 |\n",
       "| 13906 | 0 | 0 | 2 | 0 |\n",
       "| 13907 | 0 | 0 | 2 | 1 |\n",
       "| 13911 | 0 | 0 | 0 | 0 |\n",
       "| 13912 | 0 | 0 | 0 | 1 |\n",
       "\n"
      ],
      "text/plain": [
       "      female black dep lusd\n",
       "1     0      0     2   0   \n",
       "4     0      0     0   1   \n",
       "5     0      0     0   1   \n",
       "12    0      0     0   0   \n",
       "13    0      0     1   1   \n",
       "14    1      0     0   1   \n",
       "15    1      0     1   1   \n",
       "17    1      0     1   1   \n",
       "23    1      0     0   1   \n",
       "25    1      0     0   1   \n",
       "26    1      0     2   0   \n",
       "27    1      0     2   0   \n",
       "32    1      0     0   0   \n",
       "33    1      0     2   0   \n",
       "39    1      0     0   1   \n",
       "43    0      0     0   1   \n",
       "49    0      0     2   1   \n",
       "50    0      0     0   1   \n",
       "58    0      0     0   1   \n",
       "59    0      1     0   0   \n",
       "60    0      0     1   0   \n",
       "61    1      0     2   0   \n",
       "63    0      0     0   0   \n",
       "65    0      0     2   1   \n",
       "72    0      0     0   1   \n",
       "73    0      0     0   0   \n",
       "75    0      0     2   0   \n",
       "77    0      0     0   0   \n",
       "81    0      0     0   1   \n",
       "82    0      0     2   1   \n",
       "...   ...    ...   ... ... \n",
       "13829 0      0     0   0   \n",
       "13831 0      0     0   0   \n",
       "13842 0      0     1   0   \n",
       "13845 1      0     1   1   \n",
       "13846 0      0     1   1   \n",
       "13847 0      0     2   0   \n",
       "13854 0      0     0   0   \n",
       "13864 0      0     0   0   \n",
       "13872 0      0     0   1   \n",
       "13873 0      0     2   1   \n",
       "13875 0      0     2   0   \n",
       "13876 0      0     0   0   \n",
       "13877 1      0     0   0   \n",
       "13880 0      0     2   0   \n",
       "13883 1      0     1   0   \n",
       "13888 0      0     0   1   \n",
       "13891 0      0     0   0   \n",
       "13892 1      0     0   0   \n",
       "13893 1      0     0   1   \n",
       "13894 1      0     0   1   \n",
       "13895 0      0     0   0   \n",
       "13896 1      0     0   1   \n",
       "13899 0      1     0   0   \n",
       "13900 1      1     0   1   \n",
       "13901 1      0     2   0   \n",
       "13905 0      0     0   0   \n",
       "13906 0      0     2   0   \n",
       "13907 0      0     2   1   \n",
       "13911 0      0     0   0   \n",
       "13912 0      0     0   1   "
      ]
     },
     "metadata": {},
     "output_type": "display_data"
    }
   ],
   "source": [
    "data2"
   ]
  },
  {
   "cell_type": "code",
   "execution_count": 66,
   "metadata": {},
   "outputs": [],
   "source": [
    "new_obs  <- data.frame(matrix( c(0, 0, 1 , 1), ncol= 4, dimnames = list( c() , c( \"female\" , \"black\" , \"dep\", \"lusd\"  ) ) ))"
   ]
  },
  {
   "cell_type": "code",
   "execution_count": 67,
   "metadata": {},
   "outputs": [
    {
     "data": {
      "text/html": [
       "<table class=\"dataframe\">\n",
       "<caption>A data.frame: 1 × 4</caption>\n",
       "<thead>\n",
       "\t<tr><th scope=col>female</th><th scope=col>black</th><th scope=col>dep</th><th scope=col>lusd</th></tr>\n",
       "\t<tr><th scope=col>&lt;dbl&gt;</th><th scope=col>&lt;dbl&gt;</th><th scope=col>&lt;dbl&gt;</th><th scope=col>&lt;dbl&gt;</th></tr>\n",
       "</thead>\n",
       "<tbody>\n",
       "\t<tr><td>0</td><td>0</td><td>1</td><td>1</td></tr>\n",
       "</tbody>\n",
       "</table>\n"
      ],
      "text/latex": [
       "A data.frame: 1 × 4\n",
       "\\begin{tabular}{llll}\n",
       " female & black & dep & lusd\\\\\n",
       " <dbl> & <dbl> & <dbl> & <dbl>\\\\\n",
       "\\hline\n",
       "\t 0 & 0 & 1 & 1\\\\\n",
       "\\end{tabular}\n"
      ],
      "text/markdown": [
       "\n",
       "A data.frame: 1 × 4\n",
       "\n",
       "| female &lt;dbl&gt; | black &lt;dbl&gt; | dep &lt;dbl&gt; | lusd &lt;dbl&gt; |\n",
       "|---|---|---|---|\n",
       "| 0 | 0 | 1 | 1 |\n",
       "\n"
      ],
      "text/plain": [
       "  female black dep lusd\n",
       "1 0      0     1   1   "
      ]
     },
     "metadata": {},
     "output_type": "display_data"
    }
   ],
   "source": [
    "new_obs"
   ]
  },
  {
   "cell_type": "code",
   "execution_count": 68,
   "metadata": {},
   "outputs": [
    {
     "data": {
      "text/html": [
       "<strong>1:</strong> 0.359962436403646"
      ],
      "text/latex": [
       "\\textbf{1:} 0.359962436403646"
      ],
      "text/markdown": [
       "**1:** 0.359962436403646"
      ],
      "text/plain": [
       "        1 \n",
       "0.3599624 "
      ]
     },
     "metadata": {},
     "output_type": "display_data"
    }
   ],
   "source": [
    "y_hat  <- predict(reg1,  new_obs )\n",
    "y_hat"
   ]
  },
  {
   "cell_type": "code",
   "execution_count": 131,
   "metadata": {},
   "outputs": [
    {
     "data": {
      "text/plain": [
       "\n",
       "Call:\n",
       "lm(formula = formula_modelB, data = data2)\n",
       "\n",
       "Coefficients:\n",
       " (Intercept)        female         black          lusd  factor(dep)1  \n",
       "    0.334987     -0.003385      0.007083      0.027561     -0.002586  \n",
       "factor(dep)2  \n",
       "    0.005105  \n"
      ]
     },
     "metadata": {},
     "output_type": "display_data"
    }
   ],
   "source": [
    "reg1"
   ]
  },
  {
   "cell_type": "code",
   "execution_count": 132,
   "metadata": {},
   "outputs": [
    {
     "data": {
      "text/plain": [
       "\n",
       "Call:\n",
       "lm(formula = formula_modelB, data = data2)\n",
       "\n",
       "Residuals:\n",
       "    Min      1Q  Median      3Q     Max \n",
       "-0.3747 -0.3401 -0.3324  0.6434  0.6710 \n",
       "\n",
       "Coefficients:\n",
       "              Estimate Std. Error t value Pr(>|t|)    \n",
       "(Intercept)   0.334987   0.010803  31.008   <2e-16 ***\n",
       "female       -0.003385   0.013595  -0.249   0.8034    \n",
       "black         0.007083   0.020388   0.347   0.7283    \n",
       "lusd          0.027561   0.015188   1.815   0.0696 .  \n",
       "factor(dep)1 -0.002586   0.021332  -0.121   0.9035    \n",
       "factor(dep)2  0.005105   0.018257   0.280   0.7798    \n",
       "---\n",
       "Signif. codes:  0 '***' 0.001 '**' 0.01 '*' 0.05 '.' 0.1 ' ' 1\n",
       "\n",
       "Residual standard error: 0.4746 on 5093 degrees of freedom\n",
       "Multiple R-squared:  0.0006796,\tAdjusted R-squared:  -0.0003015 \n",
       "F-statistic: 0.6927 on 5 and 5093 DF,  p-value: 0.6289\n"
      ]
     },
     "metadata": {},
     "output_type": "display_data"
    },
    {
     "data": {
      "text/html": [
       "<style>\n",
       ".list-inline {list-style: none; margin:0; padding: 0}\n",
       ".list-inline>li {display: inline-block}\n",
       ".list-inline>li:not(:last-child)::after {content: \"\\00b7\"; padding: 0 .5ex}\n",
       "</style>\n",
       "<ol class=list-inline><li>'call'</li><li>'terms'</li><li>'residuals'</li><li>'coefficients'</li><li>'aliased'</li><li>'sigma'</li><li>'df'</li><li>'r.squared'</li><li>'adj.r.squared'</li><li>'fstatistic'</li><li>'cov.unscaled'</li></ol>\n"
      ],
      "text/latex": [
       "\\begin{enumerate*}\n",
       "\\item 'call'\n",
       "\\item 'terms'\n",
       "\\item 'residuals'\n",
       "\\item 'coefficients'\n",
       "\\item 'aliased'\n",
       "\\item 'sigma'\n",
       "\\item 'df'\n",
       "\\item 'r.squared'\n",
       "\\item 'adj.r.squared'\n",
       "\\item 'fstatistic'\n",
       "\\item 'cov.unscaled'\n",
       "\\end{enumerate*}\n"
      ],
      "text/markdown": [
       "1. 'call'\n",
       "2. 'terms'\n",
       "3. 'residuals'\n",
       "4. 'coefficients'\n",
       "5. 'aliased'\n",
       "6. 'sigma'\n",
       "7. 'df'\n",
       "8. 'r.squared'\n",
       "9. 'adj.r.squared'\n",
       "10. 'fstatistic'\n",
       "11. 'cov.unscaled'\n",
       "\n",
       "\n"
      ],
      "text/plain": [
       " [1] \"call\"          \"terms\"         \"residuals\"     \"coefficients\" \n",
       " [5] \"aliased\"       \"sigma\"         \"df\"            \"r.squared\"    \n",
       " [9] \"adj.r.squared\" \"fstatistic\"    \"cov.unscaled\" "
      ]
     },
     "metadata": {},
     "output_type": "display_data"
    },
    {
     "data": {
      "text/html": [
       "TRUE"
      ],
      "text/latex": [
       "TRUE"
      ],
      "text/markdown": [
       "TRUE"
      ],
      "text/plain": [
       "[1] TRUE"
      ]
     },
     "metadata": {},
     "output_type": "display_data"
    },
    {
     "data": {
      "text/html": [
       "FALSE"
      ],
      "text/latex": [
       "FALSE"
      ],
      "text/markdown": [
       "FALSE"
      ],
      "text/plain": [
       "[1] FALSE"
      ]
     },
     "metadata": {},
     "output_type": "display_data"
    },
    {
     "data": {
      "text/html": [
       "TRUE"
      ],
      "text/latex": [
       "TRUE"
      ],
      "text/markdown": [
       "TRUE"
      ],
      "text/plain": [
       "[1] TRUE"
      ]
     },
     "metadata": {},
     "output_type": "display_data"
    }
   ],
   "source": [
    "# We can summary the regression output to get a estimation table using summary\n",
    "summary( reg1 )\n",
    "# This object is a list and we can go to each element to get key variables of information\n",
    "names( summary( reg1 ) )\n",
    "\n",
    "# Summary of regression is a list\n",
    "is.list(summary( reg1 ))\n",
    "is.data.frame(summary( reg1 ))\n",
    "is.matrix(summary( reg1 )$coefficients)\n"
   ]
  }
 ],
 "metadata": {
  "hide_input": false,
  "kernelspec": {
   "display_name": "R",
   "language": "R",
   "name": "ir"
  },
  "language_info": {
   "codemirror_mode": "r",
   "file_extension": ".r",
   "mimetype": "text/x-r-source",
   "name": "R",
   "pygments_lexer": "r",
   "version": "4.1.3"
  }
 },
 "nbformat": 4,
 "nbformat_minor": 4
}
