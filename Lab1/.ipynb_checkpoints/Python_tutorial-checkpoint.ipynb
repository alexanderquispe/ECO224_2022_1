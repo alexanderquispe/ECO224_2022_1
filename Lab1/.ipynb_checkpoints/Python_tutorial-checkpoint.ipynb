{
 "cells": [
  {
   "cell_type": "markdown",
   "metadata": {},
   "source": [
    "# Python Basic Tutorial "
   ]
  },
  {
   "cell_type": "markdown",
   "metadata": {},
   "source": [
    "# Libraries\n",
    "\n",
    "A library is a collection of modules or a single module. Modules are python programs that can be imported in another Python program. Libraries are the tools we will use to make our program.\n",
    "\n",
    "Some special libraries such import $TensorFlow, Keras, Geopandas$ requiere of using Conda Promtp. We back this issue later. \n"
   ]
  },
  {
   "cell_type": "code",
   "execution_count": 1,
   "metadata": {},
   "outputs": [],
   "source": [
    "import pandas as pd\n",
    "import numpy as np"
   ]
  },
  {
   "cell_type": "markdown",
   "metadata": {},
   "source": [
    "### Python Types\n",
    "\n",
    "There are three key python types: int, float, string and boolean."
   ]
  },
  {
   "cell_type": "code",
   "execution_count": 147,
   "metadata": {},
   "outputs": [
    {
     "name": "stdout",
     "output_type": "stream",
     "text": [
      "<class 'int'>\n",
      "<class 'float'>\n",
      "Machine Learning \n",
      " Causal inference\n",
      "Machine Learning ; Causal inference\n"
     ]
    }
   ],
   "source": [
    "# Int type\n",
    "a = 30\n",
    "print(type(a))\n",
    "\n",
    "# Float type\n",
    "a2 = 3.1416165516\n",
    "print(type(a2))\n",
    "\n",
    "#String type\n",
    "c1 = \"Machine Learning\"\n",
    "c2 = \"Causal inference\"\n",
    "type(c1)\n",
    "print(c1,'\\n',c2)\n",
    "print(c1+\" ; \" +c2)\n"
   ]
  },
  {
   "cell_type": "code",
   "execution_count": 24,
   "metadata": {},
   "outputs": [
    {
     "name": "stdout",
     "output_type": "stream",
     "text": [
      "M ; Causal\n",
      "Machine Learning y Causal inference course\n"
     ]
    }
   ],
   "source": [
    "# get some strings \n",
    "\n",
    "print(c1[0], \";\", c2[0:6])\n",
    "\n",
    "# Use f-string \n",
    "\n",
    "print(f'{c1} y {c2} course')"
   ]
  },
  {
   "cell_type": "code",
   "execution_count": 37,
   "metadata": {},
   "outputs": [
    {
     "name": "stdout",
     "output_type": "stream",
     "text": [
      "<class 'bool'> \n",
      " <class 'bool'>\n",
      "True \n",
      " False\n"
     ]
    },
    {
     "data": {
      "text/plain": [
       "0"
      ]
     },
     "execution_count": 37,
     "metadata": {},
     "output_type": "execute_result"
    }
   ],
   "source": [
    "# Boolea variables\n",
    "a = True\n",
    "b = False\n",
    "\n",
    "print(type(a), '\\n', type(b))\n",
    "\n",
    "\"a\" == \"a\"\n",
    "\n",
    "z1 = (10 > 20)\n",
    "\n",
    "z2 = (1==1)\n",
    "\n",
    "print(z2,'\\n', z1)\n",
    "\n",
    "int(z1)\n",
    "\n"
   ]
  },
  {
   "cell_type": "markdown",
   "metadata": {},
   "source": [
    "## 3.0 Tuple\n",
    "\n",
    "#### It is an ordered and immutable Python object"
   ]
  },
  {
   "cell_type": "code",
   "execution_count": 38,
   "metadata": {},
   "outputs": [
    {
     "name": "stdout",
     "output_type": "stream",
     "text": [
      "Suma: 83 \n",
      " Minimo: 1 \n",
      " Maximo: 20\n"
     ]
    }
   ],
   "source": [
    "T1 = (1,4,8,10,20,15,4,5,8,8)\n",
    "type(T1)\n",
    "\n",
    "\n",
    "print(\"Suma:\", sum(T1),'\\n', \"Minimo:\", min(T1), '\\n', \"Maximo:\", max(T1))"
   ]
  },
  {
   "cell_type": "code",
   "execution_count": 42,
   "metadata": {},
   "outputs": [
    {
     "ename": "TypeError",
     "evalue": "'tuple' object does not support item assignment",
     "output_type": "error",
     "traceback": [
      "\u001b[1;31m---------------------------------------------------------------------------\u001b[0m",
      "\u001b[1;31mTypeError\u001b[0m                                 Traceback (most recent call last)",
      "\u001b[1;32m<ipython-input-42-3126e3a00c09>\u001b[0m in \u001b[0;36m<module>\u001b[1;34m\u001b[0m\n\u001b[0;32m      1\u001b[0m \u001b[1;31m# It is not possible to change\u001b[0m\u001b[1;33m\u001b[0m\u001b[1;33m\u001b[0m\u001b[1;33m\u001b[0m\u001b[0m\n\u001b[1;32m----> 2\u001b[1;33m \u001b[0mT1\u001b[0m\u001b[1;33m[\u001b[0m\u001b[1;36m1\u001b[0m\u001b[1;33m]\u001b[0m \u001b[1;33m=\u001b[0m \u001b[1;36m5\u001b[0m\u001b[1;33m\u001b[0m\u001b[1;33m\u001b[0m\u001b[0m\n\u001b[0m",
      "\u001b[1;31mTypeError\u001b[0m: 'tuple' object does not support item assignment"
     ]
    }
   ],
   "source": [
    "# It is not possible to change\n",
    "T1[1] = 5"
   ]
  },
  {
   "cell_type": "markdown",
   "metadata": {},
   "source": [
    "# 4.0 List\n",
    "\n",
    "#### It is an ordered and mutable Python container."
   ]
  },
  {
   "cell_type": "code",
   "execution_count": 43,
   "metadata": {},
   "outputs": [
    {
     "data": {
      "text/plain": [
       "list"
      ]
     },
     "execution_count": 43,
     "metadata": {},
     "output_type": "execute_result"
    }
   ],
   "source": [
    "a = [3,4,5,\"ATE\", 'BARRANCO','BREÑA', 'CALLAO', 'CARABAYLLO']\n",
    "type(a)"
   ]
  },
  {
   "cell_type": "code",
   "execution_count": 44,
   "metadata": {},
   "outputs": [],
   "source": [
    "# Empty List\n",
    "\n",
    "L1 = []"
   ]
  },
  {
   "cell_type": "markdown",
   "metadata": {},
   "source": [
    "### Indexing\n",
    "Selecting elements starting from 0. I know it sounds crazy. \n",
    "Selecting takes one position before the last requested column"
   ]
  },
  {
   "cell_type": "code",
   "execution_count": 49,
   "metadata": {},
   "outputs": [
    {
     "name": "stdout",
     "output_type": "stream",
     "text": [
      "first element: 3\n",
      "[4, 5, 'ATE']\n",
      "first 5 element: [3, 4, 5, 'ATE', 'BARRANCO']\n"
     ]
    }
   ],
   "source": [
    "print('first element:',a[0])\n",
    "print(a[1:4]) # takes element position 1° to 3°, NOT 4°\n",
    "print('first 5 element:',a[0:5]) # 0,1,2,3,4 "
   ]
  },
  {
   "cell_type": "code",
   "execution_count": 50,
   "metadata": {},
   "outputs": [],
   "source": [
    "# use next line to complete list\n",
    "\n",
    "b = ['ATE', 'BARRANCO','BREÑA', 'CALLAO', 'CARABAYLLO','CHACLACAYO','CHORRILLOS','CIENEGUILLA'\n",
    "            ,'COMAS','EL_AGUSTINO','INDEPENDENCIA']"
   ]
  },
  {
   "cell_type": "code",
   "execution_count": 89,
   "metadata": {},
   "outputs": [
    {
     "name": "stdout",
     "output_type": "stream",
     "text": [
      "['COMAS', 'EL_AGUSTINO', 'INDEPENDENCIA']\n"
     ]
    }
   ],
   "source": [
    "# last elements \n",
    "print(b[-3:])"
   ]
  },
  {
   "cell_type": "code",
   "execution_count": 90,
   "metadata": {},
   "outputs": [
    {
     "data": {
      "text/plain": [
       "11"
      ]
     },
     "execution_count": 90,
     "metadata": {},
     "output_type": "execute_result"
    }
   ],
   "source": [
    "len(b)"
   ]
  },
  {
   "cell_type": "code",
   "execution_count": 93,
   "metadata": {},
   "outputs": [
    {
     "name": "stdout",
     "output_type": "stream",
     "text": [
      "['ATE', 'BARRANCO', 'BREÑA', 'CALLAO', 'CARABAYLLO', 'CHACLACAYO', 'CHORRILLOS', 'CIENEGUILLA', 'COMAS', 'EL_AGUSTINO', 'INDEPENDENCIA', 10, 20, 30, 10, 20, 30]\n"
     ]
    }
   ],
   "source": [
    "# add elements to list\n",
    "\n",
    "num = [10,20,30]\n",
    "b.extend(num)\n",
    "print(b)"
   ]
  },
  {
   "cell_type": "markdown",
   "metadata": {},
   "source": [
    "# Dictionaries - THE WITCH\n",
    "It is a unordered and mutable Python container."
   ]
  },
  {
   "cell_type": "code",
   "execution_count": 104,
   "metadata": {},
   "outputs": [
    {
     "data": {
      "text/plain": [
       "dict_keys(['Berlin', 'Hamburg', 'Munich', 'Cologne', 'Frankfurt'])"
      ]
     },
     "execution_count": 104,
     "metadata": {},
     "output_type": "execute_result"
    }
   ],
   "source": [
    "# dictionary containing the population of the 5 largest german cities\n",
    "population = {'Berlin': 3748148, 'Hamburg': 1822445, 'Munich': 1471508, 'Cologne': 1085664, 'Frankfurt': 753056 }\n",
    "population.keys()"
   ]
  },
  {
   "cell_type": "code",
   "execution_count": 96,
   "metadata": {},
   "outputs": [
    {
     "data": {
      "text/plain": [
       "3748148"
      ]
     },
     "execution_count": 96,
     "metadata": {},
     "output_type": "execute_result"
    }
   ],
   "source": [
    "population['Berlin']"
   ]
  },
  {
   "cell_type": "code",
   "execution_count": 97,
   "metadata": {},
   "outputs": [
    {
     "data": {
      "text/plain": [
       "1822445"
      ]
     },
     "execution_count": 97,
     "metadata": {},
     "output_type": "execute_result"
    }
   ],
   "source": [
    "population['Hamburg']"
   ]
  },
  {
   "cell_type": "code",
   "execution_count": 114,
   "metadata": {},
   "outputs": [],
   "source": [
    "population_18_19 = {'Berlin': [3748148, 38000, \"alex\"], 'Hamburg': [1822445, 1922445], \n",
    "                    'Munich': 1471508, 'Cologne': 1085664, 'Frankfurt': 753056 , 'lima': 1100000}"
   ]
  },
  {
   "cell_type": "code",
   "execution_count": 101,
   "metadata": {},
   "outputs": [
    {
     "data": {
      "text/plain": [
       "[3748148, 38000, 'alex']"
      ]
     },
     "execution_count": 101,
     "metadata": {},
     "output_type": "execute_result"
    }
   ],
   "source": [
    "population_18_19['Berlin']"
   ]
  },
  {
   "cell_type": "code",
   "execution_count": 117,
   "metadata": {},
   "outputs": [
    {
     "data": {
      "text/plain": [
       "7795157"
      ]
     },
     "execution_count": 117,
     "metadata": {},
     "output_type": "execute_result"
    }
   ],
   "source": [
    "pop_germnay = population_18_19[\"Berlin\"][0] + population_18_19[\"Munich\"] + population_18_19[\"Hamburg\"][0]+ population_18_19[\"Frankfurt\"]\n",
    "pop_germnay"
   ]
  },
  {
   "cell_type": "code",
   "execution_count": 125,
   "metadata": {},
   "outputs": [
    {
     "data": {
      "text/plain": [
       "{'LOMAS': {'UBIGEO': 40311,\n",
       "  'Poverty Rate': {'Upper_bound': '18.2%', 'Lower_bound': '14.4%'},\n",
       "  'Population': '20 mil'}}"
      ]
     },
     "execution_count": 125,
     "metadata": {},
     "output_type": "execute_result"
    }
   ],
   "source": [
    "Postal_code =  {\"LOMAS\": {\"UBIGEO\": 40311, \"Poverty Rate\" : {\"Upper_bound\":\"18.2%\", \"Lower_bound\":\"14.4%\"}, \"Population\" : \"20 mil\"}}\n",
    "\n",
    "Postal_code"
   ]
  },
  {
   "cell_type": "code",
   "execution_count": 124,
   "metadata": {},
   "outputs": [
    {
     "data": {
      "text/plain": [
       "{'Upper_bound': '18.2%', 'Lower_bound': '14.4%'}"
      ]
     },
     "execution_count": 124,
     "metadata": {},
     "output_type": "execute_result"
    }
   ],
   "source": [
    "Postal_code['LOMAS']['Poverty Rate']"
   ]
  },
  {
   "cell_type": "code",
   "execution_count": 126,
   "metadata": {},
   "outputs": [
    {
     "data": {
      "text/plain": [
       "'18.2%'"
      ]
     },
     "execution_count": 126,
     "metadata": {},
     "output_type": "execute_result"
    }
   ],
   "source": [
    "Postal_code['LOMAS']['Poverty Rate']['Upper_bound']"
   ]
  },
  {
   "cell_type": "markdown",
   "metadata": {},
   "source": [
    "# Array (vectors and matrix)"
   ]
  },
  {
   "cell_type": "markdown",
   "metadata": {},
   "source": [
    "### [Key Methods](https://cs231n.github.io/python-numpy-tutorial/)\n",
    "\n",
    "| Method | Description |\n",
    "| -------- | ------------ |\n",
    "|dtype  | type of elements in the array|\n",
    "|ndim   |  dimension of array|\n",
    "|shape  |  tuple with the dimmension of the array|\n",
    "|size |  total number of elements in the array|"
   ]
  },
  {
   "cell_type": "code",
   "execution_count": 131,
   "metadata": {},
   "outputs": [
    {
     "data": {
      "text/plain": [
       "numpy.ndarray"
      ]
     },
     "execution_count": 131,
     "metadata": {},
     "output_type": "execute_result"
    }
   ],
   "source": [
    "a = np.array( [1, 2, 3, 4, 5] )\n",
    "a\n",
    "type(a)"
   ]
  },
  {
   "cell_type": "code",
   "execution_count": 135,
   "metadata": {},
   "outputs": [
    {
     "name": "stdout",
     "output_type": "stream",
     "text": [
      "5\n",
      "(5,)\n",
      "1\n"
     ]
    }
   ],
   "source": [
    "print(a.size)\n",
    "print(a.shape)\n",
    "print(a.ndim)"
   ]
  },
  {
   "cell_type": "code",
   "execution_count": 144,
   "metadata": {},
   "outputs": [
    {
     "name": "stdout",
     "output_type": "stream",
     "text": [
      "[[3 4 2]\n",
      " [1 2 6]]\n",
      "n° elements: 6 \n",
      " rows and columns: (2, 3) \n",
      " n° dimension: 2\n"
     ]
    }
   ],
   "source": [
    "# 2D array\n",
    "M = np.array( [ [3, 4, 2], [1, 2, 6] ] )\n",
    "print(M)\n",
    "print(\"n° elements:\", M.size, '\\n', \"rows and columns:\", M.shape, '\\n', \"n° dimension:\", M.ndim)"
   ]
  },
  {
   "cell_type": "markdown",
   "metadata": {},
   "source": [
    "### ***[Array Creation Routines](https://numpy.org/doc/stable/reference/routines.array-creation.html)***\n",
    "\n",
    "\n",
    "|Function|Return|\n",
    "| --- | --- |\n",
    "|arange( )|array of sequence|\n",
    "|eye( )|diagonal array|\n",
    "|ones( )|array of ones|\n",
    "|zeros( )|array of zeros|"
   ]
  },
  {
   "cell_type": "code",
   "execution_count": 156,
   "metadata": {},
   "outputs": [
    {
     "name": "stdout",
     "output_type": "stream",
     "text": [
      "[ 1  6 11]\n"
     ]
    },
    {
     "data": {
      "text/plain": [
       "numpy.ndarray"
      ]
     },
     "execution_count": 156,
     "metadata": {},
     "output_type": "execute_result"
    }
   ],
   "source": [
    "peru = np.arange(start = 1,stop = 13,step = 5)\n",
    "print(peru)\n",
    "type(peru)"
   ]
  },
  {
   "cell_type": "code",
   "execution_count": 159,
   "metadata": {},
   "outputs": [
    {
     "name": "stdout",
     "output_type": "stream",
     "text": [
      "[ 0  2  4  6  8 10 12 14 16 18]\n",
      "[0 2 4]\n"
     ]
    }
   ],
   "source": [
    "y = np.arange( 0, 20, 2 )\n",
    "print(y)\n",
    "print(y[0:3])"
   ]
  },
  {
   "cell_type": "code",
   "execution_count": 160,
   "metadata": {},
   "outputs": [],
   "source": [
    "y1 = np.arange( 1, 10 ) # one step "
   ]
  },
  {
   "cell_type": "code",
   "execution_count": 170,
   "metadata": {},
   "outputs": [
    {
     "name": "stdout",
     "output_type": "stream",
     "text": [
      "[1. 1. 1. 1. 1. 1. 1. 1. 1. 1.] \n",
      "\n",
      "[[1. 1. 1. 1. 1. 1. 1. 1. 1. 1.]\n",
      " [1. 1. 1. 1. 1. 1. 1. 1. 1. 1.]\n",
      " [1. 1. 1. 1. 1. 1. 1. 1. 1. 1.]\n",
      " [1. 1. 1. 1. 1. 1. 1. 1. 1. 1.]\n",
      " [1. 1. 1. 1. 1. 1. 1. 1. 1. 1.]\n",
      " [1. 1. 1. 1. 1. 1. 1. 1. 1. 1.]\n",
      " [1. 1. 1. 1. 1. 1. 1. 1. 1. 1.]\n",
      " [1. 1. 1. 1. 1. 1. 1. 1. 1. 1.]\n",
      " [1. 1. 1. 1. 1. 1. 1. 1. 1. 1.]\n",
      " [1. 1. 1. 1. 1. 1. 1. 1. 1. 1.]]\n"
     ]
    }
   ],
   "source": [
    "a4 = np.ones(10)\n",
    "print(a4, '\\n')\n",
    "a5 = np.ones((10,10))\n",
    "print(a5)"
   ]
  },
  {
   "cell_type": "code",
   "execution_count": 172,
   "metadata": {
    "scrolled": true
   },
   "outputs": [
    {
     "name": "stdout",
     "output_type": "stream",
     "text": [
      "[0. 0. 0. 0. 0.] \n",
      "\n",
      "[[0. 0. 0. 0. 0. 0. 0. 0. 0. 0.]\n",
      " [0. 0. 0. 0. 0. 0. 0. 0. 0. 0.]\n",
      " [0. 0. 0. 0. 0. 0. 0. 0. 0. 0.]\n",
      " [0. 0. 0. 0. 0. 0. 0. 0. 0. 0.]\n",
      " [0. 0. 0. 0. 0. 0. 0. 0. 0. 0.]\n",
      " [0. 0. 0. 0. 0. 0. 0. 0. 0. 0.]\n",
      " [0. 0. 0. 0. 0. 0. 0. 0. 0. 0.]\n",
      " [0. 0. 0. 0. 0. 0. 0. 0. 0. 0.]\n",
      " [0. 0. 0. 0. 0. 0. 0. 0. 0. 0.]\n",
      " [0. 0. 0. 0. 0. 0. 0. 0. 0. 0.]]\n"
     ]
    }
   ],
   "source": [
    "a6 = np.zeros(5)\n",
    "print(a6,'\\n')\n",
    "a7 = np.zeros((10,10))\n",
    "print(a7)"
   ]
  },
  {
   "cell_type": "code",
   "execution_count": 197,
   "metadata": {},
   "outputs": [
    {
     "data": {
      "text/plain": [
       "array([[  0,   1,   2,   3,   4,   5,   6,   7,   8,   9],\n",
       "       [ 10,  11,  12,  13,  14,  15,  16,  17,  18,  19],\n",
       "       [ 30,  31,  32,  33,  34,  35,  36,  37,  38,  39],\n",
       "       [-20, -19, -18, -17, -16, -15, -14, -13, -12, -11],\n",
       "       [  2,   4,   6,   8,  10,  12,  14,  16,  18,  20]])"
      ]
     },
     "execution_count": 197,
     "metadata": {},
     "output_type": "execute_result"
    }
   ],
   "source": [
    "a8 = np.array([np.arange(0,10), np.arange(10,20), np.arange(30,40), np.arange(-20,-10), np.arange(2,21,2)])\n",
    "a8"
   ]
  },
  {
   "cell_type": "code",
   "execution_count": 201,
   "metadata": {},
   "outputs": [
    {
     "data": {
      "text/plain": [
       "array([[ 30,  31,  32,  33,  34,  35,  36,  37,  38,  39],\n",
       "       [-20, -19, -18, -17, -16, -15, -14, -13, -12, -11],\n",
       "       [  2,   4,   6,   8,  10,  12,  14,  16,  18,  20]])"
      ]
     },
     "execution_count": 201,
     "metadata": {},
     "output_type": "execute_result"
    }
   ],
   "source": [
    "a8[2:5,:]  # rows selecrtion"
   ]
  },
  {
   "cell_type": "code",
   "execution_count": 202,
   "metadata": {},
   "outputs": [
    {
     "data": {
      "text/plain": [
       "array([[  0,   1,   2,   3,   4,   5],\n",
       "       [ 10,  11,  12,  13,  14,  15],\n",
       "       [ 30,  31,  32,  33,  34,  35],\n",
       "       [-20, -19, -18, -17, -16, -15],\n",
       "       [  2,   4,   6,   8,  10,  12]])"
      ]
     },
     "execution_count": 202,
     "metadata": {},
     "output_type": "execute_result"
    }
   ],
   "source": [
    "a8[:,0:6]  # columns selecrtion"
   ]
  },
  {
   "cell_type": "markdown",
   "metadata": {},
   "source": [
    "### ***[Array Manipulation](https://numpy.org/doc/stable/reference/routines.array-manipulation.html)***"
   ]
  },
  {
   "cell_type": "code",
   "execution_count": 206,
   "metadata": {},
   "outputs": [
    {
     "name": "stdout",
     "output_type": "stream",
     "text": [
      "[ 0  1  2  3  4  5  6  7  8  9 10 11 12 13 14 15 16 17 18 19 20 21 22 23]\n"
     ]
    }
   ],
   "source": [
    "# Reshape\n",
    "\n",
    "w = np.arange(0,24)\n",
    "print( w )"
   ]
  },
  {
   "cell_type": "code",
   "execution_count": 207,
   "metadata": {},
   "outputs": [
    {
     "name": "stdout",
     "output_type": "stream",
     "text": [
      "[[ 0  1  2  3  4  5]\n",
      " [ 6  7  8  9 10 11]\n",
      " [12 13 14 15 16 17]\n",
      " [18 19 20 21 22 23]]\n"
     ]
    }
   ],
   "source": [
    "print(w.reshape(4,6))"
   ]
  },
  {
   "cell_type": "code",
   "execution_count": 208,
   "metadata": {},
   "outputs": [
    {
     "name": "stdout",
     "output_type": "stream",
     "text": [
      "[[ 0  1  2  3  4  5  6  7  8  9 10 11]\n",
      " [12 13 14 15 16 17 18 19 20 21 22 23]]\n"
     ]
    }
   ],
   "source": [
    "print(w.reshape(2,12))"
   ]
  },
  {
   "cell_type": "code",
   "execution_count": 214,
   "metadata": {},
   "outputs": [
    {
     "name": "stdout",
     "output_type": "stream",
     "text": [
      "[[0. 0.]\n",
      " [0. 0.]\n",
      " [0. 0.]\n",
      " [0. 0.]\n",
      " [0. 0.]\n",
      " [0. 0.]\n",
      " [0. 0.]\n",
      " [0. 0.]] \n",
      " \n",
      " [[1. 1. 1. 1.]\n",
      " [1. 1. 1. 1.]\n",
      " [1. 1. 1. 1.]\n",
      " [1. 1. 1. 1.]\n",
      " [1. 1. 1. 1.]\n",
      " [1. 1. 1. 1.]\n",
      " [1. 1. 1. 1.]\n",
      " [1. 1. 1. 1.]]\n"
     ]
    }
   ],
   "source": [
    "M1 = np.zeros( (8, 2) )\n",
    "M2 = np.ones( (8, 4) )\n",
    "print(M1,\"\\n\",\"\\n\", M2)"
   ]
  },
  {
   "cell_type": "code",
   "execution_count": 215,
   "metadata": {
    "scrolled": true
   },
   "outputs": [
    {
     "data": {
      "text/plain": [
       "array([[0., 0., 1., 1., 1., 1.],\n",
       "       [0., 0., 1., 1., 1., 1.],\n",
       "       [0., 0., 1., 1., 1., 1.],\n",
       "       [0., 0., 1., 1., 1., 1.],\n",
       "       [0., 0., 1., 1., 1., 1.],\n",
       "       [0., 0., 1., 1., 1., 1.],\n",
       "       [0., 0., 1., 1., 1., 1.],\n",
       "       [0., 0., 1., 1., 1., 1.]])"
      ]
     },
     "execution_count": 215,
     "metadata": {},
     "output_type": "execute_result"
    }
   ],
   "source": [
    "M3 = np.hstack((M1,M2))  # add columns in horizontal way\n",
    "M3"
   ]
  },
  {
   "cell_type": "markdown",
   "metadata": {},
   "source": [
    "## Axis\n",
    "\n",
    "### axis = 0 : vertical operation\n",
    "### axis = 1 : horizontal operation"
   ]
  },
  {
   "cell_type": "code",
   "execution_count": 220,
   "metadata": {},
   "outputs": [
    {
     "data": {
      "text/plain": [
       "array([[0., 0., 1., 1., 1., 1.],\n",
       "       [0., 0., 1., 1., 1., 1.],\n",
       "       [0., 0., 1., 1., 1., 1.],\n",
       "       [0., 0., 1., 1., 1., 1.],\n",
       "       [0., 0., 1., 1., 1., 1.],\n",
       "       [0., 0., 1., 1., 1., 1.],\n",
       "       [0., 0., 1., 1., 1., 1.],\n",
       "       [0., 0., 1., 1., 1., 1.]])"
      ]
     },
     "execution_count": 220,
     "metadata": {},
     "output_type": "execute_result"
    }
   ],
   "source": [
    "con1 = np.concatenate((M1,M2), axis = 1) # add more columns. This is a horizontal operation\n",
    "con1"
   ]
  },
  {
   "cell_type": "code",
   "execution_count": 226,
   "metadata": {},
   "outputs": [
    {
     "name": "stdout",
     "output_type": "stream",
     "text": [
      "mat5 \n",
      " [[0. 0. 0. 0. 0. 0. 0. 0.]\n",
      " [0. 0. 0. 0. 0. 0. 0. 0.]\n",
      " [1. 1. 1. 1. 1. 1. 1. 1.]\n",
      " [1. 1. 1. 1. 1. 1. 1. 1.]\n",
      " [1. 1. 1. 1. 1. 1. 1. 1.]\n",
      " [1. 1. 1. 1. 1. 1. 1. 1.]]\n"
     ]
    }
   ],
   "source": [
    "# Transpose\n",
    "mat_3 = M3.T\n",
    "print(\"mat5 \\n\" , mat_3)"
   ]
  },
  {
   "cell_type": "code",
   "execution_count": 219,
   "metadata": {},
   "outputs": [
    {
     "name": "stdout",
     "output_type": "stream",
     "text": [
      "[[2 2 3 4 5 1]\n",
      " [1 5 5 9 8 2]]\n"
     ]
    }
   ],
   "source": [
    "M4 = np.array([[2,2,3,4,5,1],[1,5,5,9,8,2]])\n",
    "print(M4)"
   ]
  },
  {
   "cell_type": "code",
   "execution_count": 222,
   "metadata": {},
   "outputs": [
    {
     "data": {
      "text/plain": [
       "array([[0., 0., 1., 1., 1., 1.],\n",
       "       [0., 0., 1., 1., 1., 1.],\n",
       "       [0., 0., 1., 1., 1., 1.],\n",
       "       [0., 0., 1., 1., 1., 1.],\n",
       "       [0., 0., 1., 1., 1., 1.],\n",
       "       [0., 0., 1., 1., 1., 1.],\n",
       "       [0., 0., 1., 1., 1., 1.],\n",
       "       [0., 0., 1., 1., 1., 1.],\n",
       "       [2., 2., 3., 4., 5., 1.],\n",
       "       [1., 5., 5., 9., 8., 2.]])"
      ]
     },
     "execution_count": 222,
     "metadata": {},
     "output_type": "execute_result"
    }
   ],
   "source": [
    "M5 = np.vstack((M3,M4))  # add columns in horizontal way\n",
    "M5"
   ]
  },
  {
   "cell_type": "code",
   "execution_count": 221,
   "metadata": {},
   "outputs": [
    {
     "data": {
      "text/plain": [
       "array([[0., 0., 1., 1., 1., 1.],\n",
       "       [0., 0., 1., 1., 1., 1.],\n",
       "       [0., 0., 1., 1., 1., 1.],\n",
       "       [0., 0., 1., 1., 1., 1.],\n",
       "       [0., 0., 1., 1., 1., 1.],\n",
       "       [0., 0., 1., 1., 1., 1.],\n",
       "       [0., 0., 1., 1., 1., 1.],\n",
       "       [0., 0., 1., 1., 1., 1.],\n",
       "       [2., 2., 3., 4., 5., 1.],\n",
       "       [1., 5., 5., 9., 8., 2.]])"
      ]
     },
     "execution_count": 221,
     "metadata": {},
     "output_type": "execute_result"
    }
   ],
   "source": [
    "con2 = np.concatenate((M3,M4), axis = 0) # add more rows. This is a vertical operation\n",
    "con2"
   ]
  },
  {
   "cell_type": "code",
   "execution_count": 225,
   "metadata": {},
   "outputs": [
    {
     "name": "stdout",
     "output_type": "stream",
     "text": [
      "mat4 \n",
      " [[0. 0. 0. 0. 0. 0. 0. 0. 2. 1.]\n",
      " [0. 0. 0. 0. 0. 0. 0. 0. 2. 5.]\n",
      " [1. 1. 1. 1. 1. 1. 1. 1. 3. 5.]\n",
      " [1. 1. 1. 1. 1. 1. 1. 1. 4. 9.]\n",
      " [1. 1. 1. 1. 1. 1. 1. 1. 5. 8.]\n",
      " [1. 1. 1. 1. 1. 1. 1. 1. 1. 2.]]\n"
     ]
    }
   ],
   "source": [
    "\n",
    "mat_5 = M5.T\n",
    "print(\"mat4 \\n\" , mat_5)"
   ]
  },
  {
   "cell_type": "markdown",
   "metadata": {},
   "source": [
    "# [Pandas](https://pandas.pydata.org/docs/user_guide/index.html)\n",
    "It helps us to store data in a 2-dimensional labeled data structure with columns of potentially different types."
   ]
  },
  {
   "cell_type": "code",
   "execution_count": 227,
   "metadata": {},
   "outputs": [
    {
     "data": {
      "text/plain": [
       "{'Students': ['Alejandro', 'Pedro', 'Ramiro', 'Axel', 'Juan'],\n",
       " 'Math': [15, 16, 10, 12, 13],\n",
       " 'English': [13, 9, 16, 14, 17],\n",
       " 'Art': [12, 16, 15, 19, 10]}"
      ]
     },
     "execution_count": 227,
     "metadata": {},
     "output_type": "execute_result"
    }
   ],
   "source": [
    "# crear lists\n",
    "students = [\"Alejandro\",\"Pedro\",\"Ramiro\",\"Axel\",\"Juan\"]\n",
    "math = [15,16,10,12,13]\n",
    "english = [13,9,16,14,17]\n",
    "art = [12,16,15,19,10]\n",
    "\n",
    "# Make a dictionary\n",
    "grades = {\"Students\": students, \"Math\":math, \"English\":english, \"Art\":art}\n",
    "grades"
   ]
  },
  {
   "cell_type": "code",
   "execution_count": 229,
   "metadata": {
    "scrolled": true
   },
   "outputs": [
    {
     "data": {
      "text/html": [
       "<div>\n",
       "<style scoped>\n",
       "    .dataframe tbody tr th:only-of-type {\n",
       "        vertical-align: middle;\n",
       "    }\n",
       "\n",
       "    .dataframe tbody tr th {\n",
       "        vertical-align: top;\n",
       "    }\n",
       "\n",
       "    .dataframe thead th {\n",
       "        text-align: right;\n",
       "    }\n",
       "</style>\n",
       "<table border=\"1\" class=\"dataframe\">\n",
       "  <thead>\n",
       "    <tr style=\"text-align: right;\">\n",
       "      <th></th>\n",
       "      <th>Students</th>\n",
       "      <th>Math</th>\n",
       "      <th>English</th>\n",
       "      <th>Art</th>\n",
       "    </tr>\n",
       "  </thead>\n",
       "  <tbody>\n",
       "    <tr>\n",
       "      <th>0</th>\n",
       "      <td>Alejandro</td>\n",
       "      <td>15</td>\n",
       "      <td>13</td>\n",
       "      <td>12</td>\n",
       "    </tr>\n",
       "    <tr>\n",
       "      <th>1</th>\n",
       "      <td>Pedro</td>\n",
       "      <td>16</td>\n",
       "      <td>9</td>\n",
       "      <td>16</td>\n",
       "    </tr>\n",
       "    <tr>\n",
       "      <th>2</th>\n",
       "      <td>Ramiro</td>\n",
       "      <td>10</td>\n",
       "      <td>16</td>\n",
       "      <td>15</td>\n",
       "    </tr>\n",
       "    <tr>\n",
       "      <th>3</th>\n",
       "      <td>Axel</td>\n",
       "      <td>12</td>\n",
       "      <td>14</td>\n",
       "      <td>19</td>\n",
       "    </tr>\n",
       "    <tr>\n",
       "      <th>4</th>\n",
       "      <td>Juan</td>\n",
       "      <td>13</td>\n",
       "      <td>17</td>\n",
       "      <td>10</td>\n",
       "    </tr>\n",
       "  </tbody>\n",
       "</table>\n",
       "</div>"
      ],
      "text/plain": [
       "    Students  Math  English  Art\n",
       "0  Alejandro    15       13   12\n",
       "1      Pedro    16        9   16\n",
       "2     Ramiro    10       16   15\n",
       "3       Axel    12       14   19\n",
       "4       Juan    13       17   10"
      ]
     },
     "execution_count": 229,
     "metadata": {},
     "output_type": "execute_result"
    }
   ],
   "source": [
    "data1 = pd.DataFrame(grades)\n",
    "data1"
   ]
  },
  {
   "cell_type": "code",
   "execution_count": 231,
   "metadata": {},
   "outputs": [
    {
     "data": {
      "text/html": [
       "<div>\n",
       "<style scoped>\n",
       "    .dataframe tbody tr th:only-of-type {\n",
       "        vertical-align: middle;\n",
       "    }\n",
       "\n",
       "    .dataframe tbody tr th {\n",
       "        vertical-align: top;\n",
       "    }\n",
       "\n",
       "    .dataframe thead th {\n",
       "        text-align: right;\n",
       "    }\n",
       "</style>\n",
       "<table border=\"1\" class=\"dataframe\">\n",
       "  <thead>\n",
       "    <tr style=\"text-align: right;\">\n",
       "      <th></th>\n",
       "      <th>st</th>\n",
       "      <th>ma</th>\n",
       "      <th>en</th>\n",
       "      <th>ar</th>\n",
       "    </tr>\n",
       "  </thead>\n",
       "  <tbody>\n",
       "    <tr>\n",
       "      <th>0</th>\n",
       "      <td>Alejandro</td>\n",
       "      <td>15</td>\n",
       "      <td>13</td>\n",
       "      <td>12</td>\n",
       "    </tr>\n",
       "    <tr>\n",
       "      <th>1</th>\n",
       "      <td>Pedro</td>\n",
       "      <td>16</td>\n",
       "      <td>9</td>\n",
       "      <td>16</td>\n",
       "    </tr>\n",
       "    <tr>\n",
       "      <th>2</th>\n",
       "      <td>Ramiro</td>\n",
       "      <td>10</td>\n",
       "      <td>16</td>\n",
       "      <td>15</td>\n",
       "    </tr>\n",
       "    <tr>\n",
       "      <th>3</th>\n",
       "      <td>Axel</td>\n",
       "      <td>12</td>\n",
       "      <td>14</td>\n",
       "      <td>19</td>\n",
       "    </tr>\n",
       "    <tr>\n",
       "      <th>4</th>\n",
       "      <td>Juan</td>\n",
       "      <td>13</td>\n",
       "      <td>17</td>\n",
       "      <td>10</td>\n",
       "    </tr>\n",
       "  </tbody>\n",
       "</table>\n",
       "</div>"
      ],
      "text/plain": [
       "          st  ma  en  ar\n",
       "0  Alejandro  15  13  12\n",
       "1      Pedro  16   9  16\n",
       "2     Ramiro  10  16  15\n",
       "3       Axel  12  14  19\n",
       "4       Juan  13  17  10"
      ]
     },
     "execution_count": 231,
     "metadata": {},
     "output_type": "execute_result"
    }
   ],
   "source": [
    "# Change columns names\n",
    "dic1 = { \"Students\":'St', \"Math\":'Ma', \"English\":'En', \"Art\":'Ar'} # dictionary\n",
    "data1.rename( columns = dic1)"
   ]
  },
  {
   "cell_type": "code",
   "execution_count": 239,
   "metadata": {},
   "outputs": [
    {
     "data": {
      "text/html": [
       "<div>\n",
       "<style scoped>\n",
       "    .dataframe tbody tr th:only-of-type {\n",
       "        vertical-align: middle;\n",
       "    }\n",
       "\n",
       "    .dataframe tbody tr th {\n",
       "        vertical-align: top;\n",
       "    }\n",
       "\n",
       "    .dataframe thead th {\n",
       "        text-align: right;\n",
       "    }\n",
       "</style>\n",
       "<table border=\"1\" class=\"dataframe\">\n",
       "  <thead>\n",
       "    <tr style=\"text-align: right;\">\n",
       "      <th></th>\n",
       "      <th>St</th>\n",
       "      <th>Ma</th>\n",
       "      <th>En</th>\n",
       "      <th>Ar</th>\n",
       "    </tr>\n",
       "  </thead>\n",
       "  <tbody>\n",
       "    <tr>\n",
       "      <th>0</th>\n",
       "      <td>Alejandro</td>\n",
       "      <td>15</td>\n",
       "      <td>13</td>\n",
       "      <td>12</td>\n",
       "    </tr>\n",
       "    <tr>\n",
       "      <th>1</th>\n",
       "      <td>Pedro</td>\n",
       "      <td>16</td>\n",
       "      <td>9</td>\n",
       "      <td>16</td>\n",
       "    </tr>\n",
       "    <tr>\n",
       "      <th>2</th>\n",
       "      <td>Ramiro</td>\n",
       "      <td>10</td>\n",
       "      <td>16</td>\n",
       "      <td>15</td>\n",
       "    </tr>\n",
       "    <tr>\n",
       "      <th>3</th>\n",
       "      <td>Axel</td>\n",
       "      <td>12</td>\n",
       "      <td>14</td>\n",
       "      <td>19</td>\n",
       "    </tr>\n",
       "    <tr>\n",
       "      <th>4</th>\n",
       "      <td>Juan</td>\n",
       "      <td>13</td>\n",
       "      <td>17</td>\n",
       "      <td>10</td>\n",
       "    </tr>\n",
       "  </tbody>\n",
       "</table>\n",
       "</div>"
      ],
      "text/plain": [
       "          St  Ma  En  Ar\n",
       "0  Alejandro  15  13  12\n",
       "1      Pedro  16   9  16\n",
       "2     Ramiro  10  16  15\n",
       "3       Axel  12  14  19\n",
       "4       Juan  13  17  10"
      ]
     },
     "execution_count": 239,
     "metadata": {},
     "output_type": "execute_result"
    }
   ],
   "source": [
    "data1.rename( columns = { \"Students\":'St', \"Math\":'Ma', \"English\":'En', \"Art\":'Ar'}  )"
   ]
  },
  {
   "cell_type": "code",
   "execution_count": 258,
   "metadata": {},
   "outputs": [],
   "source": [
    "# Add column and index row name\n",
    "data = {'state': ['Lima', 'Piura', 'Tumbes', 'Cuzco', 'Ica', 'Puno'],\n",
    "        'year': [2000, 2001, 2002, 2001, 2002, 2003],\n",
    "        'pop': [1.5, 1.7, 3.6, 2.4, 2.9, 3.2]}"
   ]
  },
  {
   "cell_type": "code",
   "execution_count": 259,
   "metadata": {},
   "outputs": [
    {
     "data": {
      "text/html": [
       "<div>\n",
       "<style scoped>\n",
       "    .dataframe tbody tr th:only-of-type {\n",
       "        vertical-align: middle;\n",
       "    }\n",
       "\n",
       "    .dataframe tbody tr th {\n",
       "        vertical-align: top;\n",
       "    }\n",
       "\n",
       "    .dataframe thead th {\n",
       "        text-align: right;\n",
       "    }\n",
       "</style>\n",
       "<table border=\"1\" class=\"dataframe\">\n",
       "  <thead>\n",
       "    <tr style=\"text-align: right;\">\n",
       "      <th></th>\n",
       "      <th>year</th>\n",
       "      <th>state</th>\n",
       "      <th>pop</th>\n",
       "      <th>debt</th>\n",
       "    </tr>\n",
       "  </thead>\n",
       "  <tbody>\n",
       "    <tr>\n",
       "      <th>one</th>\n",
       "      <td>2000</td>\n",
       "      <td>Lima</td>\n",
       "      <td>1.5</td>\n",
       "      <td>NaN</td>\n",
       "    </tr>\n",
       "    <tr>\n",
       "      <th>two</th>\n",
       "      <td>2001</td>\n",
       "      <td>Piura</td>\n",
       "      <td>1.7</td>\n",
       "      <td>NaN</td>\n",
       "    </tr>\n",
       "    <tr>\n",
       "      <th>three</th>\n",
       "      <td>2002</td>\n",
       "      <td>Tumbes</td>\n",
       "      <td>3.6</td>\n",
       "      <td>NaN</td>\n",
       "    </tr>\n",
       "    <tr>\n",
       "      <th>four</th>\n",
       "      <td>2001</td>\n",
       "      <td>Cuzco</td>\n",
       "      <td>2.4</td>\n",
       "      <td>NaN</td>\n",
       "    </tr>\n",
       "    <tr>\n",
       "      <th>five</th>\n",
       "      <td>2002</td>\n",
       "      <td>Ica</td>\n",
       "      <td>2.9</td>\n",
       "      <td>NaN</td>\n",
       "    </tr>\n",
       "    <tr>\n",
       "      <th>nuevo</th>\n",
       "      <td>2003</td>\n",
       "      <td>Puno</td>\n",
       "      <td>3.2</td>\n",
       "      <td>NaN</td>\n",
       "    </tr>\n",
       "  </tbody>\n",
       "</table>\n",
       "</div>"
      ],
      "text/plain": [
       "       year   state  pop debt\n",
       "one    2000    Lima  1.5  NaN\n",
       "two    2001   Piura  1.7  NaN\n",
       "three  2002  Tumbes  3.6  NaN\n",
       "four   2001   Cuzco  2.4  NaN\n",
       "five   2002     Ica  2.9  NaN\n",
       "nuevo  2003    Puno  3.2  NaN"
      ]
     },
     "execution_count": 259,
     "metadata": {},
     "output_type": "execute_result"
    }
   ],
   "source": [
    "frame = pd.DataFrame(data, \n",
    "                      columns=[\"year\", 'state', 'pop', 'debt'] ,\n",
    "                      index=['one', 'two', 'three', 'four','five', 'nuevo'] )\n",
    "\n",
    "frame"
   ]
  },
  {
   "cell_type": "code",
   "execution_count": 260,
   "metadata": {},
   "outputs": [
    {
     "data": {
      "text/html": [
       "<div>\n",
       "<style scoped>\n",
       "    .dataframe tbody tr th:only-of-type {\n",
       "        vertical-align: middle;\n",
       "    }\n",
       "\n",
       "    .dataframe tbody tr th {\n",
       "        vertical-align: top;\n",
       "    }\n",
       "\n",
       "    .dataframe thead th {\n",
       "        text-align: right;\n",
       "    }\n",
       "</style>\n",
       "<table border=\"1\" class=\"dataframe\">\n",
       "  <thead>\n",
       "    <tr style=\"text-align: right;\">\n",
       "      <th></th>\n",
       "      <th>year</th>\n",
       "      <th>state</th>\n",
       "      <th>pop</th>\n",
       "      <th>debt</th>\n",
       "      <th>nuevo</th>\n",
       "    </tr>\n",
       "  </thead>\n",
       "  <tbody>\n",
       "    <tr>\n",
       "      <th>one</th>\n",
       "      <td>2000</td>\n",
       "      <td>Lima</td>\n",
       "      <td>1.5</td>\n",
       "      <td>1</td>\n",
       "      <td>1</td>\n",
       "    </tr>\n",
       "    <tr>\n",
       "      <th>two</th>\n",
       "      <td>2001</td>\n",
       "      <td>Piura</td>\n",
       "      <td>1.7</td>\n",
       "      <td>3</td>\n",
       "      <td>1</td>\n",
       "    </tr>\n",
       "    <tr>\n",
       "      <th>three</th>\n",
       "      <td>2002</td>\n",
       "      <td>Tumbes</td>\n",
       "      <td>3.6</td>\n",
       "      <td>5</td>\n",
       "      <td>1</td>\n",
       "    </tr>\n",
       "    <tr>\n",
       "      <th>four</th>\n",
       "      <td>2001</td>\n",
       "      <td>Cuzco</td>\n",
       "      <td>2.4</td>\n",
       "      <td>7</td>\n",
       "      <td>1</td>\n",
       "    </tr>\n",
       "    <tr>\n",
       "      <th>five</th>\n",
       "      <td>2002</td>\n",
       "      <td>Ica</td>\n",
       "      <td>2.9</td>\n",
       "      <td>9</td>\n",
       "      <td>1</td>\n",
       "    </tr>\n",
       "    <tr>\n",
       "      <th>nuevo</th>\n",
       "      <td>2003</td>\n",
       "      <td>Puno</td>\n",
       "      <td>3.2</td>\n",
       "      <td>11</td>\n",
       "      <td>1</td>\n",
       "    </tr>\n",
       "  </tbody>\n",
       "</table>\n",
       "</div>"
      ],
      "text/plain": [
       "       year   state  pop  debt  nuevo\n",
       "one    2000    Lima  1.5     1      1\n",
       "two    2001   Piura  1.7     3      1\n",
       "three  2002  Tumbes  3.6     5      1\n",
       "four   2001   Cuzco  2.4     7      1\n",
       "five   2002     Ica  2.9     9      1\n",
       "nuevo  2003    Puno  3.2    11      1"
      ]
     },
     "execution_count": 260,
     "metadata": {},
     "output_type": "execute_result"
    }
   ],
   "source": [
    "# Add column\n",
    "frame[\"debt\"] = np.arange(1,12,2)\n",
    "frame[\"nuevo\"] = 1\n",
    "frame"
   ]
  },
  {
   "cell_type": "code",
   "execution_count": 261,
   "metadata": {},
   "outputs": [
    {
     "data": {
      "text/html": [
       "<div>\n",
       "<style scoped>\n",
       "    .dataframe tbody tr th:only-of-type {\n",
       "        vertical-align: middle;\n",
       "    }\n",
       "\n",
       "    .dataframe tbody tr th {\n",
       "        vertical-align: top;\n",
       "    }\n",
       "\n",
       "    .dataframe thead th {\n",
       "        text-align: right;\n",
       "    }\n",
       "</style>\n",
       "<table border=\"1\" class=\"dataframe\">\n",
       "  <thead>\n",
       "    <tr style=\"text-align: right;\">\n",
       "      <th></th>\n",
       "      <th>year</th>\n",
       "      <th>state</th>\n",
       "      <th>pop</th>\n",
       "      <th>debt</th>\n",
       "    </tr>\n",
       "  </thead>\n",
       "  <tbody>\n",
       "    <tr>\n",
       "      <th>one</th>\n",
       "      <td>2000</td>\n",
       "      <td>Lima</td>\n",
       "      <td>1.5</td>\n",
       "      <td>1</td>\n",
       "    </tr>\n",
       "    <tr>\n",
       "      <th>two</th>\n",
       "      <td>2001</td>\n",
       "      <td>Piura</td>\n",
       "      <td>1.7</td>\n",
       "      <td>3</td>\n",
       "    </tr>\n",
       "    <tr>\n",
       "      <th>three</th>\n",
       "      <td>2002</td>\n",
       "      <td>Tumbes</td>\n",
       "      <td>3.6</td>\n",
       "      <td>5</td>\n",
       "    </tr>\n",
       "    <tr>\n",
       "      <th>four</th>\n",
       "      <td>2001</td>\n",
       "      <td>Cuzco</td>\n",
       "      <td>2.4</td>\n",
       "      <td>7</td>\n",
       "    </tr>\n",
       "    <tr>\n",
       "      <th>five</th>\n",
       "      <td>2002</td>\n",
       "      <td>Ica</td>\n",
       "      <td>2.9</td>\n",
       "      <td>9</td>\n",
       "    </tr>\n",
       "    <tr>\n",
       "      <th>nuevo</th>\n",
       "      <td>2003</td>\n",
       "      <td>Puno</td>\n",
       "      <td>3.2</td>\n",
       "      <td>11</td>\n",
       "    </tr>\n",
       "  </tbody>\n",
       "</table>\n",
       "</div>"
      ],
      "text/plain": [
       "       year   state  pop  debt\n",
       "one    2000    Lima  1.5     1\n",
       "two    2001   Piura  1.7     3\n",
       "three  2002  Tumbes  3.6     5\n",
       "four   2001   Cuzco  2.4     7\n",
       "five   2002     Ica  2.9     9\n",
       "nuevo  2003    Puno  3.2    11"
      ]
     },
     "execution_count": 261,
     "metadata": {},
     "output_type": "execute_result"
    }
   ],
   "source": [
    "frame = frame.drop(\"nuevo\", axis = 1)\n",
    "frame"
   ]
  },
  {
   "cell_type": "code",
   "execution_count": null,
   "metadata": {},
   "outputs": [],
   "source": []
  },
  {
   "cell_type": "code",
   "execution_count": null,
   "metadata": {},
   "outputs": [],
   "source": []
  }
 ],
 "metadata": {
  "kernelspec": {
   "display_name": "Python 3",
   "language": "python",
   "name": "python3"
  },
  "language_info": {
   "codemirror_mode": {
    "name": "ipython",
    "version": 3
   },
   "file_extension": ".py",
   "mimetype": "text/x-python",
   "name": "python",
   "nbconvert_exporter": "python",
   "pygments_lexer": "ipython3",
   "version": "3.8.3"
  }
 },
 "nbformat": 4,
 "nbformat_minor": 4
}
